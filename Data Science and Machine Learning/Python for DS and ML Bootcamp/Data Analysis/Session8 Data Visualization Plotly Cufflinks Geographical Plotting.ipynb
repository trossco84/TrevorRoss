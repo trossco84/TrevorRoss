{
 "cells": [
  {
   "cell_type": "code",
   "execution_count": 1,
   "metadata": {},
   "outputs": [],
   "source": [
    "#plotly is interactive open source visualization library\n",
    "#cufflinks connects plotly to pandas\n",
    "import pandas as pd\n",
    "import numpy as np\n",
    "from plotly import __version__"
   ]
  },
  {
   "cell_type": "code",
   "execution_count": 2,
   "metadata": {},
   "outputs": [
    {
     "name": "stdout",
     "output_type": "stream",
     "text": [
      "4.4.1\n"
     ]
    }
   ],
   "source": [
    "print(__version__)"
   ]
  },
  {
   "cell_type": "code",
   "execution_count": 4,
   "metadata": {},
   "outputs": [],
   "source": [
    "import cufflinks as cf\n"
   ]
  },
  {
   "cell_type": "code",
   "execution_count": 5,
   "metadata": {},
   "outputs": [],
   "source": [
    "from plotly.offline import download_plotlyjs,init_notebook_mode,plot,iplot"
   ]
  },
  {
   "cell_type": "code",
   "execution_count": 6,
   "metadata": {},
   "outputs": [
    {
     "data": {
      "text/html": [
       "        <script type=\"text/javascript\">\n",
       "        window.PlotlyConfig = {MathJaxConfig: 'local'};\n",
       "        if (window.MathJax) {MathJax.Hub.Config({SVG: {font: \"STIX-Web\"}});}\n",
       "        if (typeof require !== 'undefined') {\n",
       "        require.undef(\"plotly\");\n",
       "        requirejs.config({\n",
       "            paths: {\n",
       "                'plotly': ['https://cdn.plot.ly/plotly-latest.min']\n",
       "            }\n",
       "        });\n",
       "        require(['plotly'], function(Plotly) {\n",
       "            window._Plotly = Plotly;\n",
       "        });\n",
       "        }\n",
       "        </script>\n",
       "        "
      ]
     },
     "metadata": {},
     "output_type": "display_data"
    }
   ],
   "source": [
    "init_notebook_mode(connected=True)"
   ]
  },
  {
   "cell_type": "code",
   "execution_count": 7,
   "metadata": {},
   "outputs": [
    {
     "data": {
      "text/html": [
       "        <script type=\"text/javascript\">\n",
       "        window.PlotlyConfig = {MathJaxConfig: 'local'};\n",
       "        if (window.MathJax) {MathJax.Hub.Config({SVG: {font: \"STIX-Web\"}});}\n",
       "        if (typeof require !== 'undefined') {\n",
       "        require.undef(\"plotly\");\n",
       "        requirejs.config({\n",
       "            paths: {\n",
       "                'plotly': ['https://cdn.plot.ly/plotly-latest.min']\n",
       "            }\n",
       "        });\n",
       "        require(['plotly'], function(Plotly) {\n",
       "            window._Plotly = Plotly;\n",
       "        });\n",
       "        }\n",
       "        </script>\n",
       "        "
      ]
     },
     "metadata": {},
     "output_type": "display_data"
    }
   ],
   "source": [
    "cf.go_offline()"
   ]
  },
  {
   "cell_type": "code",
   "execution_count": 45,
   "metadata": {},
   "outputs": [],
   "source": [
    "df = pd.DataFrame(np.random.randn(100,4),columns='A B C D'.split())"
   ]
  },
  {
   "cell_type": "code",
   "execution_count": 10,
   "metadata": {},
   "outputs": [],
   "source": [
    "df2 = pd.DataFrame({'Category':['A','B','C'],'Values':[32,43,50]})"
   ]
  },
  {
   "cell_type": "code",
   "execution_count": 11,
   "metadata": {},
   "outputs": [
    {
     "data": {
      "text/html": [
       "<div>\n",
       "<style scoped>\n",
       "    .dataframe tbody tr th:only-of-type {\n",
       "        vertical-align: middle;\n",
       "    }\n",
       "\n",
       "    .dataframe tbody tr th {\n",
       "        vertical-align: top;\n",
       "    }\n",
       "\n",
       "    .dataframe thead th {\n",
       "        text-align: right;\n",
       "    }\n",
       "</style>\n",
       "<table border=\"1\" class=\"dataframe\">\n",
       "  <thead>\n",
       "    <tr style=\"text-align: right;\">\n",
       "      <th></th>\n",
       "      <th>Category</th>\n",
       "      <th>Values</th>\n",
       "    </tr>\n",
       "  </thead>\n",
       "  <tbody>\n",
       "    <tr>\n",
       "      <td>0</td>\n",
       "      <td>A</td>\n",
       "      <td>32</td>\n",
       "    </tr>\n",
       "    <tr>\n",
       "      <td>1</td>\n",
       "      <td>B</td>\n",
       "      <td>43</td>\n",
       "    </tr>\n",
       "    <tr>\n",
       "      <td>2</td>\n",
       "      <td>C</td>\n",
       "      <td>50</td>\n",
       "    </tr>\n",
       "  </tbody>\n",
       "</table>\n",
       "</div>"
      ],
      "text/plain": [
       "  Category  Values\n",
       "0        A      32\n",
       "1        B      43\n",
       "2        C      50"
      ]
     },
     "execution_count": 11,
     "metadata": {},
     "output_type": "execute_result"
    }
   ],
   "source": [
    "df2"
   ]
  },
  {
   "cell_type": "code",
   "execution_count": 12,
   "metadata": {},
   "outputs": [
    {
     "data": {
      "text/html": [
       "<div>\n",
       "<style scoped>\n",
       "    .dataframe tbody tr th:only-of-type {\n",
       "        vertical-align: middle;\n",
       "    }\n",
       "\n",
       "    .dataframe tbody tr th {\n",
       "        vertical-align: top;\n",
       "    }\n",
       "\n",
       "    .dataframe thead th {\n",
       "        text-align: right;\n",
       "    }\n",
       "</style>\n",
       "<table border=\"1\" class=\"dataframe\">\n",
       "  <thead>\n",
       "    <tr style=\"text-align: right;\">\n",
       "      <th></th>\n",
       "      <th>A</th>\n",
       "      <th>B</th>\n",
       "      <th>C</th>\n",
       "      <th>D</th>\n",
       "    </tr>\n",
       "  </thead>\n",
       "  <tbody>\n",
       "    <tr>\n",
       "      <td>0</td>\n",
       "      <td>-2.227310</td>\n",
       "      <td>0.904371</td>\n",
       "      <td>-0.319948</td>\n",
       "      <td>-1.919197</td>\n",
       "    </tr>\n",
       "    <tr>\n",
       "      <td>1</td>\n",
       "      <td>-0.563109</td>\n",
       "      <td>1.343603</td>\n",
       "      <td>-1.114752</td>\n",
       "      <td>0.805715</td>\n",
       "    </tr>\n",
       "    <tr>\n",
       "      <td>2</td>\n",
       "      <td>-1.096813</td>\n",
       "      <td>-1.675104</td>\n",
       "      <td>0.094209</td>\n",
       "      <td>2.599389</td>\n",
       "    </tr>\n",
       "    <tr>\n",
       "      <td>3</td>\n",
       "      <td>0.777621</td>\n",
       "      <td>0.338738</td>\n",
       "      <td>-0.443928</td>\n",
       "      <td>1.084086</td>\n",
       "    </tr>\n",
       "    <tr>\n",
       "      <td>4</td>\n",
       "      <td>-0.174646</td>\n",
       "      <td>-0.881658</td>\n",
       "      <td>0.272079</td>\n",
       "      <td>-0.817237</td>\n",
       "    </tr>\n",
       "    <tr>\n",
       "      <td>...</td>\n",
       "      <td>...</td>\n",
       "      <td>...</td>\n",
       "      <td>...</td>\n",
       "      <td>...</td>\n",
       "    </tr>\n",
       "    <tr>\n",
       "      <td>95</td>\n",
       "      <td>0.459999</td>\n",
       "      <td>-1.500694</td>\n",
       "      <td>-0.129588</td>\n",
       "      <td>0.910326</td>\n",
       "    </tr>\n",
       "    <tr>\n",
       "      <td>96</td>\n",
       "      <td>-0.374751</td>\n",
       "      <td>1.185094</td>\n",
       "      <td>1.561184</td>\n",
       "      <td>1.956559</td>\n",
       "    </tr>\n",
       "    <tr>\n",
       "      <td>97</td>\n",
       "      <td>1.231552</td>\n",
       "      <td>1.371650</td>\n",
       "      <td>-0.379482</td>\n",
       "      <td>-2.401104</td>\n",
       "    </tr>\n",
       "    <tr>\n",
       "      <td>98</td>\n",
       "      <td>-0.979746</td>\n",
       "      <td>-0.466094</td>\n",
       "      <td>-0.019404</td>\n",
       "      <td>0.121176</td>\n",
       "    </tr>\n",
       "    <tr>\n",
       "      <td>99</td>\n",
       "      <td>1.287602</td>\n",
       "      <td>-1.309941</td>\n",
       "      <td>0.669857</td>\n",
       "      <td>-1.438270</td>\n",
       "    </tr>\n",
       "  </tbody>\n",
       "</table>\n",
       "<p>100 rows × 4 columns</p>\n",
       "</div>"
      ],
      "text/plain": [
       "           A         B         C         D\n",
       "0  -2.227310  0.904371 -0.319948 -1.919197\n",
       "1  -0.563109  1.343603 -1.114752  0.805715\n",
       "2  -1.096813 -1.675104  0.094209  2.599389\n",
       "3   0.777621  0.338738 -0.443928  1.084086\n",
       "4  -0.174646 -0.881658  0.272079 -0.817237\n",
       "..       ...       ...       ...       ...\n",
       "95  0.459999 -1.500694 -0.129588  0.910326\n",
       "96 -0.374751  1.185094  1.561184  1.956559\n",
       "97  1.231552  1.371650 -0.379482 -2.401104\n",
       "98 -0.979746 -0.466094 -0.019404  0.121176\n",
       "99  1.287602 -1.309941  0.669857 -1.438270\n",
       "\n",
       "[100 rows x 4 columns]"
      ]
     },
     "execution_count": 12,
     "metadata": {},
     "output_type": "execute_result"
    }
   ],
   "source": [
    "df"
   ]
  },
  {
   "cell_type": "code",
   "execution_count": 13,
   "metadata": {},
   "outputs": [],
   "source": [
    "%matplotlib inline"
   ]
  },
  {
   "cell_type": "code",
   "execution_count": 14,
   "metadata": {},
   "outputs": [
    {
     "data": {
      "text/plain": [
       "<matplotlib.axes._subplots.AxesSubplot at 0x1c1faa6650>"
      ]
     },
     "execution_count": 14,
     "metadata": {},
     "output_type": "execute_result"
    },
    {
     "data": {
      "image/png": "[encoded data removed]",
      "text/plain": [
       "<Figure size 432x288 with 1 Axes>"
      ]
     },
     "metadata": {
      "needs_background": "light"
     },
     "output_type": "display_data"
    }
   ],
   "source": [
    "df.plot()"
   ]
  },
  {
   "cell_type": "code",
   "execution_count": 15,
   "metadata": {},
   "outputs": [
    {
     "data": {
      "application/vnd.plotly.v1+json": {
       "config": {
        "linkText": "Export to plot.ly",
        "plotlyServerURL": "https://plot.ly",
        "showLink": true
       },
       "data": [
        {
         "line": {
          "color": "rgba(255, 153, 51, 1.0)",
          "dash": "solid",
          "shape": "linear",
          "width": 1.3
         },
         "mode": "lines",
         "name": "A",
         "text": "",
         "type": "scatter",
         "x": [
          0,
          1,
          2,
          3,
          4,
          5,
          6,
          7,
          8,
          9,
          10,
          11,
          12,
          13,
          14,
          15,
          16,
          17,
          18,
          19,
          20,
          21,
          22,
          23,
          24,
          25,
          26,
          27,
          28,
          29,
          30,
          31,
          32,
          33,
          34,
          35,
          36,
          37,
          38,
          39,
          40,
          41,
          42,
          43,
          44,
          45,
          46,
          47,
          48,
          49,
          50,
          51,
          52,
          53,
          54,
          55,
          56,
          57,
          58,
          59,
          60,
          61,
          62,
          63,
          64,
          65,
          66,
          67,
          68,
          69,
          70,
          71,
          72,
          73,
          74,
          75,
          76,
          77,
          78,
          79,
          80,
          81,
          82,
          83,
          84,
          85,
          86,
          87,
          88,
          89,
          90,
          91,
          92,
          93,
          94,
          95,
          96,
          97,
          98,
          99
         ],
         "y": [
          -2.22730975487397,
          -0.5631088680558595,
          -1.096813421072463,
          0.7776205396385625,
          -0.1746463353259903,
          0.3337465451256331,
          -0.22897788899722962,
          -1.6231470277399513,
          0.4314232081733444,
          0.6087774981436374,
          0.6532089544051536,
          0.2305117599532342,
          -0.5411564196238529,
          0.8439914549924954,
          -2.0916013036086567,
          -1.662078336488449,
          -0.32543729134850014,
          0.29824962167806157,
          -0.6980798997625995,
          -1.019787315369518,
          0.9572458365796579,
          0.9988629965772159,
          -1.1284538233162278,
          -0.19827130288135922,
          0.705443439167345,
          0.019762068277110394,
          0.3871897341300344,
          -0.9896492769418976,
          -0.19000203749777425,
          0.805780167610212,
          -0.015579478376413077,
          -0.9327642149249064,
          1.1030851259614476,
          -1.4615649186091488,
          1.1910966452002674,
          1.2020822117973626,
          -0.9236357460382656,
          1.467120146648933,
          0.6842087162635787,
          -0.18825617620140528,
          1.3770709936148462,
          5.008385684764456e-05,
          -0.9704276330639248,
          -1.42229613425193,
          0.14160610886984462,
          0.3427554036620041,
          -0.08990208655324586,
          1.3453423306313845,
          -1.0377535379195855,
          0.8872938889127332,
          0.972796762360093,
          0.5254574431494227,
          -0.9856616109059382,
          -1.3077990867768847,
          -0.20844874892317272,
          0.2989183337534506,
          -1.5616718800201546,
          -0.0019323778924743222,
          0.20940113665143797,
          0.0029624530881309304,
          0.984144258387087,
          0.2475618531391336,
          -0.23699262229757284,
          -2.687279401943814,
          0.8446810172242765,
          -0.8880299894551736,
          0.7042839160755405,
          -0.5371513002818218,
          0.4775543768493773,
          -0.48125734603161674,
          0.1526309703289612,
          0.4644064404748271,
          -0.27086500539226804,
          -0.8209590996270908,
          0.8101224210185378,
          -0.19515477954428107,
          -0.22282797179954303,
          1.6666123096212775,
          0.01936417809362544,
          -2.079755223104781,
          0.592156902996088,
          2.824887493921544,
          1.0702737803297262,
          -0.9900307377950344,
          0.7033005437740754,
          1.1236191123888546,
          2.7894422607871796,
          -0.5154353735216163,
          0.035693159462402105,
          -0.8396511467292964,
          -0.06758949413797499,
          -0.7144381275751631,
          -0.4574377310876855,
          0.7083108180760775,
          0.4904445286575012,
          0.4599990819826413,
          -0.37475060080209466,
          1.231552043935495,
          -0.9797458481615703,
          1.2876018144942427
         ]
        },
        {
         "line": {
          "color": "rgba(55, 128, 191, 1.0)",
          "dash": "solid",
          "shape": "linear",
          "width": 1.3
         },
         "mode": "lines",
         "name": "B",
         "text": "",
         "type": "scatter",
         "x": [
          0,
          1,
          2,
          3,
          4,
          5,
          6,
          7,
          8,
          9,
          10,
          11,
          12,
          13,
          14,
          15,
          16,
          17,
          18,
          19,
          20,
          21,
          22,
          23,
          24,
          25,
          26,
          27,
          28,
          29,
          30,
          31,
          32,
          33,
          34,
          35,
          36,
          37,
          38,
          39,
          40,
          41,
          42,
          43,
          44,
          45,
          46,
          47,
          48,
          49,
          50,
          51,
          52,
          53,
          54,
          55,
          56,
          57,
          58,
          59,
          60,
          61,
          62,
          63,
          64,
          65,
          66,
          67,
          68,
          69,
          70,
          71,
          72,
          73,
          74,
          75,
          76,
          77,
          78,
          79,
          80,
          81,
          82,
          83,
          84,
          85,
          86,
          87,
          88,
          89,
          90,
          91,
          92,
          93,
          94,
          95,
          96,
          97,
          98,
          99
         ],
         "y": [
          0.9043707587253097,
          1.3436027632821108,
          -1.6751042617936567,
          0.3387377391458157,
          -0.881658387694221,
          -0.7962396282496969,
          -0.2067570773983989,
          -0.2359199741416241,
          -0.8705716186554082,
          -1.4008861407199682,
          0.1232404600970688,
          1.992250522578355,
          -1.0829738162466171,
          0.3459640802743093,
          -0.7320311229180546,
          0.8667190810610911,
          -0.45169491002989454,
          1.8509140495324818,
          -0.1607612316493394,
          0.7678750875088479,
          -1.5681420236965922,
          0.6551997697753668,
          -1.0219136628918817,
          -0.6670704709834635,
          1.4132130035526702,
          -1.636303296014824,
          -1.4467840239362824,
          0.6120696948395167,
          0.5256754216674434,
          -0.6490633308025651,
          -1.7493411237006207,
          -2.2317844881829254,
          -0.4498425724676211,
          -2.179507267801821,
          0.3042365004878486,
          -0.3996537898866624,
          -0.6344723242247944,
          -1.511158111404823,
          1.8606442592214745,
          -0.9221702308510948,
          -1.357878073024533,
          1.0419539337393482,
          -0.39701074963568916,
          -0.009885907719007207,
          0.25199718187257747,
          0.08252493293273659,
          -0.8813288118498757,
          1.2395588902521115,
          0.8192946434014031,
          1.02410077603876,
          2.487820883132203,
          0.3245699415077309,
          -0.3009017101627565,
          -0.765305827485693,
          -0.578496599093978,
          2.16253861959754,
          -0.4223635336834874,
          -1.651750273096774,
          -0.4351400773787977,
          1.8211188584162035,
          0.24664276360730764,
          -0.5937698100161986,
          0.3104386616656303,
          -0.28442291050687013,
          0.6710482751707388,
          -1.0066114116777134,
          -1.2458588210133685,
          -1.0812131138354293,
          0.23322139251366578,
          1.8498665453820595,
          0.46155215141225886,
          -0.8785935220443518,
          0.7419068920050634,
          -0.4406887542644273,
          -0.6015970351044174,
          0.7770402118751695,
          -0.8444766189568531,
          0.21632539676143964,
          0.9500585337542808,
          -0.09870495920870319,
          -1.1301856809698991,
          -1.0349727534691304,
          -1.167898971150679,
          -0.5035843483278787,
          0.04102270577078194,
          -0.20074632934257497,
          -0.33106116501995453,
          -1.7190172294426014,
          -0.4064481174920905,
          0.8176825360210126,
          -0.3504469481027733,
          -0.314470755208347,
          -0.13555527973364587,
          -0.26324493873654636,
          0.2710824187797052,
          -1.5006937200849786,
          1.1850943346761778,
          1.3716499527545902,
          -0.46609424933897065,
          -1.309941218579945
         ]
        },
        {
         "line": {
          "color": "rgba(50, 171, 96, 1.0)",
          "dash": "solid",
          "shape": "linear",
          "width": 1.3
         },
         "mode": "lines",
         "name": "C",
         "text": "",
         "type": "scatter",
         "x": [
          0,
          1,
          2,
          3,
          4,
          5,
          6,
          7,
          8,
          9,
          10,
          11,
          12,
          13,
          14,
          15,
          16,
          17,
          18,
          19,
          20,
          21,
          22,
          23,
          24,
          25,
          26,
          27,
          28,
          29,
          30,
          31,
          32,
          33,
          34,
          35,
          36,
          37,
          38,
          39,
          40,
          41,
          42,
          43,
          44,
          45,
          46,
          47,
          48,
          49,
          50,
          51,
          52,
          53,
          54,
          55,
          56,
          57,
          58,
          59,
          60,
          61,
          62,
          63,
          64,
          65,
          66,
          67,
          68,
          69,
          70,
          71,
          72,
          73,
          74,
          75,
          76,
          77,
          78,
          79,
          80,
          81,
          82,
          83,
          84,
          85,
          86,
          87,
          88,
          89,
          90,
          91,
          92,
          93,
          94,
          95,
          96,
          97,
          98,
          99
         ],
         "y": [
          -0.31994801724569455,
          -1.1147519307668468,
          0.09420871372946889,
          -0.44392821510482694,
          0.2720791006808117,
          -0.5310752669575839,
          1.171462687244277,
          0.3346061511168307,
          0.38331296398150605,
          1.9838457865440426,
          -1.6550981743022035,
          -1.0025198816173013,
          0.36992875542016174,
          0.36498285896219074,
          -0.9232387561671217,
          0.6510909726317987,
          0.7985182144486457,
          0.1971746293694367,
          0.6007432391084384,
          0.374162986648514,
          -0.8255675417204941,
          0.4193911470138337,
          -1.6659757136874644,
          -0.09236677042439063,
          0.9439717289742723,
          -0.18224639541016452,
          -1.5160334577458336,
          -0.13835403247894945,
          1.5646691827788353,
          -0.6252653330078247,
          -0.09844762350233202,
          0.904939297961715,
          1.6344067926677879,
          -1.1033626840486355,
          -0.2706449658500962,
          1.3190766995511023,
          1.2837324942885457,
          -0.23555639567112935,
          0.9646917501155332,
          0.6211321707081742,
          -0.1008934154342106,
          1.505657735349906,
          0.2685344074653714,
          0.931543833518539,
          1.10408923710515,
          -0.6945993196642515,
          0.5570247924749284,
          -1.3733559321344766,
          0.3443409814501852,
          -0.0037318227276617023,
          -1.0593236715164922,
          -0.47008788719726163,
          0.17903083749682533,
          0.44755915421442244,
          -1.6860406578141074,
          -0.3338727560983083,
          -1.4255013044877651,
          -0.5094281218613274,
          1.5015767666190996,
          1.5017081067064284,
          -2.442862183344835,
          -2.4543895930005126,
          -0.14734818549881767,
          1.5595373453631993,
          -0.33972759305399775,
          1.0034579029256303,
          1.5230059240423028,
          0.6716869799676891,
          1.0063547046682044,
          0.3564780773847101,
          1.3327539731798177,
          0.7875297450670189,
          -0.47930200004224427,
          0.19475793176432973,
          0.9276632756063002,
          -0.08671985992572159,
          0.3855800259823013,
          0.7973486240955049,
          0.4761572493227163,
          -0.08780813842340729,
          0.8294264790198373,
          1.2539719165899483,
          0.8956054930324114,
          -0.3370644073457241,
          1.049840911509214,
          0.1590932465690057,
          -0.5588574717787498,
          1.0156298686262109,
          -2.8219573277379277,
          -0.42917171945788746,
          -0.47657014837857903,
          0.24209600564912173,
          0.6512312209328295,
          -1.647499209445923,
          -0.17386580349779984,
          -0.1295882786994215,
          1.5611842814201289,
          -0.37948170816134114,
          -0.019403944246110923,
          0.669857420169742
         ]
        },
        {
         "line": {
          "color": "rgba(128, 0, 128, 1.0)",
          "dash": "solid",
          "shape": "linear",
          "width": 1.3
         },
         "mode": "lines",
         "name": "D",
         "text": "",
         "type": "scatter",
         "x": [
          0,
          1,
          2,
          3,
          4,
          5,
          6,
          7,
          8,
          9,
          10,
          11,
          12,
          13,
          14,
          15,
          16,
          17,
          18,
          19,
          20,
          21,
          22,
          23,
          24,
          25,
          26,
          27,
          28,
          29,
          30,
          31,
          32,
          33,
          34,
          35,
          36,
          37,
          38,
          39,
          40,
          41,
          42,
          43,
          44,
          45,
          46,
          47,
          48,
          49,
          50,
          51,
          52,
          53,
          54,
          55,
          56,
          57,
          58,
          59,
          60,
          61,
          62,
          63,
          64,
          65,
          66,
          67,
          68,
          69,
          70,
          71,
          72,
          73,
          74,
          75,
          76,
          77,
          78,
          79,
          80,
          81,
          82,
          83,
          84,
          85,
          86,
          87,
          88,
          89,
          90,
          91,
          92,
          93,
          94,
          95,
          96,
          97,
          98,
          99
         ],
         "y": [
          -1.9191968375761468,
          0.8057145129951407,
          2.59938874924933,
          1.0840859085102152,
          -0.8172373853886793,
          -0.05656812195768792,
          -2.198948521865748,
          0.23630434282262675,
          -0.884332399733043,
          0.15230299460146768,
          -0.463880897197754,
          -0.6987874294994041,
          0.3371731568872556,
          0.3285593047365649,
          2.478749298731274,
          -1.6182948401272312,
          -0.8698274708495217,
          -1.4250902283771039,
          0.7493396873331967,
          -0.7282279200398205,
          -0.17662921099465953,
          1.7529978973970892,
          -1.0480686749771904,
          -0.8451640354671216,
          1.2913830501868708,
          1.4653280262322457,
          -0.10700527168431656,
          -0.15416609380015453,
          1.3338351460805926,
          -2.3315563951923113,
          -1.6844841490465823,
          0.2656228300455757,
          -1.1198436902680682,
          0.885932505879549,
          0.3101698968223834,
          0.46358633239626396,
          1.999770001489784,
          0.12297952545402142,
          0.4217432948165872,
          0.06202322331148702,
          0.1351305683892131,
          -0.5006892298386526,
          1.900192901981997,
          -1.563882150026656,
          -1.1690621343982999,
          -0.5729487524608797,
          0.1913269080645627,
          1.2989732513453205,
          -0.5503781615573572,
          -0.3446834327481017,
          -0.39372787735756565,
          -1.320484583548631,
          0.23581583836429626,
          -0.15688411358677082,
          0.7798058786175999,
          0.08152361108930499,
          -0.09417958966935797,
          -0.8381935830552845,
          -1.520868013222757,
          -1.196978070656835,
          0.504318266763162,
          0.6511494337358126,
          1.5595651080487425,
          -0.2604269271844848,
          0.23503290255165085,
          0.42845669123192354,
          0.27338809640089173,
          0.2770127006813712,
          -0.3259426727318933,
          0.4770620816550759,
          -1.5824027918332106,
          0.29429465155823326,
          1.6106025070010954,
          0.45427224190355164,
          0.4432260094781024,
          1.0802196619020397,
          -0.6754256976752617,
          0.6079991429815245,
          -1.4491493203517687,
          -1.446936392520765,
          2.238099164682907,
          1.3704219003467148,
          -0.019788442634019597,
          -0.9345919280007289,
          -0.36162876297816204,
          0.6240086657483584,
          -1.3557936420194523,
          -1.0218663588987615,
          0.7645793988738733,
          0.053934956447991095,
          1.4786150180650501,
          -2.1131288941109623,
          -1.0489458315901024,
          0.8389368034185251,
          -1.6971117435064347,
          0.9103262491432671,
          1.9565588444638466,
          -2.401103853578811,
          0.12117609787702649,
          -1.4382699461716264
         ]
        }
       ],
       "layout": {
        "legend": {
         "bgcolor": "#F5F6F9",
         "font": {
          "color": "#4D5663"
         }
        },
        "paper_bgcolor": "#F5F6F9",
        "plot_bgcolor": "#F5F6F9",
        "template": {
         "data": {
          "bar": [
           {
            "error_x": {
             "color": "#2a3f5f"
            },
            "error_y": {
             "color": "#2a3f5f"
            },
            "marker": {
             "line": {
              "color": "#E5ECF6",
              "width": 0.5
             }
            },
            "type": "bar"
           }
          ],
          "barpolar": [
           {
            "marker": {
             "line": {
              "color": "#E5ECF6",
              "width": 0.5
             }
            },
            "type": "barpolar"
           }
          ],
          "carpet": [
           {
            "aaxis": {
             "endlinecolor": "#2a3f5f",
             "gridcolor": "white",
             "linecolor": "white",
             "minorgridcolor": "white",
             "startlinecolor": "#2a3f5f"
            },
            "baxis": {
             "endlinecolor": "#2a3f5f",
             "gridcolor": "white",
             "linecolor": "white",
             "minorgridcolor": "white",
             "startlinecolor": "#2a3f5f"
            },
            "type": "carpet"
           }
          ],
          "choropleth": [
           {
            "colorbar": {
             "outlinewidth": 0,
             "ticks": ""
            },
            "type": "choropleth"
           }
          ],
          "contour": [
           {
            "colorbar": {
             "outlinewidth": 0,
             "ticks": ""
            },
            "colorscale": [
             [
              0,
              "#0d0887"
             ],
             [
              0.1111111111111111,
              "#46039f"
             ],
             [
              0.2222222222222222,
              "#7201a8"
             ],
             [
              0.3333333333333333,
              "#9c179e"
             ],
             [
              0.4444444444444444,
              "#bd3786"
             ],
             [
              0.5555555555555556,
              "#d8576b"
             ],
             [
              0.6666666666666666,
              "#ed7953"
             ],
             [
              0.7777777777777778,
              "#fb9f3a"
             ],
             [
              0.8888888888888888,
              "#fdca26"
             ],
             [
              1,
              "#f0f921"
             ]
            ],
            "type": "contour"
           }
          ],
          "contourcarpet": [
           {
            "colorbar": {
             "outlinewidth": 0,
             "ticks": ""
            },
            "type": "contourcarpet"
           }
          ],
          "heatmap": [
           {
            "colorbar": {
             "outlinewidth": 0,
             "ticks": ""
            },
            "colorscale": [
             [
              0,
              "#0d0887"
             ],
             [
              0.1111111111111111,
              "#46039f"
             ],
             [
              0.2222222222222222,
              "#7201a8"
             ],
             [
              0.3333333333333333,
              "#9c179e"
             ],
             [
              0.4444444444444444,
              "#bd3786"
             ],
             [
              0.5555555555555556,
              "#d8576b"
             ],
             [
              0.6666666666666666,
              "#ed7953"
             ],
             [
              0.7777777777777778,
              "#fb9f3a"
             ],
             [
              0.8888888888888888,
              "#fdca26"
             ],
             [
              1,
              "#f0f921"
             ]
            ],
            "type": "heatmap"
           }
          ],
          "heatmapgl": [
           {
            "colorbar": {
             "outlinewidth": 0,
             "ticks": ""
            },
            "colorscale": [
             [
              0,
              "#0d0887"
             ],
             [
              0.1111111111111111,
              "#46039f"
             ],
             [
              0.2222222222222222,
              "#7201a8"
             ],
             [
              0.3333333333333333,
              "#9c179e"
             ],
             [
              0.4444444444444444,
              "#bd3786"
             ],
             [
              0.5555555555555556,
              "#d8576b"
             ],
             [
              0.6666666666666666,
              "#ed7953"
             ],
             [
              0.7777777777777778,
              "#fb9f3a"
             ],
             [
              0.8888888888888888,
              "#fdca26"
             ],
             [
              1,
              "#f0f921"
             ]
            ],
            "type": "heatmapgl"
           }
          ],
          "histogram": [
           {
            "marker": {
             "colorbar": {
              "outlinewidth": 0,
              "ticks": ""
             }
            },
            "type": "histogram"
           }
          ],
          "histogram2d": [
           {
            "colorbar": {
             "outlinewidth": 0,
             "ticks": ""
            },
            "colorscale": [
             [
              0,
              "#0d0887"
             ],
             [
              0.1111111111111111,
              "#46039f"
             ],
             [
              0.2222222222222222,
              "#7201a8"
             ],
             [
              0.3333333333333333,
              "#9c179e"
             ],
             [
              0.4444444444444444,
              "#bd3786"
             ],
             [
              0.5555555555555556,
              "#d8576b"
             ],
             [
              0.6666666666666666,
              "#ed7953"
             ],
             [
              0.7777777777777778,
              "#fb9f3a"
             ],
             [
              0.8888888888888888,
              "#fdca26"
             ],
             [
              1,
              "#f0f921"
             ]
            ],
            "type": "histogram2d"
           }
          ],
          "histogram2dcontour": [
           {
            "colorbar": {
             "outlinewidth": 0,
             "ticks": ""
            },
            "colorscale": [
             [
              0,
              "#0d0887"
             ],
             [
              0.1111111111111111,
              "#46039f"
             ],
             [
              0.2222222222222222,
              "#7201a8"
             ],
             [
              0.3333333333333333,
              "#9c179e"
             ],
             [
              0.4444444444444444,
              "#bd3786"
             ],
             [
              0.5555555555555556,
              "#d8576b"
             ],
             [
              0.6666666666666666,
              "#ed7953"
             ],
             [
              0.7777777777777778,
              "#fb9f3a"
             ],
             [
              0.8888888888888888,
              "#fdca26"
             ],
             [
              1,
              "#f0f921"
             ]
            ],
            "type": "histogram2dcontour"
           }
          ],
          "mesh3d": [
           {
            "colorbar": {
             "outlinewidth": 0,
             "ticks": ""
            },
            "type": "mesh3d"
           }
          ],
          "parcoords": [
           {
            "line": {
             "colorbar": {
              "outlinewidth": 0,
              "ticks": ""
             }
            },
            "type": "parcoords"
           }
          ],
          "pie": [
           {
            "automargin": true,
            "type": "pie"
           }
          ],
          "scatter": [
           {
            "marker": {
             "colorbar": {
              "outlinewidth": 0,
              "ticks": ""
             }
            },
            "type": "scatter"
           }
          ],
          "scatter3d": [
           {
            "line": {
             "colorbar": {
              "outlinewidth": 0,
              "ticks": ""
             }
            },
            "marker": {
             "colorbar": {
              "outlinewidth": 0,
              "ticks": ""
             }
            },
            "type": "scatter3d"
           }
          ],
          "scattercarpet": [
           {
            "marker": {
             "colorbar": {
              "outlinewidth": 0,
              "ticks": ""
             }
            },
            "type": "scattercarpet"
           }
          ],
          "scattergeo": [
           {
            "marker": {
             "colorbar": {
              "outlinewidth": 0,
              "ticks": ""
             }
            },
            "type": "scattergeo"
           }
          ],
          "scattergl": [
           {
            "marker": {
             "colorbar": {
              "outlinewidth": 0,
              "ticks": ""
             }
            },
            "type": "scattergl"
           }
          ],
          "scattermapbox": [
           {
            "marker": {
             "colorbar": {
              "outlinewidth": 0,
              "ticks": ""
             }
            },
            "type": "scattermapbox"
           }
          ],
          "scatterpolar": [
           {
            "marker": {
             "colorbar": {
              "outlinewidth": 0,
              "ticks": ""
             }
            },
            "type": "scatterpolar"
           }
          ],
          "scatterpolargl": [
           {
            "marker": {
             "colorbar": {
              "outlinewidth": 0,
              "ticks": ""
             }
            },
            "type": "scatterpolargl"
           }
          ],
          "scatterternary": [
           {
            "marker": {
             "colorbar": {
              "outlinewidth": 0,
              "ticks": ""
             }
            },
            "type": "scatterternary"
           }
          ],
          "surface": [
           {
            "colorbar": {
             "outlinewidth": 0,
             "ticks": ""
            },
            "colorscale": [
             [
              0,
              "#0d0887"
             ],
             [
              0.1111111111111111,
              "#46039f"
             ],
             [
              0.2222222222222222,
              "#7201a8"
             ],
             [
              0.3333333333333333,
              "#9c179e"
             ],
             [
              0.4444444444444444,
              "#bd3786"
             ],
             [
              0.5555555555555556,
              "#d8576b"
             ],
             [
              0.6666666666666666,
              "#ed7953"
             ],
             [
              0.7777777777777778,
              "#fb9f3a"
             ],
             [
              0.8888888888888888,
              "#fdca26"
             ],
             [
              1,
              "#f0f921"
             ]
            ],
            "type": "surface"
           }
          ],
          "table": [
           {
            "cells": {
             "fill": {
              "color": "#EBF0F8"
             },
             "line": {
              "color": "white"
             }
            },
            "header": {
             "fill": {
              "color": "#C8D4E3"
             },
             "line": {
              "color": "white"
             }
            },
            "type": "table"
           }
          ]
         },
         "layout": {
          "annotationdefaults": {
           "arrowcolor": "#2a3f5f",
           "arrowhead": 0,
           "arrowwidth": 1
          },
          "coloraxis": {
           "colorbar": {
            "outlinewidth": 0,
            "ticks": ""
           }
          },
          "colorscale": {
           "diverging": [
            [
             0,
             "#8e0152"
            ],
            [
             0.1,
             "#c51b7d"
            ],
            [
             0.2,
             "#de77ae"
            ],
            [
             0.3,
             "#f1b6da"
            ],
            [
             0.4,
             "#fde0ef"
            ],
            [
             0.5,
             "#f7f7f7"
            ],
            [
             0.6,
             "#e6f5d0"
            ],
            [
             0.7,
             "#b8e186"
            ],
            [
             0.8,
             "#7fbc41"
            ],
            [
             0.9,
             "#4d9221"
            ],
            [
             1,
             "#276419"
            ]
           ],
           "sequential": [
            [
             0,
             "#0d0887"
            ],
            [
             0.1111111111111111,
             "#46039f"
            ],
            [
             0.2222222222222222,
             "#7201a8"
            ],
            [
             0.3333333333333333,
             "#9c179e"
            ],
            [
             0.4444444444444444,
             "#bd3786"
            ],
            [
             0.5555555555555556,
             "#d8576b"
            ],
            [
             0.6666666666666666,
             "#ed7953"
            ],
            [
             0.7777777777777778,
             "#fb9f3a"
            ],
            [
             0.8888888888888888,
             "#fdca26"
            ],
            [
             1,
             "#f0f921"
            ]
           ],
           "sequentialminus": [
            [
             0,
             "#0d0887"
            ],
            [
             0.1111111111111111,
             "#46039f"
            ],
            [
             0.2222222222222222,
             "#7201a8"
            ],
            [
             0.3333333333333333,
             "#9c179e"
            ],
            [
             0.4444444444444444,
             "#bd3786"
            ],
            [
             0.5555555555555556,
             "#d8576b"
            ],
            [
             0.6666666666666666,
             "#ed7953"
            ],
            [
             0.7777777777777778,
             "#fb9f3a"
            ],
            [
             0.8888888888888888,
             "#fdca26"
            ],
            [
             1,
             "#f0f921"
            ]
           ]
          },
          "colorway": [
           "#636efa",
           "#EF553B",
           "#00cc96",
           "#ab63fa",
           "#FFA15A",
           "#19d3f3",
           "#FF6692",
           "#B6E880",
           "#FF97FF",
           "#FECB52"
          ],
          "font": {
           "color": "#2a3f5f"
          },
          "geo": {
           "bgcolor": "white",
           "lakecolor": "white",
           "landcolor": "#E5ECF6",
           "showlakes": true,
           "showland": true,
           "subunitcolor": "white"
          },
          "hoverlabel": {
           "align": "left"
          },
          "hovermode": "closest",
          "mapbox": {
           "style": "light"
          },
          "paper_bgcolor": "white",
          "plot_bgcolor": "#E5ECF6",
          "polar": {
           "angularaxis": {
            "gridcolor": "white",
            "linecolor": "white",
            "ticks": ""
           },
           "bgcolor": "#E5ECF6",
           "radialaxis": {
            "gridcolor": "white",
            "linecolor": "white",
            "ticks": ""
           }
          },
          "scene": {
           "xaxis": {
            "backgroundcolor": "#E5ECF6",
            "gridcolor": "white",
            "gridwidth": 2,
            "linecolor": "white",
            "showbackground": true,
            "ticks": "",
            "zerolinecolor": "white"
           },
           "yaxis": {
            "backgroundcolor": "#E5ECF6",
            "gridcolor": "white",
            "gridwidth": 2,
            "linecolor": "white",
            "showbackground": true,
            "ticks": "",
            "zerolinecolor": "white"
           },
           "zaxis": {
            "backgroundcolor": "#E5ECF6",
            "gridcolor": "white",
            "gridwidth": 2,
            "linecolor": "white",
            "showbackground": true,
            "ticks": "",
            "zerolinecolor": "white"
           }
          },
          "shapedefaults": {
           "line": {
            "color": "#2a3f5f"
           }
          },
          "ternary": {
           "aaxis": {
            "gridcolor": "white",
            "linecolor": "white",
            "ticks": ""
           },
           "baxis": {
            "gridcolor": "white",
            "linecolor": "white",
            "ticks": ""
           },
           "bgcolor": "#E5ECF6",
           "caxis": {
            "gridcolor": "white",
            "linecolor": "white",
            "ticks": ""
           }
          },
          "title": {
           "x": 0.05
          },
          "xaxis": {
           "automargin": true,
           "gridcolor": "white",
           "linecolor": "white",
           "ticks": "",
           "title": {
            "standoff": 15
           },
           "zerolinecolor": "white",
           "zerolinewidth": 2
          },
          "yaxis": {
           "automargin": true,
           "gridcolor": "white",
           "linecolor": "white",
           "ticks": "",
           "title": {
            "standoff": 15
           },
           "zerolinecolor": "white",
           "zerolinewidth": 2
          }
         }
        },
        "title": {
         "font": {
          "color": "#4D5663"
         }
        },
        "xaxis": {
         "gridcolor": "#E1E5ED",
         "showgrid": true,
         "tickfont": {
          "color": "#4D5663"
         },
         "title": {
          "font": {
           "color": "#4D5663"
          },
          "text": ""
         },
         "zerolinecolor": "#E1E5ED"
        },
        "yaxis": {
         "gridcolor": "#E1E5ED",
         "showgrid": true,
         "tickfont": {
          "color": "#4D5663"
         },
         "title": {
          "font": {
           "color": "#4D5663"
          },
          "text": ""
         },
         "zerolinecolor": "#E1E5ED"
        }
       }
      },
      "text/html": [
       "<div>\n",
       "        \n",
       "        \n",
       "            <div id=\"2207385e-3b4a-4f7d-806f-7be8b9ef11d2\" class=\"plotly-graph-div\" style=\"height:525px; width:100%;\"></div>\n",
       "            <script type=\"text/javascript\">\n",
       "                require([\"plotly\"], function(Plotly) {\n",
       "                    window.PLOTLYENV=window.PLOTLYENV || {};\n",
       "                    window.PLOTLYENV.BASE_URL='https://plot.ly';\n",
       "                    \n",
       "                if (document.getElementById(\"2207385e-3b4a-4f7d-806f-7be8b9ef11d2\")) {\n",
       "                    Plotly.newPlot(\n",
       "                        '2207385e-3b4a-4f7d-806f-7be8b9ef11d2',\n",
       "                        [{\"line\": {\"color\": \"rgba(255, 153, 51, 1.0)\", \"dash\": \"solid\", \"shape\": \"linear\", \"width\": 1.3}, \"mode\": \"lines\", \"name\": \"A\", \"text\": \"\", \"type\": \"scatter\", \"x\": [0, 1, 2, 3, 4, 5, 6, 7, 8, 9, 10, 11, 12, 13, 14, 15, 16, 17, 18, 19, 20, 21, 22, 23, 24, 25, 26, 27, 28, 29, 30, 31, 32, 33, 34, 35, 36, 37, 38, 39, 40, 41, 42, 43, 44, 45, 46, 47, 48, 49, 50, 51, 52, 53, 54, 55, 56, 57, 58, 59, 60, 61, 62, 63, 64, 65, 66, 67, 68, 69, 70, 71, 72, 73, 74, 75, 76, 77, 78, 79, 80, 81, 82, 83, 84, 85, 86, 87, 88, 89, 90, 91, 92, 93, 94, 95, 96, 97, 98, 99], \"y\": [-2.22730975487397, -0.5631088680558595, -1.096813421072463, 0.7776205396385625, -0.1746463353259903, 0.3337465451256331, -0.22897788899722962, -1.6231470277399513, 0.4314232081733444, 0.6087774981436374, 0.6532089544051536, 0.2305117599532342, -0.5411564196238529, 0.8439914549924954, -2.0916013036086567, -1.662078336488449, -0.32543729134850014, 0.29824962167806157, -0.6980798997625995, -1.019787315369518, 0.9572458365796579, 0.9988629965772159, -1.1284538233162278, -0.19827130288135922, 0.705443439167345, 0.019762068277110394, 0.3871897341300344, -0.9896492769418976, -0.19000203749777425, 0.805780167610212, -0.015579478376413077, -0.9327642149249064, 1.1030851259614476, -1.4615649186091488, 1.1910966452002674, 1.2020822117973626, -0.9236357460382656, 1.467120146648933, 0.6842087162635787, -0.18825617620140528, 1.3770709936148462, 5.008385684764456e-05, -0.9704276330639248, -1.42229613425193, 0.14160610886984462, 0.3427554036620041, -0.08990208655324586, 1.3453423306313845, -1.0377535379195855, 0.8872938889127332, 0.972796762360093, 0.5254574431494227, -0.9856616109059382, -1.3077990867768847, -0.20844874892317272, 0.2989183337534506, -1.5616718800201546, -0.0019323778924743222, 0.20940113665143797, 0.0029624530881309304, 0.984144258387087, 0.2475618531391336, -0.23699262229757284, -2.687279401943814, 0.8446810172242765, -0.8880299894551736, 0.7042839160755405, -0.5371513002818218, 0.4775543768493773, -0.48125734603161674, 0.1526309703289612, 0.4644064404748271, -0.27086500539226804, -0.8209590996270908, 0.8101224210185378, -0.19515477954428107, -0.22282797179954303, 1.6666123096212775, 0.01936417809362544, -2.079755223104781, 0.592156902996088, 2.824887493921544, 1.0702737803297262, -0.9900307377950344, 0.7033005437740754, 1.1236191123888546, 2.7894422607871796, -0.5154353735216163, 0.035693159462402105, -0.8396511467292964, -0.06758949413797499, -0.7144381275751631, -0.4574377310876855, 0.7083108180760775, 0.4904445286575012, 0.4599990819826413, -0.37475060080209466, 1.231552043935495, -0.9797458481615703, 1.2876018144942427]}, {\"line\": {\"color\": \"rgba(55, 128, 191, 1.0)\", \"dash\": \"solid\", \"shape\": \"linear\", \"width\": 1.3}, \"mode\": \"lines\", \"name\": \"B\", \"text\": \"\", \"type\": \"scatter\", \"x\": [0, 1, 2, 3, 4, 5, 6, 7, 8, 9, 10, 11, 12, 13, 14, 15, 16, 17, 18, 19, 20, 21, 22, 23, 24, 25, 26, 27, 28, 29, 30, 31, 32, 33, 34, 35, 36, 37, 38, 39, 40, 41, 42, 43, 44, 45, 46, 47, 48, 49, 50, 51, 52, 53, 54, 55, 56, 57, 58, 59, 60, 61, 62, 63, 64, 65, 66, 67, 68, 69, 70, 71, 72, 73, 74, 75, 76, 77, 78, 79, 80, 81, 82, 83, 84, 85, 86, 87, 88, 89, 90, 91, 92, 93, 94, 95, 96, 97, 98, 99], \"y\": [0.9043707587253097, 1.3436027632821108, -1.6751042617936567, 0.3387377391458157, -0.881658387694221, -0.7962396282496969, -0.2067570773983989, -0.2359199741416241, -0.8705716186554082, -1.4008861407199682, 0.1232404600970688, 1.992250522578355, -1.0829738162466171, 0.3459640802743093, -0.7320311229180546, 0.8667190810610911, -0.45169491002989454, 1.8509140495324818, -0.1607612316493394, 0.7678750875088479, -1.5681420236965922, 0.6551997697753668, -1.0219136628918817, -0.6670704709834635, 1.4132130035526702, -1.636303296014824, -1.4467840239362824, 0.6120696948395167, 0.5256754216674434, -0.6490633308025651, -1.7493411237006207, -2.2317844881829254, -0.4498425724676211, -2.179507267801821, 0.3042365004878486, -0.3996537898866624, -0.6344723242247944, -1.511158111404823, 1.8606442592214745, -0.9221702308510948, -1.357878073024533, 1.0419539337393482, -0.39701074963568916, -0.009885907719007207, 0.25199718187257747, 0.08252493293273659, -0.8813288118498757, 1.2395588902521115, 0.8192946434014031, 1.02410077603876, 2.487820883132203, 0.3245699415077309, -0.3009017101627565, -0.765305827485693, -0.578496599093978, 2.16253861959754, -0.4223635336834874, -1.651750273096774, -0.4351400773787977, 1.8211188584162035, 0.24664276360730764, -0.5937698100161986, 0.3104386616656303, -0.28442291050687013, 0.6710482751707388, -1.0066114116777134, -1.2458588210133685, -1.0812131138354293, 0.23322139251366578, 1.8498665453820595, 0.46155215141225886, -0.8785935220443518, 0.7419068920050634, -0.4406887542644273, -0.6015970351044174, 0.7770402118751695, -0.8444766189568531, 0.21632539676143964, 0.9500585337542808, -0.09870495920870319, -1.1301856809698991, -1.0349727534691304, -1.167898971150679, -0.5035843483278787, 0.04102270577078194, -0.20074632934257497, -0.33106116501995453, -1.7190172294426014, -0.4064481174920905, 0.8176825360210126, -0.3504469481027733, -0.314470755208347, -0.13555527973364587, -0.26324493873654636, 0.2710824187797052, -1.5006937200849786, 1.1850943346761778, 1.3716499527545902, -0.46609424933897065, -1.309941218579945]}, {\"line\": {\"color\": \"rgba(50, 171, 96, 1.0)\", \"dash\": \"solid\", \"shape\": \"linear\", \"width\": 1.3}, \"mode\": \"lines\", \"name\": \"C\", \"text\": \"\", \"type\": \"scatter\", \"x\": [0, 1, 2, 3, 4, 5, 6, 7, 8, 9, 10, 11, 12, 13, 14, 15, 16, 17, 18, 19, 20, 21, 22, 23, 24, 25, 26, 27, 28, 29, 30, 31, 32, 33, 34, 35, 36, 37, 38, 39, 40, 41, 42, 43, 44, 45, 46, 47, 48, 49, 50, 51, 52, 53, 54, 55, 56, 57, 58, 59, 60, 61, 62, 63, 64, 65, 66, 67, 68, 69, 70, 71, 72, 73, 74, 75, 76, 77, 78, 79, 80, 81, 82, 83, 84, 85, 86, 87, 88, 89, 90, 91, 92, 93, 94, 95, 96, 97, 98, 99], \"y\": [-0.31994801724569455, -1.1147519307668468, 0.09420871372946889, -0.44392821510482694, 0.2720791006808117, -0.5310752669575839, 1.171462687244277, 0.3346061511168307, 0.38331296398150605, 1.9838457865440426, -1.6550981743022035, -1.0025198816173013, 0.36992875542016174, 0.36498285896219074, -0.9232387561671217, 0.6510909726317987, 0.7985182144486457, 0.1971746293694367, 0.6007432391084384, 0.374162986648514, -0.8255675417204941, 0.4193911470138337, -1.6659757136874644, -0.09236677042439063, 0.9439717289742723, -0.18224639541016452, -1.5160334577458336, -0.13835403247894945, 1.5646691827788353, -0.6252653330078247, -0.09844762350233202, 0.904939297961715, 1.6344067926677879, -1.1033626840486355, -0.2706449658500962, 1.3190766995511023, 1.2837324942885457, -0.23555639567112935, 0.9646917501155332, 0.6211321707081742, -0.1008934154342106, 1.505657735349906, 0.2685344074653714, 0.931543833518539, 1.10408923710515, -0.6945993196642515, 0.5570247924749284, -1.3733559321344766, 0.3443409814501852, -0.0037318227276617023, -1.0593236715164922, -0.47008788719726163, 0.17903083749682533, 0.44755915421442244, -1.6860406578141074, -0.3338727560983083, -1.4255013044877651, -0.5094281218613274, 1.5015767666190996, 1.5017081067064284, -2.442862183344835, -2.4543895930005126, -0.14734818549881767, 1.5595373453631993, -0.33972759305399775, 1.0034579029256303, 1.5230059240423028, 0.6716869799676891, 1.0063547046682044, 0.3564780773847101, 1.3327539731798177, 0.7875297450670189, -0.47930200004224427, 0.19475793176432973, 0.9276632756063002, -0.08671985992572159, 0.3855800259823013, 0.7973486240955049, 0.4761572493227163, -0.08780813842340729, 0.8294264790198373, 1.2539719165899483, 0.8956054930324114, -0.3370644073457241, 1.049840911509214, 0.1590932465690057, -0.5588574717787498, 1.0156298686262109, -2.8219573277379277, -0.42917171945788746, -0.47657014837857903, 0.24209600564912173, 0.6512312209328295, -1.647499209445923, -0.17386580349779984, -0.1295882786994215, 1.5611842814201289, -0.37948170816134114, -0.019403944246110923, 0.669857420169742]}, {\"line\": {\"color\": \"rgba(128, 0, 128, 1.0)\", \"dash\": \"solid\", \"shape\": \"linear\", \"width\": 1.3}, \"mode\": \"lines\", \"name\": \"D\", \"text\": \"\", \"type\": \"scatter\", \"x\": [0, 1, 2, 3, 4, 5, 6, 7, 8, 9, 10, 11, 12, 13, 14, 15, 16, 17, 18, 19, 20, 21, 22, 23, 24, 25, 26, 27, 28, 29, 30, 31, 32, 33, 34, 35, 36, 37, 38, 39, 40, 41, 42, 43, 44, 45, 46, 47, 48, 49, 50, 51, 52, 53, 54, 55, 56, 57, 58, 59, 60, 61, 62, 63, 64, 65, 66, 67, 68, 69, 70, 71, 72, 73, 74, 75, 76, 77, 78, 79, 80, 81, 82, 83, 84, 85, 86, 87, 88, 89, 90, 91, 92, 93, 94, 95, 96, 97, 98, 99], \"y\": [-1.9191968375761468, 0.8057145129951407, 2.59938874924933, 1.0840859085102152, -0.8172373853886793, -0.05656812195768792, -2.198948521865748, 0.23630434282262675, -0.884332399733043, 0.15230299460146768, -0.463880897197754, -0.6987874294994041, 0.3371731568872556, 0.3285593047365649, 2.478749298731274, -1.6182948401272312, -0.8698274708495217, -1.4250902283771039, 0.7493396873331967, -0.7282279200398205, -0.17662921099465953, 1.7529978973970892, -1.0480686749771904, -0.8451640354671216, 1.2913830501868708, 1.4653280262322457, -0.10700527168431656, -0.15416609380015453, 1.3338351460805926, -2.3315563951923113, -1.6844841490465823, 0.2656228300455757, -1.1198436902680682, 0.885932505879549, 0.3101698968223834, 0.46358633239626396, 1.999770001489784, 0.12297952545402142, 0.4217432948165872, 0.06202322331148702, 0.1351305683892131, -0.5006892298386526, 1.900192901981997, -1.563882150026656, -1.1690621343982999, -0.5729487524608797, 0.1913269080645627, 1.2989732513453205, -0.5503781615573572, -0.3446834327481017, -0.39372787735756565, -1.320484583548631, 0.23581583836429626, -0.15688411358677082, 0.7798058786175999, 0.08152361108930499, -0.09417958966935797, -0.8381935830552845, -1.520868013222757, -1.196978070656835, 0.504318266763162, 0.6511494337358126, 1.5595651080487425, -0.2604269271844848, 0.23503290255165085, 0.42845669123192354, 0.27338809640089173, 0.2770127006813712, -0.3259426727318933, 0.4770620816550759, -1.5824027918332106, 0.29429465155823326, 1.6106025070010954, 0.45427224190355164, 0.4432260094781024, 1.0802196619020397, -0.6754256976752617, 0.6079991429815245, -1.4491493203517687, -1.446936392520765, 2.238099164682907, 1.3704219003467148, -0.019788442634019597, -0.9345919280007289, -0.36162876297816204, 0.6240086657483584, -1.3557936420194523, -1.0218663588987615, 0.7645793988738733, 0.053934956447991095, 1.4786150180650501, -2.1131288941109623, -1.0489458315901024, 0.8389368034185251, -1.6971117435064347, 0.9103262491432671, 1.9565588444638466, -2.401103853578811, 0.12117609787702649, -1.4382699461716264]}],\n",
       "                        {\"legend\": {\"bgcolor\": \"#F5F6F9\", \"font\": {\"color\": \"#4D5663\"}}, \"paper_bgcolor\": \"#F5F6F9\", \"plot_bgcolor\": \"#F5F6F9\", \"template\": {\"data\": {\"bar\": [{\"error_x\": {\"color\": \"#2a3f5f\"}, \"error_y\": {\"color\": \"#2a3f5f\"}, \"marker\": {\"line\": {\"color\": \"#E5ECF6\", \"width\": 0.5}}, \"type\": \"bar\"}], \"barpolar\": [{\"marker\": {\"line\": {\"color\": \"#E5ECF6\", \"width\": 0.5}}, \"type\": \"barpolar\"}], \"carpet\": [{\"aaxis\": {\"endlinecolor\": \"#2a3f5f\", \"gridcolor\": \"white\", \"linecolor\": \"white\", \"minorgridcolor\": \"white\", \"startlinecolor\": \"#2a3f5f\"}, \"baxis\": {\"endlinecolor\": \"#2a3f5f\", \"gridcolor\": \"white\", \"linecolor\": \"white\", \"minorgridcolor\": \"white\", \"startlinecolor\": \"#2a3f5f\"}, \"type\": \"carpet\"}], \"choropleth\": [{\"colorbar\": {\"outlinewidth\": 0, \"ticks\": \"\"}, \"type\": \"choropleth\"}], \"contour\": [{\"colorbar\": {\"outlinewidth\": 0, \"ticks\": \"\"}, \"colorscale\": [[0.0, \"#0d0887\"], [0.1111111111111111, \"#46039f\"], [0.2222222222222222, \"#7201a8\"], [0.3333333333333333, \"#9c179e\"], [0.4444444444444444, \"#bd3786\"], [0.5555555555555556, \"#d8576b\"], [0.6666666666666666, \"#ed7953\"], [0.7777777777777778, \"#fb9f3a\"], [0.8888888888888888, \"#fdca26\"], [1.0, \"#f0f921\"]], \"type\": \"contour\"}], \"contourcarpet\": [{\"colorbar\": {\"outlinewidth\": 0, \"ticks\": \"\"}, \"type\": \"contourcarpet\"}], \"heatmap\": [{\"colorbar\": {\"outlinewidth\": 0, \"ticks\": \"\"}, \"colorscale\": [[0.0, \"#0d0887\"], [0.1111111111111111, \"#46039f\"], [0.2222222222222222, \"#7201a8\"], [0.3333333333333333, \"#9c179e\"], [0.4444444444444444, \"#bd3786\"], [0.5555555555555556, \"#d8576b\"], [0.6666666666666666, \"#ed7953\"], [0.7777777777777778, \"#fb9f3a\"], [0.8888888888888888, \"#fdca26\"], [1.0, \"#f0f921\"]], \"type\": \"heatmap\"}], \"heatmapgl\": [{\"colorbar\": {\"outlinewidth\": 0, \"ticks\": \"\"}, \"colorscale\": [[0.0, \"#0d0887\"], [0.1111111111111111, \"#46039f\"], [0.2222222222222222, \"#7201a8\"], [0.3333333333333333, \"#9c179e\"], [0.4444444444444444, \"#bd3786\"], [0.5555555555555556, \"#d8576b\"], [0.6666666666666666, \"#ed7953\"], [0.7777777777777778, \"#fb9f3a\"], [0.8888888888888888, \"#fdca26\"], [1.0, \"#f0f921\"]], \"type\": \"heatmapgl\"}], \"histogram\": [{\"marker\": {\"colorbar\": {\"outlinewidth\": 0, \"ticks\": \"\"}}, \"type\": \"histogram\"}], \"histogram2d\": [{\"colorbar\": {\"outlinewidth\": 0, \"ticks\": \"\"}, \"colorscale\": [[0.0, \"#0d0887\"], [0.1111111111111111, \"#46039f\"], [0.2222222222222222, \"#7201a8\"], [0.3333333333333333, \"#9c179e\"], [0.4444444444444444, \"#bd3786\"], [0.5555555555555556, \"#d8576b\"], [0.6666666666666666, \"#ed7953\"], [0.7777777777777778, \"#fb9f3a\"], [0.8888888888888888, \"#fdca26\"], [1.0, \"#f0f921\"]], \"type\": \"histogram2d\"}], \"histogram2dcontour\": [{\"colorbar\": {\"outlinewidth\": 0, \"ticks\": \"\"}, \"colorscale\": [[0.0, \"#0d0887\"], [0.1111111111111111, \"#46039f\"], [0.2222222222222222, \"#7201a8\"], [0.3333333333333333, \"#9c179e\"], [0.4444444444444444, \"#bd3786\"], [0.5555555555555556, \"#d8576b\"], [0.6666666666666666, \"#ed7953\"], [0.7777777777777778, \"#fb9f3a\"], [0.8888888888888888, \"#fdca26\"], [1.0, \"#f0f921\"]], \"type\": \"histogram2dcontour\"}], \"mesh3d\": [{\"colorbar\": {\"outlinewidth\": 0, \"ticks\": \"\"}, \"type\": \"mesh3d\"}], \"parcoords\": [{\"line\": {\"colorbar\": {\"outlinewidth\": 0, \"ticks\": \"\"}}, \"type\": \"parcoords\"}], \"pie\": [{\"automargin\": true, \"type\": \"pie\"}], \"scatter\": [{\"marker\": {\"colorbar\": {\"outlinewidth\": 0, \"ticks\": \"\"}}, \"type\": \"scatter\"}], \"scatter3d\": [{\"line\": {\"colorbar\": {\"outlinewidth\": 0, \"ticks\": \"\"}}, \"marker\": {\"colorbar\": {\"outlinewidth\": 0, \"ticks\": \"\"}}, \"type\": \"scatter3d\"}], \"scattercarpet\": [{\"marker\": {\"colorbar\": {\"outlinewidth\": 0, \"ticks\": \"\"}}, \"type\": \"scattercarpet\"}], \"scattergeo\": [{\"marker\": {\"colorbar\": {\"outlinewidth\": 0, \"ticks\": \"\"}}, \"type\": \"scattergeo\"}], \"scattergl\": [{\"marker\": {\"colorbar\": {\"outlinewidth\": 0, \"ticks\": \"\"}}, \"type\": \"scattergl\"}], \"scattermapbox\": [{\"marker\": {\"colorbar\": {\"outlinewidth\": 0, \"ticks\": \"\"}}, \"type\": \"scattermapbox\"}], \"scatterpolar\": [{\"marker\": {\"colorbar\": {\"outlinewidth\": 0, \"ticks\": \"\"}}, \"type\": \"scatterpolar\"}], \"scatterpolargl\": [{\"marker\": {\"colorbar\": {\"outlinewidth\": 0, \"ticks\": \"\"}}, \"type\": \"scatterpolargl\"}], \"scatterternary\": [{\"marker\": {\"colorbar\": {\"outlinewidth\": 0, \"ticks\": \"\"}}, \"type\": \"scatterternary\"}], \"surface\": [{\"colorbar\": {\"outlinewidth\": 0, \"ticks\": \"\"}, \"colorscale\": [[0.0, \"#0d0887\"], [0.1111111111111111, \"#46039f\"], [0.2222222222222222, \"#7201a8\"], [0.3333333333333333, \"#9c179e\"], [0.4444444444444444, \"#bd3786\"], [0.5555555555555556, \"#d8576b\"], [0.6666666666666666, \"#ed7953\"], [0.7777777777777778, \"#fb9f3a\"], [0.8888888888888888, \"#fdca26\"], [1.0, \"#f0f921\"]], \"type\": \"surface\"}], \"table\": [{\"cells\": {\"fill\": {\"color\": \"#EBF0F8\"}, \"line\": {\"color\": \"white\"}}, \"header\": {\"fill\": {\"color\": \"#C8D4E3\"}, \"line\": {\"color\": \"white\"}}, \"type\": \"table\"}]}, \"layout\": {\"annotationdefaults\": {\"arrowcolor\": \"#2a3f5f\", \"arrowhead\": 0, \"arrowwidth\": 1}, \"coloraxis\": {\"colorbar\": {\"outlinewidth\": 0, \"ticks\": \"\"}}, \"colorscale\": {\"diverging\": [[0, \"#8e0152\"], [0.1, \"#c51b7d\"], [0.2, \"#de77ae\"], [0.3, \"#f1b6da\"], [0.4, \"#fde0ef\"], [0.5, \"#f7f7f7\"], [0.6, \"#e6f5d0\"], [0.7, \"#b8e186\"], [0.8, \"#7fbc41\"], [0.9, \"#4d9221\"], [1, \"#276419\"]], \"sequential\": [[0.0, \"#0d0887\"], [0.1111111111111111, \"#46039f\"], [0.2222222222222222, \"#7201a8\"], [0.3333333333333333, \"#9c179e\"], [0.4444444444444444, \"#bd3786\"], [0.5555555555555556, \"#d8576b\"], [0.6666666666666666, \"#ed7953\"], [0.7777777777777778, \"#fb9f3a\"], [0.8888888888888888, \"#fdca26\"], [1.0, \"#f0f921\"]], \"sequentialminus\": [[0.0, \"#0d0887\"], [0.1111111111111111, \"#46039f\"], [0.2222222222222222, \"#7201a8\"], [0.3333333333333333, \"#9c179e\"], [0.4444444444444444, \"#bd3786\"], [0.5555555555555556, \"#d8576b\"], [0.6666666666666666, \"#ed7953\"], [0.7777777777777778, \"#fb9f3a\"], [0.8888888888888888, \"#fdca26\"], [1.0, \"#f0f921\"]]}, \"colorway\": [\"#636efa\", \"#EF553B\", \"#00cc96\", \"#ab63fa\", \"#FFA15A\", \"#19d3f3\", \"#FF6692\", \"#B6E880\", \"#FF97FF\", \"#FECB52\"], \"font\": {\"color\": \"#2a3f5f\"}, \"geo\": {\"bgcolor\": \"white\", \"lakecolor\": \"white\", \"landcolor\": \"#E5ECF6\", \"showlakes\": true, \"showland\": true, \"subunitcolor\": \"white\"}, \"hoverlabel\": {\"align\": \"left\"}, \"hovermode\": \"closest\", \"mapbox\": {\"style\": \"light\"}, \"paper_bgcolor\": \"white\", \"plot_bgcolor\": \"#E5ECF6\", \"polar\": {\"angularaxis\": {\"gridcolor\": \"white\", \"linecolor\": \"white\", \"ticks\": \"\"}, \"bgcolor\": \"#E5ECF6\", \"radialaxis\": {\"gridcolor\": \"white\", \"linecolor\": \"white\", \"ticks\": \"\"}}, \"scene\": {\"xaxis\": {\"backgroundcolor\": \"#E5ECF6\", \"gridcolor\": \"white\", \"gridwidth\": 2, \"linecolor\": \"white\", \"showbackground\": true, \"ticks\": \"\", \"zerolinecolor\": \"white\"}, \"yaxis\": {\"backgroundcolor\": \"#E5ECF6\", \"gridcolor\": \"white\", \"gridwidth\": 2, \"linecolor\": \"white\", \"showbackground\": true, \"ticks\": \"\", \"zerolinecolor\": \"white\"}, \"zaxis\": {\"backgroundcolor\": \"#E5ECF6\", \"gridcolor\": \"white\", \"gridwidth\": 2, \"linecolor\": \"white\", \"showbackground\": true, \"ticks\": \"\", \"zerolinecolor\": \"white\"}}, \"shapedefaults\": {\"line\": {\"color\": \"#2a3f5f\"}}, \"ternary\": {\"aaxis\": {\"gridcolor\": \"white\", \"linecolor\": \"white\", \"ticks\": \"\"}, \"baxis\": {\"gridcolor\": \"white\", \"linecolor\": \"white\", \"ticks\": \"\"}, \"bgcolor\": \"#E5ECF6\", \"caxis\": {\"gridcolor\": \"white\", \"linecolor\": \"white\", \"ticks\": \"\"}}, \"title\": {\"x\": 0.05}, \"xaxis\": {\"automargin\": true, \"gridcolor\": \"white\", \"linecolor\": \"white\", \"ticks\": \"\", \"title\": {\"standoff\": 15}, \"zerolinecolor\": \"white\", \"zerolinewidth\": 2}, \"yaxis\": {\"automargin\": true, \"gridcolor\": \"white\", \"linecolor\": \"white\", \"ticks\": \"\", \"title\": {\"standoff\": 15}, \"zerolinecolor\": \"white\", \"zerolinewidth\": 2}}}, \"title\": {\"font\": {\"color\": \"#4D5663\"}}, \"xaxis\": {\"gridcolor\": \"#E1E5ED\", \"showgrid\": true, \"tickfont\": {\"color\": \"#4D5663\"}, \"title\": {\"font\": {\"color\": \"#4D5663\"}, \"text\": \"\"}, \"zerolinecolor\": \"#E1E5ED\"}, \"yaxis\": {\"gridcolor\": \"#E1E5ED\", \"showgrid\": true, \"tickfont\": {\"color\": \"#4D5663\"}, \"title\": {\"font\": {\"color\": \"#4D5663\"}, \"text\": \"\"}, \"zerolinecolor\": \"#E1E5ED\"}},\n",
       "                        {\"showLink\": true, \"linkText\": \"Export to plot.ly\", \"plotlyServerURL\": \"https://plot.ly\", \"responsive\": true}\n",
       "                    ).then(function(){\n",
       "                            \n",
       "var gd = document.getElementById('2207385e-3b4a-4f7d-806f-7be8b9ef11d2');\n",
       "var x = new MutationObserver(function (mutations, observer) {{\n",
       "        var display = window.getComputedStyle(gd).display;\n",
       "        if (!display || display === 'none') {{\n",
       "            console.log([gd, 'removed!']);\n",
       "            Plotly.purge(gd);\n",
       "            observer.disconnect();\n",
       "        }}\n",
       "}});\n",
       "\n",
       "// Listen for the removal of the full notebook cells\n",
       "var notebookContainer = gd.closest('#notebook-container');\n",
       "if (notebookContainer) {{\n",
       "    x.observe(notebookContainer, {childList: true});\n",
       "}}\n",
       "\n",
       "// Listen for the clearing of the current output cell\n",
       "var outputEl = gd.closest('.output');\n",
       "if (outputEl) {{\n",
       "    x.observe(outputEl, {childList: true});\n",
       "}}\n",
       "\n",
       "                        })\n",
       "                };\n",
       "                });\n",
       "            </script>\n",
       "        </div>"
      ]
     },
     "metadata": {},
     "output_type": "display_data"
    }
   ],
   "source": [
    "df.iplot()"
   ]
  },
  {
   "cell_type": "code",
   "execution_count": 19,
   "metadata": {},
   "outputs": [
    {
     "data": {
      "application/vnd.plotly.v1+json": {
       "config": {
        "linkText": "Export to plot.ly",
        "plotlyServerURL": "https://plot.ly",
        "showLink": true
       },
       "data": [
        {
         "line": {
          "color": "rgba(255, 153, 51, 1.0)",
          "dash": "solid",
          "shape": "linear",
          "width": 1.3
         },
         "marker": {
          "size": 20,
          "symbol": "circle"
         },
         "mode": "markers",
         "name": "B",
         "text": "",
         "type": "scatter",
         "x": [
          -2.22730975487397,
          -0.5631088680558595,
          -1.096813421072463,
          0.7776205396385625,
          -0.1746463353259903,
          0.3337465451256331,
          -0.22897788899722962,
          -1.6231470277399513,
          0.4314232081733444,
          0.6087774981436374,
          0.6532089544051536,
          0.2305117599532342,
          -0.5411564196238529,
          0.8439914549924954,
          -2.0916013036086567,
          -1.662078336488449,
          -0.32543729134850014,
          0.29824962167806157,
          -0.6980798997625995,
          -1.019787315369518,
          0.9572458365796579,
          0.9988629965772159,
          -1.1284538233162278,
          -0.19827130288135922,
          0.705443439167345,
          0.019762068277110394,
          0.3871897341300344,
          -0.9896492769418976,
          -0.19000203749777425,
          0.805780167610212,
          -0.015579478376413077,
          -0.9327642149249064,
          1.1030851259614476,
          -1.4615649186091488,
          1.1910966452002674,
          1.2020822117973626,
          -0.9236357460382656,
          1.467120146648933,
          0.6842087162635787,
          -0.18825617620140528,
          1.3770709936148462,
          5.008385684764456e-05,
          -0.9704276330639248,
          -1.42229613425193,
          0.14160610886984462,
          0.3427554036620041,
          -0.08990208655324586,
          1.3453423306313845,
          -1.0377535379195855,
          0.8872938889127332,
          0.972796762360093,
          0.5254574431494227,
          -0.9856616109059382,
          -1.3077990867768847,
          -0.20844874892317272,
          0.2989183337534506,
          -1.5616718800201546,
          -0.0019323778924743222,
          0.20940113665143797,
          0.0029624530881309304,
          0.984144258387087,
          0.2475618531391336,
          -0.23699262229757284,
          -2.687279401943814,
          0.8446810172242765,
          -0.8880299894551736,
          0.7042839160755405,
          -0.5371513002818218,
          0.4775543768493773,
          -0.48125734603161674,
          0.1526309703289612,
          0.4644064404748271,
          -0.27086500539226804,
          -0.8209590996270908,
          0.8101224210185378,
          -0.19515477954428107,
          -0.22282797179954303,
          1.6666123096212775,
          0.01936417809362544,
          -2.079755223104781,
          0.592156902996088,
          2.824887493921544,
          1.0702737803297262,
          -0.9900307377950344,
          0.7033005437740754,
          1.1236191123888546,
          2.7894422607871796,
          -0.5154353735216163,
          0.035693159462402105,
          -0.8396511467292964,
          -0.06758949413797499,
          -0.7144381275751631,
          -0.4574377310876855,
          0.7083108180760775,
          0.4904445286575012,
          0.4599990819826413,
          -0.37475060080209466,
          1.231552043935495,
          -0.9797458481615703,
          1.2876018144942427
         ],
         "y": [
          0.9043707587253097,
          1.3436027632821108,
          -1.6751042617936567,
          0.3387377391458157,
          -0.881658387694221,
          -0.7962396282496969,
          -0.2067570773983989,
          -0.2359199741416241,
          -0.8705716186554082,
          -1.4008861407199682,
          0.1232404600970688,
          1.992250522578355,
          -1.0829738162466171,
          0.3459640802743093,
          -0.7320311229180546,
          0.8667190810610911,
          -0.45169491002989454,
          1.8509140495324818,
          -0.1607612316493394,
          0.7678750875088479,
          -1.5681420236965922,
          0.6551997697753668,
          -1.0219136628918817,
          -0.6670704709834635,
          1.4132130035526702,
          -1.636303296014824,
          -1.4467840239362824,
          0.6120696948395167,
          0.5256754216674434,
          -0.6490633308025651,
          -1.7493411237006207,
          -2.2317844881829254,
          -0.4498425724676211,
          -2.179507267801821,
          0.3042365004878486,
          -0.3996537898866624,
          -0.6344723242247944,
          -1.511158111404823,
          1.8606442592214745,
          -0.9221702308510948,
          -1.357878073024533,
          1.0419539337393482,
          -0.39701074963568916,
          -0.009885907719007207,
          0.25199718187257747,
          0.08252493293273659,
          -0.8813288118498757,
          1.2395588902521115,
          0.8192946434014031,
          1.02410077603876,
          2.487820883132203,
          0.3245699415077309,
          -0.3009017101627565,
          -0.765305827485693,
          -0.578496599093978,
          2.16253861959754,
          -0.4223635336834874,
          -1.651750273096774,
          -0.4351400773787977,
          1.8211188584162035,
          0.24664276360730764,
          -0.5937698100161986,
          0.3104386616656303,
          -0.28442291050687013,
          0.6710482751707388,
          -1.0066114116777134,
          -1.2458588210133685,
          -1.0812131138354293,
          0.23322139251366578,
          1.8498665453820595,
          0.46155215141225886,
          -0.8785935220443518,
          0.7419068920050634,
          -0.4406887542644273,
          -0.6015970351044174,
          0.7770402118751695,
          -0.8444766189568531,
          0.21632539676143964,
          0.9500585337542808,
          -0.09870495920870319,
          -1.1301856809698991,
          -1.0349727534691304,
          -1.167898971150679,
          -0.5035843483278787,
          0.04102270577078194,
          -0.20074632934257497,
          -0.33106116501995453,
          -1.7190172294426014,
          -0.4064481174920905,
          0.8176825360210126,
          -0.3504469481027733,
          -0.314470755208347,
          -0.13555527973364587,
          -0.26324493873654636,
          0.2710824187797052,
          -1.5006937200849786,
          1.1850943346761778,
          1.3716499527545902,
          -0.46609424933897065,
          -1.309941218579945
         ]
        }
       ],
       "layout": {
        "legend": {
         "bgcolor": "#F5F6F9",
         "font": {
          "color": "#4D5663"
         }
        },
        "paper_bgcolor": "#F5F6F9",
        "plot_bgcolor": "#F5F6F9",
        "template": {
         "data": {
          "bar": [
           {
            "error_x": {
             "color": "#2a3f5f"
            },
            "error_y": {
             "color": "#2a3f5f"
            },
            "marker": {
             "line": {
              "color": "#E5ECF6",
              "width": 0.5
             }
            },
            "type": "bar"
           }
          ],
          "barpolar": [
           {
            "marker": {
             "line": {
              "color": "#E5ECF6",
              "width": 0.5
             }
            },
            "type": "barpolar"
           }
          ],
          "carpet": [
           {
            "aaxis": {
             "endlinecolor": "#2a3f5f",
             "gridcolor": "white",
             "linecolor": "white",
             "minorgridcolor": "white",
             "startlinecolor": "#2a3f5f"
            },
            "baxis": {
             "endlinecolor": "#2a3f5f",
             "gridcolor": "white",
             "linecolor": "white",
             "minorgridcolor": "white",
             "startlinecolor": "#2a3f5f"
            },
            "type": "carpet"
           }
          ],
          "choropleth": [
           {
            "colorbar": {
             "outlinewidth": 0,
             "ticks": ""
            },
            "type": "choropleth"
           }
          ],
          "contour": [
           {
            "colorbar": {
             "outlinewidth": 0,
             "ticks": ""
            },
            "colorscale": [
             [
              0,
              "#0d0887"
             ],
             [
              0.1111111111111111,
              "#46039f"
             ],
             [
              0.2222222222222222,
              "#7201a8"
             ],
             [
              0.3333333333333333,
              "#9c179e"
             ],
             [
              0.4444444444444444,
              "#bd3786"
             ],
             [
              0.5555555555555556,
              "#d8576b"
             ],
             [
              0.6666666666666666,
              "#ed7953"
             ],
             [
              0.7777777777777778,
              "#fb9f3a"
             ],
             [
              0.8888888888888888,
              "#fdca26"
             ],
             [
              1,
              "#f0f921"
             ]
            ],
            "type": "contour"
           }
          ],
          "contourcarpet": [
           {
            "colorbar": {
             "outlinewidth": 0,
             "ticks": ""
            },
            "type": "contourcarpet"
           }
          ],
          "heatmap": [
           {
            "colorbar": {
             "outlinewidth": 0,
             "ticks": ""
            },
            "colorscale": [
             [
              0,
              "#0d0887"
             ],
             [
              0.1111111111111111,
              "#46039f"
             ],
             [
              0.2222222222222222,
              "#7201a8"
             ],
             [
              0.3333333333333333,
              "#9c179e"
             ],
             [
              0.4444444444444444,
              "#bd3786"
             ],
             [
              0.5555555555555556,
              "#d8576b"
             ],
             [
              0.6666666666666666,
              "#ed7953"
             ],
             [
              0.7777777777777778,
              "#fb9f3a"
             ],
             [
              0.8888888888888888,
              "#fdca26"
             ],
             [
              1,
              "#f0f921"
             ]
            ],
            "type": "heatmap"
           }
          ],
          "heatmapgl": [
           {
            "colorbar": {
             "outlinewidth": 0,
             "ticks": ""
            },
            "colorscale": [
             [
              0,
              "#0d0887"
             ],
             [
              0.1111111111111111,
              "#46039f"
             ],
             [
              0.2222222222222222,
              "#7201a8"
             ],
             [
              0.3333333333333333,
              "#9c179e"
             ],
             [
              0.4444444444444444,
              "#bd3786"
             ],
             [
              0.5555555555555556,
              "#d8576b"
             ],
             [
              0.6666666666666666,
              "#ed7953"
             ],
             [
              0.7777777777777778,
              "#fb9f3a"
             ],
             [
              0.8888888888888888,
              "#fdca26"
             ],
             [
              1,
              "#f0f921"
             ]
            ],
            "type": "heatmapgl"
           }
          ],
          "histogram": [
           {
            "marker": {
             "colorbar": {
              "outlinewidth": 0,
              "ticks": ""
             }
            },
            "type": "histogram"
           }
          ],
          "histogram2d": [
           {
            "colorbar": {
             "outlinewidth": 0,
             "ticks": ""
            },
            "colorscale": [
             [
              0,
              "#0d0887"
             ],
             [
              0.1111111111111111,
              "#46039f"
             ],
             [
              0.2222222222222222,
              "#7201a8"
             ],
             [
              0.3333333333333333,
              "#9c179e"
             ],
             [
              0.4444444444444444,
              "#bd3786"
             ],
             [
              0.5555555555555556,
              "#d8576b"
             ],
             [
              0.6666666666666666,
              "#ed7953"
             ],
             [
              0.7777777777777778,
              "#fb9f3a"
             ],
             [
              0.8888888888888888,
              "#fdca26"
             ],
             [
              1,
              "#f0f921"
             ]
            ],
            "type": "histogram2d"
           }
          ],
          "histogram2dcontour": [
           {
            "colorbar": {
             "outlinewidth": 0,
             "ticks": ""
            },
            "colorscale": [
             [
              0,
              "#0d0887"
             ],
             [
              0.1111111111111111,
              "#46039f"
             ],
             [
              0.2222222222222222,
              "#7201a8"
             ],
             [
              0.3333333333333333,
              "#9c179e"
             ],
             [
              0.4444444444444444,
              "#bd3786"
             ],
             [
              0.5555555555555556,
              "#d8576b"
             ],
             [
              0.6666666666666666,
              "#ed7953"
             ],
             [
              0.7777777777777778,
              "#fb9f3a"
             ],
             [
              0.8888888888888888,
              "#fdca26"
             ],
             [
              1,
              "#f0f921"
             ]
            ],
            "type": "histogram2dcontour"
           }
          ],
          "mesh3d": [
           {
            "colorbar": {
             "outlinewidth": 0,
             "ticks": ""
            },
            "type": "mesh3d"
           }
          ],
          "parcoords": [
           {
            "line": {
             "colorbar": {
              "outlinewidth": 0,
              "ticks": ""
             }
            },
            "type": "parcoords"
           }
          ],
          "pie": [
           {
            "automargin": true,
            "type": "pie"
           }
          ],
          "scatter": [
           {
            "marker": {
             "colorbar": {
              "outlinewidth": 0,
              "ticks": ""
             }
            },
            "type": "scatter"
           }
          ],
          "scatter3d": [
           {
            "line": {
             "colorbar": {
              "outlinewidth": 0,
              "ticks": ""
             }
            },
            "marker": {
             "colorbar": {
              "outlinewidth": 0,
              "ticks": ""
             }
            },
            "type": "scatter3d"
           }
          ],
          "scattercarpet": [
           {
            "marker": {
             "colorbar": {
              "outlinewidth": 0,
              "ticks": ""
             }
            },
            "type": "scattercarpet"
           }
          ],
          "scattergeo": [
           {
            "marker": {
             "colorbar": {
              "outlinewidth": 0,
              "ticks": ""
             }
            },
            "type": "scattergeo"
           }
          ],
          "scattergl": [
           {
            "marker": {
             "colorbar": {
              "outlinewidth": 0,
              "ticks": ""
             }
            },
            "type": "scattergl"
           }
          ],
          "scattermapbox": [
           {
            "marker": {
             "colorbar": {
              "outlinewidth": 0,
              "ticks": ""
             }
            },
            "type": "scattermapbox"
           }
          ],
          "scatterpolar": [
           {
            "marker": {
             "colorbar": {
              "outlinewidth": 0,
              "ticks": ""
             }
            },
            "type": "scatterpolar"
           }
          ],
          "scatterpolargl": [
           {
            "marker": {
             "colorbar": {
              "outlinewidth": 0,
              "ticks": ""
             }
            },
            "type": "scatterpolargl"
           }
          ],
          "scatterternary": [
           {
            "marker": {
             "colorbar": {
              "outlinewidth": 0,
              "ticks": ""
             }
            },
            "type": "scatterternary"
           }
          ],
          "surface": [
           {
            "colorbar": {
             "outlinewidth": 0,
             "ticks": ""
            },
            "colorscale": [
             [
              0,
              "#0d0887"
             ],
             [
              0.1111111111111111,
              "#46039f"
             ],
             [
              0.2222222222222222,
              "#7201a8"
             ],
             [
              0.3333333333333333,
              "#9c179e"
             ],
             [
              0.4444444444444444,
              "#bd3786"
             ],
             [
              0.5555555555555556,
              "#d8576b"
             ],
             [
              0.6666666666666666,
              "#ed7953"
             ],
             [
              0.7777777777777778,
              "#fb9f3a"
             ],
             [
              0.8888888888888888,
              "#fdca26"
             ],
             [
              1,
              "#f0f921"
             ]
            ],
            "type": "surface"
           }
          ],
          "table": [
           {
            "cells": {
             "fill": {
              "color": "#EBF0F8"
             },
             "line": {
              "color": "white"
             }
            },
            "header": {
             "fill": {
              "color": "#C8D4E3"
             },
             "line": {
              "color": "white"
             }
            },
            "type": "table"
           }
          ]
         },
         "layout": {
          "annotationdefaults": {
           "arrowcolor": "#2a3f5f",
           "arrowhead": 0,
           "arrowwidth": 1
          },
          "coloraxis": {
           "colorbar": {
            "outlinewidth": 0,
            "ticks": ""
           }
          },
          "colorscale": {
           "diverging": [
            [
             0,
             "#8e0152"
            ],
            [
             0.1,
             "#c51b7d"
            ],
            [
             0.2,
             "#de77ae"
            ],
            [
             0.3,
             "#f1b6da"
            ],
            [
             0.4,
             "#fde0ef"
            ],
            [
             0.5,
             "#f7f7f7"
            ],
            [
             0.6,
             "#e6f5d0"
            ],
            [
             0.7,
             "#b8e186"
            ],
            [
             0.8,
             "#7fbc41"
            ],
            [
             0.9,
             "#4d9221"
            ],
            [
             1,
             "#276419"
            ]
           ],
           "sequential": [
            [
             0,
             "#0d0887"
            ],
            [
             0.1111111111111111,
             "#46039f"
            ],
            [
             0.2222222222222222,
             "#7201a8"
            ],
            [
             0.3333333333333333,
             "#9c179e"
            ],
            [
             0.4444444444444444,
             "#bd3786"
            ],
            [
             0.5555555555555556,
             "#d8576b"
            ],
            [
             0.6666666666666666,
             "#ed7953"
            ],
            [
             0.7777777777777778,
             "#fb9f3a"
            ],
            [
             0.8888888888888888,
             "#fdca26"
            ],
            [
             1,
             "#f0f921"
            ]
           ],
           "sequentialminus": [
            [
             0,
             "#0d0887"
            ],
            [
             0.1111111111111111,
             "#46039f"
            ],
            [
             0.2222222222222222,
             "#7201a8"
            ],
            [
             0.3333333333333333,
             "#9c179e"
            ],
            [
             0.4444444444444444,
             "#bd3786"
            ],
            [
             0.5555555555555556,
             "#d8576b"
            ],
            [
             0.6666666666666666,
             "#ed7953"
            ],
            [
             0.7777777777777778,
             "#fb9f3a"
            ],
            [
             0.8888888888888888,
             "#fdca26"
            ],
            [
             1,
             "#f0f921"
            ]
           ]
          },
          "colorway": [
           "#636efa",
           "#EF553B",
           "#00cc96",
           "#ab63fa",
           "#FFA15A",
           "#19d3f3",
           "#FF6692",
           "#B6E880",
           "#FF97FF",
           "#FECB52"
          ],
          "font": {
           "color": "#2a3f5f"
          },
          "geo": {
           "bgcolor": "white",
           "lakecolor": "white",
           "landcolor": "#E5ECF6",
           "showlakes": true,
           "showland": true,
           "subunitcolor": "white"
          },
          "hoverlabel": {
           "align": "left"
          },
          "hovermode": "closest",
          "mapbox": {
           "style": "light"
          },
          "paper_bgcolor": "white",
          "plot_bgcolor": "#E5ECF6",
          "polar": {
           "angularaxis": {
            "gridcolor": "white",
            "linecolor": "white",
            "ticks": ""
           },
           "bgcolor": "#E5ECF6",
           "radialaxis": {
            "gridcolor": "white",
            "linecolor": "white",
            "ticks": ""
           }
          },
          "scene": {
           "xaxis": {
            "backgroundcolor": "#E5ECF6",
            "gridcolor": "white",
            "gridwidth": 2,
            "linecolor": "white",
            "showbackground": true,
            "ticks": "",
            "zerolinecolor": "white"
           },
           "yaxis": {
            "backgroundcolor": "#E5ECF6",
            "gridcolor": "white",
            "gridwidth": 2,
            "linecolor": "white",
            "showbackground": true,
            "ticks": "",
            "zerolinecolor": "white"
           },
           "zaxis": {
            "backgroundcolor": "#E5ECF6",
            "gridcolor": "white",
            "gridwidth": 2,
            "linecolor": "white",
            "showbackground": true,
            "ticks": "",
            "zerolinecolor": "white"
           }
          },
          "shapedefaults": {
           "line": {
            "color": "#2a3f5f"
           }
          },
          "ternary": {
           "aaxis": {
            "gridcolor": "white",
            "linecolor": "white",
            "ticks": ""
           },
           "baxis": {
            "gridcolor": "white",
            "linecolor": "white",
            "ticks": ""
           },
           "bgcolor": "#E5ECF6",
           "caxis": {
            "gridcolor": "white",
            "linecolor": "white",
            "ticks": ""
           }
          },
          "title": {
           "x": 0.05
          },
          "xaxis": {
           "automargin": true,
           "gridcolor": "white",
           "linecolor": "white",
           "ticks": "",
           "title": {
            "standoff": 15
           },
           "zerolinecolor": "white",
           "zerolinewidth": 2
          },
          "yaxis": {
           "automargin": true,
           "gridcolor": "white",
           "linecolor": "white",
           "ticks": "",
           "title": {
            "standoff": 15
           },
           "zerolinecolor": "white",
           "zerolinewidth": 2
          }
         }
        },
        "title": {
         "font": {
          "color": "#4D5663"
         }
        },
        "xaxis": {
         "gridcolor": "#E1E5ED",
         "showgrid": true,
         "tickfont": {
          "color": "#4D5663"
         },
         "title": {
          "font": {
           "color": "#4D5663"
          },
          "text": ""
         },
         "zerolinecolor": "#E1E5ED"
        },
        "yaxis": {
         "gridcolor": "#E1E5ED",
         "showgrid": true,
         "tickfont": {
          "color": "#4D5663"
         },
         "title": {
          "font": {
           "color": "#4D5663"
          },
          "text": ""
         },
         "zerolinecolor": "#E1E5ED"
        }
       }
      },
      "text/html": [
       "<div>\n",
       "        \n",
       "        \n",
       "            <div id=\"e3a6390a-a041-429d-8c6d-34e49ec202b7\" class=\"plotly-graph-div\" style=\"height:525px; width:100%;\"></div>\n",
       "            <script type=\"text/javascript\">\n",
       "                require([\"plotly\"], function(Plotly) {\n",
       "                    window.PLOTLYENV=window.PLOTLYENV || {};\n",
       "                    window.PLOTLYENV.BASE_URL='https://plot.ly';\n",
       "                    \n",
       "                if (document.getElementById(\"e3a6390a-a041-429d-8c6d-34e49ec202b7\")) {\n",
       "                    Plotly.newPlot(\n",
       "                        'e3a6390a-a041-429d-8c6d-34e49ec202b7',\n",
       "                        [{\"line\": {\"color\": \"rgba(255, 153, 51, 1.0)\", \"dash\": \"solid\", \"shape\": \"linear\", \"width\": 1.3}, \"marker\": {\"size\": 20, \"symbol\": \"circle\"}, \"mode\": \"markers\", \"name\": \"B\", \"text\": \"\", \"type\": \"scatter\", \"x\": [-2.22730975487397, -0.5631088680558595, -1.096813421072463, 0.7776205396385625, -0.1746463353259903, 0.3337465451256331, -0.22897788899722962, -1.6231470277399513, 0.4314232081733444, 0.6087774981436374, 0.6532089544051536, 0.2305117599532342, -0.5411564196238529, 0.8439914549924954, -2.0916013036086567, -1.662078336488449, -0.32543729134850014, 0.29824962167806157, -0.6980798997625995, -1.019787315369518, 0.9572458365796579, 0.9988629965772159, -1.1284538233162278, -0.19827130288135922, 0.705443439167345, 0.019762068277110394, 0.3871897341300344, -0.9896492769418976, -0.19000203749777425, 0.805780167610212, -0.015579478376413077, -0.9327642149249064, 1.1030851259614476, -1.4615649186091488, 1.1910966452002674, 1.2020822117973626, -0.9236357460382656, 1.467120146648933, 0.6842087162635787, -0.18825617620140528, 1.3770709936148462, 5.008385684764456e-05, -0.9704276330639248, -1.42229613425193, 0.14160610886984462, 0.3427554036620041, -0.08990208655324586, 1.3453423306313845, -1.0377535379195855, 0.8872938889127332, 0.972796762360093, 0.5254574431494227, -0.9856616109059382, -1.3077990867768847, -0.20844874892317272, 0.2989183337534506, -1.5616718800201546, -0.0019323778924743222, 0.20940113665143797, 0.0029624530881309304, 0.984144258387087, 0.2475618531391336, -0.23699262229757284, -2.687279401943814, 0.8446810172242765, -0.8880299894551736, 0.7042839160755405, -0.5371513002818218, 0.4775543768493773, -0.48125734603161674, 0.1526309703289612, 0.4644064404748271, -0.27086500539226804, -0.8209590996270908, 0.8101224210185378, -0.19515477954428107, -0.22282797179954303, 1.6666123096212775, 0.01936417809362544, -2.079755223104781, 0.592156902996088, 2.824887493921544, 1.0702737803297262, -0.9900307377950344, 0.7033005437740754, 1.1236191123888546, 2.7894422607871796, -0.5154353735216163, 0.035693159462402105, -0.8396511467292964, -0.06758949413797499, -0.7144381275751631, -0.4574377310876855, 0.7083108180760775, 0.4904445286575012, 0.4599990819826413, -0.37475060080209466, 1.231552043935495, -0.9797458481615703, 1.2876018144942427], \"y\": [0.9043707587253097, 1.3436027632821108, -1.6751042617936567, 0.3387377391458157, -0.881658387694221, -0.7962396282496969, -0.2067570773983989, -0.2359199741416241, -0.8705716186554082, -1.4008861407199682, 0.1232404600970688, 1.992250522578355, -1.0829738162466171, 0.3459640802743093, -0.7320311229180546, 0.8667190810610911, -0.45169491002989454, 1.8509140495324818, -0.1607612316493394, 0.7678750875088479, -1.5681420236965922, 0.6551997697753668, -1.0219136628918817, -0.6670704709834635, 1.4132130035526702, -1.636303296014824, -1.4467840239362824, 0.6120696948395167, 0.5256754216674434, -0.6490633308025651, -1.7493411237006207, -2.2317844881829254, -0.4498425724676211, -2.179507267801821, 0.3042365004878486, -0.3996537898866624, -0.6344723242247944, -1.511158111404823, 1.8606442592214745, -0.9221702308510948, -1.357878073024533, 1.0419539337393482, -0.39701074963568916, -0.009885907719007207, 0.25199718187257747, 0.08252493293273659, -0.8813288118498757, 1.2395588902521115, 0.8192946434014031, 1.02410077603876, 2.487820883132203, 0.3245699415077309, -0.3009017101627565, -0.765305827485693, -0.578496599093978, 2.16253861959754, -0.4223635336834874, -1.651750273096774, -0.4351400773787977, 1.8211188584162035, 0.24664276360730764, -0.5937698100161986, 0.3104386616656303, -0.28442291050687013, 0.6710482751707388, -1.0066114116777134, -1.2458588210133685, -1.0812131138354293, 0.23322139251366578, 1.8498665453820595, 0.46155215141225886, -0.8785935220443518, 0.7419068920050634, -0.4406887542644273, -0.6015970351044174, 0.7770402118751695, -0.8444766189568531, 0.21632539676143964, 0.9500585337542808, -0.09870495920870319, -1.1301856809698991, -1.0349727534691304, -1.167898971150679, -0.5035843483278787, 0.04102270577078194, -0.20074632934257497, -0.33106116501995453, -1.7190172294426014, -0.4064481174920905, 0.8176825360210126, -0.3504469481027733, -0.314470755208347, -0.13555527973364587, -0.26324493873654636, 0.2710824187797052, -1.5006937200849786, 1.1850943346761778, 1.3716499527545902, -0.46609424933897065, -1.309941218579945]}],\n",
       "                        {\"legend\": {\"bgcolor\": \"#F5F6F9\", \"font\": {\"color\": \"#4D5663\"}}, \"paper_bgcolor\": \"#F5F6F9\", \"plot_bgcolor\": \"#F5F6F9\", \"template\": {\"data\": {\"bar\": [{\"error_x\": {\"color\": \"#2a3f5f\"}, \"error_y\": {\"color\": \"#2a3f5f\"}, \"marker\": {\"line\": {\"color\": \"#E5ECF6\", \"width\": 0.5}}, \"type\": \"bar\"}], \"barpolar\": [{\"marker\": {\"line\": {\"color\": \"#E5ECF6\", \"width\": 0.5}}, \"type\": \"barpolar\"}], \"carpet\": [{\"aaxis\": {\"endlinecolor\": \"#2a3f5f\", \"gridcolor\": \"white\", \"linecolor\": \"white\", \"minorgridcolor\": \"white\", \"startlinecolor\": \"#2a3f5f\"}, \"baxis\": {\"endlinecolor\": \"#2a3f5f\", \"gridcolor\": \"white\", \"linecolor\": \"white\", \"minorgridcolor\": \"white\", \"startlinecolor\": \"#2a3f5f\"}, \"type\": \"carpet\"}], \"choropleth\": [{\"colorbar\": {\"outlinewidth\": 0, \"ticks\": \"\"}, \"type\": \"choropleth\"}], \"contour\": [{\"colorbar\": {\"outlinewidth\": 0, \"ticks\": \"\"}, \"colorscale\": [[0.0, \"#0d0887\"], [0.1111111111111111, \"#46039f\"], [0.2222222222222222, \"#7201a8\"], [0.3333333333333333, \"#9c179e\"], [0.4444444444444444, \"#bd3786\"], [0.5555555555555556, \"#d8576b\"], [0.6666666666666666, \"#ed7953\"], [0.7777777777777778, \"#fb9f3a\"], [0.8888888888888888, \"#fdca26\"], [1.0, \"#f0f921\"]], \"type\": \"contour\"}], \"contourcarpet\": [{\"colorbar\": {\"outlinewidth\": 0, \"ticks\": \"\"}, \"type\": \"contourcarpet\"}], \"heatmap\": [{\"colorbar\": {\"outlinewidth\": 0, \"ticks\": \"\"}, \"colorscale\": [[0.0, \"#0d0887\"], [0.1111111111111111, \"#46039f\"], [0.2222222222222222, \"#7201a8\"], [0.3333333333333333, \"#9c179e\"], [0.4444444444444444, \"#bd3786\"], [0.5555555555555556, \"#d8576b\"], [0.6666666666666666, \"#ed7953\"], [0.7777777777777778, \"#fb9f3a\"], [0.8888888888888888, \"#fdca26\"], [1.0, \"#f0f921\"]], \"type\": \"heatmap\"}], \"heatmapgl\": [{\"colorbar\": {\"outlinewidth\": 0, \"ticks\": \"\"}, \"colorscale\": [[0.0, \"#0d0887\"], [0.1111111111111111, \"#46039f\"], [0.2222222222222222, \"#7201a8\"], [0.3333333333333333, \"#9c179e\"], [0.4444444444444444, \"#bd3786\"], [0.5555555555555556, \"#d8576b\"], [0.6666666666666666, \"#ed7953\"], [0.7777777777777778, \"#fb9f3a\"], [0.8888888888888888, \"#fdca26\"], [1.0, \"#f0f921\"]], \"type\": \"heatmapgl\"}], \"histogram\": [{\"marker\": {\"colorbar\": {\"outlinewidth\": 0, \"ticks\": \"\"}}, \"type\": \"histogram\"}], \"histogram2d\": [{\"colorbar\": {\"outlinewidth\": 0, \"ticks\": \"\"}, \"colorscale\": [[0.0, \"#0d0887\"], [0.1111111111111111, \"#46039f\"], [0.2222222222222222, \"#7201a8\"], [0.3333333333333333, \"#9c179e\"], [0.4444444444444444, \"#bd3786\"], [0.5555555555555556, \"#d8576b\"], [0.6666666666666666, \"#ed7953\"], [0.7777777777777778, \"#fb9f3a\"], [0.8888888888888888, \"#fdca26\"], [1.0, \"#f0f921\"]], \"type\": \"histogram2d\"}], \"histogram2dcontour\": [{\"colorbar\": {\"outlinewidth\": 0, \"ticks\": \"\"}, \"colorscale\": [[0.0, \"#0d0887\"], [0.1111111111111111, \"#46039f\"], [0.2222222222222222, \"#7201a8\"], [0.3333333333333333, \"#9c179e\"], [0.4444444444444444, \"#bd3786\"], [0.5555555555555556, \"#d8576b\"], [0.6666666666666666, \"#ed7953\"], [0.7777777777777778, \"#fb9f3a\"], [0.8888888888888888, \"#fdca26\"], [1.0, \"#f0f921\"]], \"type\": \"histogram2dcontour\"}], \"mesh3d\": [{\"colorbar\": {\"outlinewidth\": 0, \"ticks\": \"\"}, \"type\": \"mesh3d\"}], \"parcoords\": [{\"line\": {\"colorbar\": {\"outlinewidth\": 0, \"ticks\": \"\"}}, \"type\": \"parcoords\"}], \"pie\": [{\"automargin\": true, \"type\": \"pie\"}], \"scatter\": [{\"marker\": {\"colorbar\": {\"outlinewidth\": 0, \"ticks\": \"\"}}, \"type\": \"scatter\"}], \"scatter3d\": [{\"line\": {\"colorbar\": {\"outlinewidth\": 0, \"ticks\": \"\"}}, \"marker\": {\"colorbar\": {\"outlinewidth\": 0, \"ticks\": \"\"}}, \"type\": \"scatter3d\"}], \"scattercarpet\": [{\"marker\": {\"colorbar\": {\"outlinewidth\": 0, \"ticks\": \"\"}}, \"type\": \"scattercarpet\"}], \"scattergeo\": [{\"marker\": {\"colorbar\": {\"outlinewidth\": 0, \"ticks\": \"\"}}, \"type\": \"scattergeo\"}], \"scattergl\": [{\"marker\": {\"colorbar\": {\"outlinewidth\": 0, \"ticks\": \"\"}}, \"type\": \"scattergl\"}], \"scattermapbox\": [{\"marker\": {\"colorbar\": {\"outlinewidth\": 0, \"ticks\": \"\"}}, \"type\": \"scattermapbox\"}], \"scatterpolar\": [{\"marker\": {\"colorbar\": {\"outlinewidth\": 0, \"ticks\": \"\"}}, \"type\": \"scatterpolar\"}], \"scatterpolargl\": [{\"marker\": {\"colorbar\": {\"outlinewidth\": 0, \"ticks\": \"\"}}, \"type\": \"scatterpolargl\"}], \"scatterternary\": [{\"marker\": {\"colorbar\": {\"outlinewidth\": 0, \"ticks\": \"\"}}, \"type\": \"scatterternary\"}], \"surface\": [{\"colorbar\": {\"outlinewidth\": 0, \"ticks\": \"\"}, \"colorscale\": [[0.0, \"#0d0887\"], [0.1111111111111111, \"#46039f\"], [0.2222222222222222, \"#7201a8\"], [0.3333333333333333, \"#9c179e\"], [0.4444444444444444, \"#bd3786\"], [0.5555555555555556, \"#d8576b\"], [0.6666666666666666, \"#ed7953\"], [0.7777777777777778, \"#fb9f3a\"], [0.8888888888888888, \"#fdca26\"], [1.0, \"#f0f921\"]], \"type\": \"surface\"}], \"table\": [{\"cells\": {\"fill\": {\"color\": \"#EBF0F8\"}, \"line\": {\"color\": \"white\"}}, \"header\": {\"fill\": {\"color\": \"#C8D4E3\"}, \"line\": {\"color\": \"white\"}}, \"type\": \"table\"}]}, \"layout\": {\"annotationdefaults\": {\"arrowcolor\": \"#2a3f5f\", \"arrowhead\": 0, \"arrowwidth\": 1}, \"coloraxis\": {\"colorbar\": {\"outlinewidth\": 0, \"ticks\": \"\"}}, \"colorscale\": {\"diverging\": [[0, \"#8e0152\"], [0.1, \"#c51b7d\"], [0.2, \"#de77ae\"], [0.3, \"#f1b6da\"], [0.4, \"#fde0ef\"], [0.5, \"#f7f7f7\"], [0.6, \"#e6f5d0\"], [0.7, \"#b8e186\"], [0.8, \"#7fbc41\"], [0.9, \"#4d9221\"], [1, \"#276419\"]], \"sequential\": [[0.0, \"#0d0887\"], [0.1111111111111111, \"#46039f\"], [0.2222222222222222, \"#7201a8\"], [0.3333333333333333, \"#9c179e\"], [0.4444444444444444, \"#bd3786\"], [0.5555555555555556, \"#d8576b\"], [0.6666666666666666, \"#ed7953\"], [0.7777777777777778, \"#fb9f3a\"], [0.8888888888888888, \"#fdca26\"], [1.0, \"#f0f921\"]], \"sequentialminus\": [[0.0, \"#0d0887\"], [0.1111111111111111, \"#46039f\"], [0.2222222222222222, \"#7201a8\"], [0.3333333333333333, \"#9c179e\"], [0.4444444444444444, \"#bd3786\"], [0.5555555555555556, \"#d8576b\"], [0.6666666666666666, \"#ed7953\"], [0.7777777777777778, \"#fb9f3a\"], [0.8888888888888888, \"#fdca26\"], [1.0, \"#f0f921\"]]}, \"colorway\": [\"#636efa\", \"#EF553B\", \"#00cc96\", \"#ab63fa\", \"#FFA15A\", \"#19d3f3\", \"#FF6692\", \"#B6E880\", \"#FF97FF\", \"#FECB52\"], \"font\": {\"color\": \"#2a3f5f\"}, \"geo\": {\"bgcolor\": \"white\", \"lakecolor\": \"white\", \"landcolor\": \"#E5ECF6\", \"showlakes\": true, \"showland\": true, \"subunitcolor\": \"white\"}, \"hoverlabel\": {\"align\": \"left\"}, \"hovermode\": \"closest\", \"mapbox\": {\"style\": \"light\"}, \"paper_bgcolor\": \"white\", \"plot_bgcolor\": \"#E5ECF6\", \"polar\": {\"angularaxis\": {\"gridcolor\": \"white\", \"linecolor\": \"white\", \"ticks\": \"\"}, \"bgcolor\": \"#E5ECF6\", \"radialaxis\": {\"gridcolor\": \"white\", \"linecolor\": \"white\", \"ticks\": \"\"}}, \"scene\": {\"xaxis\": {\"backgroundcolor\": \"#E5ECF6\", \"gridcolor\": \"white\", \"gridwidth\": 2, \"linecolor\": \"white\", \"showbackground\": true, \"ticks\": \"\", \"zerolinecolor\": \"white\"}, \"yaxis\": {\"backgroundcolor\": \"#E5ECF6\", \"gridcolor\": \"white\", \"gridwidth\": 2, \"linecolor\": \"white\", \"showbackground\": true, \"ticks\": \"\", \"zerolinecolor\": \"white\"}, \"zaxis\": {\"backgroundcolor\": \"#E5ECF6\", \"gridcolor\": \"white\", \"gridwidth\": 2, \"linecolor\": \"white\", \"showbackground\": true, \"ticks\": \"\", \"zerolinecolor\": \"white\"}}, \"shapedefaults\": {\"line\": {\"color\": \"#2a3f5f\"}}, \"ternary\": {\"aaxis\": {\"gridcolor\": \"white\", \"linecolor\": \"white\", \"ticks\": \"\"}, \"baxis\": {\"gridcolor\": \"white\", \"linecolor\": \"white\", \"ticks\": \"\"}, \"bgcolor\": \"#E5ECF6\", \"caxis\": {\"gridcolor\": \"white\", \"linecolor\": \"white\", \"ticks\": \"\"}}, \"title\": {\"x\": 0.05}, \"xaxis\": {\"automargin\": true, \"gridcolor\": \"white\", \"linecolor\": \"white\", \"ticks\": \"\", \"title\": {\"standoff\": 15}, \"zerolinecolor\": \"white\", \"zerolinewidth\": 2}, \"yaxis\": {\"automargin\": true, \"gridcolor\": \"white\", \"linecolor\": \"white\", \"ticks\": \"\", \"title\": {\"standoff\": 15}, \"zerolinecolor\": \"white\", \"zerolinewidth\": 2}}}, \"title\": {\"font\": {\"color\": \"#4D5663\"}}, \"xaxis\": {\"gridcolor\": \"#E1E5ED\", \"showgrid\": true, \"tickfont\": {\"color\": \"#4D5663\"}, \"title\": {\"font\": {\"color\": \"#4D5663\"}, \"text\": \"\"}, \"zerolinecolor\": \"#E1E5ED\"}, \"yaxis\": {\"gridcolor\": \"#E1E5ED\", \"showgrid\": true, \"tickfont\": {\"color\": \"#4D5663\"}, \"title\": {\"font\": {\"color\": \"#4D5663\"}, \"text\": \"\"}, \"zerolinecolor\": \"#E1E5ED\"}},\n",
       "                        {\"showLink\": true, \"linkText\": \"Export to plot.ly\", \"plotlyServerURL\": \"https://plot.ly\", \"responsive\": true}\n",
       "                    ).then(function(){\n",
       "                            \n",
       "var gd = document.getElementById('e3a6390a-a041-429d-8c6d-34e49ec202b7');\n",
       "var x = new MutationObserver(function (mutations, observer) {{\n",
       "        var display = window.getComputedStyle(gd).display;\n",
       "        if (!display || display === 'none') {{\n",
       "            console.log([gd, 'removed!']);\n",
       "            Plotly.purge(gd);\n",
       "            observer.disconnect();\n",
       "        }}\n",
       "}});\n",
       "\n",
       "// Listen for the removal of the full notebook cells\n",
       "var notebookContainer = gd.closest('#notebook-container');\n",
       "if (notebookContainer) {{\n",
       "    x.observe(notebookContainer, {childList: true});\n",
       "}}\n",
       "\n",
       "// Listen for the clearing of the current output cell\n",
       "var outputEl = gd.closest('.output');\n",
       "if (outputEl) {{\n",
       "    x.observe(outputEl, {childList: true});\n",
       "}}\n",
       "\n",
       "                        })\n",
       "                };\n",
       "                });\n",
       "            </script>\n",
       "        </div>"
      ]
     },
     "metadata": {},
     "output_type": "display_data"
    }
   ],
   "source": [
    "df.iplot(kind='scatter',x='A',y='B',mode='markers',size=20)"
   ]
  },
  {
   "cell_type": "code",
   "execution_count": 22,
   "metadata": {},
   "outputs": [
    {
     "data": {
      "application/vnd.plotly.v1+json": {
       "config": {
        "linkText": "Export to plot.ly",
        "plotlyServerURL": "https://plot.ly",
        "showLink": true
       },
       "data": [
        {
         "marker": {
          "color": "rgba(255, 153, 51, 0.6)",
          "line": {
           "color": "rgba(255, 153, 51, 1.0)",
           "width": 1
          }
         },
         "name": "Values",
         "orientation": "v",
         "text": "",
         "type": "bar",
         "x": [
          "A",
          "B",
          "C"
         ],
         "y": [
          32,
          43,
          50
         ]
        }
       ],
       "layout": {
        "legend": {
         "bgcolor": "#F5F6F9",
         "font": {
          "color": "#4D5663"
         }
        },
        "paper_bgcolor": "#F5F6F9",
        "plot_bgcolor": "#F5F6F9",
        "template": {
         "data": {
          "bar": [
           {
            "error_x": {
             "color": "#2a3f5f"
            },
            "error_y": {
             "color": "#2a3f5f"
            },
            "marker": {
             "line": {
              "color": "#E5ECF6",
              "width": 0.5
             }
            },
            "type": "bar"
           }
          ],
          "barpolar": [
           {
            "marker": {
             "line": {
              "color": "#E5ECF6",
              "width": 0.5
             }
            },
            "type": "barpolar"
           }
          ],
          "carpet": [
           {
            "aaxis": {
             "endlinecolor": "#2a3f5f",
             "gridcolor": "white",
             "linecolor": "white",
             "minorgridcolor": "white",
             "startlinecolor": "#2a3f5f"
            },
            "baxis": {
             "endlinecolor": "#2a3f5f",
             "gridcolor": "white",
             "linecolor": "white",
             "minorgridcolor": "white",
             "startlinecolor": "#2a3f5f"
            },
            "type": "carpet"
           }
          ],
          "choropleth": [
           {
            "colorbar": {
             "outlinewidth": 0,
             "ticks": ""
            },
            "type": "choropleth"
           }
          ],
          "contour": [
           {
            "colorbar": {
             "outlinewidth": 0,
             "ticks": ""
            },
            "colorscale": [
             [
              0,
              "#0d0887"
             ],
             [
              0.1111111111111111,
              "#46039f"
             ],
             [
              0.2222222222222222,
              "#7201a8"
             ],
             [
              0.3333333333333333,
              "#9c179e"
             ],
             [
              0.4444444444444444,
              "#bd3786"
             ],
             [
              0.5555555555555556,
              "#d8576b"
             ],
             [
              0.6666666666666666,
              "#ed7953"
             ],
             [
              0.7777777777777778,
              "#fb9f3a"
             ],
             [
              0.8888888888888888,
              "#fdca26"
             ],
             [
              1,
              "#f0f921"
             ]
            ],
            "type": "contour"
           }
          ],
          "contourcarpet": [
           {
            "colorbar": {
             "outlinewidth": 0,
             "ticks": ""
            },
            "type": "contourcarpet"
           }
          ],
          "heatmap": [
           {
            "colorbar": {
             "outlinewidth": 0,
             "ticks": ""
            },
            "colorscale": [
             [
              0,
              "#0d0887"
             ],
             [
              0.1111111111111111,
              "#46039f"
             ],
             [
              0.2222222222222222,
              "#7201a8"
             ],
             [
              0.3333333333333333,
              "#9c179e"
             ],
             [
              0.4444444444444444,
              "#bd3786"
             ],
             [
              0.5555555555555556,
              "#d8576b"
             ],
             [
              0.6666666666666666,
              "#ed7953"
             ],
             [
              0.7777777777777778,
              "#fb9f3a"
             ],
             [
              0.8888888888888888,
              "#fdca26"
             ],
             [
              1,
              "#f0f921"
             ]
            ],
            "type": "heatmap"
           }
          ],
          "heatmapgl": [
           {
            "colorbar": {
             "outlinewidth": 0,
             "ticks": ""
            },
            "colorscale": [
             [
              0,
              "#0d0887"
             ],
             [
              0.1111111111111111,
              "#46039f"
             ],
             [
              0.2222222222222222,
              "#7201a8"
             ],
             [
              0.3333333333333333,
              "#9c179e"
             ],
             [
              0.4444444444444444,
              "#bd3786"
             ],
             [
              0.5555555555555556,
              "#d8576b"
             ],
             [
              0.6666666666666666,
              "#ed7953"
             ],
             [
              0.7777777777777778,
              "#fb9f3a"
             ],
             [
              0.8888888888888888,
              "#fdca26"
             ],
             [
              1,
              "#f0f921"
             ]
            ],
            "type": "heatmapgl"
           }
          ],
          "histogram": [
           {
            "marker": {
             "colorbar": {
              "outlinewidth": 0,
              "ticks": ""
             }
            },
            "type": "histogram"
           }
          ],
          "histogram2d": [
           {
            "colorbar": {
             "outlinewidth": 0,
             "ticks": ""
            },
            "colorscale": [
             [
              0,
              "#0d0887"
             ],
             [
              0.1111111111111111,
              "#46039f"
             ],
             [
              0.2222222222222222,
              "#7201a8"
             ],
             [
              0.3333333333333333,
              "#9c179e"
             ],
             [
              0.4444444444444444,
              "#bd3786"
             ],
             [
              0.5555555555555556,
              "#d8576b"
             ],
             [
              0.6666666666666666,
              "#ed7953"
             ],
             [
              0.7777777777777778,
              "#fb9f3a"
             ],
             [
              0.8888888888888888,
              "#fdca26"
             ],
             [
              1,
              "#f0f921"
             ]
            ],
            "type": "histogram2d"
           }
          ],
          "histogram2dcontour": [
           {
            "colorbar": {
             "outlinewidth": 0,
             "ticks": ""
            },
            "colorscale": [
             [
              0,
              "#0d0887"
             ],
             [
              0.1111111111111111,
              "#46039f"
             ],
             [
              0.2222222222222222,
              "#7201a8"
             ],
             [
              0.3333333333333333,
              "#9c179e"
             ],
             [
              0.4444444444444444,
              "#bd3786"
             ],
             [
              0.5555555555555556,
              "#d8576b"
             ],
             [
              0.6666666666666666,
              "#ed7953"
             ],
             [
              0.7777777777777778,
              "#fb9f3a"
             ],
             [
              0.8888888888888888,
              "#fdca26"
             ],
             [
              1,
              "#f0f921"
             ]
            ],
            "type": "histogram2dcontour"
           }
          ],
          "mesh3d": [
           {
            "colorbar": {
             "outlinewidth": 0,
             "ticks": ""
            },
            "type": "mesh3d"
           }
          ],
          "parcoords": [
           {
            "line": {
             "colorbar": {
              "outlinewidth": 0,
              "ticks": ""
             }
            },
            "type": "parcoords"
           }
          ],
          "pie": [
           {
            "automargin": true,
            "type": "pie"
           }
          ],
          "scatter": [
           {
            "marker": {
             "colorbar": {
              "outlinewidth": 0,
              "ticks": ""
             }
            },
            "type": "scatter"
           }
          ],
          "scatter3d": [
           {
            "line": {
             "colorbar": {
              "outlinewidth": 0,
              "ticks": ""
             }
            },
            "marker": {
             "colorbar": {
              "outlinewidth": 0,
              "ticks": ""
             }
            },
            "type": "scatter3d"
           }
          ],
          "scattercarpet": [
           {
            "marker": {
             "colorbar": {
              "outlinewidth": 0,
              "ticks": ""
             }
            },
            "type": "scattercarpet"
           }
          ],
          "scattergeo": [
           {
            "marker": {
             "colorbar": {
              "outlinewidth": 0,
              "ticks": ""
             }
            },
            "type": "scattergeo"
           }
          ],
          "scattergl": [
           {
            "marker": {
             "colorbar": {
              "outlinewidth": 0,
              "ticks": ""
             }
            },
            "type": "scattergl"
           }
          ],
          "scattermapbox": [
           {
            "marker": {
             "colorbar": {
              "outlinewidth": 0,
              "ticks": ""
             }
            },
            "type": "scattermapbox"
           }
          ],
          "scatterpolar": [
           {
            "marker": {
             "colorbar": {
              "outlinewidth": 0,
              "ticks": ""
             }
            },
            "type": "scatterpolar"
           }
          ],
          "scatterpolargl": [
           {
            "marker": {
             "colorbar": {
              "outlinewidth": 0,
              "ticks": ""
             }
            },
            "type": "scatterpolargl"
           }
          ],
          "scatterternary": [
           {
            "marker": {
             "colorbar": {
              "outlinewidth": 0,
              "ticks": ""
             }
            },
            "type": "scatterternary"
           }
          ],
          "surface": [
           {
            "colorbar": {
             "outlinewidth": 0,
             "ticks": ""
            },
            "colorscale": [
             [
              0,
              "#0d0887"
             ],
             [
              0.1111111111111111,
              "#46039f"
             ],
             [
              0.2222222222222222,
              "#7201a8"
             ],
             [
              0.3333333333333333,
              "#9c179e"
             ],
             [
              0.4444444444444444,
              "#bd3786"
             ],
             [
              0.5555555555555556,
              "#d8576b"
             ],
             [
              0.6666666666666666,
              "#ed7953"
             ],
             [
              0.7777777777777778,
              "#fb9f3a"
             ],
             [
              0.8888888888888888,
              "#fdca26"
             ],
             [
              1,
              "#f0f921"
             ]
            ],
            "type": "surface"
           }
          ],
          "table": [
           {
            "cells": {
             "fill": {
              "color": "#EBF0F8"
             },
             "line": {
              "color": "white"
             }
            },
            "header": {
             "fill": {
              "color": "#C8D4E3"
             },
             "line": {
              "color": "white"
             }
            },
            "type": "table"
           }
          ]
         },
         "layout": {
          "annotationdefaults": {
           "arrowcolor": "#2a3f5f",
           "arrowhead": 0,
           "arrowwidth": 1
          },
          "coloraxis": {
           "colorbar": {
            "outlinewidth": 0,
            "ticks": ""
           }
          },
          "colorscale": {
           "diverging": [
            [
             0,
             "#8e0152"
            ],
            [
             0.1,
             "#c51b7d"
            ],
            [
             0.2,
             "#de77ae"
            ],
            [
             0.3,
             "#f1b6da"
            ],
            [
             0.4,
             "#fde0ef"
            ],
            [
             0.5,
             "#f7f7f7"
            ],
            [
             0.6,
             "#e6f5d0"
            ],
            [
             0.7,
             "#b8e186"
            ],
            [
             0.8,
             "#7fbc41"
            ],
            [
             0.9,
             "#4d9221"
            ],
            [
             1,
             "#276419"
            ]
           ],
           "sequential": [
            [
             0,
             "#0d0887"
            ],
            [
             0.1111111111111111,
             "#46039f"
            ],
            [
             0.2222222222222222,
             "#7201a8"
            ],
            [
             0.3333333333333333,
             "#9c179e"
            ],
            [
             0.4444444444444444,
             "#bd3786"
            ],
            [
             0.5555555555555556,
             "#d8576b"
            ],
            [
             0.6666666666666666,
             "#ed7953"
            ],
            [
             0.7777777777777778,
             "#fb9f3a"
            ],
            [
             0.8888888888888888,
             "#fdca26"
            ],
            [
             1,
             "#f0f921"
            ]
           ],
           "sequentialminus": [
            [
             0,
             "#0d0887"
            ],
            [
             0.1111111111111111,
             "#46039f"
            ],
            [
             0.2222222222222222,
             "#7201a8"
            ],
            [
             0.3333333333333333,
             "#9c179e"
            ],
            [
             0.4444444444444444,
             "#bd3786"
            ],
            [
             0.5555555555555556,
             "#d8576b"
            ],
            [
             0.6666666666666666,
             "#ed7953"
            ],
            [
             0.7777777777777778,
             "#fb9f3a"
            ],
            [
             0.8888888888888888,
             "#fdca26"
            ],
            [
             1,
             "#f0f921"
            ]
           ]
          },
          "colorway": [
           "#636efa",
           "#EF553B",
           "#00cc96",
           "#ab63fa",
           "#FFA15A",
           "#19d3f3",
           "#FF6692",
           "#B6E880",
           "#FF97FF",
           "#FECB52"
          ],
          "font": {
           "color": "#2a3f5f"
          },
          "geo": {
           "bgcolor": "white",
           "lakecolor": "white",
           "landcolor": "#E5ECF6",
           "showlakes": true,
           "showland": true,
           "subunitcolor": "white"
          },
          "hoverlabel": {
           "align": "left"
          },
          "hovermode": "closest",
          "mapbox": {
           "style": "light"
          },
          "paper_bgcolor": "white",
          "plot_bgcolor": "#E5ECF6",
          "polar": {
           "angularaxis": {
            "gridcolor": "white",
            "linecolor": "white",
            "ticks": ""
           },
           "bgcolor": "#E5ECF6",
           "radialaxis": {
            "gridcolor": "white",
            "linecolor": "white",
            "ticks": ""
           }
          },
          "scene": {
           "xaxis": {
            "backgroundcolor": "#E5ECF6",
            "gridcolor": "white",
            "gridwidth": 2,
            "linecolor": "white",
            "showbackground": true,
            "ticks": "",
            "zerolinecolor": "white"
           },
           "yaxis": {
            "backgroundcolor": "#E5ECF6",
            "gridcolor": "white",
            "gridwidth": 2,
            "linecolor": "white",
            "showbackground": true,
            "ticks": "",
            "zerolinecolor": "white"
           },
           "zaxis": {
            "backgroundcolor": "#E5ECF6",
            "gridcolor": "white",
            "gridwidth": 2,
            "linecolor": "white",
            "showbackground": true,
            "ticks": "",
            "zerolinecolor": "white"
           }
          },
          "shapedefaults": {
           "line": {
            "color": "#2a3f5f"
           }
          },
          "ternary": {
           "aaxis": {
            "gridcolor": "white",
            "linecolor": "white",
            "ticks": ""
           },
           "baxis": {
            "gridcolor": "white",
            "linecolor": "white",
            "ticks": ""
           },
           "bgcolor": "#E5ECF6",
           "caxis": {
            "gridcolor": "white",
            "linecolor": "white",
            "ticks": ""
           }
          },
          "title": {
           "x": 0.05
          },
          "xaxis": {
           "automargin": true,
           "gridcolor": "white",
           "linecolor": "white",
           "ticks": "",
           "title": {
            "standoff": 15
           },
           "zerolinecolor": "white",
           "zerolinewidth": 2
          },
          "yaxis": {
           "automargin": true,
           "gridcolor": "white",
           "linecolor": "white",
           "ticks": "",
           "title": {
            "standoff": 15
           },
           "zerolinecolor": "white",
           "zerolinewidth": 2
          }
         }
        },
        "title": {
         "font": {
          "color": "#4D5663"
         }
        },
        "xaxis": {
         "gridcolor": "#E1E5ED",
         "showgrid": true,
         "tickfont": {
          "color": "#4D5663"
         },
         "title": {
          "font": {
           "color": "#4D5663"
          },
          "text": ""
         },
         "zerolinecolor": "#E1E5ED"
        },
        "yaxis": {
         "gridcolor": "#E1E5ED",
         "showgrid": true,
         "tickfont": {
          "color": "#4D5663"
         },
         "title": {
          "font": {
           "color": "#4D5663"
          },
          "text": ""
         },
         "zerolinecolor": "#E1E5ED"
        }
       }
      },
      "text/html": [
       "<div>\n",
       "        \n",
       "        \n",
       "            <div id=\"c6414582-b410-48ec-96cc-3545fad09bc2\" class=\"plotly-graph-div\" style=\"height:525px; width:100%;\"></div>\n",
       "            <script type=\"text/javascript\">\n",
       "                require([\"plotly\"], function(Plotly) {\n",
       "                    window.PLOTLYENV=window.PLOTLYENV || {};\n",
       "                    window.PLOTLYENV.BASE_URL='https://plot.ly';\n",
       "                    \n",
       "                if (document.getElementById(\"c6414582-b410-48ec-96cc-3545fad09bc2\")) {\n",
       "                    Plotly.newPlot(\n",
       "                        'c6414582-b410-48ec-96cc-3545fad09bc2',\n",
       "                        [{\"marker\": {\"color\": \"rgba(255, 153, 51, 0.6)\", \"line\": {\"color\": \"rgba(255, 153, 51, 1.0)\", \"width\": 1}}, \"name\": \"Values\", \"orientation\": \"v\", \"text\": \"\", \"type\": \"bar\", \"x\": [\"A\", \"B\", \"C\"], \"y\": [32, 43, 50]}],\n",
       "                        {\"legend\": {\"bgcolor\": \"#F5F6F9\", \"font\": {\"color\": \"#4D5663\"}}, \"paper_bgcolor\": \"#F5F6F9\", \"plot_bgcolor\": \"#F5F6F9\", \"template\": {\"data\": {\"bar\": [{\"error_x\": {\"color\": \"#2a3f5f\"}, \"error_y\": {\"color\": \"#2a3f5f\"}, \"marker\": {\"line\": {\"color\": \"#E5ECF6\", \"width\": 0.5}}, \"type\": \"bar\"}], \"barpolar\": [{\"marker\": {\"line\": {\"color\": \"#E5ECF6\", \"width\": 0.5}}, \"type\": \"barpolar\"}], \"carpet\": [{\"aaxis\": {\"endlinecolor\": \"#2a3f5f\", \"gridcolor\": \"white\", \"linecolor\": \"white\", \"minorgridcolor\": \"white\", \"startlinecolor\": \"#2a3f5f\"}, \"baxis\": {\"endlinecolor\": \"#2a3f5f\", \"gridcolor\": \"white\", \"linecolor\": \"white\", \"minorgridcolor\": \"white\", \"startlinecolor\": \"#2a3f5f\"}, \"type\": \"carpet\"}], \"choropleth\": [{\"colorbar\": {\"outlinewidth\": 0, \"ticks\": \"\"}, \"type\": \"choropleth\"}], \"contour\": [{\"colorbar\": {\"outlinewidth\": 0, \"ticks\": \"\"}, \"colorscale\": [[0.0, \"#0d0887\"], [0.1111111111111111, \"#46039f\"], [0.2222222222222222, \"#7201a8\"], [0.3333333333333333, \"#9c179e\"], [0.4444444444444444, \"#bd3786\"], [0.5555555555555556, \"#d8576b\"], [0.6666666666666666, \"#ed7953\"], [0.7777777777777778, \"#fb9f3a\"], [0.8888888888888888, \"#fdca26\"], [1.0, \"#f0f921\"]], \"type\": \"contour\"}], \"contourcarpet\": [{\"colorbar\": {\"outlinewidth\": 0, \"ticks\": \"\"}, \"type\": \"contourcarpet\"}], \"heatmap\": [{\"colorbar\": {\"outlinewidth\": 0, \"ticks\": \"\"}, \"colorscale\": [[0.0, \"#0d0887\"], [0.1111111111111111, \"#46039f\"], [0.2222222222222222, \"#7201a8\"], [0.3333333333333333, \"#9c179e\"], [0.4444444444444444, \"#bd3786\"], [0.5555555555555556, \"#d8576b\"], [0.6666666666666666, \"#ed7953\"], [0.7777777777777778, \"#fb9f3a\"], [0.8888888888888888, \"#fdca26\"], [1.0, \"#f0f921\"]], \"type\": \"heatmap\"}], \"heatmapgl\": [{\"colorbar\": {\"outlinewidth\": 0, \"ticks\": \"\"}, \"colorscale\": [[0.0, \"#0d0887\"], [0.1111111111111111, \"#46039f\"], [0.2222222222222222, \"#7201a8\"], [0.3333333333333333, \"#9c179e\"], [0.4444444444444444, \"#bd3786\"], [0.5555555555555556, \"#d8576b\"], [0.6666666666666666, \"#ed7953\"], [0.7777777777777778, \"#fb9f3a\"], [0.8888888888888888, \"#fdca26\"], [1.0, \"#f0f921\"]], \"type\": \"heatmapgl\"}], \"histogram\": [{\"marker\": {\"colorbar\": {\"outlinewidth\": 0, \"ticks\": \"\"}}, \"type\": \"histogram\"}], \"histogram2d\": [{\"colorbar\": {\"outlinewidth\": 0, \"ticks\": \"\"}, \"colorscale\": [[0.0, \"#0d0887\"], [0.1111111111111111, \"#46039f\"], [0.2222222222222222, \"#7201a8\"], [0.3333333333333333, \"#9c179e\"], [0.4444444444444444, \"#bd3786\"], [0.5555555555555556, \"#d8576b\"], [0.6666666666666666, \"#ed7953\"], [0.7777777777777778, \"#fb9f3a\"], [0.8888888888888888, \"#fdca26\"], [1.0, \"#f0f921\"]], \"type\": \"histogram2d\"}], \"histogram2dcontour\": [{\"colorbar\": {\"outlinewidth\": 0, \"ticks\": \"\"}, \"colorscale\": [[0.0, \"#0d0887\"], [0.1111111111111111, \"#46039f\"], [0.2222222222222222, \"#7201a8\"], [0.3333333333333333, \"#9c179e\"], [0.4444444444444444, \"#bd3786\"], [0.5555555555555556, \"#d8576b\"], [0.6666666666666666, \"#ed7953\"], [0.7777777777777778, \"#fb9f3a\"], [0.8888888888888888, \"#fdca26\"], [1.0, \"#f0f921\"]], \"type\": \"histogram2dcontour\"}], \"mesh3d\": [{\"colorbar\": {\"outlinewidth\": 0, \"ticks\": \"\"}, \"type\": \"mesh3d\"}], \"parcoords\": [{\"line\": {\"colorbar\": {\"outlinewidth\": 0, \"ticks\": \"\"}}, \"type\": \"parcoords\"}], \"pie\": [{\"automargin\": true, \"type\": \"pie\"}], \"scatter\": [{\"marker\": {\"colorbar\": {\"outlinewidth\": 0, \"ticks\": \"\"}}, \"type\": \"scatter\"}], \"scatter3d\": [{\"line\": {\"colorbar\": {\"outlinewidth\": 0, \"ticks\": \"\"}}, \"marker\": {\"colorbar\": {\"outlinewidth\": 0, \"ticks\": \"\"}}, \"type\": \"scatter3d\"}], \"scattercarpet\": [{\"marker\": {\"colorbar\": {\"outlinewidth\": 0, \"ticks\": \"\"}}, \"type\": \"scattercarpet\"}], \"scattergeo\": [{\"marker\": {\"colorbar\": {\"outlinewidth\": 0, \"ticks\": \"\"}}, \"type\": \"scattergeo\"}], \"scattergl\": [{\"marker\": {\"colorbar\": {\"outlinewidth\": 0, \"ticks\": \"\"}}, \"type\": \"scattergl\"}], \"scattermapbox\": [{\"marker\": {\"colorbar\": {\"outlinewidth\": 0, \"ticks\": \"\"}}, \"type\": \"scattermapbox\"}], \"scatterpolar\": [{\"marker\": {\"colorbar\": {\"outlinewidth\": 0, \"ticks\": \"\"}}, \"type\": \"scatterpolar\"}], \"scatterpolargl\": [{\"marker\": {\"colorbar\": {\"outlinewidth\": 0, \"ticks\": \"\"}}, \"type\": \"scatterpolargl\"}], \"scatterternary\": [{\"marker\": {\"colorbar\": {\"outlinewidth\": 0, \"ticks\": \"\"}}, \"type\": \"scatterternary\"}], \"surface\": [{\"colorbar\": {\"outlinewidth\": 0, \"ticks\": \"\"}, \"colorscale\": [[0.0, \"#0d0887\"], [0.1111111111111111, \"#46039f\"], [0.2222222222222222, \"#7201a8\"], [0.3333333333333333, \"#9c179e\"], [0.4444444444444444, \"#bd3786\"], [0.5555555555555556, \"#d8576b\"], [0.6666666666666666, \"#ed7953\"], [0.7777777777777778, \"#fb9f3a\"], [0.8888888888888888, \"#fdca26\"], [1.0, \"#f0f921\"]], \"type\": \"surface\"}], \"table\": [{\"cells\": {\"fill\": {\"color\": \"#EBF0F8\"}, \"line\": {\"color\": \"white\"}}, \"header\": {\"fill\": {\"color\": \"#C8D4E3\"}, \"line\": {\"color\": \"white\"}}, \"type\": \"table\"}]}, \"layout\": {\"annotationdefaults\": {\"arrowcolor\": \"#2a3f5f\", \"arrowhead\": 0, \"arrowwidth\": 1}, \"coloraxis\": {\"colorbar\": {\"outlinewidth\": 0, \"ticks\": \"\"}}, \"colorscale\": {\"diverging\": [[0, \"#8e0152\"], [0.1, \"#c51b7d\"], [0.2, \"#de77ae\"], [0.3, \"#f1b6da\"], [0.4, \"#fde0ef\"], [0.5, \"#f7f7f7\"], [0.6, \"#e6f5d0\"], [0.7, \"#b8e186\"], [0.8, \"#7fbc41\"], [0.9, \"#4d9221\"], [1, \"#276419\"]], \"sequential\": [[0.0, \"#0d0887\"], [0.1111111111111111, \"#46039f\"], [0.2222222222222222, \"#7201a8\"], [0.3333333333333333, \"#9c179e\"], [0.4444444444444444, \"#bd3786\"], [0.5555555555555556, \"#d8576b\"], [0.6666666666666666, \"#ed7953\"], [0.7777777777777778, \"#fb9f3a\"], [0.8888888888888888, \"#fdca26\"], [1.0, \"#f0f921\"]], \"sequentialminus\": [[0.0, \"#0d0887\"], [0.1111111111111111, \"#46039f\"], [0.2222222222222222, \"#7201a8\"], [0.3333333333333333, \"#9c179e\"], [0.4444444444444444, \"#bd3786\"], [0.5555555555555556, \"#d8576b\"], [0.6666666666666666, \"#ed7953\"], [0.7777777777777778, \"#fb9f3a\"], [0.8888888888888888, \"#fdca26\"], [1.0, \"#f0f921\"]]}, \"colorway\": [\"#636efa\", \"#EF553B\", \"#00cc96\", \"#ab63fa\", \"#FFA15A\", \"#19d3f3\", \"#FF6692\", \"#B6E880\", \"#FF97FF\", \"#FECB52\"], \"font\": {\"color\": \"#2a3f5f\"}, \"geo\": {\"bgcolor\": \"white\", \"lakecolor\": \"white\", \"landcolor\": \"#E5ECF6\", \"showlakes\": true, \"showland\": true, \"subunitcolor\": \"white\"}, \"hoverlabel\": {\"align\": \"left\"}, \"hovermode\": \"closest\", \"mapbox\": {\"style\": \"light\"}, \"paper_bgcolor\": \"white\", \"plot_bgcolor\": \"#E5ECF6\", \"polar\": {\"angularaxis\": {\"gridcolor\": \"white\", \"linecolor\": \"white\", \"ticks\": \"\"}, \"bgcolor\": \"#E5ECF6\", \"radialaxis\": {\"gridcolor\": \"white\", \"linecolor\": \"white\", \"ticks\": \"\"}}, \"scene\": {\"xaxis\": {\"backgroundcolor\": \"#E5ECF6\", \"gridcolor\": \"white\", \"gridwidth\": 2, \"linecolor\": \"white\", \"showbackground\": true, \"ticks\": \"\", \"zerolinecolor\": \"white\"}, \"yaxis\": {\"backgroundcolor\": \"#E5ECF6\", \"gridcolor\": \"white\", \"gridwidth\": 2, \"linecolor\": \"white\", \"showbackground\": true, \"ticks\": \"\", \"zerolinecolor\": \"white\"}, \"zaxis\": {\"backgroundcolor\": \"#E5ECF6\", \"gridcolor\": \"white\", \"gridwidth\": 2, \"linecolor\": \"white\", \"showbackground\": true, \"ticks\": \"\", \"zerolinecolor\": \"white\"}}, \"shapedefaults\": {\"line\": {\"color\": \"#2a3f5f\"}}, \"ternary\": {\"aaxis\": {\"gridcolor\": \"white\", \"linecolor\": \"white\", \"ticks\": \"\"}, \"baxis\": {\"gridcolor\": \"white\", \"linecolor\": \"white\", \"ticks\": \"\"}, \"bgcolor\": \"#E5ECF6\", \"caxis\": {\"gridcolor\": \"white\", \"linecolor\": \"white\", \"ticks\": \"\"}}, \"title\": {\"x\": 0.05}, \"xaxis\": {\"automargin\": true, \"gridcolor\": \"white\", \"linecolor\": \"white\", \"ticks\": \"\", \"title\": {\"standoff\": 15}, \"zerolinecolor\": \"white\", \"zerolinewidth\": 2}, \"yaxis\": {\"automargin\": true, \"gridcolor\": \"white\", \"linecolor\": \"white\", \"ticks\": \"\", \"title\": {\"standoff\": 15}, \"zerolinecolor\": \"white\", \"zerolinewidth\": 2}}}, \"title\": {\"font\": {\"color\": \"#4D5663\"}}, \"xaxis\": {\"gridcolor\": \"#E1E5ED\", \"showgrid\": true, \"tickfont\": {\"color\": \"#4D5663\"}, \"title\": {\"font\": {\"color\": \"#4D5663\"}, \"text\": \"\"}, \"zerolinecolor\": \"#E1E5ED\"}, \"yaxis\": {\"gridcolor\": \"#E1E5ED\", \"showgrid\": true, \"tickfont\": {\"color\": \"#4D5663\"}, \"title\": {\"font\": {\"color\": \"#4D5663\"}, \"text\": \"\"}, \"zerolinecolor\": \"#E1E5ED\"}},\n",
       "                        {\"showLink\": true, \"linkText\": \"Export to plot.ly\", \"plotlyServerURL\": \"https://plot.ly\", \"responsive\": true}\n",
       "                    ).then(function(){\n",
       "                            \n",
       "var gd = document.getElementById('c6414582-b410-48ec-96cc-3545fad09bc2');\n",
       "var x = new MutationObserver(function (mutations, observer) {{\n",
       "        var display = window.getComputedStyle(gd).display;\n",
       "        if (!display || display === 'none') {{\n",
       "            console.log([gd, 'removed!']);\n",
       "            Plotly.purge(gd);\n",
       "            observer.disconnect();\n",
       "        }}\n",
       "}});\n",
       "\n",
       "// Listen for the removal of the full notebook cells\n",
       "var notebookContainer = gd.closest('#notebook-container');\n",
       "if (notebookContainer) {{\n",
       "    x.observe(notebookContainer, {childList: true});\n",
       "}}\n",
       "\n",
       "// Listen for the clearing of the current output cell\n",
       "var outputEl = gd.closest('.output');\n",
       "if (outputEl) {{\n",
       "    x.observe(outputEl, {childList: true});\n",
       "}}\n",
       "\n",
       "                        })\n",
       "                };\n",
       "                });\n",
       "            </script>\n",
       "        </div>"
      ]
     },
     "metadata": {},
     "output_type": "display_data"
    }
   ],
   "source": [
    "df2.iplot(kind='bar',x='Category',y='Values')"
   ]
  },
  {
   "cell_type": "code",
   "execution_count": 23,
   "metadata": {},
   "outputs": [
    {
     "data": {
      "application/vnd.plotly.v1+json": {
       "config": {
        "linkText": "Export to plot.ly",
        "plotlyServerURL": "https://plot.ly",
        "showLink": true
       },
       "data": [
        {
         "marker": {
          "color": "rgba(255, 153, 51, 0.6)",
          "line": {
           "color": "rgba(255, 153, 51, 1.0)",
           "width": 1
          }
         },
         "name": "A",
         "orientation": "v",
         "text": "",
         "type": "bar",
         "x": [
          0,
          1,
          2,
          3,
          4,
          5,
          6,
          7,
          8,
          9,
          10,
          11,
          12,
          13,
          14,
          15,
          16,
          17,
          18,
          19,
          20,
          21,
          22,
          23,
          24,
          25,
          26,
          27,
          28,
          29,
          30,
          31,
          32,
          33,
          34,
          35,
          36,
          37,
          38,
          39,
          40,
          41,
          42,
          43,
          44,
          45,
          46,
          47,
          48,
          49,
          50,
          51,
          52,
          53,
          54,
          55,
          56,
          57,
          58,
          59,
          60,
          61,
          62,
          63,
          64,
          65,
          66,
          67,
          68,
          69,
          70,
          71,
          72,
          73,
          74,
          75,
          76,
          77,
          78,
          79,
          80,
          81,
          82,
          83,
          84,
          85,
          86,
          87,
          88,
          89,
          90,
          91,
          92,
          93,
          94,
          95,
          96,
          97,
          98,
          99
         ],
         "y": [
          -2.22730975487397,
          -0.5631088680558595,
          -1.096813421072463,
          0.7776205396385625,
          -0.1746463353259903,
          0.3337465451256331,
          -0.22897788899722962,
          -1.6231470277399513,
          0.4314232081733444,
          0.6087774981436374,
          0.6532089544051536,
          0.2305117599532342,
          -0.5411564196238529,
          0.8439914549924954,
          -2.0916013036086567,
          -1.662078336488449,
          -0.32543729134850014,
          0.29824962167806157,
          -0.6980798997625995,
          -1.019787315369518,
          0.9572458365796579,
          0.9988629965772159,
          -1.1284538233162278,
          -0.19827130288135922,
          0.705443439167345,
          0.019762068277110394,
          0.3871897341300344,
          -0.9896492769418976,
          -0.19000203749777425,
          0.805780167610212,
          -0.015579478376413077,
          -0.9327642149249064,
          1.1030851259614476,
          -1.4615649186091488,
          1.1910966452002674,
          1.2020822117973626,
          -0.9236357460382656,
          1.467120146648933,
          0.6842087162635787,
          -0.18825617620140528,
          1.3770709936148462,
          5.008385684764456e-05,
          -0.9704276330639248,
          -1.42229613425193,
          0.14160610886984462,
          0.3427554036620041,
          -0.08990208655324586,
          1.3453423306313845,
          -1.0377535379195855,
          0.8872938889127332,
          0.972796762360093,
          0.5254574431494227,
          -0.9856616109059382,
          -1.3077990867768847,
          -0.20844874892317272,
          0.2989183337534506,
          -1.5616718800201546,
          -0.0019323778924743222,
          0.20940113665143797,
          0.0029624530881309304,
          0.984144258387087,
          0.2475618531391336,
          -0.23699262229757284,
          -2.687279401943814,
          0.8446810172242765,
          -0.8880299894551736,
          0.7042839160755405,
          -0.5371513002818218,
          0.4775543768493773,
          -0.48125734603161674,
          0.1526309703289612,
          0.4644064404748271,
          -0.27086500539226804,
          -0.8209590996270908,
          0.8101224210185378,
          -0.19515477954428107,
          -0.22282797179954303,
          1.6666123096212775,
          0.01936417809362544,
          -2.079755223104781,
          0.592156902996088,
          2.824887493921544,
          1.0702737803297262,
          -0.9900307377950344,
          0.7033005437740754,
          1.1236191123888546,
          2.7894422607871796,
          -0.5154353735216163,
          0.035693159462402105,
          -0.8396511467292964,
          -0.06758949413797499,
          -0.7144381275751631,
          -0.4574377310876855,
          0.7083108180760775,
          0.4904445286575012,
          0.4599990819826413,
          -0.37475060080209466,
          1.231552043935495,
          -0.9797458481615703,
          1.2876018144942427
         ]
        },
        {
         "marker": {
          "color": "rgba(55, 128, 191, 0.6)",
          "line": {
           "color": "rgba(55, 128, 191, 1.0)",
           "width": 1
          }
         },
         "name": "B",
         "orientation": "v",
         "text": "",
         "type": "bar",
         "x": [
          0,
          1,
          2,
          3,
          4,
          5,
          6,
          7,
          8,
          9,
          10,
          11,
          12,
          13,
          14,
          15,
          16,
          17,
          18,
          19,
          20,
          21,
          22,
          23,
          24,
          25,
          26,
          27,
          28,
          29,
          30,
          31,
          32,
          33,
          34,
          35,
          36,
          37,
          38,
          39,
          40,
          41,
          42,
          43,
          44,
          45,
          46,
          47,
          48,
          49,
          50,
          51,
          52,
          53,
          54,
          55,
          56,
          57,
          58,
          59,
          60,
          61,
          62,
          63,
          64,
          65,
          66,
          67,
          68,
          69,
          70,
          71,
          72,
          73,
          74,
          75,
          76,
          77,
          78,
          79,
          80,
          81,
          82,
          83,
          84,
          85,
          86,
          87,
          88,
          89,
          90,
          91,
          92,
          93,
          94,
          95,
          96,
          97,
          98,
          99
         ],
         "y": [
          0.9043707587253097,
          1.3436027632821108,
          -1.6751042617936567,
          0.3387377391458157,
          -0.881658387694221,
          -0.7962396282496969,
          -0.2067570773983989,
          -0.2359199741416241,
          -0.8705716186554082,
          -1.4008861407199682,
          0.1232404600970688,
          1.992250522578355,
          -1.0829738162466171,
          0.3459640802743093,
          -0.7320311229180546,
          0.8667190810610911,
          -0.45169491002989454,
          1.8509140495324818,
          -0.1607612316493394,
          0.7678750875088479,
          -1.5681420236965922,
          0.6551997697753668,
          -1.0219136628918817,
          -0.6670704709834635,
          1.4132130035526702,
          -1.636303296014824,
          -1.4467840239362824,
          0.6120696948395167,
          0.5256754216674434,
          -0.6490633308025651,
          -1.7493411237006207,
          -2.2317844881829254,
          -0.4498425724676211,
          -2.179507267801821,
          0.3042365004878486,
          -0.3996537898866624,
          -0.6344723242247944,
          -1.511158111404823,
          1.8606442592214745,
          -0.9221702308510948,
          -1.357878073024533,
          1.0419539337393482,
          -0.39701074963568916,
          -0.009885907719007207,
          0.25199718187257747,
          0.08252493293273659,
          -0.8813288118498757,
          1.2395588902521115,
          0.8192946434014031,
          1.02410077603876,
          2.487820883132203,
          0.3245699415077309,
          -0.3009017101627565,
          -0.765305827485693,
          -0.578496599093978,
          2.16253861959754,
          -0.4223635336834874,
          -1.651750273096774,
          -0.4351400773787977,
          1.8211188584162035,
          0.24664276360730764,
          -0.5937698100161986,
          0.3104386616656303,
          -0.28442291050687013,
          0.6710482751707388,
          -1.0066114116777134,
          -1.2458588210133685,
          -1.0812131138354293,
          0.23322139251366578,
          1.8498665453820595,
          0.46155215141225886,
          -0.8785935220443518,
          0.7419068920050634,
          -0.4406887542644273,
          -0.6015970351044174,
          0.7770402118751695,
          -0.8444766189568531,
          0.21632539676143964,
          0.9500585337542808,
          -0.09870495920870319,
          -1.1301856809698991,
          -1.0349727534691304,
          -1.167898971150679,
          -0.5035843483278787,
          0.04102270577078194,
          -0.20074632934257497,
          -0.33106116501995453,
          -1.7190172294426014,
          -0.4064481174920905,
          0.8176825360210126,
          -0.3504469481027733,
          -0.314470755208347,
          -0.13555527973364587,
          -0.26324493873654636,
          0.2710824187797052,
          -1.5006937200849786,
          1.1850943346761778,
          1.3716499527545902,
          -0.46609424933897065,
          -1.309941218579945
         ]
        },
        {
         "marker": {
          "color": "rgba(50, 171, 96, 0.6)",
          "line": {
           "color": "rgba(50, 171, 96, 1.0)",
           "width": 1
          }
         },
         "name": "C",
         "orientation": "v",
         "text": "",
         "type": "bar",
         "x": [
          0,
          1,
          2,
          3,
          4,
          5,
          6,
          7,
          8,
          9,
          10,
          11,
          12,
          13,
          14,
          15,
          16,
          17,
          18,
          19,
          20,
          21,
          22,
          23,
          24,
          25,
          26,
          27,
          28,
          29,
          30,
          31,
          32,
          33,
          34,
          35,
          36,
          37,
          38,
          39,
          40,
          41,
          42,
          43,
          44,
          45,
          46,
          47,
          48,
          49,
          50,
          51,
          52,
          53,
          54,
          55,
          56,
          57,
          58,
          59,
          60,
          61,
          62,
          63,
          64,
          65,
          66,
          67,
          68,
          69,
          70,
          71,
          72,
          73,
          74,
          75,
          76,
          77,
          78,
          79,
          80,
          81,
          82,
          83,
          84,
          85,
          86,
          87,
          88,
          89,
          90,
          91,
          92,
          93,
          94,
          95,
          96,
          97,
          98,
          99
         ],
         "y": [
          -0.31994801724569455,
          -1.1147519307668468,
          0.09420871372946889,
          -0.44392821510482694,
          0.2720791006808117,
          -0.5310752669575839,
          1.171462687244277,
          0.3346061511168307,
          0.38331296398150605,
          1.9838457865440426,
          -1.6550981743022035,
          -1.0025198816173013,
          0.36992875542016174,
          0.36498285896219074,
          -0.9232387561671217,
          0.6510909726317987,
          0.7985182144486457,
          0.1971746293694367,
          0.6007432391084384,
          0.374162986648514,
          -0.8255675417204941,
          0.4193911470138337,
          -1.6659757136874644,
          -0.09236677042439063,
          0.9439717289742723,
          -0.18224639541016452,
          -1.5160334577458336,
          -0.13835403247894945,
          1.5646691827788353,
          -0.6252653330078247,
          -0.09844762350233202,
          0.904939297961715,
          1.6344067926677879,
          -1.1033626840486355,
          -0.2706449658500962,
          1.3190766995511023,
          1.2837324942885457,
          -0.23555639567112935,
          0.9646917501155332,
          0.6211321707081742,
          -0.1008934154342106,
          1.505657735349906,
          0.2685344074653714,
          0.931543833518539,
          1.10408923710515,
          -0.6945993196642515,
          0.5570247924749284,
          -1.3733559321344766,
          0.3443409814501852,
          -0.0037318227276617023,
          -1.0593236715164922,
          -0.47008788719726163,
          0.17903083749682533,
          0.44755915421442244,
          -1.6860406578141074,
          -0.3338727560983083,
          -1.4255013044877651,
          -0.5094281218613274,
          1.5015767666190996,
          1.5017081067064284,
          -2.442862183344835,
          -2.4543895930005126,
          -0.14734818549881767,
          1.5595373453631993,
          -0.33972759305399775,
          1.0034579029256303,
          1.5230059240423028,
          0.6716869799676891,
          1.0063547046682044,
          0.3564780773847101,
          1.3327539731798177,
          0.7875297450670189,
          -0.47930200004224427,
          0.19475793176432973,
          0.9276632756063002,
          -0.08671985992572159,
          0.3855800259823013,
          0.7973486240955049,
          0.4761572493227163,
          -0.08780813842340729,
          0.8294264790198373,
          1.2539719165899483,
          0.8956054930324114,
          -0.3370644073457241,
          1.049840911509214,
          0.1590932465690057,
          -0.5588574717787498,
          1.0156298686262109,
          -2.8219573277379277,
          -0.42917171945788746,
          -0.47657014837857903,
          0.24209600564912173,
          0.6512312209328295,
          -1.647499209445923,
          -0.17386580349779984,
          -0.1295882786994215,
          1.5611842814201289,
          -0.37948170816134114,
          -0.019403944246110923,
          0.669857420169742
         ]
        },
        {
         "marker": {
          "color": "rgba(128, 0, 128, 0.6)",
          "line": {
           "color": "rgba(128, 0, 128, 1.0)",
           "width": 1
          }
         },
         "name": "D",
         "orientation": "v",
         "text": "",
         "type": "bar",
         "x": [
          0,
          1,
          2,
          3,
          4,
          5,
          6,
          7,
          8,
          9,
          10,
          11,
          12,
          13,
          14,
          15,
          16,
          17,
          18,
          19,
          20,
          21,
          22,
          23,
          24,
          25,
          26,
          27,
          28,
          29,
          30,
          31,
          32,
          33,
          34,
          35,
          36,
          37,
          38,
          39,
          40,
          41,
          42,
          43,
          44,
          45,
          46,
          47,
          48,
          49,
          50,
          51,
          52,
          53,
          54,
          55,
          56,
          57,
          58,
          59,
          60,
          61,
          62,
          63,
          64,
          65,
          66,
          67,
          68,
          69,
          70,
          71,
          72,
          73,
          74,
          75,
          76,
          77,
          78,
          79,
          80,
          81,
          82,
          83,
          84,
          85,
          86,
          87,
          88,
          89,
          90,
          91,
          92,
          93,
          94,
          95,
          96,
          97,
          98,
          99
         ],
         "y": [
          -1.9191968375761468,
          0.8057145129951407,
          2.59938874924933,
          1.0840859085102152,
          -0.8172373853886793,
          -0.05656812195768792,
          -2.198948521865748,
          0.23630434282262675,
          -0.884332399733043,
          0.15230299460146768,
          -0.463880897197754,
          -0.6987874294994041,
          0.3371731568872556,
          0.3285593047365649,
          2.478749298731274,
          -1.6182948401272312,
          -0.8698274708495217,
          -1.4250902283771039,
          0.7493396873331967,
          -0.7282279200398205,
          -0.17662921099465953,
          1.7529978973970892,
          -1.0480686749771904,
          -0.8451640354671216,
          1.2913830501868708,
          1.4653280262322457,
          -0.10700527168431656,
          -0.15416609380015453,
          1.3338351460805926,
          -2.3315563951923113,
          -1.6844841490465823,
          0.2656228300455757,
          -1.1198436902680682,
          0.885932505879549,
          0.3101698968223834,
          0.46358633239626396,
          1.999770001489784,
          0.12297952545402142,
          0.4217432948165872,
          0.06202322331148702,
          0.1351305683892131,
          -0.5006892298386526,
          1.900192901981997,
          -1.563882150026656,
          -1.1690621343982999,
          -0.5729487524608797,
          0.1913269080645627,
          1.2989732513453205,
          -0.5503781615573572,
          -0.3446834327481017,
          -0.39372787735756565,
          -1.320484583548631,
          0.23581583836429626,
          -0.15688411358677082,
          0.7798058786175999,
          0.08152361108930499,
          -0.09417958966935797,
          -0.8381935830552845,
          -1.520868013222757,
          -1.196978070656835,
          0.504318266763162,
          0.6511494337358126,
          1.5595651080487425,
          -0.2604269271844848,
          0.23503290255165085,
          0.42845669123192354,
          0.27338809640089173,
          0.2770127006813712,
          -0.3259426727318933,
          0.4770620816550759,
          -1.5824027918332106,
          0.29429465155823326,
          1.6106025070010954,
          0.45427224190355164,
          0.4432260094781024,
          1.0802196619020397,
          -0.6754256976752617,
          0.6079991429815245,
          -1.4491493203517687,
          -1.446936392520765,
          2.238099164682907,
          1.3704219003467148,
          -0.019788442634019597,
          -0.9345919280007289,
          -0.36162876297816204,
          0.6240086657483584,
          -1.3557936420194523,
          -1.0218663588987615,
          0.7645793988738733,
          0.053934956447991095,
          1.4786150180650501,
          -2.1131288941109623,
          -1.0489458315901024,
          0.8389368034185251,
          -1.6971117435064347,
          0.9103262491432671,
          1.9565588444638466,
          -2.401103853578811,
          0.12117609787702649,
          -1.4382699461716264
         ]
        }
       ],
       "layout": {
        "legend": {
         "bgcolor": "#F5F6F9",
         "font": {
          "color": "#4D5663"
         }
        },
        "paper_bgcolor": "#F5F6F9",
        "plot_bgcolor": "#F5F6F9",
        "template": {
         "data": {
          "bar": [
           {
            "error_x": {
             "color": "#2a3f5f"
            },
            "error_y": {
             "color": "#2a3f5f"
            },
            "marker": {
             "line": {
              "color": "#E5ECF6",
              "width": 0.5
             }
            },
            "type": "bar"
           }
          ],
          "barpolar": [
           {
            "marker": {
             "line": {
              "color": "#E5ECF6",
              "width": 0.5
             }
            },
            "type": "barpolar"
           }
          ],
          "carpet": [
           {
            "aaxis": {
             "endlinecolor": "#2a3f5f",
             "gridcolor": "white",
             "linecolor": "white",
             "minorgridcolor": "white",
             "startlinecolor": "#2a3f5f"
            },
            "baxis": {
             "endlinecolor": "#2a3f5f",
             "gridcolor": "white",
             "linecolor": "white",
             "minorgridcolor": "white",
             "startlinecolor": "#2a3f5f"
            },
            "type": "carpet"
           }
          ],
          "choropleth": [
           {
            "colorbar": {
             "outlinewidth": 0,
             "ticks": ""
            },
            "type": "choropleth"
           }
          ],
          "contour": [
           {
            "colorbar": {
             "outlinewidth": 0,
             "ticks": ""
            },
            "colorscale": [
             [
              0,
              "#0d0887"
             ],
             [
              0.1111111111111111,
              "#46039f"
             ],
             [
              0.2222222222222222,
              "#7201a8"
             ],
             [
              0.3333333333333333,
              "#9c179e"
             ],
             [
              0.4444444444444444,
              "#bd3786"
             ],
             [
              0.5555555555555556,
              "#d8576b"
             ],
             [
              0.6666666666666666,
              "#ed7953"
             ],
             [
              0.7777777777777778,
              "#fb9f3a"
             ],
             [
              0.8888888888888888,
              "#fdca26"
             ],
             [
              1,
              "#f0f921"
             ]
            ],
            "type": "contour"
           }
          ],
          "contourcarpet": [
           {
            "colorbar": {
             "outlinewidth": 0,
             "ticks": ""
            },
            "type": "contourcarpet"
           }
          ],
          "heatmap": [
           {
            "colorbar": {
             "outlinewidth": 0,
             "ticks": ""
            },
            "colorscale": [
             [
              0,
              "#0d0887"
             ],
             [
              0.1111111111111111,
              "#46039f"
             ],
             [
              0.2222222222222222,
              "#7201a8"
             ],
             [
              0.3333333333333333,
              "#9c179e"
             ],
             [
              0.4444444444444444,
              "#bd3786"
             ],
             [
              0.5555555555555556,
              "#d8576b"
             ],
             [
              0.6666666666666666,
              "#ed7953"
             ],
             [
              0.7777777777777778,
              "#fb9f3a"
             ],
             [
              0.8888888888888888,
              "#fdca26"
             ],
             [
              1,
              "#f0f921"
             ]
            ],
            "type": "heatmap"
           }
          ],
          "heatmapgl": [
           {
            "colorbar": {
             "outlinewidth": 0,
             "ticks": ""
            },
            "colorscale": [
             [
              0,
              "#0d0887"
             ],
             [
              0.1111111111111111,
              "#46039f"
             ],
             [
              0.2222222222222222,
              "#7201a8"
             ],
             [
              0.3333333333333333,
              "#9c179e"
             ],
             [
              0.4444444444444444,
              "#bd3786"
             ],
             [
              0.5555555555555556,
              "#d8576b"
             ],
             [
              0.6666666666666666,
              "#ed7953"
             ],
             [
              0.7777777777777778,
              "#fb9f3a"
             ],
             [
              0.8888888888888888,
              "#fdca26"
             ],
             [
              1,
              "#f0f921"
             ]
            ],
            "type": "heatmapgl"
           }
          ],
          "histogram": [
           {
            "marker": {
             "colorbar": {
              "outlinewidth": 0,
              "ticks": ""
             }
            },
            "type": "histogram"
           }
          ],
          "histogram2d": [
           {
            "colorbar": {
             "outlinewidth": 0,
             "ticks": ""
            },
            "colorscale": [
             [
              0,
              "#0d0887"
             ],
             [
              0.1111111111111111,
              "#46039f"
             ],
             [
              0.2222222222222222,
              "#7201a8"
             ],
             [
              0.3333333333333333,
              "#9c179e"
             ],
             [
              0.4444444444444444,
              "#bd3786"
             ],
             [
              0.5555555555555556,
              "#d8576b"
             ],
             [
              0.6666666666666666,
              "#ed7953"
             ],
             [
              0.7777777777777778,
              "#fb9f3a"
             ],
             [
              0.8888888888888888,
              "#fdca26"
             ],
             [
              1,
              "#f0f921"
             ]
            ],
            "type": "histogram2d"
           }
          ],
          "histogram2dcontour": [
           {
            "colorbar": {
             "outlinewidth": 0,
             "ticks": ""
            },
            "colorscale": [
             [
              0,
              "#0d0887"
             ],
             [
              0.1111111111111111,
              "#46039f"
             ],
             [
              0.2222222222222222,
              "#7201a8"
             ],
             [
              0.3333333333333333,
              "#9c179e"
             ],
             [
              0.4444444444444444,
              "#bd3786"
             ],
             [
              0.5555555555555556,
              "#d8576b"
             ],
             [
              0.6666666666666666,
              "#ed7953"
             ],
             [
              0.7777777777777778,
              "#fb9f3a"
             ],
             [
              0.8888888888888888,
              "#fdca26"
             ],
             [
              1,
              "#f0f921"
             ]
            ],
            "type": "histogram2dcontour"
           }
          ],
          "mesh3d": [
           {
            "colorbar": {
             "outlinewidth": 0,
             "ticks": ""
            },
            "type": "mesh3d"
           }
          ],
          "parcoords": [
           {
            "line": {
             "colorbar": {
              "outlinewidth": 0,
              "ticks": ""
             }
            },
            "type": "parcoords"
           }
          ],
          "pie": [
           {
            "automargin": true,
            "type": "pie"
           }
          ],
          "scatter": [
           {
            "marker": {
             "colorbar": {
              "outlinewidth": 0,
              "ticks": ""
             }
            },
            "type": "scatter"
           }
          ],
          "scatter3d": [
           {
            "line": {
             "colorbar": {
              "outlinewidth": 0,
              "ticks": ""
             }
            },
            "marker": {
             "colorbar": {
              "outlinewidth": 0,
              "ticks": ""
             }
            },
            "type": "scatter3d"
           }
          ],
          "scattercarpet": [
           {
            "marker": {
             "colorbar": {
              "outlinewidth": 0,
              "ticks": ""
             }
            },
            "type": "scattercarpet"
           }
          ],
          "scattergeo": [
           {
            "marker": {
             "colorbar": {
              "outlinewidth": 0,
              "ticks": ""
             }
            },
            "type": "scattergeo"
           }
          ],
          "scattergl": [
           {
            "marker": {
             "colorbar": {
              "outlinewidth": 0,
              "ticks": ""
             }
            },
            "type": "scattergl"
           }
          ],
          "scattermapbox": [
           {
            "marker": {
             "colorbar": {
              "outlinewidth": 0,
              "ticks": ""
             }
            },
            "type": "scattermapbox"
           }
          ],
          "scatterpolar": [
           {
            "marker": {
             "colorbar": {
              "outlinewidth": 0,
              "ticks": ""
             }
            },
            "type": "scatterpolar"
           }
          ],
          "scatterpolargl": [
           {
            "marker": {
             "colorbar": {
              "outlinewidth": 0,
              "ticks": ""
             }
            },
            "type": "scatterpolargl"
           }
          ],
          "scatterternary": [
           {
            "marker": {
             "colorbar": {
              "outlinewidth": 0,
              "ticks": ""
             }
            },
            "type": "scatterternary"
           }
          ],
          "surface": [
           {
            "colorbar": {
             "outlinewidth": 0,
             "ticks": ""
            },
            "colorscale": [
             [
              0,
              "#0d0887"
             ],
             [
              0.1111111111111111,
              "#46039f"
             ],
             [
              0.2222222222222222,
              "#7201a8"
             ],
             [
              0.3333333333333333,
              "#9c179e"
             ],
             [
              0.4444444444444444,
              "#bd3786"
             ],
             [
              0.5555555555555556,
              "#d8576b"
             ],
             [
              0.6666666666666666,
              "#ed7953"
             ],
             [
              0.7777777777777778,
              "#fb9f3a"
             ],
             [
              0.8888888888888888,
              "#fdca26"
             ],
             [
              1,
              "#f0f921"
             ]
            ],
            "type": "surface"
           }
          ],
          "table": [
           {
            "cells": {
             "fill": {
              "color": "#EBF0F8"
             },
             "line": {
              "color": "white"
             }
            },
            "header": {
             "fill": {
              "color": "#C8D4E3"
             },
             "line": {
              "color": "white"
             }
            },
            "type": "table"
           }
          ]
         },
         "layout": {
          "annotationdefaults": {
           "arrowcolor": "#2a3f5f",
           "arrowhead": 0,
           "arrowwidth": 1
          },
          "coloraxis": {
           "colorbar": {
            "outlinewidth": 0,
            "ticks": ""
           }
          },
          "colorscale": {
           "diverging": [
            [
             0,
             "#8e0152"
            ],
            [
             0.1,
             "#c51b7d"
            ],
            [
             0.2,
             "#de77ae"
            ],
            [
             0.3,
             "#f1b6da"
            ],
            [
             0.4,
             "#fde0ef"
            ],
            [
             0.5,
             "#f7f7f7"
            ],
            [
             0.6,
             "#e6f5d0"
            ],
            [
             0.7,
             "#b8e186"
            ],
            [
             0.8,
             "#7fbc41"
            ],
            [
             0.9,
             "#4d9221"
            ],
            [
             1,
             "#276419"
            ]
           ],
           "sequential": [
            [
             0,
             "#0d0887"
            ],
            [
             0.1111111111111111,
             "#46039f"
            ],
            [
             0.2222222222222222,
             "#7201a8"
            ],
            [
             0.3333333333333333,
             "#9c179e"
            ],
            [
             0.4444444444444444,
             "#bd3786"
            ],
            [
             0.5555555555555556,
             "#d8576b"
            ],
            [
             0.6666666666666666,
             "#ed7953"
            ],
            [
             0.7777777777777778,
             "#fb9f3a"
            ],
            [
             0.8888888888888888,
             "#fdca26"
            ],
            [
             1,
             "#f0f921"
            ]
           ],
           "sequentialminus": [
            [
             0,
             "#0d0887"
            ],
            [
             0.1111111111111111,
             "#46039f"
            ],
            [
             0.2222222222222222,
             "#7201a8"
            ],
            [
             0.3333333333333333,
             "#9c179e"
            ],
            [
             0.4444444444444444,
             "#bd3786"
            ],
            [
             0.5555555555555556,
             "#d8576b"
            ],
            [
             0.6666666666666666,
             "#ed7953"
            ],
            [
             0.7777777777777778,
             "#fb9f3a"
            ],
            [
             0.8888888888888888,
             "#fdca26"
            ],
            [
             1,
             "#f0f921"
            ]
           ]
          },
          "colorway": [
           "#636efa",
           "#EF553B",
           "#00cc96",
           "#ab63fa",
           "#FFA15A",
           "#19d3f3",
           "#FF6692",
           "#B6E880",
           "#FF97FF",
           "#FECB52"
          ],
          "font": {
           "color": "#2a3f5f"
          },
          "geo": {
           "bgcolor": "white",
           "lakecolor": "white",
           "landcolor": "#E5ECF6",
           "showlakes": true,
           "showland": true,
           "subunitcolor": "white"
          },
          "hoverlabel": {
           "align": "left"
          },
          "hovermode": "closest",
          "mapbox": {
           "style": "light"
          },
          "paper_bgcolor": "white",
          "plot_bgcolor": "#E5ECF6",
          "polar": {
           "angularaxis": {
            "gridcolor": "white",
            "linecolor": "white",
            "ticks": ""
           },
           "bgcolor": "#E5ECF6",
           "radialaxis": {
            "gridcolor": "white",
            "linecolor": "white",
            "ticks": ""
           }
          },
          "scene": {
           "xaxis": {
            "backgroundcolor": "#E5ECF6",
            "gridcolor": "white",
            "gridwidth": 2,
            "linecolor": "white",
            "showbackground": true,
            "ticks": "",
            "zerolinecolor": "white"
           },
           "yaxis": {
            "backgroundcolor": "#E5ECF6",
            "gridcolor": "white",
            "gridwidth": 2,
            "linecolor": "white",
            "showbackground": true,
            "ticks": "",
            "zerolinecolor": "white"
           },
           "zaxis": {
            "backgroundcolor": "#E5ECF6",
            "gridcolor": "white",
            "gridwidth": 2,
            "linecolor": "white",
            "showbackground": true,
            "ticks": "",
            "zerolinecolor": "white"
           }
          },
          "shapedefaults": {
           "line": {
            "color": "#2a3f5f"
           }
          },
          "ternary": {
           "aaxis": {
            "gridcolor": "white",
            "linecolor": "white",
            "ticks": ""
           },
           "baxis": {
            "gridcolor": "white",
            "linecolor": "white",
            "ticks": ""
           },
           "bgcolor": "#E5ECF6",
           "caxis": {
            "gridcolor": "white",
            "linecolor": "white",
            "ticks": ""
           }
          },
          "title": {
           "x": 0.05
          },
          "xaxis": {
           "automargin": true,
           "gridcolor": "white",
           "linecolor": "white",
           "ticks": "",
           "title": {
            "standoff": 15
           },
           "zerolinecolor": "white",
           "zerolinewidth": 2
          },
          "yaxis": {
           "automargin": true,
           "gridcolor": "white",
           "linecolor": "white",
           "ticks": "",
           "title": {
            "standoff": 15
           },
           "zerolinecolor": "white",
           "zerolinewidth": 2
          }
         }
        },
        "title": {
         "font": {
          "color": "#4D5663"
         }
        },
        "xaxis": {
         "gridcolor": "#E1E5ED",
         "showgrid": true,
         "tickfont": {
          "color": "#4D5663"
         },
         "title": {
          "font": {
           "color": "#4D5663"
          },
          "text": ""
         },
         "zerolinecolor": "#E1E5ED"
        },
        "yaxis": {
         "gridcolor": "#E1E5ED",
         "showgrid": true,
         "tickfont": {
          "color": "#4D5663"
         },
         "title": {
          "font": {
           "color": "#4D5663"
          },
          "text": ""
         },
         "zerolinecolor": "#E1E5ED"
        }
       }
      },
      "text/html": [
       "<div>\n",
       "        \n",
       "        \n",
       "            <div id=\"560139d0-cbf5-481c-978f-30fc5badb786\" class=\"plotly-graph-div\" style=\"height:525px; width:100%;\"></div>\n",
       "            <script type=\"text/javascript\">\n",
       "                require([\"plotly\"], function(Plotly) {\n",
       "                    window.PLOTLYENV=window.PLOTLYENV || {};\n",
       "                    window.PLOTLYENV.BASE_URL='https://plot.ly';\n",
       "                    \n",
       "                if (document.getElementById(\"560139d0-cbf5-481c-978f-30fc5badb786\")) {\n",
       "                    Plotly.newPlot(\n",
       "                        '560139d0-cbf5-481c-978f-30fc5badb786',\n",
       "                        [{\"marker\": {\"color\": \"rgba(255, 153, 51, 0.6)\", \"line\": {\"color\": \"rgba(255, 153, 51, 1.0)\", \"width\": 1}}, \"name\": \"A\", \"orientation\": \"v\", \"text\": \"\", \"type\": \"bar\", \"x\": [0, 1, 2, 3, 4, 5, 6, 7, 8, 9, 10, 11, 12, 13, 14, 15, 16, 17, 18, 19, 20, 21, 22, 23, 24, 25, 26, 27, 28, 29, 30, 31, 32, 33, 34, 35, 36, 37, 38, 39, 40, 41, 42, 43, 44, 45, 46, 47, 48, 49, 50, 51, 52, 53, 54, 55, 56, 57, 58, 59, 60, 61, 62, 63, 64, 65, 66, 67, 68, 69, 70, 71, 72, 73, 74, 75, 76, 77, 78, 79, 80, 81, 82, 83, 84, 85, 86, 87, 88, 89, 90, 91, 92, 93, 94, 95, 96, 97, 98, 99], \"y\": [-2.22730975487397, -0.5631088680558595, -1.096813421072463, 0.7776205396385625, -0.1746463353259903, 0.3337465451256331, -0.22897788899722962, -1.6231470277399513, 0.4314232081733444, 0.6087774981436374, 0.6532089544051536, 0.2305117599532342, -0.5411564196238529, 0.8439914549924954, -2.0916013036086567, -1.662078336488449, -0.32543729134850014, 0.29824962167806157, -0.6980798997625995, -1.019787315369518, 0.9572458365796579, 0.9988629965772159, -1.1284538233162278, -0.19827130288135922, 0.705443439167345, 0.019762068277110394, 0.3871897341300344, -0.9896492769418976, -0.19000203749777425, 0.805780167610212, -0.015579478376413077, -0.9327642149249064, 1.1030851259614476, -1.4615649186091488, 1.1910966452002674, 1.2020822117973626, -0.9236357460382656, 1.467120146648933, 0.6842087162635787, -0.18825617620140528, 1.3770709936148462, 5.008385684764456e-05, -0.9704276330639248, -1.42229613425193, 0.14160610886984462, 0.3427554036620041, -0.08990208655324586, 1.3453423306313845, -1.0377535379195855, 0.8872938889127332, 0.972796762360093, 0.5254574431494227, -0.9856616109059382, -1.3077990867768847, -0.20844874892317272, 0.2989183337534506, -1.5616718800201546, -0.0019323778924743222, 0.20940113665143797, 0.0029624530881309304, 0.984144258387087, 0.2475618531391336, -0.23699262229757284, -2.687279401943814, 0.8446810172242765, -0.8880299894551736, 0.7042839160755405, -0.5371513002818218, 0.4775543768493773, -0.48125734603161674, 0.1526309703289612, 0.4644064404748271, -0.27086500539226804, -0.8209590996270908, 0.8101224210185378, -0.19515477954428107, -0.22282797179954303, 1.6666123096212775, 0.01936417809362544, -2.079755223104781, 0.592156902996088, 2.824887493921544, 1.0702737803297262, -0.9900307377950344, 0.7033005437740754, 1.1236191123888546, 2.7894422607871796, -0.5154353735216163, 0.035693159462402105, -0.8396511467292964, -0.06758949413797499, -0.7144381275751631, -0.4574377310876855, 0.7083108180760775, 0.4904445286575012, 0.4599990819826413, -0.37475060080209466, 1.231552043935495, -0.9797458481615703, 1.2876018144942427]}, {\"marker\": {\"color\": \"rgba(55, 128, 191, 0.6)\", \"line\": {\"color\": \"rgba(55, 128, 191, 1.0)\", \"width\": 1}}, \"name\": \"B\", \"orientation\": \"v\", \"text\": \"\", \"type\": \"bar\", \"x\": [0, 1, 2, 3, 4, 5, 6, 7, 8, 9, 10, 11, 12, 13, 14, 15, 16, 17, 18, 19, 20, 21, 22, 23, 24, 25, 26, 27, 28, 29, 30, 31, 32, 33, 34, 35, 36, 37, 38, 39, 40, 41, 42, 43, 44, 45, 46, 47, 48, 49, 50, 51, 52, 53, 54, 55, 56, 57, 58, 59, 60, 61, 62, 63, 64, 65, 66, 67, 68, 69, 70, 71, 72, 73, 74, 75, 76, 77, 78, 79, 80, 81, 82, 83, 84, 85, 86, 87, 88, 89, 90, 91, 92, 93, 94, 95, 96, 97, 98, 99], \"y\": [0.9043707587253097, 1.3436027632821108, -1.6751042617936567, 0.3387377391458157, -0.881658387694221, -0.7962396282496969, -0.2067570773983989, -0.2359199741416241, -0.8705716186554082, -1.4008861407199682, 0.1232404600970688, 1.992250522578355, -1.0829738162466171, 0.3459640802743093, -0.7320311229180546, 0.8667190810610911, -0.45169491002989454, 1.8509140495324818, -0.1607612316493394, 0.7678750875088479, -1.5681420236965922, 0.6551997697753668, -1.0219136628918817, -0.6670704709834635, 1.4132130035526702, -1.636303296014824, -1.4467840239362824, 0.6120696948395167, 0.5256754216674434, -0.6490633308025651, -1.7493411237006207, -2.2317844881829254, -0.4498425724676211, -2.179507267801821, 0.3042365004878486, -0.3996537898866624, -0.6344723242247944, -1.511158111404823, 1.8606442592214745, -0.9221702308510948, -1.357878073024533, 1.0419539337393482, -0.39701074963568916, -0.009885907719007207, 0.25199718187257747, 0.08252493293273659, -0.8813288118498757, 1.2395588902521115, 0.8192946434014031, 1.02410077603876, 2.487820883132203, 0.3245699415077309, -0.3009017101627565, -0.765305827485693, -0.578496599093978, 2.16253861959754, -0.4223635336834874, -1.651750273096774, -0.4351400773787977, 1.8211188584162035, 0.24664276360730764, -0.5937698100161986, 0.3104386616656303, -0.28442291050687013, 0.6710482751707388, -1.0066114116777134, -1.2458588210133685, -1.0812131138354293, 0.23322139251366578, 1.8498665453820595, 0.46155215141225886, -0.8785935220443518, 0.7419068920050634, -0.4406887542644273, -0.6015970351044174, 0.7770402118751695, -0.8444766189568531, 0.21632539676143964, 0.9500585337542808, -0.09870495920870319, -1.1301856809698991, -1.0349727534691304, -1.167898971150679, -0.5035843483278787, 0.04102270577078194, -0.20074632934257497, -0.33106116501995453, -1.7190172294426014, -0.4064481174920905, 0.8176825360210126, -0.3504469481027733, -0.314470755208347, -0.13555527973364587, -0.26324493873654636, 0.2710824187797052, -1.5006937200849786, 1.1850943346761778, 1.3716499527545902, -0.46609424933897065, -1.309941218579945]}, {\"marker\": {\"color\": \"rgba(50, 171, 96, 0.6)\", \"line\": {\"color\": \"rgba(50, 171, 96, 1.0)\", \"width\": 1}}, \"name\": \"C\", \"orientation\": \"v\", \"text\": \"\", \"type\": \"bar\", \"x\": [0, 1, 2, 3, 4, 5, 6, 7, 8, 9, 10, 11, 12, 13, 14, 15, 16, 17, 18, 19, 20, 21, 22, 23, 24, 25, 26, 27, 28, 29, 30, 31, 32, 33, 34, 35, 36, 37, 38, 39, 40, 41, 42, 43, 44, 45, 46, 47, 48, 49, 50, 51, 52, 53, 54, 55, 56, 57, 58, 59, 60, 61, 62, 63, 64, 65, 66, 67, 68, 69, 70, 71, 72, 73, 74, 75, 76, 77, 78, 79, 80, 81, 82, 83, 84, 85, 86, 87, 88, 89, 90, 91, 92, 93, 94, 95, 96, 97, 98, 99], \"y\": [-0.31994801724569455, -1.1147519307668468, 0.09420871372946889, -0.44392821510482694, 0.2720791006808117, -0.5310752669575839, 1.171462687244277, 0.3346061511168307, 0.38331296398150605, 1.9838457865440426, -1.6550981743022035, -1.0025198816173013, 0.36992875542016174, 0.36498285896219074, -0.9232387561671217, 0.6510909726317987, 0.7985182144486457, 0.1971746293694367, 0.6007432391084384, 0.374162986648514, -0.8255675417204941, 0.4193911470138337, -1.6659757136874644, -0.09236677042439063, 0.9439717289742723, -0.18224639541016452, -1.5160334577458336, -0.13835403247894945, 1.5646691827788353, -0.6252653330078247, -0.09844762350233202, 0.904939297961715, 1.6344067926677879, -1.1033626840486355, -0.2706449658500962, 1.3190766995511023, 1.2837324942885457, -0.23555639567112935, 0.9646917501155332, 0.6211321707081742, -0.1008934154342106, 1.505657735349906, 0.2685344074653714, 0.931543833518539, 1.10408923710515, -0.6945993196642515, 0.5570247924749284, -1.3733559321344766, 0.3443409814501852, -0.0037318227276617023, -1.0593236715164922, -0.47008788719726163, 0.17903083749682533, 0.44755915421442244, -1.6860406578141074, -0.3338727560983083, -1.4255013044877651, -0.5094281218613274, 1.5015767666190996, 1.5017081067064284, -2.442862183344835, -2.4543895930005126, -0.14734818549881767, 1.5595373453631993, -0.33972759305399775, 1.0034579029256303, 1.5230059240423028, 0.6716869799676891, 1.0063547046682044, 0.3564780773847101, 1.3327539731798177, 0.7875297450670189, -0.47930200004224427, 0.19475793176432973, 0.9276632756063002, -0.08671985992572159, 0.3855800259823013, 0.7973486240955049, 0.4761572493227163, -0.08780813842340729, 0.8294264790198373, 1.2539719165899483, 0.8956054930324114, -0.3370644073457241, 1.049840911509214, 0.1590932465690057, -0.5588574717787498, 1.0156298686262109, -2.8219573277379277, -0.42917171945788746, -0.47657014837857903, 0.24209600564912173, 0.6512312209328295, -1.647499209445923, -0.17386580349779984, -0.1295882786994215, 1.5611842814201289, -0.37948170816134114, -0.019403944246110923, 0.669857420169742]}, {\"marker\": {\"color\": \"rgba(128, 0, 128, 0.6)\", \"line\": {\"color\": \"rgba(128, 0, 128, 1.0)\", \"width\": 1}}, \"name\": \"D\", \"orientation\": \"v\", \"text\": \"\", \"type\": \"bar\", \"x\": [0, 1, 2, 3, 4, 5, 6, 7, 8, 9, 10, 11, 12, 13, 14, 15, 16, 17, 18, 19, 20, 21, 22, 23, 24, 25, 26, 27, 28, 29, 30, 31, 32, 33, 34, 35, 36, 37, 38, 39, 40, 41, 42, 43, 44, 45, 46, 47, 48, 49, 50, 51, 52, 53, 54, 55, 56, 57, 58, 59, 60, 61, 62, 63, 64, 65, 66, 67, 68, 69, 70, 71, 72, 73, 74, 75, 76, 77, 78, 79, 80, 81, 82, 83, 84, 85, 86, 87, 88, 89, 90, 91, 92, 93, 94, 95, 96, 97, 98, 99], \"y\": [-1.9191968375761468, 0.8057145129951407, 2.59938874924933, 1.0840859085102152, -0.8172373853886793, -0.05656812195768792, -2.198948521865748, 0.23630434282262675, -0.884332399733043, 0.15230299460146768, -0.463880897197754, -0.6987874294994041, 0.3371731568872556, 0.3285593047365649, 2.478749298731274, -1.6182948401272312, -0.8698274708495217, -1.4250902283771039, 0.7493396873331967, -0.7282279200398205, -0.17662921099465953, 1.7529978973970892, -1.0480686749771904, -0.8451640354671216, 1.2913830501868708, 1.4653280262322457, -0.10700527168431656, -0.15416609380015453, 1.3338351460805926, -2.3315563951923113, -1.6844841490465823, 0.2656228300455757, -1.1198436902680682, 0.885932505879549, 0.3101698968223834, 0.46358633239626396, 1.999770001489784, 0.12297952545402142, 0.4217432948165872, 0.06202322331148702, 0.1351305683892131, -0.5006892298386526, 1.900192901981997, -1.563882150026656, -1.1690621343982999, -0.5729487524608797, 0.1913269080645627, 1.2989732513453205, -0.5503781615573572, -0.3446834327481017, -0.39372787735756565, -1.320484583548631, 0.23581583836429626, -0.15688411358677082, 0.7798058786175999, 0.08152361108930499, -0.09417958966935797, -0.8381935830552845, -1.520868013222757, -1.196978070656835, 0.504318266763162, 0.6511494337358126, 1.5595651080487425, -0.2604269271844848, 0.23503290255165085, 0.42845669123192354, 0.27338809640089173, 0.2770127006813712, -0.3259426727318933, 0.4770620816550759, -1.5824027918332106, 0.29429465155823326, 1.6106025070010954, 0.45427224190355164, 0.4432260094781024, 1.0802196619020397, -0.6754256976752617, 0.6079991429815245, -1.4491493203517687, -1.446936392520765, 2.238099164682907, 1.3704219003467148, -0.019788442634019597, -0.9345919280007289, -0.36162876297816204, 0.6240086657483584, -1.3557936420194523, -1.0218663588987615, 0.7645793988738733, 0.053934956447991095, 1.4786150180650501, -2.1131288941109623, -1.0489458315901024, 0.8389368034185251, -1.6971117435064347, 0.9103262491432671, 1.9565588444638466, -2.401103853578811, 0.12117609787702649, -1.4382699461716264]}],\n",
       "                        {\"legend\": {\"bgcolor\": \"#F5F6F9\", \"font\": {\"color\": \"#4D5663\"}}, \"paper_bgcolor\": \"#F5F6F9\", \"plot_bgcolor\": \"#F5F6F9\", \"template\": {\"data\": {\"bar\": [{\"error_x\": {\"color\": \"#2a3f5f\"}, \"error_y\": {\"color\": \"#2a3f5f\"}, \"marker\": {\"line\": {\"color\": \"#E5ECF6\", \"width\": 0.5}}, \"type\": \"bar\"}], \"barpolar\": [{\"marker\": {\"line\": {\"color\": \"#E5ECF6\", \"width\": 0.5}}, \"type\": \"barpolar\"}], \"carpet\": [{\"aaxis\": {\"endlinecolor\": \"#2a3f5f\", \"gridcolor\": \"white\", \"linecolor\": \"white\", \"minorgridcolor\": \"white\", \"startlinecolor\": \"#2a3f5f\"}, \"baxis\": {\"endlinecolor\": \"#2a3f5f\", \"gridcolor\": \"white\", \"linecolor\": \"white\", \"minorgridcolor\": \"white\", \"startlinecolor\": \"#2a3f5f\"}, \"type\": \"carpet\"}], \"choropleth\": [{\"colorbar\": {\"outlinewidth\": 0, \"ticks\": \"\"}, \"type\": \"choropleth\"}], \"contour\": [{\"colorbar\": {\"outlinewidth\": 0, \"ticks\": \"\"}, \"colorscale\": [[0.0, \"#0d0887\"], [0.1111111111111111, \"#46039f\"], [0.2222222222222222, \"#7201a8\"], [0.3333333333333333, \"#9c179e\"], [0.4444444444444444, \"#bd3786\"], [0.5555555555555556, \"#d8576b\"], [0.6666666666666666, \"#ed7953\"], [0.7777777777777778, \"#fb9f3a\"], [0.8888888888888888, \"#fdca26\"], [1.0, \"#f0f921\"]], \"type\": \"contour\"}], \"contourcarpet\": [{\"colorbar\": {\"outlinewidth\": 0, \"ticks\": \"\"}, \"type\": \"contourcarpet\"}], \"heatmap\": [{\"colorbar\": {\"outlinewidth\": 0, \"ticks\": \"\"}, \"colorscale\": [[0.0, \"#0d0887\"], [0.1111111111111111, \"#46039f\"], [0.2222222222222222, \"#7201a8\"], [0.3333333333333333, \"#9c179e\"], [0.4444444444444444, \"#bd3786\"], [0.5555555555555556, \"#d8576b\"], [0.6666666666666666, \"#ed7953\"], [0.7777777777777778, \"#fb9f3a\"], [0.8888888888888888, \"#fdca26\"], [1.0, \"#f0f921\"]], \"type\": \"heatmap\"}], \"heatmapgl\": [{\"colorbar\": {\"outlinewidth\": 0, \"ticks\": \"\"}, \"colorscale\": [[0.0, \"#0d0887\"], [0.1111111111111111, \"#46039f\"], [0.2222222222222222, \"#7201a8\"], [0.3333333333333333, \"#9c179e\"], [0.4444444444444444, \"#bd3786\"], [0.5555555555555556, \"#d8576b\"], [0.6666666666666666, \"#ed7953\"], [0.7777777777777778, \"#fb9f3a\"], [0.8888888888888888, \"#fdca26\"], [1.0, \"#f0f921\"]], \"type\": \"heatmapgl\"}], \"histogram\": [{\"marker\": {\"colorbar\": {\"outlinewidth\": 0, \"ticks\": \"\"}}, \"type\": \"histogram\"}], \"histogram2d\": [{\"colorbar\": {\"outlinewidth\": 0, \"ticks\": \"\"}, \"colorscale\": [[0.0, \"#0d0887\"], [0.1111111111111111, \"#46039f\"], [0.2222222222222222, \"#7201a8\"], [0.3333333333333333, \"#9c179e\"], [0.4444444444444444, \"#bd3786\"], [0.5555555555555556, \"#d8576b\"], [0.6666666666666666, \"#ed7953\"], [0.7777777777777778, \"#fb9f3a\"], [0.8888888888888888, \"#fdca26\"], [1.0, \"#f0f921\"]], \"type\": \"histogram2d\"}], \"histogram2dcontour\": [{\"colorbar\": {\"outlinewidth\": 0, \"ticks\": \"\"}, \"colorscale\": [[0.0, \"#0d0887\"], [0.1111111111111111, \"#46039f\"], [0.2222222222222222, \"#7201a8\"], [0.3333333333333333, \"#9c179e\"], [0.4444444444444444, \"#bd3786\"], [0.5555555555555556, \"#d8576b\"], [0.6666666666666666, \"#ed7953\"], [0.7777777777777778, \"#fb9f3a\"], [0.8888888888888888, \"#fdca26\"], [1.0, \"#f0f921\"]], \"type\": \"histogram2dcontour\"}], \"mesh3d\": [{\"colorbar\": {\"outlinewidth\": 0, \"ticks\": \"\"}, \"type\": \"mesh3d\"}], \"parcoords\": [{\"line\": {\"colorbar\": {\"outlinewidth\": 0, \"ticks\": \"\"}}, \"type\": \"parcoords\"}], \"pie\": [{\"automargin\": true, \"type\": \"pie\"}], \"scatter\": [{\"marker\": {\"colorbar\": {\"outlinewidth\": 0, \"ticks\": \"\"}}, \"type\": \"scatter\"}], \"scatter3d\": [{\"line\": {\"colorbar\": {\"outlinewidth\": 0, \"ticks\": \"\"}}, \"marker\": {\"colorbar\": {\"outlinewidth\": 0, \"ticks\": \"\"}}, \"type\": \"scatter3d\"}], \"scattercarpet\": [{\"marker\": {\"colorbar\": {\"outlinewidth\": 0, \"ticks\": \"\"}}, \"type\": \"scattercarpet\"}], \"scattergeo\": [{\"marker\": {\"colorbar\": {\"outlinewidth\": 0, \"ticks\": \"\"}}, \"type\": \"scattergeo\"}], \"scattergl\": [{\"marker\": {\"colorbar\": {\"outlinewidth\": 0, \"ticks\": \"\"}}, \"type\": \"scattergl\"}], \"scattermapbox\": [{\"marker\": {\"colorbar\": {\"outlinewidth\": 0, \"ticks\": \"\"}}, \"type\": \"scattermapbox\"}], \"scatterpolar\": [{\"marker\": {\"colorbar\": {\"outlinewidth\": 0, \"ticks\": \"\"}}, \"type\": \"scatterpolar\"}], \"scatterpolargl\": [{\"marker\": {\"colorbar\": {\"outlinewidth\": 0, \"ticks\": \"\"}}, \"type\": \"scatterpolargl\"}], \"scatterternary\": [{\"marker\": {\"colorbar\": {\"outlinewidth\": 0, \"ticks\": \"\"}}, \"type\": \"scatterternary\"}], \"surface\": [{\"colorbar\": {\"outlinewidth\": 0, \"ticks\": \"\"}, \"colorscale\": [[0.0, \"#0d0887\"], [0.1111111111111111, \"#46039f\"], [0.2222222222222222, \"#7201a8\"], [0.3333333333333333, \"#9c179e\"], [0.4444444444444444, \"#bd3786\"], [0.5555555555555556, \"#d8576b\"], [0.6666666666666666, \"#ed7953\"], [0.7777777777777778, \"#fb9f3a\"], [0.8888888888888888, \"#fdca26\"], [1.0, \"#f0f921\"]], \"type\": \"surface\"}], \"table\": [{\"cells\": {\"fill\": {\"color\": \"#EBF0F8\"}, \"line\": {\"color\": \"white\"}}, \"header\": {\"fill\": {\"color\": \"#C8D4E3\"}, \"line\": {\"color\": \"white\"}}, \"type\": \"table\"}]}, \"layout\": {\"annotationdefaults\": {\"arrowcolor\": \"#2a3f5f\", \"arrowhead\": 0, \"arrowwidth\": 1}, \"coloraxis\": {\"colorbar\": {\"outlinewidth\": 0, \"ticks\": \"\"}}, \"colorscale\": {\"diverging\": [[0, \"#8e0152\"], [0.1, \"#c51b7d\"], [0.2, \"#de77ae\"], [0.3, \"#f1b6da\"], [0.4, \"#fde0ef\"], [0.5, \"#f7f7f7\"], [0.6, \"#e6f5d0\"], [0.7, \"#b8e186\"], [0.8, \"#7fbc41\"], [0.9, \"#4d9221\"], [1, \"#276419\"]], \"sequential\": [[0.0, \"#0d0887\"], [0.1111111111111111, \"#46039f\"], [0.2222222222222222, \"#7201a8\"], [0.3333333333333333, \"#9c179e\"], [0.4444444444444444, \"#bd3786\"], [0.5555555555555556, \"#d8576b\"], [0.6666666666666666, \"#ed7953\"], [0.7777777777777778, \"#fb9f3a\"], [0.8888888888888888, \"#fdca26\"], [1.0, \"#f0f921\"]], \"sequentialminus\": [[0.0, \"#0d0887\"], [0.1111111111111111, \"#46039f\"], [0.2222222222222222, \"#7201a8\"], [0.3333333333333333, \"#9c179e\"], [0.4444444444444444, \"#bd3786\"], [0.5555555555555556, \"#d8576b\"], [0.6666666666666666, \"#ed7953\"], [0.7777777777777778, \"#fb9f3a\"], [0.8888888888888888, \"#fdca26\"], [1.0, \"#f0f921\"]]}, \"colorway\": [\"#636efa\", \"#EF553B\", \"#00cc96\", \"#ab63fa\", \"#FFA15A\", \"#19d3f3\", \"#FF6692\", \"#B6E880\", \"#FF97FF\", \"#FECB52\"], \"font\": {\"color\": \"#2a3f5f\"}, \"geo\": {\"bgcolor\": \"white\", \"lakecolor\": \"white\", \"landcolor\": \"#E5ECF6\", \"showlakes\": true, \"showland\": true, \"subunitcolor\": \"white\"}, \"hoverlabel\": {\"align\": \"left\"}, \"hovermode\": \"closest\", \"mapbox\": {\"style\": \"light\"}, \"paper_bgcolor\": \"white\", \"plot_bgcolor\": \"#E5ECF6\", \"polar\": {\"angularaxis\": {\"gridcolor\": \"white\", \"linecolor\": \"white\", \"ticks\": \"\"}, \"bgcolor\": \"#E5ECF6\", \"radialaxis\": {\"gridcolor\": \"white\", \"linecolor\": \"white\", \"ticks\": \"\"}}, \"scene\": {\"xaxis\": {\"backgroundcolor\": \"#E5ECF6\", \"gridcolor\": \"white\", \"gridwidth\": 2, \"linecolor\": \"white\", \"showbackground\": true, \"ticks\": \"\", \"zerolinecolor\": \"white\"}, \"yaxis\": {\"backgroundcolor\": \"#E5ECF6\", \"gridcolor\": \"white\", \"gridwidth\": 2, \"linecolor\": \"white\", \"showbackground\": true, \"ticks\": \"\", \"zerolinecolor\": \"white\"}, \"zaxis\": {\"backgroundcolor\": \"#E5ECF6\", \"gridcolor\": \"white\", \"gridwidth\": 2, \"linecolor\": \"white\", \"showbackground\": true, \"ticks\": \"\", \"zerolinecolor\": \"white\"}}, \"shapedefaults\": {\"line\": {\"color\": \"#2a3f5f\"}}, \"ternary\": {\"aaxis\": {\"gridcolor\": \"white\", \"linecolor\": \"white\", \"ticks\": \"\"}, \"baxis\": {\"gridcolor\": \"white\", \"linecolor\": \"white\", \"ticks\": \"\"}, \"bgcolor\": \"#E5ECF6\", \"caxis\": {\"gridcolor\": \"white\", \"linecolor\": \"white\", \"ticks\": \"\"}}, \"title\": {\"x\": 0.05}, \"xaxis\": {\"automargin\": true, \"gridcolor\": \"white\", \"linecolor\": \"white\", \"ticks\": \"\", \"title\": {\"standoff\": 15}, \"zerolinecolor\": \"white\", \"zerolinewidth\": 2}, \"yaxis\": {\"automargin\": true, \"gridcolor\": \"white\", \"linecolor\": \"white\", \"ticks\": \"\", \"title\": {\"standoff\": 15}, \"zerolinecolor\": \"white\", \"zerolinewidth\": 2}}}, \"title\": {\"font\": {\"color\": \"#4D5663\"}}, \"xaxis\": {\"gridcolor\": \"#E1E5ED\", \"showgrid\": true, \"tickfont\": {\"color\": \"#4D5663\"}, \"title\": {\"font\": {\"color\": \"#4D5663\"}, \"text\": \"\"}, \"zerolinecolor\": \"#E1E5ED\"}, \"yaxis\": {\"gridcolor\": \"#E1E5ED\", \"showgrid\": true, \"tickfont\": {\"color\": \"#4D5663\"}, \"title\": {\"font\": {\"color\": \"#4D5663\"}, \"text\": \"\"}, \"zerolinecolor\": \"#E1E5ED\"}},\n",
       "                        {\"showLink\": true, \"linkText\": \"Export to plot.ly\", \"plotlyServerURL\": \"https://plot.ly\", \"responsive\": true}\n",
       "                    ).then(function(){\n",
       "                            \n",
       "var gd = document.getElementById('560139d0-cbf5-481c-978f-30fc5badb786');\n",
       "var x = new MutationObserver(function (mutations, observer) {{\n",
       "        var display = window.getComputedStyle(gd).display;\n",
       "        if (!display || display === 'none') {{\n",
       "            console.log([gd, 'removed!']);\n",
       "            Plotly.purge(gd);\n",
       "            observer.disconnect();\n",
       "        }}\n",
       "}});\n",
       "\n",
       "// Listen for the removal of the full notebook cells\n",
       "var notebookContainer = gd.closest('#notebook-container');\n",
       "if (notebookContainer) {{\n",
       "    x.observe(notebookContainer, {childList: true});\n",
       "}}\n",
       "\n",
       "// Listen for the clearing of the current output cell\n",
       "var outputEl = gd.closest('.output');\n",
       "if (outputEl) {{\n",
       "    x.observe(outputEl, {childList: true});\n",
       "}}\n",
       "\n",
       "                        })\n",
       "                };\n",
       "                });\n",
       "            </script>\n",
       "        </div>"
      ]
     },
     "metadata": {},
     "output_type": "display_data"
    }
   ],
   "source": [
    "df.iplot(kind='bar')"
   ]
  },
  {
   "cell_type": "code",
   "execution_count": 25,
   "metadata": {},
   "outputs": [
    {
     "data": {
      "application/vnd.plotly.v1+json": {
       "config": {
        "linkText": "Export to plot.ly",
        "plotlyServerURL": "https://plot.ly",
        "showLink": true
       },
       "data": [
        {
         "boxpoints": false,
         "line": {
          "width": 1.3
         },
         "marker": {
          "color": "rgba(255, 153, 51, 1.0)"
         },
         "name": "A",
         "orientation": "v",
         "type": "box",
         "y": [
          -2.22730975487397,
          -0.5631088680558595,
          -1.096813421072463,
          0.7776205396385625,
          -0.1746463353259903,
          0.3337465451256331,
          -0.22897788899722962,
          -1.6231470277399513,
          0.4314232081733444,
          0.6087774981436374,
          0.6532089544051536,
          0.2305117599532342,
          -0.5411564196238529,
          0.8439914549924954,
          -2.0916013036086567,
          -1.662078336488449,
          -0.32543729134850014,
          0.29824962167806157,
          -0.6980798997625995,
          -1.019787315369518,
          0.9572458365796579,
          0.9988629965772159,
          -1.1284538233162278,
          -0.19827130288135922,
          0.705443439167345,
          0.019762068277110394,
          0.3871897341300344,
          -0.9896492769418976,
          -0.19000203749777425,
          0.805780167610212,
          -0.015579478376413077,
          -0.9327642149249064,
          1.1030851259614476,
          -1.4615649186091488,
          1.1910966452002674,
          1.2020822117973626,
          -0.9236357460382656,
          1.467120146648933,
          0.6842087162635787,
          -0.18825617620140528,
          1.3770709936148462,
          5.008385684764456e-05,
          -0.9704276330639248,
          -1.42229613425193,
          0.14160610886984462,
          0.3427554036620041,
          -0.08990208655324586,
          1.3453423306313845,
          -1.0377535379195855,
          0.8872938889127332,
          0.972796762360093,
          0.5254574431494227,
          -0.9856616109059382,
          -1.3077990867768847,
          -0.20844874892317272,
          0.2989183337534506,
          -1.5616718800201546,
          -0.0019323778924743222,
          0.20940113665143797,
          0.0029624530881309304,
          0.984144258387087,
          0.2475618531391336,
          -0.23699262229757284,
          -2.687279401943814,
          0.8446810172242765,
          -0.8880299894551736,
          0.7042839160755405,
          -0.5371513002818218,
          0.4775543768493773,
          -0.48125734603161674,
          0.1526309703289612,
          0.4644064404748271,
          -0.27086500539226804,
          -0.8209590996270908,
          0.8101224210185378,
          -0.19515477954428107,
          -0.22282797179954303,
          1.6666123096212775,
          0.01936417809362544,
          -2.079755223104781,
          0.592156902996088,
          2.824887493921544,
          1.0702737803297262,
          -0.9900307377950344,
          0.7033005437740754,
          1.1236191123888546,
          2.7894422607871796,
          -0.5154353735216163,
          0.035693159462402105,
          -0.8396511467292964,
          -0.06758949413797499,
          -0.7144381275751631,
          -0.4574377310876855,
          0.7083108180760775,
          0.4904445286575012,
          0.4599990819826413,
          -0.37475060080209466,
          1.231552043935495,
          -0.9797458481615703,
          1.2876018144942427
         ]
        },
        {
         "boxpoints": false,
         "line": {
          "width": 1.3
         },
         "marker": {
          "color": "rgba(55, 128, 191, 1.0)"
         },
         "name": "B",
         "orientation": "v",
         "type": "box",
         "y": [
          0.9043707587253097,
          1.3436027632821108,
          -1.6751042617936567,
          0.3387377391458157,
          -0.881658387694221,
          -0.7962396282496969,
          -0.2067570773983989,
          -0.2359199741416241,
          -0.8705716186554082,
          -1.4008861407199682,
          0.1232404600970688,
          1.992250522578355,
          -1.0829738162466171,
          0.3459640802743093,
          -0.7320311229180546,
          0.8667190810610911,
          -0.45169491002989454,
          1.8509140495324818,
          -0.1607612316493394,
          0.7678750875088479,
          -1.5681420236965922,
          0.6551997697753668,
          -1.0219136628918817,
          -0.6670704709834635,
          1.4132130035526702,
          -1.636303296014824,
          -1.4467840239362824,
          0.6120696948395167,
          0.5256754216674434,
          -0.6490633308025651,
          -1.7493411237006207,
          -2.2317844881829254,
          -0.4498425724676211,
          -2.179507267801821,
          0.3042365004878486,
          -0.3996537898866624,
          -0.6344723242247944,
          -1.511158111404823,
          1.8606442592214745,
          -0.9221702308510948,
          -1.357878073024533,
          1.0419539337393482,
          -0.39701074963568916,
          -0.009885907719007207,
          0.25199718187257747,
          0.08252493293273659,
          -0.8813288118498757,
          1.2395588902521115,
          0.8192946434014031,
          1.02410077603876,
          2.487820883132203,
          0.3245699415077309,
          -0.3009017101627565,
          -0.765305827485693,
          -0.578496599093978,
          2.16253861959754,
          -0.4223635336834874,
          -1.651750273096774,
          -0.4351400773787977,
          1.8211188584162035,
          0.24664276360730764,
          -0.5937698100161986,
          0.3104386616656303,
          -0.28442291050687013,
          0.6710482751707388,
          -1.0066114116777134,
          -1.2458588210133685,
          -1.0812131138354293,
          0.23322139251366578,
          1.8498665453820595,
          0.46155215141225886,
          -0.8785935220443518,
          0.7419068920050634,
          -0.4406887542644273,
          -0.6015970351044174,
          0.7770402118751695,
          -0.8444766189568531,
          0.21632539676143964,
          0.9500585337542808,
          -0.09870495920870319,
          -1.1301856809698991,
          -1.0349727534691304,
          -1.167898971150679,
          -0.5035843483278787,
          0.04102270577078194,
          -0.20074632934257497,
          -0.33106116501995453,
          -1.7190172294426014,
          -0.4064481174920905,
          0.8176825360210126,
          -0.3504469481027733,
          -0.314470755208347,
          -0.13555527973364587,
          -0.26324493873654636,
          0.2710824187797052,
          -1.5006937200849786,
          1.1850943346761778,
          1.3716499527545902,
          -0.46609424933897065,
          -1.309941218579945
         ]
        },
        {
         "boxpoints": false,
         "line": {
          "width": 1.3
         },
         "marker": {
          "color": "rgba(50, 171, 96, 1.0)"
         },
         "name": "C",
         "orientation": "v",
         "type": "box",
         "y": [
          -0.31994801724569455,
          -1.1147519307668468,
          0.09420871372946889,
          -0.44392821510482694,
          0.2720791006808117,
          -0.5310752669575839,
          1.171462687244277,
          0.3346061511168307,
          0.38331296398150605,
          1.9838457865440426,
          -1.6550981743022035,
          -1.0025198816173013,
          0.36992875542016174,
          0.36498285896219074,
          -0.9232387561671217,
          0.6510909726317987,
          0.7985182144486457,
          0.1971746293694367,
          0.6007432391084384,
          0.374162986648514,
          -0.8255675417204941,
          0.4193911470138337,
          -1.6659757136874644,
          -0.09236677042439063,
          0.9439717289742723,
          -0.18224639541016452,
          -1.5160334577458336,
          -0.13835403247894945,
          1.5646691827788353,
          -0.6252653330078247,
          -0.09844762350233202,
          0.904939297961715,
          1.6344067926677879,
          -1.1033626840486355,
          -0.2706449658500962,
          1.3190766995511023,
          1.2837324942885457,
          -0.23555639567112935,
          0.9646917501155332,
          0.6211321707081742,
          -0.1008934154342106,
          1.505657735349906,
          0.2685344074653714,
          0.931543833518539,
          1.10408923710515,
          -0.6945993196642515,
          0.5570247924749284,
          -1.3733559321344766,
          0.3443409814501852,
          -0.0037318227276617023,
          -1.0593236715164922,
          -0.47008788719726163,
          0.17903083749682533,
          0.44755915421442244,
          -1.6860406578141074,
          -0.3338727560983083,
          -1.4255013044877651,
          -0.5094281218613274,
          1.5015767666190996,
          1.5017081067064284,
          -2.442862183344835,
          -2.4543895930005126,
          -0.14734818549881767,
          1.5595373453631993,
          -0.33972759305399775,
          1.0034579029256303,
          1.5230059240423028,
          0.6716869799676891,
          1.0063547046682044,
          0.3564780773847101,
          1.3327539731798177,
          0.7875297450670189,
          -0.47930200004224427,
          0.19475793176432973,
          0.9276632756063002,
          -0.08671985992572159,
          0.3855800259823013,
          0.7973486240955049,
          0.4761572493227163,
          -0.08780813842340729,
          0.8294264790198373,
          1.2539719165899483,
          0.8956054930324114,
          -0.3370644073457241,
          1.049840911509214,
          0.1590932465690057,
          -0.5588574717787498,
          1.0156298686262109,
          -2.8219573277379277,
          -0.42917171945788746,
          -0.47657014837857903,
          0.24209600564912173,
          0.6512312209328295,
          -1.647499209445923,
          -0.17386580349779984,
          -0.1295882786994215,
          1.5611842814201289,
          -0.37948170816134114,
          -0.019403944246110923,
          0.669857420169742
         ]
        },
        {
         "boxpoints": false,
         "line": {
          "width": 1.3
         },
         "marker": {
          "color": "rgba(128, 0, 128, 1.0)"
         },
         "name": "D",
         "orientation": "v",
         "type": "box",
         "y": [
          -1.9191968375761468,
          0.8057145129951407,
          2.59938874924933,
          1.0840859085102152,
          -0.8172373853886793,
          -0.05656812195768792,
          -2.198948521865748,
          0.23630434282262675,
          -0.884332399733043,
          0.15230299460146768,
          -0.463880897197754,
          -0.6987874294994041,
          0.3371731568872556,
          0.3285593047365649,
          2.478749298731274,
          -1.6182948401272312,
          -0.8698274708495217,
          -1.4250902283771039,
          0.7493396873331967,
          -0.7282279200398205,
          -0.17662921099465953,
          1.7529978973970892,
          -1.0480686749771904,
          -0.8451640354671216,
          1.2913830501868708,
          1.4653280262322457,
          -0.10700527168431656,
          -0.15416609380015453,
          1.3338351460805926,
          -2.3315563951923113,
          -1.6844841490465823,
          0.2656228300455757,
          -1.1198436902680682,
          0.885932505879549,
          0.3101698968223834,
          0.46358633239626396,
          1.999770001489784,
          0.12297952545402142,
          0.4217432948165872,
          0.06202322331148702,
          0.1351305683892131,
          -0.5006892298386526,
          1.900192901981997,
          -1.563882150026656,
          -1.1690621343982999,
          -0.5729487524608797,
          0.1913269080645627,
          1.2989732513453205,
          -0.5503781615573572,
          -0.3446834327481017,
          -0.39372787735756565,
          -1.320484583548631,
          0.23581583836429626,
          -0.15688411358677082,
          0.7798058786175999,
          0.08152361108930499,
          -0.09417958966935797,
          -0.8381935830552845,
          -1.520868013222757,
          -1.196978070656835,
          0.504318266763162,
          0.6511494337358126,
          1.5595651080487425,
          -0.2604269271844848,
          0.23503290255165085,
          0.42845669123192354,
          0.27338809640089173,
          0.2770127006813712,
          -0.3259426727318933,
          0.4770620816550759,
          -1.5824027918332106,
          0.29429465155823326,
          1.6106025070010954,
          0.45427224190355164,
          0.4432260094781024,
          1.0802196619020397,
          -0.6754256976752617,
          0.6079991429815245,
          -1.4491493203517687,
          -1.446936392520765,
          2.238099164682907,
          1.3704219003467148,
          -0.019788442634019597,
          -0.9345919280007289,
          -0.36162876297816204,
          0.6240086657483584,
          -1.3557936420194523,
          -1.0218663588987615,
          0.7645793988738733,
          0.053934956447991095,
          1.4786150180650501,
          -2.1131288941109623,
          -1.0489458315901024,
          0.8389368034185251,
          -1.6971117435064347,
          0.9103262491432671,
          1.9565588444638466,
          -2.401103853578811,
          0.12117609787702649,
          -1.4382699461716264
         ]
        }
       ],
       "layout": {
        "legend": {
         "bgcolor": "#F5F6F9",
         "font": {
          "color": "#4D5663"
         }
        },
        "paper_bgcolor": "#F5F6F9",
        "plot_bgcolor": "#F5F6F9",
        "template": {
         "data": {
          "bar": [
           {
            "error_x": {
             "color": "#2a3f5f"
            },
            "error_y": {
             "color": "#2a3f5f"
            },
            "marker": {
             "line": {
              "color": "#E5ECF6",
              "width": 0.5
             }
            },
            "type": "bar"
           }
          ],
          "barpolar": [
           {
            "marker": {
             "line": {
              "color": "#E5ECF6",
              "width": 0.5
             }
            },
            "type": "barpolar"
           }
          ],
          "carpet": [
           {
            "aaxis": {
             "endlinecolor": "#2a3f5f",
             "gridcolor": "white",
             "linecolor": "white",
             "minorgridcolor": "white",
             "startlinecolor": "#2a3f5f"
            },
            "baxis": {
             "endlinecolor": "#2a3f5f",
             "gridcolor": "white",
             "linecolor": "white",
             "minorgridcolor": "white",
             "startlinecolor": "#2a3f5f"
            },
            "type": "carpet"
           }
          ],
          "choropleth": [
           {
            "colorbar": {
             "outlinewidth": 0,
             "ticks": ""
            },
            "type": "choropleth"
           }
          ],
          "contour": [
           {
            "colorbar": {
             "outlinewidth": 0,
             "ticks": ""
            },
            "colorscale": [
             [
              0,
              "#0d0887"
             ],
             [
              0.1111111111111111,
              "#46039f"
             ],
             [
              0.2222222222222222,
              "#7201a8"
             ],
             [
              0.3333333333333333,
              "#9c179e"
             ],
             [
              0.4444444444444444,
              "#bd3786"
             ],
             [
              0.5555555555555556,
              "#d8576b"
             ],
             [
              0.6666666666666666,
              "#ed7953"
             ],
             [
              0.7777777777777778,
              "#fb9f3a"
             ],
             [
              0.8888888888888888,
              "#fdca26"
             ],
             [
              1,
              "#f0f921"
             ]
            ],
            "type": "contour"
           }
          ],
          "contourcarpet": [
           {
            "colorbar": {
             "outlinewidth": 0,
             "ticks": ""
            },
            "type": "contourcarpet"
           }
          ],
          "heatmap": [
           {
            "colorbar": {
             "outlinewidth": 0,
             "ticks": ""
            },
            "colorscale": [
             [
              0,
              "#0d0887"
             ],
             [
              0.1111111111111111,
              "#46039f"
             ],
             [
              0.2222222222222222,
              "#7201a8"
             ],
             [
              0.3333333333333333,
              "#9c179e"
             ],
             [
              0.4444444444444444,
              "#bd3786"
             ],
             [
              0.5555555555555556,
              "#d8576b"
             ],
             [
              0.6666666666666666,
              "#ed7953"
             ],
             [
              0.7777777777777778,
              "#fb9f3a"
             ],
             [
              0.8888888888888888,
              "#fdca26"
             ],
             [
              1,
              "#f0f921"
             ]
            ],
            "type": "heatmap"
           }
          ],
          "heatmapgl": [
           {
            "colorbar": {
             "outlinewidth": 0,
             "ticks": ""
            },
            "colorscale": [
             [
              0,
              "#0d0887"
             ],
             [
              0.1111111111111111,
              "#46039f"
             ],
             [
              0.2222222222222222,
              "#7201a8"
             ],
             [
              0.3333333333333333,
              "#9c179e"
             ],
             [
              0.4444444444444444,
              "#bd3786"
             ],
             [
              0.5555555555555556,
              "#d8576b"
             ],
             [
              0.6666666666666666,
              "#ed7953"
             ],
             [
              0.7777777777777778,
              "#fb9f3a"
             ],
             [
              0.8888888888888888,
              "#fdca26"
             ],
             [
              1,
              "#f0f921"
             ]
            ],
            "type": "heatmapgl"
           }
          ],
          "histogram": [
           {
            "marker": {
             "colorbar": {
              "outlinewidth": 0,
              "ticks": ""
             }
            },
            "type": "histogram"
           }
          ],
          "histogram2d": [
           {
            "colorbar": {
             "outlinewidth": 0,
             "ticks": ""
            },
            "colorscale": [
             [
              0,
              "#0d0887"
             ],
             [
              0.1111111111111111,
              "#46039f"
             ],
             [
              0.2222222222222222,
              "#7201a8"
             ],
             [
              0.3333333333333333,
              "#9c179e"
             ],
             [
              0.4444444444444444,
              "#bd3786"
             ],
             [
              0.5555555555555556,
              "#d8576b"
             ],
             [
              0.6666666666666666,
              "#ed7953"
             ],
             [
              0.7777777777777778,
              "#fb9f3a"
             ],
             [
              0.8888888888888888,
              "#fdca26"
             ],
             [
              1,
              "#f0f921"
             ]
            ],
            "type": "histogram2d"
           }
          ],
          "histogram2dcontour": [
           {
            "colorbar": {
             "outlinewidth": 0,
             "ticks": ""
            },
            "colorscale": [
             [
              0,
              "#0d0887"
             ],
             [
              0.1111111111111111,
              "#46039f"
             ],
             [
              0.2222222222222222,
              "#7201a8"
             ],
             [
              0.3333333333333333,
              "#9c179e"
             ],
             [
              0.4444444444444444,
              "#bd3786"
             ],
             [
              0.5555555555555556,
              "#d8576b"
             ],
             [
              0.6666666666666666,
              "#ed7953"
             ],
             [
              0.7777777777777778,
              "#fb9f3a"
             ],
             [
              0.8888888888888888,
              "#fdca26"
             ],
             [
              1,
              "#f0f921"
             ]
            ],
            "type": "histogram2dcontour"
           }
          ],
          "mesh3d": [
           {
            "colorbar": {
             "outlinewidth": 0,
             "ticks": ""
            },
            "type": "mesh3d"
           }
          ],
          "parcoords": [
           {
            "line": {
             "colorbar": {
              "outlinewidth": 0,
              "ticks": ""
             }
            },
            "type": "parcoords"
           }
          ],
          "pie": [
           {
            "automargin": true,
            "type": "pie"
           }
          ],
          "scatter": [
           {
            "marker": {
             "colorbar": {
              "outlinewidth": 0,
              "ticks": ""
             }
            },
            "type": "scatter"
           }
          ],
          "scatter3d": [
           {
            "line": {
             "colorbar": {
              "outlinewidth": 0,
              "ticks": ""
             }
            },
            "marker": {
             "colorbar": {
              "outlinewidth": 0,
              "ticks": ""
             }
            },
            "type": "scatter3d"
           }
          ],
          "scattercarpet": [
           {
            "marker": {
             "colorbar": {
              "outlinewidth": 0,
              "ticks": ""
             }
            },
            "type": "scattercarpet"
           }
          ],
          "scattergeo": [
           {
            "marker": {
             "colorbar": {
              "outlinewidth": 0,
              "ticks": ""
             }
            },
            "type": "scattergeo"
           }
          ],
          "scattergl": [
           {
            "marker": {
             "colorbar": {
              "outlinewidth": 0,
              "ticks": ""
             }
            },
            "type": "scattergl"
           }
          ],
          "scattermapbox": [
           {
            "marker": {
             "colorbar": {
              "outlinewidth": 0,
              "ticks": ""
             }
            },
            "type": "scattermapbox"
           }
          ],
          "scatterpolar": [
           {
            "marker": {
             "colorbar": {
              "outlinewidth": 0,
              "ticks": ""
             }
            },
            "type": "scatterpolar"
           }
          ],
          "scatterpolargl": [
           {
            "marker": {
             "colorbar": {
              "outlinewidth": 0,
              "ticks": ""
             }
            },
            "type": "scatterpolargl"
           }
          ],
          "scatterternary": [
           {
            "marker": {
             "colorbar": {
              "outlinewidth": 0,
              "ticks": ""
             }
            },
            "type": "scatterternary"
           }
          ],
          "surface": [
           {
            "colorbar": {
             "outlinewidth": 0,
             "ticks": ""
            },
            "colorscale": [
             [
              0,
              "#0d0887"
             ],
             [
              0.1111111111111111,
              "#46039f"
             ],
             [
              0.2222222222222222,
              "#7201a8"
             ],
             [
              0.3333333333333333,
              "#9c179e"
             ],
             [
              0.4444444444444444,
              "#bd3786"
             ],
             [
              0.5555555555555556,
              "#d8576b"
             ],
             [
              0.6666666666666666,
              "#ed7953"
             ],
             [
              0.7777777777777778,
              "#fb9f3a"
             ],
             [
              0.8888888888888888,
              "#fdca26"
             ],
             [
              1,
              "#f0f921"
             ]
            ],
            "type": "surface"
           }
          ],
          "table": [
           {
            "cells": {
             "fill": {
              "color": "#EBF0F8"
             },
             "line": {
              "color": "white"
             }
            },
            "header": {
             "fill": {
              "color": "#C8D4E3"
             },
             "line": {
              "color": "white"
             }
            },
            "type": "table"
           }
          ]
         },
         "layout": {
          "annotationdefaults": {
           "arrowcolor": "#2a3f5f",
           "arrowhead": 0,
           "arrowwidth": 1
          },
          "coloraxis": {
           "colorbar": {
            "outlinewidth": 0,
            "ticks": ""
           }
          },
          "colorscale": {
           "diverging": [
            [
             0,
             "#8e0152"
            ],
            [
             0.1,
             "#c51b7d"
            ],
            [
             0.2,
             "#de77ae"
            ],
            [
             0.3,
             "#f1b6da"
            ],
            [
             0.4,
             "#fde0ef"
            ],
            [
             0.5,
             "#f7f7f7"
            ],
            [
             0.6,
             "#e6f5d0"
            ],
            [
             0.7,
             "#b8e186"
            ],
            [
             0.8,
             "#7fbc41"
            ],
            [
             0.9,
             "#4d9221"
            ],
            [
             1,
             "#276419"
            ]
           ],
           "sequential": [
            [
             0,
             "#0d0887"
            ],
            [
             0.1111111111111111,
             "#46039f"
            ],
            [
             0.2222222222222222,
             "#7201a8"
            ],
            [
             0.3333333333333333,
             "#9c179e"
            ],
            [
             0.4444444444444444,
             "#bd3786"
            ],
            [
             0.5555555555555556,
             "#d8576b"
            ],
            [
             0.6666666666666666,
             "#ed7953"
            ],
            [
             0.7777777777777778,
             "#fb9f3a"
            ],
            [
             0.8888888888888888,
             "#fdca26"
            ],
            [
             1,
             "#f0f921"
            ]
           ],
           "sequentialminus": [
            [
             0,
             "#0d0887"
            ],
            [
             0.1111111111111111,
             "#46039f"
            ],
            [
             0.2222222222222222,
             "#7201a8"
            ],
            [
             0.3333333333333333,
             "#9c179e"
            ],
            [
             0.4444444444444444,
             "#bd3786"
            ],
            [
             0.5555555555555556,
             "#d8576b"
            ],
            [
             0.6666666666666666,
             "#ed7953"
            ],
            [
             0.7777777777777778,
             "#fb9f3a"
            ],
            [
             0.8888888888888888,
             "#fdca26"
            ],
            [
             1,
             "#f0f921"
            ]
           ]
          },
          "colorway": [
           "#636efa",
           "#EF553B",
           "#00cc96",
           "#ab63fa",
           "#FFA15A",
           "#19d3f3",
           "#FF6692",
           "#B6E880",
           "#FF97FF",
           "#FECB52"
          ],
          "font": {
           "color": "#2a3f5f"
          },
          "geo": {
           "bgcolor": "white",
           "lakecolor": "white",
           "landcolor": "#E5ECF6",
           "showlakes": true,
           "showland": true,
           "subunitcolor": "white"
          },
          "hoverlabel": {
           "align": "left"
          },
          "hovermode": "closest",
          "mapbox": {
           "style": "light"
          },
          "paper_bgcolor": "white",
          "plot_bgcolor": "#E5ECF6",
          "polar": {
           "angularaxis": {
            "gridcolor": "white",
            "linecolor": "white",
            "ticks": ""
           },
           "bgcolor": "#E5ECF6",
           "radialaxis": {
            "gridcolor": "white",
            "linecolor": "white",
            "ticks": ""
           }
          },
          "scene": {
           "xaxis": {
            "backgroundcolor": "#E5ECF6",
            "gridcolor": "white",
            "gridwidth": 2,
            "linecolor": "white",
            "showbackground": true,
            "ticks": "",
            "zerolinecolor": "white"
           },
           "yaxis": {
            "backgroundcolor": "#E5ECF6",
            "gridcolor": "white",
            "gridwidth": 2,
            "linecolor": "white",
            "showbackground": true,
            "ticks": "",
            "zerolinecolor": "white"
           },
           "zaxis": {
            "backgroundcolor": "#E5ECF6",
            "gridcolor": "white",
            "gridwidth": 2,
            "linecolor": "white",
            "showbackground": true,
            "ticks": "",
            "zerolinecolor": "white"
           }
          },
          "shapedefaults": {
           "line": {
            "color": "#2a3f5f"
           }
          },
          "ternary": {
           "aaxis": {
            "gridcolor": "white",
            "linecolor": "white",
            "ticks": ""
           },
           "baxis": {
            "gridcolor": "white",
            "linecolor": "white",
            "ticks": ""
           },
           "bgcolor": "#E5ECF6",
           "caxis": {
            "gridcolor": "white",
            "linecolor": "white",
            "ticks": ""
           }
          },
          "title": {
           "x": 0.05
          },
          "xaxis": {
           "automargin": true,
           "gridcolor": "white",
           "linecolor": "white",
           "ticks": "",
           "title": {
            "standoff": 15
           },
           "zerolinecolor": "white",
           "zerolinewidth": 2
          },
          "yaxis": {
           "automargin": true,
           "gridcolor": "white",
           "linecolor": "white",
           "ticks": "",
           "title": {
            "standoff": 15
           },
           "zerolinecolor": "white",
           "zerolinewidth": 2
          }
         }
        },
        "title": {
         "font": {
          "color": "#4D5663"
         }
        },
        "xaxis": {
         "gridcolor": "#E1E5ED",
         "showgrid": true,
         "tickfont": {
          "color": "#4D5663"
         },
         "title": {
          "font": {
           "color": "#4D5663"
          },
          "text": ""
         },
         "zerolinecolor": "#E1E5ED"
        },
        "yaxis": {
         "gridcolor": "#E1E5ED",
         "showgrid": true,
         "tickfont": {
          "color": "#4D5663"
         },
         "title": {
          "font": {
           "color": "#4D5663"
          },
          "text": ""
         },
         "zerolinecolor": "#E1E5ED"
        }
       }
      },
      "text/html": [
       "<div>\n",
       "        \n",
       "        \n",
       "            <div id=\"b091d447-ed17-4ebe-80e4-e68ce8ee7f99\" class=\"plotly-graph-div\" style=\"height:525px; width:100%;\"></div>\n",
       "            <script type=\"text/javascript\">\n",
       "                require([\"plotly\"], function(Plotly) {\n",
       "                    window.PLOTLYENV=window.PLOTLYENV || {};\n",
       "                    window.PLOTLYENV.BASE_URL='https://plot.ly';\n",
       "                    \n",
       "                if (document.getElementById(\"b091d447-ed17-4ebe-80e4-e68ce8ee7f99\")) {\n",
       "                    Plotly.newPlot(\n",
       "                        'b091d447-ed17-4ebe-80e4-e68ce8ee7f99',\n",
       "                        [{\"boxpoints\": false, \"line\": {\"width\": 1.3}, \"marker\": {\"color\": \"rgba(255, 153, 51, 1.0)\"}, \"name\": \"A\", \"orientation\": \"v\", \"type\": \"box\", \"y\": [-2.22730975487397, -0.5631088680558595, -1.096813421072463, 0.7776205396385625, -0.1746463353259903, 0.3337465451256331, -0.22897788899722962, -1.6231470277399513, 0.4314232081733444, 0.6087774981436374, 0.6532089544051536, 0.2305117599532342, -0.5411564196238529, 0.8439914549924954, -2.0916013036086567, -1.662078336488449, -0.32543729134850014, 0.29824962167806157, -0.6980798997625995, -1.019787315369518, 0.9572458365796579, 0.9988629965772159, -1.1284538233162278, -0.19827130288135922, 0.705443439167345, 0.019762068277110394, 0.3871897341300344, -0.9896492769418976, -0.19000203749777425, 0.805780167610212, -0.015579478376413077, -0.9327642149249064, 1.1030851259614476, -1.4615649186091488, 1.1910966452002674, 1.2020822117973626, -0.9236357460382656, 1.467120146648933, 0.6842087162635787, -0.18825617620140528, 1.3770709936148462, 5.008385684764456e-05, -0.9704276330639248, -1.42229613425193, 0.14160610886984462, 0.3427554036620041, -0.08990208655324586, 1.3453423306313845, -1.0377535379195855, 0.8872938889127332, 0.972796762360093, 0.5254574431494227, -0.9856616109059382, -1.3077990867768847, -0.20844874892317272, 0.2989183337534506, -1.5616718800201546, -0.0019323778924743222, 0.20940113665143797, 0.0029624530881309304, 0.984144258387087, 0.2475618531391336, -0.23699262229757284, -2.687279401943814, 0.8446810172242765, -0.8880299894551736, 0.7042839160755405, -0.5371513002818218, 0.4775543768493773, -0.48125734603161674, 0.1526309703289612, 0.4644064404748271, -0.27086500539226804, -0.8209590996270908, 0.8101224210185378, -0.19515477954428107, -0.22282797179954303, 1.6666123096212775, 0.01936417809362544, -2.079755223104781, 0.592156902996088, 2.824887493921544, 1.0702737803297262, -0.9900307377950344, 0.7033005437740754, 1.1236191123888546, 2.7894422607871796, -0.5154353735216163, 0.035693159462402105, -0.8396511467292964, -0.06758949413797499, -0.7144381275751631, -0.4574377310876855, 0.7083108180760775, 0.4904445286575012, 0.4599990819826413, -0.37475060080209466, 1.231552043935495, -0.9797458481615703, 1.2876018144942427]}, {\"boxpoints\": false, \"line\": {\"width\": 1.3}, \"marker\": {\"color\": \"rgba(55, 128, 191, 1.0)\"}, \"name\": \"B\", \"orientation\": \"v\", \"type\": \"box\", \"y\": [0.9043707587253097, 1.3436027632821108, -1.6751042617936567, 0.3387377391458157, -0.881658387694221, -0.7962396282496969, -0.2067570773983989, -0.2359199741416241, -0.8705716186554082, -1.4008861407199682, 0.1232404600970688, 1.992250522578355, -1.0829738162466171, 0.3459640802743093, -0.7320311229180546, 0.8667190810610911, -0.45169491002989454, 1.8509140495324818, -0.1607612316493394, 0.7678750875088479, -1.5681420236965922, 0.6551997697753668, -1.0219136628918817, -0.6670704709834635, 1.4132130035526702, -1.636303296014824, -1.4467840239362824, 0.6120696948395167, 0.5256754216674434, -0.6490633308025651, -1.7493411237006207, -2.2317844881829254, -0.4498425724676211, -2.179507267801821, 0.3042365004878486, -0.3996537898866624, -0.6344723242247944, -1.511158111404823, 1.8606442592214745, -0.9221702308510948, -1.357878073024533, 1.0419539337393482, -0.39701074963568916, -0.009885907719007207, 0.25199718187257747, 0.08252493293273659, -0.8813288118498757, 1.2395588902521115, 0.8192946434014031, 1.02410077603876, 2.487820883132203, 0.3245699415077309, -0.3009017101627565, -0.765305827485693, -0.578496599093978, 2.16253861959754, -0.4223635336834874, -1.651750273096774, -0.4351400773787977, 1.8211188584162035, 0.24664276360730764, -0.5937698100161986, 0.3104386616656303, -0.28442291050687013, 0.6710482751707388, -1.0066114116777134, -1.2458588210133685, -1.0812131138354293, 0.23322139251366578, 1.8498665453820595, 0.46155215141225886, -0.8785935220443518, 0.7419068920050634, -0.4406887542644273, -0.6015970351044174, 0.7770402118751695, -0.8444766189568531, 0.21632539676143964, 0.9500585337542808, -0.09870495920870319, -1.1301856809698991, -1.0349727534691304, -1.167898971150679, -0.5035843483278787, 0.04102270577078194, -0.20074632934257497, -0.33106116501995453, -1.7190172294426014, -0.4064481174920905, 0.8176825360210126, -0.3504469481027733, -0.314470755208347, -0.13555527973364587, -0.26324493873654636, 0.2710824187797052, -1.5006937200849786, 1.1850943346761778, 1.3716499527545902, -0.46609424933897065, -1.309941218579945]}, {\"boxpoints\": false, \"line\": {\"width\": 1.3}, \"marker\": {\"color\": \"rgba(50, 171, 96, 1.0)\"}, \"name\": \"C\", \"orientation\": \"v\", \"type\": \"box\", \"y\": [-0.31994801724569455, -1.1147519307668468, 0.09420871372946889, -0.44392821510482694, 0.2720791006808117, -0.5310752669575839, 1.171462687244277, 0.3346061511168307, 0.38331296398150605, 1.9838457865440426, -1.6550981743022035, -1.0025198816173013, 0.36992875542016174, 0.36498285896219074, -0.9232387561671217, 0.6510909726317987, 0.7985182144486457, 0.1971746293694367, 0.6007432391084384, 0.374162986648514, -0.8255675417204941, 0.4193911470138337, -1.6659757136874644, -0.09236677042439063, 0.9439717289742723, -0.18224639541016452, -1.5160334577458336, -0.13835403247894945, 1.5646691827788353, -0.6252653330078247, -0.09844762350233202, 0.904939297961715, 1.6344067926677879, -1.1033626840486355, -0.2706449658500962, 1.3190766995511023, 1.2837324942885457, -0.23555639567112935, 0.9646917501155332, 0.6211321707081742, -0.1008934154342106, 1.505657735349906, 0.2685344074653714, 0.931543833518539, 1.10408923710515, -0.6945993196642515, 0.5570247924749284, -1.3733559321344766, 0.3443409814501852, -0.0037318227276617023, -1.0593236715164922, -0.47008788719726163, 0.17903083749682533, 0.44755915421442244, -1.6860406578141074, -0.3338727560983083, -1.4255013044877651, -0.5094281218613274, 1.5015767666190996, 1.5017081067064284, -2.442862183344835, -2.4543895930005126, -0.14734818549881767, 1.5595373453631993, -0.33972759305399775, 1.0034579029256303, 1.5230059240423028, 0.6716869799676891, 1.0063547046682044, 0.3564780773847101, 1.3327539731798177, 0.7875297450670189, -0.47930200004224427, 0.19475793176432973, 0.9276632756063002, -0.08671985992572159, 0.3855800259823013, 0.7973486240955049, 0.4761572493227163, -0.08780813842340729, 0.8294264790198373, 1.2539719165899483, 0.8956054930324114, -0.3370644073457241, 1.049840911509214, 0.1590932465690057, -0.5588574717787498, 1.0156298686262109, -2.8219573277379277, -0.42917171945788746, -0.47657014837857903, 0.24209600564912173, 0.6512312209328295, -1.647499209445923, -0.17386580349779984, -0.1295882786994215, 1.5611842814201289, -0.37948170816134114, -0.019403944246110923, 0.669857420169742]}, {\"boxpoints\": false, \"line\": {\"width\": 1.3}, \"marker\": {\"color\": \"rgba(128, 0, 128, 1.0)\"}, \"name\": \"D\", \"orientation\": \"v\", \"type\": \"box\", \"y\": [-1.9191968375761468, 0.8057145129951407, 2.59938874924933, 1.0840859085102152, -0.8172373853886793, -0.05656812195768792, -2.198948521865748, 0.23630434282262675, -0.884332399733043, 0.15230299460146768, -0.463880897197754, -0.6987874294994041, 0.3371731568872556, 0.3285593047365649, 2.478749298731274, -1.6182948401272312, -0.8698274708495217, -1.4250902283771039, 0.7493396873331967, -0.7282279200398205, -0.17662921099465953, 1.7529978973970892, -1.0480686749771904, -0.8451640354671216, 1.2913830501868708, 1.4653280262322457, -0.10700527168431656, -0.15416609380015453, 1.3338351460805926, -2.3315563951923113, -1.6844841490465823, 0.2656228300455757, -1.1198436902680682, 0.885932505879549, 0.3101698968223834, 0.46358633239626396, 1.999770001489784, 0.12297952545402142, 0.4217432948165872, 0.06202322331148702, 0.1351305683892131, -0.5006892298386526, 1.900192901981997, -1.563882150026656, -1.1690621343982999, -0.5729487524608797, 0.1913269080645627, 1.2989732513453205, -0.5503781615573572, -0.3446834327481017, -0.39372787735756565, -1.320484583548631, 0.23581583836429626, -0.15688411358677082, 0.7798058786175999, 0.08152361108930499, -0.09417958966935797, -0.8381935830552845, -1.520868013222757, -1.196978070656835, 0.504318266763162, 0.6511494337358126, 1.5595651080487425, -0.2604269271844848, 0.23503290255165085, 0.42845669123192354, 0.27338809640089173, 0.2770127006813712, -0.3259426727318933, 0.4770620816550759, -1.5824027918332106, 0.29429465155823326, 1.6106025070010954, 0.45427224190355164, 0.4432260094781024, 1.0802196619020397, -0.6754256976752617, 0.6079991429815245, -1.4491493203517687, -1.446936392520765, 2.238099164682907, 1.3704219003467148, -0.019788442634019597, -0.9345919280007289, -0.36162876297816204, 0.6240086657483584, -1.3557936420194523, -1.0218663588987615, 0.7645793988738733, 0.053934956447991095, 1.4786150180650501, -2.1131288941109623, -1.0489458315901024, 0.8389368034185251, -1.6971117435064347, 0.9103262491432671, 1.9565588444638466, -2.401103853578811, 0.12117609787702649, -1.4382699461716264]}],\n",
       "                        {\"legend\": {\"bgcolor\": \"#F5F6F9\", \"font\": {\"color\": \"#4D5663\"}}, \"paper_bgcolor\": \"#F5F6F9\", \"plot_bgcolor\": \"#F5F6F9\", \"template\": {\"data\": {\"bar\": [{\"error_x\": {\"color\": \"#2a3f5f\"}, \"error_y\": {\"color\": \"#2a3f5f\"}, \"marker\": {\"line\": {\"color\": \"#E5ECF6\", \"width\": 0.5}}, \"type\": \"bar\"}], \"barpolar\": [{\"marker\": {\"line\": {\"color\": \"#E5ECF6\", \"width\": 0.5}}, \"type\": \"barpolar\"}], \"carpet\": [{\"aaxis\": {\"endlinecolor\": \"#2a3f5f\", \"gridcolor\": \"white\", \"linecolor\": \"white\", \"minorgridcolor\": \"white\", \"startlinecolor\": \"#2a3f5f\"}, \"baxis\": {\"endlinecolor\": \"#2a3f5f\", \"gridcolor\": \"white\", \"linecolor\": \"white\", \"minorgridcolor\": \"white\", \"startlinecolor\": \"#2a3f5f\"}, \"type\": \"carpet\"}], \"choropleth\": [{\"colorbar\": {\"outlinewidth\": 0, \"ticks\": \"\"}, \"type\": \"choropleth\"}], \"contour\": [{\"colorbar\": {\"outlinewidth\": 0, \"ticks\": \"\"}, \"colorscale\": [[0.0, \"#0d0887\"], [0.1111111111111111, \"#46039f\"], [0.2222222222222222, \"#7201a8\"], [0.3333333333333333, \"#9c179e\"], [0.4444444444444444, \"#bd3786\"], [0.5555555555555556, \"#d8576b\"], [0.6666666666666666, \"#ed7953\"], [0.7777777777777778, \"#fb9f3a\"], [0.8888888888888888, \"#fdca26\"], [1.0, \"#f0f921\"]], \"type\": \"contour\"}], \"contourcarpet\": [{\"colorbar\": {\"outlinewidth\": 0, \"ticks\": \"\"}, \"type\": \"contourcarpet\"}], \"heatmap\": [{\"colorbar\": {\"outlinewidth\": 0, \"ticks\": \"\"}, \"colorscale\": [[0.0, \"#0d0887\"], [0.1111111111111111, \"#46039f\"], [0.2222222222222222, \"#7201a8\"], [0.3333333333333333, \"#9c179e\"], [0.4444444444444444, \"#bd3786\"], [0.5555555555555556, \"#d8576b\"], [0.6666666666666666, \"#ed7953\"], [0.7777777777777778, \"#fb9f3a\"], [0.8888888888888888, \"#fdca26\"], [1.0, \"#f0f921\"]], \"type\": \"heatmap\"}], \"heatmapgl\": [{\"colorbar\": {\"outlinewidth\": 0, \"ticks\": \"\"}, \"colorscale\": [[0.0, \"#0d0887\"], [0.1111111111111111, \"#46039f\"], [0.2222222222222222, \"#7201a8\"], [0.3333333333333333, \"#9c179e\"], [0.4444444444444444, \"#bd3786\"], [0.5555555555555556, \"#d8576b\"], [0.6666666666666666, \"#ed7953\"], [0.7777777777777778, \"#fb9f3a\"], [0.8888888888888888, \"#fdca26\"], [1.0, \"#f0f921\"]], \"type\": \"heatmapgl\"}], \"histogram\": [{\"marker\": {\"colorbar\": {\"outlinewidth\": 0, \"ticks\": \"\"}}, \"type\": \"histogram\"}], \"histogram2d\": [{\"colorbar\": {\"outlinewidth\": 0, \"ticks\": \"\"}, \"colorscale\": [[0.0, \"#0d0887\"], [0.1111111111111111, \"#46039f\"], [0.2222222222222222, \"#7201a8\"], [0.3333333333333333, \"#9c179e\"], [0.4444444444444444, \"#bd3786\"], [0.5555555555555556, \"#d8576b\"], [0.6666666666666666, \"#ed7953\"], [0.7777777777777778, \"#fb9f3a\"], [0.8888888888888888, \"#fdca26\"], [1.0, \"#f0f921\"]], \"type\": \"histogram2d\"}], \"histogram2dcontour\": [{\"colorbar\": {\"outlinewidth\": 0, \"ticks\": \"\"}, \"colorscale\": [[0.0, \"#0d0887\"], [0.1111111111111111, \"#46039f\"], [0.2222222222222222, \"#7201a8\"], [0.3333333333333333, \"#9c179e\"], [0.4444444444444444, \"#bd3786\"], [0.5555555555555556, \"#d8576b\"], [0.6666666666666666, \"#ed7953\"], [0.7777777777777778, \"#fb9f3a\"], [0.8888888888888888, \"#fdca26\"], [1.0, \"#f0f921\"]], \"type\": \"histogram2dcontour\"}], \"mesh3d\": [{\"colorbar\": {\"outlinewidth\": 0, \"ticks\": \"\"}, \"type\": \"mesh3d\"}], \"parcoords\": [{\"line\": {\"colorbar\": {\"outlinewidth\": 0, \"ticks\": \"\"}}, \"type\": \"parcoords\"}], \"pie\": [{\"automargin\": true, \"type\": \"pie\"}], \"scatter\": [{\"marker\": {\"colorbar\": {\"outlinewidth\": 0, \"ticks\": \"\"}}, \"type\": \"scatter\"}], \"scatter3d\": [{\"line\": {\"colorbar\": {\"outlinewidth\": 0, \"ticks\": \"\"}}, \"marker\": {\"colorbar\": {\"outlinewidth\": 0, \"ticks\": \"\"}}, \"type\": \"scatter3d\"}], \"scattercarpet\": [{\"marker\": {\"colorbar\": {\"outlinewidth\": 0, \"ticks\": \"\"}}, \"type\": \"scattercarpet\"}], \"scattergeo\": [{\"marker\": {\"colorbar\": {\"outlinewidth\": 0, \"ticks\": \"\"}}, \"type\": \"scattergeo\"}], \"scattergl\": [{\"marker\": {\"colorbar\": {\"outlinewidth\": 0, \"ticks\": \"\"}}, \"type\": \"scattergl\"}], \"scattermapbox\": [{\"marker\": {\"colorbar\": {\"outlinewidth\": 0, \"ticks\": \"\"}}, \"type\": \"scattermapbox\"}], \"scatterpolar\": [{\"marker\": {\"colorbar\": {\"outlinewidth\": 0, \"ticks\": \"\"}}, \"type\": \"scatterpolar\"}], \"scatterpolargl\": [{\"marker\": {\"colorbar\": {\"outlinewidth\": 0, \"ticks\": \"\"}}, \"type\": \"scatterpolargl\"}], \"scatterternary\": [{\"marker\": {\"colorbar\": {\"outlinewidth\": 0, \"ticks\": \"\"}}, \"type\": \"scatterternary\"}], \"surface\": [{\"colorbar\": {\"outlinewidth\": 0, \"ticks\": \"\"}, \"colorscale\": [[0.0, \"#0d0887\"], [0.1111111111111111, \"#46039f\"], [0.2222222222222222, \"#7201a8\"], [0.3333333333333333, \"#9c179e\"], [0.4444444444444444, \"#bd3786\"], [0.5555555555555556, \"#d8576b\"], [0.6666666666666666, \"#ed7953\"], [0.7777777777777778, \"#fb9f3a\"], [0.8888888888888888, \"#fdca26\"], [1.0, \"#f0f921\"]], \"type\": \"surface\"}], \"table\": [{\"cells\": {\"fill\": {\"color\": \"#EBF0F8\"}, \"line\": {\"color\": \"white\"}}, \"header\": {\"fill\": {\"color\": \"#C8D4E3\"}, \"line\": {\"color\": \"white\"}}, \"type\": \"table\"}]}, \"layout\": {\"annotationdefaults\": {\"arrowcolor\": \"#2a3f5f\", \"arrowhead\": 0, \"arrowwidth\": 1}, \"coloraxis\": {\"colorbar\": {\"outlinewidth\": 0, \"ticks\": \"\"}}, \"colorscale\": {\"diverging\": [[0, \"#8e0152\"], [0.1, \"#c51b7d\"], [0.2, \"#de77ae\"], [0.3, \"#f1b6da\"], [0.4, \"#fde0ef\"], [0.5, \"#f7f7f7\"], [0.6, \"#e6f5d0\"], [0.7, \"#b8e186\"], [0.8, \"#7fbc41\"], [0.9, \"#4d9221\"], [1, \"#276419\"]], \"sequential\": [[0.0, \"#0d0887\"], [0.1111111111111111, \"#46039f\"], [0.2222222222222222, \"#7201a8\"], [0.3333333333333333, \"#9c179e\"], [0.4444444444444444, \"#bd3786\"], [0.5555555555555556, \"#d8576b\"], [0.6666666666666666, \"#ed7953\"], [0.7777777777777778, \"#fb9f3a\"], [0.8888888888888888, \"#fdca26\"], [1.0, \"#f0f921\"]], \"sequentialminus\": [[0.0, \"#0d0887\"], [0.1111111111111111, \"#46039f\"], [0.2222222222222222, \"#7201a8\"], [0.3333333333333333, \"#9c179e\"], [0.4444444444444444, \"#bd3786\"], [0.5555555555555556, \"#d8576b\"], [0.6666666666666666, \"#ed7953\"], [0.7777777777777778, \"#fb9f3a\"], [0.8888888888888888, \"#fdca26\"], [1.0, \"#f0f921\"]]}, \"colorway\": [\"#636efa\", \"#EF553B\", \"#00cc96\", \"#ab63fa\", \"#FFA15A\", \"#19d3f3\", \"#FF6692\", \"#B6E880\", \"#FF97FF\", \"#FECB52\"], \"font\": {\"color\": \"#2a3f5f\"}, \"geo\": {\"bgcolor\": \"white\", \"lakecolor\": \"white\", \"landcolor\": \"#E5ECF6\", \"showlakes\": true, \"showland\": true, \"subunitcolor\": \"white\"}, \"hoverlabel\": {\"align\": \"left\"}, \"hovermode\": \"closest\", \"mapbox\": {\"style\": \"light\"}, \"paper_bgcolor\": \"white\", \"plot_bgcolor\": \"#E5ECF6\", \"polar\": {\"angularaxis\": {\"gridcolor\": \"white\", \"linecolor\": \"white\", \"ticks\": \"\"}, \"bgcolor\": \"#E5ECF6\", \"radialaxis\": {\"gridcolor\": \"white\", \"linecolor\": \"white\", \"ticks\": \"\"}}, \"scene\": {\"xaxis\": {\"backgroundcolor\": \"#E5ECF6\", \"gridcolor\": \"white\", \"gridwidth\": 2, \"linecolor\": \"white\", \"showbackground\": true, \"ticks\": \"\", \"zerolinecolor\": \"white\"}, \"yaxis\": {\"backgroundcolor\": \"#E5ECF6\", \"gridcolor\": \"white\", \"gridwidth\": 2, \"linecolor\": \"white\", \"showbackground\": true, \"ticks\": \"\", \"zerolinecolor\": \"white\"}, \"zaxis\": {\"backgroundcolor\": \"#E5ECF6\", \"gridcolor\": \"white\", \"gridwidth\": 2, \"linecolor\": \"white\", \"showbackground\": true, \"ticks\": \"\", \"zerolinecolor\": \"white\"}}, \"shapedefaults\": {\"line\": {\"color\": \"#2a3f5f\"}}, \"ternary\": {\"aaxis\": {\"gridcolor\": \"white\", \"linecolor\": \"white\", \"ticks\": \"\"}, \"baxis\": {\"gridcolor\": \"white\", \"linecolor\": \"white\", \"ticks\": \"\"}, \"bgcolor\": \"#E5ECF6\", \"caxis\": {\"gridcolor\": \"white\", \"linecolor\": \"white\", \"ticks\": \"\"}}, \"title\": {\"x\": 0.05}, \"xaxis\": {\"automargin\": true, \"gridcolor\": \"white\", \"linecolor\": \"white\", \"ticks\": \"\", \"title\": {\"standoff\": 15}, \"zerolinecolor\": \"white\", \"zerolinewidth\": 2}, \"yaxis\": {\"automargin\": true, \"gridcolor\": \"white\", \"linecolor\": \"white\", \"ticks\": \"\", \"title\": {\"standoff\": 15}, \"zerolinecolor\": \"white\", \"zerolinewidth\": 2}}}, \"title\": {\"font\": {\"color\": \"#4D5663\"}}, \"xaxis\": {\"gridcolor\": \"#E1E5ED\", \"showgrid\": true, \"tickfont\": {\"color\": \"#4D5663\"}, \"title\": {\"font\": {\"color\": \"#4D5663\"}, \"text\": \"\"}, \"zerolinecolor\": \"#E1E5ED\"}, \"yaxis\": {\"gridcolor\": \"#E1E5ED\", \"showgrid\": true, \"tickfont\": {\"color\": \"#4D5663\"}, \"title\": {\"font\": {\"color\": \"#4D5663\"}, \"text\": \"\"}, \"zerolinecolor\": \"#E1E5ED\"}},\n",
       "                        {\"showLink\": true, \"linkText\": \"Export to plot.ly\", \"plotlyServerURL\": \"https://plot.ly\", \"responsive\": true}\n",
       "                    ).then(function(){\n",
       "                            \n",
       "var gd = document.getElementById('b091d447-ed17-4ebe-80e4-e68ce8ee7f99');\n",
       "var x = new MutationObserver(function (mutations, observer) {{\n",
       "        var display = window.getComputedStyle(gd).display;\n",
       "        if (!display || display === 'none') {{\n",
       "            console.log([gd, 'removed!']);\n",
       "            Plotly.purge(gd);\n",
       "            observer.disconnect();\n",
       "        }}\n",
       "}});\n",
       "\n",
       "// Listen for the removal of the full notebook cells\n",
       "var notebookContainer = gd.closest('#notebook-container');\n",
       "if (notebookContainer) {{\n",
       "    x.observe(notebookContainer, {childList: true});\n",
       "}}\n",
       "\n",
       "// Listen for the clearing of the current output cell\n",
       "var outputEl = gd.closest('.output');\n",
       "if (outputEl) {{\n",
       "    x.observe(outputEl, {childList: true});\n",
       "}}\n",
       "\n",
       "                        })\n",
       "                };\n",
       "                });\n",
       "            </script>\n",
       "        </div>"
      ]
     },
     "metadata": {},
     "output_type": "display_data"
    }
   ],
   "source": [
    "df.iplot(kind='box')"
   ]
  },
  {
   "cell_type": "code",
   "execution_count": 34,
   "metadata": {},
   "outputs": [],
   "source": [
    "df3=pd.DataFrame({'x':[1,2,3,4,5],'y':[10,20,30,40,50],'z':[5,4,3,2,1]})"
   ]
  },
  {
   "cell_type": "code",
   "execution_count": 27,
   "metadata": {},
   "outputs": [
    {
     "data": {
      "text/html": [
       "<div>\n",
       "<style scoped>\n",
       "    .dataframe tbody tr th:only-of-type {\n",
       "        vertical-align: middle;\n",
       "    }\n",
       "\n",
       "    .dataframe tbody tr th {\n",
       "        vertical-align: top;\n",
       "    }\n",
       "\n",
       "    .dataframe thead th {\n",
       "        text-align: right;\n",
       "    }\n",
       "</style>\n",
       "<table border=\"1\" class=\"dataframe\">\n",
       "  <thead>\n",
       "    <tr style=\"text-align: right;\">\n",
       "      <th></th>\n",
       "      <th>x</th>\n",
       "      <th>y</th>\n",
       "      <th>z</th>\n",
       "    </tr>\n",
       "  </thead>\n",
       "  <tbody>\n",
       "    <tr>\n",
       "      <td>0</td>\n",
       "      <td>1</td>\n",
       "      <td>10</td>\n",
       "      <td>500</td>\n",
       "    </tr>\n",
       "    <tr>\n",
       "      <td>1</td>\n",
       "      <td>2</td>\n",
       "      <td>20</td>\n",
       "      <td>400</td>\n",
       "    </tr>\n",
       "    <tr>\n",
       "      <td>2</td>\n",
       "      <td>3</td>\n",
       "      <td>30</td>\n",
       "      <td>300</td>\n",
       "    </tr>\n",
       "    <tr>\n",
       "      <td>3</td>\n",
       "      <td>4</td>\n",
       "      <td>40</td>\n",
       "      <td>200</td>\n",
       "    </tr>\n",
       "    <tr>\n",
       "      <td>4</td>\n",
       "      <td>5</td>\n",
       "      <td>50</td>\n",
       "      <td>100</td>\n",
       "    </tr>\n",
       "  </tbody>\n",
       "</table>\n",
       "</div>"
      ],
      "text/plain": [
       "   x   y    z\n",
       "0  1  10  500\n",
       "1  2  20  400\n",
       "2  3  30  300\n",
       "3  4  40  200\n",
       "4  5  50  100"
      ]
     },
     "execution_count": 27,
     "metadata": {},
     "output_type": "execute_result"
    }
   ],
   "source": [
    "df3"
   ]
  },
  {
   "cell_type": "code",
   "execution_count": 35,
   "metadata": {},
   "outputs": [
    {
     "data": {
      "application/vnd.plotly.v1+json": {
       "config": {
        "linkText": "Export to plot.ly",
        "plotlyServerURL": "https://plot.ly",
        "showLink": true
       },
       "data": [
        {
         "colorscale": [
          [
           0,
           "rgb(165,0,38)"
          ],
          [
           0.1,
           "rgb(215,48,39)"
          ],
          [
           0.2,
           "rgb(244,109,67)"
          ],
          [
           0.3,
           "rgb(253,174,97)"
          ],
          [
           0.4,
           "rgb(254,224,144)"
          ],
          [
           0.5,
           "rgb(255,255,191)"
          ],
          [
           0.6,
           "rgb(224,243,248)"
          ],
          [
           0.7,
           "rgb(171,217,233)"
          ],
          [
           0.8,
           "rgb(116,173,209)"
          ],
          [
           0.9,
           "rgb(69,117,180)"
          ],
          [
           1,
           "rgb(49,54,149)"
          ]
         ],
         "type": "surface",
         "x": [
          0,
          1,
          2,
          3,
          4
         ],
         "y": [
          "x",
          "y",
          "z"
         ],
         "z": [
          [
           1,
           2,
           3,
           4,
           5
          ],
          [
           10,
           20,
           30,
           40,
           50
          ],
          [
           5,
           4,
           3,
           2,
           1
          ]
         ]
        }
       ],
       "layout": {
        "legend": {
         "bgcolor": "#F5F6F9",
         "font": {
          "color": "#4D5663"
         }
        },
        "paper_bgcolor": "#F5F6F9",
        "plot_bgcolor": "#F5F6F9",
        "template": {
         "data": {
          "bar": [
           {
            "error_x": {
             "color": "#2a3f5f"
            },
            "error_y": {
             "color": "#2a3f5f"
            },
            "marker": {
             "line": {
              "color": "#E5ECF6",
              "width": 0.5
             }
            },
            "type": "bar"
           }
          ],
          "barpolar": [
           {
            "marker": {
             "line": {
              "color": "#E5ECF6",
              "width": 0.5
             }
            },
            "type": "barpolar"
           }
          ],
          "carpet": [
           {
            "aaxis": {
             "endlinecolor": "#2a3f5f",
             "gridcolor": "white",
             "linecolor": "white",
             "minorgridcolor": "white",
             "startlinecolor": "#2a3f5f"
            },
            "baxis": {
             "endlinecolor": "#2a3f5f",
             "gridcolor": "white",
             "linecolor": "white",
             "minorgridcolor": "white",
             "startlinecolor": "#2a3f5f"
            },
            "type": "carpet"
           }
          ],
          "choropleth": [
           {
            "colorbar": {
             "outlinewidth": 0,
             "ticks": ""
            },
            "type": "choropleth"
           }
          ],
          "contour": [
           {
            "colorbar": {
             "outlinewidth": 0,
             "ticks": ""
            },
            "colorscale": [
             [
              0,
              "#0d0887"
             ],
             [
              0.1111111111111111,
              "#46039f"
             ],
             [
              0.2222222222222222,
              "#7201a8"
             ],
             [
              0.3333333333333333,
              "#9c179e"
             ],
             [
              0.4444444444444444,
              "#bd3786"
             ],
             [
              0.5555555555555556,
              "#d8576b"
             ],
             [
              0.6666666666666666,
              "#ed7953"
             ],
             [
              0.7777777777777778,
              "#fb9f3a"
             ],
             [
              0.8888888888888888,
              "#fdca26"
             ],
             [
              1,
              "#f0f921"
             ]
            ],
            "type": "contour"
           }
          ],
          "contourcarpet": [
           {
            "colorbar": {
             "outlinewidth": 0,
             "ticks": ""
            },
            "type": "contourcarpet"
           }
          ],
          "heatmap": [
           {
            "colorbar": {
             "outlinewidth": 0,
             "ticks": ""
            },
            "colorscale": [
             [
              0,
              "#0d0887"
             ],
             [
              0.1111111111111111,
              "#46039f"
             ],
             [
              0.2222222222222222,
              "#7201a8"
             ],
             [
              0.3333333333333333,
              "#9c179e"
             ],
             [
              0.4444444444444444,
              "#bd3786"
             ],
             [
              0.5555555555555556,
              "#d8576b"
             ],
             [
              0.6666666666666666,
              "#ed7953"
             ],
             [
              0.7777777777777778,
              "#fb9f3a"
             ],
             [
              0.8888888888888888,
              "#fdca26"
             ],
             [
              1,
              "#f0f921"
             ]
            ],
            "type": "heatmap"
           }
          ],
          "heatmapgl": [
           {
            "colorbar": {
             "outlinewidth": 0,
             "ticks": ""
            },
            "colorscale": [
             [
              0,
              "#0d0887"
             ],
             [
              0.1111111111111111,
              "#46039f"
             ],
             [
              0.2222222222222222,
              "#7201a8"
             ],
             [
              0.3333333333333333,
              "#9c179e"
             ],
             [
              0.4444444444444444,
              "#bd3786"
             ],
             [
              0.5555555555555556,
              "#d8576b"
             ],
             [
              0.6666666666666666,
              "#ed7953"
             ],
             [
              0.7777777777777778,
              "#fb9f3a"
             ],
             [
              0.8888888888888888,
              "#fdca26"
             ],
             [
              1,
              "#f0f921"
             ]
            ],
            "type": "heatmapgl"
           }
          ],
          "histogram": [
           {
            "marker": {
             "colorbar": {
              "outlinewidth": 0,
              "ticks": ""
             }
            },
            "type": "histogram"
           }
          ],
          "histogram2d": [
           {
            "colorbar": {
             "outlinewidth": 0,
             "ticks": ""
            },
            "colorscale": [
             [
              0,
              "#0d0887"
             ],
             [
              0.1111111111111111,
              "#46039f"
             ],
             [
              0.2222222222222222,
              "#7201a8"
             ],
             [
              0.3333333333333333,
              "#9c179e"
             ],
             [
              0.4444444444444444,
              "#bd3786"
             ],
             [
              0.5555555555555556,
              "#d8576b"
             ],
             [
              0.6666666666666666,
              "#ed7953"
             ],
             [
              0.7777777777777778,
              "#fb9f3a"
             ],
             [
              0.8888888888888888,
              "#fdca26"
             ],
             [
              1,
              "#f0f921"
             ]
            ],
            "type": "histogram2d"
           }
          ],
          "histogram2dcontour": [
           {
            "colorbar": {
             "outlinewidth": 0,
             "ticks": ""
            },
            "colorscale": [
             [
              0,
              "#0d0887"
             ],
             [
              0.1111111111111111,
              "#46039f"
             ],
             [
              0.2222222222222222,
              "#7201a8"
             ],
             [
              0.3333333333333333,
              "#9c179e"
             ],
             [
              0.4444444444444444,
              "#bd3786"
             ],
             [
              0.5555555555555556,
              "#d8576b"
             ],
             [
              0.6666666666666666,
              "#ed7953"
             ],
             [
              0.7777777777777778,
              "#fb9f3a"
             ],
             [
              0.8888888888888888,
              "#fdca26"
             ],
             [
              1,
              "#f0f921"
             ]
            ],
            "type": "histogram2dcontour"
           }
          ],
          "mesh3d": [
           {
            "colorbar": {
             "outlinewidth": 0,
             "ticks": ""
            },
            "type": "mesh3d"
           }
          ],
          "parcoords": [
           {
            "line": {
             "colorbar": {
              "outlinewidth": 0,
              "ticks": ""
             }
            },
            "type": "parcoords"
           }
          ],
          "pie": [
           {
            "automargin": true,
            "type": "pie"
           }
          ],
          "scatter": [
           {
            "marker": {
             "colorbar": {
              "outlinewidth": 0,
              "ticks": ""
             }
            },
            "type": "scatter"
           }
          ],
          "scatter3d": [
           {
            "line": {
             "colorbar": {
              "outlinewidth": 0,
              "ticks": ""
             }
            },
            "marker": {
             "colorbar": {
              "outlinewidth": 0,
              "ticks": ""
             }
            },
            "type": "scatter3d"
           }
          ],
          "scattercarpet": [
           {
            "marker": {
             "colorbar": {
              "outlinewidth": 0,
              "ticks": ""
             }
            },
            "type": "scattercarpet"
           }
          ],
          "scattergeo": [
           {
            "marker": {
             "colorbar": {
              "outlinewidth": 0,
              "ticks": ""
             }
            },
            "type": "scattergeo"
           }
          ],
          "scattergl": [
           {
            "marker": {
             "colorbar": {
              "outlinewidth": 0,
              "ticks": ""
             }
            },
            "type": "scattergl"
           }
          ],
          "scattermapbox": [
           {
            "marker": {
             "colorbar": {
              "outlinewidth": 0,
              "ticks": ""
             }
            },
            "type": "scattermapbox"
           }
          ],
          "scatterpolar": [
           {
            "marker": {
             "colorbar": {
              "outlinewidth": 0,
              "ticks": ""
             }
            },
            "type": "scatterpolar"
           }
          ],
          "scatterpolargl": [
           {
            "marker": {
             "colorbar": {
              "outlinewidth": 0,
              "ticks": ""
             }
            },
            "type": "scatterpolargl"
           }
          ],
          "scatterternary": [
           {
            "marker": {
             "colorbar": {
              "outlinewidth": 0,
              "ticks": ""
             }
            },
            "type": "scatterternary"
           }
          ],
          "surface": [
           {
            "colorbar": {
             "outlinewidth": 0,
             "ticks": ""
            },
            "colorscale": [
             [
              0,
              "#0d0887"
             ],
             [
              0.1111111111111111,
              "#46039f"
             ],
             [
              0.2222222222222222,
              "#7201a8"
             ],
             [
              0.3333333333333333,
              "#9c179e"
             ],
             [
              0.4444444444444444,
              "#bd3786"
             ],
             [
              0.5555555555555556,
              "#d8576b"
             ],
             [
              0.6666666666666666,
              "#ed7953"
             ],
             [
              0.7777777777777778,
              "#fb9f3a"
             ],
             [
              0.8888888888888888,
              "#fdca26"
             ],
             [
              1,
              "#f0f921"
             ]
            ],
            "type": "surface"
           }
          ],
          "table": [
           {
            "cells": {
             "fill": {
              "color": "#EBF0F8"
             },
             "line": {
              "color": "white"
             }
            },
            "header": {
             "fill": {
              "color": "#C8D4E3"
             },
             "line": {
              "color": "white"
             }
            },
            "type": "table"
           }
          ]
         },
         "layout": {
          "annotationdefaults": {
           "arrowcolor": "#2a3f5f",
           "arrowhead": 0,
           "arrowwidth": 1
          },
          "coloraxis": {
           "colorbar": {
            "outlinewidth": 0,
            "ticks": ""
           }
          },
          "colorscale": {
           "diverging": [
            [
             0,
             "#8e0152"
            ],
            [
             0.1,
             "#c51b7d"
            ],
            [
             0.2,
             "#de77ae"
            ],
            [
             0.3,
             "#f1b6da"
            ],
            [
             0.4,
             "#fde0ef"
            ],
            [
             0.5,
             "#f7f7f7"
            ],
            [
             0.6,
             "#e6f5d0"
            ],
            [
             0.7,
             "#b8e186"
            ],
            [
             0.8,
             "#7fbc41"
            ],
            [
             0.9,
             "#4d9221"
            ],
            [
             1,
             "#276419"
            ]
           ],
           "sequential": [
            [
             0,
             "#0d0887"
            ],
            [
             0.1111111111111111,
             "#46039f"
            ],
            [
             0.2222222222222222,
             "#7201a8"
            ],
            [
             0.3333333333333333,
             "#9c179e"
            ],
            [
             0.4444444444444444,
             "#bd3786"
            ],
            [
             0.5555555555555556,
             "#d8576b"
            ],
            [
             0.6666666666666666,
             "#ed7953"
            ],
            [
             0.7777777777777778,
             "#fb9f3a"
            ],
            [
             0.8888888888888888,
             "#fdca26"
            ],
            [
             1,
             "#f0f921"
            ]
           ],
           "sequentialminus": [
            [
             0,
             "#0d0887"
            ],
            [
             0.1111111111111111,
             "#46039f"
            ],
            [
             0.2222222222222222,
             "#7201a8"
            ],
            [
             0.3333333333333333,
             "#9c179e"
            ],
            [
             0.4444444444444444,
             "#bd3786"
            ],
            [
             0.5555555555555556,
             "#d8576b"
            ],
            [
             0.6666666666666666,
             "#ed7953"
            ],
            [
             0.7777777777777778,
             "#fb9f3a"
            ],
            [
             0.8888888888888888,
             "#fdca26"
            ],
            [
             1,
             "#f0f921"
            ]
           ]
          },
          "colorway": [
           "#636efa",
           "#EF553B",
           "#00cc96",
           "#ab63fa",
           "#FFA15A",
           "#19d3f3",
           "#FF6692",
           "#B6E880",
           "#FF97FF",
           "#FECB52"
          ],
          "font": {
           "color": "#2a3f5f"
          },
          "geo": {
           "bgcolor": "white",
           "lakecolor": "white",
           "landcolor": "#E5ECF6",
           "showlakes": true,
           "showland": true,
           "subunitcolor": "white"
          },
          "hoverlabel": {
           "align": "left"
          },
          "hovermode": "closest",
          "mapbox": {
           "style": "light"
          },
          "paper_bgcolor": "white",
          "plot_bgcolor": "#E5ECF6",
          "polar": {
           "angularaxis": {
            "gridcolor": "white",
            "linecolor": "white",
            "ticks": ""
           },
           "bgcolor": "#E5ECF6",
           "radialaxis": {
            "gridcolor": "white",
            "linecolor": "white",
            "ticks": ""
           }
          },
          "scene": {
           "xaxis": {
            "backgroundcolor": "#E5ECF6",
            "gridcolor": "white",
            "gridwidth": 2,
            "linecolor": "white",
            "showbackground": true,
            "ticks": "",
            "zerolinecolor": "white"
           },
           "yaxis": {
            "backgroundcolor": "#E5ECF6",
            "gridcolor": "white",
            "gridwidth": 2,
            "linecolor": "white",
            "showbackground": true,
            "ticks": "",
            "zerolinecolor": "white"
           },
           "zaxis": {
            "backgroundcolor": "#E5ECF6",
            "gridcolor": "white",
            "gridwidth": 2,
            "linecolor": "white",
            "showbackground": true,
            "ticks": "",
            "zerolinecolor": "white"
           }
          },
          "shapedefaults": {
           "line": {
            "color": "#2a3f5f"
           }
          },
          "ternary": {
           "aaxis": {
            "gridcolor": "white",
            "linecolor": "white",
            "ticks": ""
           },
           "baxis": {
            "gridcolor": "white",
            "linecolor": "white",
            "ticks": ""
           },
           "bgcolor": "#E5ECF6",
           "caxis": {
            "gridcolor": "white",
            "linecolor": "white",
            "ticks": ""
           }
          },
          "title": {
           "x": 0.05
          },
          "xaxis": {
           "automargin": true,
           "gridcolor": "white",
           "linecolor": "white",
           "ticks": "",
           "title": {
            "standoff": 15
           },
           "zerolinecolor": "white",
           "zerolinewidth": 2
          },
          "yaxis": {
           "automargin": true,
           "gridcolor": "white",
           "linecolor": "white",
           "ticks": "",
           "title": {
            "standoff": 15
           },
           "zerolinecolor": "white",
           "zerolinewidth": 2
          }
         }
        },
        "title": {
         "font": {
          "color": "#4D5663"
         }
        },
        "xaxis": {
         "gridcolor": "#E1E5ED",
         "showgrid": true,
         "tickfont": {
          "color": "#4D5663"
         },
         "title": {
          "font": {
           "color": "#4D5663"
          },
          "text": ""
         },
         "zerolinecolor": "#E1E5ED"
        },
        "yaxis": {
         "gridcolor": "#E1E5ED",
         "showgrid": true,
         "tickfont": {
          "color": "#4D5663"
         },
         "title": {
          "font": {
           "color": "#4D5663"
          },
          "text": ""
         },
         "zerolinecolor": "#E1E5ED"
        }
       }
      },
      "text/html": [
       "<div>\n",
       "        \n",
       "        \n",
       "            <div id=\"7ffd9f58-2fda-4f4a-adbf-c43c2a336518\" class=\"plotly-graph-div\" style=\"height:525px; width:100%;\"></div>\n",
       "            <script type=\"text/javascript\">\n",
       "                require([\"plotly\"], function(Plotly) {\n",
       "                    window.PLOTLYENV=window.PLOTLYENV || {};\n",
       "                    window.PLOTLYENV.BASE_URL='https://plot.ly';\n",
       "                    \n",
       "                if (document.getElementById(\"7ffd9f58-2fda-4f4a-adbf-c43c2a336518\")) {\n",
       "                    Plotly.newPlot(\n",
       "                        '7ffd9f58-2fda-4f4a-adbf-c43c2a336518',\n",
       "                        [{\"colorscale\": [[0.0, \"rgb(165,0,38)\"], [0.1, \"rgb(215,48,39)\"], [0.2, \"rgb(244,109,67)\"], [0.3, \"rgb(253,174,97)\"], [0.4, \"rgb(254,224,144)\"], [0.5, \"rgb(255,255,191)\"], [0.6, \"rgb(224,243,248)\"], [0.7, \"rgb(171,217,233)\"], [0.8, \"rgb(116,173,209)\"], [0.9, \"rgb(69,117,180)\"], [1.0, \"rgb(49,54,149)\"]], \"type\": \"surface\", \"x\": [0, 1, 2, 3, 4], \"y\": [\"x\", \"y\", \"z\"], \"z\": [[1, 2, 3, 4, 5], [10, 20, 30, 40, 50], [5, 4, 3, 2, 1]]}],\n",
       "                        {\"legend\": {\"bgcolor\": \"#F5F6F9\", \"font\": {\"color\": \"#4D5663\"}}, \"paper_bgcolor\": \"#F5F6F9\", \"plot_bgcolor\": \"#F5F6F9\", \"template\": {\"data\": {\"bar\": [{\"error_x\": {\"color\": \"#2a3f5f\"}, \"error_y\": {\"color\": \"#2a3f5f\"}, \"marker\": {\"line\": {\"color\": \"#E5ECF6\", \"width\": 0.5}}, \"type\": \"bar\"}], \"barpolar\": [{\"marker\": {\"line\": {\"color\": \"#E5ECF6\", \"width\": 0.5}}, \"type\": \"barpolar\"}], \"carpet\": [{\"aaxis\": {\"endlinecolor\": \"#2a3f5f\", \"gridcolor\": \"white\", \"linecolor\": \"white\", \"minorgridcolor\": \"white\", \"startlinecolor\": \"#2a3f5f\"}, \"baxis\": {\"endlinecolor\": \"#2a3f5f\", \"gridcolor\": \"white\", \"linecolor\": \"white\", \"minorgridcolor\": \"white\", \"startlinecolor\": \"#2a3f5f\"}, \"type\": \"carpet\"}], \"choropleth\": [{\"colorbar\": {\"outlinewidth\": 0, \"ticks\": \"\"}, \"type\": \"choropleth\"}], \"contour\": [{\"colorbar\": {\"outlinewidth\": 0, \"ticks\": \"\"}, \"colorscale\": [[0.0, \"#0d0887\"], [0.1111111111111111, \"#46039f\"], [0.2222222222222222, \"#7201a8\"], [0.3333333333333333, \"#9c179e\"], [0.4444444444444444, \"#bd3786\"], [0.5555555555555556, \"#d8576b\"], [0.6666666666666666, \"#ed7953\"], [0.7777777777777778, \"#fb9f3a\"], [0.8888888888888888, \"#fdca26\"], [1.0, \"#f0f921\"]], \"type\": \"contour\"}], \"contourcarpet\": [{\"colorbar\": {\"outlinewidth\": 0, \"ticks\": \"\"}, \"type\": \"contourcarpet\"}], \"heatmap\": [{\"colorbar\": {\"outlinewidth\": 0, \"ticks\": \"\"}, \"colorscale\": [[0.0, \"#0d0887\"], [0.1111111111111111, \"#46039f\"], [0.2222222222222222, \"#7201a8\"], [0.3333333333333333, \"#9c179e\"], [0.4444444444444444, \"#bd3786\"], [0.5555555555555556, \"#d8576b\"], [0.6666666666666666, \"#ed7953\"], [0.7777777777777778, \"#fb9f3a\"], [0.8888888888888888, \"#fdca26\"], [1.0, \"#f0f921\"]], \"type\": \"heatmap\"}], \"heatmapgl\": [{\"colorbar\": {\"outlinewidth\": 0, \"ticks\": \"\"}, \"colorscale\": [[0.0, \"#0d0887\"], [0.1111111111111111, \"#46039f\"], [0.2222222222222222, \"#7201a8\"], [0.3333333333333333, \"#9c179e\"], [0.4444444444444444, \"#bd3786\"], [0.5555555555555556, \"#d8576b\"], [0.6666666666666666, \"#ed7953\"], [0.7777777777777778, \"#fb9f3a\"], [0.8888888888888888, \"#fdca26\"], [1.0, \"#f0f921\"]], \"type\": \"heatmapgl\"}], \"histogram\": [{\"marker\": {\"colorbar\": {\"outlinewidth\": 0, \"ticks\": \"\"}}, \"type\": \"histogram\"}], \"histogram2d\": [{\"colorbar\": {\"outlinewidth\": 0, \"ticks\": \"\"}, \"colorscale\": [[0.0, \"#0d0887\"], [0.1111111111111111, \"#46039f\"], [0.2222222222222222, \"#7201a8\"], [0.3333333333333333, \"#9c179e\"], [0.4444444444444444, \"#bd3786\"], [0.5555555555555556, \"#d8576b\"], [0.6666666666666666, \"#ed7953\"], [0.7777777777777778, \"#fb9f3a\"], [0.8888888888888888, \"#fdca26\"], [1.0, \"#f0f921\"]], \"type\": \"histogram2d\"}], \"histogram2dcontour\": [{\"colorbar\": {\"outlinewidth\": 0, \"ticks\": \"\"}, \"colorscale\": [[0.0, \"#0d0887\"], [0.1111111111111111, \"#46039f\"], [0.2222222222222222, \"#7201a8\"], [0.3333333333333333, \"#9c179e\"], [0.4444444444444444, \"#bd3786\"], [0.5555555555555556, \"#d8576b\"], [0.6666666666666666, \"#ed7953\"], [0.7777777777777778, \"#fb9f3a\"], [0.8888888888888888, \"#fdca26\"], [1.0, \"#f0f921\"]], \"type\": \"histogram2dcontour\"}], \"mesh3d\": [{\"colorbar\": {\"outlinewidth\": 0, \"ticks\": \"\"}, \"type\": \"mesh3d\"}], \"parcoords\": [{\"line\": {\"colorbar\": {\"outlinewidth\": 0, \"ticks\": \"\"}}, \"type\": \"parcoords\"}], \"pie\": [{\"automargin\": true, \"type\": \"pie\"}], \"scatter\": [{\"marker\": {\"colorbar\": {\"outlinewidth\": 0, \"ticks\": \"\"}}, \"type\": \"scatter\"}], \"scatter3d\": [{\"line\": {\"colorbar\": {\"outlinewidth\": 0, \"ticks\": \"\"}}, \"marker\": {\"colorbar\": {\"outlinewidth\": 0, \"ticks\": \"\"}}, \"type\": \"scatter3d\"}], \"scattercarpet\": [{\"marker\": {\"colorbar\": {\"outlinewidth\": 0, \"ticks\": \"\"}}, \"type\": \"scattercarpet\"}], \"scattergeo\": [{\"marker\": {\"colorbar\": {\"outlinewidth\": 0, \"ticks\": \"\"}}, \"type\": \"scattergeo\"}], \"scattergl\": [{\"marker\": {\"colorbar\": {\"outlinewidth\": 0, \"ticks\": \"\"}}, \"type\": \"scattergl\"}], \"scattermapbox\": [{\"marker\": {\"colorbar\": {\"outlinewidth\": 0, \"ticks\": \"\"}}, \"type\": \"scattermapbox\"}], \"scatterpolar\": [{\"marker\": {\"colorbar\": {\"outlinewidth\": 0, \"ticks\": \"\"}}, \"type\": \"scatterpolar\"}], \"scatterpolargl\": [{\"marker\": {\"colorbar\": {\"outlinewidth\": 0, \"ticks\": \"\"}}, \"type\": \"scatterpolargl\"}], \"scatterternary\": [{\"marker\": {\"colorbar\": {\"outlinewidth\": 0, \"ticks\": \"\"}}, \"type\": \"scatterternary\"}], \"surface\": [{\"colorbar\": {\"outlinewidth\": 0, \"ticks\": \"\"}, \"colorscale\": [[0.0, \"#0d0887\"], [0.1111111111111111, \"#46039f\"], [0.2222222222222222, \"#7201a8\"], [0.3333333333333333, \"#9c179e\"], [0.4444444444444444, \"#bd3786\"], [0.5555555555555556, \"#d8576b\"], [0.6666666666666666, \"#ed7953\"], [0.7777777777777778, \"#fb9f3a\"], [0.8888888888888888, \"#fdca26\"], [1.0, \"#f0f921\"]], \"type\": \"surface\"}], \"table\": [{\"cells\": {\"fill\": {\"color\": \"#EBF0F8\"}, \"line\": {\"color\": \"white\"}}, \"header\": {\"fill\": {\"color\": \"#C8D4E3\"}, \"line\": {\"color\": \"white\"}}, \"type\": \"table\"}]}, \"layout\": {\"annotationdefaults\": {\"arrowcolor\": \"#2a3f5f\", \"arrowhead\": 0, \"arrowwidth\": 1}, \"coloraxis\": {\"colorbar\": {\"outlinewidth\": 0, \"ticks\": \"\"}}, \"colorscale\": {\"diverging\": [[0, \"#8e0152\"], [0.1, \"#c51b7d\"], [0.2, \"#de77ae\"], [0.3, \"#f1b6da\"], [0.4, \"#fde0ef\"], [0.5, \"#f7f7f7\"], [0.6, \"#e6f5d0\"], [0.7, \"#b8e186\"], [0.8, \"#7fbc41\"], [0.9, \"#4d9221\"], [1, \"#276419\"]], \"sequential\": [[0.0, \"#0d0887\"], [0.1111111111111111, \"#46039f\"], [0.2222222222222222, \"#7201a8\"], [0.3333333333333333, \"#9c179e\"], [0.4444444444444444, \"#bd3786\"], [0.5555555555555556, \"#d8576b\"], [0.6666666666666666, \"#ed7953\"], [0.7777777777777778, \"#fb9f3a\"], [0.8888888888888888, \"#fdca26\"], [1.0, \"#f0f921\"]], \"sequentialminus\": [[0.0, \"#0d0887\"], [0.1111111111111111, \"#46039f\"], [0.2222222222222222, \"#7201a8\"], [0.3333333333333333, \"#9c179e\"], [0.4444444444444444, \"#bd3786\"], [0.5555555555555556, \"#d8576b\"], [0.6666666666666666, \"#ed7953\"], [0.7777777777777778, \"#fb9f3a\"], [0.8888888888888888, \"#fdca26\"], [1.0, \"#f0f921\"]]}, \"colorway\": [\"#636efa\", \"#EF553B\", \"#00cc96\", \"#ab63fa\", \"#FFA15A\", \"#19d3f3\", \"#FF6692\", \"#B6E880\", \"#FF97FF\", \"#FECB52\"], \"font\": {\"color\": \"#2a3f5f\"}, \"geo\": {\"bgcolor\": \"white\", \"lakecolor\": \"white\", \"landcolor\": \"#E5ECF6\", \"showlakes\": true, \"showland\": true, \"subunitcolor\": \"white\"}, \"hoverlabel\": {\"align\": \"left\"}, \"hovermode\": \"closest\", \"mapbox\": {\"style\": \"light\"}, \"paper_bgcolor\": \"white\", \"plot_bgcolor\": \"#E5ECF6\", \"polar\": {\"angularaxis\": {\"gridcolor\": \"white\", \"linecolor\": \"white\", \"ticks\": \"\"}, \"bgcolor\": \"#E5ECF6\", \"radialaxis\": {\"gridcolor\": \"white\", \"linecolor\": \"white\", \"ticks\": \"\"}}, \"scene\": {\"xaxis\": {\"backgroundcolor\": \"#E5ECF6\", \"gridcolor\": \"white\", \"gridwidth\": 2, \"linecolor\": \"white\", \"showbackground\": true, \"ticks\": \"\", \"zerolinecolor\": \"white\"}, \"yaxis\": {\"backgroundcolor\": \"#E5ECF6\", \"gridcolor\": \"white\", \"gridwidth\": 2, \"linecolor\": \"white\", \"showbackground\": true, \"ticks\": \"\", \"zerolinecolor\": \"white\"}, \"zaxis\": {\"backgroundcolor\": \"#E5ECF6\", \"gridcolor\": \"white\", \"gridwidth\": 2, \"linecolor\": \"white\", \"showbackground\": true, \"ticks\": \"\", \"zerolinecolor\": \"white\"}}, \"shapedefaults\": {\"line\": {\"color\": \"#2a3f5f\"}}, \"ternary\": {\"aaxis\": {\"gridcolor\": \"white\", \"linecolor\": \"white\", \"ticks\": \"\"}, \"baxis\": {\"gridcolor\": \"white\", \"linecolor\": \"white\", \"ticks\": \"\"}, \"bgcolor\": \"#E5ECF6\", \"caxis\": {\"gridcolor\": \"white\", \"linecolor\": \"white\", \"ticks\": \"\"}}, \"title\": {\"x\": 0.05}, \"xaxis\": {\"automargin\": true, \"gridcolor\": \"white\", \"linecolor\": \"white\", \"ticks\": \"\", \"title\": {\"standoff\": 15}, \"zerolinecolor\": \"white\", \"zerolinewidth\": 2}, \"yaxis\": {\"automargin\": true, \"gridcolor\": \"white\", \"linecolor\": \"white\", \"ticks\": \"\", \"title\": {\"standoff\": 15}, \"zerolinecolor\": \"white\", \"zerolinewidth\": 2}}}, \"title\": {\"font\": {\"color\": \"#4D5663\"}}, \"xaxis\": {\"gridcolor\": \"#E1E5ED\", \"showgrid\": true, \"tickfont\": {\"color\": \"#4D5663\"}, \"title\": {\"font\": {\"color\": \"#4D5663\"}, \"text\": \"\"}, \"zerolinecolor\": \"#E1E5ED\"}, \"yaxis\": {\"gridcolor\": \"#E1E5ED\", \"showgrid\": true, \"tickfont\": {\"color\": \"#4D5663\"}, \"title\": {\"font\": {\"color\": \"#4D5663\"}, \"text\": \"\"}, \"zerolinecolor\": \"#E1E5ED\"}},\n",
       "                        {\"showLink\": true, \"linkText\": \"Export to plot.ly\", \"plotlyServerURL\": \"https://plot.ly\", \"responsive\": true}\n",
       "                    ).then(function(){\n",
       "                            \n",
       "var gd = document.getElementById('7ffd9f58-2fda-4f4a-adbf-c43c2a336518');\n",
       "var x = new MutationObserver(function (mutations, observer) {{\n",
       "        var display = window.getComputedStyle(gd).display;\n",
       "        if (!display || display === 'none') {{\n",
       "            console.log([gd, 'removed!']);\n",
       "            Plotly.purge(gd);\n",
       "            observer.disconnect();\n",
       "        }}\n",
       "}});\n",
       "\n",
       "// Listen for the removal of the full notebook cells\n",
       "var notebookContainer = gd.closest('#notebook-container');\n",
       "if (notebookContainer) {{\n",
       "    x.observe(notebookContainer, {childList: true});\n",
       "}}\n",
       "\n",
       "// Listen for the clearing of the current output cell\n",
       "var outputEl = gd.closest('.output');\n",
       "if (outputEl) {{\n",
       "    x.observe(outputEl, {childList: true});\n",
       "}}\n",
       "\n",
       "                        })\n",
       "                };\n",
       "                });\n",
       "            </script>\n",
       "        </div>"
      ]
     },
     "metadata": {},
     "output_type": "display_data"
    }
   ],
   "source": [
    "df3.iplot(kind='surface',colorscale='rdylbu')"
   ]
  },
  {
   "cell_type": "code",
   "execution_count": 47,
   "metadata": {},
   "outputs": [
    {
     "data": {
      "application/vnd.plotly.v1+json": {
       "config": {
        "linkText": "Export to plot.ly",
        "plotlyServerURL": "https://plot.ly",
        "showLink": true
       },
       "data": [
        {
         "histfunc": "count",
         "histnorm": "",
         "marker": {
          "color": "rgba(255, 153, 51, 1.0)",
          "line": {
           "color": "#4D5663",
           "width": 1.3
          }
         },
         "name": "A",
         "nbinsx": 50,
         "opacity": 0.8,
         "orientation": "v",
         "type": "histogram",
         "x": [
          -1.4496360721844352,
          0.8873978843611828,
          -0.0390005807228342,
          0.030354177296635507,
          -0.3777079685985477,
          0.7588829084593641,
          1.734314215168449,
          -1.0900571341974001,
          -0.26212755041413577,
          0.19364864806034585,
          -0.9946781453834873,
          -0.5471429181687236,
          1.1732797419683796,
          1.235234107700757,
          -0.26710267063565957,
          -0.7268934769880704,
          -0.17906255966251938,
          0.5201489560628967,
          -1.6962464206752095,
          -0.7905996353292317,
          1.0473869660555215,
          0.04802206082745249,
          0.20334625486219532,
          -1.3941983885214801,
          0.409517162314868,
          0.31743795887216947,
          -0.1738585088517065,
          1.0571586290988335,
          0.22222857212629238,
          0.4237051899004442,
          0.8817814321900838,
          -0.9945117189097893,
          0.609288713378068,
          -1.2257490943806924,
          0.04615213537108449,
          -0.0848659535189674,
          -0.7419795644501216,
          -1.8066909616396531,
          -0.23974209506206925,
          1.4501993799905353,
          1.073342810167746,
          0.13755145441258418,
          -0.3104393727987269,
          0.49563843991103945,
          -0.7697431316816101,
          1.0633053005867261,
          -0.14169903118004062,
          -0.14265777722376277,
          -0.6839225466888054,
          0.9104680213199234,
          1.2971032249047207,
          -0.7011824318955198,
          -1.5986857325137882,
          -0.08495920203130981,
          0.2999946955662853,
          0.34963662572100734,
          -0.7047268274905389,
          1.9305763656598314,
          -0.35904459916833176,
          -1.465147485068314,
          -0.5374034024718863,
          0.5007235303428342,
          0.9592497249996453,
          0.468687366985324,
          -0.39259115256891614,
          -2.1800411944205154,
          -1.0064088646940648,
          -0.29041651428032966,
          0.7388927602477078,
          -3.710326106474891,
          2.1187589672232594,
          0.30162533896878263,
          -0.8720118972663534,
          -1.6590026203861716,
          -1.1090949649380255,
          -0.06183130292129761,
          0.37017693546974145,
          0.6156971033143431,
          -0.5893997136482556,
          0.03148720687477286,
          0.362851143311647,
          0.7851032925490155,
          -0.10274326611110957,
          -0.7700967825748634,
          -0.0941796128439429,
          -0.8631722694399285,
          -0.5119535136330179,
          -0.48078019166296126,
          -1.029605559243594,
          -1.5042430420415336,
          0.5158157928775244,
          -0.5420072374369286,
          -0.7948471452010908,
          -0.36869055662136463,
          0.7132943112944887,
          -1.3792156308894425,
          -0.9217650652029417,
          -0.13835484734774714,
          -0.8583622414714944,
          0.7429818290509952
         ]
        }
       ],
       "layout": {
        "barmode": "overlay",
        "legend": {
         "bgcolor": "#F5F6F9",
         "font": {
          "color": "#4D5663"
         }
        },
        "paper_bgcolor": "#F5F6F9",
        "plot_bgcolor": "#F5F6F9",
        "template": {
         "data": {
          "bar": [
           {
            "error_x": {
             "color": "#2a3f5f"
            },
            "error_y": {
             "color": "#2a3f5f"
            },
            "marker": {
             "line": {
              "color": "#E5ECF6",
              "width": 0.5
             }
            },
            "type": "bar"
           }
          ],
          "barpolar": [
           {
            "marker": {
             "line": {
              "color": "#E5ECF6",
              "width": 0.5
             }
            },
            "type": "barpolar"
           }
          ],
          "carpet": [
           {
            "aaxis": {
             "endlinecolor": "#2a3f5f",
             "gridcolor": "white",
             "linecolor": "white",
             "minorgridcolor": "white",
             "startlinecolor": "#2a3f5f"
            },
            "baxis": {
             "endlinecolor": "#2a3f5f",
             "gridcolor": "white",
             "linecolor": "white",
             "minorgridcolor": "white",
             "startlinecolor": "#2a3f5f"
            },
            "type": "carpet"
           }
          ],
          "choropleth": [
           {
            "colorbar": {
             "outlinewidth": 0,
             "ticks": ""
            },
            "type": "choropleth"
           }
          ],
          "contour": [
           {
            "colorbar": {
             "outlinewidth": 0,
             "ticks": ""
            },
            "colorscale": [
             [
              0,
              "#0d0887"
             ],
             [
              0.1111111111111111,
              "#46039f"
             ],
             [
              0.2222222222222222,
              "#7201a8"
             ],
             [
              0.3333333333333333,
              "#9c179e"
             ],
             [
              0.4444444444444444,
              "#bd3786"
             ],
             [
              0.5555555555555556,
              "#d8576b"
             ],
             [
              0.6666666666666666,
              "#ed7953"
             ],
             [
              0.7777777777777778,
              "#fb9f3a"
             ],
             [
              0.8888888888888888,
              "#fdca26"
             ],
             [
              1,
              "#f0f921"
             ]
            ],
            "type": "contour"
           }
          ],
          "contourcarpet": [
           {
            "colorbar": {
             "outlinewidth": 0,
             "ticks": ""
            },
            "type": "contourcarpet"
           }
          ],
          "heatmap": [
           {
            "colorbar": {
             "outlinewidth": 0,
             "ticks": ""
            },
            "colorscale": [
             [
              0,
              "#0d0887"
             ],
             [
              0.1111111111111111,
              "#46039f"
             ],
             [
              0.2222222222222222,
              "#7201a8"
             ],
             [
              0.3333333333333333,
              "#9c179e"
             ],
             [
              0.4444444444444444,
              "#bd3786"
             ],
             [
              0.5555555555555556,
              "#d8576b"
             ],
             [
              0.6666666666666666,
              "#ed7953"
             ],
             [
              0.7777777777777778,
              "#fb9f3a"
             ],
             [
              0.8888888888888888,
              "#fdca26"
             ],
             [
              1,
              "#f0f921"
             ]
            ],
            "type": "heatmap"
           }
          ],
          "heatmapgl": [
           {
            "colorbar": {
             "outlinewidth": 0,
             "ticks": ""
            },
            "colorscale": [
             [
              0,
              "#0d0887"
             ],
             [
              0.1111111111111111,
              "#46039f"
             ],
             [
              0.2222222222222222,
              "#7201a8"
             ],
             [
              0.3333333333333333,
              "#9c179e"
             ],
             [
              0.4444444444444444,
              "#bd3786"
             ],
             [
              0.5555555555555556,
              "#d8576b"
             ],
             [
              0.6666666666666666,
              "#ed7953"
             ],
             [
              0.7777777777777778,
              "#fb9f3a"
             ],
             [
              0.8888888888888888,
              "#fdca26"
             ],
             [
              1,
              "#f0f921"
             ]
            ],
            "type": "heatmapgl"
           }
          ],
          "histogram": [
           {
            "marker": {
             "colorbar": {
              "outlinewidth": 0,
              "ticks": ""
             }
            },
            "type": "histogram"
           }
          ],
          "histogram2d": [
           {
            "colorbar": {
             "outlinewidth": 0,
             "ticks": ""
            },
            "colorscale": [
             [
              0,
              "#0d0887"
             ],
             [
              0.1111111111111111,
              "#46039f"
             ],
             [
              0.2222222222222222,
              "#7201a8"
             ],
             [
              0.3333333333333333,
              "#9c179e"
             ],
             [
              0.4444444444444444,
              "#bd3786"
             ],
             [
              0.5555555555555556,
              "#d8576b"
             ],
             [
              0.6666666666666666,
              "#ed7953"
             ],
             [
              0.7777777777777778,
              "#fb9f3a"
             ],
             [
              0.8888888888888888,
              "#fdca26"
             ],
             [
              1,
              "#f0f921"
             ]
            ],
            "type": "histogram2d"
           }
          ],
          "histogram2dcontour": [
           {
            "colorbar": {
             "outlinewidth": 0,
             "ticks": ""
            },
            "colorscale": [
             [
              0,
              "#0d0887"
             ],
             [
              0.1111111111111111,
              "#46039f"
             ],
             [
              0.2222222222222222,
              "#7201a8"
             ],
             [
              0.3333333333333333,
              "#9c179e"
             ],
             [
              0.4444444444444444,
              "#bd3786"
             ],
             [
              0.5555555555555556,
              "#d8576b"
             ],
             [
              0.6666666666666666,
              "#ed7953"
             ],
             [
              0.7777777777777778,
              "#fb9f3a"
             ],
             [
              0.8888888888888888,
              "#fdca26"
             ],
             [
              1,
              "#f0f921"
             ]
            ],
            "type": "histogram2dcontour"
           }
          ],
          "mesh3d": [
           {
            "colorbar": {
             "outlinewidth": 0,
             "ticks": ""
            },
            "type": "mesh3d"
           }
          ],
          "parcoords": [
           {
            "line": {
             "colorbar": {
              "outlinewidth": 0,
              "ticks": ""
             }
            },
            "type": "parcoords"
           }
          ],
          "pie": [
           {
            "automargin": true,
            "type": "pie"
           }
          ],
          "scatter": [
           {
            "marker": {
             "colorbar": {
              "outlinewidth": 0,
              "ticks": ""
             }
            },
            "type": "scatter"
           }
          ],
          "scatter3d": [
           {
            "line": {
             "colorbar": {
              "outlinewidth": 0,
              "ticks": ""
             }
            },
            "marker": {
             "colorbar": {
              "outlinewidth": 0,
              "ticks": ""
             }
            },
            "type": "scatter3d"
           }
          ],
          "scattercarpet": [
           {
            "marker": {
             "colorbar": {
              "outlinewidth": 0,
              "ticks": ""
             }
            },
            "type": "scattercarpet"
           }
          ],
          "scattergeo": [
           {
            "marker": {
             "colorbar": {
              "outlinewidth": 0,
              "ticks": ""
             }
            },
            "type": "scattergeo"
           }
          ],
          "scattergl": [
           {
            "marker": {
             "colorbar": {
              "outlinewidth": 0,
              "ticks": ""
             }
            },
            "type": "scattergl"
           }
          ],
          "scattermapbox": [
           {
            "marker": {
             "colorbar": {
              "outlinewidth": 0,
              "ticks": ""
             }
            },
            "type": "scattermapbox"
           }
          ],
          "scatterpolar": [
           {
            "marker": {
             "colorbar": {
              "outlinewidth": 0,
              "ticks": ""
             }
            },
            "type": "scatterpolar"
           }
          ],
          "scatterpolargl": [
           {
            "marker": {
             "colorbar": {
              "outlinewidth": 0,
              "ticks": ""
             }
            },
            "type": "scatterpolargl"
           }
          ],
          "scatterternary": [
           {
            "marker": {
             "colorbar": {
              "outlinewidth": 0,
              "ticks": ""
             }
            },
            "type": "scatterternary"
           }
          ],
          "surface": [
           {
            "colorbar": {
             "outlinewidth": 0,
             "ticks": ""
            },
            "colorscale": [
             [
              0,
              "#0d0887"
             ],
             [
              0.1111111111111111,
              "#46039f"
             ],
             [
              0.2222222222222222,
              "#7201a8"
             ],
             [
              0.3333333333333333,
              "#9c179e"
             ],
             [
              0.4444444444444444,
              "#bd3786"
             ],
             [
              0.5555555555555556,
              "#d8576b"
             ],
             [
              0.6666666666666666,
              "#ed7953"
             ],
             [
              0.7777777777777778,
              "#fb9f3a"
             ],
             [
              0.8888888888888888,
              "#fdca26"
             ],
             [
              1,
              "#f0f921"
             ]
            ],
            "type": "surface"
           }
          ],
          "table": [
           {
            "cells": {
             "fill": {
              "color": "#EBF0F8"
             },
             "line": {
              "color": "white"
             }
            },
            "header": {
             "fill": {
              "color": "#C8D4E3"
             },
             "line": {
              "color": "white"
             }
            },
            "type": "table"
           }
          ]
         },
         "layout": {
          "annotationdefaults": {
           "arrowcolor": "#2a3f5f",
           "arrowhead": 0,
           "arrowwidth": 1
          },
          "coloraxis": {
           "colorbar": {
            "outlinewidth": 0,
            "ticks": ""
           }
          },
          "colorscale": {
           "diverging": [
            [
             0,
             "#8e0152"
            ],
            [
             0.1,
             "#c51b7d"
            ],
            [
             0.2,
             "#de77ae"
            ],
            [
             0.3,
             "#f1b6da"
            ],
            [
             0.4,
             "#fde0ef"
            ],
            [
             0.5,
             "#f7f7f7"
            ],
            [
             0.6,
             "#e6f5d0"
            ],
            [
             0.7,
             "#b8e186"
            ],
            [
             0.8,
             "#7fbc41"
            ],
            [
             0.9,
             "#4d9221"
            ],
            [
             1,
             "#276419"
            ]
           ],
           "sequential": [
            [
             0,
             "#0d0887"
            ],
            [
             0.1111111111111111,
             "#46039f"
            ],
            [
             0.2222222222222222,
             "#7201a8"
            ],
            [
             0.3333333333333333,
             "#9c179e"
            ],
            [
             0.4444444444444444,
             "#bd3786"
            ],
            [
             0.5555555555555556,
             "#d8576b"
            ],
            [
             0.6666666666666666,
             "#ed7953"
            ],
            [
             0.7777777777777778,
             "#fb9f3a"
            ],
            [
             0.8888888888888888,
             "#fdca26"
            ],
            [
             1,
             "#f0f921"
            ]
           ],
           "sequentialminus": [
            [
             0,
             "#0d0887"
            ],
            [
             0.1111111111111111,
             "#46039f"
            ],
            [
             0.2222222222222222,
             "#7201a8"
            ],
            [
             0.3333333333333333,
             "#9c179e"
            ],
            [
             0.4444444444444444,
             "#bd3786"
            ],
            [
             0.5555555555555556,
             "#d8576b"
            ],
            [
             0.6666666666666666,
             "#ed7953"
            ],
            [
             0.7777777777777778,
             "#fb9f3a"
            ],
            [
             0.8888888888888888,
             "#fdca26"
            ],
            [
             1,
             "#f0f921"
            ]
           ]
          },
          "colorway": [
           "#636efa",
           "#EF553B",
           "#00cc96",
           "#ab63fa",
           "#FFA15A",
           "#19d3f3",
           "#FF6692",
           "#B6E880",
           "#FF97FF",
           "#FECB52"
          ],
          "font": {
           "color": "#2a3f5f"
          },
          "geo": {
           "bgcolor": "white",
           "lakecolor": "white",
           "landcolor": "#E5ECF6",
           "showlakes": true,
           "showland": true,
           "subunitcolor": "white"
          },
          "hoverlabel": {
           "align": "left"
          },
          "hovermode": "closest",
          "mapbox": {
           "style": "light"
          },
          "paper_bgcolor": "white",
          "plot_bgcolor": "#E5ECF6",
          "polar": {
           "angularaxis": {
            "gridcolor": "white",
            "linecolor": "white",
            "ticks": ""
           },
           "bgcolor": "#E5ECF6",
           "radialaxis": {
            "gridcolor": "white",
            "linecolor": "white",
            "ticks": ""
           }
          },
          "scene": {
           "xaxis": {
            "backgroundcolor": "#E5ECF6",
            "gridcolor": "white",
            "gridwidth": 2,
            "linecolor": "white",
            "showbackground": true,
            "ticks": "",
            "zerolinecolor": "white"
           },
           "yaxis": {
            "backgroundcolor": "#E5ECF6",
            "gridcolor": "white",
            "gridwidth": 2,
            "linecolor": "white",
            "showbackground": true,
            "ticks": "",
            "zerolinecolor": "white"
           },
           "zaxis": {
            "backgroundcolor": "#E5ECF6",
            "gridcolor": "white",
            "gridwidth": 2,
            "linecolor": "white",
            "showbackground": true,
            "ticks": "",
            "zerolinecolor": "white"
           }
          },
          "shapedefaults": {
           "line": {
            "color": "#2a3f5f"
           }
          },
          "ternary": {
           "aaxis": {
            "gridcolor": "white",
            "linecolor": "white",
            "ticks": ""
           },
           "baxis": {
            "gridcolor": "white",
            "linecolor": "white",
            "ticks": ""
           },
           "bgcolor": "#E5ECF6",
           "caxis": {
            "gridcolor": "white",
            "linecolor": "white",
            "ticks": ""
           }
          },
          "title": {
           "x": 0.05
          },
          "xaxis": {
           "automargin": true,
           "gridcolor": "white",
           "linecolor": "white",
           "ticks": "",
           "title": {
            "standoff": 15
           },
           "zerolinecolor": "white",
           "zerolinewidth": 2
          },
          "yaxis": {
           "automargin": true,
           "gridcolor": "white",
           "linecolor": "white",
           "ticks": "",
           "title": {
            "standoff": 15
           },
           "zerolinecolor": "white",
           "zerolinewidth": 2
          }
         }
        },
        "title": {
         "font": {
          "color": "#4D5663"
         }
        },
        "xaxis": {
         "gridcolor": "#E1E5ED",
         "showgrid": true,
         "tickfont": {
          "color": "#4D5663"
         },
         "title": {
          "font": {
           "color": "#4D5663"
          },
          "text": ""
         },
         "zerolinecolor": "#E1E5ED"
        },
        "yaxis": {
         "gridcolor": "#E1E5ED",
         "showgrid": true,
         "tickfont": {
          "color": "#4D5663"
         },
         "title": {
          "font": {
           "color": "#4D5663"
          },
          "text": ""
         },
         "zerolinecolor": "#E1E5ED"
        }
       }
      },
      "text/html": [
       "<div>\n",
       "        \n",
       "        \n",
       "            <div id=\"f69cdc65-3e15-4503-9755-8385547a74f5\" class=\"plotly-graph-div\" style=\"height:525px; width:100%;\"></div>\n",
       "            <script type=\"text/javascript\">\n",
       "                require([\"plotly\"], function(Plotly) {\n",
       "                    window.PLOTLYENV=window.PLOTLYENV || {};\n",
       "                    window.PLOTLYENV.BASE_URL='https://plot.ly';\n",
       "                    \n",
       "                if (document.getElementById(\"f69cdc65-3e15-4503-9755-8385547a74f5\")) {\n",
       "                    Plotly.newPlot(\n",
       "                        'f69cdc65-3e15-4503-9755-8385547a74f5',\n",
       "                        [{\"histfunc\": \"count\", \"histnorm\": \"\", \"marker\": {\"color\": \"rgba(255, 153, 51, 1.0)\", \"line\": {\"color\": \"#4D5663\", \"width\": 1.3}}, \"name\": \"A\", \"nbinsx\": 50, \"opacity\": 0.8, \"orientation\": \"v\", \"type\": \"histogram\", \"x\": [-1.4496360721844352, 0.8873978843611828, -0.0390005807228342, 0.030354177296635507, -0.3777079685985477, 0.7588829084593641, 1.734314215168449, -1.0900571341974001, -0.26212755041413577, 0.19364864806034585, -0.9946781453834873, -0.5471429181687236, 1.1732797419683796, 1.235234107700757, -0.26710267063565957, -0.7268934769880704, -0.17906255966251938, 0.5201489560628967, -1.6962464206752095, -0.7905996353292317, 1.0473869660555215, 0.04802206082745249, 0.20334625486219532, -1.3941983885214801, 0.409517162314868, 0.31743795887216947, -0.1738585088517065, 1.0571586290988335, 0.22222857212629238, 0.4237051899004442, 0.8817814321900838, -0.9945117189097893, 0.609288713378068, -1.2257490943806924, 0.04615213537108449, -0.0848659535189674, -0.7419795644501216, -1.8066909616396531, -0.23974209506206925, 1.4501993799905353, 1.073342810167746, 0.13755145441258418, -0.3104393727987269, 0.49563843991103945, -0.7697431316816101, 1.0633053005867261, -0.14169903118004062, -0.14265777722376277, -0.6839225466888054, 0.9104680213199234, 1.2971032249047207, -0.7011824318955198, -1.5986857325137882, -0.08495920203130981, 0.2999946955662853, 0.34963662572100734, -0.7047268274905389, 1.9305763656598314, -0.35904459916833176, -1.465147485068314, -0.5374034024718863, 0.5007235303428342, 0.9592497249996453, 0.468687366985324, -0.39259115256891614, -2.1800411944205154, -1.0064088646940648, -0.29041651428032966, 0.7388927602477078, -3.710326106474891, 2.1187589672232594, 0.30162533896878263, -0.8720118972663534, -1.6590026203861716, -1.1090949649380255, -0.06183130292129761, 0.37017693546974145, 0.6156971033143431, -0.5893997136482556, 0.03148720687477286, 0.362851143311647, 0.7851032925490155, -0.10274326611110957, -0.7700967825748634, -0.0941796128439429, -0.8631722694399285, -0.5119535136330179, -0.48078019166296126, -1.029605559243594, -1.5042430420415336, 0.5158157928775244, -0.5420072374369286, -0.7948471452010908, -0.36869055662136463, 0.7132943112944887, -1.3792156308894425, -0.9217650652029417, -0.13835484734774714, -0.8583622414714944, 0.7429818290509952]}],\n",
       "                        {\"barmode\": \"overlay\", \"legend\": {\"bgcolor\": \"#F5F6F9\", \"font\": {\"color\": \"#4D5663\"}}, \"paper_bgcolor\": \"#F5F6F9\", \"plot_bgcolor\": \"#F5F6F9\", \"template\": {\"data\": {\"bar\": [{\"error_x\": {\"color\": \"#2a3f5f\"}, \"error_y\": {\"color\": \"#2a3f5f\"}, \"marker\": {\"line\": {\"color\": \"#E5ECF6\", \"width\": 0.5}}, \"type\": \"bar\"}], \"barpolar\": [{\"marker\": {\"line\": {\"color\": \"#E5ECF6\", \"width\": 0.5}}, \"type\": \"barpolar\"}], \"carpet\": [{\"aaxis\": {\"endlinecolor\": \"#2a3f5f\", \"gridcolor\": \"white\", \"linecolor\": \"white\", \"minorgridcolor\": \"white\", \"startlinecolor\": \"#2a3f5f\"}, \"baxis\": {\"endlinecolor\": \"#2a3f5f\", \"gridcolor\": \"white\", \"linecolor\": \"white\", \"minorgridcolor\": \"white\", \"startlinecolor\": \"#2a3f5f\"}, \"type\": \"carpet\"}], \"choropleth\": [{\"colorbar\": {\"outlinewidth\": 0, \"ticks\": \"\"}, \"type\": \"choropleth\"}], \"contour\": [{\"colorbar\": {\"outlinewidth\": 0, \"ticks\": \"\"}, \"colorscale\": [[0.0, \"#0d0887\"], [0.1111111111111111, \"#46039f\"], [0.2222222222222222, \"#7201a8\"], [0.3333333333333333, \"#9c179e\"], [0.4444444444444444, \"#bd3786\"], [0.5555555555555556, \"#d8576b\"], [0.6666666666666666, \"#ed7953\"], [0.7777777777777778, \"#fb9f3a\"], [0.8888888888888888, \"#fdca26\"], [1.0, \"#f0f921\"]], \"type\": \"contour\"}], \"contourcarpet\": [{\"colorbar\": {\"outlinewidth\": 0, \"ticks\": \"\"}, \"type\": \"contourcarpet\"}], \"heatmap\": [{\"colorbar\": {\"outlinewidth\": 0, \"ticks\": \"\"}, \"colorscale\": [[0.0, \"#0d0887\"], [0.1111111111111111, \"#46039f\"], [0.2222222222222222, \"#7201a8\"], [0.3333333333333333, \"#9c179e\"], [0.4444444444444444, \"#bd3786\"], [0.5555555555555556, \"#d8576b\"], [0.6666666666666666, \"#ed7953\"], [0.7777777777777778, \"#fb9f3a\"], [0.8888888888888888, \"#fdca26\"], [1.0, \"#f0f921\"]], \"type\": \"heatmap\"}], \"heatmapgl\": [{\"colorbar\": {\"outlinewidth\": 0, \"ticks\": \"\"}, \"colorscale\": [[0.0, \"#0d0887\"], [0.1111111111111111, \"#46039f\"], [0.2222222222222222, \"#7201a8\"], [0.3333333333333333, \"#9c179e\"], [0.4444444444444444, \"#bd3786\"], [0.5555555555555556, \"#d8576b\"], [0.6666666666666666, \"#ed7953\"], [0.7777777777777778, \"#fb9f3a\"], [0.8888888888888888, \"#fdca26\"], [1.0, \"#f0f921\"]], \"type\": \"heatmapgl\"}], \"histogram\": [{\"marker\": {\"colorbar\": {\"outlinewidth\": 0, \"ticks\": \"\"}}, \"type\": \"histogram\"}], \"histogram2d\": [{\"colorbar\": {\"outlinewidth\": 0, \"ticks\": \"\"}, \"colorscale\": [[0.0, \"#0d0887\"], [0.1111111111111111, \"#46039f\"], [0.2222222222222222, \"#7201a8\"], [0.3333333333333333, \"#9c179e\"], [0.4444444444444444, \"#bd3786\"], [0.5555555555555556, \"#d8576b\"], [0.6666666666666666, \"#ed7953\"], [0.7777777777777778, \"#fb9f3a\"], [0.8888888888888888, \"#fdca26\"], [1.0, \"#f0f921\"]], \"type\": \"histogram2d\"}], \"histogram2dcontour\": [{\"colorbar\": {\"outlinewidth\": 0, \"ticks\": \"\"}, \"colorscale\": [[0.0, \"#0d0887\"], [0.1111111111111111, \"#46039f\"], [0.2222222222222222, \"#7201a8\"], [0.3333333333333333, \"#9c179e\"], [0.4444444444444444, \"#bd3786\"], [0.5555555555555556, \"#d8576b\"], [0.6666666666666666, \"#ed7953\"], [0.7777777777777778, \"#fb9f3a\"], [0.8888888888888888, \"#fdca26\"], [1.0, \"#f0f921\"]], \"type\": \"histogram2dcontour\"}], \"mesh3d\": [{\"colorbar\": {\"outlinewidth\": 0, \"ticks\": \"\"}, \"type\": \"mesh3d\"}], \"parcoords\": [{\"line\": {\"colorbar\": {\"outlinewidth\": 0, \"ticks\": \"\"}}, \"type\": \"parcoords\"}], \"pie\": [{\"automargin\": true, \"type\": \"pie\"}], \"scatter\": [{\"marker\": {\"colorbar\": {\"outlinewidth\": 0, \"ticks\": \"\"}}, \"type\": \"scatter\"}], \"scatter3d\": [{\"line\": {\"colorbar\": {\"outlinewidth\": 0, \"ticks\": \"\"}}, \"marker\": {\"colorbar\": {\"outlinewidth\": 0, \"ticks\": \"\"}}, \"type\": \"scatter3d\"}], \"scattercarpet\": [{\"marker\": {\"colorbar\": {\"outlinewidth\": 0, \"ticks\": \"\"}}, \"type\": \"scattercarpet\"}], \"scattergeo\": [{\"marker\": {\"colorbar\": {\"outlinewidth\": 0, \"ticks\": \"\"}}, \"type\": \"scattergeo\"}], \"scattergl\": [{\"marker\": {\"colorbar\": {\"outlinewidth\": 0, \"ticks\": \"\"}}, \"type\": \"scattergl\"}], \"scattermapbox\": [{\"marker\": {\"colorbar\": {\"outlinewidth\": 0, \"ticks\": \"\"}}, \"type\": \"scattermapbox\"}], \"scatterpolar\": [{\"marker\": {\"colorbar\": {\"outlinewidth\": 0, \"ticks\": \"\"}}, \"type\": \"scatterpolar\"}], \"scatterpolargl\": [{\"marker\": {\"colorbar\": {\"outlinewidth\": 0, \"ticks\": \"\"}}, \"type\": \"scatterpolargl\"}], \"scatterternary\": [{\"marker\": {\"colorbar\": {\"outlinewidth\": 0, \"ticks\": \"\"}}, \"type\": \"scatterternary\"}], \"surface\": [{\"colorbar\": {\"outlinewidth\": 0, \"ticks\": \"\"}, \"colorscale\": [[0.0, \"#0d0887\"], [0.1111111111111111, \"#46039f\"], [0.2222222222222222, \"#7201a8\"], [0.3333333333333333, \"#9c179e\"], [0.4444444444444444, \"#bd3786\"], [0.5555555555555556, \"#d8576b\"], [0.6666666666666666, \"#ed7953\"], [0.7777777777777778, \"#fb9f3a\"], [0.8888888888888888, \"#fdca26\"], [1.0, \"#f0f921\"]], \"type\": \"surface\"}], \"table\": [{\"cells\": {\"fill\": {\"color\": \"#EBF0F8\"}, \"line\": {\"color\": \"white\"}}, \"header\": {\"fill\": {\"color\": \"#C8D4E3\"}, \"line\": {\"color\": \"white\"}}, \"type\": \"table\"}]}, \"layout\": {\"annotationdefaults\": {\"arrowcolor\": \"#2a3f5f\", \"arrowhead\": 0, \"arrowwidth\": 1}, \"coloraxis\": {\"colorbar\": {\"outlinewidth\": 0, \"ticks\": \"\"}}, \"colorscale\": {\"diverging\": [[0, \"#8e0152\"], [0.1, \"#c51b7d\"], [0.2, \"#de77ae\"], [0.3, \"#f1b6da\"], [0.4, \"#fde0ef\"], [0.5, \"#f7f7f7\"], [0.6, \"#e6f5d0\"], [0.7, \"#b8e186\"], [0.8, \"#7fbc41\"], [0.9, \"#4d9221\"], [1, \"#276419\"]], \"sequential\": [[0.0, \"#0d0887\"], [0.1111111111111111, \"#46039f\"], [0.2222222222222222, \"#7201a8\"], [0.3333333333333333, \"#9c179e\"], [0.4444444444444444, \"#bd3786\"], [0.5555555555555556, \"#d8576b\"], [0.6666666666666666, \"#ed7953\"], [0.7777777777777778, \"#fb9f3a\"], [0.8888888888888888, \"#fdca26\"], [1.0, \"#f0f921\"]], \"sequentialminus\": [[0.0, \"#0d0887\"], [0.1111111111111111, \"#46039f\"], [0.2222222222222222, \"#7201a8\"], [0.3333333333333333, \"#9c179e\"], [0.4444444444444444, \"#bd3786\"], [0.5555555555555556, \"#d8576b\"], [0.6666666666666666, \"#ed7953\"], [0.7777777777777778, \"#fb9f3a\"], [0.8888888888888888, \"#fdca26\"], [1.0, \"#f0f921\"]]}, \"colorway\": [\"#636efa\", \"#EF553B\", \"#00cc96\", \"#ab63fa\", \"#FFA15A\", \"#19d3f3\", \"#FF6692\", \"#B6E880\", \"#FF97FF\", \"#FECB52\"], \"font\": {\"color\": \"#2a3f5f\"}, \"geo\": {\"bgcolor\": \"white\", \"lakecolor\": \"white\", \"landcolor\": \"#E5ECF6\", \"showlakes\": true, \"showland\": true, \"subunitcolor\": \"white\"}, \"hoverlabel\": {\"align\": \"left\"}, \"hovermode\": \"closest\", \"mapbox\": {\"style\": \"light\"}, \"paper_bgcolor\": \"white\", \"plot_bgcolor\": \"#E5ECF6\", \"polar\": {\"angularaxis\": {\"gridcolor\": \"white\", \"linecolor\": \"white\", \"ticks\": \"\"}, \"bgcolor\": \"#E5ECF6\", \"radialaxis\": {\"gridcolor\": \"white\", \"linecolor\": \"white\", \"ticks\": \"\"}}, \"scene\": {\"xaxis\": {\"backgroundcolor\": \"#E5ECF6\", \"gridcolor\": \"white\", \"gridwidth\": 2, \"linecolor\": \"white\", \"showbackground\": true, \"ticks\": \"\", \"zerolinecolor\": \"white\"}, \"yaxis\": {\"backgroundcolor\": \"#E5ECF6\", \"gridcolor\": \"white\", \"gridwidth\": 2, \"linecolor\": \"white\", \"showbackground\": true, \"ticks\": \"\", \"zerolinecolor\": \"white\"}, \"zaxis\": {\"backgroundcolor\": \"#E5ECF6\", \"gridcolor\": \"white\", \"gridwidth\": 2, \"linecolor\": \"white\", \"showbackground\": true, \"ticks\": \"\", \"zerolinecolor\": \"white\"}}, \"shapedefaults\": {\"line\": {\"color\": \"#2a3f5f\"}}, \"ternary\": {\"aaxis\": {\"gridcolor\": \"white\", \"linecolor\": \"white\", \"ticks\": \"\"}, \"baxis\": {\"gridcolor\": \"white\", \"linecolor\": \"white\", \"ticks\": \"\"}, \"bgcolor\": \"#E5ECF6\", \"caxis\": {\"gridcolor\": \"white\", \"linecolor\": \"white\", \"ticks\": \"\"}}, \"title\": {\"x\": 0.05}, \"xaxis\": {\"automargin\": true, \"gridcolor\": \"white\", \"linecolor\": \"white\", \"ticks\": \"\", \"title\": {\"standoff\": 15}, \"zerolinecolor\": \"white\", \"zerolinewidth\": 2}, \"yaxis\": {\"automargin\": true, \"gridcolor\": \"white\", \"linecolor\": \"white\", \"ticks\": \"\", \"title\": {\"standoff\": 15}, \"zerolinecolor\": \"white\", \"zerolinewidth\": 2}}}, \"title\": {\"font\": {\"color\": \"#4D5663\"}}, \"xaxis\": {\"gridcolor\": \"#E1E5ED\", \"showgrid\": true, \"tickfont\": {\"color\": \"#4D5663\"}, \"title\": {\"font\": {\"color\": \"#4D5663\"}, \"text\": \"\"}, \"zerolinecolor\": \"#E1E5ED\"}, \"yaxis\": {\"gridcolor\": \"#E1E5ED\", \"showgrid\": true, \"tickfont\": {\"color\": \"#4D5663\"}, \"title\": {\"font\": {\"color\": \"#4D5663\"}, \"text\": \"\"}, \"zerolinecolor\": \"#E1E5ED\"}},\n",
       "                        {\"showLink\": true, \"linkText\": \"Export to plot.ly\", \"plotlyServerURL\": \"https://plot.ly\", \"responsive\": true}\n",
       "                    ).then(function(){\n",
       "                            \n",
       "var gd = document.getElementById('f69cdc65-3e15-4503-9755-8385547a74f5');\n",
       "var x = new MutationObserver(function (mutations, observer) {{\n",
       "        var display = window.getComputedStyle(gd).display;\n",
       "        if (!display || display === 'none') {{\n",
       "            console.log([gd, 'removed!']);\n",
       "            Plotly.purge(gd);\n",
       "            observer.disconnect();\n",
       "        }}\n",
       "}});\n",
       "\n",
       "// Listen for the removal of the full notebook cells\n",
       "var notebookContainer = gd.closest('#notebook-container');\n",
       "if (notebookContainer) {{\n",
       "    x.observe(notebookContainer, {childList: true});\n",
       "}}\n",
       "\n",
       "// Listen for the clearing of the current output cell\n",
       "var outputEl = gd.closest('.output');\n",
       "if (outputEl) {{\n",
       "    x.observe(outputEl, {childList: true});\n",
       "}}\n",
       "\n",
       "                        })\n",
       "                };\n",
       "                });\n",
       "            </script>\n",
       "        </div>"
      ]
     },
     "metadata": {},
     "output_type": "display_data"
    }
   ],
   "source": [
    "df['A'].iplot(kind='hist',bins=50)"
   ]
  },
  {
   "cell_type": "code",
   "execution_count": 50,
   "metadata": {},
   "outputs": [
    {
     "data": {
      "application/vnd.plotly.v1+json": {
       "config": {
        "linkText": "Export to plot.ly",
        "plotlyServerURL": "https://plot.ly",
        "showLink": true
       },
       "data": [
        {
         "histfunc": "count",
         "histnorm": "",
         "marker": {
          "color": "rgba(215, 25, 28, 1.0)",
          "line": {
           "color": "#4D5663",
           "width": 1.3
          }
         },
         "name": "A",
         "opacity": 0.8,
         "orientation": "v",
         "type": "histogram",
         "x": [
          -1.4496360721844352,
          0.8873978843611828,
          -0.0390005807228342,
          0.030354177296635507,
          -0.3777079685985477,
          0.7588829084593641,
          1.734314215168449,
          -1.0900571341974001,
          -0.26212755041413577,
          0.19364864806034585,
          -0.9946781453834873,
          -0.5471429181687236,
          1.1732797419683796,
          1.235234107700757,
          -0.26710267063565957,
          -0.7268934769880704,
          -0.17906255966251938,
          0.5201489560628967,
          -1.6962464206752095,
          -0.7905996353292317,
          1.0473869660555215,
          0.04802206082745249,
          0.20334625486219532,
          -1.3941983885214801,
          0.409517162314868,
          0.31743795887216947,
          -0.1738585088517065,
          1.0571586290988335,
          0.22222857212629238,
          0.4237051899004442,
          0.8817814321900838,
          -0.9945117189097893,
          0.609288713378068,
          -1.2257490943806924,
          0.04615213537108449,
          -0.0848659535189674,
          -0.7419795644501216,
          -1.8066909616396531,
          -0.23974209506206925,
          1.4501993799905353,
          1.073342810167746,
          0.13755145441258418,
          -0.3104393727987269,
          0.49563843991103945,
          -0.7697431316816101,
          1.0633053005867261,
          -0.14169903118004062,
          -0.14265777722376277,
          -0.6839225466888054,
          0.9104680213199234,
          1.2971032249047207,
          -0.7011824318955198,
          -1.5986857325137882,
          -0.08495920203130981,
          0.2999946955662853,
          0.34963662572100734,
          -0.7047268274905389,
          1.9305763656598314,
          -0.35904459916833176,
          -1.465147485068314,
          -0.5374034024718863,
          0.5007235303428342,
          0.9592497249996453,
          0.468687366985324,
          -0.39259115256891614,
          -2.1800411944205154,
          -1.0064088646940648,
          -0.29041651428032966,
          0.7388927602477078,
          -3.710326106474891,
          2.1187589672232594,
          0.30162533896878263,
          -0.8720118972663534,
          -1.6590026203861716,
          -1.1090949649380255,
          -0.06183130292129761,
          0.37017693546974145,
          0.6156971033143431,
          -0.5893997136482556,
          0.03148720687477286,
          0.362851143311647,
          0.7851032925490155,
          -0.10274326611110957,
          -0.7700967825748634,
          -0.0941796128439429,
          -0.8631722694399285,
          -0.5119535136330179,
          -0.48078019166296126,
          -1.029605559243594,
          -1.5042430420415336,
          0.5158157928775244,
          -0.5420072374369286,
          -0.7948471452010908,
          -0.36869055662136463,
          0.7132943112944887,
          -1.3792156308894425,
          -0.9217650652029417,
          -0.13835484734774714,
          -0.8583622414714944,
          0.7429818290509952
         ]
        },
        {
         "histfunc": "count",
         "histnorm": "",
         "marker": {
          "color": "rgba(253, 174, 97, 1.0)",
          "line": {
           "color": "#4D5663",
           "width": 1.3
          }
         },
         "name": "B",
         "opacity": 0.8,
         "orientation": "v",
         "type": "histogram",
         "x": [
          -0.7571651906745785,
          -1.1556692933233748,
          1.7806297444554822,
          0.4578599448036818,
          1.3309205784351237,
          0.8239282422962768,
          -1.6848863051524432,
          -0.7541222351356808,
          0.3579900278059774,
          -0.6973499798885667,
          -1.1185123874430996,
          -0.2994648817501223,
          0.06704295585652872,
          0.02035832821945884,
          -1.3294390657182,
          1.022252936447132,
          1.0053336991661836,
          0.07190096462962152,
          -0.9755733581483298,
          1.4321795955170138,
          0.7682701841913601,
          1.4106140993914187,
          0.8842862535844305,
          -0.47573009331610966,
          1.3925150436772173,
          1.5229403142636067,
          0.4979127015679674,
          -0.22798055804358228,
          -0.0015201187562104794,
          -0.7495407346801771,
          1.328528954537974,
          -0.2435124822982681,
          1.9527621822822765,
          1.9676936762797141,
          0.6930920592087606,
          -1.2047070952737269,
          -0.23371188951046254,
          0.0904489820968438,
          -0.1922827287818314,
          -0.09443850073079627,
          0.35411209910976243,
          -0.7378673061324998,
          -1.500182599220915,
          0.027248475993117298,
          -1.5928417705059106,
          -0.270816497865613,
          -0.5085227360674233,
          -0.3417589089128278,
          -0.6571341304736517,
          1.6035827297495748,
          -0.3095623753122842,
          0.11219869134530197,
          -0.1270892021909148,
          0.532977431473964,
          -1.3464165418222898,
          1.1316424758934114,
          -0.7622335583741608,
          -0.24702200690165985,
          -0.4630147906934118,
          -0.36319885697730925,
          -1.4496796124020117,
          0.9489037775907716,
          -1.0559602914410788,
          -0.40517571814914105,
          -0.9460764335874674,
          0.07137266324652135,
          0.44539589417145947,
          -0.7411187275501535,
          -0.30809178688149913,
          0.6771270266525428,
          -2.0070739280271974,
          -0.40191263907329716,
          0.2462375338243192,
          -0.7361069754945546,
          0.2450920395430285,
          -0.10131033533366482,
          -0.7939623166404947,
          0.26092941113513224,
          -0.04144594794792293,
          -1.465015360378068,
          -0.40845640726951,
          1.540098306745973,
          -1.8807183485864425,
          0.26192533874844304,
          0.43606184773113804,
          -0.6976882584015038,
          -0.33883690793114757,
          0.5501987049405354,
          -0.17977156442569758,
          0.09407305437372032,
          0.3905632022559406,
          -0.679164724948543,
          0.7852670833079327,
          0.5878197275238274,
          -1.2513417011321166,
          0.9602883150342724,
          1.3460439652971705,
          -0.14988934526054964,
          -0.34372152424350455,
          0.7834210604939421
         ]
        },
        {
         "histfunc": "count",
         "histnorm": "",
         "marker": {
          "color": "rgba(171, 217, 233, 1.0)",
          "line": {
           "color": "#4D5663",
           "width": 1.3
          }
         },
         "name": "C",
         "opacity": 0.8,
         "orientation": "v",
         "type": "histogram",
         "x": [
          0.8144031091441553,
          0.7767619217029104,
          -0.4764861573350728,
          -1.7226282800430874,
          0.042954129507712116,
          -0.3461675845414054,
          -0.7093891075748427,
          0.6669058031587073,
          0.035977966037093044,
          0.773764364205727,
          -0.7624084615721775,
          -1.3352148366311936,
          -0.3488280692797366,
          0.3764584596388346,
          0.9290030851987335,
          2.570512448929575,
          -0.1730088984696346,
          -0.8365732469476568,
          0.8572894798512208,
          -1.7956260874110428,
          0.12945968581180442,
          0.917147643605632,
          -1.0687848267009672,
          0.6108188839965774,
          2.3923131085463596,
          -0.24111343565575363,
          1.6239737711767945,
          1.492087772180699,
          -0.3166835221387118,
          0.21391682523433128,
          1.3431401414834065,
          -0.33658330930052444,
          -0.06040031829111864,
          0.8575727193535894,
          0.8456303236478259,
          0.5873179710868004,
          -0.5153380003082056,
          0.30125334982497637,
          0.1387728307020779,
          -2.0084040208601572,
          0.43358873563114636,
          0.3336515430236771,
          1.1151060269365956,
          0.7700750890092685,
          -0.5398110452866328,
          -0.2145185903736761,
          -1.3579275829890975,
          -0.6063766417218892,
          -0.9361307838015346,
          -1.0341589706399332,
          -0.7735923539922803,
          0.5942197674390316,
          -0.7974997044360369,
          -0.4852376362427482,
          -0.6047029260240983,
          1.2677565721539823,
          0.7557749349842667,
          0.4005016589869277,
          1.7602240792382622,
          0.32785068102032794,
          -0.6924844983630888,
          0.28986689317335373,
          0.8346389766682714,
          -1.3181947665753797,
          -0.26491627511662014,
          -0.3913940425717173,
          0.24578259997284216,
          -0.20406695835053235,
          -1.4274656154378003,
          -0.06264926304347601,
          -1.2096626431097994,
          -0.4221286398408152,
          -0.1762422629662039,
          -1.5380399030712135,
          0.33860478504924724,
          -0.5629873262671605,
          0.0016011056051914252,
          -0.345031010096941,
          1.2149291432694307,
          0.3775203769110489,
          -0.9953085279115665,
          0.33448933924794494,
          -0.8031246494573918,
          0.13226274769544108,
          0.36886075784824823,
          -1.3706518061137527,
          -0.7190573390676255,
          0.3375015552640827,
          0.12674617471946514,
          0.2855452890026702,
          -0.50132927206113,
          0.5567349826342716,
          -0.025261974047004934,
          -0.0012146459766086911,
          0.678076473554741,
          0.2262779748256039,
          0.7781458207393253,
          0.5809436007719051,
          1.5118791070809483,
          -0.734171047799401
         ]
        },
        {
         "histfunc": "count",
         "histnorm": "",
         "marker": {
          "color": "rgba(44, 123, 182, 1.0)",
          "line": {
           "color": "#4D5663",
           "width": 1.3
          }
         },
         "name": "D",
         "opacity": 0.8,
         "orientation": "v",
         "type": "histogram",
         "x": [
          1.3932533212334495,
          0.2241684371883963,
          0.9750739274414556,
          0.5940652666865319,
          1.2101033243388055,
          0.4448609850652139,
          -0.2658450901566835,
          0.630189739869328,
          0.45172696457443956,
          0.4628868786377445,
          -2.7643136612774355,
          -0.16984537073399386,
          0.1747704809129454,
          -0.5487720891818902,
          0.9127644892428154,
          -0.16297336412093263,
          1.8810303028581048,
          0.10885961489826855,
          0.8293140258192842,
          -0.9736957308055706,
          -0.06722625279633468,
          -0.5714920481354261,
          0.5756138704145813,
          -0.13826268728074936,
          -0.3261600511019883,
          -0.7709141294499515,
          -1.5711268752601908,
          0.003749006012046726,
          0.4321633962530361,
          -0.30228068216206827,
          0.9832046396284396,
          0.37639781108943754,
          -1.0178912866442507,
          -0.1217171208639235,
          -1.7119142286429185,
          1.09556567404667,
          -1.1587629221693567,
          0.6917638459868968,
          0.06054613331850782,
          -0.2756573269474395,
          -0.00906471933142405,
          1.0107867164979152,
          -2.210812992949009,
          -1.8885447332496859,
          0.2144885066184908,
          0.32651362922457156,
          -0.2368041802315175,
          0.6588066394885467,
          1.495762187666791,
          1.7118026044219314,
          -0.693560211520616,
          -0.5742587471362914,
          -0.47711502709919046,
          -0.21067912239226097,
          -0.08793123477124042,
          -1.9587264157548534,
          0.19264765108253026,
          1.382955525139188,
          0.3515646814534139,
          0.4613935114459003,
          0.16813161076923622,
          -0.6922388637613162,
          -0.09636032777922349,
          1.3074300912687304,
          0.5915356227600267,
          -0.576926181705004,
          -0.09846807905122404,
          -0.4908966197585694,
          -0.39270830024857306,
          1.2569680324133468,
          0.8737042352745313,
          0.4384351029698666,
          -0.38975732942115365,
          0.250533313608815,
          -0.7064115862357414,
          1.1872554736643324,
          0.8684234618402348,
          1.837419198543538,
          0.3455750124730475,
          -0.8431045456509281,
          0.2504725540093318,
          -0.3641331342287776,
          -0.1786119379181722,
          1.9131851841668437,
          -0.6744099032527255,
          -1.0173693879993573,
          -1.2564859236649464,
          -0.014319618356981197,
          0.4248904951872451,
          -0.5306552555381103,
          -0.7367035266810666,
          0.5831548802400632,
          -1.6756500385628834,
          -0.4093871128858697,
          1.0745448254148906,
          -1.521323754786965,
          -0.6709081766186101,
          -0.6535283479195353,
          0.857675773196685,
          -0.7985601870201094
         ]
        }
       ],
       "layout": {
        "barmode": "overlay",
        "legend": {
         "bgcolor": "#F5F6F9",
         "font": {
          "color": "#4D5663"
         }
        },
        "paper_bgcolor": "#F5F6F9",
        "plot_bgcolor": "#F5F6F9",
        "template": {
         "data": {
          "bar": [
           {
            "error_x": {
             "color": "#2a3f5f"
            },
            "error_y": {
             "color": "#2a3f5f"
            },
            "marker": {
             "line": {
              "color": "#E5ECF6",
              "width": 0.5
             }
            },
            "type": "bar"
           }
          ],
          "barpolar": [
           {
            "marker": {
             "line": {
              "color": "#E5ECF6",
              "width": 0.5
             }
            },
            "type": "barpolar"
           }
          ],
          "carpet": [
           {
            "aaxis": {
             "endlinecolor": "#2a3f5f",
             "gridcolor": "white",
             "linecolor": "white",
             "minorgridcolor": "white",
             "startlinecolor": "#2a3f5f"
            },
            "baxis": {
             "endlinecolor": "#2a3f5f",
             "gridcolor": "white",
             "linecolor": "white",
             "minorgridcolor": "white",
             "startlinecolor": "#2a3f5f"
            },
            "type": "carpet"
           }
          ],
          "choropleth": [
           {
            "colorbar": {
             "outlinewidth": 0,
             "ticks": ""
            },
            "type": "choropleth"
           }
          ],
          "contour": [
           {
            "colorbar": {
             "outlinewidth": 0,
             "ticks": ""
            },
            "colorscale": [
             [
              0,
              "#0d0887"
             ],
             [
              0.1111111111111111,
              "#46039f"
             ],
             [
              0.2222222222222222,
              "#7201a8"
             ],
             [
              0.3333333333333333,
              "#9c179e"
             ],
             [
              0.4444444444444444,
              "#bd3786"
             ],
             [
              0.5555555555555556,
              "#d8576b"
             ],
             [
              0.6666666666666666,
              "#ed7953"
             ],
             [
              0.7777777777777778,
              "#fb9f3a"
             ],
             [
              0.8888888888888888,
              "#fdca26"
             ],
             [
              1,
              "#f0f921"
             ]
            ],
            "type": "contour"
           }
          ],
          "contourcarpet": [
           {
            "colorbar": {
             "outlinewidth": 0,
             "ticks": ""
            },
            "type": "contourcarpet"
           }
          ],
          "heatmap": [
           {
            "colorbar": {
             "outlinewidth": 0,
             "ticks": ""
            },
            "colorscale": [
             [
              0,
              "#0d0887"
             ],
             [
              0.1111111111111111,
              "#46039f"
             ],
             [
              0.2222222222222222,
              "#7201a8"
             ],
             [
              0.3333333333333333,
              "#9c179e"
             ],
             [
              0.4444444444444444,
              "#bd3786"
             ],
             [
              0.5555555555555556,
              "#d8576b"
             ],
             [
              0.6666666666666666,
              "#ed7953"
             ],
             [
              0.7777777777777778,
              "#fb9f3a"
             ],
             [
              0.8888888888888888,
              "#fdca26"
             ],
             [
              1,
              "#f0f921"
             ]
            ],
            "type": "heatmap"
           }
          ],
          "heatmapgl": [
           {
            "colorbar": {
             "outlinewidth": 0,
             "ticks": ""
            },
            "colorscale": [
             [
              0,
              "#0d0887"
             ],
             [
              0.1111111111111111,
              "#46039f"
             ],
             [
              0.2222222222222222,
              "#7201a8"
             ],
             [
              0.3333333333333333,
              "#9c179e"
             ],
             [
              0.4444444444444444,
              "#bd3786"
             ],
             [
              0.5555555555555556,
              "#d8576b"
             ],
             [
              0.6666666666666666,
              "#ed7953"
             ],
             [
              0.7777777777777778,
              "#fb9f3a"
             ],
             [
              0.8888888888888888,
              "#fdca26"
             ],
             [
              1,
              "#f0f921"
             ]
            ],
            "type": "heatmapgl"
           }
          ],
          "histogram": [
           {
            "marker": {
             "colorbar": {
              "outlinewidth": 0,
              "ticks": ""
             }
            },
            "type": "histogram"
           }
          ],
          "histogram2d": [
           {
            "colorbar": {
             "outlinewidth": 0,
             "ticks": ""
            },
            "colorscale": [
             [
              0,
              "#0d0887"
             ],
             [
              0.1111111111111111,
              "#46039f"
             ],
             [
              0.2222222222222222,
              "#7201a8"
             ],
             [
              0.3333333333333333,
              "#9c179e"
             ],
             [
              0.4444444444444444,
              "#bd3786"
             ],
             [
              0.5555555555555556,
              "#d8576b"
             ],
             [
              0.6666666666666666,
              "#ed7953"
             ],
             [
              0.7777777777777778,
              "#fb9f3a"
             ],
             [
              0.8888888888888888,
              "#fdca26"
             ],
             [
              1,
              "#f0f921"
             ]
            ],
            "type": "histogram2d"
           }
          ],
          "histogram2dcontour": [
           {
            "colorbar": {
             "outlinewidth": 0,
             "ticks": ""
            },
            "colorscale": [
             [
              0,
              "#0d0887"
             ],
             [
              0.1111111111111111,
              "#46039f"
             ],
             [
              0.2222222222222222,
              "#7201a8"
             ],
             [
              0.3333333333333333,
              "#9c179e"
             ],
             [
              0.4444444444444444,
              "#bd3786"
             ],
             [
              0.5555555555555556,
              "#d8576b"
             ],
             [
              0.6666666666666666,
              "#ed7953"
             ],
             [
              0.7777777777777778,
              "#fb9f3a"
             ],
             [
              0.8888888888888888,
              "#fdca26"
             ],
             [
              1,
              "#f0f921"
             ]
            ],
            "type": "histogram2dcontour"
           }
          ],
          "mesh3d": [
           {
            "colorbar": {
             "outlinewidth": 0,
             "ticks": ""
            },
            "type": "mesh3d"
           }
          ],
          "parcoords": [
           {
            "line": {
             "colorbar": {
              "outlinewidth": 0,
              "ticks": ""
             }
            },
            "type": "parcoords"
           }
          ],
          "pie": [
           {
            "automargin": true,
            "type": "pie"
           }
          ],
          "scatter": [
           {
            "marker": {
             "colorbar": {
              "outlinewidth": 0,
              "ticks": ""
             }
            },
            "type": "scatter"
           }
          ],
          "scatter3d": [
           {
            "line": {
             "colorbar": {
              "outlinewidth": 0,
              "ticks": ""
             }
            },
            "marker": {
             "colorbar": {
              "outlinewidth": 0,
              "ticks": ""
             }
            },
            "type": "scatter3d"
           }
          ],
          "scattercarpet": [
           {
            "marker": {
             "colorbar": {
              "outlinewidth": 0,
              "ticks": ""
             }
            },
            "type": "scattercarpet"
           }
          ],
          "scattergeo": [
           {
            "marker": {
             "colorbar": {
              "outlinewidth": 0,
              "ticks": ""
             }
            },
            "type": "scattergeo"
           }
          ],
          "scattergl": [
           {
            "marker": {
             "colorbar": {
              "outlinewidth": 0,
              "ticks": ""
             }
            },
            "type": "scattergl"
           }
          ],
          "scattermapbox": [
           {
            "marker": {
             "colorbar": {
              "outlinewidth": 0,
              "ticks": ""
             }
            },
            "type": "scattermapbox"
           }
          ],
          "scatterpolar": [
           {
            "marker": {
             "colorbar": {
              "outlinewidth": 0,
              "ticks": ""
             }
            },
            "type": "scatterpolar"
           }
          ],
          "scatterpolargl": [
           {
            "marker": {
             "colorbar": {
              "outlinewidth": 0,
              "ticks": ""
             }
            },
            "type": "scatterpolargl"
           }
          ],
          "scatterternary": [
           {
            "marker": {
             "colorbar": {
              "outlinewidth": 0,
              "ticks": ""
             }
            },
            "type": "scatterternary"
           }
          ],
          "surface": [
           {
            "colorbar": {
             "outlinewidth": 0,
             "ticks": ""
            },
            "colorscale": [
             [
              0,
              "#0d0887"
             ],
             [
              0.1111111111111111,
              "#46039f"
             ],
             [
              0.2222222222222222,
              "#7201a8"
             ],
             [
              0.3333333333333333,
              "#9c179e"
             ],
             [
              0.4444444444444444,
              "#bd3786"
             ],
             [
              0.5555555555555556,
              "#d8576b"
             ],
             [
              0.6666666666666666,
              "#ed7953"
             ],
             [
              0.7777777777777778,
              "#fb9f3a"
             ],
             [
              0.8888888888888888,
              "#fdca26"
             ],
             [
              1,
              "#f0f921"
             ]
            ],
            "type": "surface"
           }
          ],
          "table": [
           {
            "cells": {
             "fill": {
              "color": "#EBF0F8"
             },
             "line": {
              "color": "white"
             }
            },
            "header": {
             "fill": {
              "color": "#C8D4E3"
             },
             "line": {
              "color": "white"
             }
            },
            "type": "table"
           }
          ]
         },
         "layout": {
          "annotationdefaults": {
           "arrowcolor": "#2a3f5f",
           "arrowhead": 0,
           "arrowwidth": 1
          },
          "coloraxis": {
           "colorbar": {
            "outlinewidth": 0,
            "ticks": ""
           }
          },
          "colorscale": {
           "diverging": [
            [
             0,
             "#8e0152"
            ],
            [
             0.1,
             "#c51b7d"
            ],
            [
             0.2,
             "#de77ae"
            ],
            [
             0.3,
             "#f1b6da"
            ],
            [
             0.4,
             "#fde0ef"
            ],
            [
             0.5,
             "#f7f7f7"
            ],
            [
             0.6,
             "#e6f5d0"
            ],
            [
             0.7,
             "#b8e186"
            ],
            [
             0.8,
             "#7fbc41"
            ],
            [
             0.9,
             "#4d9221"
            ],
            [
             1,
             "#276419"
            ]
           ],
           "sequential": [
            [
             0,
             "#0d0887"
            ],
            [
             0.1111111111111111,
             "#46039f"
            ],
            [
             0.2222222222222222,
             "#7201a8"
            ],
            [
             0.3333333333333333,
             "#9c179e"
            ],
            [
             0.4444444444444444,
             "#bd3786"
            ],
            [
             0.5555555555555556,
             "#d8576b"
            ],
            [
             0.6666666666666666,
             "#ed7953"
            ],
            [
             0.7777777777777778,
             "#fb9f3a"
            ],
            [
             0.8888888888888888,
             "#fdca26"
            ],
            [
             1,
             "#f0f921"
            ]
           ],
           "sequentialminus": [
            [
             0,
             "#0d0887"
            ],
            [
             0.1111111111111111,
             "#46039f"
            ],
            [
             0.2222222222222222,
             "#7201a8"
            ],
            [
             0.3333333333333333,
             "#9c179e"
            ],
            [
             0.4444444444444444,
             "#bd3786"
            ],
            [
             0.5555555555555556,
             "#d8576b"
            ],
            [
             0.6666666666666666,
             "#ed7953"
            ],
            [
             0.7777777777777778,
             "#fb9f3a"
            ],
            [
             0.8888888888888888,
             "#fdca26"
            ],
            [
             1,
             "#f0f921"
            ]
           ]
          },
          "colorway": [
           "#636efa",
           "#EF553B",
           "#00cc96",
           "#ab63fa",
           "#FFA15A",
           "#19d3f3",
           "#FF6692",
           "#B6E880",
           "#FF97FF",
           "#FECB52"
          ],
          "font": {
           "color": "#2a3f5f"
          },
          "geo": {
           "bgcolor": "white",
           "lakecolor": "white",
           "landcolor": "#E5ECF6",
           "showlakes": true,
           "showland": true,
           "subunitcolor": "white"
          },
          "hoverlabel": {
           "align": "left"
          },
          "hovermode": "closest",
          "mapbox": {
           "style": "light"
          },
          "paper_bgcolor": "white",
          "plot_bgcolor": "#E5ECF6",
          "polar": {
           "angularaxis": {
            "gridcolor": "white",
            "linecolor": "white",
            "ticks": ""
           },
           "bgcolor": "#E5ECF6",
           "radialaxis": {
            "gridcolor": "white",
            "linecolor": "white",
            "ticks": ""
           }
          },
          "scene": {
           "xaxis": {
            "backgroundcolor": "#E5ECF6",
            "gridcolor": "white",
            "gridwidth": 2,
            "linecolor": "white",
            "showbackground": true,
            "ticks": "",
            "zerolinecolor": "white"
           },
           "yaxis": {
            "backgroundcolor": "#E5ECF6",
            "gridcolor": "white",
            "gridwidth": 2,
            "linecolor": "white",
            "showbackground": true,
            "ticks": "",
            "zerolinecolor": "white"
           },
           "zaxis": {
            "backgroundcolor": "#E5ECF6",
            "gridcolor": "white",
            "gridwidth": 2,
            "linecolor": "white",
            "showbackground": true,
            "ticks": "",
            "zerolinecolor": "white"
           }
          },
          "shapedefaults": {
           "line": {
            "color": "#2a3f5f"
           }
          },
          "ternary": {
           "aaxis": {
            "gridcolor": "white",
            "linecolor": "white",
            "ticks": ""
           },
           "baxis": {
            "gridcolor": "white",
            "linecolor": "white",
            "ticks": ""
           },
           "bgcolor": "#E5ECF6",
           "caxis": {
            "gridcolor": "white",
            "linecolor": "white",
            "ticks": ""
           }
          },
          "title": {
           "x": 0.05
          },
          "xaxis": {
           "automargin": true,
           "gridcolor": "white",
           "linecolor": "white",
           "ticks": "",
           "title": {
            "standoff": 15
           },
           "zerolinecolor": "white",
           "zerolinewidth": 2
          },
          "yaxis": {
           "automargin": true,
           "gridcolor": "white",
           "linecolor": "white",
           "ticks": "",
           "title": {
            "standoff": 15
           },
           "zerolinecolor": "white",
           "zerolinewidth": 2
          }
         }
        },
        "title": {
         "font": {
          "color": "#4D5663"
         }
        },
        "xaxis": {
         "gridcolor": "#E1E5ED",
         "showgrid": true,
         "tickfont": {
          "color": "#4D5663"
         },
         "title": {
          "font": {
           "color": "#4D5663"
          },
          "text": ""
         },
         "zerolinecolor": "#E1E5ED"
        },
        "yaxis": {
         "gridcolor": "#E1E5ED",
         "showgrid": true,
         "tickfont": {
          "color": "#4D5663"
         },
         "title": {
          "font": {
           "color": "#4D5663"
          },
          "text": ""
         },
         "zerolinecolor": "#E1E5ED"
        }
       }
      },
      "text/html": [
       "<div>\n",
       "        \n",
       "        \n",
       "            <div id=\"0b9fee5a-67d0-450d-af44-f99ef69223c1\" class=\"plotly-graph-div\" style=\"height:525px; width:100%;\"></div>\n",
       "            <script type=\"text/javascript\">\n",
       "                require([\"plotly\"], function(Plotly) {\n",
       "                    window.PLOTLYENV=window.PLOTLYENV || {};\n",
       "                    window.PLOTLYENV.BASE_URL='https://plot.ly';\n",
       "                    \n",
       "                if (document.getElementById(\"0b9fee5a-67d0-450d-af44-f99ef69223c1\")) {\n",
       "                    Plotly.newPlot(\n",
       "                        '0b9fee5a-67d0-450d-af44-f99ef69223c1',\n",
       "                        [{\"histfunc\": \"count\", \"histnorm\": \"\", \"marker\": {\"color\": \"rgba(215, 25, 28, 1.0)\", \"line\": {\"color\": \"#4D5663\", \"width\": 1.3}}, \"name\": \"A\", \"opacity\": 0.8, \"orientation\": \"v\", \"type\": \"histogram\", \"x\": [-1.4496360721844352, 0.8873978843611828, -0.0390005807228342, 0.030354177296635507, -0.3777079685985477, 0.7588829084593641, 1.734314215168449, -1.0900571341974001, -0.26212755041413577, 0.19364864806034585, -0.9946781453834873, -0.5471429181687236, 1.1732797419683796, 1.235234107700757, -0.26710267063565957, -0.7268934769880704, -0.17906255966251938, 0.5201489560628967, -1.6962464206752095, -0.7905996353292317, 1.0473869660555215, 0.04802206082745249, 0.20334625486219532, -1.3941983885214801, 0.409517162314868, 0.31743795887216947, -0.1738585088517065, 1.0571586290988335, 0.22222857212629238, 0.4237051899004442, 0.8817814321900838, -0.9945117189097893, 0.609288713378068, -1.2257490943806924, 0.04615213537108449, -0.0848659535189674, -0.7419795644501216, -1.8066909616396531, -0.23974209506206925, 1.4501993799905353, 1.073342810167746, 0.13755145441258418, -0.3104393727987269, 0.49563843991103945, -0.7697431316816101, 1.0633053005867261, -0.14169903118004062, -0.14265777722376277, -0.6839225466888054, 0.9104680213199234, 1.2971032249047207, -0.7011824318955198, -1.5986857325137882, -0.08495920203130981, 0.2999946955662853, 0.34963662572100734, -0.7047268274905389, 1.9305763656598314, -0.35904459916833176, -1.465147485068314, -0.5374034024718863, 0.5007235303428342, 0.9592497249996453, 0.468687366985324, -0.39259115256891614, -2.1800411944205154, -1.0064088646940648, -0.29041651428032966, 0.7388927602477078, -3.710326106474891, 2.1187589672232594, 0.30162533896878263, -0.8720118972663534, -1.6590026203861716, -1.1090949649380255, -0.06183130292129761, 0.37017693546974145, 0.6156971033143431, -0.5893997136482556, 0.03148720687477286, 0.362851143311647, 0.7851032925490155, -0.10274326611110957, -0.7700967825748634, -0.0941796128439429, -0.8631722694399285, -0.5119535136330179, -0.48078019166296126, -1.029605559243594, -1.5042430420415336, 0.5158157928775244, -0.5420072374369286, -0.7948471452010908, -0.36869055662136463, 0.7132943112944887, -1.3792156308894425, -0.9217650652029417, -0.13835484734774714, -0.8583622414714944, 0.7429818290509952]}, {\"histfunc\": \"count\", \"histnorm\": \"\", \"marker\": {\"color\": \"rgba(253, 174, 97, 1.0)\", \"line\": {\"color\": \"#4D5663\", \"width\": 1.3}}, \"name\": \"B\", \"opacity\": 0.8, \"orientation\": \"v\", \"type\": \"histogram\", \"x\": [-0.7571651906745785, -1.1556692933233748, 1.7806297444554822, 0.4578599448036818, 1.3309205784351237, 0.8239282422962768, -1.6848863051524432, -0.7541222351356808, 0.3579900278059774, -0.6973499798885667, -1.1185123874430996, -0.2994648817501223, 0.06704295585652872, 0.02035832821945884, -1.3294390657182, 1.022252936447132, 1.0053336991661836, 0.07190096462962152, -0.9755733581483298, 1.4321795955170138, 0.7682701841913601, 1.4106140993914187, 0.8842862535844305, -0.47573009331610966, 1.3925150436772173, 1.5229403142636067, 0.4979127015679674, -0.22798055804358228, -0.0015201187562104794, -0.7495407346801771, 1.328528954537974, -0.2435124822982681, 1.9527621822822765, 1.9676936762797141, 0.6930920592087606, -1.2047070952737269, -0.23371188951046254, 0.0904489820968438, -0.1922827287818314, -0.09443850073079627, 0.35411209910976243, -0.7378673061324998, -1.500182599220915, 0.027248475993117298, -1.5928417705059106, -0.270816497865613, -0.5085227360674233, -0.3417589089128278, -0.6571341304736517, 1.6035827297495748, -0.3095623753122842, 0.11219869134530197, -0.1270892021909148, 0.532977431473964, -1.3464165418222898, 1.1316424758934114, -0.7622335583741608, -0.24702200690165985, -0.4630147906934118, -0.36319885697730925, -1.4496796124020117, 0.9489037775907716, -1.0559602914410788, -0.40517571814914105, -0.9460764335874674, 0.07137266324652135, 0.44539589417145947, -0.7411187275501535, -0.30809178688149913, 0.6771270266525428, -2.0070739280271974, -0.40191263907329716, 0.2462375338243192, -0.7361069754945546, 0.2450920395430285, -0.10131033533366482, -0.7939623166404947, 0.26092941113513224, -0.04144594794792293, -1.465015360378068, -0.40845640726951, 1.540098306745973, -1.8807183485864425, 0.26192533874844304, 0.43606184773113804, -0.6976882584015038, -0.33883690793114757, 0.5501987049405354, -0.17977156442569758, 0.09407305437372032, 0.3905632022559406, -0.679164724948543, 0.7852670833079327, 0.5878197275238274, -1.2513417011321166, 0.9602883150342724, 1.3460439652971705, -0.14988934526054964, -0.34372152424350455, 0.7834210604939421]}, {\"histfunc\": \"count\", \"histnorm\": \"\", \"marker\": {\"color\": \"rgba(171, 217, 233, 1.0)\", \"line\": {\"color\": \"#4D5663\", \"width\": 1.3}}, \"name\": \"C\", \"opacity\": 0.8, \"orientation\": \"v\", \"type\": \"histogram\", \"x\": [0.8144031091441553, 0.7767619217029104, -0.4764861573350728, -1.7226282800430874, 0.042954129507712116, -0.3461675845414054, -0.7093891075748427, 0.6669058031587073, 0.035977966037093044, 0.773764364205727, -0.7624084615721775, -1.3352148366311936, -0.3488280692797366, 0.3764584596388346, 0.9290030851987335, 2.570512448929575, -0.1730088984696346, -0.8365732469476568, 0.8572894798512208, -1.7956260874110428, 0.12945968581180442, 0.917147643605632, -1.0687848267009672, 0.6108188839965774, 2.3923131085463596, -0.24111343565575363, 1.6239737711767945, 1.492087772180699, -0.3166835221387118, 0.21391682523433128, 1.3431401414834065, -0.33658330930052444, -0.06040031829111864, 0.8575727193535894, 0.8456303236478259, 0.5873179710868004, -0.5153380003082056, 0.30125334982497637, 0.1387728307020779, -2.0084040208601572, 0.43358873563114636, 0.3336515430236771, 1.1151060269365956, 0.7700750890092685, -0.5398110452866328, -0.2145185903736761, -1.3579275829890975, -0.6063766417218892, -0.9361307838015346, -1.0341589706399332, -0.7735923539922803, 0.5942197674390316, -0.7974997044360369, -0.4852376362427482, -0.6047029260240983, 1.2677565721539823, 0.7557749349842667, 0.4005016589869277, 1.7602240792382622, 0.32785068102032794, -0.6924844983630888, 0.28986689317335373, 0.8346389766682714, -1.3181947665753797, -0.26491627511662014, -0.3913940425717173, 0.24578259997284216, -0.20406695835053235, -1.4274656154378003, -0.06264926304347601, -1.2096626431097994, -0.4221286398408152, -0.1762422629662039, -1.5380399030712135, 0.33860478504924724, -0.5629873262671605, 0.0016011056051914252, -0.345031010096941, 1.2149291432694307, 0.3775203769110489, -0.9953085279115665, 0.33448933924794494, -0.8031246494573918, 0.13226274769544108, 0.36886075784824823, -1.3706518061137527, -0.7190573390676255, 0.3375015552640827, 0.12674617471946514, 0.2855452890026702, -0.50132927206113, 0.5567349826342716, -0.025261974047004934, -0.0012146459766086911, 0.678076473554741, 0.2262779748256039, 0.7781458207393253, 0.5809436007719051, 1.5118791070809483, -0.734171047799401]}, {\"histfunc\": \"count\", \"histnorm\": \"\", \"marker\": {\"color\": \"rgba(44, 123, 182, 1.0)\", \"line\": {\"color\": \"#4D5663\", \"width\": 1.3}}, \"name\": \"D\", \"opacity\": 0.8, \"orientation\": \"v\", \"type\": \"histogram\", \"x\": [1.3932533212334495, 0.2241684371883963, 0.9750739274414556, 0.5940652666865319, 1.2101033243388055, 0.4448609850652139, -0.2658450901566835, 0.630189739869328, 0.45172696457443956, 0.4628868786377445, -2.7643136612774355, -0.16984537073399386, 0.1747704809129454, -0.5487720891818902, 0.9127644892428154, -0.16297336412093263, 1.8810303028581048, 0.10885961489826855, 0.8293140258192842, -0.9736957308055706, -0.06722625279633468, -0.5714920481354261, 0.5756138704145813, -0.13826268728074936, -0.3261600511019883, -0.7709141294499515, -1.5711268752601908, 0.003749006012046726, 0.4321633962530361, -0.30228068216206827, 0.9832046396284396, 0.37639781108943754, -1.0178912866442507, -0.1217171208639235, -1.7119142286429185, 1.09556567404667, -1.1587629221693567, 0.6917638459868968, 0.06054613331850782, -0.2756573269474395, -0.00906471933142405, 1.0107867164979152, -2.210812992949009, -1.8885447332496859, 0.2144885066184908, 0.32651362922457156, -0.2368041802315175, 0.6588066394885467, 1.495762187666791, 1.7118026044219314, -0.693560211520616, -0.5742587471362914, -0.47711502709919046, -0.21067912239226097, -0.08793123477124042, -1.9587264157548534, 0.19264765108253026, 1.382955525139188, 0.3515646814534139, 0.4613935114459003, 0.16813161076923622, -0.6922388637613162, -0.09636032777922349, 1.3074300912687304, 0.5915356227600267, -0.576926181705004, -0.09846807905122404, -0.4908966197585694, -0.39270830024857306, 1.2569680324133468, 0.8737042352745313, 0.4384351029698666, -0.38975732942115365, 0.250533313608815, -0.7064115862357414, 1.1872554736643324, 0.8684234618402348, 1.837419198543538, 0.3455750124730475, -0.8431045456509281, 0.2504725540093318, -0.3641331342287776, -0.1786119379181722, 1.9131851841668437, -0.6744099032527255, -1.0173693879993573, -1.2564859236649464, -0.014319618356981197, 0.4248904951872451, -0.5306552555381103, -0.7367035266810666, 0.5831548802400632, -1.6756500385628834, -0.4093871128858697, 1.0745448254148906, -1.521323754786965, -0.6709081766186101, -0.6535283479195353, 0.857675773196685, -0.7985601870201094]}],\n",
       "                        {\"barmode\": \"overlay\", \"legend\": {\"bgcolor\": \"#F5F6F9\", \"font\": {\"color\": \"#4D5663\"}}, \"paper_bgcolor\": \"#F5F6F9\", \"plot_bgcolor\": \"#F5F6F9\", \"template\": {\"data\": {\"bar\": [{\"error_x\": {\"color\": \"#2a3f5f\"}, \"error_y\": {\"color\": \"#2a3f5f\"}, \"marker\": {\"line\": {\"color\": \"#E5ECF6\", \"width\": 0.5}}, \"type\": \"bar\"}], \"barpolar\": [{\"marker\": {\"line\": {\"color\": \"#E5ECF6\", \"width\": 0.5}}, \"type\": \"barpolar\"}], \"carpet\": [{\"aaxis\": {\"endlinecolor\": \"#2a3f5f\", \"gridcolor\": \"white\", \"linecolor\": \"white\", \"minorgridcolor\": \"white\", \"startlinecolor\": \"#2a3f5f\"}, \"baxis\": {\"endlinecolor\": \"#2a3f5f\", \"gridcolor\": \"white\", \"linecolor\": \"white\", \"minorgridcolor\": \"white\", \"startlinecolor\": \"#2a3f5f\"}, \"type\": \"carpet\"}], \"choropleth\": [{\"colorbar\": {\"outlinewidth\": 0, \"ticks\": \"\"}, \"type\": \"choropleth\"}], \"contour\": [{\"colorbar\": {\"outlinewidth\": 0, \"ticks\": \"\"}, \"colorscale\": [[0.0, \"#0d0887\"], [0.1111111111111111, \"#46039f\"], [0.2222222222222222, \"#7201a8\"], [0.3333333333333333, \"#9c179e\"], [0.4444444444444444, \"#bd3786\"], [0.5555555555555556, \"#d8576b\"], [0.6666666666666666, \"#ed7953\"], [0.7777777777777778, \"#fb9f3a\"], [0.8888888888888888, \"#fdca26\"], [1.0, \"#f0f921\"]], \"type\": \"contour\"}], \"contourcarpet\": [{\"colorbar\": {\"outlinewidth\": 0, \"ticks\": \"\"}, \"type\": \"contourcarpet\"}], \"heatmap\": [{\"colorbar\": {\"outlinewidth\": 0, \"ticks\": \"\"}, \"colorscale\": [[0.0, \"#0d0887\"], [0.1111111111111111, \"#46039f\"], [0.2222222222222222, \"#7201a8\"], [0.3333333333333333, \"#9c179e\"], [0.4444444444444444, \"#bd3786\"], [0.5555555555555556, \"#d8576b\"], [0.6666666666666666, \"#ed7953\"], [0.7777777777777778, \"#fb9f3a\"], [0.8888888888888888, \"#fdca26\"], [1.0, \"#f0f921\"]], \"type\": \"heatmap\"}], \"heatmapgl\": [{\"colorbar\": {\"outlinewidth\": 0, \"ticks\": \"\"}, \"colorscale\": [[0.0, \"#0d0887\"], [0.1111111111111111, \"#46039f\"], [0.2222222222222222, \"#7201a8\"], [0.3333333333333333, \"#9c179e\"], [0.4444444444444444, \"#bd3786\"], [0.5555555555555556, \"#d8576b\"], [0.6666666666666666, \"#ed7953\"], [0.7777777777777778, \"#fb9f3a\"], [0.8888888888888888, \"#fdca26\"], [1.0, \"#f0f921\"]], \"type\": \"heatmapgl\"}], \"histogram\": [{\"marker\": {\"colorbar\": {\"outlinewidth\": 0, \"ticks\": \"\"}}, \"type\": \"histogram\"}], \"histogram2d\": [{\"colorbar\": {\"outlinewidth\": 0, \"ticks\": \"\"}, \"colorscale\": [[0.0, \"#0d0887\"], [0.1111111111111111, \"#46039f\"], [0.2222222222222222, \"#7201a8\"], [0.3333333333333333, \"#9c179e\"], [0.4444444444444444, \"#bd3786\"], [0.5555555555555556, \"#d8576b\"], [0.6666666666666666, \"#ed7953\"], [0.7777777777777778, \"#fb9f3a\"], [0.8888888888888888, \"#fdca26\"], [1.0, \"#f0f921\"]], \"type\": \"histogram2d\"}], \"histogram2dcontour\": [{\"colorbar\": {\"outlinewidth\": 0, \"ticks\": \"\"}, \"colorscale\": [[0.0, \"#0d0887\"], [0.1111111111111111, \"#46039f\"], [0.2222222222222222, \"#7201a8\"], [0.3333333333333333, \"#9c179e\"], [0.4444444444444444, \"#bd3786\"], [0.5555555555555556, \"#d8576b\"], [0.6666666666666666, \"#ed7953\"], [0.7777777777777778, \"#fb9f3a\"], [0.8888888888888888, \"#fdca26\"], [1.0, \"#f0f921\"]], \"type\": \"histogram2dcontour\"}], \"mesh3d\": [{\"colorbar\": {\"outlinewidth\": 0, \"ticks\": \"\"}, \"type\": \"mesh3d\"}], \"parcoords\": [{\"line\": {\"colorbar\": {\"outlinewidth\": 0, \"ticks\": \"\"}}, \"type\": \"parcoords\"}], \"pie\": [{\"automargin\": true, \"type\": \"pie\"}], \"scatter\": [{\"marker\": {\"colorbar\": {\"outlinewidth\": 0, \"ticks\": \"\"}}, \"type\": \"scatter\"}], \"scatter3d\": [{\"line\": {\"colorbar\": {\"outlinewidth\": 0, \"ticks\": \"\"}}, \"marker\": {\"colorbar\": {\"outlinewidth\": 0, \"ticks\": \"\"}}, \"type\": \"scatter3d\"}], \"scattercarpet\": [{\"marker\": {\"colorbar\": {\"outlinewidth\": 0, \"ticks\": \"\"}}, \"type\": \"scattercarpet\"}], \"scattergeo\": [{\"marker\": {\"colorbar\": {\"outlinewidth\": 0, \"ticks\": \"\"}}, \"type\": \"scattergeo\"}], \"scattergl\": [{\"marker\": {\"colorbar\": {\"outlinewidth\": 0, \"ticks\": \"\"}}, \"type\": \"scattergl\"}], \"scattermapbox\": [{\"marker\": {\"colorbar\": {\"outlinewidth\": 0, \"ticks\": \"\"}}, \"type\": \"scattermapbox\"}], \"scatterpolar\": [{\"marker\": {\"colorbar\": {\"outlinewidth\": 0, \"ticks\": \"\"}}, \"type\": \"scatterpolar\"}], \"scatterpolargl\": [{\"marker\": {\"colorbar\": {\"outlinewidth\": 0, \"ticks\": \"\"}}, \"type\": \"scatterpolargl\"}], \"scatterternary\": [{\"marker\": {\"colorbar\": {\"outlinewidth\": 0, \"ticks\": \"\"}}, \"type\": \"scatterternary\"}], \"surface\": [{\"colorbar\": {\"outlinewidth\": 0, \"ticks\": \"\"}, \"colorscale\": [[0.0, \"#0d0887\"], [0.1111111111111111, \"#46039f\"], [0.2222222222222222, \"#7201a8\"], [0.3333333333333333, \"#9c179e\"], [0.4444444444444444, \"#bd3786\"], [0.5555555555555556, \"#d8576b\"], [0.6666666666666666, \"#ed7953\"], [0.7777777777777778, \"#fb9f3a\"], [0.8888888888888888, \"#fdca26\"], [1.0, \"#f0f921\"]], \"type\": \"surface\"}], \"table\": [{\"cells\": {\"fill\": {\"color\": \"#EBF0F8\"}, \"line\": {\"color\": \"white\"}}, \"header\": {\"fill\": {\"color\": \"#C8D4E3\"}, \"line\": {\"color\": \"white\"}}, \"type\": \"table\"}]}, \"layout\": {\"annotationdefaults\": {\"arrowcolor\": \"#2a3f5f\", \"arrowhead\": 0, \"arrowwidth\": 1}, \"coloraxis\": {\"colorbar\": {\"outlinewidth\": 0, \"ticks\": \"\"}}, \"colorscale\": {\"diverging\": [[0, \"#8e0152\"], [0.1, \"#c51b7d\"], [0.2, \"#de77ae\"], [0.3, \"#f1b6da\"], [0.4, \"#fde0ef\"], [0.5, \"#f7f7f7\"], [0.6, \"#e6f5d0\"], [0.7, \"#b8e186\"], [0.8, \"#7fbc41\"], [0.9, \"#4d9221\"], [1, \"#276419\"]], \"sequential\": [[0.0, \"#0d0887\"], [0.1111111111111111, \"#46039f\"], [0.2222222222222222, \"#7201a8\"], [0.3333333333333333, \"#9c179e\"], [0.4444444444444444, \"#bd3786\"], [0.5555555555555556, \"#d8576b\"], [0.6666666666666666, \"#ed7953\"], [0.7777777777777778, \"#fb9f3a\"], [0.8888888888888888, \"#fdca26\"], [1.0, \"#f0f921\"]], \"sequentialminus\": [[0.0, \"#0d0887\"], [0.1111111111111111, \"#46039f\"], [0.2222222222222222, \"#7201a8\"], [0.3333333333333333, \"#9c179e\"], [0.4444444444444444, \"#bd3786\"], [0.5555555555555556, \"#d8576b\"], [0.6666666666666666, \"#ed7953\"], [0.7777777777777778, \"#fb9f3a\"], [0.8888888888888888, \"#fdca26\"], [1.0, \"#f0f921\"]]}, \"colorway\": [\"#636efa\", \"#EF553B\", \"#00cc96\", \"#ab63fa\", \"#FFA15A\", \"#19d3f3\", \"#FF6692\", \"#B6E880\", \"#FF97FF\", \"#FECB52\"], \"font\": {\"color\": \"#2a3f5f\"}, \"geo\": {\"bgcolor\": \"white\", \"lakecolor\": \"white\", \"landcolor\": \"#E5ECF6\", \"showlakes\": true, \"showland\": true, \"subunitcolor\": \"white\"}, \"hoverlabel\": {\"align\": \"left\"}, \"hovermode\": \"closest\", \"mapbox\": {\"style\": \"light\"}, \"paper_bgcolor\": \"white\", \"plot_bgcolor\": \"#E5ECF6\", \"polar\": {\"angularaxis\": {\"gridcolor\": \"white\", \"linecolor\": \"white\", \"ticks\": \"\"}, \"bgcolor\": \"#E5ECF6\", \"radialaxis\": {\"gridcolor\": \"white\", \"linecolor\": \"white\", \"ticks\": \"\"}}, \"scene\": {\"xaxis\": {\"backgroundcolor\": \"#E5ECF6\", \"gridcolor\": \"white\", \"gridwidth\": 2, \"linecolor\": \"white\", \"showbackground\": true, \"ticks\": \"\", \"zerolinecolor\": \"white\"}, \"yaxis\": {\"backgroundcolor\": \"#E5ECF6\", \"gridcolor\": \"white\", \"gridwidth\": 2, \"linecolor\": \"white\", \"showbackground\": true, \"ticks\": \"\", \"zerolinecolor\": \"white\"}, \"zaxis\": {\"backgroundcolor\": \"#E5ECF6\", \"gridcolor\": \"white\", \"gridwidth\": 2, \"linecolor\": \"white\", \"showbackground\": true, \"ticks\": \"\", \"zerolinecolor\": \"white\"}}, \"shapedefaults\": {\"line\": {\"color\": \"#2a3f5f\"}}, \"ternary\": {\"aaxis\": {\"gridcolor\": \"white\", \"linecolor\": \"white\", \"ticks\": \"\"}, \"baxis\": {\"gridcolor\": \"white\", \"linecolor\": \"white\", \"ticks\": \"\"}, \"bgcolor\": \"#E5ECF6\", \"caxis\": {\"gridcolor\": \"white\", \"linecolor\": \"white\", \"ticks\": \"\"}}, \"title\": {\"x\": 0.05}, \"xaxis\": {\"automargin\": true, \"gridcolor\": \"white\", \"linecolor\": \"white\", \"ticks\": \"\", \"title\": {\"standoff\": 15}, \"zerolinecolor\": \"white\", \"zerolinewidth\": 2}, \"yaxis\": {\"automargin\": true, \"gridcolor\": \"white\", \"linecolor\": \"white\", \"ticks\": \"\", \"title\": {\"standoff\": 15}, \"zerolinecolor\": \"white\", \"zerolinewidth\": 2}}}, \"title\": {\"font\": {\"color\": \"#4D5663\"}}, \"xaxis\": {\"gridcolor\": \"#E1E5ED\", \"showgrid\": true, \"tickfont\": {\"color\": \"#4D5663\"}, \"title\": {\"font\": {\"color\": \"#4D5663\"}, \"text\": \"\"}, \"zerolinecolor\": \"#E1E5ED\"}, \"yaxis\": {\"gridcolor\": \"#E1E5ED\", \"showgrid\": true, \"tickfont\": {\"color\": \"#4D5663\"}, \"title\": {\"font\": {\"color\": \"#4D5663\"}, \"text\": \"\"}, \"zerolinecolor\": \"#E1E5ED\"}},\n",
       "                        {\"showLink\": true, \"linkText\": \"Export to plot.ly\", \"plotlyServerURL\": \"https://plot.ly\", \"responsive\": true}\n",
       "                    ).then(function(){\n",
       "                            \n",
       "var gd = document.getElementById('0b9fee5a-67d0-450d-af44-f99ef69223c1');\n",
       "var x = new MutationObserver(function (mutations, observer) {{\n",
       "        var display = window.getComputedStyle(gd).display;\n",
       "        if (!display || display === 'none') {{\n",
       "            console.log([gd, 'removed!']);\n",
       "            Plotly.purge(gd);\n",
       "            observer.disconnect();\n",
       "        }}\n",
       "}});\n",
       "\n",
       "// Listen for the removal of the full notebook cells\n",
       "var notebookContainer = gd.closest('#notebook-container');\n",
       "if (notebookContainer) {{\n",
       "    x.observe(notebookContainer, {childList: true});\n",
       "}}\n",
       "\n",
       "// Listen for the clearing of the current output cell\n",
       "var outputEl = gd.closest('.output');\n",
       "if (outputEl) {{\n",
       "    x.observe(outputEl, {childList: true});\n",
       "}}\n",
       "\n",
       "                        })\n",
       "                };\n",
       "                });\n",
       "            </script>\n",
       "        </div>"
      ]
     },
     "metadata": {},
     "output_type": "display_data"
    }
   ],
   "source": [
    "df.iplot(kind='hist',colorscale='rdylbu')"
   ]
  },
  {
   "cell_type": "code",
   "execution_count": 52,
   "metadata": {},
   "outputs": [
    {
     "data": {
      "application/vnd.plotly.v1+json": {
       "config": {
        "linkText": "Export to plot.ly",
        "plotlyServerURL": "https://plot.ly",
        "showLink": true
       },
       "data": [
        {
         "line": {
          "color": "rgba(255, 153, 51, 1.0)",
          "dash": "solid",
          "shape": "linear",
          "width": 1.3
         },
         "mode": "lines",
         "name": "A",
         "text": "",
         "type": "scatter",
         "x": [
          0,
          1,
          2,
          3,
          4,
          5,
          6,
          7,
          8,
          9,
          10,
          11,
          12,
          13,
          14,
          15,
          16,
          17,
          18,
          19,
          20,
          21,
          22,
          23,
          24,
          25,
          26,
          27,
          28,
          29,
          30,
          31,
          32,
          33,
          34,
          35,
          36,
          37,
          38,
          39,
          40,
          41,
          42,
          43,
          44,
          45,
          46,
          47,
          48,
          49,
          50,
          51,
          52,
          53,
          54,
          55,
          56,
          57,
          58,
          59,
          60,
          61,
          62,
          63,
          64,
          65,
          66,
          67,
          68,
          69,
          70,
          71,
          72,
          73,
          74,
          75,
          76,
          77,
          78,
          79,
          80,
          81,
          82,
          83,
          84,
          85,
          86,
          87,
          88,
          89,
          90,
          91,
          92,
          93,
          94,
          95,
          96,
          97,
          98,
          99
         ],
         "y": [
          -1.4496360721844352,
          0.8873978843611828,
          -0.0390005807228342,
          0.030354177296635507,
          -0.3777079685985477,
          0.7588829084593641,
          1.734314215168449,
          -1.0900571341974001,
          -0.26212755041413577,
          0.19364864806034585,
          -0.9946781453834873,
          -0.5471429181687236,
          1.1732797419683796,
          1.235234107700757,
          -0.26710267063565957,
          -0.7268934769880704,
          -0.17906255966251938,
          0.5201489560628967,
          -1.6962464206752095,
          -0.7905996353292317,
          1.0473869660555215,
          0.04802206082745249,
          0.20334625486219532,
          -1.3941983885214801,
          0.409517162314868,
          0.31743795887216947,
          -0.1738585088517065,
          1.0571586290988335,
          0.22222857212629238,
          0.4237051899004442,
          0.8817814321900838,
          -0.9945117189097893,
          0.609288713378068,
          -1.2257490943806924,
          0.04615213537108449,
          -0.0848659535189674,
          -0.7419795644501216,
          -1.8066909616396531,
          -0.23974209506206925,
          1.4501993799905353,
          1.073342810167746,
          0.13755145441258418,
          -0.3104393727987269,
          0.49563843991103945,
          -0.7697431316816101,
          1.0633053005867261,
          -0.14169903118004062,
          -0.14265777722376277,
          -0.6839225466888054,
          0.9104680213199234,
          1.2971032249047207,
          -0.7011824318955198,
          -1.5986857325137882,
          -0.08495920203130981,
          0.2999946955662853,
          0.34963662572100734,
          -0.7047268274905389,
          1.9305763656598314,
          -0.35904459916833176,
          -1.465147485068314,
          -0.5374034024718863,
          0.5007235303428342,
          0.9592497249996453,
          0.468687366985324,
          -0.39259115256891614,
          -2.1800411944205154,
          -1.0064088646940648,
          -0.29041651428032966,
          0.7388927602477078,
          -3.710326106474891,
          2.1187589672232594,
          0.30162533896878263,
          -0.8720118972663534,
          -1.6590026203861716,
          -1.1090949649380255,
          -0.06183130292129761,
          0.37017693546974145,
          0.6156971033143431,
          -0.5893997136482556,
          0.03148720687477286,
          0.362851143311647,
          0.7851032925490155,
          -0.10274326611110957,
          -0.7700967825748634,
          -0.0941796128439429,
          -0.8631722694399285,
          -0.5119535136330179,
          -0.48078019166296126,
          -1.029605559243594,
          -1.5042430420415336,
          0.5158157928775244,
          -0.5420072374369286,
          -0.7948471452010908,
          -0.36869055662136463,
          0.7132943112944887,
          -1.3792156308894425,
          -0.9217650652029417,
          -0.13835484734774714,
          -0.8583622414714944,
          0.7429818290509952
         ]
        },
        {
         "line": {
          "color": "rgba(55, 128, 191, 1.0)",
          "dash": "solid",
          "shape": "linear",
          "width": 1.3
         },
         "mode": "lines",
         "name": "B",
         "text": "",
         "type": "scatter",
         "x": [
          0,
          1,
          2,
          3,
          4,
          5,
          6,
          7,
          8,
          9,
          10,
          11,
          12,
          13,
          14,
          15,
          16,
          17,
          18,
          19,
          20,
          21,
          22,
          23,
          24,
          25,
          26,
          27,
          28,
          29,
          30,
          31,
          32,
          33,
          34,
          35,
          36,
          37,
          38,
          39,
          40,
          41,
          42,
          43,
          44,
          45,
          46,
          47,
          48,
          49,
          50,
          51,
          52,
          53,
          54,
          55,
          56,
          57,
          58,
          59,
          60,
          61,
          62,
          63,
          64,
          65,
          66,
          67,
          68,
          69,
          70,
          71,
          72,
          73,
          74,
          75,
          76,
          77,
          78,
          79,
          80,
          81,
          82,
          83,
          84,
          85,
          86,
          87,
          88,
          89,
          90,
          91,
          92,
          93,
          94,
          95,
          96,
          97,
          98,
          99
         ],
         "y": [
          -0.7571651906745785,
          -1.1556692933233748,
          1.7806297444554822,
          0.4578599448036818,
          1.3309205784351237,
          0.8239282422962768,
          -1.6848863051524432,
          -0.7541222351356808,
          0.3579900278059774,
          -0.6973499798885667,
          -1.1185123874430996,
          -0.2994648817501223,
          0.06704295585652872,
          0.02035832821945884,
          -1.3294390657182,
          1.022252936447132,
          1.0053336991661836,
          0.07190096462962152,
          -0.9755733581483298,
          1.4321795955170138,
          0.7682701841913601,
          1.4106140993914187,
          0.8842862535844305,
          -0.47573009331610966,
          1.3925150436772173,
          1.5229403142636067,
          0.4979127015679674,
          -0.22798055804358228,
          -0.0015201187562104794,
          -0.7495407346801771,
          1.328528954537974,
          -0.2435124822982681,
          1.9527621822822765,
          1.9676936762797141,
          0.6930920592087606,
          -1.2047070952737269,
          -0.23371188951046254,
          0.0904489820968438,
          -0.1922827287818314,
          -0.09443850073079627,
          0.35411209910976243,
          -0.7378673061324998,
          -1.500182599220915,
          0.027248475993117298,
          -1.5928417705059106,
          -0.270816497865613,
          -0.5085227360674233,
          -0.3417589089128278,
          -0.6571341304736517,
          1.6035827297495748,
          -0.3095623753122842,
          0.11219869134530197,
          -0.1270892021909148,
          0.532977431473964,
          -1.3464165418222898,
          1.1316424758934114,
          -0.7622335583741608,
          -0.24702200690165985,
          -0.4630147906934118,
          -0.36319885697730925,
          -1.4496796124020117,
          0.9489037775907716,
          -1.0559602914410788,
          -0.40517571814914105,
          -0.9460764335874674,
          0.07137266324652135,
          0.44539589417145947,
          -0.7411187275501535,
          -0.30809178688149913,
          0.6771270266525428,
          -2.0070739280271974,
          -0.40191263907329716,
          0.2462375338243192,
          -0.7361069754945546,
          0.2450920395430285,
          -0.10131033533366482,
          -0.7939623166404947,
          0.26092941113513224,
          -0.04144594794792293,
          -1.465015360378068,
          -0.40845640726951,
          1.540098306745973,
          -1.8807183485864425,
          0.26192533874844304,
          0.43606184773113804,
          -0.6976882584015038,
          -0.33883690793114757,
          0.5501987049405354,
          -0.17977156442569758,
          0.09407305437372032,
          0.3905632022559406,
          -0.679164724948543,
          0.7852670833079327,
          0.5878197275238274,
          -1.2513417011321166,
          0.9602883150342724,
          1.3460439652971705,
          -0.14988934526054964,
          -0.34372152424350455,
          0.7834210604939421
         ]
        },
        {
         "connectgaps": false,
         "fill": "tozeroy",
         "line": {
          "color": "green",
          "dash": "solid",
          "shape": "linear",
          "width": 0.5
         },
         "mode": "lines",
         "name": "Spread",
         "showlegend": false,
         "type": "scatter",
         "x": [
          0,
          1,
          2,
          3,
          4,
          5,
          6,
          7,
          8,
          9,
          10,
          11,
          12,
          13,
          14,
          15,
          16,
          17,
          18,
          19,
          20,
          21,
          22,
          23,
          24,
          25,
          26,
          27,
          28,
          29,
          30,
          31,
          32,
          33,
          34,
          35,
          36,
          37,
          38,
          39,
          40,
          41,
          42,
          43,
          44,
          45,
          46,
          47,
          48,
          49,
          50,
          51,
          52,
          53,
          54,
          55,
          56,
          57,
          58,
          59,
          60,
          61,
          62,
          63,
          64,
          65,
          66,
          67,
          68,
          69,
          70,
          71,
          72,
          73,
          74,
          75,
          76,
          77,
          78,
          79,
          80,
          81,
          82,
          83,
          84,
          85,
          86,
          87,
          88,
          89,
          90,
          91,
          92,
          93,
          94,
          95,
          96,
          97,
          98,
          99
         ],
         "xaxis": "x2",
         "y": [
          "",
          2.0430671776845575,
          "",
          "",
          "",
          "",
          3.419200520320892,
          "",
          "",
          0.8909986279489126,
          0.12383424205961224,
          "",
          1.106236786111851,
          1.214875779481298,
          1.0623363950825404,
          "",
          "",
          0.44824799143327515,
          "",
          "",
          0.27911678186416145,
          "",
          "",
          "",
          "",
          "",
          "",
          1.2851391871424158,
          0.22374869088250285,
          1.1732459245806213,
          "",
          "",
          "",
          "",
          "",
          1.1198411417547596,
          "",
          "",
          "",
          1.5446378807213315,
          0.7192307110579836,
          0.875418760545084,
          1.189743226422188,
          0.46838996391792215,
          0.8230986388243005,
          1.334121798452339,
          0.36682370488738264,
          0.19910113168906501,
          "",
          "",
          1.606665600217005,
          "",
          "",
          "",
          1.646411237388575,
          "",
          0.057506730883621904,
          2.177598372561491,
          0.10397019152508002,
          "",
          0.9122762099301254,
          "",
          2.015210016440724,
          0.8738630851344651,
          0.5534852810185513,
          "",
          "",
          0.45070221326982385,
          1.046984547129207,
          "",
          4.125832895250457,
          0.7035379780420798,
          "",
          "",
          "",
          0.03947903241236721,
          1.164139252110236,
          0.3547676921792109,
          "",
          1.496502567252841,
          0.771307550581157,
          "",
          1.7779750824753329,
          "",
          "",
          "",
          "",
          "",
          "",
          "",
          0.12525259062158384,
          0.13715748751161438,
          "",
          "",
          1.9646360124266053,
          "",
          "",
          0.011534497912802505,
          "",
          ""
         ],
         "yaxis": "y2"
        },
        {
         "connectgaps": false,
         "fill": "tozeroy",
         "line": {
          "color": "red",
          "dash": "solid",
          "shape": "linear",
          "width": 0.5
         },
         "mode": "lines",
         "name": "Spread",
         "showlegend": false,
         "type": "scatter",
         "x": [
          0,
          1,
          2,
          3,
          4,
          5,
          6,
          7,
          8,
          9,
          10,
          11,
          12,
          13,
          14,
          15,
          16,
          17,
          18,
          19,
          20,
          21,
          22,
          23,
          24,
          25,
          26,
          27,
          28,
          29,
          30,
          31,
          32,
          33,
          34,
          35,
          36,
          37,
          38,
          39,
          40,
          41,
          42,
          43,
          44,
          45,
          46,
          47,
          48,
          49,
          50,
          51,
          52,
          53,
          54,
          55,
          56,
          57,
          58,
          59,
          60,
          61,
          62,
          63,
          64,
          65,
          66,
          67,
          68,
          69,
          70,
          71,
          72,
          73,
          74,
          75,
          76,
          77,
          78,
          79,
          80,
          81,
          82,
          83,
          84,
          85,
          86,
          87,
          88,
          89,
          90,
          91,
          92,
          93,
          94,
          95,
          96,
          97,
          98,
          99
         ],
         "xaxis": "x2",
         "y": [
          -0.6924708815098567,
          "",
          -1.8196303251783164,
          -0.4275057675070463,
          -1.7086285470336713,
          -0.06504533383691269,
          "",
          -0.33593489906171936,
          -0.6201175782201132,
          "",
          "",
          -0.2476780364186013,
          "",
          "",
          "",
          -1.7491464134352024,
          -1.184396258828703,
          "",
          -0.7206730625268797,
          -2.2227792308462453,
          "",
          -1.3625920385639663,
          -0.6809399987222351,
          -0.9184682952053704,
          -0.9829978813623493,
          -1.2055023553914372,
          -0.6717712104196739,
          "",
          "",
          "",
          -0.44674752234789017,
          -0.7509992366115212,
          -1.3434734689042085,
          -3.1934427706604067,
          -0.6469399238376761,
          "",
          -0.5082676749396591,
          -1.8971399437364969,
          -0.047459366280237864,
          "",
          "",
          "",
          "",
          "",
          "",
          "",
          "",
          "",
          -0.02678841621515371,
          -0.6931147084296514,
          "",
          -0.8133811232408217,
          -1.4715965303228735,
          -0.6179366335052738,
          "",
          -0.7820058501724041,
          "",
          "",
          "",
          -1.1019486280910047,
          "",
          -0.44818024724793737,
          "",
          "",
          "",
          -2.251413857667037,
          -1.4518047588655243,
          "",
          "",
          -4.387453133127433,
          "",
          "",
          -1.1182494310906725,
          -0.922895644891617,
          -1.354187004481054,
          "",
          "",
          "",
          -0.5479537657003327,
          "",
          "",
          -0.7549950141969576,
          "",
          -1.0320221213233065,
          -0.5302414605750809,
          -0.1654840110384247,
          -0.17311660570187032,
          -1.0309788966034965,
          -0.8498339948178963,
          -1.5983160964152539,
          "",
          "",
          -1.5801142285090235,
          -0.956510284145192,
          "",
          -2.339503945923715,
          -2.2678090305001124,
          "",
          -0.5146407172279899,
          -0.04043923144294692
         ],
         "yaxis": "y2"
        }
       ],
       "layout": {
        "hovermode": "x",
        "legend": {
         "bgcolor": "#F5F6F9",
         "font": {
          "color": "#4D5663"
         }
        },
        "paper_bgcolor": "#F5F6F9",
        "plot_bgcolor": "#F5F6F9",
        "template": {
         "data": {
          "bar": [
           {
            "error_x": {
             "color": "#2a3f5f"
            },
            "error_y": {
             "color": "#2a3f5f"
            },
            "marker": {
             "line": {
              "color": "#E5ECF6",
              "width": 0.5
             }
            },
            "type": "bar"
           }
          ],
          "barpolar": [
           {
            "marker": {
             "line": {
              "color": "#E5ECF6",
              "width": 0.5
             }
            },
            "type": "barpolar"
           }
          ],
          "carpet": [
           {
            "aaxis": {
             "endlinecolor": "#2a3f5f",
             "gridcolor": "white",
             "linecolor": "white",
             "minorgridcolor": "white",
             "startlinecolor": "#2a3f5f"
            },
            "baxis": {
             "endlinecolor": "#2a3f5f",
             "gridcolor": "white",
             "linecolor": "white",
             "minorgridcolor": "white",
             "startlinecolor": "#2a3f5f"
            },
            "type": "carpet"
           }
          ],
          "choropleth": [
           {
            "colorbar": {
             "outlinewidth": 0,
             "ticks": ""
            },
            "type": "choropleth"
           }
          ],
          "contour": [
           {
            "colorbar": {
             "outlinewidth": 0,
             "ticks": ""
            },
            "colorscale": [
             [
              0,
              "#0d0887"
             ],
             [
              0.1111111111111111,
              "#46039f"
             ],
             [
              0.2222222222222222,
              "#7201a8"
             ],
             [
              0.3333333333333333,
              "#9c179e"
             ],
             [
              0.4444444444444444,
              "#bd3786"
             ],
             [
              0.5555555555555556,
              "#d8576b"
             ],
             [
              0.6666666666666666,
              "#ed7953"
             ],
             [
              0.7777777777777778,
              "#fb9f3a"
             ],
             [
              0.8888888888888888,
              "#fdca26"
             ],
             [
              1,
              "#f0f921"
             ]
            ],
            "type": "contour"
           }
          ],
          "contourcarpet": [
           {
            "colorbar": {
             "outlinewidth": 0,
             "ticks": ""
            },
            "type": "contourcarpet"
           }
          ],
          "heatmap": [
           {
            "colorbar": {
             "outlinewidth": 0,
             "ticks": ""
            },
            "colorscale": [
             [
              0,
              "#0d0887"
             ],
             [
              0.1111111111111111,
              "#46039f"
             ],
             [
              0.2222222222222222,
              "#7201a8"
             ],
             [
              0.3333333333333333,
              "#9c179e"
             ],
             [
              0.4444444444444444,
              "#bd3786"
             ],
             [
              0.5555555555555556,
              "#d8576b"
             ],
             [
              0.6666666666666666,
              "#ed7953"
             ],
             [
              0.7777777777777778,
              "#fb9f3a"
             ],
             [
              0.8888888888888888,
              "#fdca26"
             ],
             [
              1,
              "#f0f921"
             ]
            ],
            "type": "heatmap"
           }
          ],
          "heatmapgl": [
           {
            "colorbar": {
             "outlinewidth": 0,
             "ticks": ""
            },
            "colorscale": [
             [
              0,
              "#0d0887"
             ],
             [
              0.1111111111111111,
              "#46039f"
             ],
             [
              0.2222222222222222,
              "#7201a8"
             ],
             [
              0.3333333333333333,
              "#9c179e"
             ],
             [
              0.4444444444444444,
              "#bd3786"
             ],
             [
              0.5555555555555556,
              "#d8576b"
             ],
             [
              0.6666666666666666,
              "#ed7953"
             ],
             [
              0.7777777777777778,
              "#fb9f3a"
             ],
             [
              0.8888888888888888,
              "#fdca26"
             ],
             [
              1,
              "#f0f921"
             ]
            ],
            "type": "heatmapgl"
           }
          ],
          "histogram": [
           {
            "marker": {
             "colorbar": {
              "outlinewidth": 0,
              "ticks": ""
             }
            },
            "type": "histogram"
           }
          ],
          "histogram2d": [
           {
            "colorbar": {
             "outlinewidth": 0,
             "ticks": ""
            },
            "colorscale": [
             [
              0,
              "#0d0887"
             ],
             [
              0.1111111111111111,
              "#46039f"
             ],
             [
              0.2222222222222222,
              "#7201a8"
             ],
             [
              0.3333333333333333,
              "#9c179e"
             ],
             [
              0.4444444444444444,
              "#bd3786"
             ],
             [
              0.5555555555555556,
              "#d8576b"
             ],
             [
              0.6666666666666666,
              "#ed7953"
             ],
             [
              0.7777777777777778,
              "#fb9f3a"
             ],
             [
              0.8888888888888888,
              "#fdca26"
             ],
             [
              1,
              "#f0f921"
             ]
            ],
            "type": "histogram2d"
           }
          ],
          "histogram2dcontour": [
           {
            "colorbar": {
             "outlinewidth": 0,
             "ticks": ""
            },
            "colorscale": [
             [
              0,
              "#0d0887"
             ],
             [
              0.1111111111111111,
              "#46039f"
             ],
             [
              0.2222222222222222,
              "#7201a8"
             ],
             [
              0.3333333333333333,
              "#9c179e"
             ],
             [
              0.4444444444444444,
              "#bd3786"
             ],
             [
              0.5555555555555556,
              "#d8576b"
             ],
             [
              0.6666666666666666,
              "#ed7953"
             ],
             [
              0.7777777777777778,
              "#fb9f3a"
             ],
             [
              0.8888888888888888,
              "#fdca26"
             ],
             [
              1,
              "#f0f921"
             ]
            ],
            "type": "histogram2dcontour"
           }
          ],
          "mesh3d": [
           {
            "colorbar": {
             "outlinewidth": 0,
             "ticks": ""
            },
            "type": "mesh3d"
           }
          ],
          "parcoords": [
           {
            "line": {
             "colorbar": {
              "outlinewidth": 0,
              "ticks": ""
             }
            },
            "type": "parcoords"
           }
          ],
          "pie": [
           {
            "automargin": true,
            "type": "pie"
           }
          ],
          "scatter": [
           {
            "marker": {
             "colorbar": {
              "outlinewidth": 0,
              "ticks": ""
             }
            },
            "type": "scatter"
           }
          ],
          "scatter3d": [
           {
            "line": {
             "colorbar": {
              "outlinewidth": 0,
              "ticks": ""
             }
            },
            "marker": {
             "colorbar": {
              "outlinewidth": 0,
              "ticks": ""
             }
            },
            "type": "scatter3d"
           }
          ],
          "scattercarpet": [
           {
            "marker": {
             "colorbar": {
              "outlinewidth": 0,
              "ticks": ""
             }
            },
            "type": "scattercarpet"
           }
          ],
          "scattergeo": [
           {
            "marker": {
             "colorbar": {
              "outlinewidth": 0,
              "ticks": ""
             }
            },
            "type": "scattergeo"
           }
          ],
          "scattergl": [
           {
            "marker": {
             "colorbar": {
              "outlinewidth": 0,
              "ticks": ""
             }
            },
            "type": "scattergl"
           }
          ],
          "scattermapbox": [
           {
            "marker": {
             "colorbar": {
              "outlinewidth": 0,
              "ticks": ""
             }
            },
            "type": "scattermapbox"
           }
          ],
          "scatterpolar": [
           {
            "marker": {
             "colorbar": {
              "outlinewidth": 0,
              "ticks": ""
             }
            },
            "type": "scatterpolar"
           }
          ],
          "scatterpolargl": [
           {
            "marker": {
             "colorbar": {
              "outlinewidth": 0,
              "ticks": ""
             }
            },
            "type": "scatterpolargl"
           }
          ],
          "scatterternary": [
           {
            "marker": {
             "colorbar": {
              "outlinewidth": 0,
              "ticks": ""
             }
            },
            "type": "scatterternary"
           }
          ],
          "surface": [
           {
            "colorbar": {
             "outlinewidth": 0,
             "ticks": ""
            },
            "colorscale": [
             [
              0,
              "#0d0887"
             ],
             [
              0.1111111111111111,
              "#46039f"
             ],
             [
              0.2222222222222222,
              "#7201a8"
             ],
             [
              0.3333333333333333,
              "#9c179e"
             ],
             [
              0.4444444444444444,
              "#bd3786"
             ],
             [
              0.5555555555555556,
              "#d8576b"
             ],
             [
              0.6666666666666666,
              "#ed7953"
             ],
             [
              0.7777777777777778,
              "#fb9f3a"
             ],
             [
              0.8888888888888888,
              "#fdca26"
             ],
             [
              1,
              "#f0f921"
             ]
            ],
            "type": "surface"
           }
          ],
          "table": [
           {
            "cells": {
             "fill": {
              "color": "#EBF0F8"
             },
             "line": {
              "color": "white"
             }
            },
            "header": {
             "fill": {
              "color": "#C8D4E3"
             },
             "line": {
              "color": "white"
             }
            },
            "type": "table"
           }
          ]
         },
         "layout": {
          "annotationdefaults": {
           "arrowcolor": "#2a3f5f",
           "arrowhead": 0,
           "arrowwidth": 1
          },
          "coloraxis": {
           "colorbar": {
            "outlinewidth": 0,
            "ticks": ""
           }
          },
          "colorscale": {
           "diverging": [
            [
             0,
             "#8e0152"
            ],
            [
             0.1,
             "#c51b7d"
            ],
            [
             0.2,
             "#de77ae"
            ],
            [
             0.3,
             "#f1b6da"
            ],
            [
             0.4,
             "#fde0ef"
            ],
            [
             0.5,
             "#f7f7f7"
            ],
            [
             0.6,
             "#e6f5d0"
            ],
            [
             0.7,
             "#b8e186"
            ],
            [
             0.8,
             "#7fbc41"
            ],
            [
             0.9,
             "#4d9221"
            ],
            [
             1,
             "#276419"
            ]
           ],
           "sequential": [
            [
             0,
             "#0d0887"
            ],
            [
             0.1111111111111111,
             "#46039f"
            ],
            [
             0.2222222222222222,
             "#7201a8"
            ],
            [
             0.3333333333333333,
             "#9c179e"
            ],
            [
             0.4444444444444444,
             "#bd3786"
            ],
            [
             0.5555555555555556,
             "#d8576b"
            ],
            [
             0.6666666666666666,
             "#ed7953"
            ],
            [
             0.7777777777777778,
             "#fb9f3a"
            ],
            [
             0.8888888888888888,
             "#fdca26"
            ],
            [
             1,
             "#f0f921"
            ]
           ],
           "sequentialminus": [
            [
             0,
             "#0d0887"
            ],
            [
             0.1111111111111111,
             "#46039f"
            ],
            [
             0.2222222222222222,
             "#7201a8"
            ],
            [
             0.3333333333333333,
             "#9c179e"
            ],
            [
             0.4444444444444444,
             "#bd3786"
            ],
            [
             0.5555555555555556,
             "#d8576b"
            ],
            [
             0.6666666666666666,
             "#ed7953"
            ],
            [
             0.7777777777777778,
             "#fb9f3a"
            ],
            [
             0.8888888888888888,
             "#fdca26"
            ],
            [
             1,
             "#f0f921"
            ]
           ]
          },
          "colorway": [
           "#636efa",
           "#EF553B",
           "#00cc96",
           "#ab63fa",
           "#FFA15A",
           "#19d3f3",
           "#FF6692",
           "#B6E880",
           "#FF97FF",
           "#FECB52"
          ],
          "font": {
           "color": "#2a3f5f"
          },
          "geo": {
           "bgcolor": "white",
           "lakecolor": "white",
           "landcolor": "#E5ECF6",
           "showlakes": true,
           "showland": true,
           "subunitcolor": "white"
          },
          "hoverlabel": {
           "align": "left"
          },
          "hovermode": "closest",
          "mapbox": {
           "style": "light"
          },
          "paper_bgcolor": "white",
          "plot_bgcolor": "#E5ECF6",
          "polar": {
           "angularaxis": {
            "gridcolor": "white",
            "linecolor": "white",
            "ticks": ""
           },
           "bgcolor": "#E5ECF6",
           "radialaxis": {
            "gridcolor": "white",
            "linecolor": "white",
            "ticks": ""
           }
          },
          "scene": {
           "xaxis": {
            "backgroundcolor": "#E5ECF6",
            "gridcolor": "white",
            "gridwidth": 2,
            "linecolor": "white",
            "showbackground": true,
            "ticks": "",
            "zerolinecolor": "white"
           },
           "yaxis": {
            "backgroundcolor": "#E5ECF6",
            "gridcolor": "white",
            "gridwidth": 2,
            "linecolor": "white",
            "showbackground": true,
            "ticks": "",
            "zerolinecolor": "white"
           },
           "zaxis": {
            "backgroundcolor": "#E5ECF6",
            "gridcolor": "white",
            "gridwidth": 2,
            "linecolor": "white",
            "showbackground": true,
            "ticks": "",
            "zerolinecolor": "white"
           }
          },
          "shapedefaults": {
           "line": {
            "color": "#2a3f5f"
           }
          },
          "ternary": {
           "aaxis": {
            "gridcolor": "white",
            "linecolor": "white",
            "ticks": ""
           },
           "baxis": {
            "gridcolor": "white",
            "linecolor": "white",
            "ticks": ""
           },
           "bgcolor": "#E5ECF6",
           "caxis": {
            "gridcolor": "white",
            "linecolor": "white",
            "ticks": ""
           }
          },
          "title": {
           "x": 0.05
          },
          "xaxis": {
           "automargin": true,
           "gridcolor": "white",
           "linecolor": "white",
           "ticks": "",
           "title": {
            "standoff": 15
           },
           "zerolinecolor": "white",
           "zerolinewidth": 2
          },
          "yaxis": {
           "automargin": true,
           "gridcolor": "white",
           "linecolor": "white",
           "ticks": "",
           "title": {
            "standoff": 15
           },
           "zerolinecolor": "white",
           "zerolinewidth": 2
          }
         }
        },
        "title": {
         "font": {
          "color": "#4D5663"
         }
        },
        "xaxis": {
         "gridcolor": "#E1E5ED",
         "showgrid": true,
         "tickfont": {
          "color": "#4D5663"
         },
         "title": {
          "font": {
           "color": "#4D5663"
          },
          "text": ""
         },
         "zerolinecolor": "#E1E5ED"
        },
        "xaxis2": {
         "anchor": "y2",
         "gridcolor": "#E1E5ED",
         "showgrid": true,
         "showticklabels": false,
         "tickfont": {
          "color": "#4D5663"
         },
         "title": {
          "font": {
           "color": "#4D5663"
          },
          "text": ""
         },
         "zerolinecolor": "#E1E5ED"
        },
        "yaxis": {
         "domain": [
          0.3,
          1
         ],
         "gridcolor": "#E1E5ED",
         "showgrid": true,
         "tickfont": {
          "color": "#4D5663"
         },
         "title": {
          "font": {
           "color": "#4D5663"
          },
          "text": ""
         },
         "zerolinecolor": "#E1E5ED"
        },
        "yaxis2": {
         "domain": [
          0,
          0.25
         ],
         "gridcolor": "#E1E5ED",
         "showgrid": true,
         "tickfont": {
          "color": "#4D5663"
         },
         "title": {
          "font": {
           "color": "#4D5663"
          },
          "text": "Spread"
         },
         "zerolinecolor": "#E1E5ED"
        }
       }
      },
      "text/html": [
       "<div>\n",
       "        \n",
       "        \n",
       "            <div id=\"0fa4d190-7f76-4816-b368-29d89f428c2b\" class=\"plotly-graph-div\" style=\"height:525px; width:100%;\"></div>\n",
       "            <script type=\"text/javascript\">\n",
       "                require([\"plotly\"], function(Plotly) {\n",
       "                    window.PLOTLYENV=window.PLOTLYENV || {};\n",
       "                    window.PLOTLYENV.BASE_URL='https://plot.ly';\n",
       "                    \n",
       "                if (document.getElementById(\"0fa4d190-7f76-4816-b368-29d89f428c2b\")) {\n",
       "                    Plotly.newPlot(\n",
       "                        '0fa4d190-7f76-4816-b368-29d89f428c2b',\n",
       "                        [{\"line\": {\"color\": \"rgba(255, 153, 51, 1.0)\", \"dash\": \"solid\", \"shape\": \"linear\", \"width\": 1.3}, \"mode\": \"lines\", \"name\": \"A\", \"text\": \"\", \"type\": \"scatter\", \"x\": [0, 1, 2, 3, 4, 5, 6, 7, 8, 9, 10, 11, 12, 13, 14, 15, 16, 17, 18, 19, 20, 21, 22, 23, 24, 25, 26, 27, 28, 29, 30, 31, 32, 33, 34, 35, 36, 37, 38, 39, 40, 41, 42, 43, 44, 45, 46, 47, 48, 49, 50, 51, 52, 53, 54, 55, 56, 57, 58, 59, 60, 61, 62, 63, 64, 65, 66, 67, 68, 69, 70, 71, 72, 73, 74, 75, 76, 77, 78, 79, 80, 81, 82, 83, 84, 85, 86, 87, 88, 89, 90, 91, 92, 93, 94, 95, 96, 97, 98, 99], \"y\": [-1.4496360721844352, 0.8873978843611828, -0.0390005807228342, 0.030354177296635507, -0.3777079685985477, 0.7588829084593641, 1.734314215168449, -1.0900571341974001, -0.26212755041413577, 0.19364864806034585, -0.9946781453834873, -0.5471429181687236, 1.1732797419683796, 1.235234107700757, -0.26710267063565957, -0.7268934769880704, -0.17906255966251938, 0.5201489560628967, -1.6962464206752095, -0.7905996353292317, 1.0473869660555215, 0.04802206082745249, 0.20334625486219532, -1.3941983885214801, 0.409517162314868, 0.31743795887216947, -0.1738585088517065, 1.0571586290988335, 0.22222857212629238, 0.4237051899004442, 0.8817814321900838, -0.9945117189097893, 0.609288713378068, -1.2257490943806924, 0.04615213537108449, -0.0848659535189674, -0.7419795644501216, -1.8066909616396531, -0.23974209506206925, 1.4501993799905353, 1.073342810167746, 0.13755145441258418, -0.3104393727987269, 0.49563843991103945, -0.7697431316816101, 1.0633053005867261, -0.14169903118004062, -0.14265777722376277, -0.6839225466888054, 0.9104680213199234, 1.2971032249047207, -0.7011824318955198, -1.5986857325137882, -0.08495920203130981, 0.2999946955662853, 0.34963662572100734, -0.7047268274905389, 1.9305763656598314, -0.35904459916833176, -1.465147485068314, -0.5374034024718863, 0.5007235303428342, 0.9592497249996453, 0.468687366985324, -0.39259115256891614, -2.1800411944205154, -1.0064088646940648, -0.29041651428032966, 0.7388927602477078, -3.710326106474891, 2.1187589672232594, 0.30162533896878263, -0.8720118972663534, -1.6590026203861716, -1.1090949649380255, -0.06183130292129761, 0.37017693546974145, 0.6156971033143431, -0.5893997136482556, 0.03148720687477286, 0.362851143311647, 0.7851032925490155, -0.10274326611110957, -0.7700967825748634, -0.0941796128439429, -0.8631722694399285, -0.5119535136330179, -0.48078019166296126, -1.029605559243594, -1.5042430420415336, 0.5158157928775244, -0.5420072374369286, -0.7948471452010908, -0.36869055662136463, 0.7132943112944887, -1.3792156308894425, -0.9217650652029417, -0.13835484734774714, -0.8583622414714944, 0.7429818290509952]}, {\"line\": {\"color\": \"rgba(55, 128, 191, 1.0)\", \"dash\": \"solid\", \"shape\": \"linear\", \"width\": 1.3}, \"mode\": \"lines\", \"name\": \"B\", \"text\": \"\", \"type\": \"scatter\", \"x\": [0, 1, 2, 3, 4, 5, 6, 7, 8, 9, 10, 11, 12, 13, 14, 15, 16, 17, 18, 19, 20, 21, 22, 23, 24, 25, 26, 27, 28, 29, 30, 31, 32, 33, 34, 35, 36, 37, 38, 39, 40, 41, 42, 43, 44, 45, 46, 47, 48, 49, 50, 51, 52, 53, 54, 55, 56, 57, 58, 59, 60, 61, 62, 63, 64, 65, 66, 67, 68, 69, 70, 71, 72, 73, 74, 75, 76, 77, 78, 79, 80, 81, 82, 83, 84, 85, 86, 87, 88, 89, 90, 91, 92, 93, 94, 95, 96, 97, 98, 99], \"y\": [-0.7571651906745785, -1.1556692933233748, 1.7806297444554822, 0.4578599448036818, 1.3309205784351237, 0.8239282422962768, -1.6848863051524432, -0.7541222351356808, 0.3579900278059774, -0.6973499798885667, -1.1185123874430996, -0.2994648817501223, 0.06704295585652872, 0.02035832821945884, -1.3294390657182, 1.022252936447132, 1.0053336991661836, 0.07190096462962152, -0.9755733581483298, 1.4321795955170138, 0.7682701841913601, 1.4106140993914187, 0.8842862535844305, -0.47573009331610966, 1.3925150436772173, 1.5229403142636067, 0.4979127015679674, -0.22798055804358228, -0.0015201187562104794, -0.7495407346801771, 1.328528954537974, -0.2435124822982681, 1.9527621822822765, 1.9676936762797141, 0.6930920592087606, -1.2047070952737269, -0.23371188951046254, 0.0904489820968438, -0.1922827287818314, -0.09443850073079627, 0.35411209910976243, -0.7378673061324998, -1.500182599220915, 0.027248475993117298, -1.5928417705059106, -0.270816497865613, -0.5085227360674233, -0.3417589089128278, -0.6571341304736517, 1.6035827297495748, -0.3095623753122842, 0.11219869134530197, -0.1270892021909148, 0.532977431473964, -1.3464165418222898, 1.1316424758934114, -0.7622335583741608, -0.24702200690165985, -0.4630147906934118, -0.36319885697730925, -1.4496796124020117, 0.9489037775907716, -1.0559602914410788, -0.40517571814914105, -0.9460764335874674, 0.07137266324652135, 0.44539589417145947, -0.7411187275501535, -0.30809178688149913, 0.6771270266525428, -2.0070739280271974, -0.40191263907329716, 0.2462375338243192, -0.7361069754945546, 0.2450920395430285, -0.10131033533366482, -0.7939623166404947, 0.26092941113513224, -0.04144594794792293, -1.465015360378068, -0.40845640726951, 1.540098306745973, -1.8807183485864425, 0.26192533874844304, 0.43606184773113804, -0.6976882584015038, -0.33883690793114757, 0.5501987049405354, -0.17977156442569758, 0.09407305437372032, 0.3905632022559406, -0.679164724948543, 0.7852670833079327, 0.5878197275238274, -1.2513417011321166, 0.9602883150342724, 1.3460439652971705, -0.14988934526054964, -0.34372152424350455, 0.7834210604939421]}, {\"connectgaps\": false, \"fill\": \"tozeroy\", \"line\": {\"color\": \"green\", \"dash\": \"solid\", \"shape\": \"linear\", \"width\": 0.5}, \"mode\": \"lines\", \"name\": \"Spread\", \"showlegend\": false, \"type\": \"scatter\", \"x\": [0, 1, 2, 3, 4, 5, 6, 7, 8, 9, 10, 11, 12, 13, 14, 15, 16, 17, 18, 19, 20, 21, 22, 23, 24, 25, 26, 27, 28, 29, 30, 31, 32, 33, 34, 35, 36, 37, 38, 39, 40, 41, 42, 43, 44, 45, 46, 47, 48, 49, 50, 51, 52, 53, 54, 55, 56, 57, 58, 59, 60, 61, 62, 63, 64, 65, 66, 67, 68, 69, 70, 71, 72, 73, 74, 75, 76, 77, 78, 79, 80, 81, 82, 83, 84, 85, 86, 87, 88, 89, 90, 91, 92, 93, 94, 95, 96, 97, 98, 99], \"xaxis\": \"x2\", \"y\": [\"\", 2.0430671776845575, \"\", \"\", \"\", \"\", 3.419200520320892, \"\", \"\", 0.8909986279489126, 0.12383424205961224, \"\", 1.106236786111851, 1.214875779481298, 1.0623363950825404, \"\", \"\", 0.44824799143327515, \"\", \"\", 0.27911678186416145, \"\", \"\", \"\", \"\", \"\", \"\", 1.2851391871424158, 0.22374869088250285, 1.1732459245806213, \"\", \"\", \"\", \"\", \"\", 1.1198411417547596, \"\", \"\", \"\", 1.5446378807213315, 0.7192307110579836, 0.875418760545084, 1.189743226422188, 0.46838996391792215, 0.8230986388243005, 1.334121798452339, 0.36682370488738264, 0.19910113168906501, \"\", \"\", 1.606665600217005, \"\", \"\", \"\", 1.646411237388575, \"\", 0.057506730883621904, 2.177598372561491, 0.10397019152508002, \"\", 0.9122762099301254, \"\", 2.015210016440724, 0.8738630851344651, 0.5534852810185513, \"\", \"\", 0.45070221326982385, 1.046984547129207, \"\", 4.125832895250457, 0.7035379780420798, \"\", \"\", \"\", 0.03947903241236721, 1.164139252110236, 0.3547676921792109, \"\", 1.496502567252841, 0.771307550581157, \"\", 1.7779750824753329, \"\", \"\", \"\", \"\", \"\", \"\", \"\", 0.12525259062158384, 0.13715748751161438, \"\", \"\", 1.9646360124266053, \"\", \"\", 0.011534497912802505, \"\", \"\"], \"yaxis\": \"y2\"}, {\"connectgaps\": false, \"fill\": \"tozeroy\", \"line\": {\"color\": \"red\", \"dash\": \"solid\", \"shape\": \"linear\", \"width\": 0.5}, \"mode\": \"lines\", \"name\": \"Spread\", \"showlegend\": false, \"type\": \"scatter\", \"x\": [0, 1, 2, 3, 4, 5, 6, 7, 8, 9, 10, 11, 12, 13, 14, 15, 16, 17, 18, 19, 20, 21, 22, 23, 24, 25, 26, 27, 28, 29, 30, 31, 32, 33, 34, 35, 36, 37, 38, 39, 40, 41, 42, 43, 44, 45, 46, 47, 48, 49, 50, 51, 52, 53, 54, 55, 56, 57, 58, 59, 60, 61, 62, 63, 64, 65, 66, 67, 68, 69, 70, 71, 72, 73, 74, 75, 76, 77, 78, 79, 80, 81, 82, 83, 84, 85, 86, 87, 88, 89, 90, 91, 92, 93, 94, 95, 96, 97, 98, 99], \"xaxis\": \"x2\", \"y\": [-0.6924708815098567, \"\", -1.8196303251783164, -0.4275057675070463, -1.7086285470336713, -0.06504533383691269, \"\", -0.33593489906171936, -0.6201175782201132, \"\", \"\", -0.2476780364186013, \"\", \"\", \"\", -1.7491464134352024, -1.184396258828703, \"\", -0.7206730625268797, -2.2227792308462453, \"\", -1.3625920385639663, -0.6809399987222351, -0.9184682952053704, -0.9829978813623493, -1.2055023553914372, -0.6717712104196739, \"\", \"\", \"\", -0.44674752234789017, -0.7509992366115212, -1.3434734689042085, -3.1934427706604067, -0.6469399238376761, \"\", -0.5082676749396591, -1.8971399437364969, -0.047459366280237864, \"\", \"\", \"\", \"\", \"\", \"\", \"\", \"\", \"\", -0.02678841621515371, -0.6931147084296514, \"\", -0.8133811232408217, -1.4715965303228735, -0.6179366335052738, \"\", -0.7820058501724041, \"\", \"\", \"\", -1.1019486280910047, \"\", -0.44818024724793737, \"\", \"\", \"\", -2.251413857667037, -1.4518047588655243, \"\", \"\", -4.387453133127433, \"\", \"\", -1.1182494310906725, -0.922895644891617, -1.354187004481054, \"\", \"\", \"\", -0.5479537657003327, \"\", \"\", -0.7549950141969576, \"\", -1.0320221213233065, -0.5302414605750809, -0.1654840110384247, -0.17311660570187032, -1.0309788966034965, -0.8498339948178963, -1.5983160964152539, \"\", \"\", -1.5801142285090235, -0.956510284145192, \"\", -2.339503945923715, -2.2678090305001124, \"\", -0.5146407172279899, -0.04043923144294692], \"yaxis\": \"y2\"}],\n",
       "                        {\"hovermode\": \"x\", \"legend\": {\"bgcolor\": \"#F5F6F9\", \"font\": {\"color\": \"#4D5663\"}}, \"paper_bgcolor\": \"#F5F6F9\", \"plot_bgcolor\": \"#F5F6F9\", \"template\": {\"data\": {\"bar\": [{\"error_x\": {\"color\": \"#2a3f5f\"}, \"error_y\": {\"color\": \"#2a3f5f\"}, \"marker\": {\"line\": {\"color\": \"#E5ECF6\", \"width\": 0.5}}, \"type\": \"bar\"}], \"barpolar\": [{\"marker\": {\"line\": {\"color\": \"#E5ECF6\", \"width\": 0.5}}, \"type\": \"barpolar\"}], \"carpet\": [{\"aaxis\": {\"endlinecolor\": \"#2a3f5f\", \"gridcolor\": \"white\", \"linecolor\": \"white\", \"minorgridcolor\": \"white\", \"startlinecolor\": \"#2a3f5f\"}, \"baxis\": {\"endlinecolor\": \"#2a3f5f\", \"gridcolor\": \"white\", \"linecolor\": \"white\", \"minorgridcolor\": \"white\", \"startlinecolor\": \"#2a3f5f\"}, \"type\": \"carpet\"}], \"choropleth\": [{\"colorbar\": {\"outlinewidth\": 0, \"ticks\": \"\"}, \"type\": \"choropleth\"}], \"contour\": [{\"colorbar\": {\"outlinewidth\": 0, \"ticks\": \"\"}, \"colorscale\": [[0.0, \"#0d0887\"], [0.1111111111111111, \"#46039f\"], [0.2222222222222222, \"#7201a8\"], [0.3333333333333333, \"#9c179e\"], [0.4444444444444444, \"#bd3786\"], [0.5555555555555556, \"#d8576b\"], [0.6666666666666666, \"#ed7953\"], [0.7777777777777778, \"#fb9f3a\"], [0.8888888888888888, \"#fdca26\"], [1.0, \"#f0f921\"]], \"type\": \"contour\"}], \"contourcarpet\": [{\"colorbar\": {\"outlinewidth\": 0, \"ticks\": \"\"}, \"type\": \"contourcarpet\"}], \"heatmap\": [{\"colorbar\": {\"outlinewidth\": 0, \"ticks\": \"\"}, \"colorscale\": [[0.0, \"#0d0887\"], [0.1111111111111111, \"#46039f\"], [0.2222222222222222, \"#7201a8\"], [0.3333333333333333, \"#9c179e\"], [0.4444444444444444, \"#bd3786\"], [0.5555555555555556, \"#d8576b\"], [0.6666666666666666, \"#ed7953\"], [0.7777777777777778, \"#fb9f3a\"], [0.8888888888888888, \"#fdca26\"], [1.0, \"#f0f921\"]], \"type\": \"heatmap\"}], \"heatmapgl\": [{\"colorbar\": {\"outlinewidth\": 0, \"ticks\": \"\"}, \"colorscale\": [[0.0, \"#0d0887\"], [0.1111111111111111, \"#46039f\"], [0.2222222222222222, \"#7201a8\"], [0.3333333333333333, \"#9c179e\"], [0.4444444444444444, \"#bd3786\"], [0.5555555555555556, \"#d8576b\"], [0.6666666666666666, \"#ed7953\"], [0.7777777777777778, \"#fb9f3a\"], [0.8888888888888888, \"#fdca26\"], [1.0, \"#f0f921\"]], \"type\": \"heatmapgl\"}], \"histogram\": [{\"marker\": {\"colorbar\": {\"outlinewidth\": 0, \"ticks\": \"\"}}, \"type\": \"histogram\"}], \"histogram2d\": [{\"colorbar\": {\"outlinewidth\": 0, \"ticks\": \"\"}, \"colorscale\": [[0.0, \"#0d0887\"], [0.1111111111111111, \"#46039f\"], [0.2222222222222222, \"#7201a8\"], [0.3333333333333333, \"#9c179e\"], [0.4444444444444444, \"#bd3786\"], [0.5555555555555556, \"#d8576b\"], [0.6666666666666666, \"#ed7953\"], [0.7777777777777778, \"#fb9f3a\"], [0.8888888888888888, \"#fdca26\"], [1.0, \"#f0f921\"]], \"type\": \"histogram2d\"}], \"histogram2dcontour\": [{\"colorbar\": {\"outlinewidth\": 0, \"ticks\": \"\"}, \"colorscale\": [[0.0, \"#0d0887\"], [0.1111111111111111, \"#46039f\"], [0.2222222222222222, \"#7201a8\"], [0.3333333333333333, \"#9c179e\"], [0.4444444444444444, \"#bd3786\"], [0.5555555555555556, \"#d8576b\"], [0.6666666666666666, \"#ed7953\"], [0.7777777777777778, \"#fb9f3a\"], [0.8888888888888888, \"#fdca26\"], [1.0, \"#f0f921\"]], \"type\": \"histogram2dcontour\"}], \"mesh3d\": [{\"colorbar\": {\"outlinewidth\": 0, \"ticks\": \"\"}, \"type\": \"mesh3d\"}], \"parcoords\": [{\"line\": {\"colorbar\": {\"outlinewidth\": 0, \"ticks\": \"\"}}, \"type\": \"parcoords\"}], \"pie\": [{\"automargin\": true, \"type\": \"pie\"}], \"scatter\": [{\"marker\": {\"colorbar\": {\"outlinewidth\": 0, \"ticks\": \"\"}}, \"type\": \"scatter\"}], \"scatter3d\": [{\"line\": {\"colorbar\": {\"outlinewidth\": 0, \"ticks\": \"\"}}, \"marker\": {\"colorbar\": {\"outlinewidth\": 0, \"ticks\": \"\"}}, \"type\": \"scatter3d\"}], \"scattercarpet\": [{\"marker\": {\"colorbar\": {\"outlinewidth\": 0, \"ticks\": \"\"}}, \"type\": \"scattercarpet\"}], \"scattergeo\": [{\"marker\": {\"colorbar\": {\"outlinewidth\": 0, \"ticks\": \"\"}}, \"type\": \"scattergeo\"}], \"scattergl\": [{\"marker\": {\"colorbar\": {\"outlinewidth\": 0, \"ticks\": \"\"}}, \"type\": \"scattergl\"}], \"scattermapbox\": [{\"marker\": {\"colorbar\": {\"outlinewidth\": 0, \"ticks\": \"\"}}, \"type\": \"scattermapbox\"}], \"scatterpolar\": [{\"marker\": {\"colorbar\": {\"outlinewidth\": 0, \"ticks\": \"\"}}, \"type\": \"scatterpolar\"}], \"scatterpolargl\": [{\"marker\": {\"colorbar\": {\"outlinewidth\": 0, \"ticks\": \"\"}}, \"type\": \"scatterpolargl\"}], \"scatterternary\": [{\"marker\": {\"colorbar\": {\"outlinewidth\": 0, \"ticks\": \"\"}}, \"type\": \"scatterternary\"}], \"surface\": [{\"colorbar\": {\"outlinewidth\": 0, \"ticks\": \"\"}, \"colorscale\": [[0.0, \"#0d0887\"], [0.1111111111111111, \"#46039f\"], [0.2222222222222222, \"#7201a8\"], [0.3333333333333333, \"#9c179e\"], [0.4444444444444444, \"#bd3786\"], [0.5555555555555556, \"#d8576b\"], [0.6666666666666666, \"#ed7953\"], [0.7777777777777778, \"#fb9f3a\"], [0.8888888888888888, \"#fdca26\"], [1.0, \"#f0f921\"]], \"type\": \"surface\"}], \"table\": [{\"cells\": {\"fill\": {\"color\": \"#EBF0F8\"}, \"line\": {\"color\": \"white\"}}, \"header\": {\"fill\": {\"color\": \"#C8D4E3\"}, \"line\": {\"color\": \"white\"}}, \"type\": \"table\"}]}, \"layout\": {\"annotationdefaults\": {\"arrowcolor\": \"#2a3f5f\", \"arrowhead\": 0, \"arrowwidth\": 1}, \"coloraxis\": {\"colorbar\": {\"outlinewidth\": 0, \"ticks\": \"\"}}, \"colorscale\": {\"diverging\": [[0, \"#8e0152\"], [0.1, \"#c51b7d\"], [0.2, \"#de77ae\"], [0.3, \"#f1b6da\"], [0.4, \"#fde0ef\"], [0.5, \"#f7f7f7\"], [0.6, \"#e6f5d0\"], [0.7, \"#b8e186\"], [0.8, \"#7fbc41\"], [0.9, \"#4d9221\"], [1, \"#276419\"]], \"sequential\": [[0.0, \"#0d0887\"], [0.1111111111111111, \"#46039f\"], [0.2222222222222222, \"#7201a8\"], [0.3333333333333333, \"#9c179e\"], [0.4444444444444444, \"#bd3786\"], [0.5555555555555556, \"#d8576b\"], [0.6666666666666666, \"#ed7953\"], [0.7777777777777778, \"#fb9f3a\"], [0.8888888888888888, \"#fdca26\"], [1.0, \"#f0f921\"]], \"sequentialminus\": [[0.0, \"#0d0887\"], [0.1111111111111111, \"#46039f\"], [0.2222222222222222, \"#7201a8\"], [0.3333333333333333, \"#9c179e\"], [0.4444444444444444, \"#bd3786\"], [0.5555555555555556, \"#d8576b\"], [0.6666666666666666, \"#ed7953\"], [0.7777777777777778, \"#fb9f3a\"], [0.8888888888888888, \"#fdca26\"], [1.0, \"#f0f921\"]]}, \"colorway\": [\"#636efa\", \"#EF553B\", \"#00cc96\", \"#ab63fa\", \"#FFA15A\", \"#19d3f3\", \"#FF6692\", \"#B6E880\", \"#FF97FF\", \"#FECB52\"], \"font\": {\"color\": \"#2a3f5f\"}, \"geo\": {\"bgcolor\": \"white\", \"lakecolor\": \"white\", \"landcolor\": \"#E5ECF6\", \"showlakes\": true, \"showland\": true, \"subunitcolor\": \"white\"}, \"hoverlabel\": {\"align\": \"left\"}, \"hovermode\": \"closest\", \"mapbox\": {\"style\": \"light\"}, \"paper_bgcolor\": \"white\", \"plot_bgcolor\": \"#E5ECF6\", \"polar\": {\"angularaxis\": {\"gridcolor\": \"white\", \"linecolor\": \"white\", \"ticks\": \"\"}, \"bgcolor\": \"#E5ECF6\", \"radialaxis\": {\"gridcolor\": \"white\", \"linecolor\": \"white\", \"ticks\": \"\"}}, \"scene\": {\"xaxis\": {\"backgroundcolor\": \"#E5ECF6\", \"gridcolor\": \"white\", \"gridwidth\": 2, \"linecolor\": \"white\", \"showbackground\": true, \"ticks\": \"\", \"zerolinecolor\": \"white\"}, \"yaxis\": {\"backgroundcolor\": \"#E5ECF6\", \"gridcolor\": \"white\", \"gridwidth\": 2, \"linecolor\": \"white\", \"showbackground\": true, \"ticks\": \"\", \"zerolinecolor\": \"white\"}, \"zaxis\": {\"backgroundcolor\": \"#E5ECF6\", \"gridcolor\": \"white\", \"gridwidth\": 2, \"linecolor\": \"white\", \"showbackground\": true, \"ticks\": \"\", \"zerolinecolor\": \"white\"}}, \"shapedefaults\": {\"line\": {\"color\": \"#2a3f5f\"}}, \"ternary\": {\"aaxis\": {\"gridcolor\": \"white\", \"linecolor\": \"white\", \"ticks\": \"\"}, \"baxis\": {\"gridcolor\": \"white\", \"linecolor\": \"white\", \"ticks\": \"\"}, \"bgcolor\": \"#E5ECF6\", \"caxis\": {\"gridcolor\": \"white\", \"linecolor\": \"white\", \"ticks\": \"\"}}, \"title\": {\"x\": 0.05}, \"xaxis\": {\"automargin\": true, \"gridcolor\": \"white\", \"linecolor\": \"white\", \"ticks\": \"\", \"title\": {\"standoff\": 15}, \"zerolinecolor\": \"white\", \"zerolinewidth\": 2}, \"yaxis\": {\"automargin\": true, \"gridcolor\": \"white\", \"linecolor\": \"white\", \"ticks\": \"\", \"title\": {\"standoff\": 15}, \"zerolinecolor\": \"white\", \"zerolinewidth\": 2}}}, \"title\": {\"font\": {\"color\": \"#4D5663\"}}, \"xaxis\": {\"gridcolor\": \"#E1E5ED\", \"showgrid\": true, \"tickfont\": {\"color\": \"#4D5663\"}, \"title\": {\"font\": {\"color\": \"#4D5663\"}, \"text\": \"\"}, \"zerolinecolor\": \"#E1E5ED\"}, \"xaxis2\": {\"anchor\": \"y2\", \"gridcolor\": \"#E1E5ED\", \"showgrid\": true, \"showticklabels\": false, \"tickfont\": {\"color\": \"#4D5663\"}, \"title\": {\"font\": {\"color\": \"#4D5663\"}, \"text\": \"\"}, \"zerolinecolor\": \"#E1E5ED\"}, \"yaxis\": {\"domain\": [0.3, 1], \"gridcolor\": \"#E1E5ED\", \"showgrid\": true, \"tickfont\": {\"color\": \"#4D5663\"}, \"title\": {\"font\": {\"color\": \"#4D5663\"}, \"text\": \"\"}, \"zerolinecolor\": \"#E1E5ED\"}, \"yaxis2\": {\"domain\": [0, 0.25], \"gridcolor\": \"#E1E5ED\", \"showgrid\": true, \"tickfont\": {\"color\": \"#4D5663\"}, \"title\": {\"font\": {\"color\": \"#4D5663\"}, \"text\": \"Spread\"}, \"zerolinecolor\": \"#E1E5ED\"}},\n",
       "                        {\"showLink\": true, \"linkText\": \"Export to plot.ly\", \"plotlyServerURL\": \"https://plot.ly\", \"responsive\": true}\n",
       "                    ).then(function(){\n",
       "                            \n",
       "var gd = document.getElementById('0fa4d190-7f76-4816-b368-29d89f428c2b');\n",
       "var x = new MutationObserver(function (mutations, observer) {{\n",
       "        var display = window.getComputedStyle(gd).display;\n",
       "        if (!display || display === 'none') {{\n",
       "            console.log([gd, 'removed!']);\n",
       "            Plotly.purge(gd);\n",
       "            observer.disconnect();\n",
       "        }}\n",
       "}});\n",
       "\n",
       "// Listen for the removal of the full notebook cells\n",
       "var notebookContainer = gd.closest('#notebook-container');\n",
       "if (notebookContainer) {{\n",
       "    x.observe(notebookContainer, {childList: true});\n",
       "}}\n",
       "\n",
       "// Listen for the clearing of the current output cell\n",
       "var outputEl = gd.closest('.output');\n",
       "if (outputEl) {{\n",
       "    x.observe(outputEl, {childList: true});\n",
       "}}\n",
       "\n",
       "                        })\n",
       "                };\n",
       "                });\n",
       "            </script>\n",
       "        </div>"
      ]
     },
     "metadata": {},
     "output_type": "display_data"
    }
   ],
   "source": [
    "df[['A','B']].iplot(kind='spread')"
   ]
  },
  {
   "cell_type": "code",
   "execution_count": 54,
   "metadata": {},
   "outputs": [
    {
     "data": {
      "application/vnd.plotly.v1+json": {
       "config": {
        "linkText": "Export to plot.ly",
        "plotlyServerURL": "https://plot.ly",
        "showLink": true
       },
       "data": [
        {
         "marker": {
          "color": [
           "rgb(165,0,38)",
           "rgb(215,48,39)",
           "rgb(244,109,67)",
           "rgb(253,174,97)",
           "rgb(254,224,144)",
           "rgb(255,255,191)",
           "rgb(224,243,248)",
           "rgb(171,217,233)",
           "rgb(116,173,209)",
           "rgb(69,117,180)",
           "rgb(49,54,149)"
          ],
          "line": {
           "width": 1.3
          },
          "size": [
           73,
           72,
           45,
           18,
           56,
           48,
           40,
           70,
           56,
           72,
           39,
           26,
           48,
           64,
           76,
           112,
           52,
           37,
           74,
           16,
           58,
           75,
           32,
           69,
           108,
           50,
           91,
           88,
           48,
           60,
           85,
           48,
           54,
           74,
           74,
           68,
           44,
           62,
           58,
           12,
           65,
           63,
           80,
           72,
           44,
           51,
           26,
           42,
           35,
           33,
           38,
           68,
           38,
           45,
           42,
           83,
           72,
           64,
           94,
           63,
           40,
           62,
           74,
           27,
           50,
           47,
           61,
           51,
           24,
           54,
           29,
           46,
           52,
           22,
           63,
           43,
           55,
           48,
           82,
           64,
           34,
           63,
           38,
           58,
           63,
           25,
           40,
           63,
           58,
           62,
           44,
           68,
           55,
           55,
           70,
           60,
           72,
           68,
           88,
           39
          ],
          "symbol": "circle"
         },
         "mode": "markers",
         "text": "",
         "type": "scatter",
         "x": [
          -1.4496360721844352,
          0.8873978843611828,
          -0.0390005807228342,
          0.030354177296635507,
          -0.3777079685985477,
          0.7588829084593641,
          1.734314215168449,
          -1.0900571341974001,
          -0.26212755041413577,
          0.19364864806034585,
          -0.9946781453834873,
          -0.5471429181687236,
          1.1732797419683796,
          1.235234107700757,
          -0.26710267063565957,
          -0.7268934769880704,
          -0.17906255966251938,
          0.5201489560628967,
          -1.6962464206752095,
          -0.7905996353292317,
          1.0473869660555215,
          0.04802206082745249,
          0.20334625486219532,
          -1.3941983885214801,
          0.409517162314868,
          0.31743795887216947,
          -0.1738585088517065,
          1.0571586290988335,
          0.22222857212629238,
          0.4237051899004442,
          0.8817814321900838,
          -0.9945117189097893,
          0.609288713378068,
          -1.2257490943806924,
          0.04615213537108449,
          -0.0848659535189674,
          -0.7419795644501216,
          -1.8066909616396531,
          -0.23974209506206925,
          1.4501993799905353,
          1.073342810167746,
          0.13755145441258418,
          -0.3104393727987269,
          0.49563843991103945,
          -0.7697431316816101,
          1.0633053005867261,
          -0.14169903118004062,
          -0.14265777722376277,
          -0.6839225466888054,
          0.9104680213199234,
          1.2971032249047207,
          -0.7011824318955198,
          -1.5986857325137882,
          -0.08495920203130981,
          0.2999946955662853,
          0.34963662572100734,
          -0.7047268274905389,
          1.9305763656598314,
          -0.35904459916833176,
          -1.465147485068314,
          -0.5374034024718863,
          0.5007235303428342,
          0.9592497249996453,
          0.468687366985324,
          -0.39259115256891614,
          -2.1800411944205154,
          -1.0064088646940648,
          -0.29041651428032966,
          0.7388927602477078,
          -3.710326106474891,
          2.1187589672232594,
          0.30162533896878263,
          -0.8720118972663534,
          -1.6590026203861716,
          -1.1090949649380255,
          -0.06183130292129761,
          0.37017693546974145,
          0.6156971033143431,
          -0.5893997136482556,
          0.03148720687477286,
          0.362851143311647,
          0.7851032925490155,
          -0.10274326611110957,
          -0.7700967825748634,
          -0.0941796128439429,
          -0.8631722694399285,
          -0.5119535136330179,
          -0.48078019166296126,
          -1.029605559243594,
          -1.5042430420415336,
          0.5158157928775244,
          -0.5420072374369286,
          -0.7948471452010908,
          -0.36869055662136463,
          0.7132943112944887,
          -1.3792156308894425,
          -0.9217650652029417,
          -0.13835484734774714,
          -0.8583622414714944,
          0.7429818290509952
         ],
         "y": [
          -0.7571651906745785,
          -1.1556692933233748,
          1.7806297444554822,
          0.4578599448036818,
          1.3309205784351237,
          0.8239282422962768,
          -1.6848863051524432,
          -0.7541222351356808,
          0.3579900278059774,
          -0.6973499798885667,
          -1.1185123874430996,
          -0.2994648817501223,
          0.06704295585652872,
          0.02035832821945884,
          -1.3294390657182,
          1.022252936447132,
          1.0053336991661836,
          0.07190096462962152,
          -0.9755733581483298,
          1.4321795955170138,
          0.7682701841913601,
          1.4106140993914187,
          0.8842862535844305,
          -0.47573009331610966,
          1.3925150436772173,
          1.5229403142636067,
          0.4979127015679674,
          -0.22798055804358228,
          -0.0015201187562104794,
          -0.7495407346801771,
          1.328528954537974,
          -0.2435124822982681,
          1.9527621822822765,
          1.9676936762797141,
          0.6930920592087606,
          -1.2047070952737269,
          -0.23371188951046254,
          0.0904489820968438,
          -0.1922827287818314,
          -0.09443850073079627,
          0.35411209910976243,
          -0.7378673061324998,
          -1.500182599220915,
          0.027248475993117298,
          -1.5928417705059106,
          -0.270816497865613,
          -0.5085227360674233,
          -0.3417589089128278,
          -0.6571341304736517,
          1.6035827297495748,
          -0.3095623753122842,
          0.11219869134530197,
          -0.1270892021909148,
          0.532977431473964,
          -1.3464165418222898,
          1.1316424758934114,
          -0.7622335583741608,
          -0.24702200690165985,
          -0.4630147906934118,
          -0.36319885697730925,
          -1.4496796124020117,
          0.9489037775907716,
          -1.0559602914410788,
          -0.40517571814914105,
          -0.9460764335874674,
          0.07137266324652135,
          0.44539589417145947,
          -0.7411187275501535,
          -0.30809178688149913,
          0.6771270266525428,
          -2.0070739280271974,
          -0.40191263907329716,
          0.2462375338243192,
          -0.7361069754945546,
          0.2450920395430285,
          -0.10131033533366482,
          -0.7939623166404947,
          0.26092941113513224,
          -0.04144594794792293,
          -1.465015360378068,
          -0.40845640726951,
          1.540098306745973,
          -1.8807183485864425,
          0.26192533874844304,
          0.43606184773113804,
          -0.6976882584015038,
          -0.33883690793114757,
          0.5501987049405354,
          -0.17977156442569758,
          0.09407305437372032,
          0.3905632022559406,
          -0.679164724948543,
          0.7852670833079327,
          0.5878197275238274,
          -1.2513417011321166,
          0.9602883150342724,
          1.3460439652971705,
          -0.14988934526054964,
          -0.34372152424350455,
          0.7834210604939421
         ]
        }
       ],
       "layout": {
        "legend": {
         "bgcolor": "#F5F6F9",
         "font": {
          "color": "#4D5663"
         }
        },
        "paper_bgcolor": "#F5F6F9",
        "plot_bgcolor": "#F5F6F9",
        "template": {
         "data": {
          "bar": [
           {
            "error_x": {
             "color": "#2a3f5f"
            },
            "error_y": {
             "color": "#2a3f5f"
            },
            "marker": {
             "line": {
              "color": "#E5ECF6",
              "width": 0.5
             }
            },
            "type": "bar"
           }
          ],
          "barpolar": [
           {
            "marker": {
             "line": {
              "color": "#E5ECF6",
              "width": 0.5
             }
            },
            "type": "barpolar"
           }
          ],
          "carpet": [
           {
            "aaxis": {
             "endlinecolor": "#2a3f5f",
             "gridcolor": "white",
             "linecolor": "white",
             "minorgridcolor": "white",
             "startlinecolor": "#2a3f5f"
            },
            "baxis": {
             "endlinecolor": "#2a3f5f",
             "gridcolor": "white",
             "linecolor": "white",
             "minorgridcolor": "white",
             "startlinecolor": "#2a3f5f"
            },
            "type": "carpet"
           }
          ],
          "choropleth": [
           {
            "colorbar": {
             "outlinewidth": 0,
             "ticks": ""
            },
            "type": "choropleth"
           }
          ],
          "contour": [
           {
            "colorbar": {
             "outlinewidth": 0,
             "ticks": ""
            },
            "colorscale": [
             [
              0,
              "#0d0887"
             ],
             [
              0.1111111111111111,
              "#46039f"
             ],
             [
              0.2222222222222222,
              "#7201a8"
             ],
             [
              0.3333333333333333,
              "#9c179e"
             ],
             [
              0.4444444444444444,
              "#bd3786"
             ],
             [
              0.5555555555555556,
              "#d8576b"
             ],
             [
              0.6666666666666666,
              "#ed7953"
             ],
             [
              0.7777777777777778,
              "#fb9f3a"
             ],
             [
              0.8888888888888888,
              "#fdca26"
             ],
             [
              1,
              "#f0f921"
             ]
            ],
            "type": "contour"
           }
          ],
          "contourcarpet": [
           {
            "colorbar": {
             "outlinewidth": 0,
             "ticks": ""
            },
            "type": "contourcarpet"
           }
          ],
          "heatmap": [
           {
            "colorbar": {
             "outlinewidth": 0,
             "ticks": ""
            },
            "colorscale": [
             [
              0,
              "#0d0887"
             ],
             [
              0.1111111111111111,
              "#46039f"
             ],
             [
              0.2222222222222222,
              "#7201a8"
             ],
             [
              0.3333333333333333,
              "#9c179e"
             ],
             [
              0.4444444444444444,
              "#bd3786"
             ],
             [
              0.5555555555555556,
              "#d8576b"
             ],
             [
              0.6666666666666666,
              "#ed7953"
             ],
             [
              0.7777777777777778,
              "#fb9f3a"
             ],
             [
              0.8888888888888888,
              "#fdca26"
             ],
             [
              1,
              "#f0f921"
             ]
            ],
            "type": "heatmap"
           }
          ],
          "heatmapgl": [
           {
            "colorbar": {
             "outlinewidth": 0,
             "ticks": ""
            },
            "colorscale": [
             [
              0,
              "#0d0887"
             ],
             [
              0.1111111111111111,
              "#46039f"
             ],
             [
              0.2222222222222222,
              "#7201a8"
             ],
             [
              0.3333333333333333,
              "#9c179e"
             ],
             [
              0.4444444444444444,
              "#bd3786"
             ],
             [
              0.5555555555555556,
              "#d8576b"
             ],
             [
              0.6666666666666666,
              "#ed7953"
             ],
             [
              0.7777777777777778,
              "#fb9f3a"
             ],
             [
              0.8888888888888888,
              "#fdca26"
             ],
             [
              1,
              "#f0f921"
             ]
            ],
            "type": "heatmapgl"
           }
          ],
          "histogram": [
           {
            "marker": {
             "colorbar": {
              "outlinewidth": 0,
              "ticks": ""
             }
            },
            "type": "histogram"
           }
          ],
          "histogram2d": [
           {
            "colorbar": {
             "outlinewidth": 0,
             "ticks": ""
            },
            "colorscale": [
             [
              0,
              "#0d0887"
             ],
             [
              0.1111111111111111,
              "#46039f"
             ],
             [
              0.2222222222222222,
              "#7201a8"
             ],
             [
              0.3333333333333333,
              "#9c179e"
             ],
             [
              0.4444444444444444,
              "#bd3786"
             ],
             [
              0.5555555555555556,
              "#d8576b"
             ],
             [
              0.6666666666666666,
              "#ed7953"
             ],
             [
              0.7777777777777778,
              "#fb9f3a"
             ],
             [
              0.8888888888888888,
              "#fdca26"
             ],
             [
              1,
              "#f0f921"
             ]
            ],
            "type": "histogram2d"
           }
          ],
          "histogram2dcontour": [
           {
            "colorbar": {
             "outlinewidth": 0,
             "ticks": ""
            },
            "colorscale": [
             [
              0,
              "#0d0887"
             ],
             [
              0.1111111111111111,
              "#46039f"
             ],
             [
              0.2222222222222222,
              "#7201a8"
             ],
             [
              0.3333333333333333,
              "#9c179e"
             ],
             [
              0.4444444444444444,
              "#bd3786"
             ],
             [
              0.5555555555555556,
              "#d8576b"
             ],
             [
              0.6666666666666666,
              "#ed7953"
             ],
             [
              0.7777777777777778,
              "#fb9f3a"
             ],
             [
              0.8888888888888888,
              "#fdca26"
             ],
             [
              1,
              "#f0f921"
             ]
            ],
            "type": "histogram2dcontour"
           }
          ],
          "mesh3d": [
           {
            "colorbar": {
             "outlinewidth": 0,
             "ticks": ""
            },
            "type": "mesh3d"
           }
          ],
          "parcoords": [
           {
            "line": {
             "colorbar": {
              "outlinewidth": 0,
              "ticks": ""
             }
            },
            "type": "parcoords"
           }
          ],
          "pie": [
           {
            "automargin": true,
            "type": "pie"
           }
          ],
          "scatter": [
           {
            "marker": {
             "colorbar": {
              "outlinewidth": 0,
              "ticks": ""
             }
            },
            "type": "scatter"
           }
          ],
          "scatter3d": [
           {
            "line": {
             "colorbar": {
              "outlinewidth": 0,
              "ticks": ""
             }
            },
            "marker": {
             "colorbar": {
              "outlinewidth": 0,
              "ticks": ""
             }
            },
            "type": "scatter3d"
           }
          ],
          "scattercarpet": [
           {
            "marker": {
             "colorbar": {
              "outlinewidth": 0,
              "ticks": ""
             }
            },
            "type": "scattercarpet"
           }
          ],
          "scattergeo": [
           {
            "marker": {
             "colorbar": {
              "outlinewidth": 0,
              "ticks": ""
             }
            },
            "type": "scattergeo"
           }
          ],
          "scattergl": [
           {
            "marker": {
             "colorbar": {
              "outlinewidth": 0,
              "ticks": ""
             }
            },
            "type": "scattergl"
           }
          ],
          "scattermapbox": [
           {
            "marker": {
             "colorbar": {
              "outlinewidth": 0,
              "ticks": ""
             }
            },
            "type": "scattermapbox"
           }
          ],
          "scatterpolar": [
           {
            "marker": {
             "colorbar": {
              "outlinewidth": 0,
              "ticks": ""
             }
            },
            "type": "scatterpolar"
           }
          ],
          "scatterpolargl": [
           {
            "marker": {
             "colorbar": {
              "outlinewidth": 0,
              "ticks": ""
             }
            },
            "type": "scatterpolargl"
           }
          ],
          "scatterternary": [
           {
            "marker": {
             "colorbar": {
              "outlinewidth": 0,
              "ticks": ""
             }
            },
            "type": "scatterternary"
           }
          ],
          "surface": [
           {
            "colorbar": {
             "outlinewidth": 0,
             "ticks": ""
            },
            "colorscale": [
             [
              0,
              "#0d0887"
             ],
             [
              0.1111111111111111,
              "#46039f"
             ],
             [
              0.2222222222222222,
              "#7201a8"
             ],
             [
              0.3333333333333333,
              "#9c179e"
             ],
             [
              0.4444444444444444,
              "#bd3786"
             ],
             [
              0.5555555555555556,
              "#d8576b"
             ],
             [
              0.6666666666666666,
              "#ed7953"
             ],
             [
              0.7777777777777778,
              "#fb9f3a"
             ],
             [
              0.8888888888888888,
              "#fdca26"
             ],
             [
              1,
              "#f0f921"
             ]
            ],
            "type": "surface"
           }
          ],
          "table": [
           {
            "cells": {
             "fill": {
              "color": "#EBF0F8"
             },
             "line": {
              "color": "white"
             }
            },
            "header": {
             "fill": {
              "color": "#C8D4E3"
             },
             "line": {
              "color": "white"
             }
            },
            "type": "table"
           }
          ]
         },
         "layout": {
          "annotationdefaults": {
           "arrowcolor": "#2a3f5f",
           "arrowhead": 0,
           "arrowwidth": 1
          },
          "coloraxis": {
           "colorbar": {
            "outlinewidth": 0,
            "ticks": ""
           }
          },
          "colorscale": {
           "diverging": [
            [
             0,
             "#8e0152"
            ],
            [
             0.1,
             "#c51b7d"
            ],
            [
             0.2,
             "#de77ae"
            ],
            [
             0.3,
             "#f1b6da"
            ],
            [
             0.4,
             "#fde0ef"
            ],
            [
             0.5,
             "#f7f7f7"
            ],
            [
             0.6,
             "#e6f5d0"
            ],
            [
             0.7,
             "#b8e186"
            ],
            [
             0.8,
             "#7fbc41"
            ],
            [
             0.9,
             "#4d9221"
            ],
            [
             1,
             "#276419"
            ]
           ],
           "sequential": [
            [
             0,
             "#0d0887"
            ],
            [
             0.1111111111111111,
             "#46039f"
            ],
            [
             0.2222222222222222,
             "#7201a8"
            ],
            [
             0.3333333333333333,
             "#9c179e"
            ],
            [
             0.4444444444444444,
             "#bd3786"
            ],
            [
             0.5555555555555556,
             "#d8576b"
            ],
            [
             0.6666666666666666,
             "#ed7953"
            ],
            [
             0.7777777777777778,
             "#fb9f3a"
            ],
            [
             0.8888888888888888,
             "#fdca26"
            ],
            [
             1,
             "#f0f921"
            ]
           ],
           "sequentialminus": [
            [
             0,
             "#0d0887"
            ],
            [
             0.1111111111111111,
             "#46039f"
            ],
            [
             0.2222222222222222,
             "#7201a8"
            ],
            [
             0.3333333333333333,
             "#9c179e"
            ],
            [
             0.4444444444444444,
             "#bd3786"
            ],
            [
             0.5555555555555556,
             "#d8576b"
            ],
            [
             0.6666666666666666,
             "#ed7953"
            ],
            [
             0.7777777777777778,
             "#fb9f3a"
            ],
            [
             0.8888888888888888,
             "#fdca26"
            ],
            [
             1,
             "#f0f921"
            ]
           ]
          },
          "colorway": [
           "#636efa",
           "#EF553B",
           "#00cc96",
           "#ab63fa",
           "#FFA15A",
           "#19d3f3",
           "#FF6692",
           "#B6E880",
           "#FF97FF",
           "#FECB52"
          ],
          "font": {
           "color": "#2a3f5f"
          },
          "geo": {
           "bgcolor": "white",
           "lakecolor": "white",
           "landcolor": "#E5ECF6",
           "showlakes": true,
           "showland": true,
           "subunitcolor": "white"
          },
          "hoverlabel": {
           "align": "left"
          },
          "hovermode": "closest",
          "mapbox": {
           "style": "light"
          },
          "paper_bgcolor": "white",
          "plot_bgcolor": "#E5ECF6",
          "polar": {
           "angularaxis": {
            "gridcolor": "white",
            "linecolor": "white",
            "ticks": ""
           },
           "bgcolor": "#E5ECF6",
           "radialaxis": {
            "gridcolor": "white",
            "linecolor": "white",
            "ticks": ""
           }
          },
          "scene": {
           "xaxis": {
            "backgroundcolor": "#E5ECF6",
            "gridcolor": "white",
            "gridwidth": 2,
            "linecolor": "white",
            "showbackground": true,
            "ticks": "",
            "zerolinecolor": "white"
           },
           "yaxis": {
            "backgroundcolor": "#E5ECF6",
            "gridcolor": "white",
            "gridwidth": 2,
            "linecolor": "white",
            "showbackground": true,
            "ticks": "",
            "zerolinecolor": "white"
           },
           "zaxis": {
            "backgroundcolor": "#E5ECF6",
            "gridcolor": "white",
            "gridwidth": 2,
            "linecolor": "white",
            "showbackground": true,
            "ticks": "",
            "zerolinecolor": "white"
           }
          },
          "shapedefaults": {
           "line": {
            "color": "#2a3f5f"
           }
          },
          "ternary": {
           "aaxis": {
            "gridcolor": "white",
            "linecolor": "white",
            "ticks": ""
           },
           "baxis": {
            "gridcolor": "white",
            "linecolor": "white",
            "ticks": ""
           },
           "bgcolor": "#E5ECF6",
           "caxis": {
            "gridcolor": "white",
            "linecolor": "white",
            "ticks": ""
           }
          },
          "title": {
           "x": 0.05
          },
          "xaxis": {
           "automargin": true,
           "gridcolor": "white",
           "linecolor": "white",
           "ticks": "",
           "title": {
            "standoff": 15
           },
           "zerolinecolor": "white",
           "zerolinewidth": 2
          },
          "yaxis": {
           "automargin": true,
           "gridcolor": "white",
           "linecolor": "white",
           "ticks": "",
           "title": {
            "standoff": 15
           },
           "zerolinecolor": "white",
           "zerolinewidth": 2
          }
         }
        },
        "title": {
         "font": {
          "color": "#4D5663"
         }
        },
        "xaxis": {
         "gridcolor": "#E1E5ED",
         "showgrid": true,
         "tickfont": {
          "color": "#4D5663"
         },
         "title": {
          "font": {
           "color": "#4D5663"
          },
          "text": ""
         },
         "zerolinecolor": "#E1E5ED"
        },
        "yaxis": {
         "gridcolor": "#E1E5ED",
         "showgrid": true,
         "tickfont": {
          "color": "#4D5663"
         },
         "title": {
          "font": {
           "color": "#4D5663"
          },
          "text": ""
         },
         "zerolinecolor": "#E1E5ED"
        }
       }
      },
      "text/html": [
       "<div>\n",
       "        \n",
       "        \n",
       "            <div id=\"7a1159a4-5795-4c1d-9d55-99da249712ec\" class=\"plotly-graph-div\" style=\"height:525px; width:100%;\"></div>\n",
       "            <script type=\"text/javascript\">\n",
       "                require([\"plotly\"], function(Plotly) {\n",
       "                    window.PLOTLYENV=window.PLOTLYENV || {};\n",
       "                    window.PLOTLYENV.BASE_URL='https://plot.ly';\n",
       "                    \n",
       "                if (document.getElementById(\"7a1159a4-5795-4c1d-9d55-99da249712ec\")) {\n",
       "                    Plotly.newPlot(\n",
       "                        '7a1159a4-5795-4c1d-9d55-99da249712ec',\n",
       "                        [{\"marker\": {\"color\": [\"rgb(165,0,38)\", \"rgb(215,48,39)\", \"rgb(244,109,67)\", \"rgb(253,174,97)\", \"rgb(254,224,144)\", \"rgb(255,255,191)\", \"rgb(224,243,248)\", \"rgb(171,217,233)\", \"rgb(116,173,209)\", \"rgb(69,117,180)\", \"rgb(49,54,149)\"], \"line\": {\"width\": 1.3}, \"size\": [73, 72, 45, 18, 56, 48, 40, 70, 56, 72, 39, 26, 48, 64, 76, 112, 52, 37, 74, 16, 58, 75, 32, 69, 108, 50, 91, 88, 48, 60, 85, 48, 54, 74, 74, 68, 44, 62, 58, 12, 65, 63, 80, 72, 44, 51, 26, 42, 35, 33, 38, 68, 38, 45, 42, 83, 72, 64, 94, 63, 40, 62, 74, 27, 50, 47, 61, 51, 24, 54, 29, 46, 52, 22, 63, 43, 55, 48, 82, 64, 34, 63, 38, 58, 63, 25, 40, 63, 58, 62, 44, 68, 55, 55, 70, 60, 72, 68, 88, 39], \"symbol\": \"circle\"}, \"mode\": \"markers\", \"text\": \"\", \"type\": \"scatter\", \"x\": [-1.4496360721844352, 0.8873978843611828, -0.0390005807228342, 0.030354177296635507, -0.3777079685985477, 0.7588829084593641, 1.734314215168449, -1.0900571341974001, -0.26212755041413577, 0.19364864806034585, -0.9946781453834873, -0.5471429181687236, 1.1732797419683796, 1.235234107700757, -0.26710267063565957, -0.7268934769880704, -0.17906255966251938, 0.5201489560628967, -1.6962464206752095, -0.7905996353292317, 1.0473869660555215, 0.04802206082745249, 0.20334625486219532, -1.3941983885214801, 0.409517162314868, 0.31743795887216947, -0.1738585088517065, 1.0571586290988335, 0.22222857212629238, 0.4237051899004442, 0.8817814321900838, -0.9945117189097893, 0.609288713378068, -1.2257490943806924, 0.04615213537108449, -0.0848659535189674, -0.7419795644501216, -1.8066909616396531, -0.23974209506206925, 1.4501993799905353, 1.073342810167746, 0.13755145441258418, -0.3104393727987269, 0.49563843991103945, -0.7697431316816101, 1.0633053005867261, -0.14169903118004062, -0.14265777722376277, -0.6839225466888054, 0.9104680213199234, 1.2971032249047207, -0.7011824318955198, -1.5986857325137882, -0.08495920203130981, 0.2999946955662853, 0.34963662572100734, -0.7047268274905389, 1.9305763656598314, -0.35904459916833176, -1.465147485068314, -0.5374034024718863, 0.5007235303428342, 0.9592497249996453, 0.468687366985324, -0.39259115256891614, -2.1800411944205154, -1.0064088646940648, -0.29041651428032966, 0.7388927602477078, -3.710326106474891, 2.1187589672232594, 0.30162533896878263, -0.8720118972663534, -1.6590026203861716, -1.1090949649380255, -0.06183130292129761, 0.37017693546974145, 0.6156971033143431, -0.5893997136482556, 0.03148720687477286, 0.362851143311647, 0.7851032925490155, -0.10274326611110957, -0.7700967825748634, -0.0941796128439429, -0.8631722694399285, -0.5119535136330179, -0.48078019166296126, -1.029605559243594, -1.5042430420415336, 0.5158157928775244, -0.5420072374369286, -0.7948471452010908, -0.36869055662136463, 0.7132943112944887, -1.3792156308894425, -0.9217650652029417, -0.13835484734774714, -0.8583622414714944, 0.7429818290509952], \"y\": [-0.7571651906745785, -1.1556692933233748, 1.7806297444554822, 0.4578599448036818, 1.3309205784351237, 0.8239282422962768, -1.6848863051524432, -0.7541222351356808, 0.3579900278059774, -0.6973499798885667, -1.1185123874430996, -0.2994648817501223, 0.06704295585652872, 0.02035832821945884, -1.3294390657182, 1.022252936447132, 1.0053336991661836, 0.07190096462962152, -0.9755733581483298, 1.4321795955170138, 0.7682701841913601, 1.4106140993914187, 0.8842862535844305, -0.47573009331610966, 1.3925150436772173, 1.5229403142636067, 0.4979127015679674, -0.22798055804358228, -0.0015201187562104794, -0.7495407346801771, 1.328528954537974, -0.2435124822982681, 1.9527621822822765, 1.9676936762797141, 0.6930920592087606, -1.2047070952737269, -0.23371188951046254, 0.0904489820968438, -0.1922827287818314, -0.09443850073079627, 0.35411209910976243, -0.7378673061324998, -1.500182599220915, 0.027248475993117298, -1.5928417705059106, -0.270816497865613, -0.5085227360674233, -0.3417589089128278, -0.6571341304736517, 1.6035827297495748, -0.3095623753122842, 0.11219869134530197, -0.1270892021909148, 0.532977431473964, -1.3464165418222898, 1.1316424758934114, -0.7622335583741608, -0.24702200690165985, -0.4630147906934118, -0.36319885697730925, -1.4496796124020117, 0.9489037775907716, -1.0559602914410788, -0.40517571814914105, -0.9460764335874674, 0.07137266324652135, 0.44539589417145947, -0.7411187275501535, -0.30809178688149913, 0.6771270266525428, -2.0070739280271974, -0.40191263907329716, 0.2462375338243192, -0.7361069754945546, 0.2450920395430285, -0.10131033533366482, -0.7939623166404947, 0.26092941113513224, -0.04144594794792293, -1.465015360378068, -0.40845640726951, 1.540098306745973, -1.8807183485864425, 0.26192533874844304, 0.43606184773113804, -0.6976882584015038, -0.33883690793114757, 0.5501987049405354, -0.17977156442569758, 0.09407305437372032, 0.3905632022559406, -0.679164724948543, 0.7852670833079327, 0.5878197275238274, -1.2513417011321166, 0.9602883150342724, 1.3460439652971705, -0.14988934526054964, -0.34372152424350455, 0.7834210604939421]}],\n",
       "                        {\"legend\": {\"bgcolor\": \"#F5F6F9\", \"font\": {\"color\": \"#4D5663\"}}, \"paper_bgcolor\": \"#F5F6F9\", \"plot_bgcolor\": \"#F5F6F9\", \"template\": {\"data\": {\"bar\": [{\"error_x\": {\"color\": \"#2a3f5f\"}, \"error_y\": {\"color\": \"#2a3f5f\"}, \"marker\": {\"line\": {\"color\": \"#E5ECF6\", \"width\": 0.5}}, \"type\": \"bar\"}], \"barpolar\": [{\"marker\": {\"line\": {\"color\": \"#E5ECF6\", \"width\": 0.5}}, \"type\": \"barpolar\"}], \"carpet\": [{\"aaxis\": {\"endlinecolor\": \"#2a3f5f\", \"gridcolor\": \"white\", \"linecolor\": \"white\", \"minorgridcolor\": \"white\", \"startlinecolor\": \"#2a3f5f\"}, \"baxis\": {\"endlinecolor\": \"#2a3f5f\", \"gridcolor\": \"white\", \"linecolor\": \"white\", \"minorgridcolor\": \"white\", \"startlinecolor\": \"#2a3f5f\"}, \"type\": \"carpet\"}], \"choropleth\": [{\"colorbar\": {\"outlinewidth\": 0, \"ticks\": \"\"}, \"type\": \"choropleth\"}], \"contour\": [{\"colorbar\": {\"outlinewidth\": 0, \"ticks\": \"\"}, \"colorscale\": [[0.0, \"#0d0887\"], [0.1111111111111111, \"#46039f\"], [0.2222222222222222, \"#7201a8\"], [0.3333333333333333, \"#9c179e\"], [0.4444444444444444, \"#bd3786\"], [0.5555555555555556, \"#d8576b\"], [0.6666666666666666, \"#ed7953\"], [0.7777777777777778, \"#fb9f3a\"], [0.8888888888888888, \"#fdca26\"], [1.0, \"#f0f921\"]], \"type\": \"contour\"}], \"contourcarpet\": [{\"colorbar\": {\"outlinewidth\": 0, \"ticks\": \"\"}, \"type\": \"contourcarpet\"}], \"heatmap\": [{\"colorbar\": {\"outlinewidth\": 0, \"ticks\": \"\"}, \"colorscale\": [[0.0, \"#0d0887\"], [0.1111111111111111, \"#46039f\"], [0.2222222222222222, \"#7201a8\"], [0.3333333333333333, \"#9c179e\"], [0.4444444444444444, \"#bd3786\"], [0.5555555555555556, \"#d8576b\"], [0.6666666666666666, \"#ed7953\"], [0.7777777777777778, \"#fb9f3a\"], [0.8888888888888888, \"#fdca26\"], [1.0, \"#f0f921\"]], \"type\": \"heatmap\"}], \"heatmapgl\": [{\"colorbar\": {\"outlinewidth\": 0, \"ticks\": \"\"}, \"colorscale\": [[0.0, \"#0d0887\"], [0.1111111111111111, \"#46039f\"], [0.2222222222222222, \"#7201a8\"], [0.3333333333333333, \"#9c179e\"], [0.4444444444444444, \"#bd3786\"], [0.5555555555555556, \"#d8576b\"], [0.6666666666666666, \"#ed7953\"], [0.7777777777777778, \"#fb9f3a\"], [0.8888888888888888, \"#fdca26\"], [1.0, \"#f0f921\"]], \"type\": \"heatmapgl\"}], \"histogram\": [{\"marker\": {\"colorbar\": {\"outlinewidth\": 0, \"ticks\": \"\"}}, \"type\": \"histogram\"}], \"histogram2d\": [{\"colorbar\": {\"outlinewidth\": 0, \"ticks\": \"\"}, \"colorscale\": [[0.0, \"#0d0887\"], [0.1111111111111111, \"#46039f\"], [0.2222222222222222, \"#7201a8\"], [0.3333333333333333, \"#9c179e\"], [0.4444444444444444, \"#bd3786\"], [0.5555555555555556, \"#d8576b\"], [0.6666666666666666, \"#ed7953\"], [0.7777777777777778, \"#fb9f3a\"], [0.8888888888888888, \"#fdca26\"], [1.0, \"#f0f921\"]], \"type\": \"histogram2d\"}], \"histogram2dcontour\": [{\"colorbar\": {\"outlinewidth\": 0, \"ticks\": \"\"}, \"colorscale\": [[0.0, \"#0d0887\"], [0.1111111111111111, \"#46039f\"], [0.2222222222222222, \"#7201a8\"], [0.3333333333333333, \"#9c179e\"], [0.4444444444444444, \"#bd3786\"], [0.5555555555555556, \"#d8576b\"], [0.6666666666666666, \"#ed7953\"], [0.7777777777777778, \"#fb9f3a\"], [0.8888888888888888, \"#fdca26\"], [1.0, \"#f0f921\"]], \"type\": \"histogram2dcontour\"}], \"mesh3d\": [{\"colorbar\": {\"outlinewidth\": 0, \"ticks\": \"\"}, \"type\": \"mesh3d\"}], \"parcoords\": [{\"line\": {\"colorbar\": {\"outlinewidth\": 0, \"ticks\": \"\"}}, \"type\": \"parcoords\"}], \"pie\": [{\"automargin\": true, \"type\": \"pie\"}], \"scatter\": [{\"marker\": {\"colorbar\": {\"outlinewidth\": 0, \"ticks\": \"\"}}, \"type\": \"scatter\"}], \"scatter3d\": [{\"line\": {\"colorbar\": {\"outlinewidth\": 0, \"ticks\": \"\"}}, \"marker\": {\"colorbar\": {\"outlinewidth\": 0, \"ticks\": \"\"}}, \"type\": \"scatter3d\"}], \"scattercarpet\": [{\"marker\": {\"colorbar\": {\"outlinewidth\": 0, \"ticks\": \"\"}}, \"type\": \"scattercarpet\"}], \"scattergeo\": [{\"marker\": {\"colorbar\": {\"outlinewidth\": 0, \"ticks\": \"\"}}, \"type\": \"scattergeo\"}], \"scattergl\": [{\"marker\": {\"colorbar\": {\"outlinewidth\": 0, \"ticks\": \"\"}}, \"type\": \"scattergl\"}], \"scattermapbox\": [{\"marker\": {\"colorbar\": {\"outlinewidth\": 0, \"ticks\": \"\"}}, \"type\": \"scattermapbox\"}], \"scatterpolar\": [{\"marker\": {\"colorbar\": {\"outlinewidth\": 0, \"ticks\": \"\"}}, \"type\": \"scatterpolar\"}], \"scatterpolargl\": [{\"marker\": {\"colorbar\": {\"outlinewidth\": 0, \"ticks\": \"\"}}, \"type\": \"scatterpolargl\"}], \"scatterternary\": [{\"marker\": {\"colorbar\": {\"outlinewidth\": 0, \"ticks\": \"\"}}, \"type\": \"scatterternary\"}], \"surface\": [{\"colorbar\": {\"outlinewidth\": 0, \"ticks\": \"\"}, \"colorscale\": [[0.0, \"#0d0887\"], [0.1111111111111111, \"#46039f\"], [0.2222222222222222, \"#7201a8\"], [0.3333333333333333, \"#9c179e\"], [0.4444444444444444, \"#bd3786\"], [0.5555555555555556, \"#d8576b\"], [0.6666666666666666, \"#ed7953\"], [0.7777777777777778, \"#fb9f3a\"], [0.8888888888888888, \"#fdca26\"], [1.0, \"#f0f921\"]], \"type\": \"surface\"}], \"table\": [{\"cells\": {\"fill\": {\"color\": \"#EBF0F8\"}, \"line\": {\"color\": \"white\"}}, \"header\": {\"fill\": {\"color\": \"#C8D4E3\"}, \"line\": {\"color\": \"white\"}}, \"type\": \"table\"}]}, \"layout\": {\"annotationdefaults\": {\"arrowcolor\": \"#2a3f5f\", \"arrowhead\": 0, \"arrowwidth\": 1}, \"coloraxis\": {\"colorbar\": {\"outlinewidth\": 0, \"ticks\": \"\"}}, \"colorscale\": {\"diverging\": [[0, \"#8e0152\"], [0.1, \"#c51b7d\"], [0.2, \"#de77ae\"], [0.3, \"#f1b6da\"], [0.4, \"#fde0ef\"], [0.5, \"#f7f7f7\"], [0.6, \"#e6f5d0\"], [0.7, \"#b8e186\"], [0.8, \"#7fbc41\"], [0.9, \"#4d9221\"], [1, \"#276419\"]], \"sequential\": [[0.0, \"#0d0887\"], [0.1111111111111111, \"#46039f\"], [0.2222222222222222, \"#7201a8\"], [0.3333333333333333, \"#9c179e\"], [0.4444444444444444, \"#bd3786\"], [0.5555555555555556, \"#d8576b\"], [0.6666666666666666, \"#ed7953\"], [0.7777777777777778, \"#fb9f3a\"], [0.8888888888888888, \"#fdca26\"], [1.0, \"#f0f921\"]], \"sequentialminus\": [[0.0, \"#0d0887\"], [0.1111111111111111, \"#46039f\"], [0.2222222222222222, \"#7201a8\"], [0.3333333333333333, \"#9c179e\"], [0.4444444444444444, \"#bd3786\"], [0.5555555555555556, \"#d8576b\"], [0.6666666666666666, \"#ed7953\"], [0.7777777777777778, \"#fb9f3a\"], [0.8888888888888888, \"#fdca26\"], [1.0, \"#f0f921\"]]}, \"colorway\": [\"#636efa\", \"#EF553B\", \"#00cc96\", \"#ab63fa\", \"#FFA15A\", \"#19d3f3\", \"#FF6692\", \"#B6E880\", \"#FF97FF\", \"#FECB52\"], \"font\": {\"color\": \"#2a3f5f\"}, \"geo\": {\"bgcolor\": \"white\", \"lakecolor\": \"white\", \"landcolor\": \"#E5ECF6\", \"showlakes\": true, \"showland\": true, \"subunitcolor\": \"white\"}, \"hoverlabel\": {\"align\": \"left\"}, \"hovermode\": \"closest\", \"mapbox\": {\"style\": \"light\"}, \"paper_bgcolor\": \"white\", \"plot_bgcolor\": \"#E5ECF6\", \"polar\": {\"angularaxis\": {\"gridcolor\": \"white\", \"linecolor\": \"white\", \"ticks\": \"\"}, \"bgcolor\": \"#E5ECF6\", \"radialaxis\": {\"gridcolor\": \"white\", \"linecolor\": \"white\", \"ticks\": \"\"}}, \"scene\": {\"xaxis\": {\"backgroundcolor\": \"#E5ECF6\", \"gridcolor\": \"white\", \"gridwidth\": 2, \"linecolor\": \"white\", \"showbackground\": true, \"ticks\": \"\", \"zerolinecolor\": \"white\"}, \"yaxis\": {\"backgroundcolor\": \"#E5ECF6\", \"gridcolor\": \"white\", \"gridwidth\": 2, \"linecolor\": \"white\", \"showbackground\": true, \"ticks\": \"\", \"zerolinecolor\": \"white\"}, \"zaxis\": {\"backgroundcolor\": \"#E5ECF6\", \"gridcolor\": \"white\", \"gridwidth\": 2, \"linecolor\": \"white\", \"showbackground\": true, \"ticks\": \"\", \"zerolinecolor\": \"white\"}}, \"shapedefaults\": {\"line\": {\"color\": \"#2a3f5f\"}}, \"ternary\": {\"aaxis\": {\"gridcolor\": \"white\", \"linecolor\": \"white\", \"ticks\": \"\"}, \"baxis\": {\"gridcolor\": \"white\", \"linecolor\": \"white\", \"ticks\": \"\"}, \"bgcolor\": \"#E5ECF6\", \"caxis\": {\"gridcolor\": \"white\", \"linecolor\": \"white\", \"ticks\": \"\"}}, \"title\": {\"x\": 0.05}, \"xaxis\": {\"automargin\": true, \"gridcolor\": \"white\", \"linecolor\": \"white\", \"ticks\": \"\", \"title\": {\"standoff\": 15}, \"zerolinecolor\": \"white\", \"zerolinewidth\": 2}, \"yaxis\": {\"automargin\": true, \"gridcolor\": \"white\", \"linecolor\": \"white\", \"ticks\": \"\", \"title\": {\"standoff\": 15}, \"zerolinecolor\": \"white\", \"zerolinewidth\": 2}}}, \"title\": {\"font\": {\"color\": \"#4D5663\"}}, \"xaxis\": {\"gridcolor\": \"#E1E5ED\", \"showgrid\": true, \"tickfont\": {\"color\": \"#4D5663\"}, \"title\": {\"font\": {\"color\": \"#4D5663\"}, \"text\": \"\"}, \"zerolinecolor\": \"#E1E5ED\"}, \"yaxis\": {\"gridcolor\": \"#E1E5ED\", \"showgrid\": true, \"tickfont\": {\"color\": \"#4D5663\"}, \"title\": {\"font\": {\"color\": \"#4D5663\"}, \"text\": \"\"}, \"zerolinecolor\": \"#E1E5ED\"}},\n",
       "                        {\"showLink\": true, \"linkText\": \"Export to plot.ly\", \"plotlyServerURL\": \"https://plot.ly\", \"responsive\": true}\n",
       "                    ).then(function(){\n",
       "                            \n",
       "var gd = document.getElementById('7a1159a4-5795-4c1d-9d55-99da249712ec');\n",
       "var x = new MutationObserver(function (mutations, observer) {{\n",
       "        var display = window.getComputedStyle(gd).display;\n",
       "        if (!display || display === 'none') {{\n",
       "            console.log([gd, 'removed!']);\n",
       "            Plotly.purge(gd);\n",
       "            observer.disconnect();\n",
       "        }}\n",
       "}});\n",
       "\n",
       "// Listen for the removal of the full notebook cells\n",
       "var notebookContainer = gd.closest('#notebook-container');\n",
       "if (notebookContainer) {{\n",
       "    x.observe(notebookContainer, {childList: true});\n",
       "}}\n",
       "\n",
       "// Listen for the clearing of the current output cell\n",
       "var outputEl = gd.closest('.output');\n",
       "if (outputEl) {{\n",
       "    x.observe(outputEl, {childList: true});\n",
       "}}\n",
       "\n",
       "                        })\n",
       "                };\n",
       "                });\n",
       "            </script>\n",
       "        </div>"
      ]
     },
     "metadata": {},
     "output_type": "display_data"
    }
   ],
   "source": [
    "df.iplot(kind='bubble',x='A',y='B',size='C',colorscale='rdylbu')"
   ]
  },
  {
   "cell_type": "code",
   "execution_count": 55,
   "metadata": {},
   "outputs": [
    {
     "data": {
      "application/vnd.plotly.v1+json": {
       "config": {
        "linkText": "Export to plot.ly",
        "plotlyServerURL": "https://plot.ly",
        "showLink": true
       },
       "data": [
        {
         "histfunc": "count",
         "histnorm": "",
         "marker": {
          "color": "rgba(255, 153, 51, 1.0)",
          "line": {
           "color": "#4D5663",
           "width": 1.3
          }
         },
         "name": "A",
         "nbinsx": 10,
         "opacity": 0.8,
         "orientation": "v",
         "type": "histogram",
         "x": [
          -1.4496360721844352,
          0.8873978843611828,
          -0.0390005807228342,
          0.030354177296635507,
          -0.3777079685985477,
          0.7588829084593641,
          1.734314215168449,
          -1.0900571341974001,
          -0.26212755041413577,
          0.19364864806034585,
          -0.9946781453834873,
          -0.5471429181687236,
          1.1732797419683796,
          1.235234107700757,
          -0.26710267063565957,
          -0.7268934769880704,
          -0.17906255966251938,
          0.5201489560628967,
          -1.6962464206752095,
          -0.7905996353292317,
          1.0473869660555215,
          0.04802206082745249,
          0.20334625486219532,
          -1.3941983885214801,
          0.409517162314868,
          0.31743795887216947,
          -0.1738585088517065,
          1.0571586290988335,
          0.22222857212629238,
          0.4237051899004442,
          0.8817814321900838,
          -0.9945117189097893,
          0.609288713378068,
          -1.2257490943806924,
          0.04615213537108449,
          -0.0848659535189674,
          -0.7419795644501216,
          -1.8066909616396531,
          -0.23974209506206925,
          1.4501993799905353,
          1.073342810167746,
          0.13755145441258418,
          -0.3104393727987269,
          0.49563843991103945,
          -0.7697431316816101,
          1.0633053005867261,
          -0.14169903118004062,
          -0.14265777722376277,
          -0.6839225466888054,
          0.9104680213199234,
          1.2971032249047207,
          -0.7011824318955198,
          -1.5986857325137882,
          -0.08495920203130981,
          0.2999946955662853,
          0.34963662572100734,
          -0.7047268274905389,
          1.9305763656598314,
          -0.35904459916833176,
          -1.465147485068314,
          -0.5374034024718863,
          0.5007235303428342,
          0.9592497249996453,
          0.468687366985324,
          -0.39259115256891614,
          -2.1800411944205154,
          -1.0064088646940648,
          -0.29041651428032966,
          0.7388927602477078,
          -3.710326106474891,
          2.1187589672232594,
          0.30162533896878263,
          -0.8720118972663534,
          -1.6590026203861716,
          -1.1090949649380255,
          -0.06183130292129761,
          0.37017693546974145,
          0.6156971033143431,
          -0.5893997136482556,
          0.03148720687477286,
          0.362851143311647,
          0.7851032925490155,
          -0.10274326611110957,
          -0.7700967825748634,
          -0.0941796128439429,
          -0.8631722694399285,
          -0.5119535136330179,
          -0.48078019166296126,
          -1.029605559243594,
          -1.5042430420415336,
          0.5158157928775244,
          -0.5420072374369286,
          -0.7948471452010908,
          -0.36869055662136463,
          0.7132943112944887,
          -1.3792156308894425,
          -0.9217650652029417,
          -0.13835484734774714,
          -0.8583622414714944,
          0.7429818290509952
         ],
         "xaxis": "x",
         "yaxis": "y"
        },
        {
         "line": {
          "color": "rgba(128, 128, 128, 1.0)",
          "dash": "solid",
          "shape": "linear",
          "width": 1.3
         },
         "marker": {
          "size": 2,
          "symbol": "circle"
         },
         "mode": "markers",
         "name": "A",
         "text": "",
         "type": "scatter",
         "x": [
          -0.7571651906745785,
          -1.1556692933233748,
          1.7806297444554822,
          0.4578599448036818,
          1.3309205784351237,
          0.8239282422962768,
          -1.6848863051524432,
          -0.7541222351356808,
          0.3579900278059774,
          -0.6973499798885667,
          -1.1185123874430996,
          -0.2994648817501223,
          0.06704295585652872,
          0.02035832821945884,
          -1.3294390657182,
          1.022252936447132,
          1.0053336991661836,
          0.07190096462962152,
          -0.9755733581483298,
          1.4321795955170138,
          0.7682701841913601,
          1.4106140993914187,
          0.8842862535844305,
          -0.47573009331610966,
          1.3925150436772173,
          1.5229403142636067,
          0.4979127015679674,
          -0.22798055804358228,
          -0.0015201187562104794,
          -0.7495407346801771,
          1.328528954537974,
          -0.2435124822982681,
          1.9527621822822765,
          1.9676936762797141,
          0.6930920592087606,
          -1.2047070952737269,
          -0.23371188951046254,
          0.0904489820968438,
          -0.1922827287818314,
          -0.09443850073079627,
          0.35411209910976243,
          -0.7378673061324998,
          -1.500182599220915,
          0.027248475993117298,
          -1.5928417705059106,
          -0.270816497865613,
          -0.5085227360674233,
          -0.3417589089128278,
          -0.6571341304736517,
          1.6035827297495748,
          -0.3095623753122842,
          0.11219869134530197,
          -0.1270892021909148,
          0.532977431473964,
          -1.3464165418222898,
          1.1316424758934114,
          -0.7622335583741608,
          -0.24702200690165985,
          -0.4630147906934118,
          -0.36319885697730925,
          -1.4496796124020117,
          0.9489037775907716,
          -1.0559602914410788,
          -0.40517571814914105,
          -0.9460764335874674,
          0.07137266324652135,
          0.44539589417145947,
          -0.7411187275501535,
          -0.30809178688149913,
          0.6771270266525428,
          -2.0070739280271974,
          -0.40191263907329716,
          0.2462375338243192,
          -0.7361069754945546,
          0.2450920395430285,
          -0.10131033533366482,
          -0.7939623166404947,
          0.26092941113513224,
          -0.04144594794792293,
          -1.465015360378068,
          -0.40845640726951,
          1.540098306745973,
          -1.8807183485864425,
          0.26192533874844304,
          0.43606184773113804,
          -0.6976882584015038,
          -0.33883690793114757,
          0.5501987049405354,
          -0.17977156442569758,
          0.09407305437372032,
          0.3905632022559406,
          -0.679164724948543,
          0.7852670833079327,
          0.5878197275238274,
          -1.2513417011321166,
          0.9602883150342724,
          1.3460439652971705,
          -0.14988934526054964,
          -0.34372152424350455,
          0.7834210604939421
         ],
         "xaxis": "x2",
         "y": [
          -1.4496360721844352,
          0.8873978843611828,
          -0.0390005807228342,
          0.030354177296635507,
          -0.3777079685985477,
          0.7588829084593641,
          1.734314215168449,
          -1.0900571341974001,
          -0.26212755041413577,
          0.19364864806034585,
          -0.9946781453834873,
          -0.5471429181687236,
          1.1732797419683796,
          1.235234107700757,
          -0.26710267063565957,
          -0.7268934769880704,
          -0.17906255966251938,
          0.5201489560628967,
          -1.6962464206752095,
          -0.7905996353292317,
          1.0473869660555215,
          0.04802206082745249,
          0.20334625486219532,
          -1.3941983885214801,
          0.409517162314868,
          0.31743795887216947,
          -0.1738585088517065,
          1.0571586290988335,
          0.22222857212629238,
          0.4237051899004442,
          0.8817814321900838,
          -0.9945117189097893,
          0.609288713378068,
          -1.2257490943806924,
          0.04615213537108449,
          -0.0848659535189674,
          -0.7419795644501216,
          -1.8066909616396531,
          -0.23974209506206925,
          1.4501993799905353,
          1.073342810167746,
          0.13755145441258418,
          -0.3104393727987269,
          0.49563843991103945,
          -0.7697431316816101,
          1.0633053005867261,
          -0.14169903118004062,
          -0.14265777722376277,
          -0.6839225466888054,
          0.9104680213199234,
          1.2971032249047207,
          -0.7011824318955198,
          -1.5986857325137882,
          -0.08495920203130981,
          0.2999946955662853,
          0.34963662572100734,
          -0.7047268274905389,
          1.9305763656598314,
          -0.35904459916833176,
          -1.465147485068314,
          -0.5374034024718863,
          0.5007235303428342,
          0.9592497249996453,
          0.468687366985324,
          -0.39259115256891614,
          -2.1800411944205154,
          -1.0064088646940648,
          -0.29041651428032966,
          0.7388927602477078,
          -3.710326106474891,
          2.1187589672232594,
          0.30162533896878263,
          -0.8720118972663534,
          -1.6590026203861716,
          -1.1090949649380255,
          -0.06183130292129761,
          0.37017693546974145,
          0.6156971033143431,
          -0.5893997136482556,
          0.03148720687477286,
          0.362851143311647,
          0.7851032925490155,
          -0.10274326611110957,
          -0.7700967825748634,
          -0.0941796128439429,
          -0.8631722694399285,
          -0.5119535136330179,
          -0.48078019166296126,
          -1.029605559243594,
          -1.5042430420415336,
          0.5158157928775244,
          -0.5420072374369286,
          -0.7948471452010908,
          -0.36869055662136463,
          0.7132943112944887,
          -1.3792156308894425,
          -0.9217650652029417,
          -0.13835484734774714,
          -0.8583622414714944,
          0.7429818290509952
         ],
         "yaxis": "y2"
        },
        {
         "line": {
          "color": "rgba(128, 128, 128, 1.0)",
          "dash": "solid",
          "shape": "linear",
          "width": 1.3
         },
         "marker": {
          "size": 2,
          "symbol": "circle"
         },
         "mode": "markers",
         "name": "A",
         "text": "",
         "type": "scatter",
         "x": [
          0.8144031091441553,
          0.7767619217029104,
          -0.4764861573350728,
          -1.7226282800430874,
          0.042954129507712116,
          -0.3461675845414054,
          -0.7093891075748427,
          0.6669058031587073,
          0.035977966037093044,
          0.773764364205727,
          -0.7624084615721775,
          -1.3352148366311936,
          -0.3488280692797366,
          0.3764584596388346,
          0.9290030851987335,
          2.570512448929575,
          -0.1730088984696346,
          -0.8365732469476568,
          0.8572894798512208,
          -1.7956260874110428,
          0.12945968581180442,
          0.917147643605632,
          -1.0687848267009672,
          0.6108188839965774,
          2.3923131085463596,
          -0.24111343565575363,
          1.6239737711767945,
          1.492087772180699,
          -0.3166835221387118,
          0.21391682523433128,
          1.3431401414834065,
          -0.33658330930052444,
          -0.06040031829111864,
          0.8575727193535894,
          0.8456303236478259,
          0.5873179710868004,
          -0.5153380003082056,
          0.30125334982497637,
          0.1387728307020779,
          -2.0084040208601572,
          0.43358873563114636,
          0.3336515430236771,
          1.1151060269365956,
          0.7700750890092685,
          -0.5398110452866328,
          -0.2145185903736761,
          -1.3579275829890975,
          -0.6063766417218892,
          -0.9361307838015346,
          -1.0341589706399332,
          -0.7735923539922803,
          0.5942197674390316,
          -0.7974997044360369,
          -0.4852376362427482,
          -0.6047029260240983,
          1.2677565721539823,
          0.7557749349842667,
          0.4005016589869277,
          1.7602240792382622,
          0.32785068102032794,
          -0.6924844983630888,
          0.28986689317335373,
          0.8346389766682714,
          -1.3181947665753797,
          -0.26491627511662014,
          -0.3913940425717173,
          0.24578259997284216,
          -0.20406695835053235,
          -1.4274656154378003,
          -0.06264926304347601,
          -1.2096626431097994,
          -0.4221286398408152,
          -0.1762422629662039,
          -1.5380399030712135,
          0.33860478504924724,
          -0.5629873262671605,
          0.0016011056051914252,
          -0.345031010096941,
          1.2149291432694307,
          0.3775203769110489,
          -0.9953085279115665,
          0.33448933924794494,
          -0.8031246494573918,
          0.13226274769544108,
          0.36886075784824823,
          -1.3706518061137527,
          -0.7190573390676255,
          0.3375015552640827,
          0.12674617471946514,
          0.2855452890026702,
          -0.50132927206113,
          0.5567349826342716,
          -0.025261974047004934,
          -0.0012146459766086911,
          0.678076473554741,
          0.2262779748256039,
          0.7781458207393253,
          0.5809436007719051,
          1.5118791070809483,
          -0.734171047799401
         ],
         "xaxis": "x3",
         "y": [
          -1.4496360721844352,
          0.8873978843611828,
          -0.0390005807228342,
          0.030354177296635507,
          -0.3777079685985477,
          0.7588829084593641,
          1.734314215168449,
          -1.0900571341974001,
          -0.26212755041413577,
          0.19364864806034585,
          -0.9946781453834873,
          -0.5471429181687236,
          1.1732797419683796,
          1.235234107700757,
          -0.26710267063565957,
          -0.7268934769880704,
          -0.17906255966251938,
          0.5201489560628967,
          -1.6962464206752095,
          -0.7905996353292317,
          1.0473869660555215,
          0.04802206082745249,
          0.20334625486219532,
          -1.3941983885214801,
          0.409517162314868,
          0.31743795887216947,
          -0.1738585088517065,
          1.0571586290988335,
          0.22222857212629238,
          0.4237051899004442,
          0.8817814321900838,
          -0.9945117189097893,
          0.609288713378068,
          -1.2257490943806924,
          0.04615213537108449,
          -0.0848659535189674,
          -0.7419795644501216,
          -1.8066909616396531,
          -0.23974209506206925,
          1.4501993799905353,
          1.073342810167746,
          0.13755145441258418,
          -0.3104393727987269,
          0.49563843991103945,
          -0.7697431316816101,
          1.0633053005867261,
          -0.14169903118004062,
          -0.14265777722376277,
          -0.6839225466888054,
          0.9104680213199234,
          1.2971032249047207,
          -0.7011824318955198,
          -1.5986857325137882,
          -0.08495920203130981,
          0.2999946955662853,
          0.34963662572100734,
          -0.7047268274905389,
          1.9305763656598314,
          -0.35904459916833176,
          -1.465147485068314,
          -0.5374034024718863,
          0.5007235303428342,
          0.9592497249996453,
          0.468687366985324,
          -0.39259115256891614,
          -2.1800411944205154,
          -1.0064088646940648,
          -0.29041651428032966,
          0.7388927602477078,
          -3.710326106474891,
          2.1187589672232594,
          0.30162533896878263,
          -0.8720118972663534,
          -1.6590026203861716,
          -1.1090949649380255,
          -0.06183130292129761,
          0.37017693546974145,
          0.6156971033143431,
          -0.5893997136482556,
          0.03148720687477286,
          0.362851143311647,
          0.7851032925490155,
          -0.10274326611110957,
          -0.7700967825748634,
          -0.0941796128439429,
          -0.8631722694399285,
          -0.5119535136330179,
          -0.48078019166296126,
          -1.029605559243594,
          -1.5042430420415336,
          0.5158157928775244,
          -0.5420072374369286,
          -0.7948471452010908,
          -0.36869055662136463,
          0.7132943112944887,
          -1.3792156308894425,
          -0.9217650652029417,
          -0.13835484734774714,
          -0.8583622414714944,
          0.7429818290509952
         ],
         "yaxis": "y3"
        },
        {
         "line": {
          "color": "rgba(128, 128, 128, 1.0)",
          "dash": "solid",
          "shape": "linear",
          "width": 1.3
         },
         "marker": {
          "size": 2,
          "symbol": "circle"
         },
         "mode": "markers",
         "name": "A",
         "text": "",
         "type": "scatter",
         "x": [
          1.3932533212334495,
          0.2241684371883963,
          0.9750739274414556,
          0.5940652666865319,
          1.2101033243388055,
          0.4448609850652139,
          -0.2658450901566835,
          0.630189739869328,
          0.45172696457443956,
          0.4628868786377445,
          -2.7643136612774355,
          -0.16984537073399386,
          0.1747704809129454,
          -0.5487720891818902,
          0.9127644892428154,
          -0.16297336412093263,
          1.8810303028581048,
          0.10885961489826855,
          0.8293140258192842,
          -0.9736957308055706,
          -0.06722625279633468,
          -0.5714920481354261,
          0.5756138704145813,
          -0.13826268728074936,
          -0.3261600511019883,
          -0.7709141294499515,
          -1.5711268752601908,
          0.003749006012046726,
          0.4321633962530361,
          -0.30228068216206827,
          0.9832046396284396,
          0.37639781108943754,
          -1.0178912866442507,
          -0.1217171208639235,
          -1.7119142286429185,
          1.09556567404667,
          -1.1587629221693567,
          0.6917638459868968,
          0.06054613331850782,
          -0.2756573269474395,
          -0.00906471933142405,
          1.0107867164979152,
          -2.210812992949009,
          -1.8885447332496859,
          0.2144885066184908,
          0.32651362922457156,
          -0.2368041802315175,
          0.6588066394885467,
          1.495762187666791,
          1.7118026044219314,
          -0.693560211520616,
          -0.5742587471362914,
          -0.47711502709919046,
          -0.21067912239226097,
          -0.08793123477124042,
          -1.9587264157548534,
          0.19264765108253026,
          1.382955525139188,
          0.3515646814534139,
          0.4613935114459003,
          0.16813161076923622,
          -0.6922388637613162,
          -0.09636032777922349,
          1.3074300912687304,
          0.5915356227600267,
          -0.576926181705004,
          -0.09846807905122404,
          -0.4908966197585694,
          -0.39270830024857306,
          1.2569680324133468,
          0.8737042352745313,
          0.4384351029698666,
          -0.38975732942115365,
          0.250533313608815,
          -0.7064115862357414,
          1.1872554736643324,
          0.8684234618402348,
          1.837419198543538,
          0.3455750124730475,
          -0.8431045456509281,
          0.2504725540093318,
          -0.3641331342287776,
          -0.1786119379181722,
          1.9131851841668437,
          -0.6744099032527255,
          -1.0173693879993573,
          -1.2564859236649464,
          -0.014319618356981197,
          0.4248904951872451,
          -0.5306552555381103,
          -0.7367035266810666,
          0.5831548802400632,
          -1.6756500385628834,
          -0.4093871128858697,
          1.0745448254148906,
          -1.521323754786965,
          -0.6709081766186101,
          -0.6535283479195353,
          0.857675773196685,
          -0.7985601870201094
         ],
         "xaxis": "x4",
         "y": [
          -1.4496360721844352,
          0.8873978843611828,
          -0.0390005807228342,
          0.030354177296635507,
          -0.3777079685985477,
          0.7588829084593641,
          1.734314215168449,
          -1.0900571341974001,
          -0.26212755041413577,
          0.19364864806034585,
          -0.9946781453834873,
          -0.5471429181687236,
          1.1732797419683796,
          1.235234107700757,
          -0.26710267063565957,
          -0.7268934769880704,
          -0.17906255966251938,
          0.5201489560628967,
          -1.6962464206752095,
          -0.7905996353292317,
          1.0473869660555215,
          0.04802206082745249,
          0.20334625486219532,
          -1.3941983885214801,
          0.409517162314868,
          0.31743795887216947,
          -0.1738585088517065,
          1.0571586290988335,
          0.22222857212629238,
          0.4237051899004442,
          0.8817814321900838,
          -0.9945117189097893,
          0.609288713378068,
          -1.2257490943806924,
          0.04615213537108449,
          -0.0848659535189674,
          -0.7419795644501216,
          -1.8066909616396531,
          -0.23974209506206925,
          1.4501993799905353,
          1.073342810167746,
          0.13755145441258418,
          -0.3104393727987269,
          0.49563843991103945,
          -0.7697431316816101,
          1.0633053005867261,
          -0.14169903118004062,
          -0.14265777722376277,
          -0.6839225466888054,
          0.9104680213199234,
          1.2971032249047207,
          -0.7011824318955198,
          -1.5986857325137882,
          -0.08495920203130981,
          0.2999946955662853,
          0.34963662572100734,
          -0.7047268274905389,
          1.9305763656598314,
          -0.35904459916833176,
          -1.465147485068314,
          -0.5374034024718863,
          0.5007235303428342,
          0.9592497249996453,
          0.468687366985324,
          -0.39259115256891614,
          -2.1800411944205154,
          -1.0064088646940648,
          -0.29041651428032966,
          0.7388927602477078,
          -3.710326106474891,
          2.1187589672232594,
          0.30162533896878263,
          -0.8720118972663534,
          -1.6590026203861716,
          -1.1090949649380255,
          -0.06183130292129761,
          0.37017693546974145,
          0.6156971033143431,
          -0.5893997136482556,
          0.03148720687477286,
          0.362851143311647,
          0.7851032925490155,
          -0.10274326611110957,
          -0.7700967825748634,
          -0.0941796128439429,
          -0.8631722694399285,
          -0.5119535136330179,
          -0.48078019166296126,
          -1.029605559243594,
          -1.5042430420415336,
          0.5158157928775244,
          -0.5420072374369286,
          -0.7948471452010908,
          -0.36869055662136463,
          0.7132943112944887,
          -1.3792156308894425,
          -0.9217650652029417,
          -0.13835484734774714,
          -0.8583622414714944,
          0.7429818290509952
         ],
         "yaxis": "y4"
        },
        {
         "line": {
          "color": "rgba(128, 128, 128, 1.0)",
          "dash": "solid",
          "shape": "linear",
          "width": 1.3
         },
         "marker": {
          "size": 2,
          "symbol": "circle"
         },
         "mode": "markers",
         "name": "B",
         "text": "",
         "type": "scatter",
         "x": [
          -1.4496360721844352,
          0.8873978843611828,
          -0.0390005807228342,
          0.030354177296635507,
          -0.3777079685985477,
          0.7588829084593641,
          1.734314215168449,
          -1.0900571341974001,
          -0.26212755041413577,
          0.19364864806034585,
          -0.9946781453834873,
          -0.5471429181687236,
          1.1732797419683796,
          1.235234107700757,
          -0.26710267063565957,
          -0.7268934769880704,
          -0.17906255966251938,
          0.5201489560628967,
          -1.6962464206752095,
          -0.7905996353292317,
          1.0473869660555215,
          0.04802206082745249,
          0.20334625486219532,
          -1.3941983885214801,
          0.409517162314868,
          0.31743795887216947,
          -0.1738585088517065,
          1.0571586290988335,
          0.22222857212629238,
          0.4237051899004442,
          0.8817814321900838,
          -0.9945117189097893,
          0.609288713378068,
          -1.2257490943806924,
          0.04615213537108449,
          -0.0848659535189674,
          -0.7419795644501216,
          -1.8066909616396531,
          -0.23974209506206925,
          1.4501993799905353,
          1.073342810167746,
          0.13755145441258418,
          -0.3104393727987269,
          0.49563843991103945,
          -0.7697431316816101,
          1.0633053005867261,
          -0.14169903118004062,
          -0.14265777722376277,
          -0.6839225466888054,
          0.9104680213199234,
          1.2971032249047207,
          -0.7011824318955198,
          -1.5986857325137882,
          -0.08495920203130981,
          0.2999946955662853,
          0.34963662572100734,
          -0.7047268274905389,
          1.9305763656598314,
          -0.35904459916833176,
          -1.465147485068314,
          -0.5374034024718863,
          0.5007235303428342,
          0.9592497249996453,
          0.468687366985324,
          -0.39259115256891614,
          -2.1800411944205154,
          -1.0064088646940648,
          -0.29041651428032966,
          0.7388927602477078,
          -3.710326106474891,
          2.1187589672232594,
          0.30162533896878263,
          -0.8720118972663534,
          -1.6590026203861716,
          -1.1090949649380255,
          -0.06183130292129761,
          0.37017693546974145,
          0.6156971033143431,
          -0.5893997136482556,
          0.03148720687477286,
          0.362851143311647,
          0.7851032925490155,
          -0.10274326611110957,
          -0.7700967825748634,
          -0.0941796128439429,
          -0.8631722694399285,
          -0.5119535136330179,
          -0.48078019166296126,
          -1.029605559243594,
          -1.5042430420415336,
          0.5158157928775244,
          -0.5420072374369286,
          -0.7948471452010908,
          -0.36869055662136463,
          0.7132943112944887,
          -1.3792156308894425,
          -0.9217650652029417,
          -0.13835484734774714,
          -0.8583622414714944,
          0.7429818290509952
         ],
         "xaxis": "x5",
         "y": [
          -0.7571651906745785,
          -1.1556692933233748,
          1.7806297444554822,
          0.4578599448036818,
          1.3309205784351237,
          0.8239282422962768,
          -1.6848863051524432,
          -0.7541222351356808,
          0.3579900278059774,
          -0.6973499798885667,
          -1.1185123874430996,
          -0.2994648817501223,
          0.06704295585652872,
          0.02035832821945884,
          -1.3294390657182,
          1.022252936447132,
          1.0053336991661836,
          0.07190096462962152,
          -0.9755733581483298,
          1.4321795955170138,
          0.7682701841913601,
          1.4106140993914187,
          0.8842862535844305,
          -0.47573009331610966,
          1.3925150436772173,
          1.5229403142636067,
          0.4979127015679674,
          -0.22798055804358228,
          -0.0015201187562104794,
          -0.7495407346801771,
          1.328528954537974,
          -0.2435124822982681,
          1.9527621822822765,
          1.9676936762797141,
          0.6930920592087606,
          -1.2047070952737269,
          -0.23371188951046254,
          0.0904489820968438,
          -0.1922827287818314,
          -0.09443850073079627,
          0.35411209910976243,
          -0.7378673061324998,
          -1.500182599220915,
          0.027248475993117298,
          -1.5928417705059106,
          -0.270816497865613,
          -0.5085227360674233,
          -0.3417589089128278,
          -0.6571341304736517,
          1.6035827297495748,
          -0.3095623753122842,
          0.11219869134530197,
          -0.1270892021909148,
          0.532977431473964,
          -1.3464165418222898,
          1.1316424758934114,
          -0.7622335583741608,
          -0.24702200690165985,
          -0.4630147906934118,
          -0.36319885697730925,
          -1.4496796124020117,
          0.9489037775907716,
          -1.0559602914410788,
          -0.40517571814914105,
          -0.9460764335874674,
          0.07137266324652135,
          0.44539589417145947,
          -0.7411187275501535,
          -0.30809178688149913,
          0.6771270266525428,
          -2.0070739280271974,
          -0.40191263907329716,
          0.2462375338243192,
          -0.7361069754945546,
          0.2450920395430285,
          -0.10131033533366482,
          -0.7939623166404947,
          0.26092941113513224,
          -0.04144594794792293,
          -1.465015360378068,
          -0.40845640726951,
          1.540098306745973,
          -1.8807183485864425,
          0.26192533874844304,
          0.43606184773113804,
          -0.6976882584015038,
          -0.33883690793114757,
          0.5501987049405354,
          -0.17977156442569758,
          0.09407305437372032,
          0.3905632022559406,
          -0.679164724948543,
          0.7852670833079327,
          0.5878197275238274,
          -1.2513417011321166,
          0.9602883150342724,
          1.3460439652971705,
          -0.14988934526054964,
          -0.34372152424350455,
          0.7834210604939421
         ],
         "yaxis": "y5"
        },
        {
         "histfunc": "count",
         "histnorm": "",
         "marker": {
          "color": "rgba(55, 128, 191, 1.0)",
          "line": {
           "color": "#4D5663",
           "width": 1.3
          }
         },
         "name": "B",
         "nbinsx": 10,
         "opacity": 0.8,
         "orientation": "v",
         "type": "histogram",
         "x": [
          -0.7571651906745785,
          -1.1556692933233748,
          1.7806297444554822,
          0.4578599448036818,
          1.3309205784351237,
          0.8239282422962768,
          -1.6848863051524432,
          -0.7541222351356808,
          0.3579900278059774,
          -0.6973499798885667,
          -1.1185123874430996,
          -0.2994648817501223,
          0.06704295585652872,
          0.02035832821945884,
          -1.3294390657182,
          1.022252936447132,
          1.0053336991661836,
          0.07190096462962152,
          -0.9755733581483298,
          1.4321795955170138,
          0.7682701841913601,
          1.4106140993914187,
          0.8842862535844305,
          -0.47573009331610966,
          1.3925150436772173,
          1.5229403142636067,
          0.4979127015679674,
          -0.22798055804358228,
          -0.0015201187562104794,
          -0.7495407346801771,
          1.328528954537974,
          -0.2435124822982681,
          1.9527621822822765,
          1.9676936762797141,
          0.6930920592087606,
          -1.2047070952737269,
          -0.23371188951046254,
          0.0904489820968438,
          -0.1922827287818314,
          -0.09443850073079627,
          0.35411209910976243,
          -0.7378673061324998,
          -1.500182599220915,
          0.027248475993117298,
          -1.5928417705059106,
          -0.270816497865613,
          -0.5085227360674233,
          -0.3417589089128278,
          -0.6571341304736517,
          1.6035827297495748,
          -0.3095623753122842,
          0.11219869134530197,
          -0.1270892021909148,
          0.532977431473964,
          -1.3464165418222898,
          1.1316424758934114,
          -0.7622335583741608,
          -0.24702200690165985,
          -0.4630147906934118,
          -0.36319885697730925,
          -1.4496796124020117,
          0.9489037775907716,
          -1.0559602914410788,
          -0.40517571814914105,
          -0.9460764335874674,
          0.07137266324652135,
          0.44539589417145947,
          -0.7411187275501535,
          -0.30809178688149913,
          0.6771270266525428,
          -2.0070739280271974,
          -0.40191263907329716,
          0.2462375338243192,
          -0.7361069754945546,
          0.2450920395430285,
          -0.10131033533366482,
          -0.7939623166404947,
          0.26092941113513224,
          -0.04144594794792293,
          -1.465015360378068,
          -0.40845640726951,
          1.540098306745973,
          -1.8807183485864425,
          0.26192533874844304,
          0.43606184773113804,
          -0.6976882584015038,
          -0.33883690793114757,
          0.5501987049405354,
          -0.17977156442569758,
          0.09407305437372032,
          0.3905632022559406,
          -0.679164724948543,
          0.7852670833079327,
          0.5878197275238274,
          -1.2513417011321166,
          0.9602883150342724,
          1.3460439652971705,
          -0.14988934526054964,
          -0.34372152424350455,
          0.7834210604939421
         ],
         "xaxis": "x6",
         "yaxis": "y6"
        },
        {
         "line": {
          "color": "rgba(128, 128, 128, 1.0)",
          "dash": "solid",
          "shape": "linear",
          "width": 1.3
         },
         "marker": {
          "size": 2,
          "symbol": "circle"
         },
         "mode": "markers",
         "name": "B",
         "text": "",
         "type": "scatter",
         "x": [
          0.8144031091441553,
          0.7767619217029104,
          -0.4764861573350728,
          -1.7226282800430874,
          0.042954129507712116,
          -0.3461675845414054,
          -0.7093891075748427,
          0.6669058031587073,
          0.035977966037093044,
          0.773764364205727,
          -0.7624084615721775,
          -1.3352148366311936,
          -0.3488280692797366,
          0.3764584596388346,
          0.9290030851987335,
          2.570512448929575,
          -0.1730088984696346,
          -0.8365732469476568,
          0.8572894798512208,
          -1.7956260874110428,
          0.12945968581180442,
          0.917147643605632,
          -1.0687848267009672,
          0.6108188839965774,
          2.3923131085463596,
          -0.24111343565575363,
          1.6239737711767945,
          1.492087772180699,
          -0.3166835221387118,
          0.21391682523433128,
          1.3431401414834065,
          -0.33658330930052444,
          -0.06040031829111864,
          0.8575727193535894,
          0.8456303236478259,
          0.5873179710868004,
          -0.5153380003082056,
          0.30125334982497637,
          0.1387728307020779,
          -2.0084040208601572,
          0.43358873563114636,
          0.3336515430236771,
          1.1151060269365956,
          0.7700750890092685,
          -0.5398110452866328,
          -0.2145185903736761,
          -1.3579275829890975,
          -0.6063766417218892,
          -0.9361307838015346,
          -1.0341589706399332,
          -0.7735923539922803,
          0.5942197674390316,
          -0.7974997044360369,
          -0.4852376362427482,
          -0.6047029260240983,
          1.2677565721539823,
          0.7557749349842667,
          0.4005016589869277,
          1.7602240792382622,
          0.32785068102032794,
          -0.6924844983630888,
          0.28986689317335373,
          0.8346389766682714,
          -1.3181947665753797,
          -0.26491627511662014,
          -0.3913940425717173,
          0.24578259997284216,
          -0.20406695835053235,
          -1.4274656154378003,
          -0.06264926304347601,
          -1.2096626431097994,
          -0.4221286398408152,
          -0.1762422629662039,
          -1.5380399030712135,
          0.33860478504924724,
          -0.5629873262671605,
          0.0016011056051914252,
          -0.345031010096941,
          1.2149291432694307,
          0.3775203769110489,
          -0.9953085279115665,
          0.33448933924794494,
          -0.8031246494573918,
          0.13226274769544108,
          0.36886075784824823,
          -1.3706518061137527,
          -0.7190573390676255,
          0.3375015552640827,
          0.12674617471946514,
          0.2855452890026702,
          -0.50132927206113,
          0.5567349826342716,
          -0.025261974047004934,
          -0.0012146459766086911,
          0.678076473554741,
          0.2262779748256039,
          0.7781458207393253,
          0.5809436007719051,
          1.5118791070809483,
          -0.734171047799401
         ],
         "xaxis": "x7",
         "y": [
          -0.7571651906745785,
          -1.1556692933233748,
          1.7806297444554822,
          0.4578599448036818,
          1.3309205784351237,
          0.8239282422962768,
          -1.6848863051524432,
          -0.7541222351356808,
          0.3579900278059774,
          -0.6973499798885667,
          -1.1185123874430996,
          -0.2994648817501223,
          0.06704295585652872,
          0.02035832821945884,
          -1.3294390657182,
          1.022252936447132,
          1.0053336991661836,
          0.07190096462962152,
          -0.9755733581483298,
          1.4321795955170138,
          0.7682701841913601,
          1.4106140993914187,
          0.8842862535844305,
          -0.47573009331610966,
          1.3925150436772173,
          1.5229403142636067,
          0.4979127015679674,
          -0.22798055804358228,
          -0.0015201187562104794,
          -0.7495407346801771,
          1.328528954537974,
          -0.2435124822982681,
          1.9527621822822765,
          1.9676936762797141,
          0.6930920592087606,
          -1.2047070952737269,
          -0.23371188951046254,
          0.0904489820968438,
          -0.1922827287818314,
          -0.09443850073079627,
          0.35411209910976243,
          -0.7378673061324998,
          -1.500182599220915,
          0.027248475993117298,
          -1.5928417705059106,
          -0.270816497865613,
          -0.5085227360674233,
          -0.3417589089128278,
          -0.6571341304736517,
          1.6035827297495748,
          -0.3095623753122842,
          0.11219869134530197,
          -0.1270892021909148,
          0.532977431473964,
          -1.3464165418222898,
          1.1316424758934114,
          -0.7622335583741608,
          -0.24702200690165985,
          -0.4630147906934118,
          -0.36319885697730925,
          -1.4496796124020117,
          0.9489037775907716,
          -1.0559602914410788,
          -0.40517571814914105,
          -0.9460764335874674,
          0.07137266324652135,
          0.44539589417145947,
          -0.7411187275501535,
          -0.30809178688149913,
          0.6771270266525428,
          -2.0070739280271974,
          -0.40191263907329716,
          0.2462375338243192,
          -0.7361069754945546,
          0.2450920395430285,
          -0.10131033533366482,
          -0.7939623166404947,
          0.26092941113513224,
          -0.04144594794792293,
          -1.465015360378068,
          -0.40845640726951,
          1.540098306745973,
          -1.8807183485864425,
          0.26192533874844304,
          0.43606184773113804,
          -0.6976882584015038,
          -0.33883690793114757,
          0.5501987049405354,
          -0.17977156442569758,
          0.09407305437372032,
          0.3905632022559406,
          -0.679164724948543,
          0.7852670833079327,
          0.5878197275238274,
          -1.2513417011321166,
          0.9602883150342724,
          1.3460439652971705,
          -0.14988934526054964,
          -0.34372152424350455,
          0.7834210604939421
         ],
         "yaxis": "y7"
        },
        {
         "line": {
          "color": "rgba(128, 128, 128, 1.0)",
          "dash": "solid",
          "shape": "linear",
          "width": 1.3
         },
         "marker": {
          "size": 2,
          "symbol": "circle"
         },
         "mode": "markers",
         "name": "B",
         "text": "",
         "type": "scatter",
         "x": [
          1.3932533212334495,
          0.2241684371883963,
          0.9750739274414556,
          0.5940652666865319,
          1.2101033243388055,
          0.4448609850652139,
          -0.2658450901566835,
          0.630189739869328,
          0.45172696457443956,
          0.4628868786377445,
          -2.7643136612774355,
          -0.16984537073399386,
          0.1747704809129454,
          -0.5487720891818902,
          0.9127644892428154,
          -0.16297336412093263,
          1.8810303028581048,
          0.10885961489826855,
          0.8293140258192842,
          -0.9736957308055706,
          -0.06722625279633468,
          -0.5714920481354261,
          0.5756138704145813,
          -0.13826268728074936,
          -0.3261600511019883,
          -0.7709141294499515,
          -1.5711268752601908,
          0.003749006012046726,
          0.4321633962530361,
          -0.30228068216206827,
          0.9832046396284396,
          0.37639781108943754,
          -1.0178912866442507,
          -0.1217171208639235,
          -1.7119142286429185,
          1.09556567404667,
          -1.1587629221693567,
          0.6917638459868968,
          0.06054613331850782,
          -0.2756573269474395,
          -0.00906471933142405,
          1.0107867164979152,
          -2.210812992949009,
          -1.8885447332496859,
          0.2144885066184908,
          0.32651362922457156,
          -0.2368041802315175,
          0.6588066394885467,
          1.495762187666791,
          1.7118026044219314,
          -0.693560211520616,
          -0.5742587471362914,
          -0.47711502709919046,
          -0.21067912239226097,
          -0.08793123477124042,
          -1.9587264157548534,
          0.19264765108253026,
          1.382955525139188,
          0.3515646814534139,
          0.4613935114459003,
          0.16813161076923622,
          -0.6922388637613162,
          -0.09636032777922349,
          1.3074300912687304,
          0.5915356227600267,
          -0.576926181705004,
          -0.09846807905122404,
          -0.4908966197585694,
          -0.39270830024857306,
          1.2569680324133468,
          0.8737042352745313,
          0.4384351029698666,
          -0.38975732942115365,
          0.250533313608815,
          -0.7064115862357414,
          1.1872554736643324,
          0.8684234618402348,
          1.837419198543538,
          0.3455750124730475,
          -0.8431045456509281,
          0.2504725540093318,
          -0.3641331342287776,
          -0.1786119379181722,
          1.9131851841668437,
          -0.6744099032527255,
          -1.0173693879993573,
          -1.2564859236649464,
          -0.014319618356981197,
          0.4248904951872451,
          -0.5306552555381103,
          -0.7367035266810666,
          0.5831548802400632,
          -1.6756500385628834,
          -0.4093871128858697,
          1.0745448254148906,
          -1.521323754786965,
          -0.6709081766186101,
          -0.6535283479195353,
          0.857675773196685,
          -0.7985601870201094
         ],
         "xaxis": "x8",
         "y": [
          -0.7571651906745785,
          -1.1556692933233748,
          1.7806297444554822,
          0.4578599448036818,
          1.3309205784351237,
          0.8239282422962768,
          -1.6848863051524432,
          -0.7541222351356808,
          0.3579900278059774,
          -0.6973499798885667,
          -1.1185123874430996,
          -0.2994648817501223,
          0.06704295585652872,
          0.02035832821945884,
          -1.3294390657182,
          1.022252936447132,
          1.0053336991661836,
          0.07190096462962152,
          -0.9755733581483298,
          1.4321795955170138,
          0.7682701841913601,
          1.4106140993914187,
          0.8842862535844305,
          -0.47573009331610966,
          1.3925150436772173,
          1.5229403142636067,
          0.4979127015679674,
          -0.22798055804358228,
          -0.0015201187562104794,
          -0.7495407346801771,
          1.328528954537974,
          -0.2435124822982681,
          1.9527621822822765,
          1.9676936762797141,
          0.6930920592087606,
          -1.2047070952737269,
          -0.23371188951046254,
          0.0904489820968438,
          -0.1922827287818314,
          -0.09443850073079627,
          0.35411209910976243,
          -0.7378673061324998,
          -1.500182599220915,
          0.027248475993117298,
          -1.5928417705059106,
          -0.270816497865613,
          -0.5085227360674233,
          -0.3417589089128278,
          -0.6571341304736517,
          1.6035827297495748,
          -0.3095623753122842,
          0.11219869134530197,
          -0.1270892021909148,
          0.532977431473964,
          -1.3464165418222898,
          1.1316424758934114,
          -0.7622335583741608,
          -0.24702200690165985,
          -0.4630147906934118,
          -0.36319885697730925,
          -1.4496796124020117,
          0.9489037775907716,
          -1.0559602914410788,
          -0.40517571814914105,
          -0.9460764335874674,
          0.07137266324652135,
          0.44539589417145947,
          -0.7411187275501535,
          -0.30809178688149913,
          0.6771270266525428,
          -2.0070739280271974,
          -0.40191263907329716,
          0.2462375338243192,
          -0.7361069754945546,
          0.2450920395430285,
          -0.10131033533366482,
          -0.7939623166404947,
          0.26092941113513224,
          -0.04144594794792293,
          -1.465015360378068,
          -0.40845640726951,
          1.540098306745973,
          -1.8807183485864425,
          0.26192533874844304,
          0.43606184773113804,
          -0.6976882584015038,
          -0.33883690793114757,
          0.5501987049405354,
          -0.17977156442569758,
          0.09407305437372032,
          0.3905632022559406,
          -0.679164724948543,
          0.7852670833079327,
          0.5878197275238274,
          -1.2513417011321166,
          0.9602883150342724,
          1.3460439652971705,
          -0.14988934526054964,
          -0.34372152424350455,
          0.7834210604939421
         ],
         "yaxis": "y8"
        },
        {
         "line": {
          "color": "rgba(128, 128, 128, 1.0)",
          "dash": "solid",
          "shape": "linear",
          "width": 1.3
         },
         "marker": {
          "size": 2,
          "symbol": "circle"
         },
         "mode": "markers",
         "name": "C",
         "text": "",
         "type": "scatter",
         "x": [
          -1.4496360721844352,
          0.8873978843611828,
          -0.0390005807228342,
          0.030354177296635507,
          -0.3777079685985477,
          0.7588829084593641,
          1.734314215168449,
          -1.0900571341974001,
          -0.26212755041413577,
          0.19364864806034585,
          -0.9946781453834873,
          -0.5471429181687236,
          1.1732797419683796,
          1.235234107700757,
          -0.26710267063565957,
          -0.7268934769880704,
          -0.17906255966251938,
          0.5201489560628967,
          -1.6962464206752095,
          -0.7905996353292317,
          1.0473869660555215,
          0.04802206082745249,
          0.20334625486219532,
          -1.3941983885214801,
          0.409517162314868,
          0.31743795887216947,
          -0.1738585088517065,
          1.0571586290988335,
          0.22222857212629238,
          0.4237051899004442,
          0.8817814321900838,
          -0.9945117189097893,
          0.609288713378068,
          -1.2257490943806924,
          0.04615213537108449,
          -0.0848659535189674,
          -0.7419795644501216,
          -1.8066909616396531,
          -0.23974209506206925,
          1.4501993799905353,
          1.073342810167746,
          0.13755145441258418,
          -0.3104393727987269,
          0.49563843991103945,
          -0.7697431316816101,
          1.0633053005867261,
          -0.14169903118004062,
          -0.14265777722376277,
          -0.6839225466888054,
          0.9104680213199234,
          1.2971032249047207,
          -0.7011824318955198,
          -1.5986857325137882,
          -0.08495920203130981,
          0.2999946955662853,
          0.34963662572100734,
          -0.7047268274905389,
          1.9305763656598314,
          -0.35904459916833176,
          -1.465147485068314,
          -0.5374034024718863,
          0.5007235303428342,
          0.9592497249996453,
          0.468687366985324,
          -0.39259115256891614,
          -2.1800411944205154,
          -1.0064088646940648,
          -0.29041651428032966,
          0.7388927602477078,
          -3.710326106474891,
          2.1187589672232594,
          0.30162533896878263,
          -0.8720118972663534,
          -1.6590026203861716,
          -1.1090949649380255,
          -0.06183130292129761,
          0.37017693546974145,
          0.6156971033143431,
          -0.5893997136482556,
          0.03148720687477286,
          0.362851143311647,
          0.7851032925490155,
          -0.10274326611110957,
          -0.7700967825748634,
          -0.0941796128439429,
          -0.8631722694399285,
          -0.5119535136330179,
          -0.48078019166296126,
          -1.029605559243594,
          -1.5042430420415336,
          0.5158157928775244,
          -0.5420072374369286,
          -0.7948471452010908,
          -0.36869055662136463,
          0.7132943112944887,
          -1.3792156308894425,
          -0.9217650652029417,
          -0.13835484734774714,
          -0.8583622414714944,
          0.7429818290509952
         ],
         "xaxis": "x9",
         "y": [
          0.8144031091441553,
          0.7767619217029104,
          -0.4764861573350728,
          -1.7226282800430874,
          0.042954129507712116,
          -0.3461675845414054,
          -0.7093891075748427,
          0.6669058031587073,
          0.035977966037093044,
          0.773764364205727,
          -0.7624084615721775,
          -1.3352148366311936,
          -0.3488280692797366,
          0.3764584596388346,
          0.9290030851987335,
          2.570512448929575,
          -0.1730088984696346,
          -0.8365732469476568,
          0.8572894798512208,
          -1.7956260874110428,
          0.12945968581180442,
          0.917147643605632,
          -1.0687848267009672,
          0.6108188839965774,
          2.3923131085463596,
          -0.24111343565575363,
          1.6239737711767945,
          1.492087772180699,
          -0.3166835221387118,
          0.21391682523433128,
          1.3431401414834065,
          -0.33658330930052444,
          -0.06040031829111864,
          0.8575727193535894,
          0.8456303236478259,
          0.5873179710868004,
          -0.5153380003082056,
          0.30125334982497637,
          0.1387728307020779,
          -2.0084040208601572,
          0.43358873563114636,
          0.3336515430236771,
          1.1151060269365956,
          0.7700750890092685,
          -0.5398110452866328,
          -0.2145185903736761,
          -1.3579275829890975,
          -0.6063766417218892,
          -0.9361307838015346,
          -1.0341589706399332,
          -0.7735923539922803,
          0.5942197674390316,
          -0.7974997044360369,
          -0.4852376362427482,
          -0.6047029260240983,
          1.2677565721539823,
          0.7557749349842667,
          0.4005016589869277,
          1.7602240792382622,
          0.32785068102032794,
          -0.6924844983630888,
          0.28986689317335373,
          0.8346389766682714,
          -1.3181947665753797,
          -0.26491627511662014,
          -0.3913940425717173,
          0.24578259997284216,
          -0.20406695835053235,
          -1.4274656154378003,
          -0.06264926304347601,
          -1.2096626431097994,
          -0.4221286398408152,
          -0.1762422629662039,
          -1.5380399030712135,
          0.33860478504924724,
          -0.5629873262671605,
          0.0016011056051914252,
          -0.345031010096941,
          1.2149291432694307,
          0.3775203769110489,
          -0.9953085279115665,
          0.33448933924794494,
          -0.8031246494573918,
          0.13226274769544108,
          0.36886075784824823,
          -1.3706518061137527,
          -0.7190573390676255,
          0.3375015552640827,
          0.12674617471946514,
          0.2855452890026702,
          -0.50132927206113,
          0.5567349826342716,
          -0.025261974047004934,
          -0.0012146459766086911,
          0.678076473554741,
          0.2262779748256039,
          0.7781458207393253,
          0.5809436007719051,
          1.5118791070809483,
          -0.734171047799401
         ],
         "yaxis": "y9"
        },
        {
         "line": {
          "color": "rgba(128, 128, 128, 1.0)",
          "dash": "solid",
          "shape": "linear",
          "width": 1.3
         },
         "marker": {
          "size": 2,
          "symbol": "circle"
         },
         "mode": "markers",
         "name": "C",
         "text": "",
         "type": "scatter",
         "x": [
          -0.7571651906745785,
          -1.1556692933233748,
          1.7806297444554822,
          0.4578599448036818,
          1.3309205784351237,
          0.8239282422962768,
          -1.6848863051524432,
          -0.7541222351356808,
          0.3579900278059774,
          -0.6973499798885667,
          -1.1185123874430996,
          -0.2994648817501223,
          0.06704295585652872,
          0.02035832821945884,
          -1.3294390657182,
          1.022252936447132,
          1.0053336991661836,
          0.07190096462962152,
          -0.9755733581483298,
          1.4321795955170138,
          0.7682701841913601,
          1.4106140993914187,
          0.8842862535844305,
          -0.47573009331610966,
          1.3925150436772173,
          1.5229403142636067,
          0.4979127015679674,
          -0.22798055804358228,
          -0.0015201187562104794,
          -0.7495407346801771,
          1.328528954537974,
          -0.2435124822982681,
          1.9527621822822765,
          1.9676936762797141,
          0.6930920592087606,
          -1.2047070952737269,
          -0.23371188951046254,
          0.0904489820968438,
          -0.1922827287818314,
          -0.09443850073079627,
          0.35411209910976243,
          -0.7378673061324998,
          -1.500182599220915,
          0.027248475993117298,
          -1.5928417705059106,
          -0.270816497865613,
          -0.5085227360674233,
          -0.3417589089128278,
          -0.6571341304736517,
          1.6035827297495748,
          -0.3095623753122842,
          0.11219869134530197,
          -0.1270892021909148,
          0.532977431473964,
          -1.3464165418222898,
          1.1316424758934114,
          -0.7622335583741608,
          -0.24702200690165985,
          -0.4630147906934118,
          -0.36319885697730925,
          -1.4496796124020117,
          0.9489037775907716,
          -1.0559602914410788,
          -0.40517571814914105,
          -0.9460764335874674,
          0.07137266324652135,
          0.44539589417145947,
          -0.7411187275501535,
          -0.30809178688149913,
          0.6771270266525428,
          -2.0070739280271974,
          -0.40191263907329716,
          0.2462375338243192,
          -0.7361069754945546,
          0.2450920395430285,
          -0.10131033533366482,
          -0.7939623166404947,
          0.26092941113513224,
          -0.04144594794792293,
          -1.465015360378068,
          -0.40845640726951,
          1.540098306745973,
          -1.8807183485864425,
          0.26192533874844304,
          0.43606184773113804,
          -0.6976882584015038,
          -0.33883690793114757,
          0.5501987049405354,
          -0.17977156442569758,
          0.09407305437372032,
          0.3905632022559406,
          -0.679164724948543,
          0.7852670833079327,
          0.5878197275238274,
          -1.2513417011321166,
          0.9602883150342724,
          1.3460439652971705,
          -0.14988934526054964,
          -0.34372152424350455,
          0.7834210604939421
         ],
         "xaxis": "x10",
         "y": [
          0.8144031091441553,
          0.7767619217029104,
          -0.4764861573350728,
          -1.7226282800430874,
          0.042954129507712116,
          -0.3461675845414054,
          -0.7093891075748427,
          0.6669058031587073,
          0.035977966037093044,
          0.773764364205727,
          -0.7624084615721775,
          -1.3352148366311936,
          -0.3488280692797366,
          0.3764584596388346,
          0.9290030851987335,
          2.570512448929575,
          -0.1730088984696346,
          -0.8365732469476568,
          0.8572894798512208,
          -1.7956260874110428,
          0.12945968581180442,
          0.917147643605632,
          -1.0687848267009672,
          0.6108188839965774,
          2.3923131085463596,
          -0.24111343565575363,
          1.6239737711767945,
          1.492087772180699,
          -0.3166835221387118,
          0.21391682523433128,
          1.3431401414834065,
          -0.33658330930052444,
          -0.06040031829111864,
          0.8575727193535894,
          0.8456303236478259,
          0.5873179710868004,
          -0.5153380003082056,
          0.30125334982497637,
          0.1387728307020779,
          -2.0084040208601572,
          0.43358873563114636,
          0.3336515430236771,
          1.1151060269365956,
          0.7700750890092685,
          -0.5398110452866328,
          -0.2145185903736761,
          -1.3579275829890975,
          -0.6063766417218892,
          -0.9361307838015346,
          -1.0341589706399332,
          -0.7735923539922803,
          0.5942197674390316,
          -0.7974997044360369,
          -0.4852376362427482,
          -0.6047029260240983,
          1.2677565721539823,
          0.7557749349842667,
          0.4005016589869277,
          1.7602240792382622,
          0.32785068102032794,
          -0.6924844983630888,
          0.28986689317335373,
          0.8346389766682714,
          -1.3181947665753797,
          -0.26491627511662014,
          -0.3913940425717173,
          0.24578259997284216,
          -0.20406695835053235,
          -1.4274656154378003,
          -0.06264926304347601,
          -1.2096626431097994,
          -0.4221286398408152,
          -0.1762422629662039,
          -1.5380399030712135,
          0.33860478504924724,
          -0.5629873262671605,
          0.0016011056051914252,
          -0.345031010096941,
          1.2149291432694307,
          0.3775203769110489,
          -0.9953085279115665,
          0.33448933924794494,
          -0.8031246494573918,
          0.13226274769544108,
          0.36886075784824823,
          -1.3706518061137527,
          -0.7190573390676255,
          0.3375015552640827,
          0.12674617471946514,
          0.2855452890026702,
          -0.50132927206113,
          0.5567349826342716,
          -0.025261974047004934,
          -0.0012146459766086911,
          0.678076473554741,
          0.2262779748256039,
          0.7781458207393253,
          0.5809436007719051,
          1.5118791070809483,
          -0.734171047799401
         ],
         "yaxis": "y10"
        },
        {
         "histfunc": "count",
         "histnorm": "",
         "marker": {
          "color": "rgba(50, 171, 96, 1.0)",
          "line": {
           "color": "#4D5663",
           "width": 1.3
          }
         },
         "name": "C",
         "nbinsx": 10,
         "opacity": 0.8,
         "orientation": "v",
         "type": "histogram",
         "x": [
          0.8144031091441553,
          0.7767619217029104,
          -0.4764861573350728,
          -1.7226282800430874,
          0.042954129507712116,
          -0.3461675845414054,
          -0.7093891075748427,
          0.6669058031587073,
          0.035977966037093044,
          0.773764364205727,
          -0.7624084615721775,
          -1.3352148366311936,
          -0.3488280692797366,
          0.3764584596388346,
          0.9290030851987335,
          2.570512448929575,
          -0.1730088984696346,
          -0.8365732469476568,
          0.8572894798512208,
          -1.7956260874110428,
          0.12945968581180442,
          0.917147643605632,
          -1.0687848267009672,
          0.6108188839965774,
          2.3923131085463596,
          -0.24111343565575363,
          1.6239737711767945,
          1.492087772180699,
          -0.3166835221387118,
          0.21391682523433128,
          1.3431401414834065,
          -0.33658330930052444,
          -0.06040031829111864,
          0.8575727193535894,
          0.8456303236478259,
          0.5873179710868004,
          -0.5153380003082056,
          0.30125334982497637,
          0.1387728307020779,
          -2.0084040208601572,
          0.43358873563114636,
          0.3336515430236771,
          1.1151060269365956,
          0.7700750890092685,
          -0.5398110452866328,
          -0.2145185903736761,
          -1.3579275829890975,
          -0.6063766417218892,
          -0.9361307838015346,
          -1.0341589706399332,
          -0.7735923539922803,
          0.5942197674390316,
          -0.7974997044360369,
          -0.4852376362427482,
          -0.6047029260240983,
          1.2677565721539823,
          0.7557749349842667,
          0.4005016589869277,
          1.7602240792382622,
          0.32785068102032794,
          -0.6924844983630888,
          0.28986689317335373,
          0.8346389766682714,
          -1.3181947665753797,
          -0.26491627511662014,
          -0.3913940425717173,
          0.24578259997284216,
          -0.20406695835053235,
          -1.4274656154378003,
          -0.06264926304347601,
          -1.2096626431097994,
          -0.4221286398408152,
          -0.1762422629662039,
          -1.5380399030712135,
          0.33860478504924724,
          -0.5629873262671605,
          0.0016011056051914252,
          -0.345031010096941,
          1.2149291432694307,
          0.3775203769110489,
          -0.9953085279115665,
          0.33448933924794494,
          -0.8031246494573918,
          0.13226274769544108,
          0.36886075784824823,
          -1.3706518061137527,
          -0.7190573390676255,
          0.3375015552640827,
          0.12674617471946514,
          0.2855452890026702,
          -0.50132927206113,
          0.5567349826342716,
          -0.025261974047004934,
          -0.0012146459766086911,
          0.678076473554741,
          0.2262779748256039,
          0.7781458207393253,
          0.5809436007719051,
          1.5118791070809483,
          -0.734171047799401
         ],
         "xaxis": "x11",
         "yaxis": "y11"
        },
        {
         "line": {
          "color": "rgba(128, 128, 128, 1.0)",
          "dash": "solid",
          "shape": "linear",
          "width": 1.3
         },
         "marker": {
          "size": 2,
          "symbol": "circle"
         },
         "mode": "markers",
         "name": "C",
         "text": "",
         "type": "scatter",
         "x": [
          1.3932533212334495,
          0.2241684371883963,
          0.9750739274414556,
          0.5940652666865319,
          1.2101033243388055,
          0.4448609850652139,
          -0.2658450901566835,
          0.630189739869328,
          0.45172696457443956,
          0.4628868786377445,
          -2.7643136612774355,
          -0.16984537073399386,
          0.1747704809129454,
          -0.5487720891818902,
          0.9127644892428154,
          -0.16297336412093263,
          1.8810303028581048,
          0.10885961489826855,
          0.8293140258192842,
          -0.9736957308055706,
          -0.06722625279633468,
          -0.5714920481354261,
          0.5756138704145813,
          -0.13826268728074936,
          -0.3261600511019883,
          -0.7709141294499515,
          -1.5711268752601908,
          0.003749006012046726,
          0.4321633962530361,
          -0.30228068216206827,
          0.9832046396284396,
          0.37639781108943754,
          -1.0178912866442507,
          -0.1217171208639235,
          -1.7119142286429185,
          1.09556567404667,
          -1.1587629221693567,
          0.6917638459868968,
          0.06054613331850782,
          -0.2756573269474395,
          -0.00906471933142405,
          1.0107867164979152,
          -2.210812992949009,
          -1.8885447332496859,
          0.2144885066184908,
          0.32651362922457156,
          -0.2368041802315175,
          0.6588066394885467,
          1.495762187666791,
          1.7118026044219314,
          -0.693560211520616,
          -0.5742587471362914,
          -0.47711502709919046,
          -0.21067912239226097,
          -0.08793123477124042,
          -1.9587264157548534,
          0.19264765108253026,
          1.382955525139188,
          0.3515646814534139,
          0.4613935114459003,
          0.16813161076923622,
          -0.6922388637613162,
          -0.09636032777922349,
          1.3074300912687304,
          0.5915356227600267,
          -0.576926181705004,
          -0.09846807905122404,
          -0.4908966197585694,
          -0.39270830024857306,
          1.2569680324133468,
          0.8737042352745313,
          0.4384351029698666,
          -0.38975732942115365,
          0.250533313608815,
          -0.7064115862357414,
          1.1872554736643324,
          0.8684234618402348,
          1.837419198543538,
          0.3455750124730475,
          -0.8431045456509281,
          0.2504725540093318,
          -0.3641331342287776,
          -0.1786119379181722,
          1.9131851841668437,
          -0.6744099032527255,
          -1.0173693879993573,
          -1.2564859236649464,
          -0.014319618356981197,
          0.4248904951872451,
          -0.5306552555381103,
          -0.7367035266810666,
          0.5831548802400632,
          -1.6756500385628834,
          -0.4093871128858697,
          1.0745448254148906,
          -1.521323754786965,
          -0.6709081766186101,
          -0.6535283479195353,
          0.857675773196685,
          -0.7985601870201094
         ],
         "xaxis": "x12",
         "y": [
          0.8144031091441553,
          0.7767619217029104,
          -0.4764861573350728,
          -1.7226282800430874,
          0.042954129507712116,
          -0.3461675845414054,
          -0.7093891075748427,
          0.6669058031587073,
          0.035977966037093044,
          0.773764364205727,
          -0.7624084615721775,
          -1.3352148366311936,
          -0.3488280692797366,
          0.3764584596388346,
          0.9290030851987335,
          2.570512448929575,
          -0.1730088984696346,
          -0.8365732469476568,
          0.8572894798512208,
          -1.7956260874110428,
          0.12945968581180442,
          0.917147643605632,
          -1.0687848267009672,
          0.6108188839965774,
          2.3923131085463596,
          -0.24111343565575363,
          1.6239737711767945,
          1.492087772180699,
          -0.3166835221387118,
          0.21391682523433128,
          1.3431401414834065,
          -0.33658330930052444,
          -0.06040031829111864,
          0.8575727193535894,
          0.8456303236478259,
          0.5873179710868004,
          -0.5153380003082056,
          0.30125334982497637,
          0.1387728307020779,
          -2.0084040208601572,
          0.43358873563114636,
          0.3336515430236771,
          1.1151060269365956,
          0.7700750890092685,
          -0.5398110452866328,
          -0.2145185903736761,
          -1.3579275829890975,
          -0.6063766417218892,
          -0.9361307838015346,
          -1.0341589706399332,
          -0.7735923539922803,
          0.5942197674390316,
          -0.7974997044360369,
          -0.4852376362427482,
          -0.6047029260240983,
          1.2677565721539823,
          0.7557749349842667,
          0.4005016589869277,
          1.7602240792382622,
          0.32785068102032794,
          -0.6924844983630888,
          0.28986689317335373,
          0.8346389766682714,
          -1.3181947665753797,
          -0.26491627511662014,
          -0.3913940425717173,
          0.24578259997284216,
          -0.20406695835053235,
          -1.4274656154378003,
          -0.06264926304347601,
          -1.2096626431097994,
          -0.4221286398408152,
          -0.1762422629662039,
          -1.5380399030712135,
          0.33860478504924724,
          -0.5629873262671605,
          0.0016011056051914252,
          -0.345031010096941,
          1.2149291432694307,
          0.3775203769110489,
          -0.9953085279115665,
          0.33448933924794494,
          -0.8031246494573918,
          0.13226274769544108,
          0.36886075784824823,
          -1.3706518061137527,
          -0.7190573390676255,
          0.3375015552640827,
          0.12674617471946514,
          0.2855452890026702,
          -0.50132927206113,
          0.5567349826342716,
          -0.025261974047004934,
          -0.0012146459766086911,
          0.678076473554741,
          0.2262779748256039,
          0.7781458207393253,
          0.5809436007719051,
          1.5118791070809483,
          -0.734171047799401
         ],
         "yaxis": "y12"
        },
        {
         "line": {
          "color": "rgba(128, 128, 128, 1.0)",
          "dash": "solid",
          "shape": "linear",
          "width": 1.3
         },
         "marker": {
          "size": 2,
          "symbol": "circle"
         },
         "mode": "markers",
         "name": "D",
         "text": "",
         "type": "scatter",
         "x": [
          -1.4496360721844352,
          0.8873978843611828,
          -0.0390005807228342,
          0.030354177296635507,
          -0.3777079685985477,
          0.7588829084593641,
          1.734314215168449,
          -1.0900571341974001,
          -0.26212755041413577,
          0.19364864806034585,
          -0.9946781453834873,
          -0.5471429181687236,
          1.1732797419683796,
          1.235234107700757,
          -0.26710267063565957,
          -0.7268934769880704,
          -0.17906255966251938,
          0.5201489560628967,
          -1.6962464206752095,
          -0.7905996353292317,
          1.0473869660555215,
          0.04802206082745249,
          0.20334625486219532,
          -1.3941983885214801,
          0.409517162314868,
          0.31743795887216947,
          -0.1738585088517065,
          1.0571586290988335,
          0.22222857212629238,
          0.4237051899004442,
          0.8817814321900838,
          -0.9945117189097893,
          0.609288713378068,
          -1.2257490943806924,
          0.04615213537108449,
          -0.0848659535189674,
          -0.7419795644501216,
          -1.8066909616396531,
          -0.23974209506206925,
          1.4501993799905353,
          1.073342810167746,
          0.13755145441258418,
          -0.3104393727987269,
          0.49563843991103945,
          -0.7697431316816101,
          1.0633053005867261,
          -0.14169903118004062,
          -0.14265777722376277,
          -0.6839225466888054,
          0.9104680213199234,
          1.2971032249047207,
          -0.7011824318955198,
          -1.5986857325137882,
          -0.08495920203130981,
          0.2999946955662853,
          0.34963662572100734,
          -0.7047268274905389,
          1.9305763656598314,
          -0.35904459916833176,
          -1.465147485068314,
          -0.5374034024718863,
          0.5007235303428342,
          0.9592497249996453,
          0.468687366985324,
          -0.39259115256891614,
          -2.1800411944205154,
          -1.0064088646940648,
          -0.29041651428032966,
          0.7388927602477078,
          -3.710326106474891,
          2.1187589672232594,
          0.30162533896878263,
          -0.8720118972663534,
          -1.6590026203861716,
          -1.1090949649380255,
          -0.06183130292129761,
          0.37017693546974145,
          0.6156971033143431,
          -0.5893997136482556,
          0.03148720687477286,
          0.362851143311647,
          0.7851032925490155,
          -0.10274326611110957,
          -0.7700967825748634,
          -0.0941796128439429,
          -0.8631722694399285,
          -0.5119535136330179,
          -0.48078019166296126,
          -1.029605559243594,
          -1.5042430420415336,
          0.5158157928775244,
          -0.5420072374369286,
          -0.7948471452010908,
          -0.36869055662136463,
          0.7132943112944887,
          -1.3792156308894425,
          -0.9217650652029417,
          -0.13835484734774714,
          -0.8583622414714944,
          0.7429818290509952
         ],
         "xaxis": "x13",
         "y": [
          1.3932533212334495,
          0.2241684371883963,
          0.9750739274414556,
          0.5940652666865319,
          1.2101033243388055,
          0.4448609850652139,
          -0.2658450901566835,
          0.630189739869328,
          0.45172696457443956,
          0.4628868786377445,
          -2.7643136612774355,
          -0.16984537073399386,
          0.1747704809129454,
          -0.5487720891818902,
          0.9127644892428154,
          -0.16297336412093263,
          1.8810303028581048,
          0.10885961489826855,
          0.8293140258192842,
          -0.9736957308055706,
          -0.06722625279633468,
          -0.5714920481354261,
          0.5756138704145813,
          -0.13826268728074936,
          -0.3261600511019883,
          -0.7709141294499515,
          -1.5711268752601908,
          0.003749006012046726,
          0.4321633962530361,
          -0.30228068216206827,
          0.9832046396284396,
          0.37639781108943754,
          -1.0178912866442507,
          -0.1217171208639235,
          -1.7119142286429185,
          1.09556567404667,
          -1.1587629221693567,
          0.6917638459868968,
          0.06054613331850782,
          -0.2756573269474395,
          -0.00906471933142405,
          1.0107867164979152,
          -2.210812992949009,
          -1.8885447332496859,
          0.2144885066184908,
          0.32651362922457156,
          -0.2368041802315175,
          0.6588066394885467,
          1.495762187666791,
          1.7118026044219314,
          -0.693560211520616,
          -0.5742587471362914,
          -0.47711502709919046,
          -0.21067912239226097,
          -0.08793123477124042,
          -1.9587264157548534,
          0.19264765108253026,
          1.382955525139188,
          0.3515646814534139,
          0.4613935114459003,
          0.16813161076923622,
          -0.6922388637613162,
          -0.09636032777922349,
          1.3074300912687304,
          0.5915356227600267,
          -0.576926181705004,
          -0.09846807905122404,
          -0.4908966197585694,
          -0.39270830024857306,
          1.2569680324133468,
          0.8737042352745313,
          0.4384351029698666,
          -0.38975732942115365,
          0.250533313608815,
          -0.7064115862357414,
          1.1872554736643324,
          0.8684234618402348,
          1.837419198543538,
          0.3455750124730475,
          -0.8431045456509281,
          0.2504725540093318,
          -0.3641331342287776,
          -0.1786119379181722,
          1.9131851841668437,
          -0.6744099032527255,
          -1.0173693879993573,
          -1.2564859236649464,
          -0.014319618356981197,
          0.4248904951872451,
          -0.5306552555381103,
          -0.7367035266810666,
          0.5831548802400632,
          -1.6756500385628834,
          -0.4093871128858697,
          1.0745448254148906,
          -1.521323754786965,
          -0.6709081766186101,
          -0.6535283479195353,
          0.857675773196685,
          -0.7985601870201094
         ],
         "yaxis": "y13"
        },
        {
         "line": {
          "color": "rgba(128, 128, 128, 1.0)",
          "dash": "solid",
          "shape": "linear",
          "width": 1.3
         },
         "marker": {
          "size": 2,
          "symbol": "circle"
         },
         "mode": "markers",
         "name": "D",
         "text": "",
         "type": "scatter",
         "x": [
          -0.7571651906745785,
          -1.1556692933233748,
          1.7806297444554822,
          0.4578599448036818,
          1.3309205784351237,
          0.8239282422962768,
          -1.6848863051524432,
          -0.7541222351356808,
          0.3579900278059774,
          -0.6973499798885667,
          -1.1185123874430996,
          -0.2994648817501223,
          0.06704295585652872,
          0.02035832821945884,
          -1.3294390657182,
          1.022252936447132,
          1.0053336991661836,
          0.07190096462962152,
          -0.9755733581483298,
          1.4321795955170138,
          0.7682701841913601,
          1.4106140993914187,
          0.8842862535844305,
          -0.47573009331610966,
          1.3925150436772173,
          1.5229403142636067,
          0.4979127015679674,
          -0.22798055804358228,
          -0.0015201187562104794,
          -0.7495407346801771,
          1.328528954537974,
          -0.2435124822982681,
          1.9527621822822765,
          1.9676936762797141,
          0.6930920592087606,
          -1.2047070952737269,
          -0.23371188951046254,
          0.0904489820968438,
          -0.1922827287818314,
          -0.09443850073079627,
          0.35411209910976243,
          -0.7378673061324998,
          -1.500182599220915,
          0.027248475993117298,
          -1.5928417705059106,
          -0.270816497865613,
          -0.5085227360674233,
          -0.3417589089128278,
          -0.6571341304736517,
          1.6035827297495748,
          -0.3095623753122842,
          0.11219869134530197,
          -0.1270892021909148,
          0.532977431473964,
          -1.3464165418222898,
          1.1316424758934114,
          -0.7622335583741608,
          -0.24702200690165985,
          -0.4630147906934118,
          -0.36319885697730925,
          -1.4496796124020117,
          0.9489037775907716,
          -1.0559602914410788,
          -0.40517571814914105,
          -0.9460764335874674,
          0.07137266324652135,
          0.44539589417145947,
          -0.7411187275501535,
          -0.30809178688149913,
          0.6771270266525428,
          -2.0070739280271974,
          -0.40191263907329716,
          0.2462375338243192,
          -0.7361069754945546,
          0.2450920395430285,
          -0.10131033533366482,
          -0.7939623166404947,
          0.26092941113513224,
          -0.04144594794792293,
          -1.465015360378068,
          -0.40845640726951,
          1.540098306745973,
          -1.8807183485864425,
          0.26192533874844304,
          0.43606184773113804,
          -0.6976882584015038,
          -0.33883690793114757,
          0.5501987049405354,
          -0.17977156442569758,
          0.09407305437372032,
          0.3905632022559406,
          -0.679164724948543,
          0.7852670833079327,
          0.5878197275238274,
          -1.2513417011321166,
          0.9602883150342724,
          1.3460439652971705,
          -0.14988934526054964,
          -0.34372152424350455,
          0.7834210604939421
         ],
         "xaxis": "x14",
         "y": [
          1.3932533212334495,
          0.2241684371883963,
          0.9750739274414556,
          0.5940652666865319,
          1.2101033243388055,
          0.4448609850652139,
          -0.2658450901566835,
          0.630189739869328,
          0.45172696457443956,
          0.4628868786377445,
          -2.7643136612774355,
          -0.16984537073399386,
          0.1747704809129454,
          -0.5487720891818902,
          0.9127644892428154,
          -0.16297336412093263,
          1.8810303028581048,
          0.10885961489826855,
          0.8293140258192842,
          -0.9736957308055706,
          -0.06722625279633468,
          -0.5714920481354261,
          0.5756138704145813,
          -0.13826268728074936,
          -0.3261600511019883,
          -0.7709141294499515,
          -1.5711268752601908,
          0.003749006012046726,
          0.4321633962530361,
          -0.30228068216206827,
          0.9832046396284396,
          0.37639781108943754,
          -1.0178912866442507,
          -0.1217171208639235,
          -1.7119142286429185,
          1.09556567404667,
          -1.1587629221693567,
          0.6917638459868968,
          0.06054613331850782,
          -0.2756573269474395,
          -0.00906471933142405,
          1.0107867164979152,
          -2.210812992949009,
          -1.8885447332496859,
          0.2144885066184908,
          0.32651362922457156,
          -0.2368041802315175,
          0.6588066394885467,
          1.495762187666791,
          1.7118026044219314,
          -0.693560211520616,
          -0.5742587471362914,
          -0.47711502709919046,
          -0.21067912239226097,
          -0.08793123477124042,
          -1.9587264157548534,
          0.19264765108253026,
          1.382955525139188,
          0.3515646814534139,
          0.4613935114459003,
          0.16813161076923622,
          -0.6922388637613162,
          -0.09636032777922349,
          1.3074300912687304,
          0.5915356227600267,
          -0.576926181705004,
          -0.09846807905122404,
          -0.4908966197585694,
          -0.39270830024857306,
          1.2569680324133468,
          0.8737042352745313,
          0.4384351029698666,
          -0.38975732942115365,
          0.250533313608815,
          -0.7064115862357414,
          1.1872554736643324,
          0.8684234618402348,
          1.837419198543538,
          0.3455750124730475,
          -0.8431045456509281,
          0.2504725540093318,
          -0.3641331342287776,
          -0.1786119379181722,
          1.9131851841668437,
          -0.6744099032527255,
          -1.0173693879993573,
          -1.2564859236649464,
          -0.014319618356981197,
          0.4248904951872451,
          -0.5306552555381103,
          -0.7367035266810666,
          0.5831548802400632,
          -1.6756500385628834,
          -0.4093871128858697,
          1.0745448254148906,
          -1.521323754786965,
          -0.6709081766186101,
          -0.6535283479195353,
          0.857675773196685,
          -0.7985601870201094
         ],
         "yaxis": "y14"
        },
        {
         "line": {
          "color": "rgba(128, 128, 128, 1.0)",
          "dash": "solid",
          "shape": "linear",
          "width": 1.3
         },
         "marker": {
          "size": 2,
          "symbol": "circle"
         },
         "mode": "markers",
         "name": "D",
         "text": "",
         "type": "scatter",
         "x": [
          0.8144031091441553,
          0.7767619217029104,
          -0.4764861573350728,
          -1.7226282800430874,
          0.042954129507712116,
          -0.3461675845414054,
          -0.7093891075748427,
          0.6669058031587073,
          0.035977966037093044,
          0.773764364205727,
          -0.7624084615721775,
          -1.3352148366311936,
          -0.3488280692797366,
          0.3764584596388346,
          0.9290030851987335,
          2.570512448929575,
          -0.1730088984696346,
          -0.8365732469476568,
          0.8572894798512208,
          -1.7956260874110428,
          0.12945968581180442,
          0.917147643605632,
          -1.0687848267009672,
          0.6108188839965774,
          2.3923131085463596,
          -0.24111343565575363,
          1.6239737711767945,
          1.492087772180699,
          -0.3166835221387118,
          0.21391682523433128,
          1.3431401414834065,
          -0.33658330930052444,
          -0.06040031829111864,
          0.8575727193535894,
          0.8456303236478259,
          0.5873179710868004,
          -0.5153380003082056,
          0.30125334982497637,
          0.1387728307020779,
          -2.0084040208601572,
          0.43358873563114636,
          0.3336515430236771,
          1.1151060269365956,
          0.7700750890092685,
          -0.5398110452866328,
          -0.2145185903736761,
          -1.3579275829890975,
          -0.6063766417218892,
          -0.9361307838015346,
          -1.0341589706399332,
          -0.7735923539922803,
          0.5942197674390316,
          -0.7974997044360369,
          -0.4852376362427482,
          -0.6047029260240983,
          1.2677565721539823,
          0.7557749349842667,
          0.4005016589869277,
          1.7602240792382622,
          0.32785068102032794,
          -0.6924844983630888,
          0.28986689317335373,
          0.8346389766682714,
          -1.3181947665753797,
          -0.26491627511662014,
          -0.3913940425717173,
          0.24578259997284216,
          -0.20406695835053235,
          -1.4274656154378003,
          -0.06264926304347601,
          -1.2096626431097994,
          -0.4221286398408152,
          -0.1762422629662039,
          -1.5380399030712135,
          0.33860478504924724,
          -0.5629873262671605,
          0.0016011056051914252,
          -0.345031010096941,
          1.2149291432694307,
          0.3775203769110489,
          -0.9953085279115665,
          0.33448933924794494,
          -0.8031246494573918,
          0.13226274769544108,
          0.36886075784824823,
          -1.3706518061137527,
          -0.7190573390676255,
          0.3375015552640827,
          0.12674617471946514,
          0.2855452890026702,
          -0.50132927206113,
          0.5567349826342716,
          -0.025261974047004934,
          -0.0012146459766086911,
          0.678076473554741,
          0.2262779748256039,
          0.7781458207393253,
          0.5809436007719051,
          1.5118791070809483,
          -0.734171047799401
         ],
         "xaxis": "x15",
         "y": [
          1.3932533212334495,
          0.2241684371883963,
          0.9750739274414556,
          0.5940652666865319,
          1.2101033243388055,
          0.4448609850652139,
          -0.2658450901566835,
          0.630189739869328,
          0.45172696457443956,
          0.4628868786377445,
          -2.7643136612774355,
          -0.16984537073399386,
          0.1747704809129454,
          -0.5487720891818902,
          0.9127644892428154,
          -0.16297336412093263,
          1.8810303028581048,
          0.10885961489826855,
          0.8293140258192842,
          -0.9736957308055706,
          -0.06722625279633468,
          -0.5714920481354261,
          0.5756138704145813,
          -0.13826268728074936,
          -0.3261600511019883,
          -0.7709141294499515,
          -1.5711268752601908,
          0.003749006012046726,
          0.4321633962530361,
          -0.30228068216206827,
          0.9832046396284396,
          0.37639781108943754,
          -1.0178912866442507,
          -0.1217171208639235,
          -1.7119142286429185,
          1.09556567404667,
          -1.1587629221693567,
          0.6917638459868968,
          0.06054613331850782,
          -0.2756573269474395,
          -0.00906471933142405,
          1.0107867164979152,
          -2.210812992949009,
          -1.8885447332496859,
          0.2144885066184908,
          0.32651362922457156,
          -0.2368041802315175,
          0.6588066394885467,
          1.495762187666791,
          1.7118026044219314,
          -0.693560211520616,
          -0.5742587471362914,
          -0.47711502709919046,
          -0.21067912239226097,
          -0.08793123477124042,
          -1.9587264157548534,
          0.19264765108253026,
          1.382955525139188,
          0.3515646814534139,
          0.4613935114459003,
          0.16813161076923622,
          -0.6922388637613162,
          -0.09636032777922349,
          1.3074300912687304,
          0.5915356227600267,
          -0.576926181705004,
          -0.09846807905122404,
          -0.4908966197585694,
          -0.39270830024857306,
          1.2569680324133468,
          0.8737042352745313,
          0.4384351029698666,
          -0.38975732942115365,
          0.250533313608815,
          -0.7064115862357414,
          1.1872554736643324,
          0.8684234618402348,
          1.837419198543538,
          0.3455750124730475,
          -0.8431045456509281,
          0.2504725540093318,
          -0.3641331342287776,
          -0.1786119379181722,
          1.9131851841668437,
          -0.6744099032527255,
          -1.0173693879993573,
          -1.2564859236649464,
          -0.014319618356981197,
          0.4248904951872451,
          -0.5306552555381103,
          -0.7367035266810666,
          0.5831548802400632,
          -1.6756500385628834,
          -0.4093871128858697,
          1.0745448254148906,
          -1.521323754786965,
          -0.6709081766186101,
          -0.6535283479195353,
          0.857675773196685,
          -0.7985601870201094
         ],
         "yaxis": "y15"
        },
        {
         "histfunc": "count",
         "histnorm": "",
         "marker": {
          "color": "rgba(128, 0, 128, 1.0)",
          "line": {
           "color": "#4D5663",
           "width": 1.3
          }
         },
         "name": "D",
         "nbinsx": 10,
         "opacity": 0.8,
         "orientation": "v",
         "type": "histogram",
         "x": [
          1.3932533212334495,
          0.2241684371883963,
          0.9750739274414556,
          0.5940652666865319,
          1.2101033243388055,
          0.4448609850652139,
          -0.2658450901566835,
          0.630189739869328,
          0.45172696457443956,
          0.4628868786377445,
          -2.7643136612774355,
          -0.16984537073399386,
          0.1747704809129454,
          -0.5487720891818902,
          0.9127644892428154,
          -0.16297336412093263,
          1.8810303028581048,
          0.10885961489826855,
          0.8293140258192842,
          -0.9736957308055706,
          -0.06722625279633468,
          -0.5714920481354261,
          0.5756138704145813,
          -0.13826268728074936,
          -0.3261600511019883,
          -0.7709141294499515,
          -1.5711268752601908,
          0.003749006012046726,
          0.4321633962530361,
          -0.30228068216206827,
          0.9832046396284396,
          0.37639781108943754,
          -1.0178912866442507,
          -0.1217171208639235,
          -1.7119142286429185,
          1.09556567404667,
          -1.1587629221693567,
          0.6917638459868968,
          0.06054613331850782,
          -0.2756573269474395,
          -0.00906471933142405,
          1.0107867164979152,
          -2.210812992949009,
          -1.8885447332496859,
          0.2144885066184908,
          0.32651362922457156,
          -0.2368041802315175,
          0.6588066394885467,
          1.495762187666791,
          1.7118026044219314,
          -0.693560211520616,
          -0.5742587471362914,
          -0.47711502709919046,
          -0.21067912239226097,
          -0.08793123477124042,
          -1.9587264157548534,
          0.19264765108253026,
          1.382955525139188,
          0.3515646814534139,
          0.4613935114459003,
          0.16813161076923622,
          -0.6922388637613162,
          -0.09636032777922349,
          1.3074300912687304,
          0.5915356227600267,
          -0.576926181705004,
          -0.09846807905122404,
          -0.4908966197585694,
          -0.39270830024857306,
          1.2569680324133468,
          0.8737042352745313,
          0.4384351029698666,
          -0.38975732942115365,
          0.250533313608815,
          -0.7064115862357414,
          1.1872554736643324,
          0.8684234618402348,
          1.837419198543538,
          0.3455750124730475,
          -0.8431045456509281,
          0.2504725540093318,
          -0.3641331342287776,
          -0.1786119379181722,
          1.9131851841668437,
          -0.6744099032527255,
          -1.0173693879993573,
          -1.2564859236649464,
          -0.014319618356981197,
          0.4248904951872451,
          -0.5306552555381103,
          -0.7367035266810666,
          0.5831548802400632,
          -1.6756500385628834,
          -0.4093871128858697,
          1.0745448254148906,
          -1.521323754786965,
          -0.6709081766186101,
          -0.6535283479195353,
          0.857675773196685,
          -0.7985601870201094
         ],
         "xaxis": "x16",
         "yaxis": "y16"
        }
       ],
       "layout": {
        "bargap": 0.02,
        "legend": {
         "bgcolor": "#F5F6F9",
         "font": {
          "color": "#4D5663"
         }
        },
        "paper_bgcolor": "#F5F6F9",
        "plot_bgcolor": "#F5F6F9",
        "showlegend": false,
        "template": {
         "data": {
          "bar": [
           {
            "error_x": {
             "color": "#2a3f5f"
            },
            "error_y": {
             "color": "#2a3f5f"
            },
            "marker": {
             "line": {
              "color": "#E5ECF6",
              "width": 0.5
             }
            },
            "type": "bar"
           }
          ],
          "barpolar": [
           {
            "marker": {
             "line": {
              "color": "#E5ECF6",
              "width": 0.5
             }
            },
            "type": "barpolar"
           }
          ],
          "carpet": [
           {
            "aaxis": {
             "endlinecolor": "#2a3f5f",
             "gridcolor": "white",
             "linecolor": "white",
             "minorgridcolor": "white",
             "startlinecolor": "#2a3f5f"
            },
            "baxis": {
             "endlinecolor": "#2a3f5f",
             "gridcolor": "white",
             "linecolor": "white",
             "minorgridcolor": "white",
             "startlinecolor": "#2a3f5f"
            },
            "type": "carpet"
           }
          ],
          "choropleth": [
           {
            "colorbar": {
             "outlinewidth": 0,
             "ticks": ""
            },
            "type": "choropleth"
           }
          ],
          "contour": [
           {
            "colorbar": {
             "outlinewidth": 0,
             "ticks": ""
            },
            "colorscale": [
             [
              0,
              "#0d0887"
             ],
             [
              0.1111111111111111,
              "#46039f"
             ],
             [
              0.2222222222222222,
              "#7201a8"
             ],
             [
              0.3333333333333333,
              "#9c179e"
             ],
             [
              0.4444444444444444,
              "#bd3786"
             ],
             [
              0.5555555555555556,
              "#d8576b"
             ],
             [
              0.6666666666666666,
              "#ed7953"
             ],
             [
              0.7777777777777778,
              "#fb9f3a"
             ],
             [
              0.8888888888888888,
              "#fdca26"
             ],
             [
              1,
              "#f0f921"
             ]
            ],
            "type": "contour"
           }
          ],
          "contourcarpet": [
           {
            "colorbar": {
             "outlinewidth": 0,
             "ticks": ""
            },
            "type": "contourcarpet"
           }
          ],
          "heatmap": [
           {
            "colorbar": {
             "outlinewidth": 0,
             "ticks": ""
            },
            "colorscale": [
             [
              0,
              "#0d0887"
             ],
             [
              0.1111111111111111,
              "#46039f"
             ],
             [
              0.2222222222222222,
              "#7201a8"
             ],
             [
              0.3333333333333333,
              "#9c179e"
             ],
             [
              0.4444444444444444,
              "#bd3786"
             ],
             [
              0.5555555555555556,
              "#d8576b"
             ],
             [
              0.6666666666666666,
              "#ed7953"
             ],
             [
              0.7777777777777778,
              "#fb9f3a"
             ],
             [
              0.8888888888888888,
              "#fdca26"
             ],
             [
              1,
              "#f0f921"
             ]
            ],
            "type": "heatmap"
           }
          ],
          "heatmapgl": [
           {
            "colorbar": {
             "outlinewidth": 0,
             "ticks": ""
            },
            "colorscale": [
             [
              0,
              "#0d0887"
             ],
             [
              0.1111111111111111,
              "#46039f"
             ],
             [
              0.2222222222222222,
              "#7201a8"
             ],
             [
              0.3333333333333333,
              "#9c179e"
             ],
             [
              0.4444444444444444,
              "#bd3786"
             ],
             [
              0.5555555555555556,
              "#d8576b"
             ],
             [
              0.6666666666666666,
              "#ed7953"
             ],
             [
              0.7777777777777778,
              "#fb9f3a"
             ],
             [
              0.8888888888888888,
              "#fdca26"
             ],
             [
              1,
              "#f0f921"
             ]
            ],
            "type": "heatmapgl"
           }
          ],
          "histogram": [
           {
            "marker": {
             "colorbar": {
              "outlinewidth": 0,
              "ticks": ""
             }
            },
            "type": "histogram"
           }
          ],
          "histogram2d": [
           {
            "colorbar": {
             "outlinewidth": 0,
             "ticks": ""
            },
            "colorscale": [
             [
              0,
              "#0d0887"
             ],
             [
              0.1111111111111111,
              "#46039f"
             ],
             [
              0.2222222222222222,
              "#7201a8"
             ],
             [
              0.3333333333333333,
              "#9c179e"
             ],
             [
              0.4444444444444444,
              "#bd3786"
             ],
             [
              0.5555555555555556,
              "#d8576b"
             ],
             [
              0.6666666666666666,
              "#ed7953"
             ],
             [
              0.7777777777777778,
              "#fb9f3a"
             ],
             [
              0.8888888888888888,
              "#fdca26"
             ],
             [
              1,
              "#f0f921"
             ]
            ],
            "type": "histogram2d"
           }
          ],
          "histogram2dcontour": [
           {
            "colorbar": {
             "outlinewidth": 0,
             "ticks": ""
            },
            "colorscale": [
             [
              0,
              "#0d0887"
             ],
             [
              0.1111111111111111,
              "#46039f"
             ],
             [
              0.2222222222222222,
              "#7201a8"
             ],
             [
              0.3333333333333333,
              "#9c179e"
             ],
             [
              0.4444444444444444,
              "#bd3786"
             ],
             [
              0.5555555555555556,
              "#d8576b"
             ],
             [
              0.6666666666666666,
              "#ed7953"
             ],
             [
              0.7777777777777778,
              "#fb9f3a"
             ],
             [
              0.8888888888888888,
              "#fdca26"
             ],
             [
              1,
              "#f0f921"
             ]
            ],
            "type": "histogram2dcontour"
           }
          ],
          "mesh3d": [
           {
            "colorbar": {
             "outlinewidth": 0,
             "ticks": ""
            },
            "type": "mesh3d"
           }
          ],
          "parcoords": [
           {
            "line": {
             "colorbar": {
              "outlinewidth": 0,
              "ticks": ""
             }
            },
            "type": "parcoords"
           }
          ],
          "pie": [
           {
            "automargin": true,
            "type": "pie"
           }
          ],
          "scatter": [
           {
            "marker": {
             "colorbar": {
              "outlinewidth": 0,
              "ticks": ""
             }
            },
            "type": "scatter"
           }
          ],
          "scatter3d": [
           {
            "line": {
             "colorbar": {
              "outlinewidth": 0,
              "ticks": ""
             }
            },
            "marker": {
             "colorbar": {
              "outlinewidth": 0,
              "ticks": ""
             }
            },
            "type": "scatter3d"
           }
          ],
          "scattercarpet": [
           {
            "marker": {
             "colorbar": {
              "outlinewidth": 0,
              "ticks": ""
             }
            },
            "type": "scattercarpet"
           }
          ],
          "scattergeo": [
           {
            "marker": {
             "colorbar": {
              "outlinewidth": 0,
              "ticks": ""
             }
            },
            "type": "scattergeo"
           }
          ],
          "scattergl": [
           {
            "marker": {
             "colorbar": {
              "outlinewidth": 0,
              "ticks": ""
             }
            },
            "type": "scattergl"
           }
          ],
          "scattermapbox": [
           {
            "marker": {
             "colorbar": {
              "outlinewidth": 0,
              "ticks": ""
             }
            },
            "type": "scattermapbox"
           }
          ],
          "scatterpolar": [
           {
            "marker": {
             "colorbar": {
              "outlinewidth": 0,
              "ticks": ""
             }
            },
            "type": "scatterpolar"
           }
          ],
          "scatterpolargl": [
           {
            "marker": {
             "colorbar": {
              "outlinewidth": 0,
              "ticks": ""
             }
            },
            "type": "scatterpolargl"
           }
          ],
          "scatterternary": [
           {
            "marker": {
             "colorbar": {
              "outlinewidth": 0,
              "ticks": ""
             }
            },
            "type": "scatterternary"
           }
          ],
          "surface": [
           {
            "colorbar": {
             "outlinewidth": 0,
             "ticks": ""
            },
            "colorscale": [
             [
              0,
              "#0d0887"
             ],
             [
              0.1111111111111111,
              "#46039f"
             ],
             [
              0.2222222222222222,
              "#7201a8"
             ],
             [
              0.3333333333333333,
              "#9c179e"
             ],
             [
              0.4444444444444444,
              "#bd3786"
             ],
             [
              0.5555555555555556,
              "#d8576b"
             ],
             [
              0.6666666666666666,
              "#ed7953"
             ],
             [
              0.7777777777777778,
              "#fb9f3a"
             ],
             [
              0.8888888888888888,
              "#fdca26"
             ],
             [
              1,
              "#f0f921"
             ]
            ],
            "type": "surface"
           }
          ],
          "table": [
           {
            "cells": {
             "fill": {
              "color": "#EBF0F8"
             },
             "line": {
              "color": "white"
             }
            },
            "header": {
             "fill": {
              "color": "#C8D4E3"
             },
             "line": {
              "color": "white"
             }
            },
            "type": "table"
           }
          ]
         },
         "layout": {
          "annotationdefaults": {
           "arrowcolor": "#2a3f5f",
           "arrowhead": 0,
           "arrowwidth": 1
          },
          "coloraxis": {
           "colorbar": {
            "outlinewidth": 0,
            "ticks": ""
           }
          },
          "colorscale": {
           "diverging": [
            [
             0,
             "#8e0152"
            ],
            [
             0.1,
             "#c51b7d"
            ],
            [
             0.2,
             "#de77ae"
            ],
            [
             0.3,
             "#f1b6da"
            ],
            [
             0.4,
             "#fde0ef"
            ],
            [
             0.5,
             "#f7f7f7"
            ],
            [
             0.6,
             "#e6f5d0"
            ],
            [
             0.7,
             "#b8e186"
            ],
            [
             0.8,
             "#7fbc41"
            ],
            [
             0.9,
             "#4d9221"
            ],
            [
             1,
             "#276419"
            ]
           ],
           "sequential": [
            [
             0,
             "#0d0887"
            ],
            [
             0.1111111111111111,
             "#46039f"
            ],
            [
             0.2222222222222222,
             "#7201a8"
            ],
            [
             0.3333333333333333,
             "#9c179e"
            ],
            [
             0.4444444444444444,
             "#bd3786"
            ],
            [
             0.5555555555555556,
             "#d8576b"
            ],
            [
             0.6666666666666666,
             "#ed7953"
            ],
            [
             0.7777777777777778,
             "#fb9f3a"
            ],
            [
             0.8888888888888888,
             "#fdca26"
            ],
            [
             1,
             "#f0f921"
            ]
           ],
           "sequentialminus": [
            [
             0,
             "#0d0887"
            ],
            [
             0.1111111111111111,
             "#46039f"
            ],
            [
             0.2222222222222222,
             "#7201a8"
            ],
            [
             0.3333333333333333,
             "#9c179e"
            ],
            [
             0.4444444444444444,
             "#bd3786"
            ],
            [
             0.5555555555555556,
             "#d8576b"
            ],
            [
             0.6666666666666666,
             "#ed7953"
            ],
            [
             0.7777777777777778,
             "#fb9f3a"
            ],
            [
             0.8888888888888888,
             "#fdca26"
            ],
            [
             1,
             "#f0f921"
            ]
           ]
          },
          "colorway": [
           "#636efa",
           "#EF553B",
           "#00cc96",
           "#ab63fa",
           "#FFA15A",
           "#19d3f3",
           "#FF6692",
           "#B6E880",
           "#FF97FF",
           "#FECB52"
          ],
          "font": {
           "color": "#2a3f5f"
          },
          "geo": {
           "bgcolor": "white",
           "lakecolor": "white",
           "landcolor": "#E5ECF6",
           "showlakes": true,
           "showland": true,
           "subunitcolor": "white"
          },
          "hoverlabel": {
           "align": "left"
          },
          "hovermode": "closest",
          "mapbox": {
           "style": "light"
          },
          "paper_bgcolor": "white",
          "plot_bgcolor": "#E5ECF6",
          "polar": {
           "angularaxis": {
            "gridcolor": "white",
            "linecolor": "white",
            "ticks": ""
           },
           "bgcolor": "#E5ECF6",
           "radialaxis": {
            "gridcolor": "white",
            "linecolor": "white",
            "ticks": ""
           }
          },
          "scene": {
           "xaxis": {
            "backgroundcolor": "#E5ECF6",
            "gridcolor": "white",
            "gridwidth": 2,
            "linecolor": "white",
            "showbackground": true,
            "ticks": "",
            "zerolinecolor": "white"
           },
           "yaxis": {
            "backgroundcolor": "#E5ECF6",
            "gridcolor": "white",
            "gridwidth": 2,
            "linecolor": "white",
            "showbackground": true,
            "ticks": "",
            "zerolinecolor": "white"
           },
           "zaxis": {
            "backgroundcolor": "#E5ECF6",
            "gridcolor": "white",
            "gridwidth": 2,
            "linecolor": "white",
            "showbackground": true,
            "ticks": "",
            "zerolinecolor": "white"
           }
          },
          "shapedefaults": {
           "line": {
            "color": "#2a3f5f"
           }
          },
          "ternary": {
           "aaxis": {
            "gridcolor": "white",
            "linecolor": "white",
            "ticks": ""
           },
           "baxis": {
            "gridcolor": "white",
            "linecolor": "white",
            "ticks": ""
           },
           "bgcolor": "#E5ECF6",
           "caxis": {
            "gridcolor": "white",
            "linecolor": "white",
            "ticks": ""
           }
          },
          "title": {
           "x": 0.05
          },
          "xaxis": {
           "automargin": true,
           "gridcolor": "white",
           "linecolor": "white",
           "ticks": "",
           "title": {
            "standoff": 15
           },
           "zerolinecolor": "white",
           "zerolinewidth": 2
          },
          "yaxis": {
           "automargin": true,
           "gridcolor": "white",
           "linecolor": "white",
           "ticks": "",
           "title": {
            "standoff": 15
           },
           "zerolinecolor": "white",
           "zerolinewidth": 2
          }
         }
        },
        "title": {
         "font": {
          "color": "#4D5663"
         }
        },
        "xaxis": {
         "anchor": "y",
         "domain": [
          0,
          0.2125
         ],
         "gridcolor": "#E1E5ED",
         "showgrid": false,
         "tickfont": {
          "color": "#4D5663"
         },
         "title": {
          "font": {
           "color": "#4D5663"
          },
          "text": ""
         },
         "zerolinecolor": "#E1E5ED"
        },
        "xaxis10": {
         "anchor": "y10",
         "domain": [
          0.2625,
          0.475
         ],
         "gridcolor": "#E1E5ED",
         "showgrid": false,
         "tickfont": {
          "color": "#4D5663"
         },
         "title": {
          "font": {
           "color": "#4D5663"
          },
          "text": ""
         },
         "zerolinecolor": "#E1E5ED"
        },
        "xaxis11": {
         "anchor": "y11",
         "domain": [
          0.525,
          0.7375
         ],
         "gridcolor": "#E1E5ED",
         "showgrid": false,
         "tickfont": {
          "color": "#4D5663"
         },
         "title": {
          "font": {
           "color": "#4D5663"
          },
          "text": ""
         },
         "zerolinecolor": "#E1E5ED"
        },
        "xaxis12": {
         "anchor": "y12",
         "domain": [
          0.7875,
          1
         ],
         "gridcolor": "#E1E5ED",
         "showgrid": false,
         "tickfont": {
          "color": "#4D5663"
         },
         "title": {
          "font": {
           "color": "#4D5663"
          },
          "text": ""
         },
         "zerolinecolor": "#E1E5ED"
        },
        "xaxis13": {
         "anchor": "y13",
         "domain": [
          0,
          0.2125
         ],
         "gridcolor": "#E1E5ED",
         "showgrid": false,
         "tickfont": {
          "color": "#4D5663"
         },
         "title": {
          "font": {
           "color": "#4D5663"
          },
          "text": ""
         },
         "zerolinecolor": "#E1E5ED"
        },
        "xaxis14": {
         "anchor": "y14",
         "domain": [
          0.2625,
          0.475
         ],
         "gridcolor": "#E1E5ED",
         "showgrid": false,
         "tickfont": {
          "color": "#4D5663"
         },
         "title": {
          "font": {
           "color": "#4D5663"
          },
          "text": ""
         },
         "zerolinecolor": "#E1E5ED"
        },
        "xaxis15": {
         "anchor": "y15",
         "domain": [
          0.525,
          0.7375
         ],
         "gridcolor": "#E1E5ED",
         "showgrid": false,
         "tickfont": {
          "color": "#4D5663"
         },
         "title": {
          "font": {
           "color": "#4D5663"
          },
          "text": ""
         },
         "zerolinecolor": "#E1E5ED"
        },
        "xaxis16": {
         "anchor": "y16",
         "domain": [
          0.7875,
          1
         ],
         "gridcolor": "#E1E5ED",
         "showgrid": false,
         "tickfont": {
          "color": "#4D5663"
         },
         "title": {
          "font": {
           "color": "#4D5663"
          },
          "text": ""
         },
         "zerolinecolor": "#E1E5ED"
        },
        "xaxis2": {
         "anchor": "y2",
         "domain": [
          0.2625,
          0.475
         ],
         "gridcolor": "#E1E5ED",
         "showgrid": false,
         "tickfont": {
          "color": "#4D5663"
         },
         "title": {
          "font": {
           "color": "#4D5663"
          },
          "text": ""
         },
         "zerolinecolor": "#E1E5ED"
        },
        "xaxis3": {
         "anchor": "y3",
         "domain": [
          0.525,
          0.7375
         ],
         "gridcolor": "#E1E5ED",
         "showgrid": false,
         "tickfont": {
          "color": "#4D5663"
         },
         "title": {
          "font": {
           "color": "#4D5663"
          },
          "text": ""
         },
         "zerolinecolor": "#E1E5ED"
        },
        "xaxis4": {
         "anchor": "y4",
         "domain": [
          0.7875,
          1
         ],
         "gridcolor": "#E1E5ED",
         "showgrid": false,
         "tickfont": {
          "color": "#4D5663"
         },
         "title": {
          "font": {
           "color": "#4D5663"
          },
          "text": ""
         },
         "zerolinecolor": "#E1E5ED"
        },
        "xaxis5": {
         "anchor": "y5",
         "domain": [
          0,
          0.2125
         ],
         "gridcolor": "#E1E5ED",
         "showgrid": false,
         "tickfont": {
          "color": "#4D5663"
         },
         "title": {
          "font": {
           "color": "#4D5663"
          },
          "text": ""
         },
         "zerolinecolor": "#E1E5ED"
        },
        "xaxis6": {
         "anchor": "y6",
         "domain": [
          0.2625,
          0.475
         ],
         "gridcolor": "#E1E5ED",
         "showgrid": false,
         "tickfont": {
          "color": "#4D5663"
         },
         "title": {
          "font": {
           "color": "#4D5663"
          },
          "text": ""
         },
         "zerolinecolor": "#E1E5ED"
        },
        "xaxis7": {
         "anchor": "y7",
         "domain": [
          0.525,
          0.7375
         ],
         "gridcolor": "#E1E5ED",
         "showgrid": false,
         "tickfont": {
          "color": "#4D5663"
         },
         "title": {
          "font": {
           "color": "#4D5663"
          },
          "text": ""
         },
         "zerolinecolor": "#E1E5ED"
        },
        "xaxis8": {
         "anchor": "y8",
         "domain": [
          0.7875,
          1
         ],
         "gridcolor": "#E1E5ED",
         "showgrid": false,
         "tickfont": {
          "color": "#4D5663"
         },
         "title": {
          "font": {
           "color": "#4D5663"
          },
          "text": ""
         },
         "zerolinecolor": "#E1E5ED"
        },
        "xaxis9": {
         "anchor": "y9",
         "domain": [
          0,
          0.2125
         ],
         "gridcolor": "#E1E5ED",
         "showgrid": false,
         "tickfont": {
          "color": "#4D5663"
         },
         "title": {
          "font": {
           "color": "#4D5663"
          },
          "text": ""
         },
         "zerolinecolor": "#E1E5ED"
        },
        "yaxis": {
         "anchor": "x",
         "domain": [
          0.8025,
          1
         ],
         "gridcolor": "#E1E5ED",
         "showgrid": false,
         "tickfont": {
          "color": "#4D5663"
         },
         "title": {
          "font": {
           "color": "#4D5663"
          },
          "text": ""
         },
         "zerolinecolor": "#E1E5ED"
        },
        "yaxis10": {
         "anchor": "x10",
         "domain": [
          0.2675,
          0.465
         ],
         "gridcolor": "#E1E5ED",
         "showgrid": false,
         "tickfont": {
          "color": "#4D5663"
         },
         "title": {
          "font": {
           "color": "#4D5663"
          },
          "text": ""
         },
         "zerolinecolor": "#E1E5ED"
        },
        "yaxis11": {
         "anchor": "x11",
         "domain": [
          0.2675,
          0.465
         ],
         "gridcolor": "#E1E5ED",
         "showgrid": false,
         "tickfont": {
          "color": "#4D5663"
         },
         "title": {
          "font": {
           "color": "#4D5663"
          },
          "text": ""
         },
         "zerolinecolor": "#E1E5ED"
        },
        "yaxis12": {
         "anchor": "x12",
         "domain": [
          0.2675,
          0.465
         ],
         "gridcolor": "#E1E5ED",
         "showgrid": false,
         "tickfont": {
          "color": "#4D5663"
         },
         "title": {
          "font": {
           "color": "#4D5663"
          },
          "text": ""
         },
         "zerolinecolor": "#E1E5ED"
        },
        "yaxis13": {
         "anchor": "x13",
         "domain": [
          0,
          0.1975
         ],
         "gridcolor": "#E1E5ED",
         "showgrid": false,
         "tickfont": {
          "color": "#4D5663"
         },
         "title": {
          "font": {
           "color": "#4D5663"
          },
          "text": ""
         },
         "zerolinecolor": "#E1E5ED"
        },
        "yaxis14": {
         "anchor": "x14",
         "domain": [
          0,
          0.1975
         ],
         "gridcolor": "#E1E5ED",
         "showgrid": false,
         "tickfont": {
          "color": "#4D5663"
         },
         "title": {
          "font": {
           "color": "#4D5663"
          },
          "text": ""
         },
         "zerolinecolor": "#E1E5ED"
        },
        "yaxis15": {
         "anchor": "x15",
         "domain": [
          0,
          0.1975
         ],
         "gridcolor": "#E1E5ED",
         "showgrid": false,
         "tickfont": {
          "color": "#4D5663"
         },
         "title": {
          "font": {
           "color": "#4D5663"
          },
          "text": ""
         },
         "zerolinecolor": "#E1E5ED"
        },
        "yaxis16": {
         "anchor": "x16",
         "domain": [
          0,
          0.1975
         ],
         "gridcolor": "#E1E5ED",
         "showgrid": false,
         "tickfont": {
          "color": "#4D5663"
         },
         "title": {
          "font": {
           "color": "#4D5663"
          },
          "text": ""
         },
         "zerolinecolor": "#E1E5ED"
        },
        "yaxis2": {
         "anchor": "x2",
         "domain": [
          0.8025,
          1
         ],
         "gridcolor": "#E1E5ED",
         "showgrid": false,
         "tickfont": {
          "color": "#4D5663"
         },
         "title": {
          "font": {
           "color": "#4D5663"
          },
          "text": ""
         },
         "zerolinecolor": "#E1E5ED"
        },
        "yaxis3": {
         "anchor": "x3",
         "domain": [
          0.8025,
          1
         ],
         "gridcolor": "#E1E5ED",
         "showgrid": false,
         "tickfont": {
          "color": "#4D5663"
         },
         "title": {
          "font": {
           "color": "#4D5663"
          },
          "text": ""
         },
         "zerolinecolor": "#E1E5ED"
        },
        "yaxis4": {
         "anchor": "x4",
         "domain": [
          0.8025,
          1
         ],
         "gridcolor": "#E1E5ED",
         "showgrid": false,
         "tickfont": {
          "color": "#4D5663"
         },
         "title": {
          "font": {
           "color": "#4D5663"
          },
          "text": ""
         },
         "zerolinecolor": "#E1E5ED"
        },
        "yaxis5": {
         "anchor": "x5",
         "domain": [
          0.535,
          0.7325
         ],
         "gridcolor": "#E1E5ED",
         "showgrid": false,
         "tickfont": {
          "color": "#4D5663"
         },
         "title": {
          "font": {
           "color": "#4D5663"
          },
          "text": ""
         },
         "zerolinecolor": "#E1E5ED"
        },
        "yaxis6": {
         "anchor": "x6",
         "domain": [
          0.535,
          0.7325
         ],
         "gridcolor": "#E1E5ED",
         "showgrid": false,
         "tickfont": {
          "color": "#4D5663"
         },
         "title": {
          "font": {
           "color": "#4D5663"
          },
          "text": ""
         },
         "zerolinecolor": "#E1E5ED"
        },
        "yaxis7": {
         "anchor": "x7",
         "domain": [
          0.535,
          0.7325
         ],
         "gridcolor": "#E1E5ED",
         "showgrid": false,
         "tickfont": {
          "color": "#4D5663"
         },
         "title": {
          "font": {
           "color": "#4D5663"
          },
          "text": ""
         },
         "zerolinecolor": "#E1E5ED"
        },
        "yaxis8": {
         "anchor": "x8",
         "domain": [
          0.535,
          0.7325
         ],
         "gridcolor": "#E1E5ED",
         "showgrid": false,
         "tickfont": {
          "color": "#4D5663"
         },
         "title": {
          "font": {
           "color": "#4D5663"
          },
          "text": ""
         },
         "zerolinecolor": "#E1E5ED"
        },
        "yaxis9": {
         "anchor": "x9",
         "domain": [
          0.2675,
          0.465
         ],
         "gridcolor": "#E1E5ED",
         "showgrid": false,
         "tickfont": {
          "color": "#4D5663"
         },
         "title": {
          "font": {
           "color": "#4D5663"
          },
          "text": ""
         },
         "zerolinecolor": "#E1E5ED"
        }
       }
      },
      "text/html": [
       "<div>\n",
       "        \n",
       "        \n",
       "            <div id=\"9de525ce-974b-4cb1-987a-614e1d1b6c10\" class=\"plotly-graph-div\" style=\"height:525px; width:100%;\"></div>\n",
       "            <script type=\"text/javascript\">\n",
       "                require([\"plotly\"], function(Plotly) {\n",
       "                    window.PLOTLYENV=window.PLOTLYENV || {};\n",
       "                    window.PLOTLYENV.BASE_URL='https://plot.ly';\n",
       "                    \n",
       "                if (document.getElementById(\"9de525ce-974b-4cb1-987a-614e1d1b6c10\")) {\n",
       "                    Plotly.newPlot(\n",
       "                        '9de525ce-974b-4cb1-987a-614e1d1b6c10',\n",
       "                        [{\"histfunc\": \"count\", \"histnorm\": \"\", \"marker\": {\"color\": \"rgba(255, 153, 51, 1.0)\", \"line\": {\"color\": \"#4D5663\", \"width\": 1.3}}, \"name\": \"A\", \"nbinsx\": 10, \"opacity\": 0.8, \"orientation\": \"v\", \"type\": \"histogram\", \"x\": [-1.4496360721844352, 0.8873978843611828, -0.0390005807228342, 0.030354177296635507, -0.3777079685985477, 0.7588829084593641, 1.734314215168449, -1.0900571341974001, -0.26212755041413577, 0.19364864806034585, -0.9946781453834873, -0.5471429181687236, 1.1732797419683796, 1.235234107700757, -0.26710267063565957, -0.7268934769880704, -0.17906255966251938, 0.5201489560628967, -1.6962464206752095, -0.7905996353292317, 1.0473869660555215, 0.04802206082745249, 0.20334625486219532, -1.3941983885214801, 0.409517162314868, 0.31743795887216947, -0.1738585088517065, 1.0571586290988335, 0.22222857212629238, 0.4237051899004442, 0.8817814321900838, -0.9945117189097893, 0.609288713378068, -1.2257490943806924, 0.04615213537108449, -0.0848659535189674, -0.7419795644501216, -1.8066909616396531, -0.23974209506206925, 1.4501993799905353, 1.073342810167746, 0.13755145441258418, -0.3104393727987269, 0.49563843991103945, -0.7697431316816101, 1.0633053005867261, -0.14169903118004062, -0.14265777722376277, -0.6839225466888054, 0.9104680213199234, 1.2971032249047207, -0.7011824318955198, -1.5986857325137882, -0.08495920203130981, 0.2999946955662853, 0.34963662572100734, -0.7047268274905389, 1.9305763656598314, -0.35904459916833176, -1.465147485068314, -0.5374034024718863, 0.5007235303428342, 0.9592497249996453, 0.468687366985324, -0.39259115256891614, -2.1800411944205154, -1.0064088646940648, -0.29041651428032966, 0.7388927602477078, -3.710326106474891, 2.1187589672232594, 0.30162533896878263, -0.8720118972663534, -1.6590026203861716, -1.1090949649380255, -0.06183130292129761, 0.37017693546974145, 0.6156971033143431, -0.5893997136482556, 0.03148720687477286, 0.362851143311647, 0.7851032925490155, -0.10274326611110957, -0.7700967825748634, -0.0941796128439429, -0.8631722694399285, -0.5119535136330179, -0.48078019166296126, -1.029605559243594, -1.5042430420415336, 0.5158157928775244, -0.5420072374369286, -0.7948471452010908, -0.36869055662136463, 0.7132943112944887, -1.3792156308894425, -0.9217650652029417, -0.13835484734774714, -0.8583622414714944, 0.7429818290509952], \"xaxis\": \"x\", \"yaxis\": \"y\"}, {\"line\": {\"color\": \"rgba(128, 128, 128, 1.0)\", \"dash\": \"solid\", \"shape\": \"linear\", \"width\": 1.3}, \"marker\": {\"size\": 2, \"symbol\": \"circle\"}, \"mode\": \"markers\", \"name\": \"A\", \"text\": \"\", \"type\": \"scatter\", \"x\": [-0.7571651906745785, -1.1556692933233748, 1.7806297444554822, 0.4578599448036818, 1.3309205784351237, 0.8239282422962768, -1.6848863051524432, -0.7541222351356808, 0.3579900278059774, -0.6973499798885667, -1.1185123874430996, -0.2994648817501223, 0.06704295585652872, 0.02035832821945884, -1.3294390657182, 1.022252936447132, 1.0053336991661836, 0.07190096462962152, -0.9755733581483298, 1.4321795955170138, 0.7682701841913601, 1.4106140993914187, 0.8842862535844305, -0.47573009331610966, 1.3925150436772173, 1.5229403142636067, 0.4979127015679674, -0.22798055804358228, -0.0015201187562104794, -0.7495407346801771, 1.328528954537974, -0.2435124822982681, 1.9527621822822765, 1.9676936762797141, 0.6930920592087606, -1.2047070952737269, -0.23371188951046254, 0.0904489820968438, -0.1922827287818314, -0.09443850073079627, 0.35411209910976243, -0.7378673061324998, -1.500182599220915, 0.027248475993117298, -1.5928417705059106, -0.270816497865613, -0.5085227360674233, -0.3417589089128278, -0.6571341304736517, 1.6035827297495748, -0.3095623753122842, 0.11219869134530197, -0.1270892021909148, 0.532977431473964, -1.3464165418222898, 1.1316424758934114, -0.7622335583741608, -0.24702200690165985, -0.4630147906934118, -0.36319885697730925, -1.4496796124020117, 0.9489037775907716, -1.0559602914410788, -0.40517571814914105, -0.9460764335874674, 0.07137266324652135, 0.44539589417145947, -0.7411187275501535, -0.30809178688149913, 0.6771270266525428, -2.0070739280271974, -0.40191263907329716, 0.2462375338243192, -0.7361069754945546, 0.2450920395430285, -0.10131033533366482, -0.7939623166404947, 0.26092941113513224, -0.04144594794792293, -1.465015360378068, -0.40845640726951, 1.540098306745973, -1.8807183485864425, 0.26192533874844304, 0.43606184773113804, -0.6976882584015038, -0.33883690793114757, 0.5501987049405354, -0.17977156442569758, 0.09407305437372032, 0.3905632022559406, -0.679164724948543, 0.7852670833079327, 0.5878197275238274, -1.2513417011321166, 0.9602883150342724, 1.3460439652971705, -0.14988934526054964, -0.34372152424350455, 0.7834210604939421], \"xaxis\": \"x2\", \"y\": [-1.4496360721844352, 0.8873978843611828, -0.0390005807228342, 0.030354177296635507, -0.3777079685985477, 0.7588829084593641, 1.734314215168449, -1.0900571341974001, -0.26212755041413577, 0.19364864806034585, -0.9946781453834873, -0.5471429181687236, 1.1732797419683796, 1.235234107700757, -0.26710267063565957, -0.7268934769880704, -0.17906255966251938, 0.5201489560628967, -1.6962464206752095, -0.7905996353292317, 1.0473869660555215, 0.04802206082745249, 0.20334625486219532, -1.3941983885214801, 0.409517162314868, 0.31743795887216947, -0.1738585088517065, 1.0571586290988335, 0.22222857212629238, 0.4237051899004442, 0.8817814321900838, -0.9945117189097893, 0.609288713378068, -1.2257490943806924, 0.04615213537108449, -0.0848659535189674, -0.7419795644501216, -1.8066909616396531, -0.23974209506206925, 1.4501993799905353, 1.073342810167746, 0.13755145441258418, -0.3104393727987269, 0.49563843991103945, -0.7697431316816101, 1.0633053005867261, -0.14169903118004062, -0.14265777722376277, -0.6839225466888054, 0.9104680213199234, 1.2971032249047207, -0.7011824318955198, -1.5986857325137882, -0.08495920203130981, 0.2999946955662853, 0.34963662572100734, -0.7047268274905389, 1.9305763656598314, -0.35904459916833176, -1.465147485068314, -0.5374034024718863, 0.5007235303428342, 0.9592497249996453, 0.468687366985324, -0.39259115256891614, -2.1800411944205154, -1.0064088646940648, -0.29041651428032966, 0.7388927602477078, -3.710326106474891, 2.1187589672232594, 0.30162533896878263, -0.8720118972663534, -1.6590026203861716, -1.1090949649380255, -0.06183130292129761, 0.37017693546974145, 0.6156971033143431, -0.5893997136482556, 0.03148720687477286, 0.362851143311647, 0.7851032925490155, -0.10274326611110957, -0.7700967825748634, -0.0941796128439429, -0.8631722694399285, -0.5119535136330179, -0.48078019166296126, -1.029605559243594, -1.5042430420415336, 0.5158157928775244, -0.5420072374369286, -0.7948471452010908, -0.36869055662136463, 0.7132943112944887, -1.3792156308894425, -0.9217650652029417, -0.13835484734774714, -0.8583622414714944, 0.7429818290509952], \"yaxis\": \"y2\"}, {\"line\": {\"color\": \"rgba(128, 128, 128, 1.0)\", \"dash\": \"solid\", \"shape\": \"linear\", \"width\": 1.3}, \"marker\": {\"size\": 2, \"symbol\": \"circle\"}, \"mode\": \"markers\", \"name\": \"A\", \"text\": \"\", \"type\": \"scatter\", \"x\": [0.8144031091441553, 0.7767619217029104, -0.4764861573350728, -1.7226282800430874, 0.042954129507712116, -0.3461675845414054, -0.7093891075748427, 0.6669058031587073, 0.035977966037093044, 0.773764364205727, -0.7624084615721775, -1.3352148366311936, -0.3488280692797366, 0.3764584596388346, 0.9290030851987335, 2.570512448929575, -0.1730088984696346, -0.8365732469476568, 0.8572894798512208, -1.7956260874110428, 0.12945968581180442, 0.917147643605632, -1.0687848267009672, 0.6108188839965774, 2.3923131085463596, -0.24111343565575363, 1.6239737711767945, 1.492087772180699, -0.3166835221387118, 0.21391682523433128, 1.3431401414834065, -0.33658330930052444, -0.06040031829111864, 0.8575727193535894, 0.8456303236478259, 0.5873179710868004, -0.5153380003082056, 0.30125334982497637, 0.1387728307020779, -2.0084040208601572, 0.43358873563114636, 0.3336515430236771, 1.1151060269365956, 0.7700750890092685, -0.5398110452866328, -0.2145185903736761, -1.3579275829890975, -0.6063766417218892, -0.9361307838015346, -1.0341589706399332, -0.7735923539922803, 0.5942197674390316, -0.7974997044360369, -0.4852376362427482, -0.6047029260240983, 1.2677565721539823, 0.7557749349842667, 0.4005016589869277, 1.7602240792382622, 0.32785068102032794, -0.6924844983630888, 0.28986689317335373, 0.8346389766682714, -1.3181947665753797, -0.26491627511662014, -0.3913940425717173, 0.24578259997284216, -0.20406695835053235, -1.4274656154378003, -0.06264926304347601, -1.2096626431097994, -0.4221286398408152, -0.1762422629662039, -1.5380399030712135, 0.33860478504924724, -0.5629873262671605, 0.0016011056051914252, -0.345031010096941, 1.2149291432694307, 0.3775203769110489, -0.9953085279115665, 0.33448933924794494, -0.8031246494573918, 0.13226274769544108, 0.36886075784824823, -1.3706518061137527, -0.7190573390676255, 0.3375015552640827, 0.12674617471946514, 0.2855452890026702, -0.50132927206113, 0.5567349826342716, -0.025261974047004934, -0.0012146459766086911, 0.678076473554741, 0.2262779748256039, 0.7781458207393253, 0.5809436007719051, 1.5118791070809483, -0.734171047799401], \"xaxis\": \"x3\", \"y\": [-1.4496360721844352, 0.8873978843611828, -0.0390005807228342, 0.030354177296635507, -0.3777079685985477, 0.7588829084593641, 1.734314215168449, -1.0900571341974001, -0.26212755041413577, 0.19364864806034585, -0.9946781453834873, -0.5471429181687236, 1.1732797419683796, 1.235234107700757, -0.26710267063565957, -0.7268934769880704, -0.17906255966251938, 0.5201489560628967, -1.6962464206752095, -0.7905996353292317, 1.0473869660555215, 0.04802206082745249, 0.20334625486219532, -1.3941983885214801, 0.409517162314868, 0.31743795887216947, -0.1738585088517065, 1.0571586290988335, 0.22222857212629238, 0.4237051899004442, 0.8817814321900838, -0.9945117189097893, 0.609288713378068, -1.2257490943806924, 0.04615213537108449, -0.0848659535189674, -0.7419795644501216, -1.8066909616396531, -0.23974209506206925, 1.4501993799905353, 1.073342810167746, 0.13755145441258418, -0.3104393727987269, 0.49563843991103945, -0.7697431316816101, 1.0633053005867261, -0.14169903118004062, -0.14265777722376277, -0.6839225466888054, 0.9104680213199234, 1.2971032249047207, -0.7011824318955198, -1.5986857325137882, -0.08495920203130981, 0.2999946955662853, 0.34963662572100734, -0.7047268274905389, 1.9305763656598314, -0.35904459916833176, -1.465147485068314, -0.5374034024718863, 0.5007235303428342, 0.9592497249996453, 0.468687366985324, -0.39259115256891614, -2.1800411944205154, -1.0064088646940648, -0.29041651428032966, 0.7388927602477078, -3.710326106474891, 2.1187589672232594, 0.30162533896878263, -0.8720118972663534, -1.6590026203861716, -1.1090949649380255, -0.06183130292129761, 0.37017693546974145, 0.6156971033143431, -0.5893997136482556, 0.03148720687477286, 0.362851143311647, 0.7851032925490155, -0.10274326611110957, -0.7700967825748634, -0.0941796128439429, -0.8631722694399285, -0.5119535136330179, -0.48078019166296126, -1.029605559243594, -1.5042430420415336, 0.5158157928775244, -0.5420072374369286, -0.7948471452010908, -0.36869055662136463, 0.7132943112944887, -1.3792156308894425, -0.9217650652029417, -0.13835484734774714, -0.8583622414714944, 0.7429818290509952], \"yaxis\": \"y3\"}, {\"line\": {\"color\": \"rgba(128, 128, 128, 1.0)\", \"dash\": \"solid\", \"shape\": \"linear\", \"width\": 1.3}, \"marker\": {\"size\": 2, \"symbol\": \"circle\"}, \"mode\": \"markers\", \"name\": \"A\", \"text\": \"\", \"type\": \"scatter\", \"x\": [1.3932533212334495, 0.2241684371883963, 0.9750739274414556, 0.5940652666865319, 1.2101033243388055, 0.4448609850652139, -0.2658450901566835, 0.630189739869328, 0.45172696457443956, 0.4628868786377445, -2.7643136612774355, -0.16984537073399386, 0.1747704809129454, -0.5487720891818902, 0.9127644892428154, -0.16297336412093263, 1.8810303028581048, 0.10885961489826855, 0.8293140258192842, -0.9736957308055706, -0.06722625279633468, -0.5714920481354261, 0.5756138704145813, -0.13826268728074936, -0.3261600511019883, -0.7709141294499515, -1.5711268752601908, 0.003749006012046726, 0.4321633962530361, -0.30228068216206827, 0.9832046396284396, 0.37639781108943754, -1.0178912866442507, -0.1217171208639235, -1.7119142286429185, 1.09556567404667, -1.1587629221693567, 0.6917638459868968, 0.06054613331850782, -0.2756573269474395, -0.00906471933142405, 1.0107867164979152, -2.210812992949009, -1.8885447332496859, 0.2144885066184908, 0.32651362922457156, -0.2368041802315175, 0.6588066394885467, 1.495762187666791, 1.7118026044219314, -0.693560211520616, -0.5742587471362914, -0.47711502709919046, -0.21067912239226097, -0.08793123477124042, -1.9587264157548534, 0.19264765108253026, 1.382955525139188, 0.3515646814534139, 0.4613935114459003, 0.16813161076923622, -0.6922388637613162, -0.09636032777922349, 1.3074300912687304, 0.5915356227600267, -0.576926181705004, -0.09846807905122404, -0.4908966197585694, -0.39270830024857306, 1.2569680324133468, 0.8737042352745313, 0.4384351029698666, -0.38975732942115365, 0.250533313608815, -0.7064115862357414, 1.1872554736643324, 0.8684234618402348, 1.837419198543538, 0.3455750124730475, -0.8431045456509281, 0.2504725540093318, -0.3641331342287776, -0.1786119379181722, 1.9131851841668437, -0.6744099032527255, -1.0173693879993573, -1.2564859236649464, -0.014319618356981197, 0.4248904951872451, -0.5306552555381103, -0.7367035266810666, 0.5831548802400632, -1.6756500385628834, -0.4093871128858697, 1.0745448254148906, -1.521323754786965, -0.6709081766186101, -0.6535283479195353, 0.857675773196685, -0.7985601870201094], \"xaxis\": \"x4\", \"y\": [-1.4496360721844352, 0.8873978843611828, -0.0390005807228342, 0.030354177296635507, -0.3777079685985477, 0.7588829084593641, 1.734314215168449, -1.0900571341974001, -0.26212755041413577, 0.19364864806034585, -0.9946781453834873, -0.5471429181687236, 1.1732797419683796, 1.235234107700757, -0.26710267063565957, -0.7268934769880704, -0.17906255966251938, 0.5201489560628967, -1.6962464206752095, -0.7905996353292317, 1.0473869660555215, 0.04802206082745249, 0.20334625486219532, -1.3941983885214801, 0.409517162314868, 0.31743795887216947, -0.1738585088517065, 1.0571586290988335, 0.22222857212629238, 0.4237051899004442, 0.8817814321900838, -0.9945117189097893, 0.609288713378068, -1.2257490943806924, 0.04615213537108449, -0.0848659535189674, -0.7419795644501216, -1.8066909616396531, -0.23974209506206925, 1.4501993799905353, 1.073342810167746, 0.13755145441258418, -0.3104393727987269, 0.49563843991103945, -0.7697431316816101, 1.0633053005867261, -0.14169903118004062, -0.14265777722376277, -0.6839225466888054, 0.9104680213199234, 1.2971032249047207, -0.7011824318955198, -1.5986857325137882, -0.08495920203130981, 0.2999946955662853, 0.34963662572100734, -0.7047268274905389, 1.9305763656598314, -0.35904459916833176, -1.465147485068314, -0.5374034024718863, 0.5007235303428342, 0.9592497249996453, 0.468687366985324, -0.39259115256891614, -2.1800411944205154, -1.0064088646940648, -0.29041651428032966, 0.7388927602477078, -3.710326106474891, 2.1187589672232594, 0.30162533896878263, -0.8720118972663534, -1.6590026203861716, -1.1090949649380255, -0.06183130292129761, 0.37017693546974145, 0.6156971033143431, -0.5893997136482556, 0.03148720687477286, 0.362851143311647, 0.7851032925490155, -0.10274326611110957, -0.7700967825748634, -0.0941796128439429, -0.8631722694399285, -0.5119535136330179, -0.48078019166296126, -1.029605559243594, -1.5042430420415336, 0.5158157928775244, -0.5420072374369286, -0.7948471452010908, -0.36869055662136463, 0.7132943112944887, -1.3792156308894425, -0.9217650652029417, -0.13835484734774714, -0.8583622414714944, 0.7429818290509952], \"yaxis\": \"y4\"}, {\"line\": {\"color\": \"rgba(128, 128, 128, 1.0)\", \"dash\": \"solid\", \"shape\": \"linear\", \"width\": 1.3}, \"marker\": {\"size\": 2, \"symbol\": \"circle\"}, \"mode\": \"markers\", \"name\": \"B\", \"text\": \"\", \"type\": \"scatter\", \"x\": [-1.4496360721844352, 0.8873978843611828, -0.0390005807228342, 0.030354177296635507, -0.3777079685985477, 0.7588829084593641, 1.734314215168449, -1.0900571341974001, -0.26212755041413577, 0.19364864806034585, -0.9946781453834873, -0.5471429181687236, 1.1732797419683796, 1.235234107700757, -0.26710267063565957, -0.7268934769880704, -0.17906255966251938, 0.5201489560628967, -1.6962464206752095, -0.7905996353292317, 1.0473869660555215, 0.04802206082745249, 0.20334625486219532, -1.3941983885214801, 0.409517162314868, 0.31743795887216947, -0.1738585088517065, 1.0571586290988335, 0.22222857212629238, 0.4237051899004442, 0.8817814321900838, -0.9945117189097893, 0.609288713378068, -1.2257490943806924, 0.04615213537108449, -0.0848659535189674, -0.7419795644501216, -1.8066909616396531, -0.23974209506206925, 1.4501993799905353, 1.073342810167746, 0.13755145441258418, -0.3104393727987269, 0.49563843991103945, -0.7697431316816101, 1.0633053005867261, -0.14169903118004062, -0.14265777722376277, -0.6839225466888054, 0.9104680213199234, 1.2971032249047207, -0.7011824318955198, -1.5986857325137882, -0.08495920203130981, 0.2999946955662853, 0.34963662572100734, -0.7047268274905389, 1.9305763656598314, -0.35904459916833176, -1.465147485068314, -0.5374034024718863, 0.5007235303428342, 0.9592497249996453, 0.468687366985324, -0.39259115256891614, -2.1800411944205154, -1.0064088646940648, -0.29041651428032966, 0.7388927602477078, -3.710326106474891, 2.1187589672232594, 0.30162533896878263, -0.8720118972663534, -1.6590026203861716, -1.1090949649380255, -0.06183130292129761, 0.37017693546974145, 0.6156971033143431, -0.5893997136482556, 0.03148720687477286, 0.362851143311647, 0.7851032925490155, -0.10274326611110957, -0.7700967825748634, -0.0941796128439429, -0.8631722694399285, -0.5119535136330179, -0.48078019166296126, -1.029605559243594, -1.5042430420415336, 0.5158157928775244, -0.5420072374369286, -0.7948471452010908, -0.36869055662136463, 0.7132943112944887, -1.3792156308894425, -0.9217650652029417, -0.13835484734774714, -0.8583622414714944, 0.7429818290509952], \"xaxis\": \"x5\", \"y\": [-0.7571651906745785, -1.1556692933233748, 1.7806297444554822, 0.4578599448036818, 1.3309205784351237, 0.8239282422962768, -1.6848863051524432, -0.7541222351356808, 0.3579900278059774, -0.6973499798885667, -1.1185123874430996, -0.2994648817501223, 0.06704295585652872, 0.02035832821945884, -1.3294390657182, 1.022252936447132, 1.0053336991661836, 0.07190096462962152, -0.9755733581483298, 1.4321795955170138, 0.7682701841913601, 1.4106140993914187, 0.8842862535844305, -0.47573009331610966, 1.3925150436772173, 1.5229403142636067, 0.4979127015679674, -0.22798055804358228, -0.0015201187562104794, -0.7495407346801771, 1.328528954537974, -0.2435124822982681, 1.9527621822822765, 1.9676936762797141, 0.6930920592087606, -1.2047070952737269, -0.23371188951046254, 0.0904489820968438, -0.1922827287818314, -0.09443850073079627, 0.35411209910976243, -0.7378673061324998, -1.500182599220915, 0.027248475993117298, -1.5928417705059106, -0.270816497865613, -0.5085227360674233, -0.3417589089128278, -0.6571341304736517, 1.6035827297495748, -0.3095623753122842, 0.11219869134530197, -0.1270892021909148, 0.532977431473964, -1.3464165418222898, 1.1316424758934114, -0.7622335583741608, -0.24702200690165985, -0.4630147906934118, -0.36319885697730925, -1.4496796124020117, 0.9489037775907716, -1.0559602914410788, -0.40517571814914105, -0.9460764335874674, 0.07137266324652135, 0.44539589417145947, -0.7411187275501535, -0.30809178688149913, 0.6771270266525428, -2.0070739280271974, -0.40191263907329716, 0.2462375338243192, -0.7361069754945546, 0.2450920395430285, -0.10131033533366482, -0.7939623166404947, 0.26092941113513224, -0.04144594794792293, -1.465015360378068, -0.40845640726951, 1.540098306745973, -1.8807183485864425, 0.26192533874844304, 0.43606184773113804, -0.6976882584015038, -0.33883690793114757, 0.5501987049405354, -0.17977156442569758, 0.09407305437372032, 0.3905632022559406, -0.679164724948543, 0.7852670833079327, 0.5878197275238274, -1.2513417011321166, 0.9602883150342724, 1.3460439652971705, -0.14988934526054964, -0.34372152424350455, 0.7834210604939421], \"yaxis\": \"y5\"}, {\"histfunc\": \"count\", \"histnorm\": \"\", \"marker\": {\"color\": \"rgba(55, 128, 191, 1.0)\", \"line\": {\"color\": \"#4D5663\", \"width\": 1.3}}, \"name\": \"B\", \"nbinsx\": 10, \"opacity\": 0.8, \"orientation\": \"v\", \"type\": \"histogram\", \"x\": [-0.7571651906745785, -1.1556692933233748, 1.7806297444554822, 0.4578599448036818, 1.3309205784351237, 0.8239282422962768, -1.6848863051524432, -0.7541222351356808, 0.3579900278059774, -0.6973499798885667, -1.1185123874430996, -0.2994648817501223, 0.06704295585652872, 0.02035832821945884, -1.3294390657182, 1.022252936447132, 1.0053336991661836, 0.07190096462962152, -0.9755733581483298, 1.4321795955170138, 0.7682701841913601, 1.4106140993914187, 0.8842862535844305, -0.47573009331610966, 1.3925150436772173, 1.5229403142636067, 0.4979127015679674, -0.22798055804358228, -0.0015201187562104794, -0.7495407346801771, 1.328528954537974, -0.2435124822982681, 1.9527621822822765, 1.9676936762797141, 0.6930920592087606, -1.2047070952737269, -0.23371188951046254, 0.0904489820968438, -0.1922827287818314, -0.09443850073079627, 0.35411209910976243, -0.7378673061324998, -1.500182599220915, 0.027248475993117298, -1.5928417705059106, -0.270816497865613, -0.5085227360674233, -0.3417589089128278, -0.6571341304736517, 1.6035827297495748, -0.3095623753122842, 0.11219869134530197, -0.1270892021909148, 0.532977431473964, -1.3464165418222898, 1.1316424758934114, -0.7622335583741608, -0.24702200690165985, -0.4630147906934118, -0.36319885697730925, -1.4496796124020117, 0.9489037775907716, -1.0559602914410788, -0.40517571814914105, -0.9460764335874674, 0.07137266324652135, 0.44539589417145947, -0.7411187275501535, -0.30809178688149913, 0.6771270266525428, -2.0070739280271974, -0.40191263907329716, 0.2462375338243192, -0.7361069754945546, 0.2450920395430285, -0.10131033533366482, -0.7939623166404947, 0.26092941113513224, -0.04144594794792293, -1.465015360378068, -0.40845640726951, 1.540098306745973, -1.8807183485864425, 0.26192533874844304, 0.43606184773113804, -0.6976882584015038, -0.33883690793114757, 0.5501987049405354, -0.17977156442569758, 0.09407305437372032, 0.3905632022559406, -0.679164724948543, 0.7852670833079327, 0.5878197275238274, -1.2513417011321166, 0.9602883150342724, 1.3460439652971705, -0.14988934526054964, -0.34372152424350455, 0.7834210604939421], \"xaxis\": \"x6\", \"yaxis\": \"y6\"}, {\"line\": {\"color\": \"rgba(128, 128, 128, 1.0)\", \"dash\": \"solid\", \"shape\": \"linear\", \"width\": 1.3}, \"marker\": {\"size\": 2, \"symbol\": \"circle\"}, \"mode\": \"markers\", \"name\": \"B\", \"text\": \"\", \"type\": \"scatter\", \"x\": [0.8144031091441553, 0.7767619217029104, -0.4764861573350728, -1.7226282800430874, 0.042954129507712116, -0.3461675845414054, -0.7093891075748427, 0.6669058031587073, 0.035977966037093044, 0.773764364205727, -0.7624084615721775, -1.3352148366311936, -0.3488280692797366, 0.3764584596388346, 0.9290030851987335, 2.570512448929575, -0.1730088984696346, -0.8365732469476568, 0.8572894798512208, -1.7956260874110428, 0.12945968581180442, 0.917147643605632, -1.0687848267009672, 0.6108188839965774, 2.3923131085463596, -0.24111343565575363, 1.6239737711767945, 1.492087772180699, -0.3166835221387118, 0.21391682523433128, 1.3431401414834065, -0.33658330930052444, -0.06040031829111864, 0.8575727193535894, 0.8456303236478259, 0.5873179710868004, -0.5153380003082056, 0.30125334982497637, 0.1387728307020779, -2.0084040208601572, 0.43358873563114636, 0.3336515430236771, 1.1151060269365956, 0.7700750890092685, -0.5398110452866328, -0.2145185903736761, -1.3579275829890975, -0.6063766417218892, -0.9361307838015346, -1.0341589706399332, -0.7735923539922803, 0.5942197674390316, -0.7974997044360369, -0.4852376362427482, -0.6047029260240983, 1.2677565721539823, 0.7557749349842667, 0.4005016589869277, 1.7602240792382622, 0.32785068102032794, -0.6924844983630888, 0.28986689317335373, 0.8346389766682714, -1.3181947665753797, -0.26491627511662014, -0.3913940425717173, 0.24578259997284216, -0.20406695835053235, -1.4274656154378003, -0.06264926304347601, -1.2096626431097994, -0.4221286398408152, -0.1762422629662039, -1.5380399030712135, 0.33860478504924724, -0.5629873262671605, 0.0016011056051914252, -0.345031010096941, 1.2149291432694307, 0.3775203769110489, -0.9953085279115665, 0.33448933924794494, -0.8031246494573918, 0.13226274769544108, 0.36886075784824823, -1.3706518061137527, -0.7190573390676255, 0.3375015552640827, 0.12674617471946514, 0.2855452890026702, -0.50132927206113, 0.5567349826342716, -0.025261974047004934, -0.0012146459766086911, 0.678076473554741, 0.2262779748256039, 0.7781458207393253, 0.5809436007719051, 1.5118791070809483, -0.734171047799401], \"xaxis\": \"x7\", \"y\": [-0.7571651906745785, -1.1556692933233748, 1.7806297444554822, 0.4578599448036818, 1.3309205784351237, 0.8239282422962768, -1.6848863051524432, -0.7541222351356808, 0.3579900278059774, -0.6973499798885667, -1.1185123874430996, -0.2994648817501223, 0.06704295585652872, 0.02035832821945884, -1.3294390657182, 1.022252936447132, 1.0053336991661836, 0.07190096462962152, -0.9755733581483298, 1.4321795955170138, 0.7682701841913601, 1.4106140993914187, 0.8842862535844305, -0.47573009331610966, 1.3925150436772173, 1.5229403142636067, 0.4979127015679674, -0.22798055804358228, -0.0015201187562104794, -0.7495407346801771, 1.328528954537974, -0.2435124822982681, 1.9527621822822765, 1.9676936762797141, 0.6930920592087606, -1.2047070952737269, -0.23371188951046254, 0.0904489820968438, -0.1922827287818314, -0.09443850073079627, 0.35411209910976243, -0.7378673061324998, -1.500182599220915, 0.027248475993117298, -1.5928417705059106, -0.270816497865613, -0.5085227360674233, -0.3417589089128278, -0.6571341304736517, 1.6035827297495748, -0.3095623753122842, 0.11219869134530197, -0.1270892021909148, 0.532977431473964, -1.3464165418222898, 1.1316424758934114, -0.7622335583741608, -0.24702200690165985, -0.4630147906934118, -0.36319885697730925, -1.4496796124020117, 0.9489037775907716, -1.0559602914410788, -0.40517571814914105, -0.9460764335874674, 0.07137266324652135, 0.44539589417145947, -0.7411187275501535, -0.30809178688149913, 0.6771270266525428, -2.0070739280271974, -0.40191263907329716, 0.2462375338243192, -0.7361069754945546, 0.2450920395430285, -0.10131033533366482, -0.7939623166404947, 0.26092941113513224, -0.04144594794792293, -1.465015360378068, -0.40845640726951, 1.540098306745973, -1.8807183485864425, 0.26192533874844304, 0.43606184773113804, -0.6976882584015038, -0.33883690793114757, 0.5501987049405354, -0.17977156442569758, 0.09407305437372032, 0.3905632022559406, -0.679164724948543, 0.7852670833079327, 0.5878197275238274, -1.2513417011321166, 0.9602883150342724, 1.3460439652971705, -0.14988934526054964, -0.34372152424350455, 0.7834210604939421], \"yaxis\": \"y7\"}, {\"line\": {\"color\": \"rgba(128, 128, 128, 1.0)\", \"dash\": \"solid\", \"shape\": \"linear\", \"width\": 1.3}, \"marker\": {\"size\": 2, \"symbol\": \"circle\"}, \"mode\": \"markers\", \"name\": \"B\", \"text\": \"\", \"type\": \"scatter\", \"x\": [1.3932533212334495, 0.2241684371883963, 0.9750739274414556, 0.5940652666865319, 1.2101033243388055, 0.4448609850652139, -0.2658450901566835, 0.630189739869328, 0.45172696457443956, 0.4628868786377445, -2.7643136612774355, -0.16984537073399386, 0.1747704809129454, -0.5487720891818902, 0.9127644892428154, -0.16297336412093263, 1.8810303028581048, 0.10885961489826855, 0.8293140258192842, -0.9736957308055706, -0.06722625279633468, -0.5714920481354261, 0.5756138704145813, -0.13826268728074936, -0.3261600511019883, -0.7709141294499515, -1.5711268752601908, 0.003749006012046726, 0.4321633962530361, -0.30228068216206827, 0.9832046396284396, 0.37639781108943754, -1.0178912866442507, -0.1217171208639235, -1.7119142286429185, 1.09556567404667, -1.1587629221693567, 0.6917638459868968, 0.06054613331850782, -0.2756573269474395, -0.00906471933142405, 1.0107867164979152, -2.210812992949009, -1.8885447332496859, 0.2144885066184908, 0.32651362922457156, -0.2368041802315175, 0.6588066394885467, 1.495762187666791, 1.7118026044219314, -0.693560211520616, -0.5742587471362914, -0.47711502709919046, -0.21067912239226097, -0.08793123477124042, -1.9587264157548534, 0.19264765108253026, 1.382955525139188, 0.3515646814534139, 0.4613935114459003, 0.16813161076923622, -0.6922388637613162, -0.09636032777922349, 1.3074300912687304, 0.5915356227600267, -0.576926181705004, -0.09846807905122404, -0.4908966197585694, -0.39270830024857306, 1.2569680324133468, 0.8737042352745313, 0.4384351029698666, -0.38975732942115365, 0.250533313608815, -0.7064115862357414, 1.1872554736643324, 0.8684234618402348, 1.837419198543538, 0.3455750124730475, -0.8431045456509281, 0.2504725540093318, -0.3641331342287776, -0.1786119379181722, 1.9131851841668437, -0.6744099032527255, -1.0173693879993573, -1.2564859236649464, -0.014319618356981197, 0.4248904951872451, -0.5306552555381103, -0.7367035266810666, 0.5831548802400632, -1.6756500385628834, -0.4093871128858697, 1.0745448254148906, -1.521323754786965, -0.6709081766186101, -0.6535283479195353, 0.857675773196685, -0.7985601870201094], \"xaxis\": \"x8\", \"y\": [-0.7571651906745785, -1.1556692933233748, 1.7806297444554822, 0.4578599448036818, 1.3309205784351237, 0.8239282422962768, -1.6848863051524432, -0.7541222351356808, 0.3579900278059774, -0.6973499798885667, -1.1185123874430996, -0.2994648817501223, 0.06704295585652872, 0.02035832821945884, -1.3294390657182, 1.022252936447132, 1.0053336991661836, 0.07190096462962152, -0.9755733581483298, 1.4321795955170138, 0.7682701841913601, 1.4106140993914187, 0.8842862535844305, -0.47573009331610966, 1.3925150436772173, 1.5229403142636067, 0.4979127015679674, -0.22798055804358228, -0.0015201187562104794, -0.7495407346801771, 1.328528954537974, -0.2435124822982681, 1.9527621822822765, 1.9676936762797141, 0.6930920592087606, -1.2047070952737269, -0.23371188951046254, 0.0904489820968438, -0.1922827287818314, -0.09443850073079627, 0.35411209910976243, -0.7378673061324998, -1.500182599220915, 0.027248475993117298, -1.5928417705059106, -0.270816497865613, -0.5085227360674233, -0.3417589089128278, -0.6571341304736517, 1.6035827297495748, -0.3095623753122842, 0.11219869134530197, -0.1270892021909148, 0.532977431473964, -1.3464165418222898, 1.1316424758934114, -0.7622335583741608, -0.24702200690165985, -0.4630147906934118, -0.36319885697730925, -1.4496796124020117, 0.9489037775907716, -1.0559602914410788, -0.40517571814914105, -0.9460764335874674, 0.07137266324652135, 0.44539589417145947, -0.7411187275501535, -0.30809178688149913, 0.6771270266525428, -2.0070739280271974, -0.40191263907329716, 0.2462375338243192, -0.7361069754945546, 0.2450920395430285, -0.10131033533366482, -0.7939623166404947, 0.26092941113513224, -0.04144594794792293, -1.465015360378068, -0.40845640726951, 1.540098306745973, -1.8807183485864425, 0.26192533874844304, 0.43606184773113804, -0.6976882584015038, -0.33883690793114757, 0.5501987049405354, -0.17977156442569758, 0.09407305437372032, 0.3905632022559406, -0.679164724948543, 0.7852670833079327, 0.5878197275238274, -1.2513417011321166, 0.9602883150342724, 1.3460439652971705, -0.14988934526054964, -0.34372152424350455, 0.7834210604939421], \"yaxis\": \"y8\"}, {\"line\": {\"color\": \"rgba(128, 128, 128, 1.0)\", \"dash\": \"solid\", \"shape\": \"linear\", \"width\": 1.3}, \"marker\": {\"size\": 2, \"symbol\": \"circle\"}, \"mode\": \"markers\", \"name\": \"C\", \"text\": \"\", \"type\": \"scatter\", \"x\": [-1.4496360721844352, 0.8873978843611828, -0.0390005807228342, 0.030354177296635507, -0.3777079685985477, 0.7588829084593641, 1.734314215168449, -1.0900571341974001, -0.26212755041413577, 0.19364864806034585, -0.9946781453834873, -0.5471429181687236, 1.1732797419683796, 1.235234107700757, -0.26710267063565957, -0.7268934769880704, -0.17906255966251938, 0.5201489560628967, -1.6962464206752095, -0.7905996353292317, 1.0473869660555215, 0.04802206082745249, 0.20334625486219532, -1.3941983885214801, 0.409517162314868, 0.31743795887216947, -0.1738585088517065, 1.0571586290988335, 0.22222857212629238, 0.4237051899004442, 0.8817814321900838, -0.9945117189097893, 0.609288713378068, -1.2257490943806924, 0.04615213537108449, -0.0848659535189674, -0.7419795644501216, -1.8066909616396531, -0.23974209506206925, 1.4501993799905353, 1.073342810167746, 0.13755145441258418, -0.3104393727987269, 0.49563843991103945, -0.7697431316816101, 1.0633053005867261, -0.14169903118004062, -0.14265777722376277, -0.6839225466888054, 0.9104680213199234, 1.2971032249047207, -0.7011824318955198, -1.5986857325137882, -0.08495920203130981, 0.2999946955662853, 0.34963662572100734, -0.7047268274905389, 1.9305763656598314, -0.35904459916833176, -1.465147485068314, -0.5374034024718863, 0.5007235303428342, 0.9592497249996453, 0.468687366985324, -0.39259115256891614, -2.1800411944205154, -1.0064088646940648, -0.29041651428032966, 0.7388927602477078, -3.710326106474891, 2.1187589672232594, 0.30162533896878263, -0.8720118972663534, -1.6590026203861716, -1.1090949649380255, -0.06183130292129761, 0.37017693546974145, 0.6156971033143431, -0.5893997136482556, 0.03148720687477286, 0.362851143311647, 0.7851032925490155, -0.10274326611110957, -0.7700967825748634, -0.0941796128439429, -0.8631722694399285, -0.5119535136330179, -0.48078019166296126, -1.029605559243594, -1.5042430420415336, 0.5158157928775244, -0.5420072374369286, -0.7948471452010908, -0.36869055662136463, 0.7132943112944887, -1.3792156308894425, -0.9217650652029417, -0.13835484734774714, -0.8583622414714944, 0.7429818290509952], \"xaxis\": \"x9\", \"y\": [0.8144031091441553, 0.7767619217029104, -0.4764861573350728, -1.7226282800430874, 0.042954129507712116, -0.3461675845414054, -0.7093891075748427, 0.6669058031587073, 0.035977966037093044, 0.773764364205727, -0.7624084615721775, -1.3352148366311936, -0.3488280692797366, 0.3764584596388346, 0.9290030851987335, 2.570512448929575, -0.1730088984696346, -0.8365732469476568, 0.8572894798512208, -1.7956260874110428, 0.12945968581180442, 0.917147643605632, -1.0687848267009672, 0.6108188839965774, 2.3923131085463596, -0.24111343565575363, 1.6239737711767945, 1.492087772180699, -0.3166835221387118, 0.21391682523433128, 1.3431401414834065, -0.33658330930052444, -0.06040031829111864, 0.8575727193535894, 0.8456303236478259, 0.5873179710868004, -0.5153380003082056, 0.30125334982497637, 0.1387728307020779, -2.0084040208601572, 0.43358873563114636, 0.3336515430236771, 1.1151060269365956, 0.7700750890092685, -0.5398110452866328, -0.2145185903736761, -1.3579275829890975, -0.6063766417218892, -0.9361307838015346, -1.0341589706399332, -0.7735923539922803, 0.5942197674390316, -0.7974997044360369, -0.4852376362427482, -0.6047029260240983, 1.2677565721539823, 0.7557749349842667, 0.4005016589869277, 1.7602240792382622, 0.32785068102032794, -0.6924844983630888, 0.28986689317335373, 0.8346389766682714, -1.3181947665753797, -0.26491627511662014, -0.3913940425717173, 0.24578259997284216, -0.20406695835053235, -1.4274656154378003, -0.06264926304347601, -1.2096626431097994, -0.4221286398408152, -0.1762422629662039, -1.5380399030712135, 0.33860478504924724, -0.5629873262671605, 0.0016011056051914252, -0.345031010096941, 1.2149291432694307, 0.3775203769110489, -0.9953085279115665, 0.33448933924794494, -0.8031246494573918, 0.13226274769544108, 0.36886075784824823, -1.3706518061137527, -0.7190573390676255, 0.3375015552640827, 0.12674617471946514, 0.2855452890026702, -0.50132927206113, 0.5567349826342716, -0.025261974047004934, -0.0012146459766086911, 0.678076473554741, 0.2262779748256039, 0.7781458207393253, 0.5809436007719051, 1.5118791070809483, -0.734171047799401], \"yaxis\": \"y9\"}, {\"line\": {\"color\": \"rgba(128, 128, 128, 1.0)\", \"dash\": \"solid\", \"shape\": \"linear\", \"width\": 1.3}, \"marker\": {\"size\": 2, \"symbol\": \"circle\"}, \"mode\": \"markers\", \"name\": \"C\", \"text\": \"\", \"type\": \"scatter\", \"x\": [-0.7571651906745785, -1.1556692933233748, 1.7806297444554822, 0.4578599448036818, 1.3309205784351237, 0.8239282422962768, -1.6848863051524432, -0.7541222351356808, 0.3579900278059774, -0.6973499798885667, -1.1185123874430996, -0.2994648817501223, 0.06704295585652872, 0.02035832821945884, -1.3294390657182, 1.022252936447132, 1.0053336991661836, 0.07190096462962152, -0.9755733581483298, 1.4321795955170138, 0.7682701841913601, 1.4106140993914187, 0.8842862535844305, -0.47573009331610966, 1.3925150436772173, 1.5229403142636067, 0.4979127015679674, -0.22798055804358228, -0.0015201187562104794, -0.7495407346801771, 1.328528954537974, -0.2435124822982681, 1.9527621822822765, 1.9676936762797141, 0.6930920592087606, -1.2047070952737269, -0.23371188951046254, 0.0904489820968438, -0.1922827287818314, -0.09443850073079627, 0.35411209910976243, -0.7378673061324998, -1.500182599220915, 0.027248475993117298, -1.5928417705059106, -0.270816497865613, -0.5085227360674233, -0.3417589089128278, -0.6571341304736517, 1.6035827297495748, -0.3095623753122842, 0.11219869134530197, -0.1270892021909148, 0.532977431473964, -1.3464165418222898, 1.1316424758934114, -0.7622335583741608, -0.24702200690165985, -0.4630147906934118, -0.36319885697730925, -1.4496796124020117, 0.9489037775907716, -1.0559602914410788, -0.40517571814914105, -0.9460764335874674, 0.07137266324652135, 0.44539589417145947, -0.7411187275501535, -0.30809178688149913, 0.6771270266525428, -2.0070739280271974, -0.40191263907329716, 0.2462375338243192, -0.7361069754945546, 0.2450920395430285, -0.10131033533366482, -0.7939623166404947, 0.26092941113513224, -0.04144594794792293, -1.465015360378068, -0.40845640726951, 1.540098306745973, -1.8807183485864425, 0.26192533874844304, 0.43606184773113804, -0.6976882584015038, -0.33883690793114757, 0.5501987049405354, -0.17977156442569758, 0.09407305437372032, 0.3905632022559406, -0.679164724948543, 0.7852670833079327, 0.5878197275238274, -1.2513417011321166, 0.9602883150342724, 1.3460439652971705, -0.14988934526054964, -0.34372152424350455, 0.7834210604939421], \"xaxis\": \"x10\", \"y\": [0.8144031091441553, 0.7767619217029104, -0.4764861573350728, -1.7226282800430874, 0.042954129507712116, -0.3461675845414054, -0.7093891075748427, 0.6669058031587073, 0.035977966037093044, 0.773764364205727, -0.7624084615721775, -1.3352148366311936, -0.3488280692797366, 0.3764584596388346, 0.9290030851987335, 2.570512448929575, -0.1730088984696346, -0.8365732469476568, 0.8572894798512208, -1.7956260874110428, 0.12945968581180442, 0.917147643605632, -1.0687848267009672, 0.6108188839965774, 2.3923131085463596, -0.24111343565575363, 1.6239737711767945, 1.492087772180699, -0.3166835221387118, 0.21391682523433128, 1.3431401414834065, -0.33658330930052444, -0.06040031829111864, 0.8575727193535894, 0.8456303236478259, 0.5873179710868004, -0.5153380003082056, 0.30125334982497637, 0.1387728307020779, -2.0084040208601572, 0.43358873563114636, 0.3336515430236771, 1.1151060269365956, 0.7700750890092685, -0.5398110452866328, -0.2145185903736761, -1.3579275829890975, -0.6063766417218892, -0.9361307838015346, -1.0341589706399332, -0.7735923539922803, 0.5942197674390316, -0.7974997044360369, -0.4852376362427482, -0.6047029260240983, 1.2677565721539823, 0.7557749349842667, 0.4005016589869277, 1.7602240792382622, 0.32785068102032794, -0.6924844983630888, 0.28986689317335373, 0.8346389766682714, -1.3181947665753797, -0.26491627511662014, -0.3913940425717173, 0.24578259997284216, -0.20406695835053235, -1.4274656154378003, -0.06264926304347601, -1.2096626431097994, -0.4221286398408152, -0.1762422629662039, -1.5380399030712135, 0.33860478504924724, -0.5629873262671605, 0.0016011056051914252, -0.345031010096941, 1.2149291432694307, 0.3775203769110489, -0.9953085279115665, 0.33448933924794494, -0.8031246494573918, 0.13226274769544108, 0.36886075784824823, -1.3706518061137527, -0.7190573390676255, 0.3375015552640827, 0.12674617471946514, 0.2855452890026702, -0.50132927206113, 0.5567349826342716, -0.025261974047004934, -0.0012146459766086911, 0.678076473554741, 0.2262779748256039, 0.7781458207393253, 0.5809436007719051, 1.5118791070809483, -0.734171047799401], \"yaxis\": \"y10\"}, {\"histfunc\": \"count\", \"histnorm\": \"\", \"marker\": {\"color\": \"rgba(50, 171, 96, 1.0)\", \"line\": {\"color\": \"#4D5663\", \"width\": 1.3}}, \"name\": \"C\", \"nbinsx\": 10, \"opacity\": 0.8, \"orientation\": \"v\", \"type\": \"histogram\", \"x\": [0.8144031091441553, 0.7767619217029104, -0.4764861573350728, -1.7226282800430874, 0.042954129507712116, -0.3461675845414054, -0.7093891075748427, 0.6669058031587073, 0.035977966037093044, 0.773764364205727, -0.7624084615721775, -1.3352148366311936, -0.3488280692797366, 0.3764584596388346, 0.9290030851987335, 2.570512448929575, -0.1730088984696346, -0.8365732469476568, 0.8572894798512208, -1.7956260874110428, 0.12945968581180442, 0.917147643605632, -1.0687848267009672, 0.6108188839965774, 2.3923131085463596, -0.24111343565575363, 1.6239737711767945, 1.492087772180699, -0.3166835221387118, 0.21391682523433128, 1.3431401414834065, -0.33658330930052444, -0.06040031829111864, 0.8575727193535894, 0.8456303236478259, 0.5873179710868004, -0.5153380003082056, 0.30125334982497637, 0.1387728307020779, -2.0084040208601572, 0.43358873563114636, 0.3336515430236771, 1.1151060269365956, 0.7700750890092685, -0.5398110452866328, -0.2145185903736761, -1.3579275829890975, -0.6063766417218892, -0.9361307838015346, -1.0341589706399332, -0.7735923539922803, 0.5942197674390316, -0.7974997044360369, -0.4852376362427482, -0.6047029260240983, 1.2677565721539823, 0.7557749349842667, 0.4005016589869277, 1.7602240792382622, 0.32785068102032794, -0.6924844983630888, 0.28986689317335373, 0.8346389766682714, -1.3181947665753797, -0.26491627511662014, -0.3913940425717173, 0.24578259997284216, -0.20406695835053235, -1.4274656154378003, -0.06264926304347601, -1.2096626431097994, -0.4221286398408152, -0.1762422629662039, -1.5380399030712135, 0.33860478504924724, -0.5629873262671605, 0.0016011056051914252, -0.345031010096941, 1.2149291432694307, 0.3775203769110489, -0.9953085279115665, 0.33448933924794494, -0.8031246494573918, 0.13226274769544108, 0.36886075784824823, -1.3706518061137527, -0.7190573390676255, 0.3375015552640827, 0.12674617471946514, 0.2855452890026702, -0.50132927206113, 0.5567349826342716, -0.025261974047004934, -0.0012146459766086911, 0.678076473554741, 0.2262779748256039, 0.7781458207393253, 0.5809436007719051, 1.5118791070809483, -0.734171047799401], \"xaxis\": \"x11\", \"yaxis\": \"y11\"}, {\"line\": {\"color\": \"rgba(128, 128, 128, 1.0)\", \"dash\": \"solid\", \"shape\": \"linear\", \"width\": 1.3}, \"marker\": {\"size\": 2, \"symbol\": \"circle\"}, \"mode\": \"markers\", \"name\": \"C\", \"text\": \"\", \"type\": \"scatter\", \"x\": [1.3932533212334495, 0.2241684371883963, 0.9750739274414556, 0.5940652666865319, 1.2101033243388055, 0.4448609850652139, -0.2658450901566835, 0.630189739869328, 0.45172696457443956, 0.4628868786377445, -2.7643136612774355, -0.16984537073399386, 0.1747704809129454, -0.5487720891818902, 0.9127644892428154, -0.16297336412093263, 1.8810303028581048, 0.10885961489826855, 0.8293140258192842, -0.9736957308055706, -0.06722625279633468, -0.5714920481354261, 0.5756138704145813, -0.13826268728074936, -0.3261600511019883, -0.7709141294499515, -1.5711268752601908, 0.003749006012046726, 0.4321633962530361, -0.30228068216206827, 0.9832046396284396, 0.37639781108943754, -1.0178912866442507, -0.1217171208639235, -1.7119142286429185, 1.09556567404667, -1.1587629221693567, 0.6917638459868968, 0.06054613331850782, -0.2756573269474395, -0.00906471933142405, 1.0107867164979152, -2.210812992949009, -1.8885447332496859, 0.2144885066184908, 0.32651362922457156, -0.2368041802315175, 0.6588066394885467, 1.495762187666791, 1.7118026044219314, -0.693560211520616, -0.5742587471362914, -0.47711502709919046, -0.21067912239226097, -0.08793123477124042, -1.9587264157548534, 0.19264765108253026, 1.382955525139188, 0.3515646814534139, 0.4613935114459003, 0.16813161076923622, -0.6922388637613162, -0.09636032777922349, 1.3074300912687304, 0.5915356227600267, -0.576926181705004, -0.09846807905122404, -0.4908966197585694, -0.39270830024857306, 1.2569680324133468, 0.8737042352745313, 0.4384351029698666, -0.38975732942115365, 0.250533313608815, -0.7064115862357414, 1.1872554736643324, 0.8684234618402348, 1.837419198543538, 0.3455750124730475, -0.8431045456509281, 0.2504725540093318, -0.3641331342287776, -0.1786119379181722, 1.9131851841668437, -0.6744099032527255, -1.0173693879993573, -1.2564859236649464, -0.014319618356981197, 0.4248904951872451, -0.5306552555381103, -0.7367035266810666, 0.5831548802400632, -1.6756500385628834, -0.4093871128858697, 1.0745448254148906, -1.521323754786965, -0.6709081766186101, -0.6535283479195353, 0.857675773196685, -0.7985601870201094], \"xaxis\": \"x12\", \"y\": [0.8144031091441553, 0.7767619217029104, -0.4764861573350728, -1.7226282800430874, 0.042954129507712116, -0.3461675845414054, -0.7093891075748427, 0.6669058031587073, 0.035977966037093044, 0.773764364205727, -0.7624084615721775, -1.3352148366311936, -0.3488280692797366, 0.3764584596388346, 0.9290030851987335, 2.570512448929575, -0.1730088984696346, -0.8365732469476568, 0.8572894798512208, -1.7956260874110428, 0.12945968581180442, 0.917147643605632, -1.0687848267009672, 0.6108188839965774, 2.3923131085463596, -0.24111343565575363, 1.6239737711767945, 1.492087772180699, -0.3166835221387118, 0.21391682523433128, 1.3431401414834065, -0.33658330930052444, -0.06040031829111864, 0.8575727193535894, 0.8456303236478259, 0.5873179710868004, -0.5153380003082056, 0.30125334982497637, 0.1387728307020779, -2.0084040208601572, 0.43358873563114636, 0.3336515430236771, 1.1151060269365956, 0.7700750890092685, -0.5398110452866328, -0.2145185903736761, -1.3579275829890975, -0.6063766417218892, -0.9361307838015346, -1.0341589706399332, -0.7735923539922803, 0.5942197674390316, -0.7974997044360369, -0.4852376362427482, -0.6047029260240983, 1.2677565721539823, 0.7557749349842667, 0.4005016589869277, 1.7602240792382622, 0.32785068102032794, -0.6924844983630888, 0.28986689317335373, 0.8346389766682714, -1.3181947665753797, -0.26491627511662014, -0.3913940425717173, 0.24578259997284216, -0.20406695835053235, -1.4274656154378003, -0.06264926304347601, -1.2096626431097994, -0.4221286398408152, -0.1762422629662039, -1.5380399030712135, 0.33860478504924724, -0.5629873262671605, 0.0016011056051914252, -0.345031010096941, 1.2149291432694307, 0.3775203769110489, -0.9953085279115665, 0.33448933924794494, -0.8031246494573918, 0.13226274769544108, 0.36886075784824823, -1.3706518061137527, -0.7190573390676255, 0.3375015552640827, 0.12674617471946514, 0.2855452890026702, -0.50132927206113, 0.5567349826342716, -0.025261974047004934, -0.0012146459766086911, 0.678076473554741, 0.2262779748256039, 0.7781458207393253, 0.5809436007719051, 1.5118791070809483, -0.734171047799401], \"yaxis\": \"y12\"}, {\"line\": {\"color\": \"rgba(128, 128, 128, 1.0)\", \"dash\": \"solid\", \"shape\": \"linear\", \"width\": 1.3}, \"marker\": {\"size\": 2, \"symbol\": \"circle\"}, \"mode\": \"markers\", \"name\": \"D\", \"text\": \"\", \"type\": \"scatter\", \"x\": [-1.4496360721844352, 0.8873978843611828, -0.0390005807228342, 0.030354177296635507, -0.3777079685985477, 0.7588829084593641, 1.734314215168449, -1.0900571341974001, -0.26212755041413577, 0.19364864806034585, -0.9946781453834873, -0.5471429181687236, 1.1732797419683796, 1.235234107700757, -0.26710267063565957, -0.7268934769880704, -0.17906255966251938, 0.5201489560628967, -1.6962464206752095, -0.7905996353292317, 1.0473869660555215, 0.04802206082745249, 0.20334625486219532, -1.3941983885214801, 0.409517162314868, 0.31743795887216947, -0.1738585088517065, 1.0571586290988335, 0.22222857212629238, 0.4237051899004442, 0.8817814321900838, -0.9945117189097893, 0.609288713378068, -1.2257490943806924, 0.04615213537108449, -0.0848659535189674, -0.7419795644501216, -1.8066909616396531, -0.23974209506206925, 1.4501993799905353, 1.073342810167746, 0.13755145441258418, -0.3104393727987269, 0.49563843991103945, -0.7697431316816101, 1.0633053005867261, -0.14169903118004062, -0.14265777722376277, -0.6839225466888054, 0.9104680213199234, 1.2971032249047207, -0.7011824318955198, -1.5986857325137882, -0.08495920203130981, 0.2999946955662853, 0.34963662572100734, -0.7047268274905389, 1.9305763656598314, -0.35904459916833176, -1.465147485068314, -0.5374034024718863, 0.5007235303428342, 0.9592497249996453, 0.468687366985324, -0.39259115256891614, -2.1800411944205154, -1.0064088646940648, -0.29041651428032966, 0.7388927602477078, -3.710326106474891, 2.1187589672232594, 0.30162533896878263, -0.8720118972663534, -1.6590026203861716, -1.1090949649380255, -0.06183130292129761, 0.37017693546974145, 0.6156971033143431, -0.5893997136482556, 0.03148720687477286, 0.362851143311647, 0.7851032925490155, -0.10274326611110957, -0.7700967825748634, -0.0941796128439429, -0.8631722694399285, -0.5119535136330179, -0.48078019166296126, -1.029605559243594, -1.5042430420415336, 0.5158157928775244, -0.5420072374369286, -0.7948471452010908, -0.36869055662136463, 0.7132943112944887, -1.3792156308894425, -0.9217650652029417, -0.13835484734774714, -0.8583622414714944, 0.7429818290509952], \"xaxis\": \"x13\", \"y\": [1.3932533212334495, 0.2241684371883963, 0.9750739274414556, 0.5940652666865319, 1.2101033243388055, 0.4448609850652139, -0.2658450901566835, 0.630189739869328, 0.45172696457443956, 0.4628868786377445, -2.7643136612774355, -0.16984537073399386, 0.1747704809129454, -0.5487720891818902, 0.9127644892428154, -0.16297336412093263, 1.8810303028581048, 0.10885961489826855, 0.8293140258192842, -0.9736957308055706, -0.06722625279633468, -0.5714920481354261, 0.5756138704145813, -0.13826268728074936, -0.3261600511019883, -0.7709141294499515, -1.5711268752601908, 0.003749006012046726, 0.4321633962530361, -0.30228068216206827, 0.9832046396284396, 0.37639781108943754, -1.0178912866442507, -0.1217171208639235, -1.7119142286429185, 1.09556567404667, -1.1587629221693567, 0.6917638459868968, 0.06054613331850782, -0.2756573269474395, -0.00906471933142405, 1.0107867164979152, -2.210812992949009, -1.8885447332496859, 0.2144885066184908, 0.32651362922457156, -0.2368041802315175, 0.6588066394885467, 1.495762187666791, 1.7118026044219314, -0.693560211520616, -0.5742587471362914, -0.47711502709919046, -0.21067912239226097, -0.08793123477124042, -1.9587264157548534, 0.19264765108253026, 1.382955525139188, 0.3515646814534139, 0.4613935114459003, 0.16813161076923622, -0.6922388637613162, -0.09636032777922349, 1.3074300912687304, 0.5915356227600267, -0.576926181705004, -0.09846807905122404, -0.4908966197585694, -0.39270830024857306, 1.2569680324133468, 0.8737042352745313, 0.4384351029698666, -0.38975732942115365, 0.250533313608815, -0.7064115862357414, 1.1872554736643324, 0.8684234618402348, 1.837419198543538, 0.3455750124730475, -0.8431045456509281, 0.2504725540093318, -0.3641331342287776, -0.1786119379181722, 1.9131851841668437, -0.6744099032527255, -1.0173693879993573, -1.2564859236649464, -0.014319618356981197, 0.4248904951872451, -0.5306552555381103, -0.7367035266810666, 0.5831548802400632, -1.6756500385628834, -0.4093871128858697, 1.0745448254148906, -1.521323754786965, -0.6709081766186101, -0.6535283479195353, 0.857675773196685, -0.7985601870201094], \"yaxis\": \"y13\"}, {\"line\": {\"color\": \"rgba(128, 128, 128, 1.0)\", \"dash\": \"solid\", \"shape\": \"linear\", \"width\": 1.3}, \"marker\": {\"size\": 2, \"symbol\": \"circle\"}, \"mode\": \"markers\", \"name\": \"D\", \"text\": \"\", \"type\": \"scatter\", \"x\": [-0.7571651906745785, -1.1556692933233748, 1.7806297444554822, 0.4578599448036818, 1.3309205784351237, 0.8239282422962768, -1.6848863051524432, -0.7541222351356808, 0.3579900278059774, -0.6973499798885667, -1.1185123874430996, -0.2994648817501223, 0.06704295585652872, 0.02035832821945884, -1.3294390657182, 1.022252936447132, 1.0053336991661836, 0.07190096462962152, -0.9755733581483298, 1.4321795955170138, 0.7682701841913601, 1.4106140993914187, 0.8842862535844305, -0.47573009331610966, 1.3925150436772173, 1.5229403142636067, 0.4979127015679674, -0.22798055804358228, -0.0015201187562104794, -0.7495407346801771, 1.328528954537974, -0.2435124822982681, 1.9527621822822765, 1.9676936762797141, 0.6930920592087606, -1.2047070952737269, -0.23371188951046254, 0.0904489820968438, -0.1922827287818314, -0.09443850073079627, 0.35411209910976243, -0.7378673061324998, -1.500182599220915, 0.027248475993117298, -1.5928417705059106, -0.270816497865613, -0.5085227360674233, -0.3417589089128278, -0.6571341304736517, 1.6035827297495748, -0.3095623753122842, 0.11219869134530197, -0.1270892021909148, 0.532977431473964, -1.3464165418222898, 1.1316424758934114, -0.7622335583741608, -0.24702200690165985, -0.4630147906934118, -0.36319885697730925, -1.4496796124020117, 0.9489037775907716, -1.0559602914410788, -0.40517571814914105, -0.9460764335874674, 0.07137266324652135, 0.44539589417145947, -0.7411187275501535, -0.30809178688149913, 0.6771270266525428, -2.0070739280271974, -0.40191263907329716, 0.2462375338243192, -0.7361069754945546, 0.2450920395430285, -0.10131033533366482, -0.7939623166404947, 0.26092941113513224, -0.04144594794792293, -1.465015360378068, -0.40845640726951, 1.540098306745973, -1.8807183485864425, 0.26192533874844304, 0.43606184773113804, -0.6976882584015038, -0.33883690793114757, 0.5501987049405354, -0.17977156442569758, 0.09407305437372032, 0.3905632022559406, -0.679164724948543, 0.7852670833079327, 0.5878197275238274, -1.2513417011321166, 0.9602883150342724, 1.3460439652971705, -0.14988934526054964, -0.34372152424350455, 0.7834210604939421], \"xaxis\": \"x14\", \"y\": [1.3932533212334495, 0.2241684371883963, 0.9750739274414556, 0.5940652666865319, 1.2101033243388055, 0.4448609850652139, -0.2658450901566835, 0.630189739869328, 0.45172696457443956, 0.4628868786377445, -2.7643136612774355, -0.16984537073399386, 0.1747704809129454, -0.5487720891818902, 0.9127644892428154, -0.16297336412093263, 1.8810303028581048, 0.10885961489826855, 0.8293140258192842, -0.9736957308055706, -0.06722625279633468, -0.5714920481354261, 0.5756138704145813, -0.13826268728074936, -0.3261600511019883, -0.7709141294499515, -1.5711268752601908, 0.003749006012046726, 0.4321633962530361, -0.30228068216206827, 0.9832046396284396, 0.37639781108943754, -1.0178912866442507, -0.1217171208639235, -1.7119142286429185, 1.09556567404667, -1.1587629221693567, 0.6917638459868968, 0.06054613331850782, -0.2756573269474395, -0.00906471933142405, 1.0107867164979152, -2.210812992949009, -1.8885447332496859, 0.2144885066184908, 0.32651362922457156, -0.2368041802315175, 0.6588066394885467, 1.495762187666791, 1.7118026044219314, -0.693560211520616, -0.5742587471362914, -0.47711502709919046, -0.21067912239226097, -0.08793123477124042, -1.9587264157548534, 0.19264765108253026, 1.382955525139188, 0.3515646814534139, 0.4613935114459003, 0.16813161076923622, -0.6922388637613162, -0.09636032777922349, 1.3074300912687304, 0.5915356227600267, -0.576926181705004, -0.09846807905122404, -0.4908966197585694, -0.39270830024857306, 1.2569680324133468, 0.8737042352745313, 0.4384351029698666, -0.38975732942115365, 0.250533313608815, -0.7064115862357414, 1.1872554736643324, 0.8684234618402348, 1.837419198543538, 0.3455750124730475, -0.8431045456509281, 0.2504725540093318, -0.3641331342287776, -0.1786119379181722, 1.9131851841668437, -0.6744099032527255, -1.0173693879993573, -1.2564859236649464, -0.014319618356981197, 0.4248904951872451, -0.5306552555381103, -0.7367035266810666, 0.5831548802400632, -1.6756500385628834, -0.4093871128858697, 1.0745448254148906, -1.521323754786965, -0.6709081766186101, -0.6535283479195353, 0.857675773196685, -0.7985601870201094], \"yaxis\": \"y14\"}, {\"line\": {\"color\": \"rgba(128, 128, 128, 1.0)\", \"dash\": \"solid\", \"shape\": \"linear\", \"width\": 1.3}, \"marker\": {\"size\": 2, \"symbol\": \"circle\"}, \"mode\": \"markers\", \"name\": \"D\", \"text\": \"\", \"type\": \"scatter\", \"x\": [0.8144031091441553, 0.7767619217029104, -0.4764861573350728, -1.7226282800430874, 0.042954129507712116, -0.3461675845414054, -0.7093891075748427, 0.6669058031587073, 0.035977966037093044, 0.773764364205727, -0.7624084615721775, -1.3352148366311936, -0.3488280692797366, 0.3764584596388346, 0.9290030851987335, 2.570512448929575, -0.1730088984696346, -0.8365732469476568, 0.8572894798512208, -1.7956260874110428, 0.12945968581180442, 0.917147643605632, -1.0687848267009672, 0.6108188839965774, 2.3923131085463596, -0.24111343565575363, 1.6239737711767945, 1.492087772180699, -0.3166835221387118, 0.21391682523433128, 1.3431401414834065, -0.33658330930052444, -0.06040031829111864, 0.8575727193535894, 0.8456303236478259, 0.5873179710868004, -0.5153380003082056, 0.30125334982497637, 0.1387728307020779, -2.0084040208601572, 0.43358873563114636, 0.3336515430236771, 1.1151060269365956, 0.7700750890092685, -0.5398110452866328, -0.2145185903736761, -1.3579275829890975, -0.6063766417218892, -0.9361307838015346, -1.0341589706399332, -0.7735923539922803, 0.5942197674390316, -0.7974997044360369, -0.4852376362427482, -0.6047029260240983, 1.2677565721539823, 0.7557749349842667, 0.4005016589869277, 1.7602240792382622, 0.32785068102032794, -0.6924844983630888, 0.28986689317335373, 0.8346389766682714, -1.3181947665753797, -0.26491627511662014, -0.3913940425717173, 0.24578259997284216, -0.20406695835053235, -1.4274656154378003, -0.06264926304347601, -1.2096626431097994, -0.4221286398408152, -0.1762422629662039, -1.5380399030712135, 0.33860478504924724, -0.5629873262671605, 0.0016011056051914252, -0.345031010096941, 1.2149291432694307, 0.3775203769110489, -0.9953085279115665, 0.33448933924794494, -0.8031246494573918, 0.13226274769544108, 0.36886075784824823, -1.3706518061137527, -0.7190573390676255, 0.3375015552640827, 0.12674617471946514, 0.2855452890026702, -0.50132927206113, 0.5567349826342716, -0.025261974047004934, -0.0012146459766086911, 0.678076473554741, 0.2262779748256039, 0.7781458207393253, 0.5809436007719051, 1.5118791070809483, -0.734171047799401], \"xaxis\": \"x15\", \"y\": [1.3932533212334495, 0.2241684371883963, 0.9750739274414556, 0.5940652666865319, 1.2101033243388055, 0.4448609850652139, -0.2658450901566835, 0.630189739869328, 0.45172696457443956, 0.4628868786377445, -2.7643136612774355, -0.16984537073399386, 0.1747704809129454, -0.5487720891818902, 0.9127644892428154, -0.16297336412093263, 1.8810303028581048, 0.10885961489826855, 0.8293140258192842, -0.9736957308055706, -0.06722625279633468, -0.5714920481354261, 0.5756138704145813, -0.13826268728074936, -0.3261600511019883, -0.7709141294499515, -1.5711268752601908, 0.003749006012046726, 0.4321633962530361, -0.30228068216206827, 0.9832046396284396, 0.37639781108943754, -1.0178912866442507, -0.1217171208639235, -1.7119142286429185, 1.09556567404667, -1.1587629221693567, 0.6917638459868968, 0.06054613331850782, -0.2756573269474395, -0.00906471933142405, 1.0107867164979152, -2.210812992949009, -1.8885447332496859, 0.2144885066184908, 0.32651362922457156, -0.2368041802315175, 0.6588066394885467, 1.495762187666791, 1.7118026044219314, -0.693560211520616, -0.5742587471362914, -0.47711502709919046, -0.21067912239226097, -0.08793123477124042, -1.9587264157548534, 0.19264765108253026, 1.382955525139188, 0.3515646814534139, 0.4613935114459003, 0.16813161076923622, -0.6922388637613162, -0.09636032777922349, 1.3074300912687304, 0.5915356227600267, -0.576926181705004, -0.09846807905122404, -0.4908966197585694, -0.39270830024857306, 1.2569680324133468, 0.8737042352745313, 0.4384351029698666, -0.38975732942115365, 0.250533313608815, -0.7064115862357414, 1.1872554736643324, 0.8684234618402348, 1.837419198543538, 0.3455750124730475, -0.8431045456509281, 0.2504725540093318, -0.3641331342287776, -0.1786119379181722, 1.9131851841668437, -0.6744099032527255, -1.0173693879993573, -1.2564859236649464, -0.014319618356981197, 0.4248904951872451, -0.5306552555381103, -0.7367035266810666, 0.5831548802400632, -1.6756500385628834, -0.4093871128858697, 1.0745448254148906, -1.521323754786965, -0.6709081766186101, -0.6535283479195353, 0.857675773196685, -0.7985601870201094], \"yaxis\": \"y15\"}, {\"histfunc\": \"count\", \"histnorm\": \"\", \"marker\": {\"color\": \"rgba(128, 0, 128, 1.0)\", \"line\": {\"color\": \"#4D5663\", \"width\": 1.3}}, \"name\": \"D\", \"nbinsx\": 10, \"opacity\": 0.8, \"orientation\": \"v\", \"type\": \"histogram\", \"x\": [1.3932533212334495, 0.2241684371883963, 0.9750739274414556, 0.5940652666865319, 1.2101033243388055, 0.4448609850652139, -0.2658450901566835, 0.630189739869328, 0.45172696457443956, 0.4628868786377445, -2.7643136612774355, -0.16984537073399386, 0.1747704809129454, -0.5487720891818902, 0.9127644892428154, -0.16297336412093263, 1.8810303028581048, 0.10885961489826855, 0.8293140258192842, -0.9736957308055706, -0.06722625279633468, -0.5714920481354261, 0.5756138704145813, -0.13826268728074936, -0.3261600511019883, -0.7709141294499515, -1.5711268752601908, 0.003749006012046726, 0.4321633962530361, -0.30228068216206827, 0.9832046396284396, 0.37639781108943754, -1.0178912866442507, -0.1217171208639235, -1.7119142286429185, 1.09556567404667, -1.1587629221693567, 0.6917638459868968, 0.06054613331850782, -0.2756573269474395, -0.00906471933142405, 1.0107867164979152, -2.210812992949009, -1.8885447332496859, 0.2144885066184908, 0.32651362922457156, -0.2368041802315175, 0.6588066394885467, 1.495762187666791, 1.7118026044219314, -0.693560211520616, -0.5742587471362914, -0.47711502709919046, -0.21067912239226097, -0.08793123477124042, -1.9587264157548534, 0.19264765108253026, 1.382955525139188, 0.3515646814534139, 0.4613935114459003, 0.16813161076923622, -0.6922388637613162, -0.09636032777922349, 1.3074300912687304, 0.5915356227600267, -0.576926181705004, -0.09846807905122404, -0.4908966197585694, -0.39270830024857306, 1.2569680324133468, 0.8737042352745313, 0.4384351029698666, -0.38975732942115365, 0.250533313608815, -0.7064115862357414, 1.1872554736643324, 0.8684234618402348, 1.837419198543538, 0.3455750124730475, -0.8431045456509281, 0.2504725540093318, -0.3641331342287776, -0.1786119379181722, 1.9131851841668437, -0.6744099032527255, -1.0173693879993573, -1.2564859236649464, -0.014319618356981197, 0.4248904951872451, -0.5306552555381103, -0.7367035266810666, 0.5831548802400632, -1.6756500385628834, -0.4093871128858697, 1.0745448254148906, -1.521323754786965, -0.6709081766186101, -0.6535283479195353, 0.857675773196685, -0.7985601870201094], \"xaxis\": \"x16\", \"yaxis\": \"y16\"}],\n",
       "                        {\"bargap\": 0.02, \"legend\": {\"bgcolor\": \"#F5F6F9\", \"font\": {\"color\": \"#4D5663\"}}, \"paper_bgcolor\": \"#F5F6F9\", \"plot_bgcolor\": \"#F5F6F9\", \"showlegend\": false, \"template\": {\"data\": {\"bar\": [{\"error_x\": {\"color\": \"#2a3f5f\"}, \"error_y\": {\"color\": \"#2a3f5f\"}, \"marker\": {\"line\": {\"color\": \"#E5ECF6\", \"width\": 0.5}}, \"type\": \"bar\"}], \"barpolar\": [{\"marker\": {\"line\": {\"color\": \"#E5ECF6\", \"width\": 0.5}}, \"type\": \"barpolar\"}], \"carpet\": [{\"aaxis\": {\"endlinecolor\": \"#2a3f5f\", \"gridcolor\": \"white\", \"linecolor\": \"white\", \"minorgridcolor\": \"white\", \"startlinecolor\": \"#2a3f5f\"}, \"baxis\": {\"endlinecolor\": \"#2a3f5f\", \"gridcolor\": \"white\", \"linecolor\": \"white\", \"minorgridcolor\": \"white\", \"startlinecolor\": \"#2a3f5f\"}, \"type\": \"carpet\"}], \"choropleth\": [{\"colorbar\": {\"outlinewidth\": 0, \"ticks\": \"\"}, \"type\": \"choropleth\"}], \"contour\": [{\"colorbar\": {\"outlinewidth\": 0, \"ticks\": \"\"}, \"colorscale\": [[0.0, \"#0d0887\"], [0.1111111111111111, \"#46039f\"], [0.2222222222222222, \"#7201a8\"], [0.3333333333333333, \"#9c179e\"], [0.4444444444444444, \"#bd3786\"], [0.5555555555555556, \"#d8576b\"], [0.6666666666666666, \"#ed7953\"], [0.7777777777777778, \"#fb9f3a\"], [0.8888888888888888, \"#fdca26\"], [1.0, \"#f0f921\"]], \"type\": \"contour\"}], \"contourcarpet\": [{\"colorbar\": {\"outlinewidth\": 0, \"ticks\": \"\"}, \"type\": \"contourcarpet\"}], \"heatmap\": [{\"colorbar\": {\"outlinewidth\": 0, \"ticks\": \"\"}, \"colorscale\": [[0.0, \"#0d0887\"], [0.1111111111111111, \"#46039f\"], [0.2222222222222222, \"#7201a8\"], [0.3333333333333333, \"#9c179e\"], [0.4444444444444444, \"#bd3786\"], [0.5555555555555556, \"#d8576b\"], [0.6666666666666666, \"#ed7953\"], [0.7777777777777778, \"#fb9f3a\"], [0.8888888888888888, \"#fdca26\"], [1.0, \"#f0f921\"]], \"type\": \"heatmap\"}], \"heatmapgl\": [{\"colorbar\": {\"outlinewidth\": 0, \"ticks\": \"\"}, \"colorscale\": [[0.0, \"#0d0887\"], [0.1111111111111111, \"#46039f\"], [0.2222222222222222, \"#7201a8\"], [0.3333333333333333, \"#9c179e\"], [0.4444444444444444, \"#bd3786\"], [0.5555555555555556, \"#d8576b\"], [0.6666666666666666, \"#ed7953\"], [0.7777777777777778, \"#fb9f3a\"], [0.8888888888888888, \"#fdca26\"], [1.0, \"#f0f921\"]], \"type\": \"heatmapgl\"}], \"histogram\": [{\"marker\": {\"colorbar\": {\"outlinewidth\": 0, \"ticks\": \"\"}}, \"type\": \"histogram\"}], \"histogram2d\": [{\"colorbar\": {\"outlinewidth\": 0, \"ticks\": \"\"}, \"colorscale\": [[0.0, \"#0d0887\"], [0.1111111111111111, \"#46039f\"], [0.2222222222222222, \"#7201a8\"], [0.3333333333333333, \"#9c179e\"], [0.4444444444444444, \"#bd3786\"], [0.5555555555555556, \"#d8576b\"], [0.6666666666666666, \"#ed7953\"], [0.7777777777777778, \"#fb9f3a\"], [0.8888888888888888, \"#fdca26\"], [1.0, \"#f0f921\"]], \"type\": \"histogram2d\"}], \"histogram2dcontour\": [{\"colorbar\": {\"outlinewidth\": 0, \"ticks\": \"\"}, \"colorscale\": [[0.0, \"#0d0887\"], [0.1111111111111111, \"#46039f\"], [0.2222222222222222, \"#7201a8\"], [0.3333333333333333, \"#9c179e\"], [0.4444444444444444, \"#bd3786\"], [0.5555555555555556, \"#d8576b\"], [0.6666666666666666, \"#ed7953\"], [0.7777777777777778, \"#fb9f3a\"], [0.8888888888888888, \"#fdca26\"], [1.0, \"#f0f921\"]], \"type\": \"histogram2dcontour\"}], \"mesh3d\": [{\"colorbar\": {\"outlinewidth\": 0, \"ticks\": \"\"}, \"type\": \"mesh3d\"}], \"parcoords\": [{\"line\": {\"colorbar\": {\"outlinewidth\": 0, \"ticks\": \"\"}}, \"type\": \"parcoords\"}], \"pie\": [{\"automargin\": true, \"type\": \"pie\"}], \"scatter\": [{\"marker\": {\"colorbar\": {\"outlinewidth\": 0, \"ticks\": \"\"}}, \"type\": \"scatter\"}], \"scatter3d\": [{\"line\": {\"colorbar\": {\"outlinewidth\": 0, \"ticks\": \"\"}}, \"marker\": {\"colorbar\": {\"outlinewidth\": 0, \"ticks\": \"\"}}, \"type\": \"scatter3d\"}], \"scattercarpet\": [{\"marker\": {\"colorbar\": {\"outlinewidth\": 0, \"ticks\": \"\"}}, \"type\": \"scattercarpet\"}], \"scattergeo\": [{\"marker\": {\"colorbar\": {\"outlinewidth\": 0, \"ticks\": \"\"}}, \"type\": \"scattergeo\"}], \"scattergl\": [{\"marker\": {\"colorbar\": {\"outlinewidth\": 0, \"ticks\": \"\"}}, \"type\": \"scattergl\"}], \"scattermapbox\": [{\"marker\": {\"colorbar\": {\"outlinewidth\": 0, \"ticks\": \"\"}}, \"type\": \"scattermapbox\"}], \"scatterpolar\": [{\"marker\": {\"colorbar\": {\"outlinewidth\": 0, \"ticks\": \"\"}}, \"type\": \"scatterpolar\"}], \"scatterpolargl\": [{\"marker\": {\"colorbar\": {\"outlinewidth\": 0, \"ticks\": \"\"}}, \"type\": \"scatterpolargl\"}], \"scatterternary\": [{\"marker\": {\"colorbar\": {\"outlinewidth\": 0, \"ticks\": \"\"}}, \"type\": \"scatterternary\"}], \"surface\": [{\"colorbar\": {\"outlinewidth\": 0, \"ticks\": \"\"}, \"colorscale\": [[0.0, \"#0d0887\"], [0.1111111111111111, \"#46039f\"], [0.2222222222222222, \"#7201a8\"], [0.3333333333333333, \"#9c179e\"], [0.4444444444444444, \"#bd3786\"], [0.5555555555555556, \"#d8576b\"], [0.6666666666666666, \"#ed7953\"], [0.7777777777777778, \"#fb9f3a\"], [0.8888888888888888, \"#fdca26\"], [1.0, \"#f0f921\"]], \"type\": \"surface\"}], \"table\": [{\"cells\": {\"fill\": {\"color\": \"#EBF0F8\"}, \"line\": {\"color\": \"white\"}}, \"header\": {\"fill\": {\"color\": \"#C8D4E3\"}, \"line\": {\"color\": \"white\"}}, \"type\": \"table\"}]}, \"layout\": {\"annotationdefaults\": {\"arrowcolor\": \"#2a3f5f\", \"arrowhead\": 0, \"arrowwidth\": 1}, \"coloraxis\": {\"colorbar\": {\"outlinewidth\": 0, \"ticks\": \"\"}}, \"colorscale\": {\"diverging\": [[0, \"#8e0152\"], [0.1, \"#c51b7d\"], [0.2, \"#de77ae\"], [0.3, \"#f1b6da\"], [0.4, \"#fde0ef\"], [0.5, \"#f7f7f7\"], [0.6, \"#e6f5d0\"], [0.7, \"#b8e186\"], [0.8, \"#7fbc41\"], [0.9, \"#4d9221\"], [1, \"#276419\"]], \"sequential\": [[0.0, \"#0d0887\"], [0.1111111111111111, \"#46039f\"], [0.2222222222222222, \"#7201a8\"], [0.3333333333333333, \"#9c179e\"], [0.4444444444444444, \"#bd3786\"], [0.5555555555555556, \"#d8576b\"], [0.6666666666666666, \"#ed7953\"], [0.7777777777777778, \"#fb9f3a\"], [0.8888888888888888, \"#fdca26\"], [1.0, \"#f0f921\"]], \"sequentialminus\": [[0.0, \"#0d0887\"], [0.1111111111111111, \"#46039f\"], [0.2222222222222222, \"#7201a8\"], [0.3333333333333333, \"#9c179e\"], [0.4444444444444444, \"#bd3786\"], [0.5555555555555556, \"#d8576b\"], [0.6666666666666666, \"#ed7953\"], [0.7777777777777778, \"#fb9f3a\"], [0.8888888888888888, \"#fdca26\"], [1.0, \"#f0f921\"]]}, \"colorway\": [\"#636efa\", \"#EF553B\", \"#00cc96\", \"#ab63fa\", \"#FFA15A\", \"#19d3f3\", \"#FF6692\", \"#B6E880\", \"#FF97FF\", \"#FECB52\"], \"font\": {\"color\": \"#2a3f5f\"}, \"geo\": {\"bgcolor\": \"white\", \"lakecolor\": \"white\", \"landcolor\": \"#E5ECF6\", \"showlakes\": true, \"showland\": true, \"subunitcolor\": \"white\"}, \"hoverlabel\": {\"align\": \"left\"}, \"hovermode\": \"closest\", \"mapbox\": {\"style\": \"light\"}, \"paper_bgcolor\": \"white\", \"plot_bgcolor\": \"#E5ECF6\", \"polar\": {\"angularaxis\": {\"gridcolor\": \"white\", \"linecolor\": \"white\", \"ticks\": \"\"}, \"bgcolor\": \"#E5ECF6\", \"radialaxis\": {\"gridcolor\": \"white\", \"linecolor\": \"white\", \"ticks\": \"\"}}, \"scene\": {\"xaxis\": {\"backgroundcolor\": \"#E5ECF6\", \"gridcolor\": \"white\", \"gridwidth\": 2, \"linecolor\": \"white\", \"showbackground\": true, \"ticks\": \"\", \"zerolinecolor\": \"white\"}, \"yaxis\": {\"backgroundcolor\": \"#E5ECF6\", \"gridcolor\": \"white\", \"gridwidth\": 2, \"linecolor\": \"white\", \"showbackground\": true, \"ticks\": \"\", \"zerolinecolor\": \"white\"}, \"zaxis\": {\"backgroundcolor\": \"#E5ECF6\", \"gridcolor\": \"white\", \"gridwidth\": 2, \"linecolor\": \"white\", \"showbackground\": true, \"ticks\": \"\", \"zerolinecolor\": \"white\"}}, \"shapedefaults\": {\"line\": {\"color\": \"#2a3f5f\"}}, \"ternary\": {\"aaxis\": {\"gridcolor\": \"white\", \"linecolor\": \"white\", \"ticks\": \"\"}, \"baxis\": {\"gridcolor\": \"white\", \"linecolor\": \"white\", \"ticks\": \"\"}, \"bgcolor\": \"#E5ECF6\", \"caxis\": {\"gridcolor\": \"white\", \"linecolor\": \"white\", \"ticks\": \"\"}}, \"title\": {\"x\": 0.05}, \"xaxis\": {\"automargin\": true, \"gridcolor\": \"white\", \"linecolor\": \"white\", \"ticks\": \"\", \"title\": {\"standoff\": 15}, \"zerolinecolor\": \"white\", \"zerolinewidth\": 2}, \"yaxis\": {\"automargin\": true, \"gridcolor\": \"white\", \"linecolor\": \"white\", \"ticks\": \"\", \"title\": {\"standoff\": 15}, \"zerolinecolor\": \"white\", \"zerolinewidth\": 2}}}, \"title\": {\"font\": {\"color\": \"#4D5663\"}}, \"xaxis\": {\"anchor\": \"y\", \"domain\": [0.0, 0.2125], \"gridcolor\": \"#E1E5ED\", \"showgrid\": false, \"tickfont\": {\"color\": \"#4D5663\"}, \"title\": {\"font\": {\"color\": \"#4D5663\"}, \"text\": \"\"}, \"zerolinecolor\": \"#E1E5ED\"}, \"xaxis10\": {\"anchor\": \"y10\", \"domain\": [0.2625, 0.475], \"gridcolor\": \"#E1E5ED\", \"showgrid\": false, \"tickfont\": {\"color\": \"#4D5663\"}, \"title\": {\"font\": {\"color\": \"#4D5663\"}, \"text\": \"\"}, \"zerolinecolor\": \"#E1E5ED\"}, \"xaxis11\": {\"anchor\": \"y11\", \"domain\": [0.525, 0.7375], \"gridcolor\": \"#E1E5ED\", \"showgrid\": false, \"tickfont\": {\"color\": \"#4D5663\"}, \"title\": {\"font\": {\"color\": \"#4D5663\"}, \"text\": \"\"}, \"zerolinecolor\": \"#E1E5ED\"}, \"xaxis12\": {\"anchor\": \"y12\", \"domain\": [0.7875, 1.0], \"gridcolor\": \"#E1E5ED\", \"showgrid\": false, \"tickfont\": {\"color\": \"#4D5663\"}, \"title\": {\"font\": {\"color\": \"#4D5663\"}, \"text\": \"\"}, \"zerolinecolor\": \"#E1E5ED\"}, \"xaxis13\": {\"anchor\": \"y13\", \"domain\": [0.0, 0.2125], \"gridcolor\": \"#E1E5ED\", \"showgrid\": false, \"tickfont\": {\"color\": \"#4D5663\"}, \"title\": {\"font\": {\"color\": \"#4D5663\"}, \"text\": \"\"}, \"zerolinecolor\": \"#E1E5ED\"}, \"xaxis14\": {\"anchor\": \"y14\", \"domain\": [0.2625, 0.475], \"gridcolor\": \"#E1E5ED\", \"showgrid\": false, \"tickfont\": {\"color\": \"#4D5663\"}, \"title\": {\"font\": {\"color\": \"#4D5663\"}, \"text\": \"\"}, \"zerolinecolor\": \"#E1E5ED\"}, \"xaxis15\": {\"anchor\": \"y15\", \"domain\": [0.525, 0.7375], \"gridcolor\": \"#E1E5ED\", \"showgrid\": false, \"tickfont\": {\"color\": \"#4D5663\"}, \"title\": {\"font\": {\"color\": \"#4D5663\"}, \"text\": \"\"}, \"zerolinecolor\": \"#E1E5ED\"}, \"xaxis16\": {\"anchor\": \"y16\", \"domain\": [0.7875, 1.0], \"gridcolor\": \"#E1E5ED\", \"showgrid\": false, \"tickfont\": {\"color\": \"#4D5663\"}, \"title\": {\"font\": {\"color\": \"#4D5663\"}, \"text\": \"\"}, \"zerolinecolor\": \"#E1E5ED\"}, \"xaxis2\": {\"anchor\": \"y2\", \"domain\": [0.2625, 0.475], \"gridcolor\": \"#E1E5ED\", \"showgrid\": false, \"tickfont\": {\"color\": \"#4D5663\"}, \"title\": {\"font\": {\"color\": \"#4D5663\"}, \"text\": \"\"}, \"zerolinecolor\": \"#E1E5ED\"}, \"xaxis3\": {\"anchor\": \"y3\", \"domain\": [0.525, 0.7375], \"gridcolor\": \"#E1E5ED\", \"showgrid\": false, \"tickfont\": {\"color\": \"#4D5663\"}, \"title\": {\"font\": {\"color\": \"#4D5663\"}, \"text\": \"\"}, \"zerolinecolor\": \"#E1E5ED\"}, \"xaxis4\": {\"anchor\": \"y4\", \"domain\": [0.7875, 1.0], \"gridcolor\": \"#E1E5ED\", \"showgrid\": false, \"tickfont\": {\"color\": \"#4D5663\"}, \"title\": {\"font\": {\"color\": \"#4D5663\"}, \"text\": \"\"}, \"zerolinecolor\": \"#E1E5ED\"}, \"xaxis5\": {\"anchor\": \"y5\", \"domain\": [0.0, 0.2125], \"gridcolor\": \"#E1E5ED\", \"showgrid\": false, \"tickfont\": {\"color\": \"#4D5663\"}, \"title\": {\"font\": {\"color\": \"#4D5663\"}, \"text\": \"\"}, \"zerolinecolor\": \"#E1E5ED\"}, \"xaxis6\": {\"anchor\": \"y6\", \"domain\": [0.2625, 0.475], \"gridcolor\": \"#E1E5ED\", \"showgrid\": false, \"tickfont\": {\"color\": \"#4D5663\"}, \"title\": {\"font\": {\"color\": \"#4D5663\"}, \"text\": \"\"}, \"zerolinecolor\": \"#E1E5ED\"}, \"xaxis7\": {\"anchor\": \"y7\", \"domain\": [0.525, 0.7375], \"gridcolor\": \"#E1E5ED\", \"showgrid\": false, \"tickfont\": {\"color\": \"#4D5663\"}, \"title\": {\"font\": {\"color\": \"#4D5663\"}, \"text\": \"\"}, \"zerolinecolor\": \"#E1E5ED\"}, \"xaxis8\": {\"anchor\": \"y8\", \"domain\": [0.7875, 1.0], \"gridcolor\": \"#E1E5ED\", \"showgrid\": false, \"tickfont\": {\"color\": \"#4D5663\"}, \"title\": {\"font\": {\"color\": \"#4D5663\"}, \"text\": \"\"}, \"zerolinecolor\": \"#E1E5ED\"}, \"xaxis9\": {\"anchor\": \"y9\", \"domain\": [0.0, 0.2125], \"gridcolor\": \"#E1E5ED\", \"showgrid\": false, \"tickfont\": {\"color\": \"#4D5663\"}, \"title\": {\"font\": {\"color\": \"#4D5663\"}, \"text\": \"\"}, \"zerolinecolor\": \"#E1E5ED\"}, \"yaxis\": {\"anchor\": \"x\", \"domain\": [0.8025, 1.0], \"gridcolor\": \"#E1E5ED\", \"showgrid\": false, \"tickfont\": {\"color\": \"#4D5663\"}, \"title\": {\"font\": {\"color\": \"#4D5663\"}, \"text\": \"\"}, \"zerolinecolor\": \"#E1E5ED\"}, \"yaxis10\": {\"anchor\": \"x10\", \"domain\": [0.2675, 0.465], \"gridcolor\": \"#E1E5ED\", \"showgrid\": false, \"tickfont\": {\"color\": \"#4D5663\"}, \"title\": {\"font\": {\"color\": \"#4D5663\"}, \"text\": \"\"}, \"zerolinecolor\": \"#E1E5ED\"}, \"yaxis11\": {\"anchor\": \"x11\", \"domain\": [0.2675, 0.465], \"gridcolor\": \"#E1E5ED\", \"showgrid\": false, \"tickfont\": {\"color\": \"#4D5663\"}, \"title\": {\"font\": {\"color\": \"#4D5663\"}, \"text\": \"\"}, \"zerolinecolor\": \"#E1E5ED\"}, \"yaxis12\": {\"anchor\": \"x12\", \"domain\": [0.2675, 0.465], \"gridcolor\": \"#E1E5ED\", \"showgrid\": false, \"tickfont\": {\"color\": \"#4D5663\"}, \"title\": {\"font\": {\"color\": \"#4D5663\"}, \"text\": \"\"}, \"zerolinecolor\": \"#E1E5ED\"}, \"yaxis13\": {\"anchor\": \"x13\", \"domain\": [0.0, 0.1975], \"gridcolor\": \"#E1E5ED\", \"showgrid\": false, \"tickfont\": {\"color\": \"#4D5663\"}, \"title\": {\"font\": {\"color\": \"#4D5663\"}, \"text\": \"\"}, \"zerolinecolor\": \"#E1E5ED\"}, \"yaxis14\": {\"anchor\": \"x14\", \"domain\": [0.0, 0.1975], \"gridcolor\": \"#E1E5ED\", \"showgrid\": false, \"tickfont\": {\"color\": \"#4D5663\"}, \"title\": {\"font\": {\"color\": \"#4D5663\"}, \"text\": \"\"}, \"zerolinecolor\": \"#E1E5ED\"}, \"yaxis15\": {\"anchor\": \"x15\", \"domain\": [0.0, 0.1975], \"gridcolor\": \"#E1E5ED\", \"showgrid\": false, \"tickfont\": {\"color\": \"#4D5663\"}, \"title\": {\"font\": {\"color\": \"#4D5663\"}, \"text\": \"\"}, \"zerolinecolor\": \"#E1E5ED\"}, \"yaxis16\": {\"anchor\": \"x16\", \"domain\": [0.0, 0.1975], \"gridcolor\": \"#E1E5ED\", \"showgrid\": false, \"tickfont\": {\"color\": \"#4D5663\"}, \"title\": {\"font\": {\"color\": \"#4D5663\"}, \"text\": \"\"}, \"zerolinecolor\": \"#E1E5ED\"}, \"yaxis2\": {\"anchor\": \"x2\", \"domain\": [0.8025, 1.0], \"gridcolor\": \"#E1E5ED\", \"showgrid\": false, \"tickfont\": {\"color\": \"#4D5663\"}, \"title\": {\"font\": {\"color\": \"#4D5663\"}, \"text\": \"\"}, \"zerolinecolor\": \"#E1E5ED\"}, \"yaxis3\": {\"anchor\": \"x3\", \"domain\": [0.8025, 1.0], \"gridcolor\": \"#E1E5ED\", \"showgrid\": false, \"tickfont\": {\"color\": \"#4D5663\"}, \"title\": {\"font\": {\"color\": \"#4D5663\"}, \"text\": \"\"}, \"zerolinecolor\": \"#E1E5ED\"}, \"yaxis4\": {\"anchor\": \"x4\", \"domain\": [0.8025, 1.0], \"gridcolor\": \"#E1E5ED\", \"showgrid\": false, \"tickfont\": {\"color\": \"#4D5663\"}, \"title\": {\"font\": {\"color\": \"#4D5663\"}, \"text\": \"\"}, \"zerolinecolor\": \"#E1E5ED\"}, \"yaxis5\": {\"anchor\": \"x5\", \"domain\": [0.535, 0.7325], \"gridcolor\": \"#E1E5ED\", \"showgrid\": false, \"tickfont\": {\"color\": \"#4D5663\"}, \"title\": {\"font\": {\"color\": \"#4D5663\"}, \"text\": \"\"}, \"zerolinecolor\": \"#E1E5ED\"}, \"yaxis6\": {\"anchor\": \"x6\", \"domain\": [0.535, 0.7325], \"gridcolor\": \"#E1E5ED\", \"showgrid\": false, \"tickfont\": {\"color\": \"#4D5663\"}, \"title\": {\"font\": {\"color\": \"#4D5663\"}, \"text\": \"\"}, \"zerolinecolor\": \"#E1E5ED\"}, \"yaxis7\": {\"anchor\": \"x7\", \"domain\": [0.535, 0.7325], \"gridcolor\": \"#E1E5ED\", \"showgrid\": false, \"tickfont\": {\"color\": \"#4D5663\"}, \"title\": {\"font\": {\"color\": \"#4D5663\"}, \"text\": \"\"}, \"zerolinecolor\": \"#E1E5ED\"}, \"yaxis8\": {\"anchor\": \"x8\", \"domain\": [0.535, 0.7325], \"gridcolor\": \"#E1E5ED\", \"showgrid\": false, \"tickfont\": {\"color\": \"#4D5663\"}, \"title\": {\"font\": {\"color\": \"#4D5663\"}, \"text\": \"\"}, \"zerolinecolor\": \"#E1E5ED\"}, \"yaxis9\": {\"anchor\": \"x9\", \"domain\": [0.2675, 0.465], \"gridcolor\": \"#E1E5ED\", \"showgrid\": false, \"tickfont\": {\"color\": \"#4D5663\"}, \"title\": {\"font\": {\"color\": \"#4D5663\"}, \"text\": \"\"}, \"zerolinecolor\": \"#E1E5ED\"}},\n",
       "                        {\"showLink\": true, \"linkText\": \"Export to plot.ly\", \"plotlyServerURL\": \"https://plot.ly\", \"responsive\": true}\n",
       "                    ).then(function(){\n",
       "                            \n",
       "var gd = document.getElementById('9de525ce-974b-4cb1-987a-614e1d1b6c10');\n",
       "var x = new MutationObserver(function (mutations, observer) {{\n",
       "        var display = window.getComputedStyle(gd).display;\n",
       "        if (!display || display === 'none') {{\n",
       "            console.log([gd, 'removed!']);\n",
       "            Plotly.purge(gd);\n",
       "            observer.disconnect();\n",
       "        }}\n",
       "}});\n",
       "\n",
       "// Listen for the removal of the full notebook cells\n",
       "var notebookContainer = gd.closest('#notebook-container');\n",
       "if (notebookContainer) {{\n",
       "    x.observe(notebookContainer, {childList: true});\n",
       "}}\n",
       "\n",
       "// Listen for the clearing of the current output cell\n",
       "var outputEl = gd.closest('.output');\n",
       "if (outputEl) {{\n",
       "    x.observe(outputEl, {childList: true});\n",
       "}}\n",
       "\n",
       "                        })\n",
       "                };\n",
       "                });\n",
       "            </script>\n",
       "        </div>"
      ]
     },
     "metadata": {},
     "output_type": "display_data"
    }
   ],
   "source": [
    "df.scatter_matrix()"
   ]
  },
  {
   "cell_type": "code",
   "execution_count": 1,
   "metadata": {},
   "outputs": [],
   "source": [
    "##Geographical Plotting"
   ]
  },
  {
   "cell_type": "code",
   "execution_count": 11,
   "metadata": {},
   "outputs": [],
   "source": [
    "#Choropleth Maps\n",
    "import chart_studio"
   ]
  },
  {
   "cell_type": "code",
   "execution_count": 13,
   "metadata": {},
   "outputs": [],
   "source": [
    "import chart_studio.plotly as py\n",
    "import plotly.graph_objs as go\n",
    "from plotly.offline import download_plotlyjs, init_notebook_mode, plot, iplot\n"
   ]
  },
  {
   "cell_type": "code",
   "execution_count": 14,
   "metadata": {},
   "outputs": [
    {
     "data": {
      "text/html": [
       "        <script type=\"text/javascript\">\n",
       "        window.PlotlyConfig = {MathJaxConfig: 'local'};\n",
       "        if (window.MathJax) {MathJax.Hub.Config({SVG: {font: \"STIX-Web\"}});}\n",
       "        if (typeof require !== 'undefined') {\n",
       "        require.undef(\"plotly\");\n",
       "        requirejs.config({\n",
       "            paths: {\n",
       "                'plotly': ['https://cdn.plot.ly/plotly-latest.min']\n",
       "            }\n",
       "        });\n",
       "        require(['plotly'], function(Plotly) {\n",
       "            window._Plotly = Plotly;\n",
       "        });\n",
       "        }\n",
       "        </script>\n",
       "        "
      ]
     },
     "metadata": {},
     "output_type": "display_data"
    }
   ],
   "source": [
    "init_notebook_mode(connected=True)"
   ]
  },
  {
   "cell_type": "code",
   "execution_count": 15,
   "metadata": {},
   "outputs": [],
   "source": [
    "import pandas as pd"
   ]
  },
  {
   "cell_type": "code",
   "execution_count": 31,
   "metadata": {},
   "outputs": [],
   "source": [
    "data = dict(type = 'choropleth',\n",
    "           locations = 'AZ CA NY FL'.split(),\n",
    "           locationmode = 'USA-states',\n",
    "           colorscale = 'Jet',\n",
    "           text = 'Arizona California NewYork Florida'.split(),\n",
    "           z = [1.0,2.0,3.0,4.0],\n",
    "           colorbar = {'title':'Colorbar Title Goes Here'})"
   ]
  },
  {
   "cell_type": "code",
   "execution_count": 32,
   "metadata": {},
   "outputs": [],
   "source": [
    "layout = dict(geo={'scope':'usa'})"
   ]
  },
  {
   "cell_type": "code",
   "execution_count": 33,
   "metadata": {},
   "outputs": [],
   "source": [
    "choromap = go.Figure(data= [data],layout=layout)"
   ]
  },
  {
   "cell_type": "code",
   "execution_count": 34,
   "metadata": {},
   "outputs": [
    {
     "data": {
      "application/vnd.plotly.v1+json": {
       "config": {
        "linkText": "Export to plot.ly",
        "plotlyServerURL": "https://plot.ly",
        "showLink": false
       },
       "data": [
        {
         "colorbar": {
          "title": {
           "text": "Colorbar Title Goes Here"
          }
         },
         "colorscale": [
          [
           0,
           "rgb(0,0,131)"
          ],
          [
           0.2,
           "rgb(0,60,170)"
          ],
          [
           0.4,
           "rgb(5,255,255)"
          ],
          [
           0.6,
           "rgb(255,255,0)"
          ],
          [
           0.8,
           "rgb(250,0,0)"
          ],
          [
           1,
           "rgb(128,0,0)"
          ]
         ],
         "locationmode": "USA-states",
         "locations": [
          "AZ",
          "CA",
          "NY",
          "FL"
         ],
         "text": [
          "Arizona",
          "California",
          "NewYork",
          "Florida"
         ],
         "type": "choropleth",
         "z": [
          1,
          2,
          3,
          4
         ]
        }
       ],
       "layout": {
        "geo": {
         "scope": "usa"
        },
        "template": {
         "data": {
          "bar": [
           {
            "error_x": {
             "color": "#2a3f5f"
            },
            "error_y": {
             "color": "#2a3f5f"
            },
            "marker": {
             "line": {
              "color": "#E5ECF6",
              "width": 0.5
             }
            },
            "type": "bar"
           }
          ],
          "barpolar": [
           {
            "marker": {
             "line": {
              "color": "#E5ECF6",
              "width": 0.5
             }
            },
            "type": "barpolar"
           }
          ],
          "carpet": [
           {
            "aaxis": {
             "endlinecolor": "#2a3f5f",
             "gridcolor": "white",
             "linecolor": "white",
             "minorgridcolor": "white",
             "startlinecolor": "#2a3f5f"
            },
            "baxis": {
             "endlinecolor": "#2a3f5f",
             "gridcolor": "white",
             "linecolor": "white",
             "minorgridcolor": "white",
             "startlinecolor": "#2a3f5f"
            },
            "type": "carpet"
           }
          ],
          "choropleth": [
           {
            "colorbar": {
             "outlinewidth": 0,
             "ticks": ""
            },
            "type": "choropleth"
           }
          ],
          "contour": [
           {
            "colorbar": {
             "outlinewidth": 0,
             "ticks": ""
            },
            "colorscale": [
             [
              0,
              "#0d0887"
             ],
             [
              0.1111111111111111,
              "#46039f"
             ],
             [
              0.2222222222222222,
              "#7201a8"
             ],
             [
              0.3333333333333333,
              "#9c179e"
             ],
             [
              0.4444444444444444,
              "#bd3786"
             ],
             [
              0.5555555555555556,
              "#d8576b"
             ],
             [
              0.6666666666666666,
              "#ed7953"
             ],
             [
              0.7777777777777778,
              "#fb9f3a"
             ],
             [
              0.8888888888888888,
              "#fdca26"
             ],
             [
              1,
              "#f0f921"
             ]
            ],
            "type": "contour"
           }
          ],
          "contourcarpet": [
           {
            "colorbar": {
             "outlinewidth": 0,
             "ticks": ""
            },
            "type": "contourcarpet"
           }
          ],
          "heatmap": [
           {
            "colorbar": {
             "outlinewidth": 0,
             "ticks": ""
            },
            "colorscale": [
             [
              0,
              "#0d0887"
             ],
             [
              0.1111111111111111,
              "#46039f"
             ],
             [
              0.2222222222222222,
              "#7201a8"
             ],
             [
              0.3333333333333333,
              "#9c179e"
             ],
             [
              0.4444444444444444,
              "#bd3786"
             ],
             [
              0.5555555555555556,
              "#d8576b"
             ],
             [
              0.6666666666666666,
              "#ed7953"
             ],
             [
              0.7777777777777778,
              "#fb9f3a"
             ],
             [
              0.8888888888888888,
              "#fdca26"
             ],
             [
              1,
              "#f0f921"
             ]
            ],
            "type": "heatmap"
           }
          ],
          "heatmapgl": [
           {
            "colorbar": {
             "outlinewidth": 0,
             "ticks": ""
            },
            "colorscale": [
             [
              0,
              "#0d0887"
             ],
             [
              0.1111111111111111,
              "#46039f"
             ],
             [
              0.2222222222222222,
              "#7201a8"
             ],
             [
              0.3333333333333333,
              "#9c179e"
             ],
             [
              0.4444444444444444,
              "#bd3786"
             ],
             [
              0.5555555555555556,
              "#d8576b"
             ],
             [
              0.6666666666666666,
              "#ed7953"
             ],
             [
              0.7777777777777778,
              "#fb9f3a"
             ],
             [
              0.8888888888888888,
              "#fdca26"
             ],
             [
              1,
              "#f0f921"
             ]
            ],
            "type": "heatmapgl"
           }
          ],
          "histogram": [
           {
            "marker": {
             "colorbar": {
              "outlinewidth": 0,
              "ticks": ""
             }
            },
            "type": "histogram"
           }
          ],
          "histogram2d": [
           {
            "colorbar": {
             "outlinewidth": 0,
             "ticks": ""
            },
            "colorscale": [
             [
              0,
              "#0d0887"
             ],
             [
              0.1111111111111111,
              "#46039f"
             ],
             [
              0.2222222222222222,
              "#7201a8"
             ],
             [
              0.3333333333333333,
              "#9c179e"
             ],
             [
              0.4444444444444444,
              "#bd3786"
             ],
             [
              0.5555555555555556,
              "#d8576b"
             ],
             [
              0.6666666666666666,
              "#ed7953"
             ],
             [
              0.7777777777777778,
              "#fb9f3a"
             ],
             [
              0.8888888888888888,
              "#fdca26"
             ],
             [
              1,
              "#f0f921"
             ]
            ],
            "type": "histogram2d"
           }
          ],
          "histogram2dcontour": [
           {
            "colorbar": {
             "outlinewidth": 0,
             "ticks": ""
            },
            "colorscale": [
             [
              0,
              "#0d0887"
             ],
             [
              0.1111111111111111,
              "#46039f"
             ],
             [
              0.2222222222222222,
              "#7201a8"
             ],
             [
              0.3333333333333333,
              "#9c179e"
             ],
             [
              0.4444444444444444,
              "#bd3786"
             ],
             [
              0.5555555555555556,
              "#d8576b"
             ],
             [
              0.6666666666666666,
              "#ed7953"
             ],
             [
              0.7777777777777778,
              "#fb9f3a"
             ],
             [
              0.8888888888888888,
              "#fdca26"
             ],
             [
              1,
              "#f0f921"
             ]
            ],
            "type": "histogram2dcontour"
           }
          ],
          "mesh3d": [
           {
            "colorbar": {
             "outlinewidth": 0,
             "ticks": ""
            },
            "type": "mesh3d"
           }
          ],
          "parcoords": [
           {
            "line": {
             "colorbar": {
              "outlinewidth": 0,
              "ticks": ""
             }
            },
            "type": "parcoords"
           }
          ],
          "pie": [
           {
            "automargin": true,
            "type": "pie"
           }
          ],
          "scatter": [
           {
            "marker": {
             "colorbar": {
              "outlinewidth": 0,
              "ticks": ""
             }
            },
            "type": "scatter"
           }
          ],
          "scatter3d": [
           {
            "line": {
             "colorbar": {
              "outlinewidth": 0,
              "ticks": ""
             }
            },
            "marker": {
             "colorbar": {
              "outlinewidth": 0,
              "ticks": ""
             }
            },
            "type": "scatter3d"
           }
          ],
          "scattercarpet": [
           {
            "marker": {
             "colorbar": {
              "outlinewidth": 0,
              "ticks": ""
             }
            },
            "type": "scattercarpet"
           }
          ],
          "scattergeo": [
           {
            "marker": {
             "colorbar": {
              "outlinewidth": 0,
              "ticks": ""
             }
            },
            "type": "scattergeo"
           }
          ],
          "scattergl": [
           {
            "marker": {
             "colorbar": {
              "outlinewidth": 0,
              "ticks": ""
             }
            },
            "type": "scattergl"
           }
          ],
          "scattermapbox": [
           {
            "marker": {
             "colorbar": {
              "outlinewidth": 0,
              "ticks": ""
             }
            },
            "type": "scattermapbox"
           }
          ],
          "scatterpolar": [
           {
            "marker": {
             "colorbar": {
              "outlinewidth": 0,
              "ticks": ""
             }
            },
            "type": "scatterpolar"
           }
          ],
          "scatterpolargl": [
           {
            "marker": {
             "colorbar": {
              "outlinewidth": 0,
              "ticks": ""
             }
            },
            "type": "scatterpolargl"
           }
          ],
          "scatterternary": [
           {
            "marker": {
             "colorbar": {
              "outlinewidth": 0,
              "ticks": ""
             }
            },
            "type": "scatterternary"
           }
          ],
          "surface": [
           {
            "colorbar": {
             "outlinewidth": 0,
             "ticks": ""
            },
            "colorscale": [
             [
              0,
              "#0d0887"
             ],
             [
              0.1111111111111111,
              "#46039f"
             ],
             [
              0.2222222222222222,
              "#7201a8"
             ],
             [
              0.3333333333333333,
              "#9c179e"
             ],
             [
              0.4444444444444444,
              "#bd3786"
             ],
             [
              0.5555555555555556,
              "#d8576b"
             ],
             [
              0.6666666666666666,
              "#ed7953"
             ],
             [
              0.7777777777777778,
              "#fb9f3a"
             ],
             [
              0.8888888888888888,
              "#fdca26"
             ],
             [
              1,
              "#f0f921"
             ]
            ],
            "type": "surface"
           }
          ],
          "table": [
           {
            "cells": {
             "fill": {
              "color": "#EBF0F8"
             },
             "line": {
              "color": "white"
             }
            },
            "header": {
             "fill": {
              "color": "#C8D4E3"
             },
             "line": {
              "color": "white"
             }
            },
            "type": "table"
           }
          ]
         },
         "layout": {
          "annotationdefaults": {
           "arrowcolor": "#2a3f5f",
           "arrowhead": 0,
           "arrowwidth": 1
          },
          "coloraxis": {
           "colorbar": {
            "outlinewidth": 0,
            "ticks": ""
           }
          },
          "colorscale": {
           "diverging": [
            [
             0,
             "#8e0152"
            ],
            [
             0.1,
             "#c51b7d"
            ],
            [
             0.2,
             "#de77ae"
            ],
            [
             0.3,
             "#f1b6da"
            ],
            [
             0.4,
             "#fde0ef"
            ],
            [
             0.5,
             "#f7f7f7"
            ],
            [
             0.6,
             "#e6f5d0"
            ],
            [
             0.7,
             "#b8e186"
            ],
            [
             0.8,
             "#7fbc41"
            ],
            [
             0.9,
             "#4d9221"
            ],
            [
             1,
             "#276419"
            ]
           ],
           "sequential": [
            [
             0,
             "#0d0887"
            ],
            [
             0.1111111111111111,
             "#46039f"
            ],
            [
             0.2222222222222222,
             "#7201a8"
            ],
            [
             0.3333333333333333,
             "#9c179e"
            ],
            [
             0.4444444444444444,
             "#bd3786"
            ],
            [
             0.5555555555555556,
             "#d8576b"
            ],
            [
             0.6666666666666666,
             "#ed7953"
            ],
            [
             0.7777777777777778,
             "#fb9f3a"
            ],
            [
             0.8888888888888888,
             "#fdca26"
            ],
            [
             1,
             "#f0f921"
            ]
           ],
           "sequentialminus": [
            [
             0,
             "#0d0887"
            ],
            [
             0.1111111111111111,
             "#46039f"
            ],
            [
             0.2222222222222222,
             "#7201a8"
            ],
            [
             0.3333333333333333,
             "#9c179e"
            ],
            [
             0.4444444444444444,
             "#bd3786"
            ],
            [
             0.5555555555555556,
             "#d8576b"
            ],
            [
             0.6666666666666666,
             "#ed7953"
            ],
            [
             0.7777777777777778,
             "#fb9f3a"
            ],
            [
             0.8888888888888888,
             "#fdca26"
            ],
            [
             1,
             "#f0f921"
            ]
           ]
          },
          "colorway": [
           "#636efa",
           "#EF553B",
           "#00cc96",
           "#ab63fa",
           "#FFA15A",
           "#19d3f3",
           "#FF6692",
           "#B6E880",
           "#FF97FF",
           "#FECB52"
          ],
          "font": {
           "color": "#2a3f5f"
          },
          "geo": {
           "bgcolor": "white",
           "lakecolor": "white",
           "landcolor": "#E5ECF6",
           "showlakes": true,
           "showland": true,
           "subunitcolor": "white"
          },
          "hoverlabel": {
           "align": "left"
          },
          "hovermode": "closest",
          "mapbox": {
           "style": "light"
          },
          "paper_bgcolor": "white",
          "plot_bgcolor": "#E5ECF6",
          "polar": {
           "angularaxis": {
            "gridcolor": "white",
            "linecolor": "white",
            "ticks": ""
           },
           "bgcolor": "#E5ECF6",
           "radialaxis": {
            "gridcolor": "white",
            "linecolor": "white",
            "ticks": ""
           }
          },
          "scene": {
           "xaxis": {
            "backgroundcolor": "#E5ECF6",
            "gridcolor": "white",
            "gridwidth": 2,
            "linecolor": "white",
            "showbackground": true,
            "ticks": "",
            "zerolinecolor": "white"
           },
           "yaxis": {
            "backgroundcolor": "#E5ECF6",
            "gridcolor": "white",
            "gridwidth": 2,
            "linecolor": "white",
            "showbackground": true,
            "ticks": "",
            "zerolinecolor": "white"
           },
           "zaxis": {
            "backgroundcolor": "#E5ECF6",
            "gridcolor": "white",
            "gridwidth": 2,
            "linecolor": "white",
            "showbackground": true,
            "ticks": "",
            "zerolinecolor": "white"
           }
          },
          "shapedefaults": {
           "line": {
            "color": "#2a3f5f"
           }
          },
          "ternary": {
           "aaxis": {
            "gridcolor": "white",
            "linecolor": "white",
            "ticks": ""
           },
           "baxis": {
            "gridcolor": "white",
            "linecolor": "white",
            "ticks": ""
           },
           "bgcolor": "#E5ECF6",
           "caxis": {
            "gridcolor": "white",
            "linecolor": "white",
            "ticks": ""
           }
          },
          "title": {
           "x": 0.05
          },
          "xaxis": {
           "automargin": true,
           "gridcolor": "white",
           "linecolor": "white",
           "ticks": "",
           "title": {
            "standoff": 15
           },
           "zerolinecolor": "white",
           "zerolinewidth": 2
          },
          "yaxis": {
           "automargin": true,
           "gridcolor": "white",
           "linecolor": "white",
           "ticks": "",
           "title": {
            "standoff": 15
           },
           "zerolinecolor": "white",
           "zerolinewidth": 2
          }
         }
        }
       }
      },
      "text/html": [
       "<div>\n",
       "        \n",
       "        \n",
       "            <div id=\"8e5f09f4-1027-4006-a3dc-41479306db35\" class=\"plotly-graph-div\" style=\"height:525px; width:100%;\"></div>\n",
       "            <script type=\"text/javascript\">\n",
       "                require([\"plotly\"], function(Plotly) {\n",
       "                    window.PLOTLYENV=window.PLOTLYENV || {};\n",
       "                    \n",
       "                if (document.getElementById(\"8e5f09f4-1027-4006-a3dc-41479306db35\")) {\n",
       "                    Plotly.newPlot(\n",
       "                        '8e5f09f4-1027-4006-a3dc-41479306db35',\n",
       "                        [{\"colorbar\": {\"title\": {\"text\": \"Colorbar Title Goes Here\"}}, \"colorscale\": [[0.0, \"rgb(0,0,131)\"], [0.2, \"rgb(0,60,170)\"], [0.4, \"rgb(5,255,255)\"], [0.6, \"rgb(255,255,0)\"], [0.8, \"rgb(250,0,0)\"], [1.0, \"rgb(128,0,0)\"]], \"locationmode\": \"USA-states\", \"locations\": [\"AZ\", \"CA\", \"NY\", \"FL\"], \"text\": [\"Arizona\", \"California\", \"NewYork\", \"Florida\"], \"type\": \"choropleth\", \"z\": [1.0, 2.0, 3.0, 4.0]}],\n",
       "                        {\"geo\": {\"scope\": \"usa\"}, \"template\": {\"data\": {\"bar\": [{\"error_x\": {\"color\": \"#2a3f5f\"}, \"error_y\": {\"color\": \"#2a3f5f\"}, \"marker\": {\"line\": {\"color\": \"#E5ECF6\", \"width\": 0.5}}, \"type\": \"bar\"}], \"barpolar\": [{\"marker\": {\"line\": {\"color\": \"#E5ECF6\", \"width\": 0.5}}, \"type\": \"barpolar\"}], \"carpet\": [{\"aaxis\": {\"endlinecolor\": \"#2a3f5f\", \"gridcolor\": \"white\", \"linecolor\": \"white\", \"minorgridcolor\": \"white\", \"startlinecolor\": \"#2a3f5f\"}, \"baxis\": {\"endlinecolor\": \"#2a3f5f\", \"gridcolor\": \"white\", \"linecolor\": \"white\", \"minorgridcolor\": \"white\", \"startlinecolor\": \"#2a3f5f\"}, \"type\": \"carpet\"}], \"choropleth\": [{\"colorbar\": {\"outlinewidth\": 0, \"ticks\": \"\"}, \"type\": \"choropleth\"}], \"contour\": [{\"colorbar\": {\"outlinewidth\": 0, \"ticks\": \"\"}, \"colorscale\": [[0.0, \"#0d0887\"], [0.1111111111111111, \"#46039f\"], [0.2222222222222222, \"#7201a8\"], [0.3333333333333333, \"#9c179e\"], [0.4444444444444444, \"#bd3786\"], [0.5555555555555556, \"#d8576b\"], [0.6666666666666666, \"#ed7953\"], [0.7777777777777778, \"#fb9f3a\"], [0.8888888888888888, \"#fdca26\"], [1.0, \"#f0f921\"]], \"type\": \"contour\"}], \"contourcarpet\": [{\"colorbar\": {\"outlinewidth\": 0, \"ticks\": \"\"}, \"type\": \"contourcarpet\"}], \"heatmap\": [{\"colorbar\": {\"outlinewidth\": 0, \"ticks\": \"\"}, \"colorscale\": [[0.0, \"#0d0887\"], [0.1111111111111111, \"#46039f\"], [0.2222222222222222, \"#7201a8\"], [0.3333333333333333, \"#9c179e\"], [0.4444444444444444, \"#bd3786\"], [0.5555555555555556, \"#d8576b\"], [0.6666666666666666, \"#ed7953\"], [0.7777777777777778, \"#fb9f3a\"], [0.8888888888888888, \"#fdca26\"], [1.0, \"#f0f921\"]], \"type\": \"heatmap\"}], \"heatmapgl\": [{\"colorbar\": {\"outlinewidth\": 0, \"ticks\": \"\"}, \"colorscale\": [[0.0, \"#0d0887\"], [0.1111111111111111, \"#46039f\"], [0.2222222222222222, \"#7201a8\"], [0.3333333333333333, \"#9c179e\"], [0.4444444444444444, \"#bd3786\"], [0.5555555555555556, \"#d8576b\"], [0.6666666666666666, \"#ed7953\"], [0.7777777777777778, \"#fb9f3a\"], [0.8888888888888888, \"#fdca26\"], [1.0, \"#f0f921\"]], \"type\": \"heatmapgl\"}], \"histogram\": [{\"marker\": {\"colorbar\": {\"outlinewidth\": 0, \"ticks\": \"\"}}, \"type\": \"histogram\"}], \"histogram2d\": [{\"colorbar\": {\"outlinewidth\": 0, \"ticks\": \"\"}, \"colorscale\": [[0.0, \"#0d0887\"], [0.1111111111111111, \"#46039f\"], [0.2222222222222222, \"#7201a8\"], [0.3333333333333333, \"#9c179e\"], [0.4444444444444444, \"#bd3786\"], [0.5555555555555556, \"#d8576b\"], [0.6666666666666666, \"#ed7953\"], [0.7777777777777778, \"#fb9f3a\"], [0.8888888888888888, \"#fdca26\"], [1.0, \"#f0f921\"]], \"type\": \"histogram2d\"}], \"histogram2dcontour\": [{\"colorbar\": {\"outlinewidth\": 0, \"ticks\": \"\"}, \"colorscale\": [[0.0, \"#0d0887\"], [0.1111111111111111, \"#46039f\"], [0.2222222222222222, \"#7201a8\"], [0.3333333333333333, \"#9c179e\"], [0.4444444444444444, \"#bd3786\"], [0.5555555555555556, \"#d8576b\"], [0.6666666666666666, \"#ed7953\"], [0.7777777777777778, \"#fb9f3a\"], [0.8888888888888888, \"#fdca26\"], [1.0, \"#f0f921\"]], \"type\": \"histogram2dcontour\"}], \"mesh3d\": [{\"colorbar\": {\"outlinewidth\": 0, \"ticks\": \"\"}, \"type\": \"mesh3d\"}], \"parcoords\": [{\"line\": {\"colorbar\": {\"outlinewidth\": 0, \"ticks\": \"\"}}, \"type\": \"parcoords\"}], \"pie\": [{\"automargin\": true, \"type\": \"pie\"}], \"scatter\": [{\"marker\": {\"colorbar\": {\"outlinewidth\": 0, \"ticks\": \"\"}}, \"type\": \"scatter\"}], \"scatter3d\": [{\"line\": {\"colorbar\": {\"outlinewidth\": 0, \"ticks\": \"\"}}, \"marker\": {\"colorbar\": {\"outlinewidth\": 0, \"ticks\": \"\"}}, \"type\": \"scatter3d\"}], \"scattercarpet\": [{\"marker\": {\"colorbar\": {\"outlinewidth\": 0, \"ticks\": \"\"}}, \"type\": \"scattercarpet\"}], \"scattergeo\": [{\"marker\": {\"colorbar\": {\"outlinewidth\": 0, \"ticks\": \"\"}}, \"type\": \"scattergeo\"}], \"scattergl\": [{\"marker\": {\"colorbar\": {\"outlinewidth\": 0, \"ticks\": \"\"}}, \"type\": \"scattergl\"}], \"scattermapbox\": [{\"marker\": {\"colorbar\": {\"outlinewidth\": 0, \"ticks\": \"\"}}, \"type\": \"scattermapbox\"}], \"scatterpolar\": [{\"marker\": {\"colorbar\": {\"outlinewidth\": 0, \"ticks\": \"\"}}, \"type\": \"scatterpolar\"}], \"scatterpolargl\": [{\"marker\": {\"colorbar\": {\"outlinewidth\": 0, \"ticks\": \"\"}}, \"type\": \"scatterpolargl\"}], \"scatterternary\": [{\"marker\": {\"colorbar\": {\"outlinewidth\": 0, \"ticks\": \"\"}}, \"type\": \"scatterternary\"}], \"surface\": [{\"colorbar\": {\"outlinewidth\": 0, \"ticks\": \"\"}, \"colorscale\": [[0.0, \"#0d0887\"], [0.1111111111111111, \"#46039f\"], [0.2222222222222222, \"#7201a8\"], [0.3333333333333333, \"#9c179e\"], [0.4444444444444444, \"#bd3786\"], [0.5555555555555556, \"#d8576b\"], [0.6666666666666666, \"#ed7953\"], [0.7777777777777778, \"#fb9f3a\"], [0.8888888888888888, \"#fdca26\"], [1.0, \"#f0f921\"]], \"type\": \"surface\"}], \"table\": [{\"cells\": {\"fill\": {\"color\": \"#EBF0F8\"}, \"line\": {\"color\": \"white\"}}, \"header\": {\"fill\": {\"color\": \"#C8D4E3\"}, \"line\": {\"color\": \"white\"}}, \"type\": \"table\"}]}, \"layout\": {\"annotationdefaults\": {\"arrowcolor\": \"#2a3f5f\", \"arrowhead\": 0, \"arrowwidth\": 1}, \"coloraxis\": {\"colorbar\": {\"outlinewidth\": 0, \"ticks\": \"\"}}, \"colorscale\": {\"diverging\": [[0, \"#8e0152\"], [0.1, \"#c51b7d\"], [0.2, \"#de77ae\"], [0.3, \"#f1b6da\"], [0.4, \"#fde0ef\"], [0.5, \"#f7f7f7\"], [0.6, \"#e6f5d0\"], [0.7, \"#b8e186\"], [0.8, \"#7fbc41\"], [0.9, \"#4d9221\"], [1, \"#276419\"]], \"sequential\": [[0.0, \"#0d0887\"], [0.1111111111111111, \"#46039f\"], [0.2222222222222222, \"#7201a8\"], [0.3333333333333333, \"#9c179e\"], [0.4444444444444444, \"#bd3786\"], [0.5555555555555556, \"#d8576b\"], [0.6666666666666666, \"#ed7953\"], [0.7777777777777778, \"#fb9f3a\"], [0.8888888888888888, \"#fdca26\"], [1.0, \"#f0f921\"]], \"sequentialminus\": [[0.0, \"#0d0887\"], [0.1111111111111111, \"#46039f\"], [0.2222222222222222, \"#7201a8\"], [0.3333333333333333, \"#9c179e\"], [0.4444444444444444, \"#bd3786\"], [0.5555555555555556, \"#d8576b\"], [0.6666666666666666, \"#ed7953\"], [0.7777777777777778, \"#fb9f3a\"], [0.8888888888888888, \"#fdca26\"], [1.0, \"#f0f921\"]]}, \"colorway\": [\"#636efa\", \"#EF553B\", \"#00cc96\", \"#ab63fa\", \"#FFA15A\", \"#19d3f3\", \"#FF6692\", \"#B6E880\", \"#FF97FF\", \"#FECB52\"], \"font\": {\"color\": \"#2a3f5f\"}, \"geo\": {\"bgcolor\": \"white\", \"lakecolor\": \"white\", \"landcolor\": \"#E5ECF6\", \"showlakes\": true, \"showland\": true, \"subunitcolor\": \"white\"}, \"hoverlabel\": {\"align\": \"left\"}, \"hovermode\": \"closest\", \"mapbox\": {\"style\": \"light\"}, \"paper_bgcolor\": \"white\", \"plot_bgcolor\": \"#E5ECF6\", \"polar\": {\"angularaxis\": {\"gridcolor\": \"white\", \"linecolor\": \"white\", \"ticks\": \"\"}, \"bgcolor\": \"#E5ECF6\", \"radialaxis\": {\"gridcolor\": \"white\", \"linecolor\": \"white\", \"ticks\": \"\"}}, \"scene\": {\"xaxis\": {\"backgroundcolor\": \"#E5ECF6\", \"gridcolor\": \"white\", \"gridwidth\": 2, \"linecolor\": \"white\", \"showbackground\": true, \"ticks\": \"\", \"zerolinecolor\": \"white\"}, \"yaxis\": {\"backgroundcolor\": \"#E5ECF6\", \"gridcolor\": \"white\", \"gridwidth\": 2, \"linecolor\": \"white\", \"showbackground\": true, \"ticks\": \"\", \"zerolinecolor\": \"white\"}, \"zaxis\": {\"backgroundcolor\": \"#E5ECF6\", \"gridcolor\": \"white\", \"gridwidth\": 2, \"linecolor\": \"white\", \"showbackground\": true, \"ticks\": \"\", \"zerolinecolor\": \"white\"}}, \"shapedefaults\": {\"line\": {\"color\": \"#2a3f5f\"}}, \"ternary\": {\"aaxis\": {\"gridcolor\": \"white\", \"linecolor\": \"white\", \"ticks\": \"\"}, \"baxis\": {\"gridcolor\": \"white\", \"linecolor\": \"white\", \"ticks\": \"\"}, \"bgcolor\": \"#E5ECF6\", \"caxis\": {\"gridcolor\": \"white\", \"linecolor\": \"white\", \"ticks\": \"\"}}, \"title\": {\"x\": 0.05}, \"xaxis\": {\"automargin\": true, \"gridcolor\": \"white\", \"linecolor\": \"white\", \"ticks\": \"\", \"title\": {\"standoff\": 15}, \"zerolinecolor\": \"white\", \"zerolinewidth\": 2}, \"yaxis\": {\"automargin\": true, \"gridcolor\": \"white\", \"linecolor\": \"white\", \"ticks\": \"\", \"title\": {\"standoff\": 15}, \"zerolinecolor\": \"white\", \"zerolinewidth\": 2}}}},\n",
       "                        {\"responsive\": true}\n",
       "                    ).then(function(){\n",
       "                            \n",
       "var gd = document.getElementById('8e5f09f4-1027-4006-a3dc-41479306db35');\n",
       "var x = new MutationObserver(function (mutations, observer) {{\n",
       "        var display = window.getComputedStyle(gd).display;\n",
       "        if (!display || display === 'none') {{\n",
       "            console.log([gd, 'removed!']);\n",
       "            Plotly.purge(gd);\n",
       "            observer.disconnect();\n",
       "        }}\n",
       "}});\n",
       "\n",
       "// Listen for the removal of the full notebook cells\n",
       "var notebookContainer = gd.closest('#notebook-container');\n",
       "if (notebookContainer) {{\n",
       "    x.observe(notebookContainer, {childList: true});\n",
       "}}\n",
       "\n",
       "// Listen for the clearing of the current output cell\n",
       "var outputEl = gd.closest('.output');\n",
       "if (outputEl) {{\n",
       "    x.observe(outputEl, {childList: true});\n",
       "}}\n",
       "\n",
       "                        })\n",
       "                };\n",
       "                });\n",
       "            </script>\n",
       "        </div>"
      ]
     },
     "metadata": {},
     "output_type": "display_data"
    }
   ],
   "source": [
    "iplot(choromap)\n",
    "#plot(choromap) creates an html file"
   ]
  },
  {
   "cell_type": "code",
   "execution_count": 35,
   "metadata": {},
   "outputs": [],
   "source": [
    "import pandas as pd\n",
    "df = pd.read_csv('2011_US_AGRI_Exports-Copy1')"
   ]
  },
  {
   "cell_type": "code",
   "execution_count": 36,
   "metadata": {},
   "outputs": [
    {
     "data": {
      "text/html": [
       "<div>\n",
       "<style scoped>\n",
       "    .dataframe tbody tr th:only-of-type {\n",
       "        vertical-align: middle;\n",
       "    }\n",
       "\n",
       "    .dataframe tbody tr th {\n",
       "        vertical-align: top;\n",
       "    }\n",
       "\n",
       "    .dataframe thead th {\n",
       "        text-align: right;\n",
       "    }\n",
       "</style>\n",
       "<table border=\"1\" class=\"dataframe\">\n",
       "  <thead>\n",
       "    <tr style=\"text-align: right;\">\n",
       "      <th></th>\n",
       "      <th>code</th>\n",
       "      <th>state</th>\n",
       "      <th>category</th>\n",
       "      <th>total exports</th>\n",
       "      <th>beef</th>\n",
       "      <th>pork</th>\n",
       "      <th>poultry</th>\n",
       "      <th>dairy</th>\n",
       "      <th>fruits fresh</th>\n",
       "      <th>fruits proc</th>\n",
       "      <th>total fruits</th>\n",
       "      <th>veggies fresh</th>\n",
       "      <th>veggies proc</th>\n",
       "      <th>total veggies</th>\n",
       "      <th>corn</th>\n",
       "      <th>wheat</th>\n",
       "      <th>cotton</th>\n",
       "      <th>text</th>\n",
       "    </tr>\n",
       "  </thead>\n",
       "  <tbody>\n",
       "    <tr>\n",
       "      <td>0</td>\n",
       "      <td>AL</td>\n",
       "      <td>Alabama</td>\n",
       "      <td>state</td>\n",
       "      <td>1390.63</td>\n",
       "      <td>34.4</td>\n",
       "      <td>10.6</td>\n",
       "      <td>481.0</td>\n",
       "      <td>4.06</td>\n",
       "      <td>8.0</td>\n",
       "      <td>17.1</td>\n",
       "      <td>25.11</td>\n",
       "      <td>5.5</td>\n",
       "      <td>8.9</td>\n",
       "      <td>14.33</td>\n",
       "      <td>34.9</td>\n",
       "      <td>70.0</td>\n",
       "      <td>317.61</td>\n",
       "      <td>Alabama&lt;br&gt;Beef 34.4 Dairy 4.06&lt;br&gt;Fruits 25.1...</td>\n",
       "    </tr>\n",
       "    <tr>\n",
       "      <td>1</td>\n",
       "      <td>AK</td>\n",
       "      <td>Alaska</td>\n",
       "      <td>state</td>\n",
       "      <td>13.31</td>\n",
       "      <td>0.2</td>\n",
       "      <td>0.1</td>\n",
       "      <td>0.0</td>\n",
       "      <td>0.19</td>\n",
       "      <td>0.0</td>\n",
       "      <td>0.0</td>\n",
       "      <td>0.00</td>\n",
       "      <td>0.6</td>\n",
       "      <td>1.0</td>\n",
       "      <td>1.56</td>\n",
       "      <td>0.0</td>\n",
       "      <td>0.0</td>\n",
       "      <td>0.00</td>\n",
       "      <td>Alaska&lt;br&gt;Beef 0.2 Dairy 0.19&lt;br&gt;Fruits 0.0 Ve...</td>\n",
       "    </tr>\n",
       "    <tr>\n",
       "      <td>2</td>\n",
       "      <td>AZ</td>\n",
       "      <td>Arizona</td>\n",
       "      <td>state</td>\n",
       "      <td>1463.17</td>\n",
       "      <td>71.3</td>\n",
       "      <td>17.9</td>\n",
       "      <td>0.0</td>\n",
       "      <td>105.48</td>\n",
       "      <td>19.3</td>\n",
       "      <td>41.0</td>\n",
       "      <td>60.27</td>\n",
       "      <td>147.5</td>\n",
       "      <td>239.4</td>\n",
       "      <td>386.91</td>\n",
       "      <td>7.3</td>\n",
       "      <td>48.7</td>\n",
       "      <td>423.95</td>\n",
       "      <td>Arizona&lt;br&gt;Beef 71.3 Dairy 105.48&lt;br&gt;Fruits 60...</td>\n",
       "    </tr>\n",
       "    <tr>\n",
       "      <td>3</td>\n",
       "      <td>AR</td>\n",
       "      <td>Arkansas</td>\n",
       "      <td>state</td>\n",
       "      <td>3586.02</td>\n",
       "      <td>53.2</td>\n",
       "      <td>29.4</td>\n",
       "      <td>562.9</td>\n",
       "      <td>3.53</td>\n",
       "      <td>2.2</td>\n",
       "      <td>4.7</td>\n",
       "      <td>6.88</td>\n",
       "      <td>4.4</td>\n",
       "      <td>7.1</td>\n",
       "      <td>11.45</td>\n",
       "      <td>69.5</td>\n",
       "      <td>114.5</td>\n",
       "      <td>665.44</td>\n",
       "      <td>Arkansas&lt;br&gt;Beef 53.2 Dairy 3.53&lt;br&gt;Fruits 6.8...</td>\n",
       "    </tr>\n",
       "    <tr>\n",
       "      <td>4</td>\n",
       "      <td>CA</td>\n",
       "      <td>California</td>\n",
       "      <td>state</td>\n",
       "      <td>16472.88</td>\n",
       "      <td>228.7</td>\n",
       "      <td>11.1</td>\n",
       "      <td>225.4</td>\n",
       "      <td>929.95</td>\n",
       "      <td>2791.8</td>\n",
       "      <td>5944.6</td>\n",
       "      <td>8736.40</td>\n",
       "      <td>803.2</td>\n",
       "      <td>1303.5</td>\n",
       "      <td>2106.79</td>\n",
       "      <td>34.6</td>\n",
       "      <td>249.3</td>\n",
       "      <td>1064.95</td>\n",
       "      <td>California&lt;br&gt;Beef 228.7 Dairy 929.95&lt;br&gt;Frui...</td>\n",
       "    </tr>\n",
       "  </tbody>\n",
       "</table>\n",
       "</div>"
      ],
      "text/plain": [
       "  code        state category  total exports   beef  pork  poultry   dairy  \\\n",
       "0   AL      Alabama    state        1390.63   34.4  10.6    481.0    4.06   \n",
       "1   AK       Alaska    state          13.31    0.2   0.1      0.0    0.19   \n",
       "2   AZ      Arizona    state        1463.17   71.3  17.9      0.0  105.48   \n",
       "3   AR     Arkansas    state        3586.02   53.2  29.4    562.9    3.53   \n",
       "4   CA   California    state       16472.88  228.7  11.1    225.4  929.95   \n",
       "\n",
       "   fruits fresh  fruits proc  total fruits  veggies fresh  veggies proc  \\\n",
       "0           8.0         17.1         25.11            5.5           8.9   \n",
       "1           0.0          0.0          0.00            0.6           1.0   \n",
       "2          19.3         41.0         60.27          147.5         239.4   \n",
       "3           2.2          4.7          6.88            4.4           7.1   \n",
       "4        2791.8       5944.6       8736.40          803.2        1303.5   \n",
       "\n",
       "   total veggies  corn  wheat   cotton  \\\n",
       "0          14.33  34.9   70.0   317.61   \n",
       "1           1.56   0.0    0.0     0.00   \n",
       "2         386.91   7.3   48.7   423.95   \n",
       "3          11.45  69.5  114.5   665.44   \n",
       "4        2106.79  34.6  249.3  1064.95   \n",
       "\n",
       "                                                text  \n",
       "0  Alabama<br>Beef 34.4 Dairy 4.06<br>Fruits 25.1...  \n",
       "1  Alaska<br>Beef 0.2 Dairy 0.19<br>Fruits 0.0 Ve...  \n",
       "2  Arizona<br>Beef 71.3 Dairy 105.48<br>Fruits 60...  \n",
       "3  Arkansas<br>Beef 53.2 Dairy 3.53<br>Fruits 6.8...  \n",
       "4   California<br>Beef 228.7 Dairy 929.95<br>Frui...  "
      ]
     },
     "execution_count": 36,
     "metadata": {},
     "output_type": "execute_result"
    }
   ],
   "source": [
    "df.head()"
   ]
  },
  {
   "cell_type": "code",
   "execution_count": 71,
   "metadata": {},
   "outputs": [
    {
     "ename": "KeyError",
     "evalue": "'code'",
     "output_type": "error",
     "traceback": [
      "\u001b[0;31m---------------------------------------------------------------------------\u001b[0m",
      "\u001b[0;31mKeyError\u001b[0m                                  Traceback (most recent call last)",
      "\u001b[0;32m/opt/anaconda3/lib/python3.7/site-packages/pandas/core/indexes/base.py\u001b[0m in \u001b[0;36mget_loc\u001b[0;34m(self, key, method, tolerance)\u001b[0m\n\u001b[1;32m   2896\u001b[0m             \u001b[0;32mtry\u001b[0m\u001b[0;34m:\u001b[0m\u001b[0;34m\u001b[0m\u001b[0;34m\u001b[0m\u001b[0m\n\u001b[0;32m-> 2897\u001b[0;31m                 \u001b[0;32mreturn\u001b[0m \u001b[0mself\u001b[0m\u001b[0;34m.\u001b[0m\u001b[0m_engine\u001b[0m\u001b[0;34m.\u001b[0m\u001b[0mget_loc\u001b[0m\u001b[0;34m(\u001b[0m\u001b[0mkey\u001b[0m\u001b[0;34m)\u001b[0m\u001b[0;34m\u001b[0m\u001b[0;34m\u001b[0m\u001b[0m\n\u001b[0m\u001b[1;32m   2898\u001b[0m             \u001b[0;32mexcept\u001b[0m \u001b[0mKeyError\u001b[0m\u001b[0;34m:\u001b[0m\u001b[0;34m\u001b[0m\u001b[0;34m\u001b[0m\u001b[0m\n",
      "\u001b[0;32mpandas/_libs/index.pyx\u001b[0m in \u001b[0;36mpandas._libs.index.IndexEngine.get_loc\u001b[0;34m()\u001b[0m\n",
      "\u001b[0;32mpandas/_libs/index.pyx\u001b[0m in \u001b[0;36mpandas._libs.index.IndexEngine.get_loc\u001b[0;34m()\u001b[0m\n",
      "\u001b[0;32mpandas/_libs/hashtable_class_helper.pxi\u001b[0m in \u001b[0;36mpandas._libs.hashtable.PyObjectHashTable.get_item\u001b[0;34m()\u001b[0m\n",
      "\u001b[0;32mpandas/_libs/hashtable_class_helper.pxi\u001b[0m in \u001b[0;36mpandas._libs.hashtable.PyObjectHashTable.get_item\u001b[0;34m()\u001b[0m\n",
      "\u001b[0;31mKeyError\u001b[0m: 'code'",
      "\nDuring handling of the above exception, another exception occurred:\n",
      "\u001b[0;31mKeyError\u001b[0m                                  Traceback (most recent call last)",
      "\u001b[0;32m<ipython-input-71-1a8ab2e1d8dc>\u001b[0m in \u001b[0;36m<module>\u001b[0;34m\u001b[0m\n\u001b[1;32m      1\u001b[0m data = dict(type='choropleth',\n\u001b[1;32m      2\u001b[0m            \u001b[0mcolorscale\u001b[0m\u001b[0;34m=\u001b[0m\u001b[0;34m'ylorrd'\u001b[0m\u001b[0;34m,\u001b[0m\u001b[0;34m\u001b[0m\u001b[0;34m\u001b[0m\u001b[0m\n\u001b[0;32m----> 3\u001b[0;31m            \u001b[0mlocations\u001b[0m\u001b[0;34m=\u001b[0m\u001b[0mdf\u001b[0m\u001b[0;34m[\u001b[0m\u001b[0;34m'code'\u001b[0m\u001b[0;34m]\u001b[0m\u001b[0;34m,\u001b[0m\u001b[0;34m\u001b[0m\u001b[0;34m\u001b[0m\u001b[0m\n\u001b[0m\u001b[1;32m      4\u001b[0m            \u001b[0mlocationmode\u001b[0m\u001b[0;34m=\u001b[0m\u001b[0;34m'USA-states'\u001b[0m\u001b[0;34m,\u001b[0m\u001b[0;34m\u001b[0m\u001b[0;34m\u001b[0m\u001b[0m\n\u001b[1;32m      5\u001b[0m            \u001b[0mz\u001b[0m\u001b[0;34m=\u001b[0m\u001b[0mdf\u001b[0m\u001b[0;34m[\u001b[0m\u001b[0;34m'total exports'\u001b[0m\u001b[0;34m]\u001b[0m\u001b[0;34m,\u001b[0m\u001b[0;34m\u001b[0m\u001b[0;34m\u001b[0m\u001b[0m\n",
      "\u001b[0;32m/opt/anaconda3/lib/python3.7/site-packages/pandas/core/frame.py\u001b[0m in \u001b[0;36m__getitem__\u001b[0;34m(self, key)\u001b[0m\n\u001b[1;32m   2978\u001b[0m             \u001b[0;32mif\u001b[0m \u001b[0mself\u001b[0m\u001b[0;34m.\u001b[0m\u001b[0mcolumns\u001b[0m\u001b[0;34m.\u001b[0m\u001b[0mnlevels\u001b[0m \u001b[0;34m>\u001b[0m \u001b[0;36m1\u001b[0m\u001b[0;34m:\u001b[0m\u001b[0;34m\u001b[0m\u001b[0;34m\u001b[0m\u001b[0m\n\u001b[1;32m   2979\u001b[0m                 \u001b[0;32mreturn\u001b[0m \u001b[0mself\u001b[0m\u001b[0;34m.\u001b[0m\u001b[0m_getitem_multilevel\u001b[0m\u001b[0;34m(\u001b[0m\u001b[0mkey\u001b[0m\u001b[0;34m)\u001b[0m\u001b[0;34m\u001b[0m\u001b[0;34m\u001b[0m\u001b[0m\n\u001b[0;32m-> 2980\u001b[0;31m             \u001b[0mindexer\u001b[0m \u001b[0;34m=\u001b[0m \u001b[0mself\u001b[0m\u001b[0;34m.\u001b[0m\u001b[0mcolumns\u001b[0m\u001b[0;34m.\u001b[0m\u001b[0mget_loc\u001b[0m\u001b[0;34m(\u001b[0m\u001b[0mkey\u001b[0m\u001b[0;34m)\u001b[0m\u001b[0;34m\u001b[0m\u001b[0;34m\u001b[0m\u001b[0m\n\u001b[0m\u001b[1;32m   2981\u001b[0m             \u001b[0;32mif\u001b[0m \u001b[0mis_integer\u001b[0m\u001b[0;34m(\u001b[0m\u001b[0mindexer\u001b[0m\u001b[0;34m)\u001b[0m\u001b[0;34m:\u001b[0m\u001b[0;34m\u001b[0m\u001b[0;34m\u001b[0m\u001b[0m\n\u001b[1;32m   2982\u001b[0m                 \u001b[0mindexer\u001b[0m \u001b[0;34m=\u001b[0m \u001b[0;34m[\u001b[0m\u001b[0mindexer\u001b[0m\u001b[0;34m]\u001b[0m\u001b[0;34m\u001b[0m\u001b[0;34m\u001b[0m\u001b[0m\n",
      "\u001b[0;32m/opt/anaconda3/lib/python3.7/site-packages/pandas/core/indexes/base.py\u001b[0m in \u001b[0;36mget_loc\u001b[0;34m(self, key, method, tolerance)\u001b[0m\n\u001b[1;32m   2897\u001b[0m                 \u001b[0;32mreturn\u001b[0m \u001b[0mself\u001b[0m\u001b[0;34m.\u001b[0m\u001b[0m_engine\u001b[0m\u001b[0;34m.\u001b[0m\u001b[0mget_loc\u001b[0m\u001b[0;34m(\u001b[0m\u001b[0mkey\u001b[0m\u001b[0;34m)\u001b[0m\u001b[0;34m\u001b[0m\u001b[0;34m\u001b[0m\u001b[0m\n\u001b[1;32m   2898\u001b[0m             \u001b[0;32mexcept\u001b[0m \u001b[0mKeyError\u001b[0m\u001b[0;34m:\u001b[0m\u001b[0;34m\u001b[0m\u001b[0;34m\u001b[0m\u001b[0m\n\u001b[0;32m-> 2899\u001b[0;31m                 \u001b[0;32mreturn\u001b[0m \u001b[0mself\u001b[0m\u001b[0;34m.\u001b[0m\u001b[0m_engine\u001b[0m\u001b[0;34m.\u001b[0m\u001b[0mget_loc\u001b[0m\u001b[0;34m(\u001b[0m\u001b[0mself\u001b[0m\u001b[0;34m.\u001b[0m\u001b[0m_maybe_cast_indexer\u001b[0m\u001b[0;34m(\u001b[0m\u001b[0mkey\u001b[0m\u001b[0;34m)\u001b[0m\u001b[0;34m)\u001b[0m\u001b[0;34m\u001b[0m\u001b[0;34m\u001b[0m\u001b[0m\n\u001b[0m\u001b[1;32m   2900\u001b[0m         \u001b[0mindexer\u001b[0m \u001b[0;34m=\u001b[0m \u001b[0mself\u001b[0m\u001b[0;34m.\u001b[0m\u001b[0mget_indexer\u001b[0m\u001b[0;34m(\u001b[0m\u001b[0;34m[\u001b[0m\u001b[0mkey\u001b[0m\u001b[0;34m]\u001b[0m\u001b[0;34m,\u001b[0m \u001b[0mmethod\u001b[0m\u001b[0;34m=\u001b[0m\u001b[0mmethod\u001b[0m\u001b[0;34m,\u001b[0m \u001b[0mtolerance\u001b[0m\u001b[0;34m=\u001b[0m\u001b[0mtolerance\u001b[0m\u001b[0;34m)\u001b[0m\u001b[0;34m\u001b[0m\u001b[0;34m\u001b[0m\u001b[0m\n\u001b[1;32m   2901\u001b[0m         \u001b[0;32mif\u001b[0m \u001b[0mindexer\u001b[0m\u001b[0;34m.\u001b[0m\u001b[0mndim\u001b[0m \u001b[0;34m>\u001b[0m \u001b[0;36m1\u001b[0m \u001b[0;32mor\u001b[0m \u001b[0mindexer\u001b[0m\u001b[0;34m.\u001b[0m\u001b[0msize\u001b[0m \u001b[0;34m>\u001b[0m \u001b[0;36m1\u001b[0m\u001b[0;34m:\u001b[0m\u001b[0;34m\u001b[0m\u001b[0;34m\u001b[0m\u001b[0m\n",
      "\u001b[0;32mpandas/_libs/index.pyx\u001b[0m in \u001b[0;36mpandas._libs.index.IndexEngine.get_loc\u001b[0;34m()\u001b[0m\n",
      "\u001b[0;32mpandas/_libs/index.pyx\u001b[0m in \u001b[0;36mpandas._libs.index.IndexEngine.get_loc\u001b[0;34m()\u001b[0m\n",
      "\u001b[0;32mpandas/_libs/hashtable_class_helper.pxi\u001b[0m in \u001b[0;36mpandas._libs.hashtable.PyObjectHashTable.get_item\u001b[0;34m()\u001b[0m\n",
      "\u001b[0;32mpandas/_libs/hashtable_class_helper.pxi\u001b[0m in \u001b[0;36mpandas._libs.hashtable.PyObjectHashTable.get_item\u001b[0;34m()\u001b[0m\n",
      "\u001b[0;31mKeyError\u001b[0m: 'code'"
     ]
    }
   ],
   "source": [
    "data = dict(type='choropleth',\n",
    "           colorscale='ylorrd',\n",
    "           locations=df['code'],\n",
    "           locationmode='USA-states',\n",
    "           z=df['total exports'],\n",
    "           text=df['text'],\n",
    "            marker=dict(line=dict(color='rgb(2555,255,255)',width=2)),\n",
    "           colorbar={'title':'Millions USD'})"
   ]
  },
  {
   "cell_type": "code",
   "execution_count": 72,
   "metadata": {},
   "outputs": [],
   "source": [
    "layout = dict(title='2011 US Agriculture Exports by State',\n",
    "             geo=dict(scope='usa',showlakes=True,lakecolor='rgb(85,173,240)'))"
   ]
  },
  {
   "cell_type": "code",
   "execution_count": 69,
   "metadata": {},
   "outputs": [],
   "source": [
    "choromap2 = go.Figure(data=[data],layout=layout)"
   ]
  },
  {
   "cell_type": "code",
   "execution_count": 70,
   "metadata": {},
   "outputs": [
    {
     "data": {
      "application/vnd.plotly.v1+json": {
       "config": {
        "linkText": "Export to plot.ly",
        "plotlyServerURL": "https://plot.ly",
        "showLink": false
       },
       "data": [
        {
         "colorbar": {
          "title": {
           "text": "GDP in Billions USD"
          }
         },
         "locations": [
          "AFG",
          "ALB",
          "DZA",
          "ASM",
          "AND",
          "AGO",
          "AIA",
          "ATG",
          "ARG",
          "ARM",
          "ABW",
          "AUS",
          "AUT",
          "AZE",
          "BHM",
          "BHR",
          "BGD",
          "BRB",
          "BLR",
          "BEL",
          "BLZ",
          "BEN",
          "BMU",
          "BTN",
          "BOL",
          "BIH",
          "BWA",
          "BRA",
          "VGB",
          "BRN",
          "BGR",
          "BFA",
          "MMR",
          "BDI",
          "CPV",
          "KHM",
          "CMR",
          "CAN",
          "CYM",
          "CAF",
          "TCD",
          "CHL",
          "CHN",
          "COL",
          "COM",
          "COD",
          "COG",
          "COK",
          "CRI",
          "CIV",
          "HRV",
          "CUB",
          "CUW",
          "CYP",
          "CZE",
          "DNK",
          "DJI",
          "DMA",
          "DOM",
          "ECU",
          "EGY",
          "SLV",
          "GNQ",
          "ERI",
          "EST",
          "ETH",
          "FLK",
          "FRO",
          "FJI",
          "FIN",
          "FRA",
          "PYF",
          "GAB",
          "GMB",
          "GEO",
          "DEU",
          "GHA",
          "GIB",
          "GRC",
          "GRL",
          "GRD",
          "GUM",
          "GTM",
          "GGY",
          "GNB",
          "GIN",
          "GUY",
          "HTI",
          "HND",
          "HKG",
          "HUN",
          "ISL",
          "IND",
          "IDN",
          "IRN",
          "IRQ",
          "IRL",
          "IMN",
          "ISR",
          "ITA",
          "JAM",
          "JPN",
          "JEY",
          "JOR",
          "KAZ",
          "KEN",
          "KIR",
          "KOR",
          "PRK",
          "KSV",
          "KWT",
          "KGZ",
          "LAO",
          "LVA",
          "LBN",
          "LSO",
          "LBR",
          "LBY",
          "LIE",
          "LTU",
          "LUX",
          "MAC",
          "MKD",
          "MDG",
          "MWI",
          "MYS",
          "MDV",
          "MLI",
          "MLT",
          "MHL",
          "MRT",
          "MUS",
          "MEX",
          "FSM",
          "MDA",
          "MCO",
          "MNG",
          "MNE",
          "MAR",
          "MOZ",
          "NAM",
          "NPL",
          "NLD",
          "NCL",
          "NZL",
          "NIC",
          "NGA",
          "NER",
          "NIU",
          "MNP",
          "NOR",
          "OMN",
          "PAK",
          "PLW",
          "PAN",
          "PNG",
          "PRY",
          "PER",
          "PHL",
          "POL",
          "PRT",
          "PRI",
          "QAT",
          "ROU",
          "RUS",
          "RWA",
          "KNA",
          "LCA",
          "MAF",
          "SPM",
          "VCT",
          "WSM",
          "SMR",
          "STP",
          "SAU",
          "SEN",
          "SRB",
          "SYC",
          "SLE",
          "SGP",
          "SXM",
          "SVK",
          "SVN",
          "SLB",
          "SOM",
          "ZAF",
          "SSD",
          "ESP",
          "LKA",
          "SDN",
          "SUR",
          "SWZ",
          "SWE",
          "CHE",
          "SYR",
          "TWN",
          "TJK",
          "TZA",
          "THA",
          "TLS",
          "TGO",
          "TON",
          "TTO",
          "TUN",
          "TUR",
          "TKM",
          "TUV",
          "UGA",
          "UKR",
          "ARE",
          "GBR",
          "USA",
          "URY",
          "UZB",
          "VUT",
          "VEN",
          "VNM",
          "VGB",
          "WBG",
          "YEM",
          "ZMB",
          "ZWE"
         ],
         "text": [
          "Afghanistan",
          "Albania",
          "Algeria",
          "American Samoa",
          "Andorra",
          "Angola",
          "Anguilla",
          "Antigua and Barbuda",
          "Argentina",
          "Armenia",
          "Aruba",
          "Australia",
          "Austria",
          "Azerbaijan",
          "Bahamas, The",
          "Bahrain",
          "Bangladesh",
          "Barbados",
          "Belarus",
          "Belgium",
          "Belize",
          "Benin",
          "Bermuda",
          "Bhutan",
          "Bolivia",
          "Bosnia and Herzegovina",
          "Botswana",
          "Brazil",
          "British Virgin Islands",
          "Brunei",
          "Bulgaria",
          "Burkina Faso",
          "Burma",
          "Burundi",
          "Cabo Verde",
          "Cambodia",
          "Cameroon",
          "Canada",
          "Cayman Islands",
          "Central African Republic",
          "Chad",
          "Chile",
          "China",
          "Colombia",
          "Comoros",
          "Congo, Democratic Republic of the",
          "Congo, Republic of the",
          "Cook Islands",
          "Costa Rica",
          "Cote d'Ivoire",
          "Croatia",
          "Cuba",
          "Curacao",
          "Cyprus",
          "Czech Republic",
          "Denmark",
          "Djibouti",
          "Dominica",
          "Dominican Republic",
          "Ecuador",
          "Egypt",
          "El Salvador",
          "Equatorial Guinea",
          "Eritrea",
          "Estonia",
          "Ethiopia",
          "Falkland Islands (Islas Malvinas)",
          "Faroe Islands",
          "Fiji",
          "Finland",
          "France",
          "French Polynesia",
          "Gabon",
          "Gambia, The",
          "Georgia",
          "Germany",
          "Ghana",
          "Gibraltar",
          "Greece",
          "Greenland",
          "Grenada",
          "Guam",
          "Guatemala",
          "Guernsey",
          "Guinea-Bissau",
          "Guinea",
          "Guyana",
          "Haiti",
          "Honduras",
          "Hong Kong",
          "Hungary",
          "Iceland",
          "India",
          "Indonesia",
          "Iran",
          "Iraq",
          "Ireland",
          "Isle of Man",
          "Israel",
          "Italy",
          "Jamaica",
          "Japan",
          "Jersey",
          "Jordan",
          "Kazakhstan",
          "Kenya",
          "Kiribati",
          "Korea, North",
          "Korea, South",
          "Kosovo",
          "Kuwait",
          "Kyrgyzstan",
          "Laos",
          "Latvia",
          "Lebanon",
          "Lesotho",
          "Liberia",
          "Libya",
          "Liechtenstein",
          "Lithuania",
          "Luxembourg",
          "Macau",
          "Macedonia",
          "Madagascar",
          "Malawi",
          "Malaysia",
          "Maldives",
          "Mali",
          "Malta",
          "Marshall Islands",
          "Mauritania",
          "Mauritius",
          "Mexico",
          "Micronesia, Federated States of",
          "Moldova",
          "Monaco",
          "Mongolia",
          "Montenegro",
          "Morocco",
          "Mozambique",
          "Namibia",
          "Nepal",
          "Netherlands",
          "New Caledonia",
          "New Zealand",
          "Nicaragua",
          "Nigeria",
          "Niger",
          "Niue",
          "Northern Mariana Islands",
          "Norway",
          "Oman",
          "Pakistan",
          "Palau",
          "Panama",
          "Papua New Guinea",
          "Paraguay",
          "Peru",
          "Philippines",
          "Poland",
          "Portugal",
          "Puerto Rico",
          "Qatar",
          "Romania",
          "Russia",
          "Rwanda",
          "Saint Kitts and Nevis",
          "Saint Lucia",
          "Saint Martin",
          "Saint Pierre and Miquelon",
          "Saint Vincent and the Grenadines",
          "Samoa",
          "San Marino",
          "Sao Tome and Principe",
          "Saudi Arabia",
          "Senegal",
          "Serbia",
          "Seychelles",
          "Sierra Leone",
          "Singapore",
          "Sint Maarten",
          "Slovakia",
          "Slovenia",
          "Solomon Islands",
          "Somalia",
          "South Africa",
          "South Sudan",
          "Spain",
          "Sri Lanka",
          "Sudan",
          "Suriname",
          "Swaziland",
          "Sweden",
          "Switzerland",
          "Syria",
          "Taiwan",
          "Tajikistan",
          "Tanzania",
          "Thailand",
          "Timor-Leste",
          "Togo",
          "Tonga",
          "Trinidad and Tobago",
          "Tunisia",
          "Turkey",
          "Turkmenistan",
          "Tuvalu",
          "Uganda",
          "Ukraine",
          "United Arab Emirates",
          "United Kingdom",
          "United States",
          "Uruguay",
          "Uzbekistan",
          "Vanuatu",
          "Venezuela",
          "Vietnam",
          "Virgin Islands",
          "West Bank",
          "Yemen",
          "Zambia",
          "Zimbabwe"
         ],
         "type": "choropleth",
         "z": [
          21.71,
          13.4,
          227.8,
          0.75,
          4.8,
          131.4,
          0.18,
          1.24,
          536.2,
          10.88,
          2.52,
          1483,
          436.1,
          77.91,
          8.65,
          34.05,
          186.6,
          4.28,
          75.25,
          527.8,
          1.67,
          9.24,
          5.2,
          2.09,
          34.08,
          19.55,
          16.3,
          2244,
          1.1,
          17.43,
          55.08,
          13.38,
          65.29,
          3.04,
          1.98,
          16.9,
          32.16,
          1794,
          2.25,
          1.73,
          15.84,
          264.1,
          10360,
          400.1,
          0.72,
          32.67,
          14.11,
          0.18,
          50.46,
          33.96,
          57.18,
          77.15,
          5.6,
          21.34,
          205.6,
          347.2,
          1.58,
          0.51,
          64.05,
          100.5,
          284.9,
          25.14,
          15.4,
          3.87,
          26.36,
          49.86,
          0.16,
          2.32,
          4.17,
          276.3,
          2902,
          7.15,
          20.68,
          0.92,
          16.13,
          3820,
          35.48,
          1.85,
          246.4,
          2.16,
          0.84,
          4.6,
          58.3,
          2.74,
          1.04,
          6.77,
          3.14,
          8.92,
          19.37,
          292.7,
          129.7,
          16.2,
          2048,
          856.1,
          402.7,
          232.2,
          245.8,
          4.08,
          305,
          2129,
          13.92,
          4770,
          5.77,
          36.55,
          225.6,
          62.72,
          0.16,
          28,
          1410,
          5.99,
          179.3,
          7.65,
          11.71,
          32.82,
          47.5,
          2.46,
          2.07,
          49.34,
          5.11,
          48.72,
          63.93,
          51.68,
          10.92,
          11.19,
          4.41,
          336.9,
          2.41,
          12.04,
          10.57,
          0.18,
          4.29,
          12.72,
          1296,
          0.34,
          7.74,
          6.06,
          11.73,
          4.66,
          112.6,
          16.59,
          13.11,
          19.64,
          880.4,
          11.1,
          201,
          11.85,
          594.3,
          8.29,
          0.01,
          1.23,
          511.6,
          80.54,
          237.5,
          0.65,
          44.69,
          16.1,
          31.3,
          208.2,
          284.6,
          552.2,
          228.2,
          93.52,
          212,
          199,
          2057,
          8,
          0.81,
          1.35,
          0.56,
          0.22,
          0.75,
          0.83,
          1.86,
          0.36,
          777.9,
          15.88,
          42.65,
          1.47,
          5.41,
          307.9,
          304.1,
          99.75,
          49.93,
          1.16,
          2.37,
          341.2,
          11.89,
          1400,
          71.57,
          70.03,
          5.27,
          3.84,
          559.1,
          679,
          64.7,
          529.5,
          9.16,
          36.62,
          373.8,
          4.51,
          4.84,
          0.49,
          29.63,
          49.12,
          813.3,
          43.5,
          0.04,
          26.09,
          134.9,
          416.4,
          2848,
          17420,
          55.6,
          63.08,
          0.82,
          209.2,
          187.8,
          5.08,
          6.64,
          45.45,
          25.61,
          13.74
         ]
        }
       ],
       "layout": {
        "geo": {
         "lakecolor": "rgb(85,173,240)",
         "scope": "usa",
         "showlakes": true
        },
        "template": {
         "data": {
          "bar": [
           {
            "error_x": {
             "color": "#2a3f5f"
            },
            "error_y": {
             "color": "#2a3f5f"
            },
            "marker": {
             "line": {
              "color": "#E5ECF6",
              "width": 0.5
             }
            },
            "type": "bar"
           }
          ],
          "barpolar": [
           {
            "marker": {
             "line": {
              "color": "#E5ECF6",
              "width": 0.5
             }
            },
            "type": "barpolar"
           }
          ],
          "carpet": [
           {
            "aaxis": {
             "endlinecolor": "#2a3f5f",
             "gridcolor": "white",
             "linecolor": "white",
             "minorgridcolor": "white",
             "startlinecolor": "#2a3f5f"
            },
            "baxis": {
             "endlinecolor": "#2a3f5f",
             "gridcolor": "white",
             "linecolor": "white",
             "minorgridcolor": "white",
             "startlinecolor": "#2a3f5f"
            },
            "type": "carpet"
           }
          ],
          "choropleth": [
           {
            "colorbar": {
             "outlinewidth": 0,
             "ticks": ""
            },
            "type": "choropleth"
           }
          ],
          "contour": [
           {
            "colorbar": {
             "outlinewidth": 0,
             "ticks": ""
            },
            "colorscale": [
             [
              0,
              "#0d0887"
             ],
             [
              0.1111111111111111,
              "#46039f"
             ],
             [
              0.2222222222222222,
              "#7201a8"
             ],
             [
              0.3333333333333333,
              "#9c179e"
             ],
             [
              0.4444444444444444,
              "#bd3786"
             ],
             [
              0.5555555555555556,
              "#d8576b"
             ],
             [
              0.6666666666666666,
              "#ed7953"
             ],
             [
              0.7777777777777778,
              "#fb9f3a"
             ],
             [
              0.8888888888888888,
              "#fdca26"
             ],
             [
              1,
              "#f0f921"
             ]
            ],
            "type": "contour"
           }
          ],
          "contourcarpet": [
           {
            "colorbar": {
             "outlinewidth": 0,
             "ticks": ""
            },
            "type": "contourcarpet"
           }
          ],
          "heatmap": [
           {
            "colorbar": {
             "outlinewidth": 0,
             "ticks": ""
            },
            "colorscale": [
             [
              0,
              "#0d0887"
             ],
             [
              0.1111111111111111,
              "#46039f"
             ],
             [
              0.2222222222222222,
              "#7201a8"
             ],
             [
              0.3333333333333333,
              "#9c179e"
             ],
             [
              0.4444444444444444,
              "#bd3786"
             ],
             [
              0.5555555555555556,
              "#d8576b"
             ],
             [
              0.6666666666666666,
              "#ed7953"
             ],
             [
              0.7777777777777778,
              "#fb9f3a"
             ],
             [
              0.8888888888888888,
              "#fdca26"
             ],
             [
              1,
              "#f0f921"
             ]
            ],
            "type": "heatmap"
           }
          ],
          "heatmapgl": [
           {
            "colorbar": {
             "outlinewidth": 0,
             "ticks": ""
            },
            "colorscale": [
             [
              0,
              "#0d0887"
             ],
             [
              0.1111111111111111,
              "#46039f"
             ],
             [
              0.2222222222222222,
              "#7201a8"
             ],
             [
              0.3333333333333333,
              "#9c179e"
             ],
             [
              0.4444444444444444,
              "#bd3786"
             ],
             [
              0.5555555555555556,
              "#d8576b"
             ],
             [
              0.6666666666666666,
              "#ed7953"
             ],
             [
              0.7777777777777778,
              "#fb9f3a"
             ],
             [
              0.8888888888888888,
              "#fdca26"
             ],
             [
              1,
              "#f0f921"
             ]
            ],
            "type": "heatmapgl"
           }
          ],
          "histogram": [
           {
            "marker": {
             "colorbar": {
              "outlinewidth": 0,
              "ticks": ""
             }
            },
            "type": "histogram"
           }
          ],
          "histogram2d": [
           {
            "colorbar": {
             "outlinewidth": 0,
             "ticks": ""
            },
            "colorscale": [
             [
              0,
              "#0d0887"
             ],
             [
              0.1111111111111111,
              "#46039f"
             ],
             [
              0.2222222222222222,
              "#7201a8"
             ],
             [
              0.3333333333333333,
              "#9c179e"
             ],
             [
              0.4444444444444444,
              "#bd3786"
             ],
             [
              0.5555555555555556,
              "#d8576b"
             ],
             [
              0.6666666666666666,
              "#ed7953"
             ],
             [
              0.7777777777777778,
              "#fb9f3a"
             ],
             [
              0.8888888888888888,
              "#fdca26"
             ],
             [
              1,
              "#f0f921"
             ]
            ],
            "type": "histogram2d"
           }
          ],
          "histogram2dcontour": [
           {
            "colorbar": {
             "outlinewidth": 0,
             "ticks": ""
            },
            "colorscale": [
             [
              0,
              "#0d0887"
             ],
             [
              0.1111111111111111,
              "#46039f"
             ],
             [
              0.2222222222222222,
              "#7201a8"
             ],
             [
              0.3333333333333333,
              "#9c179e"
             ],
             [
              0.4444444444444444,
              "#bd3786"
             ],
             [
              0.5555555555555556,
              "#d8576b"
             ],
             [
              0.6666666666666666,
              "#ed7953"
             ],
             [
              0.7777777777777778,
              "#fb9f3a"
             ],
             [
              0.8888888888888888,
              "#fdca26"
             ],
             [
              1,
              "#f0f921"
             ]
            ],
            "type": "histogram2dcontour"
           }
          ],
          "mesh3d": [
           {
            "colorbar": {
             "outlinewidth": 0,
             "ticks": ""
            },
            "type": "mesh3d"
           }
          ],
          "parcoords": [
           {
            "line": {
             "colorbar": {
              "outlinewidth": 0,
              "ticks": ""
             }
            },
            "type": "parcoords"
           }
          ],
          "pie": [
           {
            "automargin": true,
            "type": "pie"
           }
          ],
          "scatter": [
           {
            "marker": {
             "colorbar": {
              "outlinewidth": 0,
              "ticks": ""
             }
            },
            "type": "scatter"
           }
          ],
          "scatter3d": [
           {
            "line": {
             "colorbar": {
              "outlinewidth": 0,
              "ticks": ""
             }
            },
            "marker": {
             "colorbar": {
              "outlinewidth": 0,
              "ticks": ""
             }
            },
            "type": "scatter3d"
           }
          ],
          "scattercarpet": [
           {
            "marker": {
             "colorbar": {
              "outlinewidth": 0,
              "ticks": ""
             }
            },
            "type": "scattercarpet"
           }
          ],
          "scattergeo": [
           {
            "marker": {
             "colorbar": {
              "outlinewidth": 0,
              "ticks": ""
             }
            },
            "type": "scattergeo"
           }
          ],
          "scattergl": [
           {
            "marker": {
             "colorbar": {
              "outlinewidth": 0,
              "ticks": ""
             }
            },
            "type": "scattergl"
           }
          ],
          "scattermapbox": [
           {
            "marker": {
             "colorbar": {
              "outlinewidth": 0,
              "ticks": ""
             }
            },
            "type": "scattermapbox"
           }
          ],
          "scatterpolar": [
           {
            "marker": {
             "colorbar": {
              "outlinewidth": 0,
              "ticks": ""
             }
            },
            "type": "scatterpolar"
           }
          ],
          "scatterpolargl": [
           {
            "marker": {
             "colorbar": {
              "outlinewidth": 0,
              "ticks": ""
             }
            },
            "type": "scatterpolargl"
           }
          ],
          "scatterternary": [
           {
            "marker": {
             "colorbar": {
              "outlinewidth": 0,
              "ticks": ""
             }
            },
            "type": "scatterternary"
           }
          ],
          "surface": [
           {
            "colorbar": {
             "outlinewidth": 0,
             "ticks": ""
            },
            "colorscale": [
             [
              0,
              "#0d0887"
             ],
             [
              0.1111111111111111,
              "#46039f"
             ],
             [
              0.2222222222222222,
              "#7201a8"
             ],
             [
              0.3333333333333333,
              "#9c179e"
             ],
             [
              0.4444444444444444,
              "#bd3786"
             ],
             [
              0.5555555555555556,
              "#d8576b"
             ],
             [
              0.6666666666666666,
              "#ed7953"
             ],
             [
              0.7777777777777778,
              "#fb9f3a"
             ],
             [
              0.8888888888888888,
              "#fdca26"
             ],
             [
              1,
              "#f0f921"
             ]
            ],
            "type": "surface"
           }
          ],
          "table": [
           {
            "cells": {
             "fill": {
              "color": "#EBF0F8"
             },
             "line": {
              "color": "white"
             }
            },
            "header": {
             "fill": {
              "color": "#C8D4E3"
             },
             "line": {
              "color": "white"
             }
            },
            "type": "table"
           }
          ]
         },
         "layout": {
          "annotationdefaults": {
           "arrowcolor": "#2a3f5f",
           "arrowhead": 0,
           "arrowwidth": 1
          },
          "coloraxis": {
           "colorbar": {
            "outlinewidth": 0,
            "ticks": ""
           }
          },
          "colorscale": {
           "diverging": [
            [
             0,
             "#8e0152"
            ],
            [
             0.1,
             "#c51b7d"
            ],
            [
             0.2,
             "#de77ae"
            ],
            [
             0.3,
             "#f1b6da"
            ],
            [
             0.4,
             "#fde0ef"
            ],
            [
             0.5,
             "#f7f7f7"
            ],
            [
             0.6,
             "#e6f5d0"
            ],
            [
             0.7,
             "#b8e186"
            ],
            [
             0.8,
             "#7fbc41"
            ],
            [
             0.9,
             "#4d9221"
            ],
            [
             1,
             "#276419"
            ]
           ],
           "sequential": [
            [
             0,
             "#0d0887"
            ],
            [
             0.1111111111111111,
             "#46039f"
            ],
            [
             0.2222222222222222,
             "#7201a8"
            ],
            [
             0.3333333333333333,
             "#9c179e"
            ],
            [
             0.4444444444444444,
             "#bd3786"
            ],
            [
             0.5555555555555556,
             "#d8576b"
            ],
            [
             0.6666666666666666,
             "#ed7953"
            ],
            [
             0.7777777777777778,
             "#fb9f3a"
            ],
            [
             0.8888888888888888,
             "#fdca26"
            ],
            [
             1,
             "#f0f921"
            ]
           ],
           "sequentialminus": [
            [
             0,
             "#0d0887"
            ],
            [
             0.1111111111111111,
             "#46039f"
            ],
            [
             0.2222222222222222,
             "#7201a8"
            ],
            [
             0.3333333333333333,
             "#9c179e"
            ],
            [
             0.4444444444444444,
             "#bd3786"
            ],
            [
             0.5555555555555556,
             "#d8576b"
            ],
            [
             0.6666666666666666,
             "#ed7953"
            ],
            [
             0.7777777777777778,
             "#fb9f3a"
            ],
            [
             0.8888888888888888,
             "#fdca26"
            ],
            [
             1,
             "#f0f921"
            ]
           ]
          },
          "colorway": [
           "#636efa",
           "#EF553B",
           "#00cc96",
           "#ab63fa",
           "#FFA15A",
           "#19d3f3",
           "#FF6692",
           "#B6E880",
           "#FF97FF",
           "#FECB52"
          ],
          "font": {
           "color": "#2a3f5f"
          },
          "geo": {
           "bgcolor": "white",
           "lakecolor": "white",
           "landcolor": "#E5ECF6",
           "showlakes": true,
           "showland": true,
           "subunitcolor": "white"
          },
          "hoverlabel": {
           "align": "left"
          },
          "hovermode": "closest",
          "mapbox": {
           "style": "light"
          },
          "paper_bgcolor": "white",
          "plot_bgcolor": "#E5ECF6",
          "polar": {
           "angularaxis": {
            "gridcolor": "white",
            "linecolor": "white",
            "ticks": ""
           },
           "bgcolor": "#E5ECF6",
           "radialaxis": {
            "gridcolor": "white",
            "linecolor": "white",
            "ticks": ""
           }
          },
          "scene": {
           "xaxis": {
            "backgroundcolor": "#E5ECF6",
            "gridcolor": "white",
            "gridwidth": 2,
            "linecolor": "white",
            "showbackground": true,
            "ticks": "",
            "zerolinecolor": "white"
           },
           "yaxis": {
            "backgroundcolor": "#E5ECF6",
            "gridcolor": "white",
            "gridwidth": 2,
            "linecolor": "white",
            "showbackground": true,
            "ticks": "",
            "zerolinecolor": "white"
           },
           "zaxis": {
            "backgroundcolor": "#E5ECF6",
            "gridcolor": "white",
            "gridwidth": 2,
            "linecolor": "white",
            "showbackground": true,
            "ticks": "",
            "zerolinecolor": "white"
           }
          },
          "shapedefaults": {
           "line": {
            "color": "#2a3f5f"
           }
          },
          "ternary": {
           "aaxis": {
            "gridcolor": "white",
            "linecolor": "white",
            "ticks": ""
           },
           "baxis": {
            "gridcolor": "white",
            "linecolor": "white",
            "ticks": ""
           },
           "bgcolor": "#E5ECF6",
           "caxis": {
            "gridcolor": "white",
            "linecolor": "white",
            "ticks": ""
           }
          },
          "title": {
           "x": 0.05
          },
          "xaxis": {
           "automargin": true,
           "gridcolor": "white",
           "linecolor": "white",
           "ticks": "",
           "title": {
            "standoff": 15
           },
           "zerolinecolor": "white",
           "zerolinewidth": 2
          },
          "yaxis": {
           "automargin": true,
           "gridcolor": "white",
           "linecolor": "white",
           "ticks": "",
           "title": {
            "standoff": 15
           },
           "zerolinecolor": "white",
           "zerolinewidth": 2
          }
         }
        },
        "title": {
         "text": "2011 US Agriculture Exports by State"
        }
       }
      },
      "text/html": [
       "<div>\n",
       "        \n",
       "        \n",
       "            <div id=\"7b0f2b62-52c7-43c0-8a7a-9b2981d4a076\" class=\"plotly-graph-div\" style=\"height:525px; width:100%;\"></div>\n",
       "            <script type=\"text/javascript\">\n",
       "                require([\"plotly\"], function(Plotly) {\n",
       "                    window.PLOTLYENV=window.PLOTLYENV || {};\n",
       "                    \n",
       "                if (document.getElementById(\"7b0f2b62-52c7-43c0-8a7a-9b2981d4a076\")) {\n",
       "                    Plotly.newPlot(\n",
       "                        '7b0f2b62-52c7-43c0-8a7a-9b2981d4a076',\n",
       "                        [{\"colorbar\": {\"title\": {\"text\": \"GDP in Billions USD\"}}, \"locations\": [\"AFG\", \"ALB\", \"DZA\", \"ASM\", \"AND\", \"AGO\", \"AIA\", \"ATG\", \"ARG\", \"ARM\", \"ABW\", \"AUS\", \"AUT\", \"AZE\", \"BHM\", \"BHR\", \"BGD\", \"BRB\", \"BLR\", \"BEL\", \"BLZ\", \"BEN\", \"BMU\", \"BTN\", \"BOL\", \"BIH\", \"BWA\", \"BRA\", \"VGB\", \"BRN\", \"BGR\", \"BFA\", \"MMR\", \"BDI\", \"CPV\", \"KHM\", \"CMR\", \"CAN\", \"CYM\", \"CAF\", \"TCD\", \"CHL\", \"CHN\", \"COL\", \"COM\", \"COD\", \"COG\", \"COK\", \"CRI\", \"CIV\", \"HRV\", \"CUB\", \"CUW\", \"CYP\", \"CZE\", \"DNK\", \"DJI\", \"DMA\", \"DOM\", \"ECU\", \"EGY\", \"SLV\", \"GNQ\", \"ERI\", \"EST\", \"ETH\", \"FLK\", \"FRO\", \"FJI\", \"FIN\", \"FRA\", \"PYF\", \"GAB\", \"GMB\", \"GEO\", \"DEU\", \"GHA\", \"GIB\", \"GRC\", \"GRL\", \"GRD\", \"GUM\", \"GTM\", \"GGY\", \"GNB\", \"GIN\", \"GUY\", \"HTI\", \"HND\", \"HKG\", \"HUN\", \"ISL\", \"IND\", \"IDN\", \"IRN\", \"IRQ\", \"IRL\", \"IMN\", \"ISR\", \"ITA\", \"JAM\", \"JPN\", \"JEY\", \"JOR\", \"KAZ\", \"KEN\", \"KIR\", \"KOR\", \"PRK\", \"KSV\", \"KWT\", \"KGZ\", \"LAO\", \"LVA\", \"LBN\", \"LSO\", \"LBR\", \"LBY\", \"LIE\", \"LTU\", \"LUX\", \"MAC\", \"MKD\", \"MDG\", \"MWI\", \"MYS\", \"MDV\", \"MLI\", \"MLT\", \"MHL\", \"MRT\", \"MUS\", \"MEX\", \"FSM\", \"MDA\", \"MCO\", \"MNG\", \"MNE\", \"MAR\", \"MOZ\", \"NAM\", \"NPL\", \"NLD\", \"NCL\", \"NZL\", \"NIC\", \"NGA\", \"NER\", \"NIU\", \"MNP\", \"NOR\", \"OMN\", \"PAK\", \"PLW\", \"PAN\", \"PNG\", \"PRY\", \"PER\", \"PHL\", \"POL\", \"PRT\", \"PRI\", \"QAT\", \"ROU\", \"RUS\", \"RWA\", \"KNA\", \"LCA\", \"MAF\", \"SPM\", \"VCT\", \"WSM\", \"SMR\", \"STP\", \"SAU\", \"SEN\", \"SRB\", \"SYC\", \"SLE\", \"SGP\", \"SXM\", \"SVK\", \"SVN\", \"SLB\", \"SOM\", \"ZAF\", \"SSD\", \"ESP\", \"LKA\", \"SDN\", \"SUR\", \"SWZ\", \"SWE\", \"CHE\", \"SYR\", \"TWN\", \"TJK\", \"TZA\", \"THA\", \"TLS\", \"TGO\", \"TON\", \"TTO\", \"TUN\", \"TUR\", \"TKM\", \"TUV\", \"UGA\", \"UKR\", \"ARE\", \"GBR\", \"USA\", \"URY\", \"UZB\", \"VUT\", \"VEN\", \"VNM\", \"VGB\", \"WBG\", \"YEM\", \"ZMB\", \"ZWE\"], \"text\": [\"Afghanistan\", \"Albania\", \"Algeria\", \"American Samoa\", \"Andorra\", \"Angola\", \"Anguilla\", \"Antigua and Barbuda\", \"Argentina\", \"Armenia\", \"Aruba\", \"Australia\", \"Austria\", \"Azerbaijan\", \"Bahamas, The\", \"Bahrain\", \"Bangladesh\", \"Barbados\", \"Belarus\", \"Belgium\", \"Belize\", \"Benin\", \"Bermuda\", \"Bhutan\", \"Bolivia\", \"Bosnia and Herzegovina\", \"Botswana\", \"Brazil\", \"British Virgin Islands\", \"Brunei\", \"Bulgaria\", \"Burkina Faso\", \"Burma\", \"Burundi\", \"Cabo Verde\", \"Cambodia\", \"Cameroon\", \"Canada\", \"Cayman Islands\", \"Central African Republic\", \"Chad\", \"Chile\", \"China\", \"Colombia\", \"Comoros\", \"Congo, Democratic Republic of the\", \"Congo, Republic of the\", \"Cook Islands\", \"Costa Rica\", \"Cote d'Ivoire\", \"Croatia\", \"Cuba\", \"Curacao\", \"Cyprus\", \"Czech Republic\", \"Denmark\", \"Djibouti\", \"Dominica\", \"Dominican Republic\", \"Ecuador\", \"Egypt\", \"El Salvador\", \"Equatorial Guinea\", \"Eritrea\", \"Estonia\", \"Ethiopia\", \"Falkland Islands (Islas Malvinas)\", \"Faroe Islands\", \"Fiji\", \"Finland\", \"France\", \"French Polynesia\", \"Gabon\", \"Gambia, The\", \"Georgia\", \"Germany\", \"Ghana\", \"Gibraltar\", \"Greece\", \"Greenland\", \"Grenada\", \"Guam\", \"Guatemala\", \"Guernsey\", \"Guinea-Bissau\", \"Guinea\", \"Guyana\", \"Haiti\", \"Honduras\", \"Hong Kong\", \"Hungary\", \"Iceland\", \"India\", \"Indonesia\", \"Iran\", \"Iraq\", \"Ireland\", \"Isle of Man\", \"Israel\", \"Italy\", \"Jamaica\", \"Japan\", \"Jersey\", \"Jordan\", \"Kazakhstan\", \"Kenya\", \"Kiribati\", \"Korea, North\", \"Korea, South\", \"Kosovo\", \"Kuwait\", \"Kyrgyzstan\", \"Laos\", \"Latvia\", \"Lebanon\", \"Lesotho\", \"Liberia\", \"Libya\", \"Liechtenstein\", \"Lithuania\", \"Luxembourg\", \"Macau\", \"Macedonia\", \"Madagascar\", \"Malawi\", \"Malaysia\", \"Maldives\", \"Mali\", \"Malta\", \"Marshall Islands\", \"Mauritania\", \"Mauritius\", \"Mexico\", \"Micronesia, Federated States of\", \"Moldova\", \"Monaco\", \"Mongolia\", \"Montenegro\", \"Morocco\", \"Mozambique\", \"Namibia\", \"Nepal\", \"Netherlands\", \"New Caledonia\", \"New Zealand\", \"Nicaragua\", \"Nigeria\", \"Niger\", \"Niue\", \"Northern Mariana Islands\", \"Norway\", \"Oman\", \"Pakistan\", \"Palau\", \"Panama\", \"Papua New Guinea\", \"Paraguay\", \"Peru\", \"Philippines\", \"Poland\", \"Portugal\", \"Puerto Rico\", \"Qatar\", \"Romania\", \"Russia\", \"Rwanda\", \"Saint Kitts and Nevis\", \"Saint Lucia\", \"Saint Martin\", \"Saint Pierre and Miquelon\", \"Saint Vincent and the Grenadines\", \"Samoa\", \"San Marino\", \"Sao Tome and Principe\", \"Saudi Arabia\", \"Senegal\", \"Serbia\", \"Seychelles\", \"Sierra Leone\", \"Singapore\", \"Sint Maarten\", \"Slovakia\", \"Slovenia\", \"Solomon Islands\", \"Somalia\", \"South Africa\", \"South Sudan\", \"Spain\", \"Sri Lanka\", \"Sudan\", \"Suriname\", \"Swaziland\", \"Sweden\", \"Switzerland\", \"Syria\", \"Taiwan\", \"Tajikistan\", \"Tanzania\", \"Thailand\", \"Timor-Leste\", \"Togo\", \"Tonga\", \"Trinidad and Tobago\", \"Tunisia\", \"Turkey\", \"Turkmenistan\", \"Tuvalu\", \"Uganda\", \"Ukraine\", \"United Arab Emirates\", \"United Kingdom\", \"United States\", \"Uruguay\", \"Uzbekistan\", \"Vanuatu\", \"Venezuela\", \"Vietnam\", \"Virgin Islands\", \"West Bank\", \"Yemen\", \"Zambia\", \"Zimbabwe\"], \"type\": \"choropleth\", \"z\": [21.71, 13.4, 227.8, 0.75, 4.8, 131.4, 0.18, 1.24, 536.2, 10.88, 2.52, 1483.0, 436.1, 77.91, 8.65, 34.05, 186.6, 4.28, 75.25, 527.8, 1.67, 9.24, 5.2, 2.09, 34.08, 19.55, 16.3, 2244.0, 1.1, 17.43, 55.08, 13.38, 65.29, 3.04, 1.98, 16.9, 32.16, 1794.0, 2.25, 1.73, 15.84, 264.1, 10360.0, 400.1, 0.72, 32.67, 14.11, 0.18, 50.46, 33.96, 57.18, 77.15, 5.6, 21.34, 205.6, 347.2, 1.58, 0.51, 64.05, 100.5, 284.9, 25.14, 15.4, 3.87, 26.36, 49.86, 0.16, 2.32, 4.17, 276.3, 2902.0, 7.15, 20.68, 0.92, 16.13, 3820.0, 35.48, 1.85, 246.4, 2.16, 0.84, 4.6, 58.3, 2.74, 1.04, 6.77, 3.14, 8.92, 19.37, 292.7, 129.7, 16.2, 2048.0, 856.1, 402.7, 232.2, 245.8, 4.08, 305.0, 2129.0, 13.92, 4770.0, 5.77, 36.55, 225.6, 62.72, 0.16, 28.0, 1410.0, 5.99, 179.3, 7.65, 11.71, 32.82, 47.5, 2.46, 2.07, 49.34, 5.11, 48.72, 63.93, 51.68, 10.92, 11.19, 4.41, 336.9, 2.41, 12.04, 10.57, 0.18, 4.29, 12.72, 1296.0, 0.34, 7.74, 6.06, 11.73, 4.66, 112.6, 16.59, 13.11, 19.64, 880.4, 11.1, 201.0, 11.85, 594.3, 8.29, 0.01, 1.23, 511.6, 80.54, 237.5, 0.65, 44.69, 16.1, 31.3, 208.2, 284.6, 552.2, 228.2, 93.52, 212.0, 199.0, 2057.0, 8.0, 0.81, 1.35, 0.56, 0.22, 0.75, 0.83, 1.86, 0.36, 777.9, 15.88, 42.65, 1.47, 5.41, 307.9, 304.1, 99.75, 49.93, 1.16, 2.37, 341.2, 11.89, 1400.0, 71.57, 70.03, 5.27, 3.84, 559.1, 679.0, 64.7, 529.5, 9.16, 36.62, 373.8, 4.51, 4.84, 0.49, 29.63, 49.12, 813.3, 43.5, 0.04, 26.09, 134.9, 416.4, 2848.0, 17420.0, 55.6, 63.08, 0.82, 209.2, 187.8, 5.08, 6.64, 45.45, 25.61, 13.74]}],\n",
       "                        {\"geo\": {\"lakecolor\": \"rgb(85,173,240)\", \"scope\": \"usa\", \"showlakes\": true}, \"template\": {\"data\": {\"bar\": [{\"error_x\": {\"color\": \"#2a3f5f\"}, \"error_y\": {\"color\": \"#2a3f5f\"}, \"marker\": {\"line\": {\"color\": \"#E5ECF6\", \"width\": 0.5}}, \"type\": \"bar\"}], \"barpolar\": [{\"marker\": {\"line\": {\"color\": \"#E5ECF6\", \"width\": 0.5}}, \"type\": \"barpolar\"}], \"carpet\": [{\"aaxis\": {\"endlinecolor\": \"#2a3f5f\", \"gridcolor\": \"white\", \"linecolor\": \"white\", \"minorgridcolor\": \"white\", \"startlinecolor\": \"#2a3f5f\"}, \"baxis\": {\"endlinecolor\": \"#2a3f5f\", \"gridcolor\": \"white\", \"linecolor\": \"white\", \"minorgridcolor\": \"white\", \"startlinecolor\": \"#2a3f5f\"}, \"type\": \"carpet\"}], \"choropleth\": [{\"colorbar\": {\"outlinewidth\": 0, \"ticks\": \"\"}, \"type\": \"choropleth\"}], \"contour\": [{\"colorbar\": {\"outlinewidth\": 0, \"ticks\": \"\"}, \"colorscale\": [[0.0, \"#0d0887\"], [0.1111111111111111, \"#46039f\"], [0.2222222222222222, \"#7201a8\"], [0.3333333333333333, \"#9c179e\"], [0.4444444444444444, \"#bd3786\"], [0.5555555555555556, \"#d8576b\"], [0.6666666666666666, \"#ed7953\"], [0.7777777777777778, \"#fb9f3a\"], [0.8888888888888888, \"#fdca26\"], [1.0, \"#f0f921\"]], \"type\": \"contour\"}], \"contourcarpet\": [{\"colorbar\": {\"outlinewidth\": 0, \"ticks\": \"\"}, \"type\": \"contourcarpet\"}], \"heatmap\": [{\"colorbar\": {\"outlinewidth\": 0, \"ticks\": \"\"}, \"colorscale\": [[0.0, \"#0d0887\"], [0.1111111111111111, \"#46039f\"], [0.2222222222222222, \"#7201a8\"], [0.3333333333333333, \"#9c179e\"], [0.4444444444444444, \"#bd3786\"], [0.5555555555555556, \"#d8576b\"], [0.6666666666666666, \"#ed7953\"], [0.7777777777777778, \"#fb9f3a\"], [0.8888888888888888, \"#fdca26\"], [1.0, \"#f0f921\"]], \"type\": \"heatmap\"}], \"heatmapgl\": [{\"colorbar\": {\"outlinewidth\": 0, \"ticks\": \"\"}, \"colorscale\": [[0.0, \"#0d0887\"], [0.1111111111111111, \"#46039f\"], [0.2222222222222222, \"#7201a8\"], [0.3333333333333333, \"#9c179e\"], [0.4444444444444444, \"#bd3786\"], [0.5555555555555556, \"#d8576b\"], [0.6666666666666666, \"#ed7953\"], [0.7777777777777778, \"#fb9f3a\"], [0.8888888888888888, \"#fdca26\"], [1.0, \"#f0f921\"]], \"type\": \"heatmapgl\"}], \"histogram\": [{\"marker\": {\"colorbar\": {\"outlinewidth\": 0, \"ticks\": \"\"}}, \"type\": \"histogram\"}], \"histogram2d\": [{\"colorbar\": {\"outlinewidth\": 0, \"ticks\": \"\"}, \"colorscale\": [[0.0, \"#0d0887\"], [0.1111111111111111, \"#46039f\"], [0.2222222222222222, \"#7201a8\"], [0.3333333333333333, \"#9c179e\"], [0.4444444444444444, \"#bd3786\"], [0.5555555555555556, \"#d8576b\"], [0.6666666666666666, \"#ed7953\"], [0.7777777777777778, \"#fb9f3a\"], [0.8888888888888888, \"#fdca26\"], [1.0, \"#f0f921\"]], \"type\": \"histogram2d\"}], \"histogram2dcontour\": [{\"colorbar\": {\"outlinewidth\": 0, \"ticks\": \"\"}, \"colorscale\": [[0.0, \"#0d0887\"], [0.1111111111111111, \"#46039f\"], [0.2222222222222222, \"#7201a8\"], [0.3333333333333333, \"#9c179e\"], [0.4444444444444444, \"#bd3786\"], [0.5555555555555556, \"#d8576b\"], [0.6666666666666666, \"#ed7953\"], [0.7777777777777778, \"#fb9f3a\"], [0.8888888888888888, \"#fdca26\"], [1.0, \"#f0f921\"]], \"type\": \"histogram2dcontour\"}], \"mesh3d\": [{\"colorbar\": {\"outlinewidth\": 0, \"ticks\": \"\"}, \"type\": \"mesh3d\"}], \"parcoords\": [{\"line\": {\"colorbar\": {\"outlinewidth\": 0, \"ticks\": \"\"}}, \"type\": \"parcoords\"}], \"pie\": [{\"automargin\": true, \"type\": \"pie\"}], \"scatter\": [{\"marker\": {\"colorbar\": {\"outlinewidth\": 0, \"ticks\": \"\"}}, \"type\": \"scatter\"}], \"scatter3d\": [{\"line\": {\"colorbar\": {\"outlinewidth\": 0, \"ticks\": \"\"}}, \"marker\": {\"colorbar\": {\"outlinewidth\": 0, \"ticks\": \"\"}}, \"type\": \"scatter3d\"}], \"scattercarpet\": [{\"marker\": {\"colorbar\": {\"outlinewidth\": 0, \"ticks\": \"\"}}, \"type\": \"scattercarpet\"}], \"scattergeo\": [{\"marker\": {\"colorbar\": {\"outlinewidth\": 0, \"ticks\": \"\"}}, \"type\": \"scattergeo\"}], \"scattergl\": [{\"marker\": {\"colorbar\": {\"outlinewidth\": 0, \"ticks\": \"\"}}, \"type\": \"scattergl\"}], \"scattermapbox\": [{\"marker\": {\"colorbar\": {\"outlinewidth\": 0, \"ticks\": \"\"}}, \"type\": \"scattermapbox\"}], \"scatterpolar\": [{\"marker\": {\"colorbar\": {\"outlinewidth\": 0, \"ticks\": \"\"}}, \"type\": \"scatterpolar\"}], \"scatterpolargl\": [{\"marker\": {\"colorbar\": {\"outlinewidth\": 0, \"ticks\": \"\"}}, \"type\": \"scatterpolargl\"}], \"scatterternary\": [{\"marker\": {\"colorbar\": {\"outlinewidth\": 0, \"ticks\": \"\"}}, \"type\": \"scatterternary\"}], \"surface\": [{\"colorbar\": {\"outlinewidth\": 0, \"ticks\": \"\"}, \"colorscale\": [[0.0, \"#0d0887\"], [0.1111111111111111, \"#46039f\"], [0.2222222222222222, \"#7201a8\"], [0.3333333333333333, \"#9c179e\"], [0.4444444444444444, \"#bd3786\"], [0.5555555555555556, \"#d8576b\"], [0.6666666666666666, \"#ed7953\"], [0.7777777777777778, \"#fb9f3a\"], [0.8888888888888888, \"#fdca26\"], [1.0, \"#f0f921\"]], \"type\": \"surface\"}], \"table\": [{\"cells\": {\"fill\": {\"color\": \"#EBF0F8\"}, \"line\": {\"color\": \"white\"}}, \"header\": {\"fill\": {\"color\": \"#C8D4E3\"}, \"line\": {\"color\": \"white\"}}, \"type\": \"table\"}]}, \"layout\": {\"annotationdefaults\": {\"arrowcolor\": \"#2a3f5f\", \"arrowhead\": 0, \"arrowwidth\": 1}, \"coloraxis\": {\"colorbar\": {\"outlinewidth\": 0, \"ticks\": \"\"}}, \"colorscale\": {\"diverging\": [[0, \"#8e0152\"], [0.1, \"#c51b7d\"], [0.2, \"#de77ae\"], [0.3, \"#f1b6da\"], [0.4, \"#fde0ef\"], [0.5, \"#f7f7f7\"], [0.6, \"#e6f5d0\"], [0.7, \"#b8e186\"], [0.8, \"#7fbc41\"], [0.9, \"#4d9221\"], [1, \"#276419\"]], \"sequential\": [[0.0, \"#0d0887\"], [0.1111111111111111, \"#46039f\"], [0.2222222222222222, \"#7201a8\"], [0.3333333333333333, \"#9c179e\"], [0.4444444444444444, \"#bd3786\"], [0.5555555555555556, \"#d8576b\"], [0.6666666666666666, \"#ed7953\"], [0.7777777777777778, \"#fb9f3a\"], [0.8888888888888888, \"#fdca26\"], [1.0, \"#f0f921\"]], \"sequentialminus\": [[0.0, \"#0d0887\"], [0.1111111111111111, \"#46039f\"], [0.2222222222222222, \"#7201a8\"], [0.3333333333333333, \"#9c179e\"], [0.4444444444444444, \"#bd3786\"], [0.5555555555555556, \"#d8576b\"], [0.6666666666666666, \"#ed7953\"], [0.7777777777777778, \"#fb9f3a\"], [0.8888888888888888, \"#fdca26\"], [1.0, \"#f0f921\"]]}, \"colorway\": [\"#636efa\", \"#EF553B\", \"#00cc96\", \"#ab63fa\", \"#FFA15A\", \"#19d3f3\", \"#FF6692\", \"#B6E880\", \"#FF97FF\", \"#FECB52\"], \"font\": {\"color\": \"#2a3f5f\"}, \"geo\": {\"bgcolor\": \"white\", \"lakecolor\": \"white\", \"landcolor\": \"#E5ECF6\", \"showlakes\": true, \"showland\": true, \"subunitcolor\": \"white\"}, \"hoverlabel\": {\"align\": \"left\"}, \"hovermode\": \"closest\", \"mapbox\": {\"style\": \"light\"}, \"paper_bgcolor\": \"white\", \"plot_bgcolor\": \"#E5ECF6\", \"polar\": {\"angularaxis\": {\"gridcolor\": \"white\", \"linecolor\": \"white\", \"ticks\": \"\"}, \"bgcolor\": \"#E5ECF6\", \"radialaxis\": {\"gridcolor\": \"white\", \"linecolor\": \"white\", \"ticks\": \"\"}}, \"scene\": {\"xaxis\": {\"backgroundcolor\": \"#E5ECF6\", \"gridcolor\": \"white\", \"gridwidth\": 2, \"linecolor\": \"white\", \"showbackground\": true, \"ticks\": \"\", \"zerolinecolor\": \"white\"}, \"yaxis\": {\"backgroundcolor\": \"#E5ECF6\", \"gridcolor\": \"white\", \"gridwidth\": 2, \"linecolor\": \"white\", \"showbackground\": true, \"ticks\": \"\", \"zerolinecolor\": \"white\"}, \"zaxis\": {\"backgroundcolor\": \"#E5ECF6\", \"gridcolor\": \"white\", \"gridwidth\": 2, \"linecolor\": \"white\", \"showbackground\": true, \"ticks\": \"\", \"zerolinecolor\": \"white\"}}, \"shapedefaults\": {\"line\": {\"color\": \"#2a3f5f\"}}, \"ternary\": {\"aaxis\": {\"gridcolor\": \"white\", \"linecolor\": \"white\", \"ticks\": \"\"}, \"baxis\": {\"gridcolor\": \"white\", \"linecolor\": \"white\", \"ticks\": \"\"}, \"bgcolor\": \"#E5ECF6\", \"caxis\": {\"gridcolor\": \"white\", \"linecolor\": \"white\", \"ticks\": \"\"}}, \"title\": {\"x\": 0.05}, \"xaxis\": {\"automargin\": true, \"gridcolor\": \"white\", \"linecolor\": \"white\", \"ticks\": \"\", \"title\": {\"standoff\": 15}, \"zerolinecolor\": \"white\", \"zerolinewidth\": 2}, \"yaxis\": {\"automargin\": true, \"gridcolor\": \"white\", \"linecolor\": \"white\", \"ticks\": \"\", \"title\": {\"standoff\": 15}, \"zerolinecolor\": \"white\", \"zerolinewidth\": 2}}}, \"title\": {\"text\": \"2011 US Agriculture Exports by State\"}},\n",
       "                        {\"responsive\": true}\n",
       "                    ).then(function(){\n",
       "                            \n",
       "var gd = document.getElementById('7b0f2b62-52c7-43c0-8a7a-9b2981d4a076');\n",
       "var x = new MutationObserver(function (mutations, observer) {{\n",
       "        var display = window.getComputedStyle(gd).display;\n",
       "        if (!display || display === 'none') {{\n",
       "            console.log([gd, 'removed!']);\n",
       "            Plotly.purge(gd);\n",
       "            observer.disconnect();\n",
       "        }}\n",
       "}});\n",
       "\n",
       "// Listen for the removal of the full notebook cells\n",
       "var notebookContainer = gd.closest('#notebook-container');\n",
       "if (notebookContainer) {{\n",
       "    x.observe(notebookContainer, {childList: true});\n",
       "}}\n",
       "\n",
       "// Listen for the clearing of the current output cell\n",
       "var outputEl = gd.closest('.output');\n",
       "if (outputEl) {{\n",
       "    x.observe(outputEl, {childList: true});\n",
       "}}\n",
       "\n",
       "                        })\n",
       "                };\n",
       "                });\n",
       "            </script>\n",
       "        </div>"
      ]
     },
     "metadata": {},
     "output_type": "display_data"
    }
   ],
   "source": [
    "iplot(choromap2)"
   ]
  },
  {
   "cell_type": "code",
   "execution_count": 51,
   "metadata": {},
   "outputs": [],
   "source": [
    "df = pd.read_csv('2014_World_GDP-Copy1')"
   ]
  },
  {
   "cell_type": "code",
   "execution_count": 52,
   "metadata": {},
   "outputs": [
    {
     "data": {
      "text/html": [
       "<div>\n",
       "<style scoped>\n",
       "    .dataframe tbody tr th:only-of-type {\n",
       "        vertical-align: middle;\n",
       "    }\n",
       "\n",
       "    .dataframe tbody tr th {\n",
       "        vertical-align: top;\n",
       "    }\n",
       "\n",
       "    .dataframe thead th {\n",
       "        text-align: right;\n",
       "    }\n",
       "</style>\n",
       "<table border=\"1\" class=\"dataframe\">\n",
       "  <thead>\n",
       "    <tr style=\"text-align: right;\">\n",
       "      <th></th>\n",
       "      <th>COUNTRY</th>\n",
       "      <th>GDP (BILLIONS)</th>\n",
       "      <th>CODE</th>\n",
       "    </tr>\n",
       "  </thead>\n",
       "  <tbody>\n",
       "    <tr>\n",
       "      <td>0</td>\n",
       "      <td>Afghanistan</td>\n",
       "      <td>21.71</td>\n",
       "      <td>AFG</td>\n",
       "    </tr>\n",
       "    <tr>\n",
       "      <td>1</td>\n",
       "      <td>Albania</td>\n",
       "      <td>13.40</td>\n",
       "      <td>ALB</td>\n",
       "    </tr>\n",
       "    <tr>\n",
       "      <td>2</td>\n",
       "      <td>Algeria</td>\n",
       "      <td>227.80</td>\n",
       "      <td>DZA</td>\n",
       "    </tr>\n",
       "    <tr>\n",
       "      <td>3</td>\n",
       "      <td>American Samoa</td>\n",
       "      <td>0.75</td>\n",
       "      <td>ASM</td>\n",
       "    </tr>\n",
       "    <tr>\n",
       "      <td>4</td>\n",
       "      <td>Andorra</td>\n",
       "      <td>4.80</td>\n",
       "      <td>AND</td>\n",
       "    </tr>\n",
       "  </tbody>\n",
       "</table>\n",
       "</div>"
      ],
      "text/plain": [
       "          COUNTRY  GDP (BILLIONS) CODE\n",
       "0     Afghanistan           21.71  AFG\n",
       "1         Albania           13.40  ALB\n",
       "2         Algeria          227.80  DZA\n",
       "3  American Samoa            0.75  ASM\n",
       "4         Andorra            4.80  AND"
      ]
     },
     "execution_count": 52,
     "metadata": {},
     "output_type": "execute_result"
    }
   ],
   "source": [
    "df.head()"
   ]
  },
  {
   "cell_type": "code",
   "execution_count": 53,
   "metadata": {},
   "outputs": [],
   "source": [
    "data = dict(type='choropleth',\n",
    "           locations=df['CODE'],\n",
    "           z=df['GDP (BILLIONS)'],\n",
    "           text=df['COUNTRY'],\n",
    "           colorbar={'title':'GDP in Billions USD'})"
   ]
  },
  {
   "cell_type": "code",
   "execution_count": 62,
   "metadata": {},
   "outputs": [],
   "source": [
    "layout = dict(title='2014 Global GDP',\n",
    "             geo=dict(showframe=False,\n",
    "                     projection={'type':'natural earth'}))"
   ]
  },
  {
   "cell_type": "code",
   "execution_count": 63,
   "metadata": {},
   "outputs": [],
   "source": [
    "choromap3 = go.Figure(data=[data],layout=layout)"
   ]
  },
  {
   "cell_type": "code",
   "execution_count": 64,
   "metadata": {},
   "outputs": [
    {
     "data": {
      "application/vnd.plotly.v1+json": {
       "config": {
        "linkText": "Export to plot.ly",
        "plotlyServerURL": "https://plot.ly",
        "showLink": false
       },
       "data": [
        {
         "colorbar": {
          "title": {
           "text": "GDP in Billions USD"
          }
         },
         "locations": [
          "AFG",
          "ALB",
          "DZA",
          "ASM",
          "AND",
          "AGO",
          "AIA",
          "ATG",
          "ARG",
          "ARM",
          "ABW",
          "AUS",
          "AUT",
          "AZE",
          "BHM",
          "BHR",
          "BGD",
          "BRB",
          "BLR",
          "BEL",
          "BLZ",
          "BEN",
          "BMU",
          "BTN",
          "BOL",
          "BIH",
          "BWA",
          "BRA",
          "VGB",
          "BRN",
          "BGR",
          "BFA",
          "MMR",
          "BDI",
          "CPV",
          "KHM",
          "CMR",
          "CAN",
          "CYM",
          "CAF",
          "TCD",
          "CHL",
          "CHN",
          "COL",
          "COM",
          "COD",
          "COG",
          "COK",
          "CRI",
          "CIV",
          "HRV",
          "CUB",
          "CUW",
          "CYP",
          "CZE",
          "DNK",
          "DJI",
          "DMA",
          "DOM",
          "ECU",
          "EGY",
          "SLV",
          "GNQ",
          "ERI",
          "EST",
          "ETH",
          "FLK",
          "FRO",
          "FJI",
          "FIN",
          "FRA",
          "PYF",
          "GAB",
          "GMB",
          "GEO",
          "DEU",
          "GHA",
          "GIB",
          "GRC",
          "GRL",
          "GRD",
          "GUM",
          "GTM",
          "GGY",
          "GNB",
          "GIN",
          "GUY",
          "HTI",
          "HND",
          "HKG",
          "HUN",
          "ISL",
          "IND",
          "IDN",
          "IRN",
          "IRQ",
          "IRL",
          "IMN",
          "ISR",
          "ITA",
          "JAM",
          "JPN",
          "JEY",
          "JOR",
          "KAZ",
          "KEN",
          "KIR",
          "KOR",
          "PRK",
          "KSV",
          "KWT",
          "KGZ",
          "LAO",
          "LVA",
          "LBN",
          "LSO",
          "LBR",
          "LBY",
          "LIE",
          "LTU",
          "LUX",
          "MAC",
          "MKD",
          "MDG",
          "MWI",
          "MYS",
          "MDV",
          "MLI",
          "MLT",
          "MHL",
          "MRT",
          "MUS",
          "MEX",
          "FSM",
          "MDA",
          "MCO",
          "MNG",
          "MNE",
          "MAR",
          "MOZ",
          "NAM",
          "NPL",
          "NLD",
          "NCL",
          "NZL",
          "NIC",
          "NGA",
          "NER",
          "NIU",
          "MNP",
          "NOR",
          "OMN",
          "PAK",
          "PLW",
          "PAN",
          "PNG",
          "PRY",
          "PER",
          "PHL",
          "POL",
          "PRT",
          "PRI",
          "QAT",
          "ROU",
          "RUS",
          "RWA",
          "KNA",
          "LCA",
          "MAF",
          "SPM",
          "VCT",
          "WSM",
          "SMR",
          "STP",
          "SAU",
          "SEN",
          "SRB",
          "SYC",
          "SLE",
          "SGP",
          "SXM",
          "SVK",
          "SVN",
          "SLB",
          "SOM",
          "ZAF",
          "SSD",
          "ESP",
          "LKA",
          "SDN",
          "SUR",
          "SWZ",
          "SWE",
          "CHE",
          "SYR",
          "TWN",
          "TJK",
          "TZA",
          "THA",
          "TLS",
          "TGO",
          "TON",
          "TTO",
          "TUN",
          "TUR",
          "TKM",
          "TUV",
          "UGA",
          "UKR",
          "ARE",
          "GBR",
          "USA",
          "URY",
          "UZB",
          "VUT",
          "VEN",
          "VNM",
          "VGB",
          "WBG",
          "YEM",
          "ZMB",
          "ZWE"
         ],
         "text": [
          "Afghanistan",
          "Albania",
          "Algeria",
          "American Samoa",
          "Andorra",
          "Angola",
          "Anguilla",
          "Antigua and Barbuda",
          "Argentina",
          "Armenia",
          "Aruba",
          "Australia",
          "Austria",
          "Azerbaijan",
          "Bahamas, The",
          "Bahrain",
          "Bangladesh",
          "Barbados",
          "Belarus",
          "Belgium",
          "Belize",
          "Benin",
          "Bermuda",
          "Bhutan",
          "Bolivia",
          "Bosnia and Herzegovina",
          "Botswana",
          "Brazil",
          "British Virgin Islands",
          "Brunei",
          "Bulgaria",
          "Burkina Faso",
          "Burma",
          "Burundi",
          "Cabo Verde",
          "Cambodia",
          "Cameroon",
          "Canada",
          "Cayman Islands",
          "Central African Republic",
          "Chad",
          "Chile",
          "China",
          "Colombia",
          "Comoros",
          "Congo, Democratic Republic of the",
          "Congo, Republic of the",
          "Cook Islands",
          "Costa Rica",
          "Cote d'Ivoire",
          "Croatia",
          "Cuba",
          "Curacao",
          "Cyprus",
          "Czech Republic",
          "Denmark",
          "Djibouti",
          "Dominica",
          "Dominican Republic",
          "Ecuador",
          "Egypt",
          "El Salvador",
          "Equatorial Guinea",
          "Eritrea",
          "Estonia",
          "Ethiopia",
          "Falkland Islands (Islas Malvinas)",
          "Faroe Islands",
          "Fiji",
          "Finland",
          "France",
          "French Polynesia",
          "Gabon",
          "Gambia, The",
          "Georgia",
          "Germany",
          "Ghana",
          "Gibraltar",
          "Greece",
          "Greenland",
          "Grenada",
          "Guam",
          "Guatemala",
          "Guernsey",
          "Guinea-Bissau",
          "Guinea",
          "Guyana",
          "Haiti",
          "Honduras",
          "Hong Kong",
          "Hungary",
          "Iceland",
          "India",
          "Indonesia",
          "Iran",
          "Iraq",
          "Ireland",
          "Isle of Man",
          "Israel",
          "Italy",
          "Jamaica",
          "Japan",
          "Jersey",
          "Jordan",
          "Kazakhstan",
          "Kenya",
          "Kiribati",
          "Korea, North",
          "Korea, South",
          "Kosovo",
          "Kuwait",
          "Kyrgyzstan",
          "Laos",
          "Latvia",
          "Lebanon",
          "Lesotho",
          "Liberia",
          "Libya",
          "Liechtenstein",
          "Lithuania",
          "Luxembourg",
          "Macau",
          "Macedonia",
          "Madagascar",
          "Malawi",
          "Malaysia",
          "Maldives",
          "Mali",
          "Malta",
          "Marshall Islands",
          "Mauritania",
          "Mauritius",
          "Mexico",
          "Micronesia, Federated States of",
          "Moldova",
          "Monaco",
          "Mongolia",
          "Montenegro",
          "Morocco",
          "Mozambique",
          "Namibia",
          "Nepal",
          "Netherlands",
          "New Caledonia",
          "New Zealand",
          "Nicaragua",
          "Nigeria",
          "Niger",
          "Niue",
          "Northern Mariana Islands",
          "Norway",
          "Oman",
          "Pakistan",
          "Palau",
          "Panama",
          "Papua New Guinea",
          "Paraguay",
          "Peru",
          "Philippines",
          "Poland",
          "Portugal",
          "Puerto Rico",
          "Qatar",
          "Romania",
          "Russia",
          "Rwanda",
          "Saint Kitts and Nevis",
          "Saint Lucia",
          "Saint Martin",
          "Saint Pierre and Miquelon",
          "Saint Vincent and the Grenadines",
          "Samoa",
          "San Marino",
          "Sao Tome and Principe",
          "Saudi Arabia",
          "Senegal",
          "Serbia",
          "Seychelles",
          "Sierra Leone",
          "Singapore",
          "Sint Maarten",
          "Slovakia",
          "Slovenia",
          "Solomon Islands",
          "Somalia",
          "South Africa",
          "South Sudan",
          "Spain",
          "Sri Lanka",
          "Sudan",
          "Suriname",
          "Swaziland",
          "Sweden",
          "Switzerland",
          "Syria",
          "Taiwan",
          "Tajikistan",
          "Tanzania",
          "Thailand",
          "Timor-Leste",
          "Togo",
          "Tonga",
          "Trinidad and Tobago",
          "Tunisia",
          "Turkey",
          "Turkmenistan",
          "Tuvalu",
          "Uganda",
          "Ukraine",
          "United Arab Emirates",
          "United Kingdom",
          "United States",
          "Uruguay",
          "Uzbekistan",
          "Vanuatu",
          "Venezuela",
          "Vietnam",
          "Virgin Islands",
          "West Bank",
          "Yemen",
          "Zambia",
          "Zimbabwe"
         ],
         "type": "choropleth",
         "z": [
          21.71,
          13.4,
          227.8,
          0.75,
          4.8,
          131.4,
          0.18,
          1.24,
          536.2,
          10.88,
          2.52,
          1483,
          436.1,
          77.91,
          8.65,
          34.05,
          186.6,
          4.28,
          75.25,
          527.8,
          1.67,
          9.24,
          5.2,
          2.09,
          34.08,
          19.55,
          16.3,
          2244,
          1.1,
          17.43,
          55.08,
          13.38,
          65.29,
          3.04,
          1.98,
          16.9,
          32.16,
          1794,
          2.25,
          1.73,
          15.84,
          264.1,
          10360,
          400.1,
          0.72,
          32.67,
          14.11,
          0.18,
          50.46,
          33.96,
          57.18,
          77.15,
          5.6,
          21.34,
          205.6,
          347.2,
          1.58,
          0.51,
          64.05,
          100.5,
          284.9,
          25.14,
          15.4,
          3.87,
          26.36,
          49.86,
          0.16,
          2.32,
          4.17,
          276.3,
          2902,
          7.15,
          20.68,
          0.92,
          16.13,
          3820,
          35.48,
          1.85,
          246.4,
          2.16,
          0.84,
          4.6,
          58.3,
          2.74,
          1.04,
          6.77,
          3.14,
          8.92,
          19.37,
          292.7,
          129.7,
          16.2,
          2048,
          856.1,
          402.7,
          232.2,
          245.8,
          4.08,
          305,
          2129,
          13.92,
          4770,
          5.77,
          36.55,
          225.6,
          62.72,
          0.16,
          28,
          1410,
          5.99,
          179.3,
          7.65,
          11.71,
          32.82,
          47.5,
          2.46,
          2.07,
          49.34,
          5.11,
          48.72,
          63.93,
          51.68,
          10.92,
          11.19,
          4.41,
          336.9,
          2.41,
          12.04,
          10.57,
          0.18,
          4.29,
          12.72,
          1296,
          0.34,
          7.74,
          6.06,
          11.73,
          4.66,
          112.6,
          16.59,
          13.11,
          19.64,
          880.4,
          11.1,
          201,
          11.85,
          594.3,
          8.29,
          0.01,
          1.23,
          511.6,
          80.54,
          237.5,
          0.65,
          44.69,
          16.1,
          31.3,
          208.2,
          284.6,
          552.2,
          228.2,
          93.52,
          212,
          199,
          2057,
          8,
          0.81,
          1.35,
          0.56,
          0.22,
          0.75,
          0.83,
          1.86,
          0.36,
          777.9,
          15.88,
          42.65,
          1.47,
          5.41,
          307.9,
          304.1,
          99.75,
          49.93,
          1.16,
          2.37,
          341.2,
          11.89,
          1400,
          71.57,
          70.03,
          5.27,
          3.84,
          559.1,
          679,
          64.7,
          529.5,
          9.16,
          36.62,
          373.8,
          4.51,
          4.84,
          0.49,
          29.63,
          49.12,
          813.3,
          43.5,
          0.04,
          26.09,
          134.9,
          416.4,
          2848,
          17420,
          55.6,
          63.08,
          0.82,
          209.2,
          187.8,
          5.08,
          6.64,
          45.45,
          25.61,
          13.74
         ]
        }
       ],
       "layout": {
        "geo": {
         "projection": {
          "type": "natural earth"
         },
         "showframe": false
        },
        "template": {
         "data": {
          "bar": [
           {
            "error_x": {
             "color": "#2a3f5f"
            },
            "error_y": {
             "color": "#2a3f5f"
            },
            "marker": {
             "line": {
              "color": "#E5ECF6",
              "width": 0.5
             }
            },
            "type": "bar"
           }
          ],
          "barpolar": [
           {
            "marker": {
             "line": {
              "color": "#E5ECF6",
              "width": 0.5
             }
            },
            "type": "barpolar"
           }
          ],
          "carpet": [
           {
            "aaxis": {
             "endlinecolor": "#2a3f5f",
             "gridcolor": "white",
             "linecolor": "white",
             "minorgridcolor": "white",
             "startlinecolor": "#2a3f5f"
            },
            "baxis": {
             "endlinecolor": "#2a3f5f",
             "gridcolor": "white",
             "linecolor": "white",
             "minorgridcolor": "white",
             "startlinecolor": "#2a3f5f"
            },
            "type": "carpet"
           }
          ],
          "choropleth": [
           {
            "colorbar": {
             "outlinewidth": 0,
             "ticks": ""
            },
            "type": "choropleth"
           }
          ],
          "contour": [
           {
            "colorbar": {
             "outlinewidth": 0,
             "ticks": ""
            },
            "colorscale": [
             [
              0,
              "#0d0887"
             ],
             [
              0.1111111111111111,
              "#46039f"
             ],
             [
              0.2222222222222222,
              "#7201a8"
             ],
             [
              0.3333333333333333,
              "#9c179e"
             ],
             [
              0.4444444444444444,
              "#bd3786"
             ],
             [
              0.5555555555555556,
              "#d8576b"
             ],
             [
              0.6666666666666666,
              "#ed7953"
             ],
             [
              0.7777777777777778,
              "#fb9f3a"
             ],
             [
              0.8888888888888888,
              "#fdca26"
             ],
             [
              1,
              "#f0f921"
             ]
            ],
            "type": "contour"
           }
          ],
          "contourcarpet": [
           {
            "colorbar": {
             "outlinewidth": 0,
             "ticks": ""
            },
            "type": "contourcarpet"
           }
          ],
          "heatmap": [
           {
            "colorbar": {
             "outlinewidth": 0,
             "ticks": ""
            },
            "colorscale": [
             [
              0,
              "#0d0887"
             ],
             [
              0.1111111111111111,
              "#46039f"
             ],
             [
              0.2222222222222222,
              "#7201a8"
             ],
             [
              0.3333333333333333,
              "#9c179e"
             ],
             [
              0.4444444444444444,
              "#bd3786"
             ],
             [
              0.5555555555555556,
              "#d8576b"
             ],
             [
              0.6666666666666666,
              "#ed7953"
             ],
             [
              0.7777777777777778,
              "#fb9f3a"
             ],
             [
              0.8888888888888888,
              "#fdca26"
             ],
             [
              1,
              "#f0f921"
             ]
            ],
            "type": "heatmap"
           }
          ],
          "heatmapgl": [
           {
            "colorbar": {
             "outlinewidth": 0,
             "ticks": ""
            },
            "colorscale": [
             [
              0,
              "#0d0887"
             ],
             [
              0.1111111111111111,
              "#46039f"
             ],
             [
              0.2222222222222222,
              "#7201a8"
             ],
             [
              0.3333333333333333,
              "#9c179e"
             ],
             [
              0.4444444444444444,
              "#bd3786"
             ],
             [
              0.5555555555555556,
              "#d8576b"
             ],
             [
              0.6666666666666666,
              "#ed7953"
             ],
             [
              0.7777777777777778,
              "#fb9f3a"
             ],
             [
              0.8888888888888888,
              "#fdca26"
             ],
             [
              1,
              "#f0f921"
             ]
            ],
            "type": "heatmapgl"
           }
          ],
          "histogram": [
           {
            "marker": {
             "colorbar": {
              "outlinewidth": 0,
              "ticks": ""
             }
            },
            "type": "histogram"
           }
          ],
          "histogram2d": [
           {
            "colorbar": {
             "outlinewidth": 0,
             "ticks": ""
            },
            "colorscale": [
             [
              0,
              "#0d0887"
             ],
             [
              0.1111111111111111,
              "#46039f"
             ],
             [
              0.2222222222222222,
              "#7201a8"
             ],
             [
              0.3333333333333333,
              "#9c179e"
             ],
             [
              0.4444444444444444,
              "#bd3786"
             ],
             [
              0.5555555555555556,
              "#d8576b"
             ],
             [
              0.6666666666666666,
              "#ed7953"
             ],
             [
              0.7777777777777778,
              "#fb9f3a"
             ],
             [
              0.8888888888888888,
              "#fdca26"
             ],
             [
              1,
              "#f0f921"
             ]
            ],
            "type": "histogram2d"
           }
          ],
          "histogram2dcontour": [
           {
            "colorbar": {
             "outlinewidth": 0,
             "ticks": ""
            },
            "colorscale": [
             [
              0,
              "#0d0887"
             ],
             [
              0.1111111111111111,
              "#46039f"
             ],
             [
              0.2222222222222222,
              "#7201a8"
             ],
             [
              0.3333333333333333,
              "#9c179e"
             ],
             [
              0.4444444444444444,
              "#bd3786"
             ],
             [
              0.5555555555555556,
              "#d8576b"
             ],
             [
              0.6666666666666666,
              "#ed7953"
             ],
             [
              0.7777777777777778,
              "#fb9f3a"
             ],
             [
              0.8888888888888888,
              "#fdca26"
             ],
             [
              1,
              "#f0f921"
             ]
            ],
            "type": "histogram2dcontour"
           }
          ],
          "mesh3d": [
           {
            "colorbar": {
             "outlinewidth": 0,
             "ticks": ""
            },
            "type": "mesh3d"
           }
          ],
          "parcoords": [
           {
            "line": {
             "colorbar": {
              "outlinewidth": 0,
              "ticks": ""
             }
            },
            "type": "parcoords"
           }
          ],
          "pie": [
           {
            "automargin": true,
            "type": "pie"
           }
          ],
          "scatter": [
           {
            "marker": {
             "colorbar": {
              "outlinewidth": 0,
              "ticks": ""
             }
            },
            "type": "scatter"
           }
          ],
          "scatter3d": [
           {
            "line": {
             "colorbar": {
              "outlinewidth": 0,
              "ticks": ""
             }
            },
            "marker": {
             "colorbar": {
              "outlinewidth": 0,
              "ticks": ""
             }
            },
            "type": "scatter3d"
           }
          ],
          "scattercarpet": [
           {
            "marker": {
             "colorbar": {
              "outlinewidth": 0,
              "ticks": ""
             }
            },
            "type": "scattercarpet"
           }
          ],
          "scattergeo": [
           {
            "marker": {
             "colorbar": {
              "outlinewidth": 0,
              "ticks": ""
             }
            },
            "type": "scattergeo"
           }
          ],
          "scattergl": [
           {
            "marker": {
             "colorbar": {
              "outlinewidth": 0,
              "ticks": ""
             }
            },
            "type": "scattergl"
           }
          ],
          "scattermapbox": [
           {
            "marker": {
             "colorbar": {
              "outlinewidth": 0,
              "ticks": ""
             }
            },
            "type": "scattermapbox"
           }
          ],
          "scatterpolar": [
           {
            "marker": {
             "colorbar": {
              "outlinewidth": 0,
              "ticks": ""
             }
            },
            "type": "scatterpolar"
           }
          ],
          "scatterpolargl": [
           {
            "marker": {
             "colorbar": {
              "outlinewidth": 0,
              "ticks": ""
             }
            },
            "type": "scatterpolargl"
           }
          ],
          "scatterternary": [
           {
            "marker": {
             "colorbar": {
              "outlinewidth": 0,
              "ticks": ""
             }
            },
            "type": "scatterternary"
           }
          ],
          "surface": [
           {
            "colorbar": {
             "outlinewidth": 0,
             "ticks": ""
            },
            "colorscale": [
             [
              0,
              "#0d0887"
             ],
             [
              0.1111111111111111,
              "#46039f"
             ],
             [
              0.2222222222222222,
              "#7201a8"
             ],
             [
              0.3333333333333333,
              "#9c179e"
             ],
             [
              0.4444444444444444,
              "#bd3786"
             ],
             [
              0.5555555555555556,
              "#d8576b"
             ],
             [
              0.6666666666666666,
              "#ed7953"
             ],
             [
              0.7777777777777778,
              "#fb9f3a"
             ],
             [
              0.8888888888888888,
              "#fdca26"
             ],
             [
              1,
              "#f0f921"
             ]
            ],
            "type": "surface"
           }
          ],
          "table": [
           {
            "cells": {
             "fill": {
              "color": "#EBF0F8"
             },
             "line": {
              "color": "white"
             }
            },
            "header": {
             "fill": {
              "color": "#C8D4E3"
             },
             "line": {
              "color": "white"
             }
            },
            "type": "table"
           }
          ]
         },
         "layout": {
          "annotationdefaults": {
           "arrowcolor": "#2a3f5f",
           "arrowhead": 0,
           "arrowwidth": 1
          },
          "coloraxis": {
           "colorbar": {
            "outlinewidth": 0,
            "ticks": ""
           }
          },
          "colorscale": {
           "diverging": [
            [
             0,
             "#8e0152"
            ],
            [
             0.1,
             "#c51b7d"
            ],
            [
             0.2,
             "#de77ae"
            ],
            [
             0.3,
             "#f1b6da"
            ],
            [
             0.4,
             "#fde0ef"
            ],
            [
             0.5,
             "#f7f7f7"
            ],
            [
             0.6,
             "#e6f5d0"
            ],
            [
             0.7,
             "#b8e186"
            ],
            [
             0.8,
             "#7fbc41"
            ],
            [
             0.9,
             "#4d9221"
            ],
            [
             1,
             "#276419"
            ]
           ],
           "sequential": [
            [
             0,
             "#0d0887"
            ],
            [
             0.1111111111111111,
             "#46039f"
            ],
            [
             0.2222222222222222,
             "#7201a8"
            ],
            [
             0.3333333333333333,
             "#9c179e"
            ],
            [
             0.4444444444444444,
             "#bd3786"
            ],
            [
             0.5555555555555556,
             "#d8576b"
            ],
            [
             0.6666666666666666,
             "#ed7953"
            ],
            [
             0.7777777777777778,
             "#fb9f3a"
            ],
            [
             0.8888888888888888,
             "#fdca26"
            ],
            [
             1,
             "#f0f921"
            ]
           ],
           "sequentialminus": [
            [
             0,
             "#0d0887"
            ],
            [
             0.1111111111111111,
             "#46039f"
            ],
            [
             0.2222222222222222,
             "#7201a8"
            ],
            [
             0.3333333333333333,
             "#9c179e"
            ],
            [
             0.4444444444444444,
             "#bd3786"
            ],
            [
             0.5555555555555556,
             "#d8576b"
            ],
            [
             0.6666666666666666,
             "#ed7953"
            ],
            [
             0.7777777777777778,
             "#fb9f3a"
            ],
            [
             0.8888888888888888,
             "#fdca26"
            ],
            [
             1,
             "#f0f921"
            ]
           ]
          },
          "colorway": [
           "#636efa",
           "#EF553B",
           "#00cc96",
           "#ab63fa",
           "#FFA15A",
           "#19d3f3",
           "#FF6692",
           "#B6E880",
           "#FF97FF",
           "#FECB52"
          ],
          "font": {
           "color": "#2a3f5f"
          },
          "geo": {
           "bgcolor": "white",
           "lakecolor": "white",
           "landcolor": "#E5ECF6",
           "showlakes": true,
           "showland": true,
           "subunitcolor": "white"
          },
          "hoverlabel": {
           "align": "left"
          },
          "hovermode": "closest",
          "mapbox": {
           "style": "light"
          },
          "paper_bgcolor": "white",
          "plot_bgcolor": "#E5ECF6",
          "polar": {
           "angularaxis": {
            "gridcolor": "white",
            "linecolor": "white",
            "ticks": ""
           },
           "bgcolor": "#E5ECF6",
           "radialaxis": {
            "gridcolor": "white",
            "linecolor": "white",
            "ticks": ""
           }
          },
          "scene": {
           "xaxis": {
            "backgroundcolor": "#E5ECF6",
            "gridcolor": "white",
            "gridwidth": 2,
            "linecolor": "white",
            "showbackground": true,
            "ticks": "",
            "zerolinecolor": "white"
           },
           "yaxis": {
            "backgroundcolor": "#E5ECF6",
            "gridcolor": "white",
            "gridwidth": 2,
            "linecolor": "white",
            "showbackground": true,
            "ticks": "",
            "zerolinecolor": "white"
           },
           "zaxis": {
            "backgroundcolor": "#E5ECF6",
            "gridcolor": "white",
            "gridwidth": 2,
            "linecolor": "white",
            "showbackground": true,
            "ticks": "",
            "zerolinecolor": "white"
           }
          },
          "shapedefaults": {
           "line": {
            "color": "#2a3f5f"
           }
          },
          "ternary": {
           "aaxis": {
            "gridcolor": "white",
            "linecolor": "white",
            "ticks": ""
           },
           "baxis": {
            "gridcolor": "white",
            "linecolor": "white",
            "ticks": ""
           },
           "bgcolor": "#E5ECF6",
           "caxis": {
            "gridcolor": "white",
            "linecolor": "white",
            "ticks": ""
           }
          },
          "title": {
           "x": 0.05
          },
          "xaxis": {
           "automargin": true,
           "gridcolor": "white",
           "linecolor": "white",
           "ticks": "",
           "title": {
            "standoff": 15
           },
           "zerolinecolor": "white",
           "zerolinewidth": 2
          },
          "yaxis": {
           "automargin": true,
           "gridcolor": "white",
           "linecolor": "white",
           "ticks": "",
           "title": {
            "standoff": 15
           },
           "zerolinecolor": "white",
           "zerolinewidth": 2
          }
         }
        },
        "title": {
         "text": "2014 Global GDP"
        }
       }
      },
      "text/html": [
       "<div>\n",
       "        \n",
       "        \n",
       "            <div id=\"07aea053-a51a-4932-b49f-899716937a5e\" class=\"plotly-graph-div\" style=\"height:525px; width:100%;\"></div>\n",
       "            <script type=\"text/javascript\">\n",
       "                require([\"plotly\"], function(Plotly) {\n",
       "                    window.PLOTLYENV=window.PLOTLYENV || {};\n",
       "                    \n",
       "                if (document.getElementById(\"07aea053-a51a-4932-b49f-899716937a5e\")) {\n",
       "                    Plotly.newPlot(\n",
       "                        '07aea053-a51a-4932-b49f-899716937a5e',\n",
       "                        [{\"colorbar\": {\"title\": {\"text\": \"GDP in Billions USD\"}}, \"locations\": [\"AFG\", \"ALB\", \"DZA\", \"ASM\", \"AND\", \"AGO\", \"AIA\", \"ATG\", \"ARG\", \"ARM\", \"ABW\", \"AUS\", \"AUT\", \"AZE\", \"BHM\", \"BHR\", \"BGD\", \"BRB\", \"BLR\", \"BEL\", \"BLZ\", \"BEN\", \"BMU\", \"BTN\", \"BOL\", \"BIH\", \"BWA\", \"BRA\", \"VGB\", \"BRN\", \"BGR\", \"BFA\", \"MMR\", \"BDI\", \"CPV\", \"KHM\", \"CMR\", \"CAN\", \"CYM\", \"CAF\", \"TCD\", \"CHL\", \"CHN\", \"COL\", \"COM\", \"COD\", \"COG\", \"COK\", \"CRI\", \"CIV\", \"HRV\", \"CUB\", \"CUW\", \"CYP\", \"CZE\", \"DNK\", \"DJI\", \"DMA\", \"DOM\", \"ECU\", \"EGY\", \"SLV\", \"GNQ\", \"ERI\", \"EST\", \"ETH\", \"FLK\", \"FRO\", \"FJI\", \"FIN\", \"FRA\", \"PYF\", \"GAB\", \"GMB\", \"GEO\", \"DEU\", \"GHA\", \"GIB\", \"GRC\", \"GRL\", \"GRD\", \"GUM\", \"GTM\", \"GGY\", \"GNB\", \"GIN\", \"GUY\", \"HTI\", \"HND\", \"HKG\", \"HUN\", \"ISL\", \"IND\", \"IDN\", \"IRN\", \"IRQ\", \"IRL\", \"IMN\", \"ISR\", \"ITA\", \"JAM\", \"JPN\", \"JEY\", \"JOR\", \"KAZ\", \"KEN\", \"KIR\", \"KOR\", \"PRK\", \"KSV\", \"KWT\", \"KGZ\", \"LAO\", \"LVA\", \"LBN\", \"LSO\", \"LBR\", \"LBY\", \"LIE\", \"LTU\", \"LUX\", \"MAC\", \"MKD\", \"MDG\", \"MWI\", \"MYS\", \"MDV\", \"MLI\", \"MLT\", \"MHL\", \"MRT\", \"MUS\", \"MEX\", \"FSM\", \"MDA\", \"MCO\", \"MNG\", \"MNE\", \"MAR\", \"MOZ\", \"NAM\", \"NPL\", \"NLD\", \"NCL\", \"NZL\", \"NIC\", \"NGA\", \"NER\", \"NIU\", \"MNP\", \"NOR\", \"OMN\", \"PAK\", \"PLW\", \"PAN\", \"PNG\", \"PRY\", \"PER\", \"PHL\", \"POL\", \"PRT\", \"PRI\", \"QAT\", \"ROU\", \"RUS\", \"RWA\", \"KNA\", \"LCA\", \"MAF\", \"SPM\", \"VCT\", \"WSM\", \"SMR\", \"STP\", \"SAU\", \"SEN\", \"SRB\", \"SYC\", \"SLE\", \"SGP\", \"SXM\", \"SVK\", \"SVN\", \"SLB\", \"SOM\", \"ZAF\", \"SSD\", \"ESP\", \"LKA\", \"SDN\", \"SUR\", \"SWZ\", \"SWE\", \"CHE\", \"SYR\", \"TWN\", \"TJK\", \"TZA\", \"THA\", \"TLS\", \"TGO\", \"TON\", \"TTO\", \"TUN\", \"TUR\", \"TKM\", \"TUV\", \"UGA\", \"UKR\", \"ARE\", \"GBR\", \"USA\", \"URY\", \"UZB\", \"VUT\", \"VEN\", \"VNM\", \"VGB\", \"WBG\", \"YEM\", \"ZMB\", \"ZWE\"], \"text\": [\"Afghanistan\", \"Albania\", \"Algeria\", \"American Samoa\", \"Andorra\", \"Angola\", \"Anguilla\", \"Antigua and Barbuda\", \"Argentina\", \"Armenia\", \"Aruba\", \"Australia\", \"Austria\", \"Azerbaijan\", \"Bahamas, The\", \"Bahrain\", \"Bangladesh\", \"Barbados\", \"Belarus\", \"Belgium\", \"Belize\", \"Benin\", \"Bermuda\", \"Bhutan\", \"Bolivia\", \"Bosnia and Herzegovina\", \"Botswana\", \"Brazil\", \"British Virgin Islands\", \"Brunei\", \"Bulgaria\", \"Burkina Faso\", \"Burma\", \"Burundi\", \"Cabo Verde\", \"Cambodia\", \"Cameroon\", \"Canada\", \"Cayman Islands\", \"Central African Republic\", \"Chad\", \"Chile\", \"China\", \"Colombia\", \"Comoros\", \"Congo, Democratic Republic of the\", \"Congo, Republic of the\", \"Cook Islands\", \"Costa Rica\", \"Cote d'Ivoire\", \"Croatia\", \"Cuba\", \"Curacao\", \"Cyprus\", \"Czech Republic\", \"Denmark\", \"Djibouti\", \"Dominica\", \"Dominican Republic\", \"Ecuador\", \"Egypt\", \"El Salvador\", \"Equatorial Guinea\", \"Eritrea\", \"Estonia\", \"Ethiopia\", \"Falkland Islands (Islas Malvinas)\", \"Faroe Islands\", \"Fiji\", \"Finland\", \"France\", \"French Polynesia\", \"Gabon\", \"Gambia, The\", \"Georgia\", \"Germany\", \"Ghana\", \"Gibraltar\", \"Greece\", \"Greenland\", \"Grenada\", \"Guam\", \"Guatemala\", \"Guernsey\", \"Guinea-Bissau\", \"Guinea\", \"Guyana\", \"Haiti\", \"Honduras\", \"Hong Kong\", \"Hungary\", \"Iceland\", \"India\", \"Indonesia\", \"Iran\", \"Iraq\", \"Ireland\", \"Isle of Man\", \"Israel\", \"Italy\", \"Jamaica\", \"Japan\", \"Jersey\", \"Jordan\", \"Kazakhstan\", \"Kenya\", \"Kiribati\", \"Korea, North\", \"Korea, South\", \"Kosovo\", \"Kuwait\", \"Kyrgyzstan\", \"Laos\", \"Latvia\", \"Lebanon\", \"Lesotho\", \"Liberia\", \"Libya\", \"Liechtenstein\", \"Lithuania\", \"Luxembourg\", \"Macau\", \"Macedonia\", \"Madagascar\", \"Malawi\", \"Malaysia\", \"Maldives\", \"Mali\", \"Malta\", \"Marshall Islands\", \"Mauritania\", \"Mauritius\", \"Mexico\", \"Micronesia, Federated States of\", \"Moldova\", \"Monaco\", \"Mongolia\", \"Montenegro\", \"Morocco\", \"Mozambique\", \"Namibia\", \"Nepal\", \"Netherlands\", \"New Caledonia\", \"New Zealand\", \"Nicaragua\", \"Nigeria\", \"Niger\", \"Niue\", \"Northern Mariana Islands\", \"Norway\", \"Oman\", \"Pakistan\", \"Palau\", \"Panama\", \"Papua New Guinea\", \"Paraguay\", \"Peru\", \"Philippines\", \"Poland\", \"Portugal\", \"Puerto Rico\", \"Qatar\", \"Romania\", \"Russia\", \"Rwanda\", \"Saint Kitts and Nevis\", \"Saint Lucia\", \"Saint Martin\", \"Saint Pierre and Miquelon\", \"Saint Vincent and the Grenadines\", \"Samoa\", \"San Marino\", \"Sao Tome and Principe\", \"Saudi Arabia\", \"Senegal\", \"Serbia\", \"Seychelles\", \"Sierra Leone\", \"Singapore\", \"Sint Maarten\", \"Slovakia\", \"Slovenia\", \"Solomon Islands\", \"Somalia\", \"South Africa\", \"South Sudan\", \"Spain\", \"Sri Lanka\", \"Sudan\", \"Suriname\", \"Swaziland\", \"Sweden\", \"Switzerland\", \"Syria\", \"Taiwan\", \"Tajikistan\", \"Tanzania\", \"Thailand\", \"Timor-Leste\", \"Togo\", \"Tonga\", \"Trinidad and Tobago\", \"Tunisia\", \"Turkey\", \"Turkmenistan\", \"Tuvalu\", \"Uganda\", \"Ukraine\", \"United Arab Emirates\", \"United Kingdom\", \"United States\", \"Uruguay\", \"Uzbekistan\", \"Vanuatu\", \"Venezuela\", \"Vietnam\", \"Virgin Islands\", \"West Bank\", \"Yemen\", \"Zambia\", \"Zimbabwe\"], \"type\": \"choropleth\", \"z\": [21.71, 13.4, 227.8, 0.75, 4.8, 131.4, 0.18, 1.24, 536.2, 10.88, 2.52, 1483.0, 436.1, 77.91, 8.65, 34.05, 186.6, 4.28, 75.25, 527.8, 1.67, 9.24, 5.2, 2.09, 34.08, 19.55, 16.3, 2244.0, 1.1, 17.43, 55.08, 13.38, 65.29, 3.04, 1.98, 16.9, 32.16, 1794.0, 2.25, 1.73, 15.84, 264.1, 10360.0, 400.1, 0.72, 32.67, 14.11, 0.18, 50.46, 33.96, 57.18, 77.15, 5.6, 21.34, 205.6, 347.2, 1.58, 0.51, 64.05, 100.5, 284.9, 25.14, 15.4, 3.87, 26.36, 49.86, 0.16, 2.32, 4.17, 276.3, 2902.0, 7.15, 20.68, 0.92, 16.13, 3820.0, 35.48, 1.85, 246.4, 2.16, 0.84, 4.6, 58.3, 2.74, 1.04, 6.77, 3.14, 8.92, 19.37, 292.7, 129.7, 16.2, 2048.0, 856.1, 402.7, 232.2, 245.8, 4.08, 305.0, 2129.0, 13.92, 4770.0, 5.77, 36.55, 225.6, 62.72, 0.16, 28.0, 1410.0, 5.99, 179.3, 7.65, 11.71, 32.82, 47.5, 2.46, 2.07, 49.34, 5.11, 48.72, 63.93, 51.68, 10.92, 11.19, 4.41, 336.9, 2.41, 12.04, 10.57, 0.18, 4.29, 12.72, 1296.0, 0.34, 7.74, 6.06, 11.73, 4.66, 112.6, 16.59, 13.11, 19.64, 880.4, 11.1, 201.0, 11.85, 594.3, 8.29, 0.01, 1.23, 511.6, 80.54, 237.5, 0.65, 44.69, 16.1, 31.3, 208.2, 284.6, 552.2, 228.2, 93.52, 212.0, 199.0, 2057.0, 8.0, 0.81, 1.35, 0.56, 0.22, 0.75, 0.83, 1.86, 0.36, 777.9, 15.88, 42.65, 1.47, 5.41, 307.9, 304.1, 99.75, 49.93, 1.16, 2.37, 341.2, 11.89, 1400.0, 71.57, 70.03, 5.27, 3.84, 559.1, 679.0, 64.7, 529.5, 9.16, 36.62, 373.8, 4.51, 4.84, 0.49, 29.63, 49.12, 813.3, 43.5, 0.04, 26.09, 134.9, 416.4, 2848.0, 17420.0, 55.6, 63.08, 0.82, 209.2, 187.8, 5.08, 6.64, 45.45, 25.61, 13.74]}],\n",
       "                        {\"geo\": {\"projection\": {\"type\": \"natural earth\"}, \"showframe\": false}, \"template\": {\"data\": {\"bar\": [{\"error_x\": {\"color\": \"#2a3f5f\"}, \"error_y\": {\"color\": \"#2a3f5f\"}, \"marker\": {\"line\": {\"color\": \"#E5ECF6\", \"width\": 0.5}}, \"type\": \"bar\"}], \"barpolar\": [{\"marker\": {\"line\": {\"color\": \"#E5ECF6\", \"width\": 0.5}}, \"type\": \"barpolar\"}], \"carpet\": [{\"aaxis\": {\"endlinecolor\": \"#2a3f5f\", \"gridcolor\": \"white\", \"linecolor\": \"white\", \"minorgridcolor\": \"white\", \"startlinecolor\": \"#2a3f5f\"}, \"baxis\": {\"endlinecolor\": \"#2a3f5f\", \"gridcolor\": \"white\", \"linecolor\": \"white\", \"minorgridcolor\": \"white\", \"startlinecolor\": \"#2a3f5f\"}, \"type\": \"carpet\"}], \"choropleth\": [{\"colorbar\": {\"outlinewidth\": 0, \"ticks\": \"\"}, \"type\": \"choropleth\"}], \"contour\": [{\"colorbar\": {\"outlinewidth\": 0, \"ticks\": \"\"}, \"colorscale\": [[0.0, \"#0d0887\"], [0.1111111111111111, \"#46039f\"], [0.2222222222222222, \"#7201a8\"], [0.3333333333333333, \"#9c179e\"], [0.4444444444444444, \"#bd3786\"], [0.5555555555555556, \"#d8576b\"], [0.6666666666666666, \"#ed7953\"], [0.7777777777777778, \"#fb9f3a\"], [0.8888888888888888, \"#fdca26\"], [1.0, \"#f0f921\"]], \"type\": \"contour\"}], \"contourcarpet\": [{\"colorbar\": {\"outlinewidth\": 0, \"ticks\": \"\"}, \"type\": \"contourcarpet\"}], \"heatmap\": [{\"colorbar\": {\"outlinewidth\": 0, \"ticks\": \"\"}, \"colorscale\": [[0.0, \"#0d0887\"], [0.1111111111111111, \"#46039f\"], [0.2222222222222222, \"#7201a8\"], [0.3333333333333333, \"#9c179e\"], [0.4444444444444444, \"#bd3786\"], [0.5555555555555556, \"#d8576b\"], [0.6666666666666666, \"#ed7953\"], [0.7777777777777778, \"#fb9f3a\"], [0.8888888888888888, \"#fdca26\"], [1.0, \"#f0f921\"]], \"type\": \"heatmap\"}], \"heatmapgl\": [{\"colorbar\": {\"outlinewidth\": 0, \"ticks\": \"\"}, \"colorscale\": [[0.0, \"#0d0887\"], [0.1111111111111111, \"#46039f\"], [0.2222222222222222, \"#7201a8\"], [0.3333333333333333, \"#9c179e\"], [0.4444444444444444, \"#bd3786\"], [0.5555555555555556, \"#d8576b\"], [0.6666666666666666, \"#ed7953\"], [0.7777777777777778, \"#fb9f3a\"], [0.8888888888888888, \"#fdca26\"], [1.0, \"#f0f921\"]], \"type\": \"heatmapgl\"}], \"histogram\": [{\"marker\": {\"colorbar\": {\"outlinewidth\": 0, \"ticks\": \"\"}}, \"type\": \"histogram\"}], \"histogram2d\": [{\"colorbar\": {\"outlinewidth\": 0, \"ticks\": \"\"}, \"colorscale\": [[0.0, \"#0d0887\"], [0.1111111111111111, \"#46039f\"], [0.2222222222222222, \"#7201a8\"], [0.3333333333333333, \"#9c179e\"], [0.4444444444444444, \"#bd3786\"], [0.5555555555555556, \"#d8576b\"], [0.6666666666666666, \"#ed7953\"], [0.7777777777777778, \"#fb9f3a\"], [0.8888888888888888, \"#fdca26\"], [1.0, \"#f0f921\"]], \"type\": \"histogram2d\"}], \"histogram2dcontour\": [{\"colorbar\": {\"outlinewidth\": 0, \"ticks\": \"\"}, \"colorscale\": [[0.0, \"#0d0887\"], [0.1111111111111111, \"#46039f\"], [0.2222222222222222, \"#7201a8\"], [0.3333333333333333, \"#9c179e\"], [0.4444444444444444, \"#bd3786\"], [0.5555555555555556, \"#d8576b\"], [0.6666666666666666, \"#ed7953\"], [0.7777777777777778, \"#fb9f3a\"], [0.8888888888888888, \"#fdca26\"], [1.0, \"#f0f921\"]], \"type\": \"histogram2dcontour\"}], \"mesh3d\": [{\"colorbar\": {\"outlinewidth\": 0, \"ticks\": \"\"}, \"type\": \"mesh3d\"}], \"parcoords\": [{\"line\": {\"colorbar\": {\"outlinewidth\": 0, \"ticks\": \"\"}}, \"type\": \"parcoords\"}], \"pie\": [{\"automargin\": true, \"type\": \"pie\"}], \"scatter\": [{\"marker\": {\"colorbar\": {\"outlinewidth\": 0, \"ticks\": \"\"}}, \"type\": \"scatter\"}], \"scatter3d\": [{\"line\": {\"colorbar\": {\"outlinewidth\": 0, \"ticks\": \"\"}}, \"marker\": {\"colorbar\": {\"outlinewidth\": 0, \"ticks\": \"\"}}, \"type\": \"scatter3d\"}], \"scattercarpet\": [{\"marker\": {\"colorbar\": {\"outlinewidth\": 0, \"ticks\": \"\"}}, \"type\": \"scattercarpet\"}], \"scattergeo\": [{\"marker\": {\"colorbar\": {\"outlinewidth\": 0, \"ticks\": \"\"}}, \"type\": \"scattergeo\"}], \"scattergl\": [{\"marker\": {\"colorbar\": {\"outlinewidth\": 0, \"ticks\": \"\"}}, \"type\": \"scattergl\"}], \"scattermapbox\": [{\"marker\": {\"colorbar\": {\"outlinewidth\": 0, \"ticks\": \"\"}}, \"type\": \"scattermapbox\"}], \"scatterpolar\": [{\"marker\": {\"colorbar\": {\"outlinewidth\": 0, \"ticks\": \"\"}}, \"type\": \"scatterpolar\"}], \"scatterpolargl\": [{\"marker\": {\"colorbar\": {\"outlinewidth\": 0, \"ticks\": \"\"}}, \"type\": \"scatterpolargl\"}], \"scatterternary\": [{\"marker\": {\"colorbar\": {\"outlinewidth\": 0, \"ticks\": \"\"}}, \"type\": \"scatterternary\"}], \"surface\": [{\"colorbar\": {\"outlinewidth\": 0, \"ticks\": \"\"}, \"colorscale\": [[0.0, \"#0d0887\"], [0.1111111111111111, \"#46039f\"], [0.2222222222222222, \"#7201a8\"], [0.3333333333333333, \"#9c179e\"], [0.4444444444444444, \"#bd3786\"], [0.5555555555555556, \"#d8576b\"], [0.6666666666666666, \"#ed7953\"], [0.7777777777777778, \"#fb9f3a\"], [0.8888888888888888, \"#fdca26\"], [1.0, \"#f0f921\"]], \"type\": \"surface\"}], \"table\": [{\"cells\": {\"fill\": {\"color\": \"#EBF0F8\"}, \"line\": {\"color\": \"white\"}}, \"header\": {\"fill\": {\"color\": \"#C8D4E3\"}, \"line\": {\"color\": \"white\"}}, \"type\": \"table\"}]}, \"layout\": {\"annotationdefaults\": {\"arrowcolor\": \"#2a3f5f\", \"arrowhead\": 0, \"arrowwidth\": 1}, \"coloraxis\": {\"colorbar\": {\"outlinewidth\": 0, \"ticks\": \"\"}}, \"colorscale\": {\"diverging\": [[0, \"#8e0152\"], [0.1, \"#c51b7d\"], [0.2, \"#de77ae\"], [0.3, \"#f1b6da\"], [0.4, \"#fde0ef\"], [0.5, \"#f7f7f7\"], [0.6, \"#e6f5d0\"], [0.7, \"#b8e186\"], [0.8, \"#7fbc41\"], [0.9, \"#4d9221\"], [1, \"#276419\"]], \"sequential\": [[0.0, \"#0d0887\"], [0.1111111111111111, \"#46039f\"], [0.2222222222222222, \"#7201a8\"], [0.3333333333333333, \"#9c179e\"], [0.4444444444444444, \"#bd3786\"], [0.5555555555555556, \"#d8576b\"], [0.6666666666666666, \"#ed7953\"], [0.7777777777777778, \"#fb9f3a\"], [0.8888888888888888, \"#fdca26\"], [1.0, \"#f0f921\"]], \"sequentialminus\": [[0.0, \"#0d0887\"], [0.1111111111111111, \"#46039f\"], [0.2222222222222222, \"#7201a8\"], [0.3333333333333333, \"#9c179e\"], [0.4444444444444444, \"#bd3786\"], [0.5555555555555556, \"#d8576b\"], [0.6666666666666666, \"#ed7953\"], [0.7777777777777778, \"#fb9f3a\"], [0.8888888888888888, \"#fdca26\"], [1.0, \"#f0f921\"]]}, \"colorway\": [\"#636efa\", \"#EF553B\", \"#00cc96\", \"#ab63fa\", \"#FFA15A\", \"#19d3f3\", \"#FF6692\", \"#B6E880\", \"#FF97FF\", \"#FECB52\"], \"font\": {\"color\": \"#2a3f5f\"}, \"geo\": {\"bgcolor\": \"white\", \"lakecolor\": \"white\", \"landcolor\": \"#E5ECF6\", \"showlakes\": true, \"showland\": true, \"subunitcolor\": \"white\"}, \"hoverlabel\": {\"align\": \"left\"}, \"hovermode\": \"closest\", \"mapbox\": {\"style\": \"light\"}, \"paper_bgcolor\": \"white\", \"plot_bgcolor\": \"#E5ECF6\", \"polar\": {\"angularaxis\": {\"gridcolor\": \"white\", \"linecolor\": \"white\", \"ticks\": \"\"}, \"bgcolor\": \"#E5ECF6\", \"radialaxis\": {\"gridcolor\": \"white\", \"linecolor\": \"white\", \"ticks\": \"\"}}, \"scene\": {\"xaxis\": {\"backgroundcolor\": \"#E5ECF6\", \"gridcolor\": \"white\", \"gridwidth\": 2, \"linecolor\": \"white\", \"showbackground\": true, \"ticks\": \"\", \"zerolinecolor\": \"white\"}, \"yaxis\": {\"backgroundcolor\": \"#E5ECF6\", \"gridcolor\": \"white\", \"gridwidth\": 2, \"linecolor\": \"white\", \"showbackground\": true, \"ticks\": \"\", \"zerolinecolor\": \"white\"}, \"zaxis\": {\"backgroundcolor\": \"#E5ECF6\", \"gridcolor\": \"white\", \"gridwidth\": 2, \"linecolor\": \"white\", \"showbackground\": true, \"ticks\": \"\", \"zerolinecolor\": \"white\"}}, \"shapedefaults\": {\"line\": {\"color\": \"#2a3f5f\"}}, \"ternary\": {\"aaxis\": {\"gridcolor\": \"white\", \"linecolor\": \"white\", \"ticks\": \"\"}, \"baxis\": {\"gridcolor\": \"white\", \"linecolor\": \"white\", \"ticks\": \"\"}, \"bgcolor\": \"#E5ECF6\", \"caxis\": {\"gridcolor\": \"white\", \"linecolor\": \"white\", \"ticks\": \"\"}}, \"title\": {\"x\": 0.05}, \"xaxis\": {\"automargin\": true, \"gridcolor\": \"white\", \"linecolor\": \"white\", \"ticks\": \"\", \"title\": {\"standoff\": 15}, \"zerolinecolor\": \"white\", \"zerolinewidth\": 2}, \"yaxis\": {\"automargin\": true, \"gridcolor\": \"white\", \"linecolor\": \"white\", \"ticks\": \"\", \"title\": {\"standoff\": 15}, \"zerolinecolor\": \"white\", \"zerolinewidth\": 2}}}, \"title\": {\"text\": \"2014 Global GDP\"}},\n",
       "                        {\"responsive\": true}\n",
       "                    ).then(function(){\n",
       "                            \n",
       "var gd = document.getElementById('07aea053-a51a-4932-b49f-899716937a5e');\n",
       "var x = new MutationObserver(function (mutations, observer) {{\n",
       "        var display = window.getComputedStyle(gd).display;\n",
       "        if (!display || display === 'none') {{\n",
       "            console.log([gd, 'removed!']);\n",
       "            Plotly.purge(gd);\n",
       "            observer.disconnect();\n",
       "        }}\n",
       "}});\n",
       "\n",
       "// Listen for the removal of the full notebook cells\n",
       "var notebookContainer = gd.closest('#notebook-container');\n",
       "if (notebookContainer) {{\n",
       "    x.observe(notebookContainer, {childList: true});\n",
       "}}\n",
       "\n",
       "// Listen for the clearing of the current output cell\n",
       "var outputEl = gd.closest('.output');\n",
       "if (outputEl) {{\n",
       "    x.observe(outputEl, {childList: true});\n",
       "}}\n",
       "\n",
       "                        })\n",
       "                };\n",
       "                });\n",
       "            </script>\n",
       "        </div>"
      ]
     },
     "metadata": {},
     "output_type": "display_data"
    }
   ],
   "source": [
    "iplot(choromap3)"
   ]
  },
  {
   "cell_type": "code",
   "execution_count": null,
   "metadata": {},
   "outputs": [],
   "source": []
  }
 ],
 "metadata": {
  "kernelspec": {
   "display_name": "Python 3",
   "language": "python",
   "name": "python3"
  },
  "language_info": {
   "codemirror_mode": {
    "name": "ipython",
    "version": 3
   },
   "file_extension": ".py",
   "mimetype": "text/x-python",
   "name": "python",
   "nbconvert_exporter": "python",
   "pygments_lexer": "ipython3",
   "version": "3.7.4"
  }
 },
 "nbformat": 4,
 "nbformat_minor": 2
}
